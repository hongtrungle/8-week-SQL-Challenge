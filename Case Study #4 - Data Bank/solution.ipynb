{
    "metadata": {
        "kernelspec": {
            "name": "SQL",
            "display_name": "SQL",
            "language": "sql"
        },
        "language_info": {
            "name": "sql",
            "version": ""
        }
    },
    "nbformat_minor": 2,
    "nbformat": 4,
    "cells": [
        {
            "cell_type": "markdown",
            "source": [
                "### A. Customer Nodes Exploration \r\n",
                "---\r\n",
                "    1. How many unique nodes are there on the Data Bank system?"
            ],
            "metadata": {
                "azdata_cell_guid": "5f860123-5d78-4347-971c-8f0d5fb8cf89"
            },
            "attachments": {}
        },
        {
            "cell_type": "code",
            "source": [
                "SELECT COUNT(DISTINCT node_id) as num_nodes\r\n",
                "FROM customer_nodes"
            ],
            "metadata": {
                "azdata_cell_guid": "c19cb030-f64a-4594-8626-5c9b86f3e657",
                "language": "sql",
                "tags": []
            },
            "outputs": [
                {
                    "output_type": "display_data",
                    "data": {
                        "text/html": "(1 row affected)"
                    },
                    "metadata": {}
                },
                {
                    "output_type": "display_data",
                    "data": {
                        "text/html": "Total execution time: 00:00:00.012"
                    },
                    "metadata": {}
                },
                {
                    "output_type": "execute_result",
                    "metadata": {},
                    "execution_count": 1,
                    "data": {
                        "application/vnd.dataresource+json": {
                            "schema": {
                                "fields": [
                                    {
                                        "name": "num_nodes"
                                    }
                                ]
                            },
                            "data": [
                                {
                                    "0": "5"
                                }
                            ]
                        },
                        "text/html": [
                            "<table>",
                            "<tr><th>num_nodes</th></tr>",
                            "<tr><td>5</td></tr>",
                            "</table>"
                        ]
                    }
                }
            ],
            "execution_count": 1
        },
        {
            "cell_type": "markdown",
            "source": [
                "    2. What is the number of nodes per region?"
            ],
            "metadata": {
                "language": "sql",
                "azdata_cell_guid": "0d500491-73e0-42fd-9afd-689bc12eb489"
            },
            "attachments": {}
        },
        {
            "cell_type": "code",
            "source": [
                "SELECT\r\n",
                "    r.region_id,\r\n",
                "    region_name,\r\n",
                "    COUNT(node_id) as num_nods_per_region\r\n",
                "FROM customer_nodes c\r\n",
                "JOIN regions r ON r.region_id = c.region_id\r\n",
                "GROUP BY r.region_id, region_name \r\n",
                "ORDER BY region_id"
            ],
            "metadata": {
                "azdata_cell_guid": "ecf5767b-06aa-484a-9a73-19ccbc49374d",
                "language": "sql"
            },
            "outputs": [
                {
                    "output_type": "display_data",
                    "data": {
                        "text/html": "(5 rows affected)"
                    },
                    "metadata": {}
                },
                {
                    "output_type": "display_data",
                    "data": {
                        "text/html": "Total execution time: 00:00:00.021"
                    },
                    "metadata": {}
                },
                {
                    "output_type": "execute_result",
                    "metadata": {},
                    "execution_count": 2,
                    "data": {
                        "application/vnd.dataresource+json": {
                            "schema": {
                                "fields": [
                                    {
                                        "name": "region_id"
                                    },
                                    {
                                        "name": "region_name"
                                    },
                                    {
                                        "name": "num_nods_per_region"
                                    }
                                ]
                            },
                            "data": [
                                {
                                    "0": "1",
                                    "1": "Australia",
                                    "2": "770"
                                },
                                {
                                    "0": "2",
                                    "1": "America",
                                    "2": "735"
                                },
                                {
                                    "0": "3",
                                    "1": "Africa",
                                    "2": "714"
                                },
                                {
                                    "0": "4",
                                    "1": "Asia",
                                    "2": "665"
                                },
                                {
                                    "0": "5",
                                    "1": "Europe",
                                    "2": "616"
                                }
                            ]
                        },
                        "text/html": [
                            "<table>",
                            "<tr><th>region_id</th><th>region_name</th><th>num_nods_per_region</th></tr>",
                            "<tr><td>1</td><td>Australia</td><td>770</td></tr>",
                            "<tr><td>2</td><td>America</td><td>735</td></tr>",
                            "<tr><td>3</td><td>Africa</td><td>714</td></tr>",
                            "<tr><td>4</td><td>Asia</td><td>665</td></tr>",
                            "<tr><td>5</td><td>Europe</td><td>616</td></tr>",
                            "</table>"
                        ]
                    }
                }
            ],
            "execution_count": 2
        },
        {
            "cell_type": "markdown",
            "source": [
                "    3. How many customers are allocated to each region?"
            ],
            "metadata": {
                "azdata_cell_guid": "f3825597-db3a-4f00-a251-4b9599054894"
            },
            "attachments": {}
        },
        {
            "cell_type": "code",
            "source": [
                "SELECT\r\n",
                "    r.region_id,\r\n",
                "    region_name,\r\n",
                "    COUNT(DISTINCT customer_id) as num_cust_per_region\r\n",
                "FROM customer_nodes c\r\n",
                "JOIN regions r ON r.region_id = c.region_id\r\n",
                "GROUP BY r.region_id, region_name\r\n",
                "ORDER BY region_id"
            ],
            "metadata": {
                "azdata_cell_guid": "ae323598-d12d-470d-8f45-b1f17f4d14c4",
                "language": "sql"
            },
            "outputs": [
                {
                    "output_type": "display_data",
                    "data": {
                        "text/html": "(5 rows affected)"
                    },
                    "metadata": {}
                },
                {
                    "output_type": "display_data",
                    "data": {
                        "text/html": "Total execution time: 00:00:00.020"
                    },
                    "metadata": {}
                },
                {
                    "output_type": "execute_result",
                    "metadata": {},
                    "execution_count": 3,
                    "data": {
                        "application/vnd.dataresource+json": {
                            "schema": {
                                "fields": [
                                    {
                                        "name": "region_id"
                                    },
                                    {
                                        "name": "region_name"
                                    },
                                    {
                                        "name": "num_cust_per_region"
                                    }
                                ]
                            },
                            "data": [
                                {
                                    "0": "1",
                                    "1": "Australia",
                                    "2": "110"
                                },
                                {
                                    "0": "2",
                                    "1": "America",
                                    "2": "105"
                                },
                                {
                                    "0": "3",
                                    "1": "Africa",
                                    "2": "102"
                                },
                                {
                                    "0": "4",
                                    "1": "Asia",
                                    "2": "95"
                                },
                                {
                                    "0": "5",
                                    "1": "Europe",
                                    "2": "88"
                                }
                            ]
                        },
                        "text/html": [
                            "<table>",
                            "<tr><th>region_id</th><th>region_name</th><th>num_cust_per_region</th></tr>",
                            "<tr><td>1</td><td>Australia</td><td>110</td></tr>",
                            "<tr><td>2</td><td>America</td><td>105</td></tr>",
                            "<tr><td>3</td><td>Africa</td><td>102</td></tr>",
                            "<tr><td>4</td><td>Asia</td><td>95</td></tr>",
                            "<tr><td>5</td><td>Europe</td><td>88</td></tr>",
                            "</table>"
                        ]
                    }
                }
            ],
            "execution_count": 3
        },
        {
            "cell_type": "markdown",
            "source": [
                "    4. How many days on average are customers reallocated to a different node?"
            ],
            "metadata": {
                "azdata_cell_guid": "51aac888-c3e4-4671-b3ba-f627fc78de60"
            },
            "attachments": {}
        },
        {
            "cell_type": "code",
            "source": [
                "SELECT\r\n",
                "    AVG(DATEDIFF(DAY, start_date, end_date)) as avg_reallocation_day\r\n",
                "FROM customer_nodes\r\n",
                "WHERE end_date != '9999-12-31'"
            ],
            "metadata": {
                "azdata_cell_guid": "0367e161-8b94-4c2d-b764-fe95e51b55b9",
                "language": "sql"
            },
            "outputs": [
                {
                    "output_type": "display_data",
                    "data": {
                        "text/html": "(1 row affected)"
                    },
                    "metadata": {}
                },
                {
                    "output_type": "display_data",
                    "data": {
                        "text/html": "Total execution time: 00:00:00.008"
                    },
                    "metadata": {}
                },
                {
                    "output_type": "execute_result",
                    "metadata": {},
                    "execution_count": 4,
                    "data": {
                        "application/vnd.dataresource+json": {
                            "schema": {
                                "fields": [
                                    {
                                        "name": "avg_reallocation_day"
                                    }
                                ]
                            },
                            "data": [
                                {
                                    "0": "14"
                                }
                            ]
                        },
                        "text/html": [
                            "<table>",
                            "<tr><th>avg_reallocation_day</th></tr>",
                            "<tr><td>14</td></tr>",
                            "</table>"
                        ]
                    }
                }
            ],
            "execution_count": 4
        },
        {
            "cell_type": "markdown",
            "source": [
                "    5. What is the median, 80th and 95th percentile for this same reallocation days metric for each region?"
            ],
            "metadata": {
                "azdata_cell_guid": "3967bf41-91c2-4623-a97d-ee7a6f03a46e"
            },
            "attachments": {}
        },
        {
            "cell_type": "code",
            "source": [
                "WITH tbl as(\r\n",
                "    SELECT\r\n",
                "        r.region_id,\r\n",
                "        region_name,\r\n",
                "        DATEDIFF(DAY, start_date, end_date) as reallocation_day\r\n",
                "    FROM customer_nodes c\r\n",
                "    JOIN regions r ON r.region_id = c.region_id\r\n",
                "    WHERE end_date != '9999-12-31'\r\n",
                ")\r\n",
                "SELECT\r\n",
                "    DISTINCT region_id,\r\n",
                "    region_name,\r\n",
                "    PERCENTILE_DISC(0.5) WITHIN GROUP (ORDER BY reallocation_day) OVER(PARTITION BY region_id) as median,\r\n",
                "    PERCENTILE_DISC(0.8) WITHIN GROUP (ORDER BY reallocation_day) OVER(PARTITION BY region_id) as #80th_percentile,\r\n",
                "    PERCENTILE_DISC(0.95) WITHIN GROUP (ORDER BY reallocation_day) OVER(PARTITION BY region_id) as #95th_percentile\r\n",
                "FROM tbl\r\n",
                ""
            ],
            "metadata": {
                "azdata_cell_guid": "3cd0f718-9fee-4f7a-b8b0-0e3965354506",
                "language": "sql"
            },
            "outputs": [
                {
                    "output_type": "display_data",
                    "data": {
                        "text/html": "(5 rows affected)"
                    },
                    "metadata": {}
                },
                {
                    "output_type": "display_data",
                    "data": {
                        "text/html": "Total execution time: 00:00:01.603"
                    },
                    "metadata": {}
                },
                {
                    "output_type": "execute_result",
                    "metadata": {},
                    "execution_count": 5,
                    "data": {
                        "application/vnd.dataresource+json": {
                            "schema": {
                                "fields": [
                                    {
                                        "name": "region_id"
                                    },
                                    {
                                        "name": "region_name"
                                    },
                                    {
                                        "name": "median"
                                    },
                                    {
                                        "name": "#80th_percentile"
                                    },
                                    {
                                        "name": "#95th_percentile"
                                    }
                                ]
                            },
                            "data": [
                                {
                                    "0": "1",
                                    "1": "Australia",
                                    "2": "15",
                                    "3": "23",
                                    "4": "28"
                                },
                                {
                                    "0": "2",
                                    "1": "America",
                                    "2": "15",
                                    "3": "23",
                                    "4": "28"
                                },
                                {
                                    "0": "3",
                                    "1": "Africa",
                                    "2": "15",
                                    "3": "24",
                                    "4": "28"
                                },
                                {
                                    "0": "4",
                                    "1": "Asia",
                                    "2": "15",
                                    "3": "23",
                                    "4": "28"
                                },
                                {
                                    "0": "5",
                                    "1": "Europe",
                                    "2": "15",
                                    "3": "24",
                                    "4": "28"
                                }
                            ]
                        },
                        "text/html": [
                            "<table>",
                            "<tr><th>region_id</th><th>region_name</th><th>median</th><th>#80th_percentile</th><th>#95th_percentile</th></tr>",
                            "<tr><td>1</td><td>Australia</td><td>15</td><td>23</td><td>28</td></tr>",
                            "<tr><td>2</td><td>America</td><td>15</td><td>23</td><td>28</td></tr>",
                            "<tr><td>3</td><td>Africa</td><td>15</td><td>24</td><td>28</td></tr>",
                            "<tr><td>4</td><td>Asia</td><td>15</td><td>23</td><td>28</td></tr>",
                            "<tr><td>5</td><td>Europe</td><td>15</td><td>24</td><td>28</td></tr>",
                            "</table>"
                        ]
                    }
                }
            ],
            "execution_count": 5
        },
        {
            "cell_type": "markdown",
            "source": [
                "### B. Customer Transactions\r\n",
                "---\r\n",
                "    1. What is the unique count and total amount for each transaction type?"
            ],
            "metadata": {
                "azdata_cell_guid": "1b7693dc-fd57-4693-88f4-555f101fd997"
            },
            "attachments": {}
        },
        {
            "cell_type": "code",
            "source": [
                "SELECT\r\n",
                "    txn_type,\r\n",
                "    COUNT(txn_type) as total_transaction,\r\n",
                "    SUM(txn_amount) as total_amount\r\n",
                "FROM customer_transactions\r\n",
                "GROUP BY txn_type"
            ],
            "metadata": {
                "azdata_cell_guid": "d9f31fa5-32b4-4416-837e-dcfab7475d4a",
                "language": "sql"
            },
            "outputs": [
                {
                    "output_type": "display_data",
                    "data": {
                        "text/html": "(3 rows affected)"
                    },
                    "metadata": {}
                },
                {
                    "output_type": "display_data",
                    "data": {
                        "text/html": "Total execution time: 00:00:00.017"
                    },
                    "metadata": {}
                },
                {
                    "output_type": "execute_result",
                    "metadata": {},
                    "execution_count": 6,
                    "data": {
                        "application/vnd.dataresource+json": {
                            "schema": {
                                "fields": [
                                    {
                                        "name": "txn_type"
                                    },
                                    {
                                        "name": "total_transaction"
                                    },
                                    {
                                        "name": "total_amount"
                                    }
                                ]
                            },
                            "data": [
                                {
                                    "0": "withdrawal",
                                    "1": "1580",
                                    "2": "793003"
                                },
                                {
                                    "0": "deposit",
                                    "1": "2671",
                                    "2": "1359168"
                                },
                                {
                                    "0": "purchase",
                                    "1": "1617",
                                    "2": "806537"
                                }
                            ]
                        },
                        "text/html": [
                            "<table>",
                            "<tr><th>txn_type</th><th>total_transaction</th><th>total_amount</th></tr>",
                            "<tr><td>withdrawal</td><td>1580</td><td>793003</td></tr>",
                            "<tr><td>deposit</td><td>2671</td><td>1359168</td></tr>",
                            "<tr><td>purchase</td><td>1617</td><td>806537</td></tr>",
                            "</table>"
                        ]
                    }
                }
            ],
            "execution_count": 6
        },
        {
            "cell_type": "markdown",
            "source": [
                "    2. What is the average total historical deposit counts and amounts for all customers?"
            ],
            "metadata": {
                "azdata_cell_guid": "c0ab73b2-589b-4fff-8b11-a25e7a2f8196"
            },
            "attachments": {}
        },
        {
            "cell_type": "code",
            "source": [
                "WITH tbl as(\r\n",
                "    SELECT\r\n",
                "        customer_id,\r\n",
                "        COUNT(customer_id) as total_count,\r\n",
                "        SUM(txn_amount) as total_amount\r\n",
                "    FROM customer_transactions\r\n",
                "    WHERE txn_type = 'deposit'\r\n",
                "    GROUP BY customer_id\r\n",
                ")\r\n",
                "SELECT \r\n",
                "    AVG(total_count) as avg_historical_deposit_counts,\r\n",
                "    AVG(total_amount) as avg_historical_deposit_amount\r\n",
                "FROM tbl"
            ],
            "metadata": {
                "azdata_cell_guid": "1242a34c-e923-4be4-beff-6a35b6814605",
                "language": "sql"
            },
            "outputs": [
                {
                    "output_type": "display_data",
                    "data": {
                        "text/html": "(1 row affected)"
                    },
                    "metadata": {}
                },
                {
                    "output_type": "display_data",
                    "data": {
                        "text/html": "Total execution time: 00:00:00.018"
                    },
                    "metadata": {}
                },
                {
                    "output_type": "execute_result",
                    "metadata": {},
                    "execution_count": 7,
                    "data": {
                        "application/vnd.dataresource+json": {
                            "schema": {
                                "fields": [
                                    {
                                        "name": "avg_historical_deposit_counts"
                                    },
                                    {
                                        "name": "avg_historical_deposit_amount"
                                    }
                                ]
                            },
                            "data": [
                                {
                                    "0": "5",
                                    "1": "2718"
                                }
                            ]
                        },
                        "text/html": [
                            "<table>",
                            "<tr><th>avg_historical_deposit_counts</th><th>avg_historical_deposit_amount</th></tr>",
                            "<tr><td>5</td><td>2718</td></tr>",
                            "</table>"
                        ]
                    }
                }
            ],
            "execution_count": 7
        },
        {
            "cell_type": "markdown",
            "source": [
                "    3. For each month - how many Data Bank customers make more than 1 deposit and either 1 purchase or 1 withdrawal in a single month?"
            ],
            "metadata": {
                "azdata_cell_guid": "8d07fea3-b13a-40f8-b62e-3d3fe8410b48"
            },
            "attachments": {}
        },
        {
            "cell_type": "code",
            "source": [
                "WITH tbl AS (\r\n",
                "    SELECT customer_id, \r\n",
                "            datepart(month,txn_date) as month,\r\n",
                "            SUM(CASE WHEN txn_type ='deposit' then 1 else 0 end) as  deposit_time,\r\n",
                "            SUM(CASE WHEN txn_type ='purchase' then 1 else 0 end) as  purchase_time,\r\n",
                "            SUM(CASE WHEN txn_type ='withdrawal' then 1 else 0 end) as  withdrawal_time   \r\n",
                "    FROM customer_transactions\r\n",
                "    GROUP BY customer_id,datepart(month,txn_date)\r\n",
                ")\r\n",
                "SELECT\r\n",
                "    [month],\r\n",
                "    COUNT(*) as num_cust\r\n",
                "FROM tbl\r\n",
                "WHERE\r\n",
                "    deposit_time > 1 and (purchase_time = 1 or withdrawal_time = 1)\r\n",
                "GROUP BY [month]\r\n",
                ""
            ],
            "metadata": {
                "azdata_cell_guid": "e509764b-92ed-45a2-a840-15a96bb48417",
                "language": "sql"
            },
            "outputs": [
                {
                    "output_type": "display_data",
                    "data": {
                        "text/html": "(4 rows affected)"
                    },
                    "metadata": {}
                },
                {
                    "output_type": "display_data",
                    "data": {
                        "text/html": "Total execution time: 00:00:00.038"
                    },
                    "metadata": {}
                },
                {
                    "output_type": "execute_result",
                    "metadata": {},
                    "execution_count": 8,
                    "data": {
                        "application/vnd.dataresource+json": {
                            "schema": {
                                "fields": [
                                    {
                                        "name": "month"
                                    },
                                    {
                                        "name": "num_cust"
                                    }
                                ]
                            },
                            "data": [
                                {
                                    "0": "1",
                                    "1": "115"
                                },
                                {
                                    "0": "2",
                                    "1": "108"
                                },
                                {
                                    "0": "3",
                                    "1": "113"
                                },
                                {
                                    "0": "4",
                                    "1": "50"
                                }
                            ]
                        },
                        "text/html": [
                            "<table>",
                            "<tr><th>month</th><th>num_cust</th></tr>",
                            "<tr><td>1</td><td>115</td></tr>",
                            "<tr><td>2</td><td>108</td></tr>",
                            "<tr><td>3</td><td>113</td></tr>",
                            "<tr><td>4</td><td>50</td></tr>",
                            "</table>"
                        ]
                    }
                }
            ],
            "execution_count": 8
        },
        {
            "cell_type": "markdown",
            "source": [
                "    4. What is the closing balance for each customer at the end of the month? Also show the change in balance each month in the same table output."
            ],
            "metadata": {
                "azdata_cell_guid": "b2023d8c-fb49-44cc-8d41-966ed78a9f3d"
            },
            "attachments": {}
        },
        {
            "cell_type": "code",
            "source": [
                "WITH tbl as (\r\n",
                "    SELECT customer_id, \r\n",
                "            DATEPART(MONTH,txn_date) as month, \r\n",
                "            SUM(CASE WHEN txn_type ='deposit' then txn_amount else 0 end) as deposit,\r\n",
                "            SUM(CASE WHEN txn_type ='purchase' then - txn_amount else 0 end) as purchase ,\r\n",
                "            SUM(CASE WHEN txn_type ='withdrawal' then - txn_amount else 0 end)  as  withdrawal             \r\n",
                "    from customer_transactions\r\n",
                "    GROUP BY customer_id,DATEPART(MONTH,txn_date)\r\n",
                "),\r\n",
                "tbl2 AS (\r\n",
                "    SELECT \r\n",
                "        customer_id,\r\n",
                "        month,\r\n",
                "        (deposit +purchase +withdrawal) as total\r\n",
                "    FROM tbl\r\n",
                ")\r\n",
                "SELECT customer_id,\r\n",
                "        month,  \r\n",
                "        SUM(total) OVER (PARTITION BY customer_id ORDER BY customer_id,month) AS balance,\r\n",
                "        total AS change_in_balance \r\n",
                "FROM tbl2;"
            ],
            "metadata": {
                "azdata_cell_guid": "09480602-f003-4d82-b5e1-541e72adeb22",
                "language": "sql",
                "tags": []
            },
            "outputs": [
                {
                    "output_type": "display_data",
                    "data": {
                        "text/html": "(1720 rows affected)"
                    },
                    "metadata": {}
                },
                {
                    "output_type": "display_data",
                    "data": {
                        "text/html": "Total execution time: 00:00:00.066"
                    },
                    "metadata": {}
                },
                {
                    "output_type": "execute_result",
                    "metadata": {},
                    "execution_count": 9,
                    "data": {
                        "application/vnd.dataresource+json": {
                            "schema": {
                                "fields": [
                                    {
                                        "name": "customer_id"
                                    },
                                    {
                                        "name": "month"
                                    },
                                    {
                                        "name": "balance"
                                    },
                                    {
                                        "name": "change_in_balance"
                                    }
                                ]
                            },
                            "data": [
                                {
                                    "0": "1",
                                    "1": "1",
                                    "2": "312",
                                    "3": "312"
                                },
                                {
                                    "0": "1",
                                    "1": "3",
                                    "2": "-640",
                                    "3": "-952"
                                },
                                {
                                    "0": "2",
                                    "1": "1",
                                    "2": "549",
                                    "3": "549"
                                },
                                {
                                    "0": "2",
                                    "1": "3",
                                    "2": "610",
                                    "3": "61"
                                },
                                {
                                    "0": "3",
                                    "1": "1",
                                    "2": "144",
                                    "3": "144"
                                },
                                {
                                    "0": "3",
                                    "1": "2",
                                    "2": "-821",
                                    "3": "-965"
                                },
                                {
                                    "0": "3",
                                    "1": "3",
                                    "2": "-1222",
                                    "3": "-401"
                                },
                                {
                                    "0": "3",
                                    "1": "4",
                                    "2": "-729",
                                    "3": "493"
                                },
                                {
                                    "0": "4",
                                    "1": "1",
                                    "2": "848",
                                    "3": "848"
                                },
                                {
                                    "0": "4",
                                    "1": "3",
                                    "2": "655",
                                    "3": "-193"
                                },
                                {
                                    "0": "5",
                                    "1": "1",
                                    "2": "954",
                                    "3": "954"
                                },
                                {
                                    "0": "5",
                                    "1": "3",
                                    "2": "-1923",
                                    "3": "-2877"
                                },
                                {
                                    "0": "5",
                                    "1": "4",
                                    "2": "-2413",
                                    "3": "-490"
                                },
                                {
                                    "0": "6",
                                    "1": "1",
                                    "2": "733",
                                    "3": "733"
                                },
                                {
                                    "0": "6",
                                    "1": "2",
                                    "2": "-52",
                                    "3": "-785"
                                },
                                {
                                    "0": "6",
                                    "1": "3",
                                    "2": "340",
                                    "3": "392"
                                },
                                {
                                    "0": "7",
                                    "1": "1",
                                    "2": "964",
                                    "3": "964"
                                },
                                {
                                    "0": "7",
                                    "1": "2",
                                    "2": "3173",
                                    "3": "2209"
                                },
                                {
                                    "0": "7",
                                    "1": "3",
                                    "2": "2533",
                                    "3": "-640"
                                },
                                {
                                    "0": "7",
                                    "1": "4",
                                    "2": "2623",
                                    "3": "90"
                                },
                                {
                                    "0": "8",
                                    "1": "1",
                                    "2": "587",
                                    "3": "587"
                                },
                                {
                                    "0": "8",
                                    "1": "2",
                                    "2": "407",
                                    "3": "-180"
                                },
                                {
                                    "0": "8",
                                    "1": "3",
                                    "2": "-57",
                                    "3": "-464"
                                },
                                {
                                    "0": "8",
                                    "1": "4",
                                    "2": "-1029",
                                    "3": "-972"
                                },
                                {
                                    "0": "9",
                                    "1": "1",
                                    "2": "849",
                                    "3": "849"
                                },
                                {
                                    "0": "9",
                                    "1": "2",
                                    "2": "654",
                                    "3": "-195"
                                },
                                {
                                    "0": "9",
                                    "1": "3",
                                    "2": "1584",
                                    "3": "930"
                                },
                                {
                                    "0": "9",
                                    "1": "4",
                                    "2": "862",
                                    "3": "-722"
                                },
                                {
                                    "0": "10",
                                    "1": "1",
                                    "2": "-1622",
                                    "3": "-1622"
                                },
                                {
                                    "0": "10",
                                    "1": "2",
                                    "2": "-1342",
                                    "3": "280"
                                },
                                {
                                    "0": "10",
                                    "1": "3",
                                    "2": "-2753",
                                    "3": "-1411"
                                },
                                {
                                    "0": "10",
                                    "1": "4",
                                    "2": "-5090",
                                    "3": "-2337"
                                },
                                {
                                    "0": "11",
                                    "1": "1",
                                    "2": "-1744",
                                    "3": "-1744"
                                },
                                {
                                    "0": "11",
                                    "1": "2",
                                    "2": "-2469",
                                    "3": "-725"
                                },
                                {
                                    "0": "11",
                                    "1": "3",
                                    "2": "-2088",
                                    "3": "381"
                                },
                                {
                                    "0": "11",
                                    "1": "4",
                                    "2": "-2416",
                                    "3": "-328"
                                },
                                {
                                    "0": "12",
                                    "1": "1",
                                    "2": "92",
                                    "3": "92"
                                },
                                {
                                    "0": "12",
                                    "1": "3",
                                    "2": "295",
                                    "3": "203"
                                },
                                {
                                    "0": "13",
                                    "1": "1",
                                    "2": "780",
                                    "3": "780"
                                },
                                {
                                    "0": "13",
                                    "1": "2",
                                    "2": "1279",
                                    "3": "499"
                                },
                                {
                                    "0": "13",
                                    "1": "3",
                                    "2": "1405",
                                    "3": "126"
                                },
                                {
                                    "0": "14",
                                    "1": "1",
                                    "2": "205",
                                    "3": "205"
                                },
                                {
                                    "0": "14",
                                    "1": "2",
                                    "2": "821",
                                    "3": "616"
                                },
                                {
                                    "0": "14",
                                    "1": "4",
                                    "2": "989",
                                    "3": "168"
                                },
                                {
                                    "0": "15",
                                    "1": "1",
                                    "2": "379",
                                    "3": "379"
                                },
                                {
                                    "0": "15",
                                    "1": "4",
                                    "2": "1102",
                                    "3": "723"
                                },
                                {
                                    "0": "16",
                                    "1": "1",
                                    "2": "-1341",
                                    "3": "-1341"
                                },
                                {
                                    "0": "16",
                                    "1": "2",
                                    "2": "-2893",
                                    "3": "-1552"
                                },
                                {
                                    "0": "16",
                                    "1": "3",
                                    "2": "-4284",
                                    "3": "-1391"
                                },
                                {
                                    "0": "16",
                                    "1": "4",
                                    "2": "-3422",
                                    "3": "862"
                                },
                                {
                                    "0": "17",
                                    "1": "1",
                                    "2": "465",
                                    "3": "465"
                                },
                                {
                                    "0": "17",
                                    "1": "2",
                                    "2": "-892",
                                    "3": "-1357"
                                },
                                {
                                    "0": "18",
                                    "1": "1",
                                    "2": "757",
                                    "3": "757"
                                },
                                {
                                    "0": "18",
                                    "1": "2",
                                    "2": "-424",
                                    "3": "-1181"
                                },
                                {
                                    "0": "18",
                                    "1": "3",
                                    "2": "-842",
                                    "3": "-418"
                                },
                                {
                                    "0": "18",
                                    "1": "4",
                                    "2": "-815",
                                    "3": "27"
                                },
                                {
                                    "0": "19",
                                    "1": "1",
                                    "2": "-12",
                                    "3": "-12"
                                },
                                {
                                    "0": "19",
                                    "1": "2",
                                    "2": "-251",
                                    "3": "-239"
                                },
                                {
                                    "0": "19",
                                    "1": "3",
                                    "2": "-301",
                                    "3": "-50"
                                },
                                {
                                    "0": "19",
                                    "1": "4",
                                    "2": "42",
                                    "3": "343"
                                },
                                {
                                    "0": "20",
                                    "1": "1",
                                    "2": "465",
                                    "3": "465"
                                },
                                {
                                    "0": "20",
                                    "1": "2",
                                    "2": "519",
                                    "3": "54"
                                },
                                {
                                    "0": "20",
                                    "1": "3",
                                    "2": "776",
                                    "3": "257"
                                },
                                {
                                    "0": "21",
                                    "1": "1",
                                    "2": "-204",
                                    "3": "-204"
                                },
                                {
                                    "0": "21",
                                    "1": "2",
                                    "2": "-764",
                                    "3": "-560"
                                },
                                {
                                    "0": "21",
                                    "1": "3",
                                    "2": "-1874",
                                    "3": "-1110"
                                },
                                {
                                    "0": "21",
                                    "1": "4",
                                    "2": "-3253",
                                    "3": "-1379"
                                },
                                {
                                    "0": "22",
                                    "1": "1",
                                    "2": "235",
                                    "3": "235"
                                },
                                {
                                    "0": "22",
                                    "1": "2",
                                    "2": "-1039",
                                    "3": "-1274"
                                },
                                {
                                    "0": "22",
                                    "1": "3",
                                    "2": "-149",
                                    "3": "890"
                                },
                                {
                                    "0": "22",
                                    "1": "4",
                                    "2": "-1358",
                                    "3": "-1209"
                                },
                                {
                                    "0": "23",
                                    "1": "1",
                                    "2": "94",
                                    "3": "94"
                                },
                                {
                                    "0": "23",
                                    "1": "2",
                                    "2": "-314",
                                    "3": "-408"
                                },
                                {
                                    "0": "23",
                                    "1": "3",
                                    "2": "-156",
                                    "3": "158"
                                },
                                {
                                    "0": "23",
                                    "1": "4",
                                    "2": "-678",
                                    "3": "-522"
                                },
                                {
                                    "0": "24",
                                    "1": "1",
                                    "2": "615",
                                    "3": "615"
                                },
                                {
                                    "0": "24",
                                    "1": "2",
                                    "2": "813",
                                    "3": "198"
                                },
                                {
                                    "0": "24",
                                    "1": "3",
                                    "2": "254",
                                    "3": "-559"
                                },
                                {
                                    "0": "25",
                                    "1": "1",
                                    "2": "174",
                                    "3": "174"
                                },
                                {
                                    "0": "25",
                                    "1": "2",
                                    "2": "-400",
                                    "3": "-574"
                                },
                                {
                                    "0": "25",
                                    "1": "3",
                                    "2": "-1220",
                                    "3": "-820"
                                },
                                {
                                    "0": "25",
                                    "1": "4",
                                    "2": "-304",
                                    "3": "916"
                                },
                                {
                                    "0": "26",
                                    "1": "1",
                                    "2": "638",
                                    "3": "638"
                                },
                                {
                                    "0": "26",
                                    "1": "2",
                                    "2": "-31",
                                    "3": "-669"
                                },
                                {
                                    "0": "26",
                                    "1": "3",
                                    "2": "-622",
                                    "3": "-591"
                                },
                                {
                                    "0": "26",
                                    "1": "4",
                                    "2": "-1870",
                                    "3": "-1248"
                                },
                                {
                                    "0": "27",
                                    "1": "1",
                                    "2": "-1189",
                                    "3": "-1189"
                                },
                                {
                                    "0": "27",
                                    "1": "2",
                                    "2": "-713",
                                    "3": "476"
                                },
                                {
                                    "0": "27",
                                    "1": "3",
                                    "2": "-3116",
                                    "3": "-2403"
                                },
                                {
                                    "0": "28",
                                    "1": "1",
                                    "2": "451",
                                    "3": "451"
                                },
                                {
                                    "0": "28",
                                    "1": "2",
                                    "2": "-818",
                                    "3": "-1269"
                                },
                                {
                                    "0": "28",
                                    "1": "3",
                                    "2": "-1228",
                                    "3": "-410"
                                },
                                {
                                    "0": "28",
                                    "1": "4",
                                    "2": "272",
                                    "3": "1500"
                                },
                                {
                                    "0": "29",
                                    "1": "1",
                                    "2": "-138",
                                    "3": "-138"
                                },
                                {
                                    "0": "29",
                                    "1": "2",
                                    "2": "-76",
                                    "3": "62"
                                },
                                {
                                    "0": "29",
                                    "1": "3",
                                    "2": "831",
                                    "3": "907"
                                },
                                {
                                    "0": "29",
                                    "1": "4",
                                    "2": "-548",
                                    "3": "-1379"
                                },
                                {
                                    "0": "30",
                                    "1": "1",
                                    "2": "33",
                                    "3": "33"
                                },
                                {
                                    "0": "30",
                                    "1": "2",
                                    "2": "-431",
                                    "3": "-464"
                                },
                                {
                                    "0": "30",
                                    "1": "4",
                                    "2": "508",
                                    "3": "939"
                                },
                                {
                                    "0": "31",
                                    "1": "1",
                                    "2": "83",
                                    "3": "83"
                                },
                                {
                                    "0": "31",
                                    "1": "3",
                                    "2": "-141",
                                    "3": "-224"
                                },
                                {
                                    "0": "32",
                                    "1": "1",
                                    "2": "-89",
                                    "3": "-89"
                                },
                                {
                                    "0": "32",
                                    "1": "2",
                                    "2": "376",
                                    "3": "465"
                                },
                                {
                                    "0": "32",
                                    "1": "3",
                                    "2": "-843",
                                    "3": "-1219"
                                },
                                {
                                    "0": "32",
                                    "1": "4",
                                    "2": "-1001",
                                    "3": "-158"
                                },
                                {
                                    "0": "33",
                                    "1": "1",
                                    "2": "473",
                                    "3": "473"
                                },
                                {
                                    "0": "33",
                                    "1": "2",
                                    "2": "-116",
                                    "3": "-589"
                                },
                                {
                                    "0": "33",
                                    "1": "3",
                                    "2": "1225",
                                    "3": "1341"
                                },
                                {
                                    "0": "33",
                                    "1": "4",
                                    "2": "989",
                                    "3": "-236"
                                },
                                {
                                    "0": "34",
                                    "1": "1",
                                    "2": "976",
                                    "3": "976"
                                },
                                {
                                    "0": "34",
                                    "1": "2",
                                    "2": "-347",
                                    "3": "-1323"
                                },
                                {
                                    "0": "34",
                                    "1": "3",
                                    "2": "-185",
                                    "3": "162"
                                },
                                {
                                    "0": "35",
                                    "1": "1",
                                    "2": "507",
                                    "3": "507"
                                },
                                {
                                    "0": "35",
                                    "1": "2",
                                    "2": "-821",
                                    "3": "-1328"
                                },
                                {
                                    "0": "35",
                                    "1": "3",
                                    "2": "-1163",
                                    "3": "-342"
                                },
                                {
                                    "0": "36",
                                    "1": "1",
                                    "2": "149",
                                    "3": "149"
                                },
                                {
                                    "0": "36",
                                    "1": "2",
                                    "2": "290",
                                    "3": "141"
                                },
                                {
                                    "0": "36",
                                    "1": "3",
                                    "2": "1041",
                                    "3": "751"
                                },
                                {
                                    "0": "36",
                                    "1": "4",
                                    "2": "427",
                                    "3": "-614"
                                },
                                {
                                    "0": "37",
                                    "1": "1",
                                    "2": "85",
                                    "3": "85"
                                },
                                {
                                    "0": "37",
                                    "1": "2",
                                    "2": "902",
                                    "3": "817"
                                },
                                {
                                    "0": "37",
                                    "1": "3",
                                    "2": "-1069",
                                    "3": "-1971"
                                },
                                {
                                    "0": "37",
                                    "1": "4",
                                    "2": "-959",
                                    "3": "110"
                                },
                                {
                                    "0": "38",
                                    "1": "1",
                                    "2": "367",
                                    "3": "367"
                                },
                                {
                                    "0": "38",
                                    "1": "2",
                                    "2": "-465",
                                    "3": "-832"
                                },
                                {
                                    "0": "38",
                                    "1": "3",
                                    "2": "-798",
                                    "3": "-333"
                                },
                                {
                                    "0": "38",
                                    "1": "4",
                                    "2": "-1246",
                                    "3": "-448"
                                },
                                {
                                    "0": "39",
                                    "1": "1",
                                    "2": "1429",
                                    "3": "1429"
                                },
                                {
                                    "0": "39",
                                    "1": "2",
                                    "2": "2388",
                                    "3": "959"
                                },
                                {
                                    "0": "39",
                                    "1": "3",
                                    "2": "2460",
                                    "3": "72"
                                },
                                {
                                    "0": "39",
                                    "1": "4",
                                    "2": "2516",
                                    "3": "56"
                                },
                                {
                                    "0": "40",
                                    "1": "1",
                                    "2": "347",
                                    "3": "347"
                                },
                                {
                                    "0": "40",
                                    "1": "2",
                                    "2": "295",
                                    "3": "-52"
                                },
                                {
                                    "0": "40",
                                    "1": "3",
                                    "2": "659",
                                    "3": "364"
                                },
                                {
                                    "0": "40",
                                    "1": "4",
                                    "2": "-208",
                                    "3": "-867"
                                },
                                {
                                    "0": "41",
                                    "1": "1",
                                    "2": "-46",
                                    "3": "-46"
                                },
                                {
                                    "0": "41",
                                    "1": "2",
                                    "2": "1379",
                                    "3": "1425"
                                },
                                {
                                    "0": "41",
                                    "1": "3",
                                    "2": "3441",
                                    "3": "2062"
                                },
                                {
                                    "0": "41",
                                    "1": "4",
                                    "2": "2525",
                                    "3": "-916"
                                },
                                {
                                    "0": "42",
                                    "1": "1",
                                    "2": "447",
                                    "3": "447"
                                },
                                {
                                    "0": "42",
                                    "1": "2",
                                    "2": "1067",
                                    "3": "620"
                                },
                                {
                                    "0": "42",
                                    "1": "3",
                                    "2": "-887",
                                    "3": "-1954"
                                },
                                {
                                    "0": "42",
                                    "1": "4",
                                    "2": "-1886",
                                    "3": "-999"
                                },
                                {
                                    "0": "43",
                                    "1": "1",
                                    "2": "-201",
                                    "3": "-201"
                                },
                                {
                                    "0": "43",
                                    "1": "2",
                                    "2": "-406",
                                    "3": "-205"
                                },
                                {
                                    "0": "43",
                                    "1": "3",
                                    "2": "869",
                                    "3": "1275"
                                },
                                {
                                    "0": "43",
                                    "1": "4",
                                    "2": "545",
                                    "3": "-324"
                                },
                                {
                                    "0": "44",
                                    "1": "1",
                                    "2": "-690",
                                    "3": "-690"
                                },
                                {
                                    "0": "44",
                                    "1": "2",
                                    "2": "-19",
                                    "3": "671"
                                },
                                {
                                    "0": "44",
                                    "1": "4",
                                    "2": "-339",
                                    "3": "-320"
                                },
                                {
                                    "0": "45",
                                    "1": "1",
                                    "2": "940",
                                    "3": "940"
                                },
                                {
                                    "0": "45",
                                    "1": "2",
                                    "2": "-1152",
                                    "3": "-2092"
                                },
                                {
                                    "0": "45",
                                    "1": "3",
                                    "2": "584",
                                    "3": "1736"
                                },
                                {
                                    "0": "46",
                                    "1": "1",
                                    "2": "522",
                                    "3": "522"
                                },
                                {
                                    "0": "46",
                                    "1": "2",
                                    "2": "1388",
                                    "3": "866"
                                },
                                {
                                    "0": "46",
                                    "1": "3",
                                    "2": "80",
                                    "3": "-1308"
                                },
                                {
                                    "0": "46",
                                    "1": "4",
                                    "2": "104",
                                    "3": "24"
                                },
                                {
                                    "0": "47",
                                    "1": "1",
                                    "2": "-1153",
                                    "3": "-1153"
                                },
                                {
                                    "0": "47",
                                    "1": "2",
                                    "2": "-1283",
                                    "3": "-130"
                                },
                                {
                                    "0": "47",
                                    "1": "3",
                                    "2": "-2862",
                                    "3": "-1579"
                                },
                                {
                                    "0": "47",
                                    "1": "4",
                                    "2": "-3169",
                                    "3": "-307"
                                },
                                {
                                    "0": "48",
                                    "1": "1",
                                    "2": "-2368",
                                    "3": "-2368"
                                },
                                {
                                    "0": "48",
                                    "1": "2",
                                    "2": "-2972",
                                    "3": "-604"
                                },
                                {
                                    "0": "48",
                                    "1": "3",
                                    "2": "-3745",
                                    "3": "-773"
                                },
                                {
                                    "0": "49",
                                    "1": "1",
                                    "2": "-397",
                                    "3": "-397"
                                },
                                {
                                    "0": "49",
                                    "1": "2",
                                    "2": "-594",
                                    "3": "-197"
                                },
                                {
                                    "0": "49",
                                    "1": "3",
                                    "2": "-2556",
                                    "3": "-1962"
                                },
                                {
                                    "0": "50",
                                    "1": "1",
                                    "2": "931",
                                    "3": "931"
                                },
                                {
                                    "0": "50",
                                    "1": "2",
                                    "2": "-674",
                                    "3": "-1605"
                                },
                                {
                                    "0": "50",
                                    "1": "3",
                                    "2": "275",
                                    "3": "949"
                                },
                                {
                                    "0": "50",
                                    "1": "4",
                                    "2": "450",
                                    "3": "175"
                                },
                                {
                                    "0": "51",
                                    "1": "1",
                                    "2": "301",
                                    "3": "301"
                                },
                                {
                                    "0": "51",
                                    "1": "2",
                                    "2": "-97",
                                    "3": "-398"
                                },
                                {
                                    "0": "51",
                                    "1": "3",
                                    "2": "779",
                                    "3": "876"
                                },
                                {
                                    "0": "51",
                                    "1": "4",
                                    "2": "1364",
                                    "3": "585"
                                },
                                {
                                    "0": "52",
                                    "1": "1",
                                    "2": "1140",
                                    "3": "1140"
                                },
                                {
                                    "0": "52",
                                    "1": "2",
                                    "2": "2612",
                                    "3": "1472"
                                },
                                {
                                    "0": "53",
                                    "1": "1",
                                    "2": "22",
                                    "3": "22"
                                },
                                {
                                    "0": "53",
                                    "1": "2",
                                    "2": "210",
                                    "3": "188"
                                },
                                {
                                    "0": "53",
                                    "1": "3",
                                    "2": "-728",
                                    "3": "-938"
                                },
                                {
                                    "0": "53",
                                    "1": "4",
                                    "2": "227",
                                    "3": "955"
                                },
                                {
                                    "0": "54",
                                    "1": "1",
                                    "2": "1658",
                                    "3": "1658"
                                },
                                {
                                    "0": "54",
                                    "1": "2",
                                    "2": "1629",
                                    "3": "-29"
                                },
                                {
                                    "0": "54",
                                    "1": "3",
                                    "2": "533",
                                    "3": "-1096"
                                },
                                {
                                    "0": "54",
                                    "1": "4",
                                    "2": "968",
                                    "3": "435"
                                },
                                {
                                    "0": "55",
                                    "1": "1",
                                    "2": "380",
                                    "3": "380"
                                },
                                {
                                    "0": "55",
                                    "1": "2",
                                    "2": "-410",
                                    "3": "-790"
                                },
                                {
                                    "0": "55",
                                    "1": "3",
                                    "2": "349",
                                    "3": "759"
                                },
                                {
                                    "0": "55",
                                    "1": "4",
                                    "2": "-513",
                                    "3": "-862"
                                },
                                {
                                    "0": "56",
                                    "1": "1",
                                    "2": "-67",
                                    "3": "-67"
                                },
                                {
                                    "0": "56",
                                    "1": "2",
                                    "2": "-1646",
                                    "3": "-1579"
                                },
                                {
                                    "0": "56",
                                    "1": "3",
                                    "2": "-2075",
                                    "3": "-429"
                                },
                                {
                                    "0": "56",
                                    "1": "4",
                                    "2": "-3866",
                                    "3": "-1791"
                                },
                                {
                                    "0": "57",
                                    "1": "1",
                                    "2": "414",
                                    "3": "414"
                                },
                                {
                                    "0": "57",
                                    "1": "2",
                                    "2": "-101",
                                    "3": "-515"
                                },
                                {
                                    "0": "57",
                                    "1": "3",
                                    "2": "-866",
                                    "3": "-765"
                                },
                                {
                                    "0": "58",
                                    "1": "1",
                                    "2": "383",
                                    "3": "383"
                                },
                                {
                                    "0": "58",
                                    "1": "2",
                                    "2": "1697",
                                    "3": "1314"
                                },
                                {
                                    "0": "58",
                                    "1": "3",
                                    "2": "-1196",
                                    "3": "-2893"
                                },
                                {
                                    "0": "58",
                                    "1": "4",
                                    "2": "-635",
                                    "3": "561"
                                },
                                {
                                    "0": "59",
                                    "1": "1",
                                    "2": "924",
                                    "3": "924"
                                },
                                {
                                    "0": "59",
                                    "1": "2",
                                    "2": "2190",
                                    "3": "1266"
                                },
                                {
                                    "0": "59",
                                    "1": "3",
                                    "2": "1652",
                                    "3": "-538"
                                },
                                {
                                    "0": "59",
                                    "1": "4",
                                    "2": "798",
                                    "3": "-854"
                                },
                                {
                                    "0": "60",
                                    "1": "1",
                                    "2": "-189",
                                    "3": "-189"
                                },
                                {
                                    "0": "60",
                                    "1": "2",
                                    "2": "668",
                                    "3": "857"
                                },
                                {
                                    "0": "60",
                                    "1": "3",
                                    "2": "-745",
                                    "3": "-1413"
                                },
                                {
                                    "0": "60",
                                    "1": "4",
                                    "2": "-1169",
                                    "3": "-424"
                                },
                                {
                                    "0": "61",
                                    "1": "1",
                                    "2": "222",
                                    "3": "222"
                                },
                                {
                                    "0": "61",
                                    "1": "2",
                                    "2": "323",
                                    "3": "101"
                                },
                                {
                                    "0": "61",
                                    "1": "3",
                                    "2": "-1710",
                                    "3": "-2033"
                                },
                                {
                                    "0": "61",
                                    "1": "4",
                                    "2": "-2237",
                                    "3": "-527"
                                },
                                {
                                    "0": "62",
                                    "1": "1",
                                    "2": "-212",
                                    "3": "-212"
                                },
                                {
                                    "0": "62",
                                    "1": "3",
                                    "2": "-763",
                                    "3": "-551"
                                },
                                {
                                    "0": "63",
                                    "1": "1",
                                    "2": "-332",
                                    "3": "-332"
                                },
                                {
                                    "0": "63",
                                    "1": "2",
                                    "2": "-953",
                                    "3": "-621"
                                },
                                {
                                    "0": "63",
                                    "1": "3",
                                    "2": "-3946",
                                    "3": "-2993"
                                },
                                {
                                    "0": "64",
                                    "1": "1",
                                    "2": "2332",
                                    "3": "2332"
                                },
                                {
                                    "0": "64",
                                    "1": "2",
                                    "2": "1554",
                                    "3": "-778"
                                },
                                {
                                    "0": "64",
                                    "1": "3",
                                    "2": "245",
                                    "3": "-1309"
                                },
                                {
                                    "0": "65",
                                    "1": "1",
                                    "2": "25",
                                    "3": "25"
                                },
                                {
                                    "0": "65",
                                    "1": "3",
                                    "2": "-450",
                                    "3": "-475"
                                },
                                {
                                    "0": "65",
                                    "1": "4",
                                    "2": "-1381",
                                    "3": "-931"
                                },
                                {
                                    "0": "66",
                                    "1": "1",
                                    "2": "1971",
                                    "3": "1971"
                                },
                                {
                                    "0": "66",
                                    "1": "2",
                                    "2": "1492",
                                    "3": "-479"
                                },
                                {
                                    "0": "66",
                                    "1": "3",
                                    "2": "-517",
                                    "3": "-2009"
                                },
                                {
                                    "0": "67",
                                    "1": "1",
                                    "2": "1593",
                                    "3": "1593"
                                },
                                {
                                    "0": "67",
                                    "1": "2",
                                    "2": "2565",
                                    "3": "972"
                                },
                                {
                                    "0": "67",
                                    "1": "3",
                                    "2": "2050",
                                    "3": "-515"
                                },
                                {
                                    "0": "67",
                                    "1": "4",
                                    "2": "1222",
                                    "3": "-828"
                                },
                                {
                                    "0": "68",
                                    "1": "1",
                                    "2": "574",
                                    "3": "574"
                                },
                                {
                                    "0": "68",
                                    "1": "2",
                                    "2": "278",
                                    "3": "-296"
                                },
                                {
                                    "0": "68",
                                    "1": "3",
                                    "2": "-456",
                                    "3": "-734"
                                },
                                {
                                    "0": "69",
                                    "1": "1",
                                    "2": "23",
                                    "3": "23"
                                },
                                {
                                    "0": "69",
                                    "1": "2",
                                    "2": "-1944",
                                    "3": "-1967"
                                },
                                {
                                    "0": "69",
                                    "1": "3",
                                    "2": "-2338",
                                    "3": "-394"
                                },
                                {
                                    "0": "69",
                                    "1": "4",
                                    "2": "-3085",
                                    "3": "-747"
                                },
                                {
                                    "0": "70",
                                    "1": "1",
                                    "2": "-584",
                                    "3": "-584"
                                },
                                {
                                    "0": "70",
                                    "1": "2",
                                    "2": "-63",
                                    "3": "521"
                                },
                                {
                                    "0": "70",
                                    "1": "3",
                                    "2": "-1814",
                                    "3": "-1751"
                                },
                                {
                                    "0": "71",
                                    "1": "1",
                                    "2": "128",
                                    "3": "128"
                                },
                                {
                                    "0": "71",
                                    "1": "2",
                                    "2": "-673",
                                    "3": "-801"
                                },
                                {
                                    "0": "71",
                                    "1": "3",
                                    "2": "-1265",
                                    "3": "-592"
                                },
                                {
                                    "0": "72",
                                    "1": "1",
                                    "2": "796",
                                    "3": "796"
                                },
                                {
                                    "0": "72",
                                    "1": "2",
                                    "2": "-803",
                                    "3": "-1599"
                                },
                                {
                                    "0": "72",
                                    "1": "3",
                                    "2": "-1680",
                                    "3": "-877"
                                },
                                {
                                    "0": "72",
                                    "1": "4",
                                    "2": "-2327",
                                    "3": "-647"
                                },
                                {
                                    "0": "73",
                                    "1": "1",
                                    "2": "513",
                                    "3": "513"
                                },
                                {
                                    "0": "74",
                                    "1": "1",
                                    "2": "229",
                                    "3": "229"
                                },
                                {
                                    "0": "74",
                                    "1": "3",
                                    "2": "318",
                                    "3": "89"
                                },
                                {
                                    "0": "75",
                                    "1": "1",
                                    "2": "234",
                                    "3": "234"
                                },
                                {
                                    "0": "75",
                                    "1": "2",
                                    "2": "294",
                                    "3": "60"
                                },
                                {
                                    "0": "76",
                                    "1": "1",
                                    "2": "925",
                                    "3": "925"
                                },
                                {
                                    "0": "76",
                                    "1": "2",
                                    "2": "2081",
                                    "3": "1156"
                                },
                                {
                                    "0": "76",
                                    "1": "3",
                                    "2": "435",
                                    "3": "-1646"
                                },
                                {
                                    "0": "77",
                                    "1": "1",
                                    "2": "120",
                                    "3": "120"
                                },
                                {
                                    "0": "77",
                                    "1": "2",
                                    "2": "501",
                                    "3": "381"
                                },
                                {
                                    "0": "77",
                                    "1": "3",
                                    "2": "797",
                                    "3": "296"
                                },
                                {
                                    "0": "78",
                                    "1": "1",
                                    "2": "694",
                                    "3": "694"
                                },
                                {
                                    "0": "78",
                                    "1": "2",
                                    "2": "-762",
                                    "3": "-1456"
                                },
                                {
                                    "0": "78",
                                    "1": "3",
                                    "2": "-717",
                                    "3": "45"
                                },
                                {
                                    "0": "78",
                                    "1": "4",
                                    "2": "-976",
                                    "3": "-259"
                                },
                                {
                                    "0": "79",
                                    "1": "1",
                                    "2": "521",
                                    "3": "521"
                                },
                                {
                                    "0": "79",
                                    "1": "2",
                                    "2": "1380",
                                    "3": "859"
                                },
                                {
                                    "0": "80",
                                    "1": "1",
                                    "2": "795",
                                    "3": "795"
                                },
                                {
                                    "0": "80",
                                    "1": "2",
                                    "2": "1190",
                                    "3": "395"
                                },
                                {
                                    "0": "80",
                                    "1": "3",
                                    "2": "622",
                                    "3": "-568"
                                },
                                {
                                    "0": "80",
                                    "1": "4",
                                    "2": "199",
                                    "3": "-423"
                                },
                                {
                                    "0": "81",
                                    "1": "1",
                                    "2": "403",
                                    "3": "403"
                                },
                                {
                                    "0": "81",
                                    "1": "2",
                                    "2": "-957",
                                    "3": "-1360"
                                },
                                {
                                    "0": "81",
                                    "1": "3",
                                    "2": "-1106",
                                    "3": "-149"
                                },
                                {
                                    "0": "81",
                                    "1": "4",
                                    "2": "-1984",
                                    "3": "-878"
                                },
                                {
                                    "0": "82",
                                    "1": "1",
                                    "2": "-3912",
                                    "3": "-3912"
                                },
                                {
                                    "0": "82",
                                    "1": "2",
                                    "2": "-3986",
                                    "3": "-74"
                                },
                                {
                                    "0": "82",
                                    "1": "3",
                                    "2": "-3249",
                                    "3": "737"
                                },
                                {
                                    "0": "82",
                                    "1": "4",
                                    "2": "-4614",
                                    "3": "-1365"
                                },
                                {
                                    "0": "83",
                                    "1": "1",
                                    "2": "1099",
                                    "3": "1099"
                                },
                                {
                                    "0": "83",
                                    "1": "2",
                                    "2": "-692",
                                    "3": "-1791"
                                },
                                {
                                    "0": "83",
                                    "1": "3",
                                    "2": "-742",
                                    "3": "-50"
                                },
                                {
                                    "0": "83",
                                    "1": "4",
                                    "2": "-377",
                                    "3": "365"
                                },
                                {
                                    "0": "84",
                                    "1": "1",
                                    "2": "968",
                                    "3": "968"
                                },
                                {
                                    "0": "84",
                                    "1": "3",
                                    "2": "609",
                                    "3": "-359"
                                },
                                {
                                    "0": "85",
                                    "1": "1",
                                    "2": "467",
                                    "3": "467"
                                },
                                {
                                    "0": "85",
                                    "1": "3",
                                    "2": "1076",
                                    "3": "609"
                                },
                                {
                                    "0": "85",
                                    "1": "4",
                                    "2": "646",
                                    "3": "-430"
                                },
                                {
                                    "0": "86",
                                    "1": "1",
                                    "2": "872",
                                    "3": "872"
                                },
                                {
                                    "0": "86",
                                    "1": "2",
                                    "2": "-504",
                                    "3": "-1376"
                                },
                                {
                                    "0": "86",
                                    "1": "3",
                                    "2": "93",
                                    "3": "597"
                                },
                                {
                                    "0": "87",
                                    "1": "1",
                                    "2": "-365",
                                    "3": "-365"
                                },
                                {
                                    "0": "87",
                                    "1": "2",
                                    "2": "-1366",
                                    "3": "-1001"
                                },
                                {
                                    "0": "87",
                                    "1": "3",
                                    "2": "-1563",
                                    "3": "-197"
                                },
                                {
                                    "0": "87",
                                    "1": "4",
                                    "2": "-1195",
                                    "3": "368"
                                },
                                {
                                    "0": "88",
                                    "1": "1",
                                    "2": "-35",
                                    "3": "-35"
                                },
                                {
                                    "0": "88",
                                    "1": "2",
                                    "2": "752",
                                    "3": "787"
                                },
                                {
                                    "0": "88",
                                    "1": "3",
                                    "2": "-736",
                                    "3": "-1488"
                                },
                                {
                                    "0": "88",
                                    "1": "4",
                                    "2": "-820",
                                    "3": "-84"
                                },
                                {
                                    "0": "89",
                                    "1": "1",
                                    "2": "210",
                                    "3": "210"
                                },
                                {
                                    "0": "89",
                                    "1": "2",
                                    "2": "-1679",
                                    "3": "-1889"
                                },
                                {
                                    "0": "89",
                                    "1": "3",
                                    "2": "-2653",
                                    "3": "-974"
                                },
                                {
                                    "0": "89",
                                    "1": "4",
                                    "2": "-3147",
                                    "3": "-494"
                                },
                                {
                                    "0": "90",
                                    "1": "1",
                                    "2": "1772",
                                    "3": "1772"
                                },
                                {
                                    "0": "90",
                                    "1": "2",
                                    "2": "-1235",
                                    "3": "-3007"
                                },
                                {
                                    "0": "90",
                                    "1": "3",
                                    "2": "-1624",
                                    "3": "-389"
                                },
                                {
                                    "0": "90",
                                    "1": "4",
                                    "2": "-1846",
                                    "3": "-222"
                                },
                                {
                                    "0": "91",
                                    "1": "1",
                                    "2": "-47",
                                    "3": "-47"
                                },
                                {
                                    "0": "91",
                                    "1": "2",
                                    "2": "-959",
                                    "3": "-912"
                                },
                                {
                                    "0": "91",
                                    "1": "3",
                                    "2": "-2660",
                                    "3": "-1701"
                                },
                                {
                                    "0": "91",
                                    "1": "4",
                                    "2": "-2495",
                                    "3": "165"
                                },
                                {
                                    "0": "92",
                                    "1": "1",
                                    "2": "985",
                                    "3": "985"
                                },
                                {
                                    "0": "92",
                                    "1": "3",
                                    "2": "142",
                                    "3": "-843"
                                },
                                {
                                    "0": "93",
                                    "1": "1",
                                    "2": "399",
                                    "3": "399"
                                },
                                {
                                    "0": "93",
                                    "1": "2",
                                    "2": "1103",
                                    "3": "704"
                                },
                                {
                                    "0": "93",
                                    "1": "3",
                                    "2": "1186",
                                    "3": "83"
                                },
                                {
                                    "0": "93",
                                    "1": "4",
                                    "2": "968",
                                    "3": "-218"
                                },
                                {
                                    "0": "94",
                                    "1": "1",
                                    "2": "-766",
                                    "3": "-766"
                                },
                                {
                                    "0": "94",
                                    "1": "2",
                                    "2": "-1496",
                                    "3": "-730"
                                },
                                {
                                    "0": "94",
                                    "1": "3",
                                    "2": "-1542",
                                    "3": "-46"
                                },
                                {
                                    "0": "95",
                                    "1": "1",
                                    "2": "217",
                                    "3": "217"
                                },
                                {
                                    "0": "95",
                                    "1": "2",
                                    "2": "960",
                                    "3": "743"
                                },
                                {
                                    "0": "95",
                                    "1": "3",
                                    "2": "1446",
                                    "3": "486"
                                },
                                {
                                    "0": "96",
                                    "1": "1",
                                    "2": "1048",
                                    "3": "1048"
                                },
                                {
                                    "0": "96",
                                    "1": "2",
                                    "2": "1537",
                                    "3": "489"
                                },
                                {
                                    "0": "96",
                                    "1": "3",
                                    "2": "942",
                                    "3": "-595"
                                },
                                {
                                    "0": "97",
                                    "1": "1",
                                    "2": "623",
                                    "3": "623"
                                },
                                {
                                    "0": "97",
                                    "1": "2",
                                    "2": "-240",
                                    "3": "-863"
                                },
                                {
                                    "0": "97",
                                    "1": "3",
                                    "2": "-2483",
                                    "3": "-2243"
                                },
                                {
                                    "0": "98",
                                    "1": "1",
                                    "2": "622",
                                    "3": "622"
                                },
                                {
                                    "0": "98",
                                    "1": "2",
                                    "2": "287",
                                    "3": "-335"
                                },
                                {
                                    "0": "98",
                                    "1": "3",
                                    "2": "-95",
                                    "3": "-382"
                                },
                                {
                                    "0": "98",
                                    "1": "4",
                                    "2": "750",
                                    "3": "845"
                                },
                                {
                                    "0": "99",
                                    "1": "1",
                                    "2": "949",
                                    "3": "949"
                                },
                                {
                                    "0": "99",
                                    "1": "2",
                                    "2": "760",
                                    "3": "-189"
                                },
                                {
                                    "0": "99",
                                    "1": "3",
                                    "2": "737",
                                    "3": "-23"
                                },
                                {
                                    "0": "100",
                                    "1": "1",
                                    "2": "1081",
                                    "3": "1081"
                                },
                                {
                                    "0": "100",
                                    "1": "2",
                                    "2": "-497",
                                    "3": "-1578"
                                },
                                {
                                    "0": "100",
                                    "1": "3",
                                    "2": "-1451",
                                    "3": "-954"
                                },
                                {
                                    "0": "101",
                                    "1": "1",
                                    "2": "-484",
                                    "3": "-484"
                                },
                                {
                                    "0": "101",
                                    "1": "2",
                                    "2": "-1324",
                                    "3": "-840"
                                },
                                {
                                    "0": "101",
                                    "1": "3",
                                    "2": "-2673",
                                    "3": "-1349"
                                },
                                {
                                    "0": "102",
                                    "1": "1",
                                    "2": "917",
                                    "3": "917"
                                },
                                {
                                    "0": "102",
                                    "1": "2",
                                    "2": "1428",
                                    "3": "511"
                                },
                                {
                                    "0": "102",
                                    "1": "3",
                                    "2": "1865",
                                    "3": "437"
                                },
                                {
                                    "0": "102",
                                    "1": "4",
                                    "2": "646",
                                    "3": "-1219"
                                },
                                {
                                    "0": "103",
                                    "1": "1",
                                    "2": "240",
                                    "3": "240"
                                },
                                {
                                    "0": "103",
                                    "1": "2",
                                    "2": "-850",
                                    "3": "-1090"
                                },
                                {
                                    "0": "103",
                                    "1": "3",
                                    "2": "-2257",
                                    "3": "-1407"
                                },
                                {
                                    "0": "104",
                                    "1": "1",
                                    "2": "615",
                                    "3": "615"
                                },
                                {
                                    "0": "104",
                                    "1": "2",
                                    "2": "1087",
                                    "3": "472"
                                },
                                {
                                    "0": "104",
                                    "1": "3",
                                    "2": "1190",
                                    "3": "103"
                                },
                                {
                                    "0": "105",
                                    "1": "1",
                                    "2": "1014",
                                    "3": "1014"
                                },
                                {
                                    "0": "105",
                                    "1": "2",
                                    "2": "166",
                                    "3": "-848"
                                },
                                {
                                    "0": "105",
                                    "1": "3",
                                    "2": "27",
                                    "3": "-139"
                                },
                                {
                                    "0": "105",
                                    "1": "4",
                                    "2": "-186",
                                    "3": "-213"
                                },
                                {
                                    "0": "106",
                                    "1": "1",
                                    "2": "-109",
                                    "3": "-109"
                                },
                                {
                                    "0": "106",
                                    "1": "2",
                                    "2": "846",
                                    "3": "955"
                                },
                                {
                                    "0": "106",
                                    "1": "3",
                                    "2": "-111",
                                    "3": "-957"
                                },
                                {
                                    "0": "106",
                                    "1": "4",
                                    "2": "-1462",
                                    "3": "-1351"
                                },
                                {
                                    "0": "107",
                                    "1": "1",
                                    "2": "-144",
                                    "3": "-144"
                                },
                                {
                                    "0": "107",
                                    "1": "2",
                                    "2": "-690",
                                    "3": "-546"
                                },
                                {
                                    "0": "108",
                                    "1": "1",
                                    "2": "530",
                                    "3": "530"
                                },
                                {
                                    "0": "108",
                                    "1": "2",
                                    "2": "738",
                                    "3": "208"
                                },
                                {
                                    "0": "108",
                                    "1": "3",
                                    "2": "1546",
                                    "3": "808"
                                },
                                {
                                    "0": "108",
                                    "1": "4",
                                    "2": "2680",
                                    "3": "1134"
                                },
                                {
                                    "0": "109",
                                    "1": "1",
                                    "2": "429",
                                    "3": "429"
                                },
                                {
                                    "0": "109",
                                    "1": "2",
                                    "2": "2491",
                                    "3": "2062"
                                },
                                {
                                    "0": "110",
                                    "1": "1",
                                    "2": "1258",
                                    "3": "1258"
                                },
                                {
                                    "0": "110",
                                    "1": "2",
                                    "2": "1198",
                                    "3": "-60"
                                },
                                {
                                    "0": "110",
                                    "1": "3",
                                    "2": "2233",
                                    "3": "1035"
                                },
                                {
                                    "0": "111",
                                    "1": "1",
                                    "2": "101",
                                    "3": "101"
                                },
                                {
                                    "0": "111",
                                    "1": "2",
                                    "2": "463",
                                    "3": "362"
                                },
                                {
                                    "0": "111",
                                    "1": "3",
                                    "2": "99",
                                    "3": "-364"
                                },
                                {
                                    "0": "112",
                                    "1": "1",
                                    "2": "945",
                                    "3": "945"
                                },
                                {
                                    "0": "112",
                                    "1": "2",
                                    "2": "893",
                                    "3": "-52"
                                },
                                {
                                    "0": "112",
                                    "1": "3",
                                    "2": "-116",
                                    "3": "-1009"
                                },
                                {
                                    "0": "113",
                                    "1": "1",
                                    "2": "-511",
                                    "3": "-511"
                                },
                                {
                                    "0": "113",
                                    "1": "2",
                                    "2": "62",
                                    "3": "573"
                                },
                                {
                                    "0": "113",
                                    "1": "3",
                                    "2": "12",
                                    "3": "-50"
                                },
                                {
                                    "0": "113",
                                    "1": "4",
                                    "2": "-1140",
                                    "3": "-1152"
                                },
                                {
                                    "0": "114",
                                    "1": "1",
                                    "2": "743",
                                    "3": "743"
                                },
                                {
                                    "0": "114",
                                    "1": "3",
                                    "2": "169",
                                    "3": "-574"
                                },
                                {
                                    "0": "114",
                                    "1": "4",
                                    "2": "1143",
                                    "3": "974"
                                },
                                {
                                    "0": "115",
                                    "1": "1",
                                    "2": "144",
                                    "3": "144"
                                },
                                {
                                    "0": "115",
                                    "1": "2",
                                    "2": "-845",
                                    "3": "-989"
                                },
                                {
                                    "0": "115",
                                    "1": "3",
                                    "2": "884",
                                    "3": "1729"
                                },
                                {
                                    "0": "115",
                                    "1": "4",
                                    "2": "-41",
                                    "3": "-925"
                                },
                                {
                                    "0": "116",
                                    "1": "1",
                                    "2": "167",
                                    "3": "167"
                                },
                                {
                                    "0": "116",
                                    "1": "2",
                                    "2": "53",
                                    "3": "-114"
                                },
                                {
                                    "0": "116",
                                    "1": "3",
                                    "2": "543",
                                    "3": "490"
                                },
                                {
                                    "0": "116",
                                    "1": "4",
                                    "2": "330",
                                    "3": "-213"
                                },
                                {
                                    "0": "117",
                                    "1": "1",
                                    "2": "-25",
                                    "3": "-25"
                                },
                                {
                                    "0": "117",
                                    "1": "2",
                                    "2": "-216",
                                    "3": "-191"
                                },
                                {
                                    "0": "117",
                                    "1": "3",
                                    "2": "-706",
                                    "3": "-490"
                                },
                                {
                                    "0": "118",
                                    "1": "1",
                                    "2": "-683",
                                    "3": "-683"
                                },
                                {
                                    "0": "118",
                                    "1": "2",
                                    "2": "-513",
                                    "3": "170"
                                },
                                {
                                    "0": "118",
                                    "1": "3",
                                    "2": "-1427",
                                    "3": "-914"
                                },
                                {
                                    "0": "119",
                                    "1": "1",
                                    "2": "62",
                                    "3": "62"
                                },
                                {
                                    "0": "119",
                                    "1": "3",
                                    "2": "-907",
                                    "3": "-969"
                                },
                                {
                                    "0": "119",
                                    "1": "4",
                                    "2": "-490",
                                    "3": "417"
                                },
                                {
                                    "0": "120",
                                    "1": "1",
                                    "2": "824",
                                    "3": "824"
                                },
                                {
                                    "0": "120",
                                    "1": "2",
                                    "2": "1913",
                                    "3": "1089"
                                },
                                {
                                    "0": "120",
                                    "1": "3",
                                    "2": "-900",
                                    "3": "-2813"
                                },
                                {
                                    "0": "120",
                                    "1": "4",
                                    "2": "-1465",
                                    "3": "-565"
                                },
                                {
                                    "0": "121",
                                    "1": "1",
                                    "2": "1992",
                                    "3": "1992"
                                },
                                {
                                    "0": "121",
                                    "1": "2",
                                    "2": "1296",
                                    "3": "-696"
                                },
                                {
                                    "0": "121",
                                    "1": "3",
                                    "2": "-425",
                                    "3": "-1721"
                                },
                                {
                                    "0": "122",
                                    "1": "1",
                                    "2": "314",
                                    "3": "314"
                                },
                                {
                                    "0": "122",
                                    "1": "2",
                                    "2": "252",
                                    "3": "-62"
                                },
                                {
                                    "0": "122",
                                    "1": "3",
                                    "2": "1347",
                                    "3": "1095"
                                },
                                {
                                    "0": "122",
                                    "1": "4",
                                    "2": "1066",
                                    "3": "-281"
                                },
                                {
                                    "0": "123",
                                    "1": "1",
                                    "2": "-717",
                                    "3": "-717"
                                },
                                {
                                    "0": "123",
                                    "1": "2",
                                    "2": "-2277",
                                    "3": "-1560"
                                },
                                {
                                    "0": "123",
                                    "1": "3",
                                    "2": "-1584",
                                    "3": "693"
                                },
                                {
                                    "0": "123",
                                    "1": "4",
                                    "2": "-2128",
                                    "3": "-544"
                                },
                                {
                                    "0": "124",
                                    "1": "1",
                                    "2": "731",
                                    "3": "731"
                                },
                                {
                                    "0": "124",
                                    "1": "2",
                                    "2": "1878",
                                    "3": "1147"
                                },
                                {
                                    "0": "124",
                                    "1": "3",
                                    "2": "1301",
                                    "3": "-577"
                                },
                                {
                                    "0": "125",
                                    "1": "1",
                                    "2": "-791",
                                    "3": "-791"
                                },
                                {
                                    "0": "125",
                                    "1": "2",
                                    "2": "-2479",
                                    "3": "-1688"
                                },
                                {
                                    "0": "125",
                                    "1": "3",
                                    "2": "-2436",
                                    "3": "43"
                                },
                                {
                                    "0": "126",
                                    "1": "1",
                                    "2": "-786",
                                    "3": "-786"
                                },
                                {
                                    "0": "126",
                                    "1": "2",
                                    "2": "-716",
                                    "3": "70"
                                },
                                {
                                    "0": "126",
                                    "1": "3",
                                    "2": "-2822",
                                    "3": "-2106"
                                },
                                {
                                    "0": "127",
                                    "1": "1",
                                    "2": "217",
                                    "3": "217"
                                },
                                {
                                    "0": "127",
                                    "1": "2",
                                    "2": "703",
                                    "3": "486"
                                },
                                {
                                    "0": "127",
                                    "1": "4",
                                    "2": "1672",
                                    "3": "969"
                                },
                                {
                                    "0": "128",
                                    "1": "1",
                                    "2": "410",
                                    "3": "410"
                                },
                                {
                                    "0": "128",
                                    "1": "2",
                                    "2": "144",
                                    "3": "-266"
                                },
                                {
                                    "0": "128",
                                    "1": "3",
                                    "2": "-776",
                                    "3": "-920"
                                },
                                {
                                    "0": "128",
                                    "1": "4",
                                    "2": "-202",
                                    "3": "574"
                                },
                                {
                                    "0": "129",
                                    "1": "1",
                                    "2": "466",
                                    "3": "466"
                                },
                                {
                                    "0": "129",
                                    "1": "2",
                                    "2": "-796",
                                    "3": "-1262"
                                },
                                {
                                    "0": "129",
                                    "1": "3",
                                    "2": "68",
                                    "3": "864"
                                },
                                {
                                    "0": "129",
                                    "1": "4",
                                    "2": "-2007",
                                    "3": "-2075"
                                },
                                {
                                    "0": "130",
                                    "1": "1",
                                    "2": "-248",
                                    "3": "-248"
                                },
                                {
                                    "0": "130",
                                    "1": "2",
                                    "2": "-1160",
                                    "3": "-912"
                                },
                                {
                                    "0": "130",
                                    "1": "3",
                                    "2": "132",
                                    "3": "1292"
                                },
                                {
                                    "0": "131",
                                    "1": "1",
                                    "2": "480",
                                    "3": "480"
                                },
                                {
                                    "0": "131",
                                    "1": "2",
                                    "2": "-983",
                                    "3": "-1463"
                                },
                                {
                                    "0": "131",
                                    "1": "3",
                                    "2": "-152",
                                    "3": "831"
                                },
                                {
                                    "0": "132",
                                    "1": "1",
                                    "2": "-1254",
                                    "3": "-1254"
                                },
                                {
                                    "0": "132",
                                    "1": "2",
                                    "2": "-2844",
                                    "3": "-1590"
                                },
                                {
                                    "0": "132",
                                    "1": "3",
                                    "2": "-5256",
                                    "3": "-2412"
                                },
                                {
                                    "0": "132",
                                    "1": "4",
                                    "2": "-5585",
                                    "3": "-329"
                                },
                                {
                                    "0": "133",
                                    "1": "1",
                                    "2": "-356",
                                    "3": "-356"
                                },
                                {
                                    "0": "133",
                                    "1": "2",
                                    "2": "-368",
                                    "3": "-12"
                                },
                                {
                                    "0": "134",
                                    "1": "1",
                                    "2": "3194",
                                    "3": "3194"
                                },
                                {
                                    "0": "134",
                                    "1": "2",
                                    "2": "2748",
                                    "3": "-446"
                                },
                                {
                                    "0": "134",
                                    "1": "3",
                                    "2": "1768",
                                    "3": "-980"
                                },
                                {
                                    "0": "135",
                                    "1": "1",
                                    "2": "104",
                                    "3": "104"
                                },
                                {
                                    "0": "135",
                                    "1": "2",
                                    "2": "977",
                                    "3": "873"
                                },
                                {
                                    "0": "135",
                                    "1": "3",
                                    "2": "1001",
                                    "3": "24"
                                },
                                {
                                    "0": "136",
                                    "1": "1",
                                    "2": "479",
                                    "3": "479"
                                },
                                {
                                    "0": "136",
                                    "1": "2",
                                    "2": "966",
                                    "3": "487"
                                },
                                {
                                    "0": "136",
                                    "1": "3",
                                    "2": "383",
                                    "3": "-583"
                                },
                                {
                                    "0": "136",
                                    "1": "4",
                                    "2": "-133",
                                    "3": "-516"
                                },
                                {
                                    "0": "137",
                                    "1": "1",
                                    "2": "396",
                                    "3": "396"
                                },
                                {
                                    "0": "137",
                                    "1": "2",
                                    "2": "-356",
                                    "3": "-752"
                                },
                                {
                                    "0": "138",
                                    "1": "1",
                                    "2": "1316",
                                    "3": "1316"
                                },
                                {
                                    "0": "138",
                                    "1": "2",
                                    "2": "320",
                                    "3": "-996"
                                },
                                {
                                    "0": "138",
                                    "1": "3",
                                    "2": "75",
                                    "3": "-245"
                                },
                                {
                                    "0": "138",
                                    "1": "4",
                                    "2": "-775",
                                    "3": "-850"
                                },
                                {
                                    "0": "139",
                                    "1": "1",
                                    "2": "44",
                                    "3": "44"
                                },
                                {
                                    "0": "139",
                                    "1": "2",
                                    "2": "504",
                                    "3": "460"
                                },
                                {
                                    "0": "139",
                                    "1": "3",
                                    "2": "537",
                                    "3": "33"
                                },
                                {
                                    "0": "140",
                                    "1": "1",
                                    "2": "803",
                                    "3": "803"
                                },
                                {
                                    "0": "140",
                                    "1": "2",
                                    "2": "1526",
                                    "3": "723"
                                },
                                {
                                    "0": "140",
                                    "1": "3",
                                    "2": "2345",
                                    "3": "819"
                                },
                                {
                                    "0": "140",
                                    "1": "4",
                                    "2": "1495",
                                    "3": "-850"
                                },
                                {
                                    "0": "141",
                                    "1": "1",
                                    "2": "-369",
                                    "3": "-369"
                                },
                                {
                                    "0": "141",
                                    "1": "2",
                                    "2": "1483",
                                    "3": "1852"
                                },
                                {
                                    "0": "141",
                                    "1": "3",
                                    "2": "2113",
                                    "3": "630"
                                },
                                {
                                    "0": "141",
                                    "1": "4",
                                    "2": "2538",
                                    "3": "425"
                                },
                                {
                                    "0": "142",
                                    "1": "1",
                                    "2": "1378",
                                    "3": "1378"
                                },
                                {
                                    "0": "142",
                                    "1": "2",
                                    "2": "440",
                                    "3": "-938"
                                },
                                {
                                    "0": "142",
                                    "1": "3",
                                    "2": "217",
                                    "3": "-223"
                                },
                                {
                                    "0": "142",
                                    "1": "4",
                                    "2": "863",
                                    "3": "646"
                                },
                                {
                                    "0": "143",
                                    "1": "1",
                                    "2": "807",
                                    "3": "807"
                                },
                                {
                                    "0": "143",
                                    "1": "2",
                                    "2": "1625",
                                    "3": "818"
                                },
                                {
                                    "0": "143",
                                    "1": "3",
                                    "2": "26",
                                    "3": "-1599"
                                },
                                {
                                    "0": "143",
                                    "1": "4",
                                    "2": "-2457",
                                    "3": "-2483"
                                },
                                {
                                    "0": "144",
                                    "1": "1",
                                    "2": "-735",
                                    "3": "-735"
                                },
                                {
                                    "0": "144",
                                    "1": "2",
                                    "2": "-3280",
                                    "3": "-2545"
                                },
                                {
                                    "0": "144",
                                    "1": "3",
                                    "2": "-3046",
                                    "3": "234"
                                },
                                {
                                    "0": "144",
                                    "1": "4",
                                    "2": "-4395",
                                    "3": "-1349"
                                },
                                {
                                    "0": "145",
                                    "1": "1",
                                    "2": "-3051",
                                    "3": "-3051"
                                },
                                {
                                    "0": "145",
                                    "1": "2",
                                    "2": "-1970",
                                    "3": "1081"
                                },
                                {
                                    "0": "145",
                                    "1": "3",
                                    "2": "-4119",
                                    "3": "-2149"
                                },
                                {
                                    "0": "146",
                                    "1": "1",
                                    "2": "-807",
                                    "3": "-807"
                                },
                                {
                                    "0": "146",
                                    "1": "2",
                                    "2": "-3267",
                                    "3": "-2460"
                                },
                                {
                                    "0": "146",
                                    "1": "3",
                                    "2": "-3781",
                                    "3": "-514"
                                },
                                {
                                    "0": "146",
                                    "1": "4",
                                    "2": "-3717",
                                    "3": "64"
                                },
                                {
                                    "0": "147",
                                    "1": "1",
                                    "2": "600",
                                    "3": "600"
                                },
                                {
                                    "0": "147",
                                    "1": "2",
                                    "2": "1698",
                                    "3": "1098"
                                },
                                {
                                    "0": "148",
                                    "1": "1",
                                    "2": "88",
                                    "3": "88"
                                },
                                {
                                    "0": "148",
                                    "1": "2",
                                    "2": "-2467",
                                    "3": "-2555"
                                },
                                {
                                    "0": "148",
                                    "1": "3",
                                    "2": "-2076",
                                    "3": "391"
                                },
                                {
                                    "0": "148",
                                    "1": "4",
                                    "2": "-2730",
                                    "3": "-654"
                                },
                                {
                                    "0": "149",
                                    "1": "1",
                                    "2": "344",
                                    "3": "344"
                                },
                                {
                                    "0": "149",
                                    "1": "2",
                                    "2": "321",
                                    "3": "-23"
                                },
                                {
                                    "0": "149",
                                    "1": "3",
                                    "2": "-202",
                                    "3": "-523"
                                },
                                {
                                    "0": "150",
                                    "1": "1",
                                    "2": "-600",
                                    "3": "-600"
                                },
                                {
                                    "0": "150",
                                    "1": "2",
                                    "2": "-1512",
                                    "3": "-912"
                                },
                                {
                                    "0": "150",
                                    "1": "3",
                                    "2": "-1604",
                                    "3": "-92"
                                },
                                {
                                    "0": "150",
                                    "1": "4",
                                    "2": "-2429",
                                    "3": "-825"
                                },
                                {
                                    "0": "151",
                                    "1": "1",
                                    "2": "1367",
                                    "3": "1367"
                                },
                                {
                                    "0": "151",
                                    "1": "2",
                                    "2": "5",
                                    "3": "-1362"
                                },
                                {
                                    "0": "151",
                                    "1": "3",
                                    "2": "-887",
                                    "3": "-892"
                                },
                                {
                                    "0": "152",
                                    "1": "1",
                                    "2": "1831",
                                    "3": "1831"
                                },
                                {
                                    "0": "152",
                                    "1": "2",
                                    "2": "1902",
                                    "3": "71"
                                },
                                {
                                    "0": "152",
                                    "1": "3",
                                    "2": "1984",
                                    "3": "82"
                                },
                                {
                                    "0": "153",
                                    "1": "1",
                                    "2": "-1954",
                                    "3": "-1954"
                                },
                                {
                                    "0": "153",
                                    "1": "2",
                                    "2": "-776",
                                    "3": "1178"
                                },
                                {
                                    "0": "153",
                                    "1": "3",
                                    "2": "-1695",
                                    "3": "-919"
                                },
                                {
                                    "0": "154",
                                    "1": "1",
                                    "2": "-1392",
                                    "3": "-1392"
                                },
                                {
                                    "0": "154",
                                    "1": "2",
                                    "2": "-2340",
                                    "3": "-948"
                                },
                                {
                                    "0": "154",
                                    "1": "3",
                                    "2": "-2104",
                                    "3": "236"
                                },
                                {
                                    "0": "154",
                                    "1": "4",
                                    "2": "-2555",
                                    "3": "-451"
                                },
                                {
                                    "0": "155",
                                    "1": "1",
                                    "2": "-996",
                                    "3": "-996"
                                },
                                {
                                    "0": "155",
                                    "1": "2",
                                    "2": "-2941",
                                    "3": "-1945"
                                },
                                {
                                    "0": "155",
                                    "1": "3",
                                    "2": "-3377",
                                    "3": "-436"
                                },
                                {
                                    "0": "155",
                                    "1": "4",
                                    "2": "-4530",
                                    "3": "-1153"
                                },
                                {
                                    "0": "156",
                                    "1": "1",
                                    "2": "82",
                                    "3": "82"
                                },
                                {
                                    "0": "156",
                                    "1": "4",
                                    "2": "312",
                                    "3": "230"
                                },
                                {
                                    "0": "157",
                                    "1": "1",
                                    "2": "138",
                                    "3": "138"
                                },
                                {
                                    "0": "157",
                                    "1": "2",
                                    "2": "-611",
                                    "3": "-749"
                                },
                                {
                                    "0": "157",
                                    "1": "3",
                                    "2": "2766",
                                    "3": "3377"
                                },
                                {
                                    "0": "158",
                                    "1": "1",
                                    "2": "56",
                                    "3": "56"
                                },
                                {
                                    "0": "158",
                                    "1": "2",
                                    "2": "-136",
                                    "3": "-192"
                                },
                                {
                                    "0": "158",
                                    "1": "3",
                                    "2": "-1106",
                                    "3": "-970"
                                },
                                {
                                    "0": "159",
                                    "1": "1",
                                    "2": "-301",
                                    "3": "-301"
                                },
                                {
                                    "0": "160",
                                    "1": "1",
                                    "2": "843",
                                    "3": "843"
                                },
                                {
                                    "0": "160",
                                    "1": "2",
                                    "2": "543",
                                    "3": "-300"
                                },
                                {
                                    "0": "160",
                                    "1": "3",
                                    "2": "-69",
                                    "3": "-612"
                                },
                                {
                                    "0": "160",
                                    "1": "4",
                                    "2": "-307",
                                    "3": "-238"
                                },
                                {
                                    "0": "161",
                                    "1": "1",
                                    "2": "-1121",
                                    "3": "-1121"
                                },
                                {
                                    "0": "161",
                                    "1": "2",
                                    "2": "-961",
                                    "3": "160"
                                },
                                {
                                    "0": "161",
                                    "1": "3",
                                    "2": "-291",
                                    "3": "670"
                                },
                                {
                                    "0": "162",
                                    "1": "1",
                                    "2": "123",
                                    "3": "123"
                                },
                                {
                                    "0": "162",
                                    "1": "2",
                                    "2": "784",
                                    "3": "661"
                                },
                                {
                                    "0": "163",
                                    "1": "1",
                                    "2": "-73",
                                    "3": "-73"
                                },
                                {
                                    "0": "163",
                                    "1": "2",
                                    "2": "-328",
                                    "3": "-255"
                                },
                                {
                                    "0": "163",
                                    "1": "3",
                                    "2": "-3116",
                                    "3": "-2788"
                                },
                                {
                                    "0": "163",
                                    "1": "4",
                                    "2": "-3055",
                                    "3": "61"
                                },
                                {
                                    "0": "164",
                                    "1": "1",
                                    "2": "548",
                                    "3": "548"
                                },
                                {
                                    "0": "164",
                                    "1": "2",
                                    "2": "957",
                                    "3": "409"
                                },
                                {
                                    "0": "165",
                                    "1": "1",
                                    "2": "-61",
                                    "3": "-61"
                                },
                                {
                                    "0": "165",
                                    "1": "2",
                                    "2": "-1088",
                                    "3": "-1027"
                                },
                                {
                                    "0": "165",
                                    "1": "3",
                                    "2": "-3701",
                                    "3": "-2613"
                                },
                                {
                                    "0": "165",
                                    "1": "4",
                                    "2": "-3931",
                                    "3": "-230"
                                },
                                {
                                    "0": "166",
                                    "1": "1",
                                    "2": "957",
                                    "3": "957"
                                },
                                {
                                    "0": "166",
                                    "1": "2",
                                    "2": "1546",
                                    "3": "589"
                                },
                                {
                                    "0": "166",
                                    "1": "3",
                                    "2": "1303",
                                    "3": "-243"
                                },
                                {
                                    "0": "166",
                                    "1": "4",
                                    "2": "1783",
                                    "3": "480"
                                },
                                {
                                    "0": "167",
                                    "1": "1",
                                    "2": "51",
                                    "3": "51"
                                },
                                {
                                    "0": "167",
                                    "1": "2",
                                    "2": "574",
                                    "3": "523"
                                },
                                {
                                    "0": "167",
                                    "1": "3",
                                    "2": "-566",
                                    "3": "-1140"
                                },
                                {
                                    "0": "167",
                                    "1": "4",
                                    "2": "-748",
                                    "3": "-182"
                                },
                                {
                                    "0": "168",
                                    "1": "1",
                                    "2": "114",
                                    "3": "114"
                                },
                                {
                                    "0": "168",
                                    "1": "2",
                                    "2": "-801",
                                    "3": "-915"
                                },
                                {
                                    "0": "169",
                                    "1": "1",
                                    "2": "-569",
                                    "3": "-569"
                                },
                                {
                                    "0": "169",
                                    "1": "2",
                                    "2": "-1190",
                                    "3": "-621"
                                },
                                {
                                    "0": "169",
                                    "1": "3",
                                    "2": "9",
                                    "3": "1199"
                                },
                                {
                                    "0": "169",
                                    "1": "4",
                                    "2": "906",
                                    "3": "897"
                                },
                                {
                                    "0": "170",
                                    "1": "1",
                                    "2": "-38",
                                    "3": "-38"
                                },
                                {
                                    "0": "170",
                                    "1": "2",
                                    "2": "-373",
                                    "3": "-335"
                                },
                                {
                                    "0": "170",
                                    "1": "3",
                                    "2": "-137",
                                    "3": "236"
                                },
                                {
                                    "0": "170",
                                    "1": "4",
                                    "2": "-850",
                                    "3": "-713"
                                },
                                {
                                    "0": "171",
                                    "1": "1",
                                    "2": "-197",
                                    "3": "-197"
                                },
                                {
                                    "0": "171",
                                    "1": "2",
                                    "2": "-1400",
                                    "3": "-1203"
                                },
                                {
                                    "0": "171",
                                    "1": "3",
                                    "2": "-1921",
                                    "3": "-521"
                                },
                                {
                                    "0": "171",
                                    "1": "4",
                                    "2": "-911",
                                    "3": "1010"
                                },
                                {
                                    "0": "172",
                                    "1": "1",
                                    "2": "-174",
                                    "3": "-174"
                                },
                                {
                                    "0": "172",
                                    "1": "3",
                                    "2": "-1038",
                                    "3": "-864"
                                },
                                {
                                    "0": "173",
                                    "1": "1",
                                    "2": "1298",
                                    "3": "1298"
                                },
                                {
                                    "0": "173",
                                    "1": "2",
                                    "2": "1398",
                                    "3": "100"
                                },
                                {
                                    "0": "173",
                                    "1": "3",
                                    "2": "912",
                                    "3": "-486"
                                },
                                {
                                    "0": "173",
                                    "1": "4",
                                    "2": "121",
                                    "3": "-791"
                                },
                                {
                                    "0": "174",
                                    "1": "1",
                                    "2": "1142",
                                    "3": "1142"
                                },
                                {
                                    "0": "174",
                                    "1": "2",
                                    "2": "-98",
                                    "3": "-1240"
                                },
                                {
                                    "0": "174",
                                    "1": "3",
                                    "2": "-1135",
                                    "3": "-1037"
                                },
                                {
                                    "0": "174",
                                    "1": "4",
                                    "2": "644",
                                    "3": "1779"
                                },
                                {
                                    "0": "175",
                                    "1": "1",
                                    "2": "-326",
                                    "3": "-326"
                                },
                                {
                                    "0": "175",
                                    "1": "2",
                                    "2": "-755",
                                    "3": "-429"
                                },
                                {
                                    "0": "175",
                                    "1": "3",
                                    "2": "-1822",
                                    "3": "-1067"
                                },
                                {
                                    "0": "175",
                                    "1": "4",
                                    "2": "-1549",
                                    "3": "273"
                                },
                                {
                                    "0": "176",
                                    "1": "1",
                                    "2": "655",
                                    "3": "655"
                                },
                                {
                                    "0": "176",
                                    "1": "2",
                                    "2": "605",
                                    "3": "-50"
                                },
                                {
                                    "0": "176",
                                    "1": "3",
                                    "2": "-531",
                                    "3": "-1136"
                                },
                                {
                                    "0": "176",
                                    "1": "4",
                                    "2": "-1067",
                                    "3": "-536"
                                },
                                {
                                    "0": "177",
                                    "1": "1",
                                    "2": "405",
                                    "3": "405"
                                },
                                {
                                    "0": "177",
                                    "1": "2",
                                    "2": "-156",
                                    "3": "-561"
                                },
                                {
                                    "0": "177",
                                    "1": "3",
                                    "2": "800",
                                    "3": "956"
                                },
                                {
                                    "0": "177",
                                    "1": "4",
                                    "2": "-974",
                                    "3": "-1774"
                                },
                                {
                                    "0": "178",
                                    "1": "1",
                                    "2": "252",
                                    "3": "252"
                                },
                                {
                                    "0": "178",
                                    "1": "2",
                                    "2": "387",
                                    "3": "135"
                                },
                                {
                                    "0": "178",
                                    "1": "3",
                                    "2": "390",
                                    "3": "3"
                                },
                                {
                                    "0": "178",
                                    "1": "4",
                                    "2": "-1983",
                                    "3": "-2373"
                                },
                                {
                                    "0": "179",
                                    "1": "1",
                                    "2": "-1754",
                                    "3": "-1754"
                                },
                                {
                                    "0": "179",
                                    "1": "2",
                                    "2": "-3386",
                                    "3": "-1632"
                                },
                                {
                                    "0": "179",
                                    "1": "3",
                                    "2": "-7953",
                                    "3": "-4567"
                                },
                                {
                                    "0": "180",
                                    "1": "1",
                                    "2": "-838",
                                    "3": "-838"
                                },
                                {
                                    "0": "180",
                                    "1": "2",
                                    "2": "-1808",
                                    "3": "-970"
                                },
                                {
                                    "0": "180",
                                    "1": "3",
                                    "2": "-2804",
                                    "3": "-996"
                                },
                                {
                                    "0": "180",
                                    "1": "4",
                                    "2": "-3175",
                                    "3": "-371"
                                },
                                {
                                    "0": "181",
                                    "1": "1",
                                    "2": "-47",
                                    "3": "-47"
                                },
                                {
                                    "0": "181",
                                    "1": "2",
                                    "2": "-843",
                                    "3": "-796"
                                },
                                {
                                    "0": "181",
                                    "1": "3",
                                    "2": "-2640",
                                    "3": "-1797"
                                },
                                {
                                    "0": "182",
                                    "1": "1",
                                    "2": "97",
                                    "3": "97"
                                },
                                {
                                    "0": "182",
                                    "1": "2",
                                    "2": "-45",
                                    "3": "-142"
                                },
                                {
                                    "0": "182",
                                    "1": "3",
                                    "2": "-843",
                                    "3": "-798"
                                },
                                {
                                    "0": "182",
                                    "1": "4",
                                    "2": "-159",
                                    "3": "684"
                                },
                                {
                                    "0": "183",
                                    "1": "1",
                                    "2": "-540",
                                    "3": "-540"
                                },
                                {
                                    "0": "183",
                                    "1": "2",
                                    "2": "-3729",
                                    "3": "-3189"
                                },
                                {
                                    "0": "183",
                                    "1": "3",
                                    "2": "-6083",
                                    "3": "-2354"
                                },
                                {
                                    "0": "183",
                                    "1": "4",
                                    "2": "-6560",
                                    "3": "-477"
                                },
                                {
                                    "0": "184",
                                    "1": "1",
                                    "2": "472",
                                    "3": "472"
                                },
                                {
                                    "0": "184",
                                    "1": "2",
                                    "2": "-331",
                                    "3": "-803"
                                },
                                {
                                    "0": "184",
                                    "1": "3",
                                    "2": "-2530",
                                    "3": "-2199"
                                },
                                {
                                    "0": "184",
                                    "1": "4",
                                    "2": "-3178",
                                    "3": "-648"
                                },
                                {
                                    "0": "185",
                                    "1": "1",
                                    "2": "626",
                                    "3": "626"
                                },
                                {
                                    "0": "185",
                                    "1": "2",
                                    "2": "-11",
                                    "3": "-637"
                                },
                                {
                                    "0": "185",
                                    "1": "3",
                                    "2": "-1001",
                                    "3": "-990"
                                },
                                {
                                    "0": "185",
                                    "1": "4",
                                    "2": "-505",
                                    "3": "496"
                                },
                                {
                                    "0": "186",
                                    "1": "1",
                                    "2": "534",
                                    "3": "534"
                                },
                                {
                                    "0": "186",
                                    "1": "2",
                                    "2": "1345",
                                    "3": "811"
                                },
                                {
                                    "0": "186",
                                    "1": "3",
                                    "2": "1930",
                                    "3": "585"
                                },
                                {
                                    "0": "186",
                                    "1": "4",
                                    "2": "1284",
                                    "3": "-646"
                                },
                                {
                                    "0": "187",
                                    "1": "1",
                                    "2": "-211",
                                    "3": "-211"
                                },
                                {
                                    "0": "187",
                                    "1": "2",
                                    "2": "-1379",
                                    "3": "-1168"
                                },
                                {
                                    "0": "187",
                                    "1": "3",
                                    "2": "-3060",
                                    "3": "-1681"
                                },
                                {
                                    "0": "187",
                                    "1": "4",
                                    "2": "-2272",
                                    "3": "788"
                                },
                                {
                                    "0": "188",
                                    "1": "1",
                                    "2": "-184",
                                    "3": "-184"
                                },
                                {
                                    "0": "188",
                                    "1": "2",
                                    "2": "1013",
                                    "3": "1197"
                                },
                                {
                                    "0": "188",
                                    "1": "3",
                                    "2": "52",
                                    "3": "-961"
                                },
                                {
                                    "0": "188",
                                    "1": "4",
                                    "2": "-475",
                                    "3": "-527"
                                },
                                {
                                    "0": "189",
                                    "1": "1",
                                    "2": "-838",
                                    "3": "-838"
                                },
                                {
                                    "0": "189",
                                    "1": "2",
                                    "2": "-2101",
                                    "3": "-1263"
                                },
                                {
                                    "0": "189",
                                    "1": "3",
                                    "2": "-4007",
                                    "3": "-1906"
                                },
                                {
                                    "0": "190",
                                    "1": "1",
                                    "2": "14",
                                    "3": "14"
                                },
                                {
                                    "0": "190",
                                    "1": "2",
                                    "2": "459",
                                    "3": "445"
                                },
                                {
                                    "0": "190",
                                    "1": "3",
                                    "2": "523",
                                    "3": "64"
                                },
                                {
                                    "0": "190",
                                    "1": "4",
                                    "2": "1178",
                                    "3": "655"
                                },
                                {
                                    "0": "191",
                                    "1": "1",
                                    "2": "1632",
                                    "3": "1632"
                                },
                                {
                                    "0": "191",
                                    "1": "2",
                                    "2": "1306",
                                    "3": "-326"
                                },
                                {
                                    "0": "191",
                                    "1": "3",
                                    "2": "1036",
                                    "3": "-270"
                                },
                                {
                                    "0": "191",
                                    "1": "4",
                                    "2": "879",
                                    "3": "-157"
                                },
                                {
                                    "0": "192",
                                    "1": "1",
                                    "2": "2526",
                                    "3": "2526"
                                },
                                {
                                    "0": "192",
                                    "1": "2",
                                    "2": "-689",
                                    "3": "-3215"
                                },
                                {
                                    "0": "192",
                                    "1": "3",
                                    "2": "383",
                                    "3": "1072"
                                },
                                {
                                    "0": "192",
                                    "1": "4",
                                    "2": "1139",
                                    "3": "756"
                                },
                                {
                                    "0": "193",
                                    "1": "1",
                                    "2": "689",
                                    "3": "689"
                                },
                                {
                                    "0": "193",
                                    "1": "3",
                                    "2": "486",
                                    "3": "-203"
                                },
                                {
                                    "0": "194",
                                    "1": "1",
                                    "2": "137",
                                    "3": "137"
                                },
                                {
                                    "0": "194",
                                    "1": "2",
                                    "2": "-2211",
                                    "3": "-2348"
                                },
                                {
                                    "0": "194",
                                    "1": "3",
                                    "2": "178",
                                    "3": "2389"
                                },
                                {
                                    "0": "194",
                                    "1": "4",
                                    "2": "-697",
                                    "3": "-875"
                                },
                                {
                                    "0": "195",
                                    "1": "1",
                                    "2": "489",
                                    "3": "489"
                                },
                                {
                                    "0": "195",
                                    "1": "3",
                                    "2": "406",
                                    "3": "-83"
                                },
                                {
                                    "0": "196",
                                    "1": "1",
                                    "2": "734",
                                    "3": "734"
                                },
                                {
                                    "0": "196",
                                    "1": "2",
                                    "2": "1295",
                                    "3": "561"
                                },
                                {
                                    "0": "196",
                                    "1": "3",
                                    "2": "1382",
                                    "3": "87"
                                },
                                {
                                    "0": "197",
                                    "1": "1",
                                    "2": "-446",
                                    "3": "-446"
                                },
                                {
                                    "0": "197",
                                    "1": "2",
                                    "2": "137",
                                    "3": "583"
                                },
                                {
                                    "0": "197",
                                    "1": "3",
                                    "2": "1023",
                                    "3": "886"
                                },
                                {
                                    "0": "197",
                                    "1": "4",
                                    "2": "3685",
                                    "3": "2662"
                                },
                                {
                                    "0": "198",
                                    "1": "1",
                                    "2": "1144",
                                    "3": "1144"
                                },
                                {
                                    "0": "198",
                                    "1": "2",
                                    "2": "288",
                                    "3": "-856"
                                },
                                {
                                    "0": "198",
                                    "1": "3",
                                    "2": "-1253",
                                    "3": "-1541"
                                },
                                {
                                    "0": "198",
                                    "1": "4",
                                    "2": "-757",
                                    "3": "496"
                                },
                                {
                                    "0": "199",
                                    "1": "1",
                                    "2": "530",
                                    "3": "530"
                                },
                                {
                                    "0": "199",
                                    "1": "2",
                                    "2": "515",
                                    "3": "-15"
                                },
                                {
                                    "0": "199",
                                    "1": "3",
                                    "2": "-14",
                                    "3": "-529"
                                },
                                {
                                    "0": "199",
                                    "1": "4",
                                    "2": "-220",
                                    "3": "-206"
                                },
                                {
                                    "0": "200",
                                    "1": "1",
                                    "2": "997",
                                    "3": "997"
                                },
                                {
                                    "0": "200",
                                    "1": "2",
                                    "2": "1356",
                                    "3": "359"
                                },
                                {
                                    "0": "200",
                                    "1": "3",
                                    "2": "2914",
                                    "3": "1558"
                                },
                                {
                                    "0": "200",
                                    "1": "4",
                                    "2": "2853",
                                    "3": "-61"
                                },
                                {
                                    "0": "201",
                                    "1": "1",
                                    "2": "-383",
                                    "3": "-383"
                                },
                                {
                                    "0": "201",
                                    "1": "2",
                                    "2": "-292",
                                    "3": "91"
                                },
                                {
                                    "0": "201",
                                    "1": "3",
                                    "2": "1529",
                                    "3": "1821"
                                },
                                {
                                    "0": "202",
                                    "1": "1",
                                    "2": "-530",
                                    "3": "-530"
                                },
                                {
                                    "0": "202",
                                    "1": "2",
                                    "2": "-916",
                                    "3": "-386"
                                },
                                {
                                    "0": "202",
                                    "1": "3",
                                    "2": "-2415",
                                    "3": "-1499"
                                },
                                {
                                    "0": "203",
                                    "1": "1",
                                    "2": "2528",
                                    "3": "2528"
                                },
                                {
                                    "0": "203",
                                    "1": "2",
                                    "2": "3471",
                                    "3": "943"
                                },
                                {
                                    "0": "203",
                                    "1": "3",
                                    "2": "3461",
                                    "3": "-10"
                                },
                                {
                                    "0": "203",
                                    "1": "4",
                                    "2": "3437",
                                    "3": "-24"
                                },
                                {
                                    "0": "204",
                                    "1": "1",
                                    "2": "749",
                                    "3": "749"
                                },
                                {
                                    "0": "204",
                                    "1": "2",
                                    "2": "1039",
                                    "3": "290"
                                },
                                {
                                    "0": "204",
                                    "1": "3",
                                    "2": "1587",
                                    "3": "548"
                                },
                                {
                                    "0": "204",
                                    "1": "4",
                                    "2": "1893",
                                    "3": "306"
                                },
                                {
                                    "0": "205",
                                    "1": "1",
                                    "2": "-82",
                                    "3": "-82"
                                },
                                {
                                    "0": "205",
                                    "1": "2",
                                    "2": "1211",
                                    "3": "1293"
                                },
                                {
                                    "0": "205",
                                    "1": "3",
                                    "2": "1067",
                                    "3": "-144"
                                },
                                {
                                    "0": "206",
                                    "1": "1",
                                    "2": "-215",
                                    "3": "-215"
                                },
                                {
                                    "0": "206",
                                    "1": "2",
                                    "2": "-949",
                                    "3": "-734"
                                },
                                {
                                    "0": "206",
                                    "1": "3",
                                    "2": "-4974",
                                    "3": "-4025"
                                },
                                {
                                    "0": "206",
                                    "1": "4",
                                    "2": "-5374",
                                    "3": "-400"
                                },
                                {
                                    "0": "207",
                                    "1": "1",
                                    "2": "322",
                                    "3": "322"
                                },
                                {
                                    "0": "207",
                                    "1": "2",
                                    "2": "-1954",
                                    "3": "-2276"
                                },
                                {
                                    "0": "207",
                                    "1": "3",
                                    "2": "-2152",
                                    "3": "-198"
                                },
                                {
                                    "0": "207",
                                    "1": "4",
                                    "2": "-1014",
                                    "3": "1138"
                                },
                                {
                                    "0": "208",
                                    "1": "1",
                                    "2": "537",
                                    "3": "537"
                                },
                                {
                                    "0": "208",
                                    "1": "2",
                                    "2": "406",
                                    "3": "-131"
                                },
                                {
                                    "0": "208",
                                    "1": "4",
                                    "2": "1361",
                                    "3": "955"
                                },
                                {
                                    "0": "209",
                                    "1": "1",
                                    "2": "-202",
                                    "3": "-202"
                                },
                                {
                                    "0": "209",
                                    "1": "2",
                                    "2": "-766",
                                    "3": "-564"
                                },
                                {
                                    "0": "209",
                                    "1": "3",
                                    "2": "-1266",
                                    "3": "-500"
                                },
                                {
                                    "0": "209",
                                    "1": "4",
                                    "2": "-2351",
                                    "3": "-1085"
                                },
                                {
                                    "0": "210",
                                    "1": "1",
                                    "2": "60",
                                    "3": "60"
                                },
                                {
                                    "0": "210",
                                    "1": "2",
                                    "2": "-1361",
                                    "3": "-1421"
                                },
                                {
                                    "0": "210",
                                    "1": "3",
                                    "2": "-1309",
                                    "3": "52"
                                },
                                {
                                    "0": "210",
                                    "1": "4",
                                    "2": "-792",
                                    "3": "517"
                                },
                                {
                                    "0": "211",
                                    "1": "1",
                                    "2": "607",
                                    "3": "607"
                                },
                                {
                                    "0": "211",
                                    "1": "2",
                                    "2": "1839",
                                    "3": "1232"
                                },
                                {
                                    "0": "211",
                                    "1": "3",
                                    "2": "257",
                                    "3": "-1582"
                                },
                                {
                                    "0": "211",
                                    "1": "4",
                                    "2": "-602",
                                    "3": "-859"
                                },
                                {
                                    "0": "212",
                                    "1": "1",
                                    "2": "-336",
                                    "3": "-336"
                                },
                                {
                                    "0": "212",
                                    "1": "2",
                                    "2": "481",
                                    "3": "817"
                                },
                                {
                                    "0": "212",
                                    "1": "3",
                                    "2": "3529",
                                    "3": "3048"
                                },
                                {
                                    "0": "213",
                                    "1": "1",
                                    "2": "-239",
                                    "3": "-239"
                                },
                                {
                                    "0": "213",
                                    "1": "2",
                                    "2": "-1199",
                                    "3": "-960"
                                },
                                {
                                    "0": "213",
                                    "1": "3",
                                    "2": "-1184",
                                    "3": "15"
                                },
                                {
                                    "0": "213",
                                    "1": "4",
                                    "2": "-1717",
                                    "3": "-533"
                                },
                                {
                                    "0": "214",
                                    "1": "1",
                                    "2": "-445",
                                    "3": "-445"
                                },
                                {
                                    "0": "214",
                                    "1": "2",
                                    "2": "-1511",
                                    "3": "-1066"
                                },
                                {
                                    "0": "214",
                                    "1": "3",
                                    "2": "83",
                                    "3": "1594"
                                },
                                {
                                    "0": "214",
                                    "1": "4",
                                    "2": "802",
                                    "3": "719"
                                },
                                {
                                    "0": "215",
                                    "1": "1",
                                    "2": "822",
                                    "3": "822"
                                },
                                {
                                    "0": "215",
                                    "1": "2",
                                    "2": "1770",
                                    "3": "948"
                                },
                                {
                                    "0": "215",
                                    "1": "3",
                                    "2": "697",
                                    "3": "-1073"
                                },
                                {
                                    "0": "215",
                                    "1": "4",
                                    "2": "414",
                                    "3": "-283"
                                },
                                {
                                    "0": "216",
                                    "1": "1",
                                    "2": "1619",
                                    "3": "1619"
                                },
                                {
                                    "0": "216",
                                    "1": "2",
                                    "2": "3302",
                                    "3": "1683"
                                },
                                {
                                    "0": "216",
                                    "1": "3",
                                    "2": "872",
                                    "3": "-2430"
                                },
                                {
                                    "0": "216",
                                    "1": "4",
                                    "2": "-110",
                                    "3": "-982"
                                },
                                {
                                    "0": "217",
                                    "1": "1",
                                    "2": "870",
                                    "3": "870"
                                },
                                {
                                    "0": "217",
                                    "1": "2",
                                    "2": "1839",
                                    "3": "969"
                                },
                                {
                                    "0": "217",
                                    "1": "3",
                                    "2": "9",
                                    "3": "-1830"
                                },
                                {
                                    "0": "218",
                                    "1": "1",
                                    "2": "208",
                                    "3": "208"
                                },
                                {
                                    "0": "218",
                                    "1": "2",
                                    "2": "-1620",
                                    "3": "-1828"
                                },
                                {
                                    "0": "218",
                                    "1": "3",
                                    "2": "-465",
                                    "3": "1155"
                                },
                                {
                                    "0": "218",
                                    "1": "4",
                                    "2": "1167",
                                    "3": "1632"
                                },
                                {
                                    "0": "219",
                                    "1": "1",
                                    "2": "165",
                                    "3": "165"
                                },
                                {
                                    "0": "219",
                                    "1": "2",
                                    "2": "-845",
                                    "3": "-1010"
                                },
                                {
                                    "0": "219",
                                    "1": "3",
                                    "2": "1108",
                                    "3": "1953"
                                },
                                {
                                    "0": "219",
                                    "1": "4",
                                    "2": "306",
                                    "3": "-802"
                                },
                                {
                                    "0": "220",
                                    "1": "1",
                                    "2": "307",
                                    "3": "307"
                                },
                                {
                                    "0": "220",
                                    "1": "2",
                                    "2": "714",
                                    "3": "407"
                                },
                                {
                                    "0": "220",
                                    "1": "3",
                                    "2": "-29",
                                    "3": "-743"
                                },
                                {
                                    "0": "220",
                                    "1": "4",
                                    "2": "-958",
                                    "3": "-929"
                                },
                                {
                                    "0": "221",
                                    "1": "1",
                                    "2": "1384",
                                    "3": "1384"
                                },
                                {
                                    "0": "221",
                                    "1": "2",
                                    "2": "1481",
                                    "3": "97"
                                },
                                {
                                    "0": "221",
                                    "1": "3",
                                    "2": "1055",
                                    "3": "-426"
                                },
                                {
                                    "0": "222",
                                    "1": "1",
                                    "2": "657",
                                    "3": "657"
                                },
                                {
                                    "0": "222",
                                    "1": "2",
                                    "2": "1997",
                                    "3": "1340"
                                },
                                {
                                    "0": "222",
                                    "1": "3",
                                    "2": "1136",
                                    "3": "-861"
                                },
                                {
                                    "0": "222",
                                    "1": "4",
                                    "2": "1532",
                                    "3": "396"
                                },
                                {
                                    "0": "223",
                                    "1": "1",
                                    "2": "396",
                                    "3": "396"
                                },
                                {
                                    "0": "223",
                                    "1": "2",
                                    "2": "-1100",
                                    "3": "-1496"
                                },
                                {
                                    "0": "223",
                                    "1": "3",
                                    "2": "-1723",
                                    "3": "-623"
                                },
                                {
                                    "0": "223",
                                    "1": "4",
                                    "2": "-2435",
                                    "3": "-712"
                                },
                                {
                                    "0": "224",
                                    "1": "1",
                                    "2": "487",
                                    "3": "487"
                                },
                                {
                                    "0": "224",
                                    "1": "2",
                                    "2": "-206",
                                    "3": "-693"
                                },
                                {
                                    "0": "224",
                                    "1": "3",
                                    "2": "-1581",
                                    "3": "-1375"
                                },
                                {
                                    "0": "224",
                                    "1": "4",
                                    "2": "-1369",
                                    "3": "212"
                                },
                                {
                                    "0": "225",
                                    "1": "1",
                                    "2": "280",
                                    "3": "280"
                                },
                                {
                                    "0": "225",
                                    "1": "2",
                                    "2": "-89",
                                    "3": "-369"
                                },
                                {
                                    "0": "225",
                                    "1": "3",
                                    "2": "297",
                                    "3": "386"
                                },
                                {
                                    "0": "226",
                                    "1": "1",
                                    "2": "-980",
                                    "3": "-980"
                                },
                                {
                                    "0": "226",
                                    "1": "2",
                                    "2": "-586",
                                    "3": "394"
                                },
                                {
                                    "0": "226",
                                    "1": "3",
                                    "2": "-1855",
                                    "3": "-1269"
                                },
                                {
                                    "0": "226",
                                    "1": "4",
                                    "2": "-1430",
                                    "3": "425"
                                },
                                {
                                    "0": "227",
                                    "1": "1",
                                    "2": "-622",
                                    "3": "-622"
                                },
                                {
                                    "0": "227",
                                    "1": "2",
                                    "2": "-1045",
                                    "3": "-423"
                                },
                                {
                                    "0": "227",
                                    "1": "3",
                                    "2": "-2336",
                                    "3": "-1291"
                                },
                                {
                                    "0": "227",
                                    "1": "4",
                                    "2": "-3161",
                                    "3": "-825"
                                },
                                {
                                    "0": "228",
                                    "1": "1",
                                    "2": "294",
                                    "3": "294"
                                },
                                {
                                    "0": "228",
                                    "1": "2",
                                    "2": "-253",
                                    "3": "-547"
                                },
                                {
                                    "0": "228",
                                    "1": "3",
                                    "2": "-1724",
                                    "3": "-1471"
                                },
                                {
                                    "0": "229",
                                    "1": "1",
                                    "2": "621",
                                    "3": "621"
                                },
                                {
                                    "0": "229",
                                    "1": "2",
                                    "2": "1618",
                                    "3": "997"
                                },
                                {
                                    "0": "229",
                                    "1": "3",
                                    "2": "703",
                                    "3": "-915"
                                },
                                {
                                    "0": "230",
                                    "1": "1",
                                    "2": "499",
                                    "3": "499"
                                },
                                {
                                    "0": "230",
                                    "1": "2",
                                    "2": "990",
                                    "3": "491"
                                },
                                {
                                    "0": "230",
                                    "1": "3",
                                    "2": "2428",
                                    "3": "1438"
                                },
                                {
                                    "0": "230",
                                    "1": "4",
                                    "2": "2356",
                                    "3": "-72"
                                },
                                {
                                    "0": "231",
                                    "1": "1",
                                    "2": "-236",
                                    "3": "-236"
                                },
                                {
                                    "0": "231",
                                    "1": "2",
                                    "2": "-534",
                                    "3": "-298"
                                },
                                {
                                    "0": "231",
                                    "1": "3",
                                    "2": "-2010",
                                    "3": "-1476"
                                },
                                {
                                    "0": "231",
                                    "1": "4",
                                    "2": "-2475",
                                    "3": "-465"
                                },
                                {
                                    "0": "232",
                                    "1": "1",
                                    "2": "1418",
                                    "3": "1418"
                                },
                                {
                                    "0": "232",
                                    "1": "2",
                                    "2": "864",
                                    "3": "-554"
                                },
                                {
                                    "0": "232",
                                    "1": "3",
                                    "2": "923",
                                    "3": "59"
                                },
                                {
                                    "0": "233",
                                    "1": "1",
                                    "2": "1795",
                                    "3": "1795"
                                },
                                {
                                    "0": "233",
                                    "1": "2",
                                    "2": "2910",
                                    "3": "1115"
                                },
                                {
                                    "0": "233",
                                    "1": "3",
                                    "2": "3742",
                                    "3": "832"
                                },
                                {
                                    "0": "234",
                                    "1": "1",
                                    "2": "-200",
                                    "3": "-200"
                                },
                                {
                                    "0": "234",
                                    "1": "2",
                                    "2": "322",
                                    "3": "522"
                                },
                                {
                                    "0": "234",
                                    "1": "3",
                                    "2": "-2276",
                                    "3": "-2598"
                                },
                                {
                                    "0": "235",
                                    "1": "1",
                                    "2": "-1963",
                                    "3": "-1963"
                                },
                                {
                                    "0": "235",
                                    "1": "2",
                                    "2": "-476",
                                    "3": "1487"
                                },
                                {
                                    "0": "235",
                                    "1": "3",
                                    "2": "24",
                                    "3": "500"
                                },
                                {
                                    "0": "236",
                                    "1": "1",
                                    "2": "356",
                                    "3": "356"
                                },
                                {
                                    "0": "236",
                                    "1": "2",
                                    "2": "1059",
                                    "3": "703"
                                },
                                {
                                    "0": "236",
                                    "1": "3",
                                    "2": "924",
                                    "3": "-135"
                                },
                                {
                                    "0": "236",
                                    "1": "4",
                                    "2": "-100",
                                    "3": "-1024"
                                },
                                {
                                    "0": "237",
                                    "1": "1",
                                    "2": "-174",
                                    "3": "-174"
                                },
                                {
                                    "0": "237",
                                    "1": "2",
                                    "2": "136",
                                    "3": "310"
                                },
                                {
                                    "0": "237",
                                    "1": "3",
                                    "2": "1567",
                                    "3": "1431"
                                },
                                {
                                    "0": "237",
                                    "1": "4",
                                    "2": "812",
                                    "3": "-755"
                                },
                                {
                                    "0": "238",
                                    "1": "1",
                                    "2": "802",
                                    "3": "802"
                                },
                                {
                                    "0": "238",
                                    "1": "2",
                                    "2": "1270",
                                    "3": "468"
                                },
                                {
                                    "0": "238",
                                    "1": "4",
                                    "2": "-479",
                                    "3": "-1749"
                                },
                                {
                                    "0": "239",
                                    "1": "1",
                                    "2": "-10",
                                    "3": "-10"
                                },
                                {
                                    "0": "239",
                                    "1": "2",
                                    "2": "706",
                                    "3": "716"
                                },
                                {
                                    "0": "239",
                                    "1": "3",
                                    "2": "574",
                                    "3": "-132"
                                },
                                {
                                    "0": "239",
                                    "1": "4",
                                    "2": "1871",
                                    "3": "1297"
                                },
                                {
                                    "0": "240",
                                    "1": "1",
                                    "2": "1108",
                                    "3": "1108"
                                },
                                {
                                    "0": "240",
                                    "1": "2",
                                    "2": "754",
                                    "3": "-354"
                                },
                                {
                                    "0": "240",
                                    "1": "3",
                                    "2": "3200",
                                    "3": "2446"
                                },
                                {
                                    "0": "240",
                                    "1": "4",
                                    "2": "3075",
                                    "3": "-125"
                                },
                                {
                                    "0": "241",
                                    "1": "1",
                                    "2": "20",
                                    "3": "20"
                                },
                                {
                                    "0": "242",
                                    "1": "1",
                                    "2": "1143",
                                    "3": "1143"
                                },
                                {
                                    "0": "242",
                                    "1": "2",
                                    "2": "-462",
                                    "3": "-1605"
                                },
                                {
                                    "0": "242",
                                    "1": "3",
                                    "2": "-1891",
                                    "3": "-1429"
                                },
                                {
                                    "0": "242",
                                    "1": "4",
                                    "2": "-3334",
                                    "3": "-1443"
                                },
                                {
                                    "0": "243",
                                    "1": "1",
                                    "2": "-368",
                                    "3": "-368"
                                },
                                {
                                    "0": "243",
                                    "1": "3",
                                    "2": "979",
                                    "3": "1347"
                                },
                                {
                                    "0": "244",
                                    "1": "1",
                                    "2": "728",
                                    "3": "728"
                                },
                                {
                                    "0": "244",
                                    "1": "2",
                                    "2": "1752",
                                    "3": "1024"
                                },
                                {
                                    "0": "244",
                                    "1": "3",
                                    "2": "1930",
                                    "3": "178"
                                },
                                {
                                    "0": "244",
                                    "1": "4",
                                    "2": "877",
                                    "3": "-1053"
                                },
                                {
                                    "0": "245",
                                    "1": "1",
                                    "2": "76",
                                    "3": "76"
                                },
                                {
                                    "0": "245",
                                    "1": "2",
                                    "2": "-341",
                                    "3": "-417"
                                },
                                {
                                    "0": "245",
                                    "1": "3",
                                    "2": "-1791",
                                    "3": "-1450"
                                },
                                {
                                    "0": "245",
                                    "1": "4",
                                    "2": "-1021",
                                    "3": "770"
                                },
                                {
                                    "0": "246",
                                    "1": "1",
                                    "2": "506",
                                    "3": "506"
                                },
                                {
                                    "0": "246",
                                    "1": "2",
                                    "2": "584",
                                    "3": "78"
                                },
                                {
                                    "0": "246",
                                    "1": "3",
                                    "2": "277",
                                    "3": "-307"
                                },
                                {
                                    "0": "246",
                                    "1": "4",
                                    "2": "-2132",
                                    "3": "-2409"
                                },
                                {
                                    "0": "247",
                                    "1": "1",
                                    "2": "983",
                                    "3": "983"
                                },
                                {
                                    "0": "247",
                                    "1": "2",
                                    "2": "577",
                                    "3": "-406"
                                },
                                {
                                    "0": "247",
                                    "1": "3",
                                    "2": "297",
                                    "3": "-280"
                                },
                                {
                                    "0": "248",
                                    "1": "1",
                                    "2": "304",
                                    "3": "304"
                                },
                                {
                                    "0": "248",
                                    "1": "2",
                                    "2": "667",
                                    "3": "363"
                                },
                                {
                                    "0": "248",
                                    "1": "3",
                                    "2": "955",
                                    "3": "288"
                                },
                                {
                                    "0": "248",
                                    "1": "4",
                                    "2": "1188",
                                    "3": "233"
                                },
                                {
                                    "0": "249",
                                    "1": "1",
                                    "2": "336",
                                    "3": "336"
                                },
                                {
                                    "0": "249",
                                    "1": "3",
                                    "2": "1065",
                                    "3": "729"
                                },
                                {
                                    "0": "249",
                                    "1": "4",
                                    "2": "895",
                                    "3": "-170"
                                },
                                {
                                    "0": "250",
                                    "1": "1",
                                    "2": "149",
                                    "3": "149"
                                },
                                {
                                    "0": "250",
                                    "1": "2",
                                    "2": "0",
                                    "3": "-149"
                                },
                                {
                                    "0": "250",
                                    "1": "3",
                                    "2": "177",
                                    "3": "177"
                                },
                                {
                                    "0": "250",
                                    "1": "4",
                                    "2": "-1555",
                                    "3": "-1732"
                                },
                                {
                                    "0": "251",
                                    "1": "1",
                                    "2": "1276",
                                    "3": "1276"
                                },
                                {
                                    "0": "251",
                                    "1": "2",
                                    "2": "-924",
                                    "3": "-2200"
                                },
                                {
                                    "0": "251",
                                    "1": "3",
                                    "2": "-1230",
                                    "3": "-306"
                                },
                                {
                                    "0": "251",
                                    "1": "4",
                                    "2": "-1883",
                                    "3": "-653"
                                },
                                {
                                    "0": "252",
                                    "1": "1",
                                    "2": "289",
                                    "3": "289"
                                },
                                {
                                    "0": "252",
                                    "1": "4",
                                    "2": "133",
                                    "3": "-156"
                                },
                                {
                                    "0": "253",
                                    "1": "1",
                                    "2": "-578",
                                    "3": "-578"
                                },
                                {
                                    "0": "253",
                                    "1": "2",
                                    "2": "-577",
                                    "3": "1"
                                },
                                {
                                    "0": "253",
                                    "1": "3",
                                    "2": "-457",
                                    "3": "120"
                                },
                                {
                                    "0": "253",
                                    "1": "4",
                                    "2": "-484",
                                    "3": "-27"
                                },
                                {
                                    "0": "254",
                                    "1": "1",
                                    "2": "36",
                                    "3": "36"
                                },
                                {
                                    "0": "254",
                                    "1": "2",
                                    "2": "-2883",
                                    "3": "-2919"
                                },
                                {
                                    "0": "254",
                                    "1": "3",
                                    "2": "-590",
                                    "3": "2293"
                                },
                                {
                                    "0": "255",
                                    "1": "1",
                                    "2": "253",
                                    "3": "253"
                                },
                                {
                                    "0": "255",
                                    "1": "2",
                                    "2": "129",
                                    "3": "-124"
                                },
                                {
                                    "0": "255",
                                    "1": "3",
                                    "2": "-548",
                                    "3": "-677"
                                },
                                {
                                    "0": "256",
                                    "1": "1",
                                    "2": "1743",
                                    "3": "1743"
                                },
                                {
                                    "0": "256",
                                    "1": "2",
                                    "2": "906",
                                    "3": "-837"
                                },
                                {
                                    "0": "256",
                                    "1": "3",
                                    "2": "1152",
                                    "3": "246"
                                },
                                {
                                    "0": "256",
                                    "1": "4",
                                    "2": "1094",
                                    "3": "-58"
                                },
                                {
                                    "0": "257",
                                    "1": "1",
                                    "2": "414",
                                    "3": "414"
                                },
                                {
                                    "0": "257",
                                    "1": "2",
                                    "2": "-1609",
                                    "3": "-2023"
                                },
                                {
                                    "0": "257",
                                    "1": "3",
                                    "2": "-472",
                                    "3": "1137"
                                },
                                {
                                    "0": "257",
                                    "1": "4",
                                    "2": "-976",
                                    "3": "-504"
                                },
                                {
                                    "0": "258",
                                    "1": "1",
                                    "2": "590",
                                    "3": "590"
                                },
                                {
                                    "0": "258",
                                    "1": "2",
                                    "2": "-1076",
                                    "3": "-1666"
                                },
                                {
                                    "0": "258",
                                    "1": "3",
                                    "2": "-2893",
                                    "3": "-1817"
                                },
                                {
                                    "0": "258",
                                    "1": "4",
                                    "2": "-1465",
                                    "3": "1428"
                                },
                                {
                                    "0": "259",
                                    "1": "1",
                                    "2": "928",
                                    "3": "928"
                                },
                                {
                                    "0": "259",
                                    "1": "2",
                                    "2": "-267",
                                    "3": "-1195"
                                },
                                {
                                    "0": "259",
                                    "1": "3",
                                    "2": "-1458",
                                    "3": "-1191"
                                },
                                {
                                    "0": "260",
                                    "1": "1",
                                    "2": "1865",
                                    "3": "1865"
                                },
                                {
                                    "0": "260",
                                    "1": "3",
                                    "2": "1909",
                                    "3": "44"
                                },
                                {
                                    "0": "261",
                                    "1": "1",
                                    "2": "746",
                                    "3": "746"
                                },
                                {
                                    "0": "261",
                                    "1": "2",
                                    "2": "1408",
                                    "3": "662"
                                },
                                {
                                    "0": "261",
                                    "1": "3",
                                    "2": "-329",
                                    "3": "-1737"
                                },
                                {
                                    "0": "261",
                                    "1": "4",
                                    "2": "-31",
                                    "3": "298"
                                },
                                {
                                    "0": "262",
                                    "1": "1",
                                    "2": "-1070",
                                    "3": "-1070"
                                },
                                {
                                    "0": "262",
                                    "1": "2",
                                    "2": "-2599",
                                    "3": "-1529"
                                },
                                {
                                    "0": "262",
                                    "1": "3",
                                    "2": "-2372",
                                    "3": "227"
                                },
                                {
                                    "0": "263",
                                    "1": "1",
                                    "2": "312",
                                    "3": "312"
                                },
                                {
                                    "0": "263",
                                    "1": "2",
                                    "2": "112",
                                    "3": "-200"
                                },
                                {
                                    "0": "263",
                                    "1": "4",
                                    "2": "770",
                                    "3": "658"
                                },
                                {
                                    "0": "264",
                                    "1": "1",
                                    "2": "770",
                                    "3": "770"
                                },
                                {
                                    "0": "264",
                                    "1": "2",
                                    "2": "1545",
                                    "3": "775"
                                },
                                {
                                    "0": "264",
                                    "1": "3",
                                    "2": "2088",
                                    "3": "543"
                                },
                                {
                                    "0": "264",
                                    "1": "4",
                                    "2": "1295",
                                    "3": "-793"
                                },
                                {
                                    "0": "265",
                                    "1": "1",
                                    "2": "-25",
                                    "3": "-25"
                                },
                                {
                                    "0": "265",
                                    "1": "2",
                                    "2": "-1481",
                                    "3": "-1456"
                                },
                                {
                                    "0": "265",
                                    "1": "3",
                                    "2": "-2592",
                                    "3": "-1111"
                                },
                                {
                                    "0": "265",
                                    "1": "4",
                                    "2": "-1948",
                                    "3": "644"
                                },
                                {
                                    "0": "266",
                                    "1": "1",
                                    "2": "651",
                                    "3": "651"
                                },
                                {
                                    "0": "266",
                                    "1": "2",
                                    "2": "1455",
                                    "3": "804"
                                },
                                {
                                    "0": "266",
                                    "1": "3",
                                    "2": "787",
                                    "3": "-668"
                                },
                                {
                                    "0": "266",
                                    "1": "4",
                                    "2": "1138",
                                    "3": "351"
                                },
                                {
                                    "0": "267",
                                    "1": "1",
                                    "2": "-193",
                                    "3": "-193"
                                },
                                {
                                    "0": "267",
                                    "1": "2",
                                    "2": "-2068",
                                    "3": "-1875"
                                },
                                {
                                    "0": "267",
                                    "1": "3",
                                    "2": "-5236",
                                    "3": "-3168"
                                },
                                {
                                    "0": "267",
                                    "1": "4",
                                    "2": "-2442",
                                    "3": "2794"
                                },
                                {
                                    "0": "268",
                                    "1": "1",
                                    "2": "1699",
                                    "3": "1699"
                                },
                                {
                                    "0": "268",
                                    "1": "2",
                                    "2": "123",
                                    "3": "-1576"
                                },
                                {
                                    "0": "268",
                                    "1": "3",
                                    "2": "270",
                                    "3": "147"
                                },
                                {
                                    "0": "268",
                                    "1": "4",
                                    "2": "-218",
                                    "3": "-488"
                                },
                                {
                                    "0": "269",
                                    "1": "1",
                                    "2": "-2665",
                                    "3": "-2665"
                                },
                                {
                                    "0": "269",
                                    "1": "2",
                                    "2": "-3985",
                                    "3": "-1320"
                                },
                                {
                                    "0": "269",
                                    "1": "3",
                                    "2": "-2470",
                                    "3": "1515"
                                },
                                {
                                    "0": "269",
                                    "1": "4",
                                    "2": "-1864",
                                    "3": "606"
                                },
                                {
                                    "0": "270",
                                    "1": "1",
                                    "2": "1395",
                                    "3": "1395"
                                },
                                {
                                    "0": "270",
                                    "1": "2",
                                    "2": "961",
                                    "3": "-434"
                                },
                                {
                                    "0": "270",
                                    "1": "3",
                                    "2": "599",
                                    "3": "-362"
                                },
                                {
                                    "0": "270",
                                    "1": "4",
                                    "2": "-442",
                                    "3": "-1041"
                                },
                                {
                                    "0": "271",
                                    "1": "1",
                                    "2": "-1586",
                                    "3": "-1586"
                                },
                                {
                                    "0": "271",
                                    "1": "2",
                                    "2": "272",
                                    "3": "1858"
                                },
                                {
                                    "0": "271",
                                    "1": "3",
                                    "2": "-616",
                                    "3": "-888"
                                },
                                {
                                    "0": "271",
                                    "1": "4",
                                    "2": "180",
                                    "3": "796"
                                },
                                {
                                    "0": "272",
                                    "1": "1",
                                    "2": "-228",
                                    "3": "-228"
                                },
                                {
                                    "0": "272",
                                    "1": "2",
                                    "2": "-1673",
                                    "3": "-1445"
                                },
                                {
                                    "0": "272",
                                    "1": "4",
                                    "2": "-1769",
                                    "3": "-96"
                                },
                                {
                                    "0": "273",
                                    "1": "1",
                                    "2": "876",
                                    "3": "876"
                                },
                                {
                                    "0": "273",
                                    "1": "2",
                                    "2": "133",
                                    "3": "-743"
                                },
                                {
                                    "0": "273",
                                    "1": "3",
                                    "2": "-178",
                                    "3": "-311"
                                },
                                {
                                    "0": "273",
                                    "1": "4",
                                    "2": "308",
                                    "3": "486"
                                },
                                {
                                    "0": "274",
                                    "1": "1",
                                    "2": "-780",
                                    "3": "-780"
                                },
                                {
                                    "0": "274",
                                    "1": "2",
                                    "2": "-582",
                                    "3": "198"
                                },
                                {
                                    "0": "274",
                                    "1": "3",
                                    "2": "124",
                                    "3": "706"
                                },
                                {
                                    "0": "275",
                                    "1": "1",
                                    "2": "211",
                                    "3": "211"
                                },
                                {
                                    "0": "275",
                                    "1": "2",
                                    "2": "-1325",
                                    "3": "-1536"
                                },
                                {
                                    "0": "275",
                                    "1": "3",
                                    "2": "-2973",
                                    "3": "-1648"
                                },
                                {
                                    "0": "275",
                                    "1": "4",
                                    "2": "-3169",
                                    "3": "-196"
                                },
                                {
                                    "0": "276",
                                    "1": "1",
                                    "2": "-851",
                                    "3": "-851"
                                },
                                {
                                    "0": "276",
                                    "1": "2",
                                    "2": "-796",
                                    "3": "55"
                                },
                                {
                                    "0": "276",
                                    "1": "3",
                                    "2": "-1944",
                                    "3": "-1148"
                                },
                                {
                                    "0": "277",
                                    "1": "1",
                                    "2": "615",
                                    "3": "615"
                                },
                                {
                                    "0": "277",
                                    "1": "2",
                                    "2": "1411",
                                    "3": "796"
                                },
                                {
                                    "0": "277",
                                    "1": "3",
                                    "2": "1865",
                                    "3": "454"
                                },
                                {
                                    "0": "278",
                                    "1": "1",
                                    "2": "1309",
                                    "3": "1309"
                                },
                                {
                                    "0": "278",
                                    "1": "2",
                                    "2": "1723",
                                    "3": "414"
                                },
                                {
                                    "0": "278",
                                    "1": "3",
                                    "2": "2026",
                                    "3": "303"
                                },
                                {
                                    "0": "278",
                                    "1": "4",
                                    "2": "3554",
                                    "3": "1528"
                                },
                                {
                                    "0": "279",
                                    "1": "1",
                                    "2": "1895",
                                    "3": "1895"
                                },
                                {
                                    "0": "279",
                                    "1": "2",
                                    "2": "3641",
                                    "3": "1746"
                                },
                                {
                                    "0": "279",
                                    "1": "3",
                                    "2": "4183",
                                    "3": "542"
                                },
                                {
                                    "0": "279",
                                    "1": "4",
                                    "2": "4103",
                                    "3": "-80"
                                },
                                {
                                    "0": "280",
                                    "1": "1",
                                    "2": "-87",
                                    "3": "-87"
                                },
                                {
                                    "0": "280",
                                    "1": "2",
                                    "2": "-185",
                                    "3": "-98"
                                },
                                {
                                    "0": "280",
                                    "1": "3",
                                    "2": "-373",
                                    "3": "-188"
                                },
                                {
                                    "0": "281",
                                    "1": "1",
                                    "2": "220",
                                    "3": "220"
                                },
                                {
                                    "0": "281",
                                    "1": "2",
                                    "2": "1055",
                                    "3": "835"
                                },
                                {
                                    "0": "281",
                                    "1": "3",
                                    "2": "2192",
                                    "3": "1137"
                                },
                                {
                                    "0": "281",
                                    "1": "4",
                                    "2": "3004",
                                    "3": "812"
                                },
                                {
                                    "0": "282",
                                    "1": "1",
                                    "2": "74",
                                    "3": "74"
                                },
                                {
                                    "0": "282",
                                    "1": "2",
                                    "2": "-713",
                                    "3": "-787"
                                },
                                {
                                    "0": "282",
                                    "1": "3",
                                    "2": "-1661",
                                    "3": "-948"
                                },
                                {
                                    "0": "282",
                                    "1": "4",
                                    "2": "-1311",
                                    "3": "350"
                                },
                                {
                                    "0": "283",
                                    "1": "1",
                                    "2": "-1201",
                                    "3": "-1201"
                                },
                                {
                                    "0": "283",
                                    "1": "2",
                                    "2": "-2818",
                                    "3": "-1617"
                                },
                                {
                                    "0": "283",
                                    "1": "3",
                                    "2": "-5721",
                                    "3": "-2903"
                                },
                                {
                                    "0": "283",
                                    "1": "4",
                                    "2": "-7145",
                                    "3": "-1424"
                                },
                                {
                                    "0": "284",
                                    "1": "1",
                                    "2": "257",
                                    "3": "257"
                                },
                                {
                                    "0": "284",
                                    "1": "2",
                                    "2": "-2602",
                                    "3": "-2859"
                                },
                                {
                                    "0": "284",
                                    "1": "3",
                                    "2": "-2826",
                                    "3": "-224"
                                },
                                {
                                    "0": "284",
                                    "1": "4",
                                    "2": "-3379",
                                    "3": "-553"
                                },
                                {
                                    "0": "285",
                                    "1": "1",
                                    "2": "360",
                                    "3": "360"
                                },
                                {
                                    "0": "285",
                                    "1": "2",
                                    "2": "1358",
                                    "3": "998"
                                },
                                {
                                    "0": "285",
                                    "1": "3",
                                    "2": "1965",
                                    "3": "607"
                                },
                                {
                                    "0": "286",
                                    "1": "1",
                                    "2": "177",
                                    "3": "177"
                                },
                                {
                                    "0": "286",
                                    "1": "2",
                                    "2": "171",
                                    "3": "-6"
                                },
                                {
                                    "0": "287",
                                    "1": "1",
                                    "2": "658",
                                    "3": "658"
                                },
                                {
                                    "0": "287",
                                    "1": "2",
                                    "2": "829",
                                    "3": "171"
                                },
                                {
                                    "0": "287",
                                    "1": "3",
                                    "2": "886",
                                    "3": "57"
                                },
                                {
                                    "0": "287",
                                    "1": "4",
                                    "2": "-406",
                                    "3": "-1292"
                                },
                                {
                                    "0": "288",
                                    "1": "1",
                                    "2": "778",
                                    "3": "778"
                                },
                                {
                                    "0": "288",
                                    "1": "2",
                                    "2": "-867",
                                    "3": "-1645"
                                },
                                {
                                    "0": "288",
                                    "1": "3",
                                    "2": "-515",
                                    "3": "352"
                                },
                                {
                                    "0": "289",
                                    "1": "1",
                                    "2": "838",
                                    "3": "838"
                                },
                                {
                                    "0": "289",
                                    "1": "2",
                                    "2": "-207",
                                    "3": "-1045"
                                },
                                {
                                    "0": "289",
                                    "1": "3",
                                    "2": "-934",
                                    "3": "-727"
                                },
                                {
                                    "0": "289",
                                    "1": "4",
                                    "2": "-1059",
                                    "3": "-125"
                                },
                                {
                                    "0": "290",
                                    "1": "1",
                                    "2": "785",
                                    "3": "785"
                                },
                                {
                                    "0": "290",
                                    "1": "2",
                                    "2": "1139",
                                    "3": "354"
                                },
                                {
                                    "0": "290",
                                    "1": "3",
                                    "2": "2061",
                                    "3": "922"
                                },
                                {
                                    "0": "290",
                                    "1": "4",
                                    "2": "21",
                                    "3": "-2040"
                                },
                                {
                                    "0": "291",
                                    "1": "1",
                                    "2": "930",
                                    "3": "930"
                                },
                                {
                                    "0": "291",
                                    "1": "4",
                                    "2": "531",
                                    "3": "-399"
                                },
                                {
                                    "0": "292",
                                    "1": "1",
                                    "2": "-3458",
                                    "3": "-3458"
                                },
                                {
                                    "0": "292",
                                    "1": "2",
                                    "2": "-4646",
                                    "3": "-1188"
                                },
                                {
                                    "0": "292",
                                    "1": "3",
                                    "2": "-4760",
                                    "3": "-114"
                                },
                                {
                                    "0": "293",
                                    "1": "1",
                                    "2": "-383",
                                    "3": "-383"
                                },
                                {
                                    "0": "293",
                                    "1": "2",
                                    "2": "-1452",
                                    "3": "-1069"
                                },
                                {
                                    "0": "293",
                                    "1": "3",
                                    "2": "-1770",
                                    "3": "-318"
                                },
                                {
                                    "0": "293",
                                    "1": "4",
                                    "2": "-2500",
                                    "3": "-730"
                                },
                                {
                                    "0": "294",
                                    "1": "1",
                                    "2": "307",
                                    "3": "307"
                                },
                                {
                                    "0": "294",
                                    "1": "2",
                                    "2": "1557",
                                    "3": "1250"
                                },
                                {
                                    "0": "294",
                                    "1": "3",
                                    "2": "707",
                                    "3": "-850"
                                },
                                {
                                    "0": "295",
                                    "1": "1",
                                    "2": "636",
                                    "3": "636"
                                },
                                {
                                    "0": "295",
                                    "1": "2",
                                    "2": "496",
                                    "3": "-140"
                                },
                                {
                                    "0": "295",
                                    "1": "3",
                                    "2": "1430",
                                    "3": "934"
                                },
                                {
                                    "0": "295",
                                    "1": "4",
                                    "2": "-177",
                                    "3": "-1607"
                                },
                                {
                                    "0": "296",
                                    "1": "1",
                                    "2": "191",
                                    "3": "191"
                                },
                                {
                                    "0": "296",
                                    "1": "2",
                                    "2": "1152",
                                    "3": "961"
                                },
                                {
                                    "0": "296",
                                    "1": "3",
                                    "2": "1309",
                                    "3": "157"
                                },
                                {
                                    "0": "296",
                                    "1": "4",
                                    "2": "2220",
                                    "3": "911"
                                },
                                {
                                    "0": "297",
                                    "1": "1",
                                    "2": "550",
                                    "3": "550"
                                },
                                {
                                    "0": "297",
                                    "1": "2",
                                    "2": "585",
                                    "3": "35"
                                },
                                {
                                    "0": "297",
                                    "1": "3",
                                    "2": "1004",
                                    "3": "419"
                                },
                                {
                                    "0": "297",
                                    "1": "4",
                                    "2": "1282",
                                    "3": "278"
                                },
                                {
                                    "0": "298",
                                    "1": "1",
                                    "2": "278",
                                    "3": "278"
                                },
                                {
                                    "0": "298",
                                    "1": "2",
                                    "2": "-580",
                                    "3": "-858"
                                },
                                {
                                    "0": "298",
                                    "1": "3",
                                    "2": "767",
                                    "3": "1347"
                                },
                                {
                                    "0": "298",
                                    "1": "4",
                                    "2": "1489",
                                    "3": "722"
                                },
                                {
                                    "0": "299",
                                    "1": "1",
                                    "2": "961",
                                    "3": "961"
                                },
                                {
                                    "0": "299",
                                    "1": "2",
                                    "2": "1246",
                                    "3": "285"
                                },
                                {
                                    "0": "299",
                                    "1": "3",
                                    "2": "70",
                                    "3": "-1176"
                                },
                                {
                                    "0": "300",
                                    "1": "1",
                                    "2": "672",
                                    "3": "672"
                                },
                                {
                                    "0": "300",
                                    "1": "2",
                                    "2": "-949",
                                    "3": "-1621"
                                },
                                {
                                    "0": "300",
                                    "1": "3",
                                    "2": "-2374",
                                    "3": "-1425"
                                },
                                {
                                    "0": "300",
                                    "1": "4",
                                    "2": "-3179",
                                    "3": "-805"
                                },
                                {
                                    "0": "301",
                                    "1": "1",
                                    "2": "-906",
                                    "3": "-906"
                                },
                                {
                                    "0": "301",
                                    "1": "2",
                                    "2": "-1977",
                                    "3": "-1071"
                                },
                                {
                                    "0": "301",
                                    "1": "3",
                                    "2": "-3636",
                                    "3": "-1659"
                                },
                                {
                                    "0": "301",
                                    "1": "4",
                                    "2": "-3529",
                                    "3": "107"
                                },
                                {
                                    "0": "302",
                                    "1": "1",
                                    "2": "-1499",
                                    "3": "-1499"
                                },
                                {
                                    "0": "302",
                                    "1": "2",
                                    "2": "-2077",
                                    "3": "-578"
                                },
                                {
                                    "0": "302",
                                    "1": "3",
                                    "2": "-2410",
                                    "3": "-333"
                                },
                                {
                                    "0": "302",
                                    "1": "4",
                                    "2": "-1795",
                                    "3": "615"
                                },
                                {
                                    "0": "303",
                                    "1": "1",
                                    "2": "332",
                                    "3": "332"
                                },
                                {
                                    "0": "303",
                                    "1": "2",
                                    "2": "465",
                                    "3": "133"
                                },
                                {
                                    "0": "303",
                                    "1": "3",
                                    "2": "-629",
                                    "3": "-1094"
                                },
                                {
                                    "0": "303",
                                    "1": "4",
                                    "2": "-660",
                                    "3": "-31"
                                },
                                {
                                    "0": "304",
                                    "1": "1",
                                    "2": "152",
                                    "3": "152"
                                },
                                {
                                    "0": "304",
                                    "1": "2",
                                    "2": "-1360",
                                    "3": "-1512"
                                },
                                {
                                    "0": "304",
                                    "1": "3",
                                    "2": "-2420",
                                    "3": "-1060"
                                },
                                {
                                    "0": "304",
                                    "1": "4",
                                    "2": "-2047",
                                    "3": "373"
                                },
                                {
                                    "0": "305",
                                    "1": "1",
                                    "2": "20",
                                    "3": "20"
                                },
                                {
                                    "0": "305",
                                    "1": "2",
                                    "2": "189",
                                    "3": "169"
                                },
                                {
                                    "0": "305",
                                    "1": "3",
                                    "2": "-56",
                                    "3": "-245"
                                },
                                {
                                    "0": "306",
                                    "1": "1",
                                    "2": "402",
                                    "3": "402"
                                },
                                {
                                    "0": "306",
                                    "1": "3",
                                    "2": "0",
                                    "3": "-402"
                                },
                                {
                                    "0": "306",
                                    "1": "4",
                                    "2": "1565",
                                    "3": "1565"
                                },
                                {
                                    "0": "307",
                                    "1": "1",
                                    "2": "-696",
                                    "3": "-696"
                                },
                                {
                                    "0": "307",
                                    "1": "2",
                                    "2": "750",
                                    "3": "1446"
                                },
                                {
                                    "0": "307",
                                    "1": "3",
                                    "2": "525",
                                    "3": "-225"
                                },
                                {
                                    "0": "307",
                                    "1": "4",
                                    "2": "62",
                                    "3": "-463"
                                },
                                {
                                    "0": "308",
                                    "1": "1",
                                    "2": "-561",
                                    "3": "-561"
                                },
                                {
                                    "0": "308",
                                    "1": "2",
                                    "2": "316",
                                    "3": "877"
                                },
                                {
                                    "0": "308",
                                    "1": "3",
                                    "2": "710",
                                    "3": "394"
                                },
                                {
                                    "0": "308",
                                    "1": "4",
                                    "2": "971",
                                    "3": "261"
                                },
                                {
                                    "0": "309",
                                    "1": "1",
                                    "2": "-363",
                                    "3": "-363"
                                },
                                {
                                    "0": "309",
                                    "1": "2",
                                    "2": "-2404",
                                    "3": "-2041"
                                },
                                {
                                    "0": "309",
                                    "1": "3",
                                    "2": "-1813",
                                    "3": "591"
                                },
                                {
                                    "0": "309",
                                    "1": "4",
                                    "2": "-960",
                                    "3": "853"
                                },
                                {
                                    "0": "310",
                                    "1": "1",
                                    "2": "860",
                                    "3": "860"
                                },
                                {
                                    "0": "310",
                                    "1": "2",
                                    "2": "156",
                                    "3": "-704"
                                },
                                {
                                    "0": "310",
                                    "1": "3",
                                    "2": "3066",
                                    "3": "2910"
                                },
                                {
                                    "0": "311",
                                    "1": "1",
                                    "2": "310",
                                    "3": "310"
                                },
                                {
                                    "0": "311",
                                    "1": "2",
                                    "2": "1006",
                                    "3": "696"
                                },
                                {
                                    "0": "311",
                                    "1": "3",
                                    "2": "-955",
                                    "3": "-1961"
                                },
                                {
                                    "0": "311",
                                    "1": "4",
                                    "2": "-1055",
                                    "3": "-100"
                                },
                                {
                                    "0": "312",
                                    "1": "1",
                                    "2": "485",
                                    "3": "485"
                                },
                                {
                                    "0": "312",
                                    "1": "2",
                                    "2": "656",
                                    "3": "171"
                                },
                                {
                                    "0": "312",
                                    "1": "3",
                                    "2": "-1065",
                                    "3": "-1721"
                                },
                                {
                                    "0": "312",
                                    "1": "4",
                                    "2": "-2318",
                                    "3": "-1253"
                                },
                                {
                                    "0": "313",
                                    "1": "1",
                                    "2": "901",
                                    "3": "901"
                                },
                                {
                                    "0": "313",
                                    "1": "2",
                                    "2": "972",
                                    "3": "71"
                                },
                                {
                                    "0": "313",
                                    "1": "3",
                                    "2": "-1311",
                                    "3": "-2283"
                                },
                                {
                                    "0": "313",
                                    "1": "4",
                                    "2": "-34",
                                    "3": "1277"
                                },
                                {
                                    "0": "314",
                                    "1": "1",
                                    "2": "448",
                                    "3": "448"
                                },
                                {
                                    "0": "314",
                                    "1": "2",
                                    "2": "-633",
                                    "3": "-1081"
                                },
                                {
                                    "0": "314",
                                    "1": "3",
                                    "2": "91",
                                    "3": "724"
                                },
                                {
                                    "0": "314",
                                    "1": "4",
                                    "2": "-249",
                                    "3": "-340"
                                },
                                {
                                    "0": "315",
                                    "1": "1",
                                    "2": "1295",
                                    "3": "1295"
                                },
                                {
                                    "0": "315",
                                    "1": "2",
                                    "2": "1349",
                                    "3": "54"
                                },
                                {
                                    "0": "315",
                                    "1": "3",
                                    "2": "2287",
                                    "3": "938"
                                },
                                {
                                    "0": "316",
                                    "1": "1",
                                    "2": "184",
                                    "3": "184"
                                },
                                {
                                    "0": "316",
                                    "1": "2",
                                    "2": "-2483",
                                    "3": "-2667"
                                },
                                {
                                    "0": "316",
                                    "1": "3",
                                    "2": "-3299",
                                    "3": "-816"
                                },
                                {
                                    "0": "317",
                                    "1": "1",
                                    "2": "869",
                                    "3": "869"
                                },
                                {
                                    "0": "317",
                                    "1": "2",
                                    "2": "1232",
                                    "3": "363"
                                },
                                {
                                    "0": "317",
                                    "1": "4",
                                    "2": "995",
                                    "3": "-237"
                                },
                                {
                                    "0": "318",
                                    "1": "1",
                                    "2": "321",
                                    "3": "321"
                                },
                                {
                                    "0": "318",
                                    "1": "2",
                                    "2": "-342",
                                    "3": "-663"
                                },
                                {
                                    "0": "318",
                                    "1": "3",
                                    "2": "-1648",
                                    "3": "-1306"
                                },
                                {
                                    "0": "319",
                                    "1": "1",
                                    "2": "83",
                                    "3": "83"
                                },
                                {
                                    "0": "319",
                                    "1": "2",
                                    "2": "-703",
                                    "3": "-786"
                                },
                                {
                                    "0": "319",
                                    "1": "3",
                                    "2": "-488",
                                    "3": "215"
                                },
                                {
                                    "0": "320",
                                    "1": "1",
                                    "2": "2426",
                                    "3": "2426"
                                },
                                {
                                    "0": "320",
                                    "1": "2",
                                    "2": "1909",
                                    "3": "-517"
                                },
                                {
                                    "0": "320",
                                    "1": "3",
                                    "2": "2239",
                                    "3": "330"
                                },
                                {
                                    "0": "320",
                                    "1": "4",
                                    "2": "2851",
                                    "3": "612"
                                },
                                {
                                    "0": "321",
                                    "1": "1",
                                    "2": "243",
                                    "3": "243"
                                },
                                {
                                    "0": "321",
                                    "1": "2",
                                    "2": "-213",
                                    "3": "-456"
                                },
                                {
                                    "0": "321",
                                    "1": "4",
                                    "2": "572",
                                    "3": "785"
                                },
                                {
                                    "0": "322",
                                    "1": "1",
                                    "2": "1949",
                                    "3": "1949"
                                },
                                {
                                    "0": "322",
                                    "1": "2",
                                    "2": "2471",
                                    "3": "522"
                                },
                                {
                                    "0": "322",
                                    "1": "3",
                                    "2": "1811",
                                    "3": "-660"
                                },
                                {
                                    "0": "323",
                                    "1": "1",
                                    "2": "1323",
                                    "3": "1323"
                                },
                                {
                                    "0": "323",
                                    "1": "2",
                                    "2": "-1880",
                                    "3": "-3203"
                                },
                                {
                                    "0": "323",
                                    "1": "3",
                                    "2": "-4196",
                                    "3": "-2316"
                                },
                                {
                                    "0": "323",
                                    "1": "4",
                                    "2": "-5221",
                                    "3": "-1025"
                                },
                                {
                                    "0": "324",
                                    "1": "1",
                                    "2": "203",
                                    "3": "203"
                                },
                                {
                                    "0": "324",
                                    "1": "2",
                                    "2": "967",
                                    "3": "764"
                                },
                                {
                                    "0": "324",
                                    "1": "3",
                                    "2": "1470",
                                    "3": "503"
                                },
                                {
                                    "0": "325",
                                    "1": "1",
                                    "2": "60",
                                    "3": "60"
                                },
                                {
                                    "0": "325",
                                    "1": "2",
                                    "2": "-1878",
                                    "3": "-1938"
                                },
                                {
                                    "0": "325",
                                    "1": "3",
                                    "2": "-1862",
                                    "3": "16"
                                },
                                {
                                    "0": "326",
                                    "1": "1",
                                    "2": "-211",
                                    "3": "-211"
                                },
                                {
                                    "0": "326",
                                    "1": "2",
                                    "2": "417",
                                    "3": "628"
                                },
                                {
                                    "0": "327",
                                    "1": "1",
                                    "2": "919",
                                    "3": "919"
                                },
                                {
                                    "0": "327",
                                    "1": "3",
                                    "2": "-164",
                                    "3": "-1083"
                                },
                                {
                                    "0": "328",
                                    "1": "1",
                                    "2": "-1232",
                                    "3": "-1232"
                                },
                                {
                                    "0": "328",
                                    "1": "2",
                                    "2": "-3426",
                                    "3": "-2194"
                                },
                                {
                                    "0": "328",
                                    "1": "3",
                                    "2": "-4703",
                                    "3": "-1277"
                                },
                                {
                                    "0": "328",
                                    "1": "4",
                                    "2": "-4559",
                                    "3": "144"
                                },
                                {
                                    "0": "329",
                                    "1": "1",
                                    "2": "831",
                                    "3": "831"
                                },
                                {
                                    "0": "329",
                                    "1": "2",
                                    "2": "2",
                                    "3": "-829"
                                },
                                {
                                    "0": "329",
                                    "1": "3",
                                    "2": "-626",
                                    "3": "-628"
                                },
                                {
                                    "0": "329",
                                    "1": "4",
                                    "2": "736",
                                    "3": "1362"
                                },
                                {
                                    "0": "330",
                                    "1": "1",
                                    "2": "826",
                                    "3": "826"
                                },
                                {
                                    "0": "330",
                                    "1": "2",
                                    "2": "1099",
                                    "3": "273"
                                },
                                {
                                    "0": "330",
                                    "1": "3",
                                    "2": "-666",
                                    "3": "-1765"
                                },
                                {
                                    "0": "330",
                                    "1": "4",
                                    "2": "-1474",
                                    "3": "-808"
                                },
                                {
                                    "0": "331",
                                    "1": "1",
                                    "2": "-54",
                                    "3": "-54"
                                },
                                {
                                    "0": "331",
                                    "1": "2",
                                    "2": "-173",
                                    "3": "-119"
                                },
                                {
                                    "0": "331",
                                    "1": "3",
                                    "2": "-949",
                                    "3": "-776"
                                },
                                {
                                    "0": "332",
                                    "1": "1",
                                    "2": "202",
                                    "3": "202"
                                },
                                {
                                    "0": "332",
                                    "1": "2",
                                    "2": "559",
                                    "3": "357"
                                },
                                {
                                    "0": "332",
                                    "1": "3",
                                    "2": "494",
                                    "3": "-65"
                                },
                                {
                                    "0": "332",
                                    "1": "4",
                                    "2": "670",
                                    "3": "176"
                                },
                                {
                                    "0": "333",
                                    "1": "1",
                                    "2": "-229",
                                    "3": "-229"
                                },
                                {
                                    "0": "333",
                                    "1": "2",
                                    "2": "-127",
                                    "3": "102"
                                },
                                {
                                    "0": "333",
                                    "1": "3",
                                    "2": "567",
                                    "3": "694"
                                },
                                {
                                    "0": "333",
                                    "1": "4",
                                    "2": "920",
                                    "3": "353"
                                },
                                {
                                    "0": "334",
                                    "1": "1",
                                    "2": "1177",
                                    "3": "1177"
                                },
                                {
                                    "0": "334",
                                    "1": "2",
                                    "2": "2724",
                                    "3": "1547"
                                },
                                {
                                    "0": "334",
                                    "1": "3",
                                    "2": "2425",
                                    "3": "-299"
                                },
                                {
                                    "0": "334",
                                    "1": "4",
                                    "2": "1614",
                                    "3": "-811"
                                },
                                {
                                    "0": "335",
                                    "1": "1",
                                    "2": "570",
                                    "3": "570"
                                },
                                {
                                    "0": "335",
                                    "1": "2",
                                    "2": "-354",
                                    "3": "-924"
                                },
                                {
                                    "0": "335",
                                    "1": "3",
                                    "2": "423",
                                    "3": "777"
                                },
                                {
                                    "0": "336",
                                    "1": "1",
                                    "2": "543",
                                    "3": "543"
                                },
                                {
                                    "0": "336",
                                    "1": "2",
                                    "2": "-595",
                                    "3": "-1138"
                                },
                                {
                                    "0": "336",
                                    "1": "3",
                                    "2": "135",
                                    "3": "730"
                                },
                                {
                                    "0": "336",
                                    "1": "4",
                                    "2": "599",
                                    "3": "464"
                                },
                                {
                                    "0": "337",
                                    "1": "1",
                                    "2": "-264",
                                    "3": "-264"
                                },
                                {
                                    "0": "337",
                                    "1": "2",
                                    "2": "170",
                                    "3": "434"
                                },
                                {
                                    "0": "337",
                                    "1": "3",
                                    "2": "1450",
                                    "3": "1280"
                                },
                                {
                                    "0": "337",
                                    "1": "4",
                                    "2": "1314",
                                    "3": "-136"
                                },
                                {
                                    "0": "338",
                                    "1": "1",
                                    "2": "262",
                                    "3": "262"
                                },
                                {
                                    "0": "338",
                                    "1": "2",
                                    "2": "533",
                                    "3": "271"
                                },
                                {
                                    "0": "338",
                                    "1": "3",
                                    "2": "2767",
                                    "3": "2234"
                                },
                                {
                                    "0": "338",
                                    "1": "4",
                                    "2": "1264",
                                    "3": "-1503"
                                },
                                {
                                    "0": "339",
                                    "1": "1",
                                    "2": "-780",
                                    "3": "-780"
                                },
                                {
                                    "0": "339",
                                    "1": "2",
                                    "2": "1088",
                                    "3": "1868"
                                },
                                {
                                    "0": "339",
                                    "1": "3",
                                    "2": "625",
                                    "3": "-463"
                                },
                                {
                                    "0": "340",
                                    "1": "1",
                                    "2": "-1086",
                                    "3": "-1086"
                                },
                                {
                                    "0": "340",
                                    "1": "2",
                                    "2": "276",
                                    "3": "1362"
                                },
                                {
                                    "0": "340",
                                    "1": "3",
                                    "2": "559",
                                    "3": "283"
                                },
                                {
                                    "0": "340",
                                    "1": "4",
                                    "2": "1390",
                                    "3": "831"
                                },
                                {
                                    "0": "341",
                                    "1": "1",
                                    "2": "345",
                                    "3": "345"
                                },
                                {
                                    "0": "341",
                                    "1": "2",
                                    "2": "-873",
                                    "3": "-1218"
                                },
                                {
                                    "0": "341",
                                    "1": "3",
                                    "2": "-2133",
                                    "3": "-1260"
                                },
                                {
                                    "0": "341",
                                    "1": "4",
                                    "2": "-2094",
                                    "3": "39"
                                },
                                {
                                    "0": "342",
                                    "1": "1",
                                    "2": "347",
                                    "3": "347"
                                },
                                {
                                    "0": "342",
                                    "1": "2",
                                    "2": "-285",
                                    "3": "-632"
                                },
                                {
                                    "0": "342",
                                    "1": "3",
                                    "2": "503",
                                    "3": "788"
                                },
                                {
                                    "0": "342",
                                    "1": "4",
                                    "2": "-135",
                                    "3": "-638"
                                },
                                {
                                    "0": "343",
                                    "1": "1",
                                    "2": "1339",
                                    "3": "1339"
                                },
                                {
                                    "0": "343",
                                    "1": "2",
                                    "2": "1653",
                                    "3": "314"
                                },
                                {
                                    "0": "343",
                                    "1": "3",
                                    "2": "1841",
                                    "3": "188"
                                },
                                {
                                    "0": "344",
                                    "1": "1",
                                    "2": "-932",
                                    "3": "-932"
                                },
                                {
                                    "0": "344",
                                    "1": "2",
                                    "2": "505",
                                    "3": "1437"
                                },
                                {
                                    "0": "344",
                                    "1": "3",
                                    "2": "1475",
                                    "3": "970"
                                },
                                {
                                    "0": "345",
                                    "1": "1",
                                    "2": "-100",
                                    "3": "-100"
                                },
                                {
                                    "0": "345",
                                    "1": "2",
                                    "2": "-650",
                                    "3": "-550"
                                },
                                {
                                    "0": "345",
                                    "1": "3",
                                    "2": "-2288",
                                    "3": "-1638"
                                },
                                {
                                    "0": "346",
                                    "1": "1",
                                    "2": "916",
                                    "3": "916"
                                },
                                {
                                    "0": "346",
                                    "1": "2",
                                    "2": "-1052",
                                    "3": "-1968"
                                },
                                {
                                    "0": "346",
                                    "1": "4",
                                    "2": "-3802",
                                    "3": "-2750"
                                },
                                {
                                    "0": "347",
                                    "1": "1",
                                    "2": "394",
                                    "3": "394"
                                },
                                {
                                    "0": "347",
                                    "1": "2",
                                    "2": "-775",
                                    "3": "-1169"
                                },
                                {
                                    "0": "347",
                                    "1": "3",
                                    "2": "-1768",
                                    "3": "-993"
                                },
                                {
                                    "0": "348",
                                    "1": "1",
                                    "2": "-771",
                                    "3": "-771"
                                },
                                {
                                    "0": "348",
                                    "1": "2",
                                    "2": "114",
                                    "3": "885"
                                },
                                {
                                    "0": "348",
                                    "1": "3",
                                    "2": "-155",
                                    "3": "-269"
                                },
                                {
                                    "0": "348",
                                    "1": "4",
                                    "2": "48",
                                    "3": "203"
                                },
                                {
                                    "0": "349",
                                    "1": "1",
                                    "2": "-844",
                                    "3": "-844"
                                },
                                {
                                    "0": "349",
                                    "1": "2",
                                    "2": "-1040",
                                    "3": "-196"
                                },
                                {
                                    "0": "349",
                                    "1": "3",
                                    "2": "1309",
                                    "3": "2349"
                                },
                                {
                                    "0": "349",
                                    "1": "4",
                                    "2": "1964",
                                    "3": "655"
                                },
                                {
                                    "0": "350",
                                    "1": "1",
                                    "2": "2200",
                                    "3": "2200"
                                },
                                {
                                    "0": "350",
                                    "1": "2",
                                    "2": "1080",
                                    "3": "-1120"
                                },
                                {
                                    "0": "350",
                                    "1": "3",
                                    "2": "-174",
                                    "3": "-1254"
                                },
                                {
                                    "0": "350",
                                    "1": "4",
                                    "2": "-1233",
                                    "3": "-1059"
                                },
                                {
                                    "0": "351",
                                    "1": "1",
                                    "2": "90",
                                    "3": "90"
                                },
                                {
                                    "0": "351",
                                    "1": "2",
                                    "2": "-1533",
                                    "3": "-1623"
                                },
                                {
                                    "0": "351",
                                    "1": "3",
                                    "2": "-1860",
                                    "3": "-327"
                                },
                                {
                                    "0": "352",
                                    "1": "1",
                                    "2": "416",
                                    "3": "416"
                                },
                                {
                                    "0": "352",
                                    "1": "2",
                                    "2": "-1612",
                                    "3": "-2028"
                                },
                                {
                                    "0": "352",
                                    "1": "3",
                                    "2": "-1774",
                                    "3": "-162"
                                },
                                {
                                    "0": "352",
                                    "1": "4",
                                    "2": "-2269",
                                    "3": "-495"
                                },
                                {
                                    "0": "353",
                                    "1": "1",
                                    "2": "-555",
                                    "3": "-555"
                                },
                                {
                                    "0": "353",
                                    "1": "2",
                                    "2": "-1819",
                                    "3": "-1264"
                                },
                                {
                                    "0": "353",
                                    "1": "3",
                                    "2": "-516",
                                    "3": "1303"
                                },
                                {
                                    "0": "354",
                                    "1": "1",
                                    "2": "822",
                                    "3": "822"
                                },
                                {
                                    "0": "354",
                                    "1": "3",
                                    "2": "158",
                                    "3": "-664"
                                },
                                {
                                    "0": "355",
                                    "1": "1",
                                    "2": "-245",
                                    "3": "-245"
                                },
                                {
                                    "0": "355",
                                    "1": "2",
                                    "2": "-194",
                                    "3": "51"
                                },
                                {
                                    "0": "355",
                                    "1": "3",
                                    "2": "-1137",
                                    "3": "-943"
                                },
                                {
                                    "0": "355",
                                    "1": "4",
                                    "2": "-852",
                                    "3": "285"
                                },
                                {
                                    "0": "356",
                                    "1": "1",
                                    "2": "-1870",
                                    "3": "-1870"
                                },
                                {
                                    "0": "356",
                                    "1": "2",
                                    "2": "-3929",
                                    "3": "-2059"
                                },
                                {
                                    "0": "356",
                                    "1": "3",
                                    "2": "-6518",
                                    "3": "-2589"
                                },
                                {
                                    "0": "356",
                                    "1": "4",
                                    "2": "-6882",
                                    "3": "-364"
                                },
                                {
                                    "0": "357",
                                    "1": "1",
                                    "2": "780",
                                    "3": "780"
                                },
                                {
                                    "0": "357",
                                    "1": "2",
                                    "2": "878",
                                    "3": "98"
                                },
                                {
                                    "0": "357",
                                    "1": "3",
                                    "2": "496",
                                    "3": "-382"
                                },
                                {
                                    "0": "357",
                                    "1": "4",
                                    "2": "-188",
                                    "3": "-684"
                                },
                                {
                                    "0": "358",
                                    "1": "1",
                                    "2": "-1062",
                                    "3": "-1062"
                                },
                                {
                                    "0": "358",
                                    "1": "2",
                                    "2": "-619",
                                    "3": "443"
                                },
                                {
                                    "0": "358",
                                    "1": "3",
                                    "2": "-883",
                                    "3": "-264"
                                },
                                {
                                    "0": "358",
                                    "1": "4",
                                    "2": "-708",
                                    "3": "175"
                                },
                                {
                                    "0": "359",
                                    "1": "1",
                                    "2": "890",
                                    "3": "890"
                                },
                                {
                                    "0": "359",
                                    "1": "2",
                                    "2": "1284",
                                    "3": "394"
                                },
                                {
                                    "0": "359",
                                    "1": "3",
                                    "2": "3159",
                                    "3": "1875"
                                },
                                {
                                    "0": "359",
                                    "1": "4",
                                    "2": "2878",
                                    "3": "-281"
                                },
                                {
                                    "0": "360",
                                    "1": "1",
                                    "2": "-1306",
                                    "3": "-1306"
                                },
                                {
                                    "0": "360",
                                    "1": "2",
                                    "2": "-427",
                                    "3": "879"
                                },
                                {
                                    "0": "360",
                                    "1": "3",
                                    "2": "-1255",
                                    "3": "-828"
                                },
                                {
                                    "0": "360",
                                    "1": "4",
                                    "2": "-324",
                                    "3": "931"
                                },
                                {
                                    "0": "361",
                                    "1": "1",
                                    "2": "340",
                                    "3": "340"
                                },
                                {
                                    "0": "361",
                                    "1": "2",
                                    "2": "772",
                                    "3": "432"
                                },
                                {
                                    "0": "362",
                                    "1": "1",
                                    "2": "416",
                                    "3": "416"
                                },
                                {
                                    "0": "362",
                                    "1": "2",
                                    "2": "481",
                                    "3": "65"
                                },
                                {
                                    "0": "362",
                                    "1": "3",
                                    "2": "-564",
                                    "3": "-1045"
                                },
                                {
                                    "0": "362",
                                    "1": "4",
                                    "2": "615",
                                    "3": "1179"
                                },
                                {
                                    "0": "363",
                                    "1": "1",
                                    "2": "977",
                                    "3": "977"
                                },
                                {
                                    "0": "363",
                                    "1": "2",
                                    "2": "-618",
                                    "3": "-1595"
                                },
                                {
                                    "0": "363",
                                    "1": "3",
                                    "2": "-3065",
                                    "3": "-2447"
                                },
                                {
                                    "0": "363",
                                    "1": "4",
                                    "2": "-2886",
                                    "3": "179"
                                },
                                {
                                    "0": "364",
                                    "1": "1",
                                    "2": "-57",
                                    "3": "-57"
                                },
                                {
                                    "0": "364",
                                    "1": "2",
                                    "2": "-456",
                                    "3": "-399"
                                },
                                {
                                    "0": "364",
                                    "1": "3",
                                    "2": "1173",
                                    "3": "1629"
                                },
                                {
                                    "0": "364",
                                    "1": "4",
                                    "2": "811",
                                    "3": "-362"
                                },
                                {
                                    "0": "365",
                                    "1": "1",
                                    "2": "-68",
                                    "3": "-68"
                                },
                                {
                                    "0": "365",
                                    "1": "2",
                                    "2": "244",
                                    "3": "312"
                                },
                                {
                                    "0": "365",
                                    "1": "3",
                                    "2": "-75",
                                    "3": "-319"
                                },
                                {
                                    "0": "365",
                                    "1": "4",
                                    "2": "-760",
                                    "3": "-685"
                                },
                                {
                                    "0": "366",
                                    "1": "1",
                                    "2": "-51",
                                    "3": "-51"
                                },
                                {
                                    "0": "366",
                                    "1": "2",
                                    "2": "-93",
                                    "3": "-42"
                                },
                                {
                                    "0": "366",
                                    "1": "3",
                                    "2": "-1305",
                                    "3": "-1212"
                                },
                                {
                                    "0": "366",
                                    "1": "4",
                                    "2": "-1096",
                                    "3": "209"
                                },
                                {
                                    "0": "367",
                                    "1": "1",
                                    "2": "239",
                                    "3": "239"
                                },
                                {
                                    "0": "367",
                                    "1": "2",
                                    "2": "-467",
                                    "3": "-706"
                                },
                                {
                                    "0": "367",
                                    "1": "3",
                                    "2": "-3101",
                                    "3": "-2634"
                                },
                                {
                                    "0": "367",
                                    "1": "4",
                                    "2": "-1697",
                                    "3": "1404"
                                },
                                {
                                    "0": "368",
                                    "1": "1",
                                    "2": "-526",
                                    "3": "-526"
                                },
                                {
                                    "0": "368",
                                    "1": "2",
                                    "2": "-3490",
                                    "3": "-2964"
                                },
                                {
                                    "0": "368",
                                    "1": "3",
                                    "2": "-1476",
                                    "3": "2014"
                                },
                                {
                                    "0": "368",
                                    "1": "4",
                                    "2": "-2860",
                                    "3": "-1384"
                                },
                                {
                                    "0": "369",
                                    "1": "1",
                                    "2": "266",
                                    "3": "266"
                                },
                                {
                                    "0": "369",
                                    "1": "3",
                                    "2": "1679",
                                    "3": "1413"
                                },
                                {
                                    "0": "370",
                                    "1": "1",
                                    "2": "-2295",
                                    "3": "-2295"
                                },
                                {
                                    "0": "370",
                                    "1": "2",
                                    "2": "-1635",
                                    "3": "660"
                                },
                                {
                                    "0": "370",
                                    "1": "3",
                                    "2": "-1311",
                                    "3": "324"
                                },
                                {
                                    "0": "370",
                                    "1": "4",
                                    "2": "-1496",
                                    "3": "-185"
                                },
                                {
                                    "0": "371",
                                    "1": "1",
                                    "2": "-134",
                                    "3": "-134"
                                },
                                {
                                    "0": "371",
                                    "1": "2",
                                    "2": "-154",
                                    "3": "-20"
                                },
                                {
                                    "0": "371",
                                    "1": "3",
                                    "2": "-5",
                                    "3": "149"
                                },
                                {
                                    "0": "371",
                                    "1": "4",
                                    "2": "-1243",
                                    "3": "-1238"
                                },
                                {
                                    "0": "372",
                                    "1": "1",
                                    "2": "2718",
                                    "3": "2718"
                                },
                                {
                                    "0": "372",
                                    "1": "2",
                                    "2": "1241",
                                    "3": "-1477"
                                },
                                {
                                    "0": "372",
                                    "1": "3",
                                    "2": "-1625",
                                    "3": "-2866"
                                },
                                {
                                    "0": "373",
                                    "1": "1",
                                    "2": "493",
                                    "3": "493"
                                },
                                {
                                    "0": "373",
                                    "1": "2",
                                    "2": "277",
                                    "3": "-216"
                                },
                                {
                                    "0": "373",
                                    "1": "3",
                                    "2": "1057",
                                    "3": "780"
                                },
                                {
                                    "0": "373",
                                    "1": "4",
                                    "2": "1451",
                                    "3": "394"
                                },
                                {
                                    "0": "374",
                                    "1": "1",
                                    "2": "-457",
                                    "3": "-457"
                                },
                                {
                                    "0": "374",
                                    "1": "2",
                                    "2": "-1292",
                                    "3": "-835"
                                },
                                {
                                    "0": "374",
                                    "1": "3",
                                    "2": "-846",
                                    "3": "446"
                                },
                                {
                                    "0": "375",
                                    "1": "1",
                                    "2": "647",
                                    "3": "647"
                                },
                                {
                                    "0": "375",
                                    "1": "2",
                                    "2": "328",
                                    "3": "-319"
                                },
                                {
                                    "0": "375",
                                    "1": "3",
                                    "2": "-440",
                                    "3": "-768"
                                },
                                {
                                    "0": "375",
                                    "1": "4",
                                    "2": "-1291",
                                    "3": "-851"
                                },
                                {
                                    "0": "376",
                                    "1": "1",
                                    "2": "1614",
                                    "3": "1614"
                                },
                                {
                                    "0": "376",
                                    "1": "2",
                                    "2": "2515",
                                    "3": "901"
                                },
                                {
                                    "0": "376",
                                    "1": "3",
                                    "2": "3062",
                                    "3": "547"
                                },
                                {
                                    "0": "377",
                                    "1": "1",
                                    "2": "252",
                                    "3": "252"
                                },
                                {
                                    "0": "377",
                                    "1": "2",
                                    "2": "-182",
                                    "3": "-434"
                                },
                                {
                                    "0": "377",
                                    "1": "4",
                                    "2": "-785",
                                    "3": "-603"
                                },
                                {
                                    "0": "378",
                                    "1": "1",
                                    "2": "484",
                                    "3": "484"
                                },
                                {
                                    "0": "378",
                                    "1": "2",
                                    "2": "2424",
                                    "3": "1940"
                                },
                                {
                                    "0": "378",
                                    "1": "3",
                                    "2": "1590",
                                    "3": "-834"
                                },
                                {
                                    "0": "379",
                                    "1": "1",
                                    "2": "-35",
                                    "3": "-35"
                                },
                                {
                                    "0": "379",
                                    "1": "2",
                                    "2": "-268",
                                    "3": "-233"
                                },
                                {
                                    "0": "379",
                                    "1": "4",
                                    "2": "-1206",
                                    "3": "-938"
                                },
                                {
                                    "0": "380",
                                    "1": "1",
                                    "2": "-849",
                                    "3": "-849"
                                },
                                {
                                    "0": "380",
                                    "1": "2",
                                    "2": "-1481",
                                    "3": "-632"
                                },
                                {
                                    "0": "380",
                                    "1": "3",
                                    "2": "-3662",
                                    "3": "-2181"
                                },
                                {
                                    "0": "381",
                                    "1": "1",
                                    "2": "66",
                                    "3": "66"
                                },
                                {
                                    "0": "381",
                                    "1": "2",
                                    "2": "992",
                                    "3": "926"
                                },
                                {
                                    "0": "381",
                                    "1": "3",
                                    "2": "278",
                                    "3": "-714"
                                },
                                {
                                    "0": "381",
                                    "1": "4",
                                    "2": "-597",
                                    "3": "-875"
                                },
                                {
                                    "0": "382",
                                    "1": "1",
                                    "2": "-687",
                                    "3": "-687"
                                },
                                {
                                    "0": "382",
                                    "1": "2",
                                    "2": "-1195",
                                    "3": "-508"
                                },
                                {
                                    "0": "382",
                                    "1": "3",
                                    "2": "-1141",
                                    "3": "54"
                                },
                                {
                                    "0": "383",
                                    "1": "1",
                                    "2": "-36",
                                    "3": "-36"
                                },
                                {
                                    "0": "383",
                                    "1": "2",
                                    "2": "935",
                                    "3": "971"
                                },
                                {
                                    "0": "383",
                                    "1": "3",
                                    "2": "-617",
                                    "3": "-1552"
                                },
                                {
                                    "0": "383",
                                    "1": "4",
                                    "2": "913",
                                    "3": "1530"
                                },
                                {
                                    "0": "384",
                                    "1": "1",
                                    "2": "-10",
                                    "3": "-10"
                                },
                                {
                                    "0": "384",
                                    "1": "2",
                                    "2": "-2486",
                                    "3": "-2476"
                                },
                                {
                                    "0": "384",
                                    "1": "3",
                                    "2": "-2527",
                                    "3": "-41"
                                },
                                {
                                    "0": "385",
                                    "1": "1",
                                    "2": "-1174",
                                    "3": "-1174"
                                },
                                {
                                    "0": "385",
                                    "1": "3",
                                    "2": "-4693",
                                    "3": "-3519"
                                },
                                {
                                    "0": "385",
                                    "1": "4",
                                    "2": "-4861",
                                    "3": "-168"
                                },
                                {
                                    "0": "386",
                                    "1": "1",
                                    "2": "1108",
                                    "3": "1108"
                                },
                                {
                                    "0": "386",
                                    "1": "2",
                                    "2": "759",
                                    "3": "-349"
                                },
                                {
                                    "0": "386",
                                    "1": "3",
                                    "2": "-766",
                                    "3": "-1525"
                                },
                                {
                                    "0": "386",
                                    "1": "4",
                                    "2": "-3837",
                                    "3": "-3071"
                                },
                                {
                                    "0": "387",
                                    "1": "1",
                                    "2": "1069",
                                    "3": "1069"
                                },
                                {
                                    "0": "387",
                                    "1": "3",
                                    "2": "2551",
                                    "3": "1482"
                                },
                                {
                                    "0": "387",
                                    "1": "4",
                                    "2": "2454",
                                    "3": "-97"
                                },
                                {
                                    "0": "388",
                                    "1": "1",
                                    "2": "2243",
                                    "3": "2243"
                                },
                                {
                                    "0": "388",
                                    "1": "2",
                                    "2": "1126",
                                    "3": "-1117"
                                },
                                {
                                    "0": "388",
                                    "1": "3",
                                    "2": "1598",
                                    "3": "472"
                                },
                                {
                                    "0": "388",
                                    "1": "4",
                                    "2": "1376",
                                    "3": "-222"
                                },
                                {
                                    "0": "389",
                                    "1": "1",
                                    "2": "-27",
                                    "3": "-27"
                                },
                                {
                                    "0": "389",
                                    "1": "2",
                                    "2": "490",
                                    "3": "517"
                                },
                                {
                                    "0": "389",
                                    "1": "3",
                                    "2": "1214",
                                    "3": "724"
                                },
                                {
                                    "0": "389",
                                    "1": "4",
                                    "2": "2005",
                                    "3": "791"
                                },
                                {
                                    "0": "390",
                                    "1": "1",
                                    "2": "-705",
                                    "3": "-705"
                                },
                                {
                                    "0": "390",
                                    "1": "2",
                                    "2": "-2038",
                                    "3": "-1333"
                                },
                                {
                                    "0": "390",
                                    "1": "3",
                                    "2": "-1929",
                                    "3": "109"
                                },
                                {
                                    "0": "390",
                                    "1": "4",
                                    "2": "-2801",
                                    "3": "-872"
                                },
                                {
                                    "0": "391",
                                    "1": "1",
                                    "2": "603",
                                    "3": "603"
                                },
                                {
                                    "0": "391",
                                    "1": "2",
                                    "2": "2",
                                    "3": "-601"
                                },
                                {
                                    "0": "391",
                                    "1": "3",
                                    "2": "272",
                                    "3": "270"
                                },
                                {
                                    "0": "391",
                                    "1": "4",
                                    "2": "-90",
                                    "3": "-362"
                                },
                                {
                                    "0": "392",
                                    "1": "1",
                                    "2": "816",
                                    "3": "816"
                                },
                                {
                                    "0": "392",
                                    "1": "2",
                                    "2": "2034",
                                    "3": "1218"
                                },
                                {
                                    "0": "392",
                                    "1": "3",
                                    "2": "1498",
                                    "3": "-536"
                                },
                                {
                                    "0": "392",
                                    "1": "4",
                                    "2": "1253",
                                    "3": "-245"
                                },
                                {
                                    "0": "393",
                                    "1": "1",
                                    "2": "659",
                                    "3": "659"
                                },
                                {
                                    "0": "393",
                                    "1": "2",
                                    "2": "118",
                                    "3": "-541"
                                },
                                {
                                    "0": "393",
                                    "1": "3",
                                    "2": "1500",
                                    "3": "1382"
                                },
                                {
                                    "0": "393",
                                    "1": "4",
                                    "2": "639",
                                    "3": "-861"
                                },
                                {
                                    "0": "394",
                                    "1": "1",
                                    "2": "3268",
                                    "3": "3268"
                                },
                                {
                                    "0": "394",
                                    "1": "2",
                                    "2": "2644",
                                    "3": "-624"
                                },
                                {
                                    "0": "394",
                                    "1": "3",
                                    "2": "1420",
                                    "3": "-1224"
                                },
                                {
                                    "0": "395",
                                    "1": "1",
                                    "2": "-1782",
                                    "3": "-1782"
                                },
                                {
                                    "0": "395",
                                    "1": "2",
                                    "2": "-914",
                                    "3": "868"
                                },
                                {
                                    "0": "395",
                                    "1": "3",
                                    "2": "-903",
                                    "3": "11"
                                },
                                {
                                    "0": "395",
                                    "1": "4",
                                    "2": "-1723",
                                    "3": "-820"
                                },
                                {
                                    "0": "396",
                                    "1": "1",
                                    "2": "-909",
                                    "3": "-909"
                                },
                                {
                                    "0": "396",
                                    "1": "2",
                                    "2": "-550",
                                    "3": "359"
                                },
                                {
                                    "0": "396",
                                    "1": "3",
                                    "2": "-2848",
                                    "3": "-2298"
                                },
                                {
                                    "0": "397",
                                    "1": "1",
                                    "2": "973",
                                    "3": "973"
                                },
                                {
                                    "0": "397",
                                    "1": "2",
                                    "2": "1106",
                                    "3": "133"
                                },
                                {
                                    "0": "397",
                                    "1": "3",
                                    "2": "1709",
                                    "3": "603"
                                },
                                {
                                    "0": "398",
                                    "1": "1",
                                    "2": "-429",
                                    "3": "-429"
                                },
                                {
                                    "0": "398",
                                    "1": "2",
                                    "2": "-3171",
                                    "3": "-2742"
                                },
                                {
                                    "0": "398",
                                    "1": "3",
                                    "2": "-3401",
                                    "3": "-230"
                                },
                                {
                                    "0": "399",
                                    "1": "1",
                                    "2": "593",
                                    "3": "593"
                                },
                                {
                                    "0": "399",
                                    "1": "2",
                                    "2": "-301",
                                    "3": "-894"
                                },
                                {
                                    "0": "399",
                                    "1": "3",
                                    "2": "-1488",
                                    "3": "-1187"
                                },
                                {
                                    "0": "399",
                                    "1": "4",
                                    "2": "-1717",
                                    "3": "-229"
                                },
                                {
                                    "0": "400",
                                    "1": "1",
                                    "2": "155",
                                    "3": "155"
                                },
                                {
                                    "0": "400",
                                    "1": "2",
                                    "2": "-409",
                                    "3": "-564"
                                },
                                {
                                    "0": "400",
                                    "1": "4",
                                    "2": "1338",
                                    "3": "1747"
                                },
                                {
                                    "0": "401",
                                    "1": "1",
                                    "2": "102",
                                    "3": "102"
                                },
                                {
                                    "0": "401",
                                    "1": "2",
                                    "2": "-25",
                                    "3": "-127"
                                },
                                {
                                    "0": "401",
                                    "1": "3",
                                    "2": "83",
                                    "3": "108"
                                },
                                {
                                    "0": "402",
                                    "1": "1",
                                    "2": "1478",
                                    "3": "1478"
                                },
                                {
                                    "0": "402",
                                    "1": "2",
                                    "2": "1599",
                                    "3": "121"
                                },
                                {
                                    "0": "402",
                                    "1": "3",
                                    "2": "796",
                                    "3": "-803"
                                },
                                {
                                    "0": "403",
                                    "1": "1",
                                    "2": "303",
                                    "3": "303"
                                },
                                {
                                    "0": "403",
                                    "1": "3",
                                    "2": "987",
                                    "3": "684"
                                },
                                {
                                    "0": "403",
                                    "1": "4",
                                    "2": "1047",
                                    "3": "60"
                                },
                                {
                                    "0": "404",
                                    "1": "1",
                                    "2": "-245",
                                    "3": "-245"
                                },
                                {
                                    "0": "404",
                                    "1": "2",
                                    "2": "-347",
                                    "3": "-102"
                                },
                                {
                                    "0": "404",
                                    "1": "3",
                                    "2": "-2484",
                                    "3": "-2137"
                                },
                                {
                                    "0": "405",
                                    "1": "1",
                                    "2": "-2897",
                                    "3": "-2897"
                                },
                                {
                                    "0": "405",
                                    "1": "2",
                                    "2": "-4125",
                                    "3": "-1228"
                                },
                                {
                                    "0": "405",
                                    "1": "3",
                                    "2": "-6882",
                                    "3": "-2757"
                                },
                                {
                                    "0": "405",
                                    "1": "4",
                                    "2": "-7070",
                                    "3": "-188"
                                },
                                {
                                    "0": "406",
                                    "1": "1",
                                    "2": "795",
                                    "3": "795"
                                },
                                {
                                    "0": "406",
                                    "1": "2",
                                    "2": "1131",
                                    "3": "336"
                                },
                                {
                                    "0": "406",
                                    "1": "3",
                                    "2": "2597",
                                    "3": "1466"
                                },
                                {
                                    "0": "406",
                                    "1": "4",
                                    "2": "2279",
                                    "3": "-318"
                                },
                                {
                                    "0": "407",
                                    "1": "1",
                                    "2": "7",
                                    "3": "7"
                                },
                                {
                                    "0": "407",
                                    "1": "2",
                                    "2": "46",
                                    "3": "39"
                                },
                                {
                                    "0": "407",
                                    "1": "3",
                                    "2": "-900",
                                    "3": "-946"
                                },
                                {
                                    "0": "407",
                                    "1": "4",
                                    "2": "-3275",
                                    "3": "-2375"
                                },
                                {
                                    "0": "408",
                                    "1": "1",
                                    "2": "-145",
                                    "3": "-145"
                                },
                                {
                                    "0": "408",
                                    "1": "3",
                                    "2": "800",
                                    "3": "945"
                                },
                                {
                                    "0": "408",
                                    "1": "4",
                                    "2": "-132",
                                    "3": "-932"
                                },
                                {
                                    "0": "409",
                                    "1": "1",
                                    "2": "155",
                                    "3": "155"
                                },
                                {
                                    "0": "409",
                                    "1": "2",
                                    "2": "1371",
                                    "3": "1216"
                                },
                                {
                                    "0": "409",
                                    "1": "3",
                                    "2": "2455",
                                    "3": "1084"
                                },
                                {
                                    "0": "409",
                                    "1": "4",
                                    "2": "2623",
                                    "3": "168"
                                },
                                {
                                    "0": "410",
                                    "1": "1",
                                    "2": "1025",
                                    "3": "1025"
                                },
                                {
                                    "0": "410",
                                    "1": "2",
                                    "2": "199",
                                    "3": "-826"
                                },
                                {
                                    "0": "410",
                                    "1": "3",
                                    "2": "-52",
                                    "3": "-251"
                                },
                                {
                                    "0": "411",
                                    "1": "1",
                                    "2": "551",
                                    "3": "551"
                                },
                                {
                                    "0": "411",
                                    "1": "4",
                                    "2": "-981",
                                    "3": "-1532"
                                },
                                {
                                    "0": "412",
                                    "1": "1",
                                    "2": "722",
                                    "3": "722"
                                },
                                {
                                    "0": "412",
                                    "1": "2",
                                    "2": "608",
                                    "3": "-114"
                                },
                                {
                                    "0": "413",
                                    "1": "1",
                                    "2": "642",
                                    "3": "642"
                                },
                                {
                                    "0": "413",
                                    "1": "2",
                                    "2": "1072",
                                    "3": "430"
                                },
                                {
                                    "0": "413",
                                    "1": "4",
                                    "2": "801",
                                    "3": "-271"
                                },
                                {
                                    "0": "414",
                                    "1": "1",
                                    "2": "439",
                                    "3": "439"
                                },
                                {
                                    "0": "414",
                                    "1": "3",
                                    "2": "1918",
                                    "3": "1479"
                                },
                                {
                                    "0": "415",
                                    "1": "1",
                                    "2": "331",
                                    "3": "331"
                                },
                                {
                                    "0": "415",
                                    "1": "2",
                                    "2": "-586",
                                    "3": "-917"
                                },
                                {
                                    "0": "415",
                                    "1": "3",
                                    "2": "-4287",
                                    "3": "-3701"
                                },
                                {
                                    "0": "416",
                                    "1": "1",
                                    "2": "756",
                                    "3": "756"
                                },
                                {
                                    "0": "416",
                                    "1": "2",
                                    "2": "1715",
                                    "3": "959"
                                },
                                {
                                    "0": "416",
                                    "1": "3",
                                    "2": "3324",
                                    "3": "1609"
                                },
                                {
                                    "0": "416",
                                    "1": "4",
                                    "2": "3898",
                                    "3": "574"
                                },
                                {
                                    "0": "417",
                                    "1": "1",
                                    "2": "707",
                                    "3": "707"
                                },
                                {
                                    "0": "417",
                                    "1": "2",
                                    "2": "-1079",
                                    "3": "-1786"
                                },
                                {
                                    "0": "417",
                                    "1": "3",
                                    "2": "-1540",
                                    "3": "-461"
                                },
                                {
                                    "0": "417",
                                    "1": "4",
                                    "2": "-1847",
                                    "3": "-307"
                                },
                                {
                                    "0": "418",
                                    "1": "1",
                                    "2": "-499",
                                    "3": "-499"
                                },
                                {
                                    "0": "418",
                                    "1": "2",
                                    "2": "-996",
                                    "3": "-497"
                                },
                                {
                                    "0": "418",
                                    "1": "3",
                                    "2": "-1624",
                                    "3": "-628"
                                },
                                {
                                    "0": "418",
                                    "1": "4",
                                    "2": "-1828",
                                    "3": "-204"
                                },
                                {
                                    "0": "419",
                                    "1": "1",
                                    "2": "1193",
                                    "3": "1193"
                                },
                                {
                                    "0": "419",
                                    "1": "2",
                                    "2": "123",
                                    "3": "-1070"
                                },
                                {
                                    "0": "419",
                                    "1": "3",
                                    "2": "-1280",
                                    "3": "-1403"
                                },
                                {
                                    "0": "420",
                                    "1": "1",
                                    "2": "-280",
                                    "3": "-280"
                                },
                                {
                                    "0": "420",
                                    "1": "2",
                                    "2": "-2117",
                                    "3": "-1837"
                                },
                                {
                                    "0": "420",
                                    "1": "3",
                                    "2": "-2457",
                                    "3": "-340"
                                },
                                {
                                    "0": "420",
                                    "1": "4",
                                    "2": "-2078",
                                    "3": "379"
                                },
                                {
                                    "0": "421",
                                    "1": "1",
                                    "2": "-741",
                                    "3": "-741"
                                },
                                {
                                    "0": "421",
                                    "1": "2",
                                    "2": "-571",
                                    "3": "170"
                                },
                                {
                                    "0": "421",
                                    "1": "3",
                                    "2": "-413",
                                    "3": "158"
                                },
                                {
                                    "0": "421",
                                    "1": "4",
                                    "2": "312",
                                    "3": "725"
                                },
                                {
                                    "0": "422",
                                    "1": "1",
                                    "2": "356",
                                    "3": "356"
                                },
                                {
                                    "0": "422",
                                    "1": "2",
                                    "2": "-1661",
                                    "3": "-2017"
                                },
                                {
                                    "0": "422",
                                    "1": "3",
                                    "2": "-1046",
                                    "3": "615"
                                },
                                {
                                    "0": "422",
                                    "1": "4",
                                    "2": "-3357",
                                    "3": "-2311"
                                },
                                {
                                    "0": "423",
                                    "1": "1",
                                    "2": "361",
                                    "3": "361"
                                },
                                {
                                    "0": "423",
                                    "1": "2",
                                    "2": "-262",
                                    "3": "-623"
                                },
                                {
                                    "0": "423",
                                    "1": "3",
                                    "2": "1321",
                                    "3": "1583"
                                },
                                {
                                    "0": "424",
                                    "1": "1",
                                    "2": "-595",
                                    "3": "-595"
                                },
                                {
                                    "0": "424",
                                    "1": "2",
                                    "2": "-648",
                                    "3": "-53"
                                },
                                {
                                    "0": "424",
                                    "1": "3",
                                    "2": "-940",
                                    "3": "-292"
                                },
                                {
                                    "0": "424",
                                    "1": "4",
                                    "2": "-314",
                                    "3": "626"
                                },
                                {
                                    "0": "425",
                                    "1": "1",
                                    "2": "63",
                                    "3": "63"
                                },
                                {
                                    "0": "425",
                                    "1": "2",
                                    "2": "-505",
                                    "3": "-568"
                                },
                                {
                                    "0": "425",
                                    "1": "3",
                                    "2": "57",
                                    "3": "562"
                                },
                                {
                                    "0": "425",
                                    "1": "4",
                                    "2": "-721",
                                    "3": "-778"
                                },
                                {
                                    "0": "426",
                                    "1": "1",
                                    "2": "-880",
                                    "3": "-880"
                                },
                                {
                                    "0": "426",
                                    "1": "2",
                                    "2": "-3802",
                                    "3": "-2922"
                                },
                                {
                                    "0": "426",
                                    "1": "3",
                                    "2": "-4352",
                                    "3": "-550"
                                },
                                {
                                    "0": "426",
                                    "1": "4",
                                    "2": "-5352",
                                    "3": "-1000"
                                },
                                {
                                    "0": "427",
                                    "1": "1",
                                    "2": "588",
                                    "3": "588"
                                },
                                {
                                    "0": "427",
                                    "1": "2",
                                    "2": "1305",
                                    "3": "717"
                                },
                                {
                                    "0": "427",
                                    "1": "3",
                                    "2": "676",
                                    "3": "-629"
                                },
                                {
                                    "0": "427",
                                    "1": "4",
                                    "2": "-316",
                                    "3": "-992"
                                },
                                {
                                    "0": "428",
                                    "1": "1",
                                    "2": "280",
                                    "3": "280"
                                },
                                {
                                    "0": "428",
                                    "1": "2",
                                    "2": "687",
                                    "3": "407"
                                },
                                {
                                    "0": "428",
                                    "1": "3",
                                    "2": "1217",
                                    "3": "530"
                                },
                                {
                                    "0": "429",
                                    "1": "1",
                                    "2": "82",
                                    "3": "82"
                                },
                                {
                                    "0": "429",
                                    "1": "2",
                                    "2": "473",
                                    "3": "391"
                                },
                                {
                                    "0": "429",
                                    "1": "3",
                                    "2": "-46",
                                    "3": "-519"
                                },
                                {
                                    "0": "429",
                                    "1": "4",
                                    "2": "-901",
                                    "3": "-855"
                                },
                                {
                                    "0": "430",
                                    "1": "1",
                                    "2": "-8",
                                    "3": "-8"
                                },
                                {
                                    "0": "430",
                                    "1": "2",
                                    "2": "403",
                                    "3": "411"
                                },
                                {
                                    "0": "430",
                                    "1": "3",
                                    "2": "-1326",
                                    "3": "-1729"
                                },
                                {
                                    "0": "431",
                                    "1": "1",
                                    "2": "-400",
                                    "3": "-400"
                                },
                                {
                                    "0": "431",
                                    "1": "2",
                                    "2": "-1139",
                                    "3": "-739"
                                },
                                {
                                    "0": "432",
                                    "1": "1",
                                    "2": "392",
                                    "3": "392"
                                },
                                {
                                    "0": "432",
                                    "1": "2",
                                    "2": "986",
                                    "3": "594"
                                },
                                {
                                    "0": "432",
                                    "1": "3",
                                    "2": "963",
                                    "3": "-23"
                                },
                                {
                                    "0": "432",
                                    "1": "4",
                                    "2": "2435",
                                    "3": "1472"
                                },
                                {
                                    "0": "433",
                                    "1": "1",
                                    "2": "883",
                                    "3": "883"
                                },
                                {
                                    "0": "433",
                                    "1": "2",
                                    "2": "1286",
                                    "3": "403"
                                },
                                {
                                    "0": "433",
                                    "1": "3",
                                    "2": "660",
                                    "3": "-626"
                                },
                                {
                                    "0": "434",
                                    "1": "1",
                                    "2": "1123",
                                    "3": "1123"
                                },
                                {
                                    "0": "434",
                                    "1": "2",
                                    "2": "-117",
                                    "3": "-1240"
                                },
                                {
                                    "0": "434",
                                    "1": "3",
                                    "2": "-2366",
                                    "3": "-2249"
                                },
                                {
                                    "0": "434",
                                    "1": "4",
                                    "2": "-1815",
                                    "3": "551"
                                },
                                {
                                    "0": "435",
                                    "1": "1",
                                    "2": "-1329",
                                    "3": "-1329"
                                },
                                {
                                    "0": "435",
                                    "1": "2",
                                    "2": "-38",
                                    "3": "1291"
                                },
                                {
                                    "0": "435",
                                    "1": "3",
                                    "2": "-1176",
                                    "3": "-1138"
                                },
                                {
                                    "0": "436",
                                    "1": "1",
                                    "2": "917",
                                    "3": "917"
                                },
                                {
                                    "0": "436",
                                    "1": "2",
                                    "2": "886",
                                    "3": "-31"
                                },
                                {
                                    "0": "436",
                                    "1": "3",
                                    "2": "-676",
                                    "3": "-1562"
                                },
                                {
                                    "0": "437",
                                    "1": "1",
                                    "2": "-361",
                                    "3": "-361"
                                },
                                {
                                    "0": "437",
                                    "1": "2",
                                    "2": "-1537",
                                    "3": "-1176"
                                },
                                {
                                    "0": "437",
                                    "1": "3",
                                    "2": "-1318",
                                    "3": "219"
                                },
                                {
                                    "0": "437",
                                    "1": "4",
                                    "2": "-1134",
                                    "3": "184"
                                },
                                {
                                    "0": "438",
                                    "1": "1",
                                    "2": "1317",
                                    "3": "1317"
                                },
                                {
                                    "0": "438",
                                    "1": "2",
                                    "2": "2813",
                                    "3": "1496"
                                },
                                {
                                    "0": "438",
                                    "1": "3",
                                    "2": "1423",
                                    "3": "-1390"
                                },
                                {
                                    "0": "439",
                                    "1": "1",
                                    "2": "430",
                                    "3": "430"
                                },
                                {
                                    "0": "439",
                                    "1": "3",
                                    "2": "-381",
                                    "3": "-811"
                                },
                                {
                                    "0": "439",
                                    "1": "4",
                                    "2": "318",
                                    "3": "699"
                                },
                                {
                                    "0": "440",
                                    "1": "1",
                                    "2": "-123",
                                    "3": "-123"
                                },
                                {
                                    "0": "440",
                                    "1": "2",
                                    "2": "146",
                                    "3": "269"
                                },
                                {
                                    "0": "440",
                                    "1": "3",
                                    "2": "490",
                                    "3": "344"
                                },
                                {
                                    "0": "441",
                                    "1": "1",
                                    "2": "-329",
                                    "3": "-329"
                                },
                                {
                                    "0": "441",
                                    "1": "2",
                                    "2": "745",
                                    "3": "1074"
                                },
                                {
                                    "0": "441",
                                    "1": "3",
                                    "2": "-669",
                                    "3": "-1414"
                                },
                                {
                                    "0": "441",
                                    "1": "4",
                                    "2": "-798",
                                    "3": "-129"
                                },
                                {
                                    "0": "442",
                                    "1": "1",
                                    "2": "142",
                                    "3": "142"
                                },
                                {
                                    "0": "442",
                                    "1": "2",
                                    "2": "-2898",
                                    "3": "-3040"
                                },
                                {
                                    "0": "442",
                                    "1": "3",
                                    "2": "-4520",
                                    "3": "-1622"
                                },
                                {
                                    "0": "442",
                                    "1": "4",
                                    "2": "-5499",
                                    "3": "-979"
                                },
                                {
                                    "0": "443",
                                    "1": "1",
                                    "2": "760",
                                    "3": "760"
                                },
                                {
                                    "0": "443",
                                    "1": "2",
                                    "2": "710",
                                    "3": "-50"
                                },
                                {
                                    "0": "443",
                                    "1": "3",
                                    "2": "-359",
                                    "3": "-1069"
                                },
                                {
                                    "0": "443",
                                    "1": "4",
                                    "2": "-11",
                                    "3": "348"
                                },
                                {
                                    "0": "444",
                                    "1": "1",
                                    "2": "83",
                                    "3": "83"
                                },
                                {
                                    "0": "444",
                                    "1": "2",
                                    "2": "-1178",
                                    "3": "-1261"
                                },
                                {
                                    "0": "444",
                                    "1": "3",
                                    "2": "-499",
                                    "3": "679"
                                },
                                {
                                    "0": "444",
                                    "1": "4",
                                    "2": "-820",
                                    "3": "-321"
                                },
                                {
                                    "0": "445",
                                    "1": "1",
                                    "2": "1364",
                                    "3": "1364"
                                },
                                {
                                    "0": "445",
                                    "1": "2",
                                    "2": "894",
                                    "3": "-470"
                                },
                                {
                                    "0": "445",
                                    "1": "3",
                                    "2": "724",
                                    "3": "-170"
                                },
                                {
                                    "0": "445",
                                    "1": "4",
                                    "2": "312",
                                    "3": "-412"
                                },
                                {
                                    "0": "446",
                                    "1": "1",
                                    "2": "412",
                                    "3": "412"
                                },
                                {
                                    "0": "446",
                                    "1": "3",
                                    "2": "-53",
                                    "3": "-465"
                                },
                                {
                                    "0": "446",
                                    "1": "4",
                                    "2": "405",
                                    "3": "458"
                                },
                                {
                                    "0": "447",
                                    "1": "1",
                                    "2": "1195",
                                    "3": "1195"
                                },
                                {
                                    "0": "447",
                                    "1": "2",
                                    "2": "41",
                                    "3": "-1154"
                                },
                                {
                                    "0": "447",
                                    "1": "3",
                                    "2": "-1290",
                                    "3": "-1331"
                                },
                                {
                                    "0": "448",
                                    "1": "1",
                                    "2": "1360",
                                    "3": "1360"
                                },
                                {
                                    "0": "448",
                                    "1": "2",
                                    "2": "-909",
                                    "3": "-2269"
                                },
                                {
                                    "0": "448",
                                    "1": "3",
                                    "2": "-2042",
                                    "3": "-1133"
                                },
                                {
                                    "0": "448",
                                    "1": "4",
                                    "2": "-2418",
                                    "3": "-376"
                                },
                                {
                                    "0": "449",
                                    "1": "1",
                                    "2": "-3100",
                                    "3": "-3100"
                                },
                                {
                                    "0": "449",
                                    "1": "2",
                                    "2": "-3928",
                                    "3": "-828"
                                },
                                {
                                    "0": "449",
                                    "1": "3",
                                    "2": "-3045",
                                    "3": "883"
                                },
                                {
                                    "0": "450",
                                    "1": "1",
                                    "2": "469",
                                    "3": "469"
                                },
                                {
                                    "0": "450",
                                    "1": "2",
                                    "2": "-159",
                                    "3": "-628"
                                },
                                {
                                    "0": "450",
                                    "1": "3",
                                    "2": "-737",
                                    "3": "-578"
                                },
                                {
                                    "0": "450",
                                    "1": "4",
                                    "2": "-36",
                                    "3": "701"
                                },
                                {
                                    "0": "451",
                                    "1": "1",
                                    "2": "910",
                                    "3": "910"
                                },
                                {
                                    "0": "451",
                                    "1": "2",
                                    "2": "-1313",
                                    "3": "-2223"
                                },
                                {
                                    "0": "451",
                                    "1": "3",
                                    "2": "-645",
                                    "3": "668"
                                },
                                {
                                    "0": "451",
                                    "1": "4",
                                    "2": "-756",
                                    "3": "-111"
                                },
                                {
                                    "0": "452",
                                    "1": "1",
                                    "2": "1360",
                                    "3": "1360"
                                },
                                {
                                    "0": "452",
                                    "1": "2",
                                    "2": "1654",
                                    "3": "294"
                                },
                                {
                                    "0": "452",
                                    "1": "3",
                                    "2": "1613",
                                    "3": "-41"
                                },
                                {
                                    "0": "453",
                                    "1": "1",
                                    "2": "638",
                                    "3": "638"
                                },
                                {
                                    "0": "453",
                                    "1": "2",
                                    "2": "811",
                                    "3": "173"
                                },
                                {
                                    "0": "453",
                                    "1": "3",
                                    "2": "-595",
                                    "3": "-1406"
                                },
                                {
                                    "0": "453",
                                    "1": "4",
                                    "2": "117",
                                    "3": "712"
                                },
                                {
                                    "0": "454",
                                    "1": "1",
                                    "2": "11",
                                    "3": "11"
                                },
                                {
                                    "0": "454",
                                    "1": "2",
                                    "2": "2163",
                                    "3": "2152"
                                },
                                {
                                    "0": "454",
                                    "1": "3",
                                    "2": "2101",
                                    "3": "-62"
                                },
                                {
                                    "0": "455",
                                    "1": "1",
                                    "2": "329",
                                    "3": "329"
                                },
                                {
                                    "0": "455",
                                    "1": "3",
                                    "2": "-231",
                                    "3": "-560"
                                },
                                {
                                    "0": "456",
                                    "1": "1",
                                    "2": "1314",
                                    "3": "1314"
                                },
                                {
                                    "0": "456",
                                    "1": "2",
                                    "2": "744",
                                    "3": "-570"
                                },
                                {
                                    "0": "456",
                                    "1": "3",
                                    "2": "-55",
                                    "3": "-799"
                                },
                                {
                                    "0": "456",
                                    "1": "4",
                                    "2": "12",
                                    "3": "67"
                                },
                                {
                                    "0": "457",
                                    "1": "1",
                                    "2": "195",
                                    "3": "195"
                                },
                                {
                                    "0": "457",
                                    "1": "2",
                                    "2": "-234",
                                    "3": "-429"
                                },
                                {
                                    "0": "457",
                                    "1": "3",
                                    "2": "-714",
                                    "3": "-480"
                                },
                                {
                                    "0": "457",
                                    "1": "4",
                                    "2": "-718",
                                    "3": "-4"
                                },
                                {
                                    "0": "458",
                                    "1": "1",
                                    "2": "715",
                                    "3": "715"
                                },
                                {
                                    "0": "458",
                                    "1": "2",
                                    "2": "-653",
                                    "3": "-1368"
                                },
                                {
                                    "0": "459",
                                    "1": "1",
                                    "2": "246",
                                    "3": "246"
                                },
                                {
                                    "0": "459",
                                    "1": "2",
                                    "2": "-2912",
                                    "3": "-3158"
                                },
                                {
                                    "0": "459",
                                    "1": "3",
                                    "2": "-2834",
                                    "3": "78"
                                },
                                {
                                    "0": "460",
                                    "1": "1",
                                    "2": "80",
                                    "3": "80"
                                },
                                {
                                    "0": "460",
                                    "1": "2",
                                    "2": "-1158",
                                    "3": "-1238"
                                },
                                {
                                    "0": "460",
                                    "1": "3",
                                    "2": "-1175",
                                    "3": "-17"
                                },
                                {
                                    "0": "460",
                                    "1": "4",
                                    "2": "-327",
                                    "3": "848"
                                },
                                {
                                    "0": "461",
                                    "1": "1",
                                    "2": "2267",
                                    "3": "2267"
                                },
                                {
                                    "0": "461",
                                    "1": "2",
                                    "2": "3431",
                                    "3": "1164"
                                },
                                {
                                    "0": "461",
                                    "1": "3",
                                    "2": "3212",
                                    "3": "-219"
                                },
                                {
                                    "0": "462",
                                    "1": "1",
                                    "2": "907",
                                    "3": "907"
                                },
                                {
                                    "0": "462",
                                    "1": "2",
                                    "2": "-10",
                                    "3": "-917"
                                },
                                {
                                    "0": "462",
                                    "1": "3",
                                    "2": "-831",
                                    "3": "-821"
                                },
                                {
                                    "0": "462",
                                    "1": "4",
                                    "2": "-1395",
                                    "3": "-564"
                                },
                                {
                                    "0": "463",
                                    "1": "1",
                                    "2": "1166",
                                    "3": "1166"
                                },
                                {
                                    "0": "463",
                                    "1": "2",
                                    "2": "312",
                                    "3": "-854"
                                },
                                {
                                    "0": "463",
                                    "1": "3",
                                    "2": "673",
                                    "3": "361"
                                },
                                {
                                    "0": "463",
                                    "1": "4",
                                    "2": "280",
                                    "3": "-393"
                                },
                                {
                                    "0": "464",
                                    "1": "1",
                                    "2": "953",
                                    "3": "953"
                                },
                                {
                                    "0": "464",
                                    "1": "3",
                                    "2": "-511",
                                    "3": "-1464"
                                },
                                {
                                    "0": "464",
                                    "1": "4",
                                    "2": "-1494",
                                    "3": "-983"
                                },
                                {
                                    "0": "465",
                                    "1": "1",
                                    "2": "955",
                                    "3": "955"
                                },
                                {
                                    "0": "465",
                                    "1": "2",
                                    "2": "1989",
                                    "3": "1034"
                                },
                                {
                                    "0": "465",
                                    "1": "3",
                                    "2": "1506",
                                    "3": "-483"
                                },
                                {
                                    "0": "465",
                                    "1": "4",
                                    "2": "1350",
                                    "3": "-156"
                                },
                                {
                                    "0": "466",
                                    "1": "1",
                                    "2": "80",
                                    "3": "80"
                                },
                                {
                                    "0": "466",
                                    "1": "2",
                                    "2": "-1979",
                                    "3": "-2059"
                                },
                                {
                                    "0": "466",
                                    "1": "3",
                                    "2": "-2113",
                                    "3": "-134"
                                },
                                {
                                    "0": "467",
                                    "1": "1",
                                    "2": "1994",
                                    "3": "1994"
                                },
                                {
                                    "0": "467",
                                    "1": "2",
                                    "2": "3582",
                                    "3": "1588"
                                },
                                {
                                    "0": "467",
                                    "1": "3",
                                    "2": "2754",
                                    "3": "-828"
                                },
                                {
                                    "0": "467",
                                    "1": "4",
                                    "2": "1190",
                                    "3": "-1564"
                                },
                                {
                                    "0": "468",
                                    "1": "1",
                                    "2": "39",
                                    "3": "39"
                                },
                                {
                                    "0": "468",
                                    "1": "2",
                                    "2": "-155",
                                    "3": "-194"
                                },
                                {
                                    "0": "468",
                                    "1": "3",
                                    "2": "-917",
                                    "3": "-762"
                                },
                                {
                                    "0": "469",
                                    "1": "1",
                                    "2": "386",
                                    "3": "386"
                                },
                                {
                                    "0": "469",
                                    "1": "2",
                                    "2": "2161",
                                    "3": "1775"
                                },
                                {
                                    "0": "469",
                                    "1": "3",
                                    "2": "-802",
                                    "3": "-2963"
                                },
                                {
                                    "0": "469",
                                    "1": "4",
                                    "2": "-1537",
                                    "3": "-735"
                                },
                                {
                                    "0": "470",
                                    "1": "1",
                                    "2": "377",
                                    "3": "377"
                                },
                                {
                                    "0": "470",
                                    "1": "2",
                                    "2": "-311",
                                    "3": "-688"
                                },
                                {
                                    "0": "471",
                                    "1": "1",
                                    "2": "781",
                                    "3": "781"
                                },
                                {
                                    "0": "471",
                                    "1": "3",
                                    "2": "1238",
                                    "3": "457"
                                },
                                {
                                    "0": "471",
                                    "1": "4",
                                    "2": "1887",
                                    "3": "649"
                                },
                                {
                                    "0": "472",
                                    "1": "1",
                                    "2": "811",
                                    "3": "811"
                                },
                                {
                                    "0": "472",
                                    "1": "2",
                                    "2": "-115",
                                    "3": "-926"
                                },
                                {
                                    "0": "472",
                                    "1": "3",
                                    "2": "32",
                                    "3": "147"
                                },
                                {
                                    "0": "472",
                                    "1": "4",
                                    "2": "218",
                                    "3": "186"
                                },
                                {
                                    "0": "473",
                                    "1": "1",
                                    "2": "-183",
                                    "3": "-183"
                                },
                                {
                                    "0": "473",
                                    "1": "2",
                                    "2": "-864",
                                    "3": "-681"
                                },
                                {
                                    "0": "473",
                                    "1": "3",
                                    "2": "-3630",
                                    "3": "-2766"
                                },
                                {
                                    "0": "473",
                                    "1": "4",
                                    "2": "-5772",
                                    "3": "-2142"
                                },
                                {
                                    "0": "474",
                                    "1": "1",
                                    "2": "928",
                                    "3": "928"
                                },
                                {
                                    "0": "474",
                                    "1": "2",
                                    "2": "139",
                                    "3": "-789"
                                },
                                {
                                    "0": "474",
                                    "1": "3",
                                    "2": "-259",
                                    "3": "-398"
                                },
                                {
                                    "0": "475",
                                    "1": "1",
                                    "2": "-673",
                                    "3": "-673"
                                },
                                {
                                    "0": "475",
                                    "1": "2",
                                    "2": "-1966",
                                    "3": "-1293"
                                },
                                {
                                    "0": "475",
                                    "1": "3",
                                    "2": "-5073",
                                    "3": "-3107"
                                },
                                {
                                    "0": "476",
                                    "1": "1",
                                    "2": "-476",
                                    "3": "-476"
                                },
                                {
                                    "0": "476",
                                    "1": "2",
                                    "2": "-2003",
                                    "3": "-1527"
                                },
                                {
                                    "0": "476",
                                    "1": "3",
                                    "2": "-3365",
                                    "3": "-1362"
                                },
                                {
                                    "0": "476",
                                    "1": "4",
                                    "2": "-4972",
                                    "3": "-1607"
                                },
                                {
                                    "0": "477",
                                    "1": "1",
                                    "2": "-3034",
                                    "3": "-3034"
                                },
                                {
                                    "0": "477",
                                    "1": "2",
                                    "2": "-4592",
                                    "3": "-1558"
                                },
                                {
                                    "0": "477",
                                    "1": "3",
                                    "2": "-6538",
                                    "3": "-1946"
                                },
                                {
                                    "0": "478",
                                    "1": "1",
                                    "2": "-712",
                                    "3": "-712"
                                },
                                {
                                    "0": "478",
                                    "1": "2",
                                    "2": "2278",
                                    "3": "2990"
                                },
                                {
                                    "0": "478",
                                    "1": "3",
                                    "2": "2087",
                                    "3": "-191"
                                },
                                {
                                    "0": "479",
                                    "1": "1",
                                    "2": "320",
                                    "3": "320"
                                },
                                {
                                    "0": "479",
                                    "1": "2",
                                    "2": "-327",
                                    "3": "-647"
                                },
                                {
                                    "0": "479",
                                    "1": "3",
                                    "2": "513",
                                    "3": "840"
                                },
                                {
                                    "0": "480",
                                    "1": "1",
                                    "2": "522",
                                    "3": "522"
                                },
                                {
                                    "0": "480",
                                    "1": "3",
                                    "2": "-235",
                                    "3": "-757"
                                },
                                {
                                    "0": "480",
                                    "1": "4",
                                    "2": "-165",
                                    "3": "70"
                                },
                                {
                                    "0": "481",
                                    "1": "1",
                                    "2": "-1396",
                                    "3": "-1396"
                                },
                                {
                                    "0": "481",
                                    "1": "2",
                                    "2": "-2905",
                                    "3": "-1509"
                                },
                                {
                                    "0": "481",
                                    "1": "3",
                                    "2": "-3394",
                                    "3": "-489"
                                },
                                {
                                    "0": "482",
                                    "1": "1",
                                    "2": "386",
                                    "3": "386"
                                },
                                {
                                    "0": "482",
                                    "1": "2",
                                    "2": "-687",
                                    "3": "-1073"
                                },
                                {
                                    "0": "482",
                                    "1": "3",
                                    "2": "-1256",
                                    "3": "-569"
                                },
                                {
                                    "0": "483",
                                    "1": "1",
                                    "2": "2038",
                                    "3": "2038"
                                },
                                {
                                    "0": "483",
                                    "1": "3",
                                    "2": "-189",
                                    "3": "-2227"
                                },
                                {
                                    "0": "483",
                                    "1": "4",
                                    "2": "1330",
                                    "3": "1519"
                                },
                                {
                                    "0": "484",
                                    "1": "1",
                                    "2": "871",
                                    "3": "871"
                                },
                                {
                                    "0": "484",
                                    "1": "3",
                                    "2": "1796",
                                    "3": "925"
                                },
                                {
                                    "0": "485",
                                    "1": "1",
                                    "2": "16",
                                    "3": "16"
                                },
                                {
                                    "0": "485",
                                    "1": "2",
                                    "2": "1507",
                                    "3": "1491"
                                },
                                {
                                    "0": "485",
                                    "1": "3",
                                    "2": "2202",
                                    "3": "695"
                                },
                                {
                                    "0": "486",
                                    "1": "1",
                                    "2": "-1632",
                                    "3": "-1632"
                                },
                                {
                                    "0": "486",
                                    "1": "2",
                                    "2": "-2250",
                                    "3": "-618"
                                },
                                {
                                    "0": "486",
                                    "1": "3",
                                    "2": "-3108",
                                    "3": "-858"
                                },
                                {
                                    "0": "487",
                                    "1": "1",
                                    "2": "-572",
                                    "3": "-572"
                                },
                                {
                                    "0": "487",
                                    "1": "2",
                                    "2": "312",
                                    "3": "884"
                                },
                                {
                                    "0": "487",
                                    "1": "3",
                                    "2": "162",
                                    "3": "-150"
                                },
                                {
                                    "0": "487",
                                    "1": "4",
                                    "2": "-330",
                                    "3": "-492"
                                },
                                {
                                    "0": "488",
                                    "1": "1",
                                    "2": "-243",
                                    "3": "-243"
                                },
                                {
                                    "0": "488",
                                    "1": "2",
                                    "2": "297",
                                    "3": "540"
                                },
                                {
                                    "0": "488",
                                    "1": "3",
                                    "2": "-412",
                                    "3": "-709"
                                },
                                {
                                    "0": "488",
                                    "1": "4",
                                    "2": "-191",
                                    "3": "221"
                                },
                                {
                                    "0": "489",
                                    "1": "1",
                                    "2": "556",
                                    "3": "556"
                                },
                                {
                                    "0": "489",
                                    "1": "2",
                                    "2": "1808",
                                    "3": "1252"
                                },
                                {
                                    "0": "489",
                                    "1": "3",
                                    "2": "3342",
                                    "3": "1534"
                                },
                                {
                                    "0": "489",
                                    "1": "4",
                                    "2": "5338",
                                    "3": "1996"
                                },
                                {
                                    "0": "490",
                                    "1": "1",
                                    "2": "271",
                                    "3": "271"
                                },
                                {
                                    "0": "490",
                                    "1": "2",
                                    "2": "342",
                                    "3": "71"
                                },
                                {
                                    "0": "490",
                                    "1": "4",
                                    "2": "24",
                                    "3": "-318"
                                },
                                {
                                    "0": "491",
                                    "1": "1",
                                    "2": "-3",
                                    "3": "-3"
                                },
                                {
                                    "0": "491",
                                    "1": "2",
                                    "2": "298",
                                    "3": "301"
                                },
                                {
                                    "0": "491",
                                    "1": "3",
                                    "2": "-2319",
                                    "3": "-2617"
                                },
                                {
                                    "0": "492",
                                    "1": "1",
                                    "2": "-738",
                                    "3": "-738"
                                },
                                {
                                    "0": "492",
                                    "1": "2",
                                    "2": "-1399",
                                    "3": "-661"
                                },
                                {
                                    "0": "492",
                                    "1": "3",
                                    "2": "-2133",
                                    "3": "-734"
                                },
                                {
                                    "0": "493",
                                    "1": "1",
                                    "2": "845",
                                    "3": "845"
                                },
                                {
                                    "0": "493",
                                    "1": "2",
                                    "2": "-824",
                                    "3": "-1669"
                                },
                                {
                                    "0": "493",
                                    "1": "4",
                                    "2": "-738",
                                    "3": "86"
                                },
                                {
                                    "0": "494",
                                    "1": "1",
                                    "2": "529",
                                    "3": "529"
                                },
                                {
                                    "0": "494",
                                    "1": "2",
                                    "2": "909",
                                    "3": "380"
                                },
                                {
                                    "0": "494",
                                    "1": "3",
                                    "2": "1447",
                                    "3": "538"
                                },
                                {
                                    "0": "495",
                                    "1": "1",
                                    "2": "-286",
                                    "3": "-286"
                                },
                                {
                                    "0": "495",
                                    "1": "2",
                                    "2": "-1438",
                                    "3": "-1152"
                                },
                                {
                                    "0": "495",
                                    "1": "3",
                                    "2": "-89",
                                    "3": "1349"
                                },
                                {
                                    "0": "496",
                                    "1": "1",
                                    "2": "47",
                                    "3": "47"
                                },
                                {
                                    "0": "496",
                                    "1": "2",
                                    "2": "-3076",
                                    "3": "-3123"
                                },
                                {
                                    "0": "496",
                                    "1": "3",
                                    "2": "-2426",
                                    "3": "650"
                                },
                                {
                                    "0": "497",
                                    "1": "1",
                                    "2": "754",
                                    "3": "754"
                                },
                                {
                                    "0": "497",
                                    "1": "2",
                                    "2": "1003",
                                    "3": "249"
                                },
                                {
                                    "0": "497",
                                    "1": "3",
                                    "2": "1739",
                                    "3": "736"
                                },
                                {
                                    "0": "497",
                                    "1": "4",
                                    "2": "2680",
                                    "3": "941"
                                },
                                {
                                    "0": "498",
                                    "1": "1",
                                    "2": "1360",
                                    "3": "1360"
                                },
                                {
                                    "0": "498",
                                    "1": "2",
                                    "2": "2195",
                                    "3": "835"
                                },
                                {
                                    "0": "498",
                                    "1": "3",
                                    "2": "2989",
                                    "3": "794"
                                },
                                {
                                    "0": "498",
                                    "1": "4",
                                    "2": "3488",
                                    "3": "499"
                                },
                                {
                                    "0": "499",
                                    "1": "1",
                                    "2": "-304",
                                    "3": "-304"
                                },
                                {
                                    "0": "499",
                                    "1": "2",
                                    "2": "1415",
                                    "3": "1719"
                                },
                                {
                                    "0": "499",
                                    "1": "3",
                                    "2": "599",
                                    "3": "-816"
                                },
                                {
                                    "0": "500",
                                    "1": "1",
                                    "2": "1594",
                                    "3": "1594"
                                },
                                {
                                    "0": "500",
                                    "1": "2",
                                    "2": "2981",
                                    "3": "1387"
                                },
                                {
                                    "0": "500",
                                    "1": "3",
                                    "2": "2251",
                                    "3": "-730"
                                }
                            ]
                        },
                        "text/html": [
                            "<table>",
                            "<tr><th>customer_id</th><th>month</th><th>balance</th><th>change_in_balance</th></tr>",
                            "<tr><td>1</td><td>1</td><td>312</td><td>312</td></tr>",
                            "<tr><td>1</td><td>3</td><td>-640</td><td>-952</td></tr>",
                            "<tr><td>2</td><td>1</td><td>549</td><td>549</td></tr>",
                            "<tr><td>2</td><td>3</td><td>610</td><td>61</td></tr>",
                            "<tr><td>3</td><td>1</td><td>144</td><td>144</td></tr>",
                            "<tr><td>3</td><td>2</td><td>-821</td><td>-965</td></tr>",
                            "<tr><td>3</td><td>3</td><td>-1222</td><td>-401</td></tr>",
                            "<tr><td>3</td><td>4</td><td>-729</td><td>493</td></tr>",
                            "<tr><td>4</td><td>1</td><td>848</td><td>848</td></tr>",
                            "<tr><td>4</td><td>3</td><td>655</td><td>-193</td></tr>",
                            "<tr><td>5</td><td>1</td><td>954</td><td>954</td></tr>",
                            "<tr><td>5</td><td>3</td><td>-1923</td><td>-2877</td></tr>",
                            "<tr><td>5</td><td>4</td><td>-2413</td><td>-490</td></tr>",
                            "<tr><td>6</td><td>1</td><td>733</td><td>733</td></tr>",
                            "<tr><td>6</td><td>2</td><td>-52</td><td>-785</td></tr>",
                            "<tr><td>6</td><td>3</td><td>340</td><td>392</td></tr>",
                            "<tr><td>7</td><td>1</td><td>964</td><td>964</td></tr>",
                            "<tr><td>7</td><td>2</td><td>3173</td><td>2209</td></tr>",
                            "<tr><td>7</td><td>3</td><td>2533</td><td>-640</td></tr>",
                            "<tr><td>7</td><td>4</td><td>2623</td><td>90</td></tr>",
                            "<tr><td>8</td><td>1</td><td>587</td><td>587</td></tr>",
                            "<tr><td>8</td><td>2</td><td>407</td><td>-180</td></tr>",
                            "<tr><td>8</td><td>3</td><td>-57</td><td>-464</td></tr>",
                            "<tr><td>8</td><td>4</td><td>-1029</td><td>-972</td></tr>",
                            "<tr><td>9</td><td>1</td><td>849</td><td>849</td></tr>",
                            "<tr><td>9</td><td>2</td><td>654</td><td>-195</td></tr>",
                            "<tr><td>9</td><td>3</td><td>1584</td><td>930</td></tr>",
                            "<tr><td>9</td><td>4</td><td>862</td><td>-722</td></tr>",
                            "<tr><td>10</td><td>1</td><td>-1622</td><td>-1622</td></tr>",
                            "<tr><td>10</td><td>2</td><td>-1342</td><td>280</td></tr>",
                            "<tr><td>10</td><td>3</td><td>-2753</td><td>-1411</td></tr>",
                            "<tr><td>10</td><td>4</td><td>-5090</td><td>-2337</td></tr>",
                            "<tr><td>11</td><td>1</td><td>-1744</td><td>-1744</td></tr>",
                            "<tr><td>11</td><td>2</td><td>-2469</td><td>-725</td></tr>",
                            "<tr><td>11</td><td>3</td><td>-2088</td><td>381</td></tr>",
                            "<tr><td>11</td><td>4</td><td>-2416</td><td>-328</td></tr>",
                            "<tr><td>12</td><td>1</td><td>92</td><td>92</td></tr>",
                            "<tr><td>12</td><td>3</td><td>295</td><td>203</td></tr>",
                            "<tr><td>13</td><td>1</td><td>780</td><td>780</td></tr>",
                            "<tr><td>13</td><td>2</td><td>1279</td><td>499</td></tr>",
                            "<tr><td>13</td><td>3</td><td>1405</td><td>126</td></tr>",
                            "<tr><td>14</td><td>1</td><td>205</td><td>205</td></tr>",
                            "<tr><td>14</td><td>2</td><td>821</td><td>616</td></tr>",
                            "<tr><td>14</td><td>4</td><td>989</td><td>168</td></tr>",
                            "<tr><td>15</td><td>1</td><td>379</td><td>379</td></tr>",
                            "<tr><td>15</td><td>4</td><td>1102</td><td>723</td></tr>",
                            "<tr><td>16</td><td>1</td><td>-1341</td><td>-1341</td></tr>",
                            "<tr><td>16</td><td>2</td><td>-2893</td><td>-1552</td></tr>",
                            "<tr><td>16</td><td>3</td><td>-4284</td><td>-1391</td></tr>",
                            "<tr><td>16</td><td>4</td><td>-3422</td><td>862</td></tr>",
                            "<tr><td>17</td><td>1</td><td>465</td><td>465</td></tr>",
                            "<tr><td>17</td><td>2</td><td>-892</td><td>-1357</td></tr>",
                            "<tr><td>18</td><td>1</td><td>757</td><td>757</td></tr>",
                            "<tr><td>18</td><td>2</td><td>-424</td><td>-1181</td></tr>",
                            "<tr><td>18</td><td>3</td><td>-842</td><td>-418</td></tr>",
                            "<tr><td>18</td><td>4</td><td>-815</td><td>27</td></tr>",
                            "<tr><td>19</td><td>1</td><td>-12</td><td>-12</td></tr>",
                            "<tr><td>19</td><td>2</td><td>-251</td><td>-239</td></tr>",
                            "<tr><td>19</td><td>3</td><td>-301</td><td>-50</td></tr>",
                            "<tr><td>19</td><td>4</td><td>42</td><td>343</td></tr>",
                            "<tr><td>20</td><td>1</td><td>465</td><td>465</td></tr>",
                            "<tr><td>20</td><td>2</td><td>519</td><td>54</td></tr>",
                            "<tr><td>20</td><td>3</td><td>776</td><td>257</td></tr>",
                            "<tr><td>21</td><td>1</td><td>-204</td><td>-204</td></tr>",
                            "<tr><td>21</td><td>2</td><td>-764</td><td>-560</td></tr>",
                            "<tr><td>21</td><td>3</td><td>-1874</td><td>-1110</td></tr>",
                            "<tr><td>21</td><td>4</td><td>-3253</td><td>-1379</td></tr>",
                            "<tr><td>22</td><td>1</td><td>235</td><td>235</td></tr>",
                            "<tr><td>22</td><td>2</td><td>-1039</td><td>-1274</td></tr>",
                            "<tr><td>22</td><td>3</td><td>-149</td><td>890</td></tr>",
                            "<tr><td>22</td><td>4</td><td>-1358</td><td>-1209</td></tr>",
                            "<tr><td>23</td><td>1</td><td>94</td><td>94</td></tr>",
                            "<tr><td>23</td><td>2</td><td>-314</td><td>-408</td></tr>",
                            "<tr><td>23</td><td>3</td><td>-156</td><td>158</td></tr>",
                            "<tr><td>23</td><td>4</td><td>-678</td><td>-522</td></tr>",
                            "<tr><td>24</td><td>1</td><td>615</td><td>615</td></tr>",
                            "<tr><td>24</td><td>2</td><td>813</td><td>198</td></tr>",
                            "<tr><td>24</td><td>3</td><td>254</td><td>-559</td></tr>",
                            "<tr><td>25</td><td>1</td><td>174</td><td>174</td></tr>",
                            "<tr><td>25</td><td>2</td><td>-400</td><td>-574</td></tr>",
                            "<tr><td>25</td><td>3</td><td>-1220</td><td>-820</td></tr>",
                            "<tr><td>25</td><td>4</td><td>-304</td><td>916</td></tr>",
                            "<tr><td>26</td><td>1</td><td>638</td><td>638</td></tr>",
                            "<tr><td>26</td><td>2</td><td>-31</td><td>-669</td></tr>",
                            "<tr><td>26</td><td>3</td><td>-622</td><td>-591</td></tr>",
                            "<tr><td>26</td><td>4</td><td>-1870</td><td>-1248</td></tr>",
                            "<tr><td>27</td><td>1</td><td>-1189</td><td>-1189</td></tr>",
                            "<tr><td>27</td><td>2</td><td>-713</td><td>476</td></tr>",
                            "<tr><td>27</td><td>3</td><td>-3116</td><td>-2403</td></tr>",
                            "<tr><td>28</td><td>1</td><td>451</td><td>451</td></tr>",
                            "<tr><td>28</td><td>2</td><td>-818</td><td>-1269</td></tr>",
                            "<tr><td>28</td><td>3</td><td>-1228</td><td>-410</td></tr>",
                            "<tr><td>28</td><td>4</td><td>272</td><td>1500</td></tr>",
                            "<tr><td>29</td><td>1</td><td>-138</td><td>-138</td></tr>",
                            "<tr><td>29</td><td>2</td><td>-76</td><td>62</td></tr>",
                            "<tr><td>29</td><td>3</td><td>831</td><td>907</td></tr>",
                            "<tr><td>29</td><td>4</td><td>-548</td><td>-1379</td></tr>",
                            "<tr><td>30</td><td>1</td><td>33</td><td>33</td></tr>",
                            "<tr><td>30</td><td>2</td><td>-431</td><td>-464</td></tr>",
                            "<tr><td>30</td><td>4</td><td>508</td><td>939</td></tr>",
                            "<tr><td>31</td><td>1</td><td>83</td><td>83</td></tr>",
                            "<tr><td>31</td><td>3</td><td>-141</td><td>-224</td></tr>",
                            "<tr><td>32</td><td>1</td><td>-89</td><td>-89</td></tr>",
                            "<tr><td>32</td><td>2</td><td>376</td><td>465</td></tr>",
                            "<tr><td>32</td><td>3</td><td>-843</td><td>-1219</td></tr>",
                            "<tr><td>32</td><td>4</td><td>-1001</td><td>-158</td></tr>",
                            "<tr><td>33</td><td>1</td><td>473</td><td>473</td></tr>",
                            "<tr><td>33</td><td>2</td><td>-116</td><td>-589</td></tr>",
                            "<tr><td>33</td><td>3</td><td>1225</td><td>1341</td></tr>",
                            "<tr><td>33</td><td>4</td><td>989</td><td>-236</td></tr>",
                            "<tr><td>34</td><td>1</td><td>976</td><td>976</td></tr>",
                            "<tr><td>34</td><td>2</td><td>-347</td><td>-1323</td></tr>",
                            "<tr><td>34</td><td>3</td><td>-185</td><td>162</td></tr>",
                            "<tr><td>35</td><td>1</td><td>507</td><td>507</td></tr>",
                            "<tr><td>35</td><td>2</td><td>-821</td><td>-1328</td></tr>",
                            "<tr><td>35</td><td>3</td><td>-1163</td><td>-342</td></tr>",
                            "<tr><td>36</td><td>1</td><td>149</td><td>149</td></tr>",
                            "<tr><td>36</td><td>2</td><td>290</td><td>141</td></tr>",
                            "<tr><td>36</td><td>3</td><td>1041</td><td>751</td></tr>",
                            "<tr><td>36</td><td>4</td><td>427</td><td>-614</td></tr>",
                            "<tr><td>37</td><td>1</td><td>85</td><td>85</td></tr>",
                            "<tr><td>37</td><td>2</td><td>902</td><td>817</td></tr>",
                            "<tr><td>37</td><td>3</td><td>-1069</td><td>-1971</td></tr>",
                            "<tr><td>37</td><td>4</td><td>-959</td><td>110</td></tr>",
                            "<tr><td>38</td><td>1</td><td>367</td><td>367</td></tr>",
                            "<tr><td>38</td><td>2</td><td>-465</td><td>-832</td></tr>",
                            "<tr><td>38</td><td>3</td><td>-798</td><td>-333</td></tr>",
                            "<tr><td>38</td><td>4</td><td>-1246</td><td>-448</td></tr>",
                            "<tr><td>39</td><td>1</td><td>1429</td><td>1429</td></tr>",
                            "<tr><td>39</td><td>2</td><td>2388</td><td>959</td></tr>",
                            "<tr><td>39</td><td>3</td><td>2460</td><td>72</td></tr>",
                            "<tr><td>39</td><td>4</td><td>2516</td><td>56</td></tr>",
                            "<tr><td>40</td><td>1</td><td>347</td><td>347</td></tr>",
                            "<tr><td>40</td><td>2</td><td>295</td><td>-52</td></tr>",
                            "<tr><td>40</td><td>3</td><td>659</td><td>364</td></tr>",
                            "<tr><td>40</td><td>4</td><td>-208</td><td>-867</td></tr>",
                            "<tr><td>41</td><td>1</td><td>-46</td><td>-46</td></tr>",
                            "<tr><td>41</td><td>2</td><td>1379</td><td>1425</td></tr>",
                            "<tr><td>41</td><td>3</td><td>3441</td><td>2062</td></tr>",
                            "<tr><td>41</td><td>4</td><td>2525</td><td>-916</td></tr>",
                            "<tr><td>42</td><td>1</td><td>447</td><td>447</td></tr>",
                            "<tr><td>42</td><td>2</td><td>1067</td><td>620</td></tr>",
                            "<tr><td>42</td><td>3</td><td>-887</td><td>-1954</td></tr>",
                            "<tr><td>42</td><td>4</td><td>-1886</td><td>-999</td></tr>",
                            "<tr><td>43</td><td>1</td><td>-201</td><td>-201</td></tr>",
                            "<tr><td>43</td><td>2</td><td>-406</td><td>-205</td></tr>",
                            "<tr><td>43</td><td>3</td><td>869</td><td>1275</td></tr>",
                            "<tr><td>43</td><td>4</td><td>545</td><td>-324</td></tr>",
                            "<tr><td>44</td><td>1</td><td>-690</td><td>-690</td></tr>",
                            "<tr><td>44</td><td>2</td><td>-19</td><td>671</td></tr>",
                            "<tr><td>44</td><td>4</td><td>-339</td><td>-320</td></tr>",
                            "<tr><td>45</td><td>1</td><td>940</td><td>940</td></tr>",
                            "<tr><td>45</td><td>2</td><td>-1152</td><td>-2092</td></tr>",
                            "<tr><td>45</td><td>3</td><td>584</td><td>1736</td></tr>",
                            "<tr><td>46</td><td>1</td><td>522</td><td>522</td></tr>",
                            "<tr><td>46</td><td>2</td><td>1388</td><td>866</td></tr>",
                            "<tr><td>46</td><td>3</td><td>80</td><td>-1308</td></tr>",
                            "<tr><td>46</td><td>4</td><td>104</td><td>24</td></tr>",
                            "<tr><td>47</td><td>1</td><td>-1153</td><td>-1153</td></tr>",
                            "<tr><td>47</td><td>2</td><td>-1283</td><td>-130</td></tr>",
                            "<tr><td>47</td><td>3</td><td>-2862</td><td>-1579</td></tr>",
                            "<tr><td>47</td><td>4</td><td>-3169</td><td>-307</td></tr>",
                            "<tr><td>48</td><td>1</td><td>-2368</td><td>-2368</td></tr>",
                            "<tr><td>48</td><td>2</td><td>-2972</td><td>-604</td></tr>",
                            "<tr><td>48</td><td>3</td><td>-3745</td><td>-773</td></tr>",
                            "<tr><td>49</td><td>1</td><td>-397</td><td>-397</td></tr>",
                            "<tr><td>49</td><td>2</td><td>-594</td><td>-197</td></tr>",
                            "<tr><td>49</td><td>3</td><td>-2556</td><td>-1962</td></tr>",
                            "<tr><td>50</td><td>1</td><td>931</td><td>931</td></tr>",
                            "<tr><td>50</td><td>2</td><td>-674</td><td>-1605</td></tr>",
                            "<tr><td>50</td><td>3</td><td>275</td><td>949</td></tr>",
                            "<tr><td>50</td><td>4</td><td>450</td><td>175</td></tr>",
                            "<tr><td>51</td><td>1</td><td>301</td><td>301</td></tr>",
                            "<tr><td>51</td><td>2</td><td>-97</td><td>-398</td></tr>",
                            "<tr><td>51</td><td>3</td><td>779</td><td>876</td></tr>",
                            "<tr><td>51</td><td>4</td><td>1364</td><td>585</td></tr>",
                            "<tr><td>52</td><td>1</td><td>1140</td><td>1140</td></tr>",
                            "<tr><td>52</td><td>2</td><td>2612</td><td>1472</td></tr>",
                            "<tr><td>53</td><td>1</td><td>22</td><td>22</td></tr>",
                            "<tr><td>53</td><td>2</td><td>210</td><td>188</td></tr>",
                            "<tr><td>53</td><td>3</td><td>-728</td><td>-938</td></tr>",
                            "<tr><td>53</td><td>4</td><td>227</td><td>955</td></tr>",
                            "<tr><td>54</td><td>1</td><td>1658</td><td>1658</td></tr>",
                            "<tr><td>54</td><td>2</td><td>1629</td><td>-29</td></tr>",
                            "<tr><td>54</td><td>3</td><td>533</td><td>-1096</td></tr>",
                            "<tr><td>54</td><td>4</td><td>968</td><td>435</td></tr>",
                            "<tr><td>55</td><td>1</td><td>380</td><td>380</td></tr>",
                            "<tr><td>55</td><td>2</td><td>-410</td><td>-790</td></tr>",
                            "<tr><td>55</td><td>3</td><td>349</td><td>759</td></tr>",
                            "<tr><td>55</td><td>4</td><td>-513</td><td>-862</td></tr>",
                            "<tr><td>56</td><td>1</td><td>-67</td><td>-67</td></tr>",
                            "<tr><td>56</td><td>2</td><td>-1646</td><td>-1579</td></tr>",
                            "<tr><td>56</td><td>3</td><td>-2075</td><td>-429</td></tr>",
                            "<tr><td>56</td><td>4</td><td>-3866</td><td>-1791</td></tr>",
                            "<tr><td>57</td><td>1</td><td>414</td><td>414</td></tr>",
                            "<tr><td>57</td><td>2</td><td>-101</td><td>-515</td></tr>",
                            "<tr><td>57</td><td>3</td><td>-866</td><td>-765</td></tr>",
                            "<tr><td>58</td><td>1</td><td>383</td><td>383</td></tr>",
                            "<tr><td>58</td><td>2</td><td>1697</td><td>1314</td></tr>",
                            "<tr><td>58</td><td>3</td><td>-1196</td><td>-2893</td></tr>",
                            "<tr><td>58</td><td>4</td><td>-635</td><td>561</td></tr>",
                            "<tr><td>59</td><td>1</td><td>924</td><td>924</td></tr>",
                            "<tr><td>59</td><td>2</td><td>2190</td><td>1266</td></tr>",
                            "<tr><td>59</td><td>3</td><td>1652</td><td>-538</td></tr>",
                            "<tr><td>59</td><td>4</td><td>798</td><td>-854</td></tr>",
                            "<tr><td>60</td><td>1</td><td>-189</td><td>-189</td></tr>",
                            "<tr><td>60</td><td>2</td><td>668</td><td>857</td></tr>",
                            "<tr><td>60</td><td>3</td><td>-745</td><td>-1413</td></tr>",
                            "<tr><td>60</td><td>4</td><td>-1169</td><td>-424</td></tr>",
                            "<tr><td>61</td><td>1</td><td>222</td><td>222</td></tr>",
                            "<tr><td>61</td><td>2</td><td>323</td><td>101</td></tr>",
                            "<tr><td>61</td><td>3</td><td>-1710</td><td>-2033</td></tr>",
                            "<tr><td>61</td><td>4</td><td>-2237</td><td>-527</td></tr>",
                            "<tr><td>62</td><td>1</td><td>-212</td><td>-212</td></tr>",
                            "<tr><td>62</td><td>3</td><td>-763</td><td>-551</td></tr>",
                            "<tr><td>63</td><td>1</td><td>-332</td><td>-332</td></tr>",
                            "<tr><td>63</td><td>2</td><td>-953</td><td>-621</td></tr>",
                            "<tr><td>63</td><td>3</td><td>-3946</td><td>-2993</td></tr>",
                            "<tr><td>64</td><td>1</td><td>2332</td><td>2332</td></tr>",
                            "<tr><td>64</td><td>2</td><td>1554</td><td>-778</td></tr>",
                            "<tr><td>64</td><td>3</td><td>245</td><td>-1309</td></tr>",
                            "<tr><td>65</td><td>1</td><td>25</td><td>25</td></tr>",
                            "<tr><td>65</td><td>3</td><td>-450</td><td>-475</td></tr>",
                            "<tr><td>65</td><td>4</td><td>-1381</td><td>-931</td></tr>",
                            "<tr><td>66</td><td>1</td><td>1971</td><td>1971</td></tr>",
                            "<tr><td>66</td><td>2</td><td>1492</td><td>-479</td></tr>",
                            "<tr><td>66</td><td>3</td><td>-517</td><td>-2009</td></tr>",
                            "<tr><td>67</td><td>1</td><td>1593</td><td>1593</td></tr>",
                            "<tr><td>67</td><td>2</td><td>2565</td><td>972</td></tr>",
                            "<tr><td>67</td><td>3</td><td>2050</td><td>-515</td></tr>",
                            "<tr><td>67</td><td>4</td><td>1222</td><td>-828</td></tr>",
                            "<tr><td>68</td><td>1</td><td>574</td><td>574</td></tr>",
                            "<tr><td>68</td><td>2</td><td>278</td><td>-296</td></tr>",
                            "<tr><td>68</td><td>3</td><td>-456</td><td>-734</td></tr>",
                            "<tr><td>69</td><td>1</td><td>23</td><td>23</td></tr>",
                            "<tr><td>69</td><td>2</td><td>-1944</td><td>-1967</td></tr>",
                            "<tr><td>69</td><td>3</td><td>-2338</td><td>-394</td></tr>",
                            "<tr><td>69</td><td>4</td><td>-3085</td><td>-747</td></tr>",
                            "<tr><td>70</td><td>1</td><td>-584</td><td>-584</td></tr>",
                            "<tr><td>70</td><td>2</td><td>-63</td><td>521</td></tr>",
                            "<tr><td>70</td><td>3</td><td>-1814</td><td>-1751</td></tr>",
                            "<tr><td>71</td><td>1</td><td>128</td><td>128</td></tr>",
                            "<tr><td>71</td><td>2</td><td>-673</td><td>-801</td></tr>",
                            "<tr><td>71</td><td>3</td><td>-1265</td><td>-592</td></tr>",
                            "<tr><td>72</td><td>1</td><td>796</td><td>796</td></tr>",
                            "<tr><td>72</td><td>2</td><td>-803</td><td>-1599</td></tr>",
                            "<tr><td>72</td><td>3</td><td>-1680</td><td>-877</td></tr>",
                            "<tr><td>72</td><td>4</td><td>-2327</td><td>-647</td></tr>",
                            "<tr><td>73</td><td>1</td><td>513</td><td>513</td></tr>",
                            "<tr><td>74</td><td>1</td><td>229</td><td>229</td></tr>",
                            "<tr><td>74</td><td>3</td><td>318</td><td>89</td></tr>",
                            "<tr><td>75</td><td>1</td><td>234</td><td>234</td></tr>",
                            "<tr><td>75</td><td>2</td><td>294</td><td>60</td></tr>",
                            "<tr><td>76</td><td>1</td><td>925</td><td>925</td></tr>",
                            "<tr><td>76</td><td>2</td><td>2081</td><td>1156</td></tr>",
                            "<tr><td>76</td><td>3</td><td>435</td><td>-1646</td></tr>",
                            "<tr><td>77</td><td>1</td><td>120</td><td>120</td></tr>",
                            "<tr><td>77</td><td>2</td><td>501</td><td>381</td></tr>",
                            "<tr><td>77</td><td>3</td><td>797</td><td>296</td></tr>",
                            "<tr><td>78</td><td>1</td><td>694</td><td>694</td></tr>",
                            "<tr><td>78</td><td>2</td><td>-762</td><td>-1456</td></tr>",
                            "<tr><td>78</td><td>3</td><td>-717</td><td>45</td></tr>",
                            "<tr><td>78</td><td>4</td><td>-976</td><td>-259</td></tr>",
                            "<tr><td>79</td><td>1</td><td>521</td><td>521</td></tr>",
                            "<tr><td>79</td><td>2</td><td>1380</td><td>859</td></tr>",
                            "<tr><td>80</td><td>1</td><td>795</td><td>795</td></tr>",
                            "<tr><td>80</td><td>2</td><td>1190</td><td>395</td></tr>",
                            "<tr><td>80</td><td>3</td><td>622</td><td>-568</td></tr>",
                            "<tr><td>80</td><td>4</td><td>199</td><td>-423</td></tr>",
                            "<tr><td>81</td><td>1</td><td>403</td><td>403</td></tr>",
                            "<tr><td>81</td><td>2</td><td>-957</td><td>-1360</td></tr>",
                            "<tr><td>81</td><td>3</td><td>-1106</td><td>-149</td></tr>",
                            "<tr><td>81</td><td>4</td><td>-1984</td><td>-878</td></tr>",
                            "<tr><td>82</td><td>1</td><td>-3912</td><td>-3912</td></tr>",
                            "<tr><td>82</td><td>2</td><td>-3986</td><td>-74</td></tr>",
                            "<tr><td>82</td><td>3</td><td>-3249</td><td>737</td></tr>",
                            "<tr><td>82</td><td>4</td><td>-4614</td><td>-1365</td></tr>",
                            "<tr><td>83</td><td>1</td><td>1099</td><td>1099</td></tr>",
                            "<tr><td>83</td><td>2</td><td>-692</td><td>-1791</td></tr>",
                            "<tr><td>83</td><td>3</td><td>-742</td><td>-50</td></tr>",
                            "<tr><td>83</td><td>4</td><td>-377</td><td>365</td></tr>",
                            "<tr><td>84</td><td>1</td><td>968</td><td>968</td></tr>",
                            "<tr><td>84</td><td>3</td><td>609</td><td>-359</td></tr>",
                            "<tr><td>85</td><td>1</td><td>467</td><td>467</td></tr>",
                            "<tr><td>85</td><td>3</td><td>1076</td><td>609</td></tr>",
                            "<tr><td>85</td><td>4</td><td>646</td><td>-430</td></tr>",
                            "<tr><td>86</td><td>1</td><td>872</td><td>872</td></tr>",
                            "<tr><td>86</td><td>2</td><td>-504</td><td>-1376</td></tr>",
                            "<tr><td>86</td><td>3</td><td>93</td><td>597</td></tr>",
                            "<tr><td>87</td><td>1</td><td>-365</td><td>-365</td></tr>",
                            "<tr><td>87</td><td>2</td><td>-1366</td><td>-1001</td></tr>",
                            "<tr><td>87</td><td>3</td><td>-1563</td><td>-197</td></tr>",
                            "<tr><td>87</td><td>4</td><td>-1195</td><td>368</td></tr>",
                            "<tr><td>88</td><td>1</td><td>-35</td><td>-35</td></tr>",
                            "<tr><td>88</td><td>2</td><td>752</td><td>787</td></tr>",
                            "<tr><td>88</td><td>3</td><td>-736</td><td>-1488</td></tr>",
                            "<tr><td>88</td><td>4</td><td>-820</td><td>-84</td></tr>",
                            "<tr><td>89</td><td>1</td><td>210</td><td>210</td></tr>",
                            "<tr><td>89</td><td>2</td><td>-1679</td><td>-1889</td></tr>",
                            "<tr><td>89</td><td>3</td><td>-2653</td><td>-974</td></tr>",
                            "<tr><td>89</td><td>4</td><td>-3147</td><td>-494</td></tr>",
                            "<tr><td>90</td><td>1</td><td>1772</td><td>1772</td></tr>",
                            "<tr><td>90</td><td>2</td><td>-1235</td><td>-3007</td></tr>",
                            "<tr><td>90</td><td>3</td><td>-1624</td><td>-389</td></tr>",
                            "<tr><td>90</td><td>4</td><td>-1846</td><td>-222</td></tr>",
                            "<tr><td>91</td><td>1</td><td>-47</td><td>-47</td></tr>",
                            "<tr><td>91</td><td>2</td><td>-959</td><td>-912</td></tr>",
                            "<tr><td>91</td><td>3</td><td>-2660</td><td>-1701</td></tr>",
                            "<tr><td>91</td><td>4</td><td>-2495</td><td>165</td></tr>",
                            "<tr><td>92</td><td>1</td><td>985</td><td>985</td></tr>",
                            "<tr><td>92</td><td>3</td><td>142</td><td>-843</td></tr>",
                            "<tr><td>93</td><td>1</td><td>399</td><td>399</td></tr>",
                            "<tr><td>93</td><td>2</td><td>1103</td><td>704</td></tr>",
                            "<tr><td>93</td><td>3</td><td>1186</td><td>83</td></tr>",
                            "<tr><td>93</td><td>4</td><td>968</td><td>-218</td></tr>",
                            "<tr><td>94</td><td>1</td><td>-766</td><td>-766</td></tr>",
                            "<tr><td>94</td><td>2</td><td>-1496</td><td>-730</td></tr>",
                            "<tr><td>94</td><td>3</td><td>-1542</td><td>-46</td></tr>",
                            "<tr><td>95</td><td>1</td><td>217</td><td>217</td></tr>",
                            "<tr><td>95</td><td>2</td><td>960</td><td>743</td></tr>",
                            "<tr><td>95</td><td>3</td><td>1446</td><td>486</td></tr>",
                            "<tr><td>96</td><td>1</td><td>1048</td><td>1048</td></tr>",
                            "<tr><td>96</td><td>2</td><td>1537</td><td>489</td></tr>",
                            "<tr><td>96</td><td>3</td><td>942</td><td>-595</td></tr>",
                            "<tr><td>97</td><td>1</td><td>623</td><td>623</td></tr>",
                            "<tr><td>97</td><td>2</td><td>-240</td><td>-863</td></tr>",
                            "<tr><td>97</td><td>3</td><td>-2483</td><td>-2243</td></tr>",
                            "<tr><td>98</td><td>1</td><td>622</td><td>622</td></tr>",
                            "<tr><td>98</td><td>2</td><td>287</td><td>-335</td></tr>",
                            "<tr><td>98</td><td>3</td><td>-95</td><td>-382</td></tr>",
                            "<tr><td>98</td><td>4</td><td>750</td><td>845</td></tr>",
                            "<tr><td>99</td><td>1</td><td>949</td><td>949</td></tr>",
                            "<tr><td>99</td><td>2</td><td>760</td><td>-189</td></tr>",
                            "<tr><td>99</td><td>3</td><td>737</td><td>-23</td></tr>",
                            "<tr><td>100</td><td>1</td><td>1081</td><td>1081</td></tr>",
                            "<tr><td>100</td><td>2</td><td>-497</td><td>-1578</td></tr>",
                            "<tr><td>100</td><td>3</td><td>-1451</td><td>-954</td></tr>",
                            "<tr><td>101</td><td>1</td><td>-484</td><td>-484</td></tr>",
                            "<tr><td>101</td><td>2</td><td>-1324</td><td>-840</td></tr>",
                            "<tr><td>101</td><td>3</td><td>-2673</td><td>-1349</td></tr>",
                            "<tr><td>102</td><td>1</td><td>917</td><td>917</td></tr>",
                            "<tr><td>102</td><td>2</td><td>1428</td><td>511</td></tr>",
                            "<tr><td>102</td><td>3</td><td>1865</td><td>437</td></tr>",
                            "<tr><td>102</td><td>4</td><td>646</td><td>-1219</td></tr>",
                            "<tr><td>103</td><td>1</td><td>240</td><td>240</td></tr>",
                            "<tr><td>103</td><td>2</td><td>-850</td><td>-1090</td></tr>",
                            "<tr><td>103</td><td>3</td><td>-2257</td><td>-1407</td></tr>",
                            "<tr><td>104</td><td>1</td><td>615</td><td>615</td></tr>",
                            "<tr><td>104</td><td>2</td><td>1087</td><td>472</td></tr>",
                            "<tr><td>104</td><td>3</td><td>1190</td><td>103</td></tr>",
                            "<tr><td>105</td><td>1</td><td>1014</td><td>1014</td></tr>",
                            "<tr><td>105</td><td>2</td><td>166</td><td>-848</td></tr>",
                            "<tr><td>105</td><td>3</td><td>27</td><td>-139</td></tr>",
                            "<tr><td>105</td><td>4</td><td>-186</td><td>-213</td></tr>",
                            "<tr><td>106</td><td>1</td><td>-109</td><td>-109</td></tr>",
                            "<tr><td>106</td><td>2</td><td>846</td><td>955</td></tr>",
                            "<tr><td>106</td><td>3</td><td>-111</td><td>-957</td></tr>",
                            "<tr><td>106</td><td>4</td><td>-1462</td><td>-1351</td></tr>",
                            "<tr><td>107</td><td>1</td><td>-144</td><td>-144</td></tr>",
                            "<tr><td>107</td><td>2</td><td>-690</td><td>-546</td></tr>",
                            "<tr><td>108</td><td>1</td><td>530</td><td>530</td></tr>",
                            "<tr><td>108</td><td>2</td><td>738</td><td>208</td></tr>",
                            "<tr><td>108</td><td>3</td><td>1546</td><td>808</td></tr>",
                            "<tr><td>108</td><td>4</td><td>2680</td><td>1134</td></tr>",
                            "<tr><td>109</td><td>1</td><td>429</td><td>429</td></tr>",
                            "<tr><td>109</td><td>2</td><td>2491</td><td>2062</td></tr>",
                            "<tr><td>110</td><td>1</td><td>1258</td><td>1258</td></tr>",
                            "<tr><td>110</td><td>2</td><td>1198</td><td>-60</td></tr>",
                            "<tr><td>110</td><td>3</td><td>2233</td><td>1035</td></tr>",
                            "<tr><td>111</td><td>1</td><td>101</td><td>101</td></tr>",
                            "<tr><td>111</td><td>2</td><td>463</td><td>362</td></tr>",
                            "<tr><td>111</td><td>3</td><td>99</td><td>-364</td></tr>",
                            "<tr><td>112</td><td>1</td><td>945</td><td>945</td></tr>",
                            "<tr><td>112</td><td>2</td><td>893</td><td>-52</td></tr>",
                            "<tr><td>112</td><td>3</td><td>-116</td><td>-1009</td></tr>",
                            "<tr><td>113</td><td>1</td><td>-511</td><td>-511</td></tr>",
                            "<tr><td>113</td><td>2</td><td>62</td><td>573</td></tr>",
                            "<tr><td>113</td><td>3</td><td>12</td><td>-50</td></tr>",
                            "<tr><td>113</td><td>4</td><td>-1140</td><td>-1152</td></tr>",
                            "<tr><td>114</td><td>1</td><td>743</td><td>743</td></tr>",
                            "<tr><td>114</td><td>3</td><td>169</td><td>-574</td></tr>",
                            "<tr><td>114</td><td>4</td><td>1143</td><td>974</td></tr>",
                            "<tr><td>115</td><td>1</td><td>144</td><td>144</td></tr>",
                            "<tr><td>115</td><td>2</td><td>-845</td><td>-989</td></tr>",
                            "<tr><td>115</td><td>3</td><td>884</td><td>1729</td></tr>",
                            "<tr><td>115</td><td>4</td><td>-41</td><td>-925</td></tr>",
                            "<tr><td>116</td><td>1</td><td>167</td><td>167</td></tr>",
                            "<tr><td>116</td><td>2</td><td>53</td><td>-114</td></tr>",
                            "<tr><td>116</td><td>3</td><td>543</td><td>490</td></tr>",
                            "<tr><td>116</td><td>4</td><td>330</td><td>-213</td></tr>",
                            "<tr><td>117</td><td>1</td><td>-25</td><td>-25</td></tr>",
                            "<tr><td>117</td><td>2</td><td>-216</td><td>-191</td></tr>",
                            "<tr><td>117</td><td>3</td><td>-706</td><td>-490</td></tr>",
                            "<tr><td>118</td><td>1</td><td>-683</td><td>-683</td></tr>",
                            "<tr><td>118</td><td>2</td><td>-513</td><td>170</td></tr>",
                            "<tr><td>118</td><td>3</td><td>-1427</td><td>-914</td></tr>",
                            "<tr><td>119</td><td>1</td><td>62</td><td>62</td></tr>",
                            "<tr><td>119</td><td>3</td><td>-907</td><td>-969</td></tr>",
                            "<tr><td>119</td><td>4</td><td>-490</td><td>417</td></tr>",
                            "<tr><td>120</td><td>1</td><td>824</td><td>824</td></tr>",
                            "<tr><td>120</td><td>2</td><td>1913</td><td>1089</td></tr>",
                            "<tr><td>120</td><td>3</td><td>-900</td><td>-2813</td></tr>",
                            "<tr><td>120</td><td>4</td><td>-1465</td><td>-565</td></tr>",
                            "<tr><td>121</td><td>1</td><td>1992</td><td>1992</td></tr>",
                            "<tr><td>121</td><td>2</td><td>1296</td><td>-696</td></tr>",
                            "<tr><td>121</td><td>3</td><td>-425</td><td>-1721</td></tr>",
                            "<tr><td>122</td><td>1</td><td>314</td><td>314</td></tr>",
                            "<tr><td>122</td><td>2</td><td>252</td><td>-62</td></tr>",
                            "<tr><td>122</td><td>3</td><td>1347</td><td>1095</td></tr>",
                            "<tr><td>122</td><td>4</td><td>1066</td><td>-281</td></tr>",
                            "<tr><td>123</td><td>1</td><td>-717</td><td>-717</td></tr>",
                            "<tr><td>123</td><td>2</td><td>-2277</td><td>-1560</td></tr>",
                            "<tr><td>123</td><td>3</td><td>-1584</td><td>693</td></tr>",
                            "<tr><td>123</td><td>4</td><td>-2128</td><td>-544</td></tr>",
                            "<tr><td>124</td><td>1</td><td>731</td><td>731</td></tr>",
                            "<tr><td>124</td><td>2</td><td>1878</td><td>1147</td></tr>",
                            "<tr><td>124</td><td>3</td><td>1301</td><td>-577</td></tr>",
                            "<tr><td>125</td><td>1</td><td>-791</td><td>-791</td></tr>",
                            "<tr><td>125</td><td>2</td><td>-2479</td><td>-1688</td></tr>",
                            "<tr><td>125</td><td>3</td><td>-2436</td><td>43</td></tr>",
                            "<tr><td>126</td><td>1</td><td>-786</td><td>-786</td></tr>",
                            "<tr><td>126</td><td>2</td><td>-716</td><td>70</td></tr>",
                            "<tr><td>126</td><td>3</td><td>-2822</td><td>-2106</td></tr>",
                            "<tr><td>127</td><td>1</td><td>217</td><td>217</td></tr>",
                            "<tr><td>127</td><td>2</td><td>703</td><td>486</td></tr>",
                            "<tr><td>127</td><td>4</td><td>1672</td><td>969</td></tr>",
                            "<tr><td>128</td><td>1</td><td>410</td><td>410</td></tr>",
                            "<tr><td>128</td><td>2</td><td>144</td><td>-266</td></tr>",
                            "<tr><td>128</td><td>3</td><td>-776</td><td>-920</td></tr>",
                            "<tr><td>128</td><td>4</td><td>-202</td><td>574</td></tr>",
                            "<tr><td>129</td><td>1</td><td>466</td><td>466</td></tr>",
                            "<tr><td>129</td><td>2</td><td>-796</td><td>-1262</td></tr>",
                            "<tr><td>129</td><td>3</td><td>68</td><td>864</td></tr>",
                            "<tr><td>129</td><td>4</td><td>-2007</td><td>-2075</td></tr>",
                            "<tr><td>130</td><td>1</td><td>-248</td><td>-248</td></tr>",
                            "<tr><td>130</td><td>2</td><td>-1160</td><td>-912</td></tr>",
                            "<tr><td>130</td><td>3</td><td>132</td><td>1292</td></tr>",
                            "<tr><td>131</td><td>1</td><td>480</td><td>480</td></tr>",
                            "<tr><td>131</td><td>2</td><td>-983</td><td>-1463</td></tr>",
                            "<tr><td>131</td><td>3</td><td>-152</td><td>831</td></tr>",
                            "<tr><td>132</td><td>1</td><td>-1254</td><td>-1254</td></tr>",
                            "<tr><td>132</td><td>2</td><td>-2844</td><td>-1590</td></tr>",
                            "<tr><td>132</td><td>3</td><td>-5256</td><td>-2412</td></tr>",
                            "<tr><td>132</td><td>4</td><td>-5585</td><td>-329</td></tr>",
                            "<tr><td>133</td><td>1</td><td>-356</td><td>-356</td></tr>",
                            "<tr><td>133</td><td>2</td><td>-368</td><td>-12</td></tr>",
                            "<tr><td>134</td><td>1</td><td>3194</td><td>3194</td></tr>",
                            "<tr><td>134</td><td>2</td><td>2748</td><td>-446</td></tr>",
                            "<tr><td>134</td><td>3</td><td>1768</td><td>-980</td></tr>",
                            "<tr><td>135</td><td>1</td><td>104</td><td>104</td></tr>",
                            "<tr><td>135</td><td>2</td><td>977</td><td>873</td></tr>",
                            "<tr><td>135</td><td>3</td><td>1001</td><td>24</td></tr>",
                            "<tr><td>136</td><td>1</td><td>479</td><td>479</td></tr>",
                            "<tr><td>136</td><td>2</td><td>966</td><td>487</td></tr>",
                            "<tr><td>136</td><td>3</td><td>383</td><td>-583</td></tr>",
                            "<tr><td>136</td><td>4</td><td>-133</td><td>-516</td></tr>",
                            "<tr><td>137</td><td>1</td><td>396</td><td>396</td></tr>",
                            "<tr><td>137</td><td>2</td><td>-356</td><td>-752</td></tr>",
                            "<tr><td>138</td><td>1</td><td>1316</td><td>1316</td></tr>",
                            "<tr><td>138</td><td>2</td><td>320</td><td>-996</td></tr>",
                            "<tr><td>138</td><td>3</td><td>75</td><td>-245</td></tr>",
                            "<tr><td>138</td><td>4</td><td>-775</td><td>-850</td></tr>",
                            "<tr><td>139</td><td>1</td><td>44</td><td>44</td></tr>",
                            "<tr><td>139</td><td>2</td><td>504</td><td>460</td></tr>",
                            "<tr><td>139</td><td>3</td><td>537</td><td>33</td></tr>",
                            "<tr><td>140</td><td>1</td><td>803</td><td>803</td></tr>",
                            "<tr><td>140</td><td>2</td><td>1526</td><td>723</td></tr>",
                            "<tr><td>140</td><td>3</td><td>2345</td><td>819</td></tr>",
                            "<tr><td>140</td><td>4</td><td>1495</td><td>-850</td></tr>",
                            "<tr><td>141</td><td>1</td><td>-369</td><td>-369</td></tr>",
                            "<tr><td>141</td><td>2</td><td>1483</td><td>1852</td></tr>",
                            "<tr><td>141</td><td>3</td><td>2113</td><td>630</td></tr>",
                            "<tr><td>141</td><td>4</td><td>2538</td><td>425</td></tr>",
                            "<tr><td>142</td><td>1</td><td>1378</td><td>1378</td></tr>",
                            "<tr><td>142</td><td>2</td><td>440</td><td>-938</td></tr>",
                            "<tr><td>142</td><td>3</td><td>217</td><td>-223</td></tr>",
                            "<tr><td>142</td><td>4</td><td>863</td><td>646</td></tr>",
                            "<tr><td>143</td><td>1</td><td>807</td><td>807</td></tr>",
                            "<tr><td>143</td><td>2</td><td>1625</td><td>818</td></tr>",
                            "<tr><td>143</td><td>3</td><td>26</td><td>-1599</td></tr>",
                            "<tr><td>143</td><td>4</td><td>-2457</td><td>-2483</td></tr>",
                            "<tr><td>144</td><td>1</td><td>-735</td><td>-735</td></tr>",
                            "<tr><td>144</td><td>2</td><td>-3280</td><td>-2545</td></tr>",
                            "<tr><td>144</td><td>3</td><td>-3046</td><td>234</td></tr>",
                            "<tr><td>144</td><td>4</td><td>-4395</td><td>-1349</td></tr>",
                            "<tr><td>145</td><td>1</td><td>-3051</td><td>-3051</td></tr>",
                            "<tr><td>145</td><td>2</td><td>-1970</td><td>1081</td></tr>",
                            "<tr><td>145</td><td>3</td><td>-4119</td><td>-2149</td></tr>",
                            "<tr><td>146</td><td>1</td><td>-807</td><td>-807</td></tr>",
                            "<tr><td>146</td><td>2</td><td>-3267</td><td>-2460</td></tr>",
                            "<tr><td>146</td><td>3</td><td>-3781</td><td>-514</td></tr>",
                            "<tr><td>146</td><td>4</td><td>-3717</td><td>64</td></tr>",
                            "<tr><td>147</td><td>1</td><td>600</td><td>600</td></tr>",
                            "<tr><td>147</td><td>2</td><td>1698</td><td>1098</td></tr>",
                            "<tr><td>148</td><td>1</td><td>88</td><td>88</td></tr>",
                            "<tr><td>148</td><td>2</td><td>-2467</td><td>-2555</td></tr>",
                            "<tr><td>148</td><td>3</td><td>-2076</td><td>391</td></tr>",
                            "<tr><td>148</td><td>4</td><td>-2730</td><td>-654</td></tr>",
                            "<tr><td>149</td><td>1</td><td>344</td><td>344</td></tr>",
                            "<tr><td>149</td><td>2</td><td>321</td><td>-23</td></tr>",
                            "<tr><td>149</td><td>3</td><td>-202</td><td>-523</td></tr>",
                            "<tr><td>150</td><td>1</td><td>-600</td><td>-600</td></tr>",
                            "<tr><td>150</td><td>2</td><td>-1512</td><td>-912</td></tr>",
                            "<tr><td>150</td><td>3</td><td>-1604</td><td>-92</td></tr>",
                            "<tr><td>150</td><td>4</td><td>-2429</td><td>-825</td></tr>",
                            "<tr><td>151</td><td>1</td><td>1367</td><td>1367</td></tr>",
                            "<tr><td>151</td><td>2</td><td>5</td><td>-1362</td></tr>",
                            "<tr><td>151</td><td>3</td><td>-887</td><td>-892</td></tr>",
                            "<tr><td>152</td><td>1</td><td>1831</td><td>1831</td></tr>",
                            "<tr><td>152</td><td>2</td><td>1902</td><td>71</td></tr>",
                            "<tr><td>152</td><td>3</td><td>1984</td><td>82</td></tr>",
                            "<tr><td>153</td><td>1</td><td>-1954</td><td>-1954</td></tr>",
                            "<tr><td>153</td><td>2</td><td>-776</td><td>1178</td></tr>",
                            "<tr><td>153</td><td>3</td><td>-1695</td><td>-919</td></tr>",
                            "<tr><td>154</td><td>1</td><td>-1392</td><td>-1392</td></tr>",
                            "<tr><td>154</td><td>2</td><td>-2340</td><td>-948</td></tr>",
                            "<tr><td>154</td><td>3</td><td>-2104</td><td>236</td></tr>",
                            "<tr><td>154</td><td>4</td><td>-2555</td><td>-451</td></tr>",
                            "<tr><td>155</td><td>1</td><td>-996</td><td>-996</td></tr>",
                            "<tr><td>155</td><td>2</td><td>-2941</td><td>-1945</td></tr>",
                            "<tr><td>155</td><td>3</td><td>-3377</td><td>-436</td></tr>",
                            "<tr><td>155</td><td>4</td><td>-4530</td><td>-1153</td></tr>",
                            "<tr><td>156</td><td>1</td><td>82</td><td>82</td></tr>",
                            "<tr><td>156</td><td>4</td><td>312</td><td>230</td></tr>",
                            "<tr><td>157</td><td>1</td><td>138</td><td>138</td></tr>",
                            "<tr><td>157</td><td>2</td><td>-611</td><td>-749</td></tr>",
                            "<tr><td>157</td><td>3</td><td>2766</td><td>3377</td></tr>",
                            "<tr><td>158</td><td>1</td><td>56</td><td>56</td></tr>",
                            "<tr><td>158</td><td>2</td><td>-136</td><td>-192</td></tr>",
                            "<tr><td>158</td><td>3</td><td>-1106</td><td>-970</td></tr>",
                            "<tr><td>159</td><td>1</td><td>-301</td><td>-301</td></tr>",
                            "<tr><td>160</td><td>1</td><td>843</td><td>843</td></tr>",
                            "<tr><td>160</td><td>2</td><td>543</td><td>-300</td></tr>",
                            "<tr><td>160</td><td>3</td><td>-69</td><td>-612</td></tr>",
                            "<tr><td>160</td><td>4</td><td>-307</td><td>-238</td></tr>",
                            "<tr><td>161</td><td>1</td><td>-1121</td><td>-1121</td></tr>",
                            "<tr><td>161</td><td>2</td><td>-961</td><td>160</td></tr>",
                            "<tr><td>161</td><td>3</td><td>-291</td><td>670</td></tr>",
                            "<tr><td>162</td><td>1</td><td>123</td><td>123</td></tr>",
                            "<tr><td>162</td><td>2</td><td>784</td><td>661</td></tr>",
                            "<tr><td>163</td><td>1</td><td>-73</td><td>-73</td></tr>",
                            "<tr><td>163</td><td>2</td><td>-328</td><td>-255</td></tr>",
                            "<tr><td>163</td><td>3</td><td>-3116</td><td>-2788</td></tr>",
                            "<tr><td>163</td><td>4</td><td>-3055</td><td>61</td></tr>",
                            "<tr><td>164</td><td>1</td><td>548</td><td>548</td></tr>",
                            "<tr><td>164</td><td>2</td><td>957</td><td>409</td></tr>",
                            "<tr><td>165</td><td>1</td><td>-61</td><td>-61</td></tr>",
                            "<tr><td>165</td><td>2</td><td>-1088</td><td>-1027</td></tr>",
                            "<tr><td>165</td><td>3</td><td>-3701</td><td>-2613</td></tr>",
                            "<tr><td>165</td><td>4</td><td>-3931</td><td>-230</td></tr>",
                            "<tr><td>166</td><td>1</td><td>957</td><td>957</td></tr>",
                            "<tr><td>166</td><td>2</td><td>1546</td><td>589</td></tr>",
                            "<tr><td>166</td><td>3</td><td>1303</td><td>-243</td></tr>",
                            "<tr><td>166</td><td>4</td><td>1783</td><td>480</td></tr>",
                            "<tr><td>167</td><td>1</td><td>51</td><td>51</td></tr>",
                            "<tr><td>167</td><td>2</td><td>574</td><td>523</td></tr>",
                            "<tr><td>167</td><td>3</td><td>-566</td><td>-1140</td></tr>",
                            "<tr><td>167</td><td>4</td><td>-748</td><td>-182</td></tr>",
                            "<tr><td>168</td><td>1</td><td>114</td><td>114</td></tr>",
                            "<tr><td>168</td><td>2</td><td>-801</td><td>-915</td></tr>",
                            "<tr><td>169</td><td>1</td><td>-569</td><td>-569</td></tr>",
                            "<tr><td>169</td><td>2</td><td>-1190</td><td>-621</td></tr>",
                            "<tr><td>169</td><td>3</td><td>9</td><td>1199</td></tr>",
                            "<tr><td>169</td><td>4</td><td>906</td><td>897</td></tr>",
                            "<tr><td>170</td><td>1</td><td>-38</td><td>-38</td></tr>",
                            "<tr><td>170</td><td>2</td><td>-373</td><td>-335</td></tr>",
                            "<tr><td>170</td><td>3</td><td>-137</td><td>236</td></tr>",
                            "<tr><td>170</td><td>4</td><td>-850</td><td>-713</td></tr>",
                            "<tr><td>171</td><td>1</td><td>-197</td><td>-197</td></tr>",
                            "<tr><td>171</td><td>2</td><td>-1400</td><td>-1203</td></tr>",
                            "<tr><td>171</td><td>3</td><td>-1921</td><td>-521</td></tr>",
                            "<tr><td>171</td><td>4</td><td>-911</td><td>1010</td></tr>",
                            "<tr><td>172</td><td>1</td><td>-174</td><td>-174</td></tr>",
                            "<tr><td>172</td><td>3</td><td>-1038</td><td>-864</td></tr>",
                            "<tr><td>173</td><td>1</td><td>1298</td><td>1298</td></tr>",
                            "<tr><td>173</td><td>2</td><td>1398</td><td>100</td></tr>",
                            "<tr><td>173</td><td>3</td><td>912</td><td>-486</td></tr>",
                            "<tr><td>173</td><td>4</td><td>121</td><td>-791</td></tr>",
                            "<tr><td>174</td><td>1</td><td>1142</td><td>1142</td></tr>",
                            "<tr><td>174</td><td>2</td><td>-98</td><td>-1240</td></tr>",
                            "<tr><td>174</td><td>3</td><td>-1135</td><td>-1037</td></tr>",
                            "<tr><td>174</td><td>4</td><td>644</td><td>1779</td></tr>",
                            "<tr><td>175</td><td>1</td><td>-326</td><td>-326</td></tr>",
                            "<tr><td>175</td><td>2</td><td>-755</td><td>-429</td></tr>",
                            "<tr><td>175</td><td>3</td><td>-1822</td><td>-1067</td></tr>",
                            "<tr><td>175</td><td>4</td><td>-1549</td><td>273</td></tr>",
                            "<tr><td>176</td><td>1</td><td>655</td><td>655</td></tr>",
                            "<tr><td>176</td><td>2</td><td>605</td><td>-50</td></tr>",
                            "<tr><td>176</td><td>3</td><td>-531</td><td>-1136</td></tr>",
                            "<tr><td>176</td><td>4</td><td>-1067</td><td>-536</td></tr>",
                            "<tr><td>177</td><td>1</td><td>405</td><td>405</td></tr>",
                            "<tr><td>177</td><td>2</td><td>-156</td><td>-561</td></tr>",
                            "<tr><td>177</td><td>3</td><td>800</td><td>956</td></tr>",
                            "<tr><td>177</td><td>4</td><td>-974</td><td>-1774</td></tr>",
                            "<tr><td>178</td><td>1</td><td>252</td><td>252</td></tr>",
                            "<tr><td>178</td><td>2</td><td>387</td><td>135</td></tr>",
                            "<tr><td>178</td><td>3</td><td>390</td><td>3</td></tr>",
                            "<tr><td>178</td><td>4</td><td>-1983</td><td>-2373</td></tr>",
                            "<tr><td>179</td><td>1</td><td>-1754</td><td>-1754</td></tr>",
                            "<tr><td>179</td><td>2</td><td>-3386</td><td>-1632</td></tr>",
                            "<tr><td>179</td><td>3</td><td>-7953</td><td>-4567</td></tr>",
                            "<tr><td>180</td><td>1</td><td>-838</td><td>-838</td></tr>",
                            "<tr><td>180</td><td>2</td><td>-1808</td><td>-970</td></tr>",
                            "<tr><td>180</td><td>3</td><td>-2804</td><td>-996</td></tr>",
                            "<tr><td>180</td><td>4</td><td>-3175</td><td>-371</td></tr>",
                            "<tr><td>181</td><td>1</td><td>-47</td><td>-47</td></tr>",
                            "<tr><td>181</td><td>2</td><td>-843</td><td>-796</td></tr>",
                            "<tr><td>181</td><td>3</td><td>-2640</td><td>-1797</td></tr>",
                            "<tr><td>182</td><td>1</td><td>97</td><td>97</td></tr>",
                            "<tr><td>182</td><td>2</td><td>-45</td><td>-142</td></tr>",
                            "<tr><td>182</td><td>3</td><td>-843</td><td>-798</td></tr>",
                            "<tr><td>182</td><td>4</td><td>-159</td><td>684</td></tr>",
                            "<tr><td>183</td><td>1</td><td>-540</td><td>-540</td></tr>",
                            "<tr><td>183</td><td>2</td><td>-3729</td><td>-3189</td></tr>",
                            "<tr><td>183</td><td>3</td><td>-6083</td><td>-2354</td></tr>",
                            "<tr><td>183</td><td>4</td><td>-6560</td><td>-477</td></tr>",
                            "<tr><td>184</td><td>1</td><td>472</td><td>472</td></tr>",
                            "<tr><td>184</td><td>2</td><td>-331</td><td>-803</td></tr>",
                            "<tr><td>184</td><td>3</td><td>-2530</td><td>-2199</td></tr>",
                            "<tr><td>184</td><td>4</td><td>-3178</td><td>-648</td></tr>",
                            "<tr><td>185</td><td>1</td><td>626</td><td>626</td></tr>",
                            "<tr><td>185</td><td>2</td><td>-11</td><td>-637</td></tr>",
                            "<tr><td>185</td><td>3</td><td>-1001</td><td>-990</td></tr>",
                            "<tr><td>185</td><td>4</td><td>-505</td><td>496</td></tr>",
                            "<tr><td>186</td><td>1</td><td>534</td><td>534</td></tr>",
                            "<tr><td>186</td><td>2</td><td>1345</td><td>811</td></tr>",
                            "<tr><td>186</td><td>3</td><td>1930</td><td>585</td></tr>",
                            "<tr><td>186</td><td>4</td><td>1284</td><td>-646</td></tr>",
                            "<tr><td>187</td><td>1</td><td>-211</td><td>-211</td></tr>",
                            "<tr><td>187</td><td>2</td><td>-1379</td><td>-1168</td></tr>",
                            "<tr><td>187</td><td>3</td><td>-3060</td><td>-1681</td></tr>",
                            "<tr><td>187</td><td>4</td><td>-2272</td><td>788</td></tr>",
                            "<tr><td>188</td><td>1</td><td>-184</td><td>-184</td></tr>",
                            "<tr><td>188</td><td>2</td><td>1013</td><td>1197</td></tr>",
                            "<tr><td>188</td><td>3</td><td>52</td><td>-961</td></tr>",
                            "<tr><td>188</td><td>4</td><td>-475</td><td>-527</td></tr>",
                            "<tr><td>189</td><td>1</td><td>-838</td><td>-838</td></tr>",
                            "<tr><td>189</td><td>2</td><td>-2101</td><td>-1263</td></tr>",
                            "<tr><td>189</td><td>3</td><td>-4007</td><td>-1906</td></tr>",
                            "<tr><td>190</td><td>1</td><td>14</td><td>14</td></tr>",
                            "<tr><td>190</td><td>2</td><td>459</td><td>445</td></tr>",
                            "<tr><td>190</td><td>3</td><td>523</td><td>64</td></tr>",
                            "<tr><td>190</td><td>4</td><td>1178</td><td>655</td></tr>",
                            "<tr><td>191</td><td>1</td><td>1632</td><td>1632</td></tr>",
                            "<tr><td>191</td><td>2</td><td>1306</td><td>-326</td></tr>",
                            "<tr><td>191</td><td>3</td><td>1036</td><td>-270</td></tr>",
                            "<tr><td>191</td><td>4</td><td>879</td><td>-157</td></tr>",
                            "<tr><td>192</td><td>1</td><td>2526</td><td>2526</td></tr>",
                            "<tr><td>192</td><td>2</td><td>-689</td><td>-3215</td></tr>",
                            "<tr><td>192</td><td>3</td><td>383</td><td>1072</td></tr>",
                            "<tr><td>192</td><td>4</td><td>1139</td><td>756</td></tr>",
                            "<tr><td>193</td><td>1</td><td>689</td><td>689</td></tr>",
                            "<tr><td>193</td><td>3</td><td>486</td><td>-203</td></tr>",
                            "<tr><td>194</td><td>1</td><td>137</td><td>137</td></tr>",
                            "<tr><td>194</td><td>2</td><td>-2211</td><td>-2348</td></tr>",
                            "<tr><td>194</td><td>3</td><td>178</td><td>2389</td></tr>",
                            "<tr><td>194</td><td>4</td><td>-697</td><td>-875</td></tr>",
                            "<tr><td>195</td><td>1</td><td>489</td><td>489</td></tr>",
                            "<tr><td>195</td><td>3</td><td>406</td><td>-83</td></tr>",
                            "<tr><td>196</td><td>1</td><td>734</td><td>734</td></tr>",
                            "<tr><td>196</td><td>2</td><td>1295</td><td>561</td></tr>",
                            "<tr><td>196</td><td>3</td><td>1382</td><td>87</td></tr>",
                            "<tr><td>197</td><td>1</td><td>-446</td><td>-446</td></tr>",
                            "<tr><td>197</td><td>2</td><td>137</td><td>583</td></tr>",
                            "<tr><td>197</td><td>3</td><td>1023</td><td>886</td></tr>",
                            "<tr><td>197</td><td>4</td><td>3685</td><td>2662</td></tr>",
                            "<tr><td>198</td><td>1</td><td>1144</td><td>1144</td></tr>",
                            "<tr><td>198</td><td>2</td><td>288</td><td>-856</td></tr>",
                            "<tr><td>198</td><td>3</td><td>-1253</td><td>-1541</td></tr>",
                            "<tr><td>198</td><td>4</td><td>-757</td><td>496</td></tr>",
                            "<tr><td>199</td><td>1</td><td>530</td><td>530</td></tr>",
                            "<tr><td>199</td><td>2</td><td>515</td><td>-15</td></tr>",
                            "<tr><td>199</td><td>3</td><td>-14</td><td>-529</td></tr>",
                            "<tr><td>199</td><td>4</td><td>-220</td><td>-206</td></tr>",
                            "<tr><td>200</td><td>1</td><td>997</td><td>997</td></tr>",
                            "<tr><td>200</td><td>2</td><td>1356</td><td>359</td></tr>",
                            "<tr><td>200</td><td>3</td><td>2914</td><td>1558</td></tr>",
                            "<tr><td>200</td><td>4</td><td>2853</td><td>-61</td></tr>",
                            "<tr><td>201</td><td>1</td><td>-383</td><td>-383</td></tr>",
                            "<tr><td>201</td><td>2</td><td>-292</td><td>91</td></tr>",
                            "<tr><td>201</td><td>3</td><td>1529</td><td>1821</td></tr>",
                            "<tr><td>202</td><td>1</td><td>-530</td><td>-530</td></tr>",
                            "<tr><td>202</td><td>2</td><td>-916</td><td>-386</td></tr>",
                            "<tr><td>202</td><td>3</td><td>-2415</td><td>-1499</td></tr>",
                            "<tr><td>203</td><td>1</td><td>2528</td><td>2528</td></tr>",
                            "<tr><td>203</td><td>2</td><td>3471</td><td>943</td></tr>",
                            "<tr><td>203</td><td>3</td><td>3461</td><td>-10</td></tr>",
                            "<tr><td>203</td><td>4</td><td>3437</td><td>-24</td></tr>",
                            "<tr><td>204</td><td>1</td><td>749</td><td>749</td></tr>",
                            "<tr><td>204</td><td>2</td><td>1039</td><td>290</td></tr>",
                            "<tr><td>204</td><td>3</td><td>1587</td><td>548</td></tr>",
                            "<tr><td>204</td><td>4</td><td>1893</td><td>306</td></tr>",
                            "<tr><td>205</td><td>1</td><td>-82</td><td>-82</td></tr>",
                            "<tr><td>205</td><td>2</td><td>1211</td><td>1293</td></tr>",
                            "<tr><td>205</td><td>3</td><td>1067</td><td>-144</td></tr>",
                            "<tr><td>206</td><td>1</td><td>-215</td><td>-215</td></tr>",
                            "<tr><td>206</td><td>2</td><td>-949</td><td>-734</td></tr>",
                            "<tr><td>206</td><td>3</td><td>-4974</td><td>-4025</td></tr>",
                            "<tr><td>206</td><td>4</td><td>-5374</td><td>-400</td></tr>",
                            "<tr><td>207</td><td>1</td><td>322</td><td>322</td></tr>",
                            "<tr><td>207</td><td>2</td><td>-1954</td><td>-2276</td></tr>",
                            "<tr><td>207</td><td>3</td><td>-2152</td><td>-198</td></tr>",
                            "<tr><td>207</td><td>4</td><td>-1014</td><td>1138</td></tr>",
                            "<tr><td>208</td><td>1</td><td>537</td><td>537</td></tr>",
                            "<tr><td>208</td><td>2</td><td>406</td><td>-131</td></tr>",
                            "<tr><td>208</td><td>4</td><td>1361</td><td>955</td></tr>",
                            "<tr><td>209</td><td>1</td><td>-202</td><td>-202</td></tr>",
                            "<tr><td>209</td><td>2</td><td>-766</td><td>-564</td></tr>",
                            "<tr><td>209</td><td>3</td><td>-1266</td><td>-500</td></tr>",
                            "<tr><td>209</td><td>4</td><td>-2351</td><td>-1085</td></tr>",
                            "<tr><td>210</td><td>1</td><td>60</td><td>60</td></tr>",
                            "<tr><td>210</td><td>2</td><td>-1361</td><td>-1421</td></tr>",
                            "<tr><td>210</td><td>3</td><td>-1309</td><td>52</td></tr>",
                            "<tr><td>210</td><td>4</td><td>-792</td><td>517</td></tr>",
                            "<tr><td>211</td><td>1</td><td>607</td><td>607</td></tr>",
                            "<tr><td>211</td><td>2</td><td>1839</td><td>1232</td></tr>",
                            "<tr><td>211</td><td>3</td><td>257</td><td>-1582</td></tr>",
                            "<tr><td>211</td><td>4</td><td>-602</td><td>-859</td></tr>",
                            "<tr><td>212</td><td>1</td><td>-336</td><td>-336</td></tr>",
                            "<tr><td>212</td><td>2</td><td>481</td><td>817</td></tr>",
                            "<tr><td>212</td><td>3</td><td>3529</td><td>3048</td></tr>",
                            "<tr><td>213</td><td>1</td><td>-239</td><td>-239</td></tr>",
                            "<tr><td>213</td><td>2</td><td>-1199</td><td>-960</td></tr>",
                            "<tr><td>213</td><td>3</td><td>-1184</td><td>15</td></tr>",
                            "<tr><td>213</td><td>4</td><td>-1717</td><td>-533</td></tr>",
                            "<tr><td>214</td><td>1</td><td>-445</td><td>-445</td></tr>",
                            "<tr><td>214</td><td>2</td><td>-1511</td><td>-1066</td></tr>",
                            "<tr><td>214</td><td>3</td><td>83</td><td>1594</td></tr>",
                            "<tr><td>214</td><td>4</td><td>802</td><td>719</td></tr>",
                            "<tr><td>215</td><td>1</td><td>822</td><td>822</td></tr>",
                            "<tr><td>215</td><td>2</td><td>1770</td><td>948</td></tr>",
                            "<tr><td>215</td><td>3</td><td>697</td><td>-1073</td></tr>",
                            "<tr><td>215</td><td>4</td><td>414</td><td>-283</td></tr>",
                            "<tr><td>216</td><td>1</td><td>1619</td><td>1619</td></tr>",
                            "<tr><td>216</td><td>2</td><td>3302</td><td>1683</td></tr>",
                            "<tr><td>216</td><td>3</td><td>872</td><td>-2430</td></tr>",
                            "<tr><td>216</td><td>4</td><td>-110</td><td>-982</td></tr>",
                            "<tr><td>217</td><td>1</td><td>870</td><td>870</td></tr>",
                            "<tr><td>217</td><td>2</td><td>1839</td><td>969</td></tr>",
                            "<tr><td>217</td><td>3</td><td>9</td><td>-1830</td></tr>",
                            "<tr><td>218</td><td>1</td><td>208</td><td>208</td></tr>",
                            "<tr><td>218</td><td>2</td><td>-1620</td><td>-1828</td></tr>",
                            "<tr><td>218</td><td>3</td><td>-465</td><td>1155</td></tr>",
                            "<tr><td>218</td><td>4</td><td>1167</td><td>1632</td></tr>",
                            "<tr><td>219</td><td>1</td><td>165</td><td>165</td></tr>",
                            "<tr><td>219</td><td>2</td><td>-845</td><td>-1010</td></tr>",
                            "<tr><td>219</td><td>3</td><td>1108</td><td>1953</td></tr>",
                            "<tr><td>219</td><td>4</td><td>306</td><td>-802</td></tr>",
                            "<tr><td>220</td><td>1</td><td>307</td><td>307</td></tr>",
                            "<tr><td>220</td><td>2</td><td>714</td><td>407</td></tr>",
                            "<tr><td>220</td><td>3</td><td>-29</td><td>-743</td></tr>",
                            "<tr><td>220</td><td>4</td><td>-958</td><td>-929</td></tr>",
                            "<tr><td>221</td><td>1</td><td>1384</td><td>1384</td></tr>",
                            "<tr><td>221</td><td>2</td><td>1481</td><td>97</td></tr>",
                            "<tr><td>221</td><td>3</td><td>1055</td><td>-426</td></tr>",
                            "<tr><td>222</td><td>1</td><td>657</td><td>657</td></tr>",
                            "<tr><td>222</td><td>2</td><td>1997</td><td>1340</td></tr>",
                            "<tr><td>222</td><td>3</td><td>1136</td><td>-861</td></tr>",
                            "<tr><td>222</td><td>4</td><td>1532</td><td>396</td></tr>",
                            "<tr><td>223</td><td>1</td><td>396</td><td>396</td></tr>",
                            "<tr><td>223</td><td>2</td><td>-1100</td><td>-1496</td></tr>",
                            "<tr><td>223</td><td>3</td><td>-1723</td><td>-623</td></tr>",
                            "<tr><td>223</td><td>4</td><td>-2435</td><td>-712</td></tr>",
                            "<tr><td>224</td><td>1</td><td>487</td><td>487</td></tr>",
                            "<tr><td>224</td><td>2</td><td>-206</td><td>-693</td></tr>",
                            "<tr><td>224</td><td>3</td><td>-1581</td><td>-1375</td></tr>",
                            "<tr><td>224</td><td>4</td><td>-1369</td><td>212</td></tr>",
                            "<tr><td>225</td><td>1</td><td>280</td><td>280</td></tr>",
                            "<tr><td>225</td><td>2</td><td>-89</td><td>-369</td></tr>",
                            "<tr><td>225</td><td>3</td><td>297</td><td>386</td></tr>",
                            "<tr><td>226</td><td>1</td><td>-980</td><td>-980</td></tr>",
                            "<tr><td>226</td><td>2</td><td>-586</td><td>394</td></tr>",
                            "<tr><td>226</td><td>3</td><td>-1855</td><td>-1269</td></tr>",
                            "<tr><td>226</td><td>4</td><td>-1430</td><td>425</td></tr>",
                            "<tr><td>227</td><td>1</td><td>-622</td><td>-622</td></tr>",
                            "<tr><td>227</td><td>2</td><td>-1045</td><td>-423</td></tr>",
                            "<tr><td>227</td><td>3</td><td>-2336</td><td>-1291</td></tr>",
                            "<tr><td>227</td><td>4</td><td>-3161</td><td>-825</td></tr>",
                            "<tr><td>228</td><td>1</td><td>294</td><td>294</td></tr>",
                            "<tr><td>228</td><td>2</td><td>-253</td><td>-547</td></tr>",
                            "<tr><td>228</td><td>3</td><td>-1724</td><td>-1471</td></tr>",
                            "<tr><td>229</td><td>1</td><td>621</td><td>621</td></tr>",
                            "<tr><td>229</td><td>2</td><td>1618</td><td>997</td></tr>",
                            "<tr><td>229</td><td>3</td><td>703</td><td>-915</td></tr>",
                            "<tr><td>230</td><td>1</td><td>499</td><td>499</td></tr>",
                            "<tr><td>230</td><td>2</td><td>990</td><td>491</td></tr>",
                            "<tr><td>230</td><td>3</td><td>2428</td><td>1438</td></tr>",
                            "<tr><td>230</td><td>4</td><td>2356</td><td>-72</td></tr>",
                            "<tr><td>231</td><td>1</td><td>-236</td><td>-236</td></tr>",
                            "<tr><td>231</td><td>2</td><td>-534</td><td>-298</td></tr>",
                            "<tr><td>231</td><td>3</td><td>-2010</td><td>-1476</td></tr>",
                            "<tr><td>231</td><td>4</td><td>-2475</td><td>-465</td></tr>",
                            "<tr><td>232</td><td>1</td><td>1418</td><td>1418</td></tr>",
                            "<tr><td>232</td><td>2</td><td>864</td><td>-554</td></tr>",
                            "<tr><td>232</td><td>3</td><td>923</td><td>59</td></tr>",
                            "<tr><td>233</td><td>1</td><td>1795</td><td>1795</td></tr>",
                            "<tr><td>233</td><td>2</td><td>2910</td><td>1115</td></tr>",
                            "<tr><td>233</td><td>3</td><td>3742</td><td>832</td></tr>",
                            "<tr><td>234</td><td>1</td><td>-200</td><td>-200</td></tr>",
                            "<tr><td>234</td><td>2</td><td>322</td><td>522</td></tr>",
                            "<tr><td>234</td><td>3</td><td>-2276</td><td>-2598</td></tr>",
                            "<tr><td>235</td><td>1</td><td>-1963</td><td>-1963</td></tr>",
                            "<tr><td>235</td><td>2</td><td>-476</td><td>1487</td></tr>",
                            "<tr><td>235</td><td>3</td><td>24</td><td>500</td></tr>",
                            "<tr><td>236</td><td>1</td><td>356</td><td>356</td></tr>",
                            "<tr><td>236</td><td>2</td><td>1059</td><td>703</td></tr>",
                            "<tr><td>236</td><td>3</td><td>924</td><td>-135</td></tr>",
                            "<tr><td>236</td><td>4</td><td>-100</td><td>-1024</td></tr>",
                            "<tr><td>237</td><td>1</td><td>-174</td><td>-174</td></tr>",
                            "<tr><td>237</td><td>2</td><td>136</td><td>310</td></tr>",
                            "<tr><td>237</td><td>3</td><td>1567</td><td>1431</td></tr>",
                            "<tr><td>237</td><td>4</td><td>812</td><td>-755</td></tr>",
                            "<tr><td>238</td><td>1</td><td>802</td><td>802</td></tr>",
                            "<tr><td>238</td><td>2</td><td>1270</td><td>468</td></tr>",
                            "<tr><td>238</td><td>4</td><td>-479</td><td>-1749</td></tr>",
                            "<tr><td>239</td><td>1</td><td>-10</td><td>-10</td></tr>",
                            "<tr><td>239</td><td>2</td><td>706</td><td>716</td></tr>",
                            "<tr><td>239</td><td>3</td><td>574</td><td>-132</td></tr>",
                            "<tr><td>239</td><td>4</td><td>1871</td><td>1297</td></tr>",
                            "<tr><td>240</td><td>1</td><td>1108</td><td>1108</td></tr>",
                            "<tr><td>240</td><td>2</td><td>754</td><td>-354</td></tr>",
                            "<tr><td>240</td><td>3</td><td>3200</td><td>2446</td></tr>",
                            "<tr><td>240</td><td>4</td><td>3075</td><td>-125</td></tr>",
                            "<tr><td>241</td><td>1</td><td>20</td><td>20</td></tr>",
                            "<tr><td>242</td><td>1</td><td>1143</td><td>1143</td></tr>",
                            "<tr><td>242</td><td>2</td><td>-462</td><td>-1605</td></tr>",
                            "<tr><td>242</td><td>3</td><td>-1891</td><td>-1429</td></tr>",
                            "<tr><td>242</td><td>4</td><td>-3334</td><td>-1443</td></tr>",
                            "<tr><td>243</td><td>1</td><td>-368</td><td>-368</td></tr>",
                            "<tr><td>243</td><td>3</td><td>979</td><td>1347</td></tr>",
                            "<tr><td>244</td><td>1</td><td>728</td><td>728</td></tr>",
                            "<tr><td>244</td><td>2</td><td>1752</td><td>1024</td></tr>",
                            "<tr><td>244</td><td>3</td><td>1930</td><td>178</td></tr>",
                            "<tr><td>244</td><td>4</td><td>877</td><td>-1053</td></tr>",
                            "<tr><td>245</td><td>1</td><td>76</td><td>76</td></tr>",
                            "<tr><td>245</td><td>2</td><td>-341</td><td>-417</td></tr>",
                            "<tr><td>245</td><td>3</td><td>-1791</td><td>-1450</td></tr>",
                            "<tr><td>245</td><td>4</td><td>-1021</td><td>770</td></tr>",
                            "<tr><td>246</td><td>1</td><td>506</td><td>506</td></tr>",
                            "<tr><td>246</td><td>2</td><td>584</td><td>78</td></tr>",
                            "<tr><td>246</td><td>3</td><td>277</td><td>-307</td></tr>",
                            "<tr><td>246</td><td>4</td><td>-2132</td><td>-2409</td></tr>",
                            "<tr><td>247</td><td>1</td><td>983</td><td>983</td></tr>",
                            "<tr><td>247</td><td>2</td><td>577</td><td>-406</td></tr>",
                            "<tr><td>247</td><td>3</td><td>297</td><td>-280</td></tr>",
                            "<tr><td>248</td><td>1</td><td>304</td><td>304</td></tr>",
                            "<tr><td>248</td><td>2</td><td>667</td><td>363</td></tr>",
                            "<tr><td>248</td><td>3</td><td>955</td><td>288</td></tr>",
                            "<tr><td>248</td><td>4</td><td>1188</td><td>233</td></tr>",
                            "<tr><td>249</td><td>1</td><td>336</td><td>336</td></tr>",
                            "<tr><td>249</td><td>3</td><td>1065</td><td>729</td></tr>",
                            "<tr><td>249</td><td>4</td><td>895</td><td>-170</td></tr>",
                            "<tr><td>250</td><td>1</td><td>149</td><td>149</td></tr>",
                            "<tr><td>250</td><td>2</td><td>0</td><td>-149</td></tr>",
                            "<tr><td>250</td><td>3</td><td>177</td><td>177</td></tr>",
                            "<tr><td>250</td><td>4</td><td>-1555</td><td>-1732</td></tr>",
                            "<tr><td>251</td><td>1</td><td>1276</td><td>1276</td></tr>",
                            "<tr><td>251</td><td>2</td><td>-924</td><td>-2200</td></tr>",
                            "<tr><td>251</td><td>3</td><td>-1230</td><td>-306</td></tr>",
                            "<tr><td>251</td><td>4</td><td>-1883</td><td>-653</td></tr>",
                            "<tr><td>252</td><td>1</td><td>289</td><td>289</td></tr>",
                            "<tr><td>252</td><td>4</td><td>133</td><td>-156</td></tr>",
                            "<tr><td>253</td><td>1</td><td>-578</td><td>-578</td></tr>",
                            "<tr><td>253</td><td>2</td><td>-577</td><td>1</td></tr>",
                            "<tr><td>253</td><td>3</td><td>-457</td><td>120</td></tr>",
                            "<tr><td>253</td><td>4</td><td>-484</td><td>-27</td></tr>",
                            "<tr><td>254</td><td>1</td><td>36</td><td>36</td></tr>",
                            "<tr><td>254</td><td>2</td><td>-2883</td><td>-2919</td></tr>",
                            "<tr><td>254</td><td>3</td><td>-590</td><td>2293</td></tr>",
                            "<tr><td>255</td><td>1</td><td>253</td><td>253</td></tr>",
                            "<tr><td>255</td><td>2</td><td>129</td><td>-124</td></tr>",
                            "<tr><td>255</td><td>3</td><td>-548</td><td>-677</td></tr>",
                            "<tr><td>256</td><td>1</td><td>1743</td><td>1743</td></tr>",
                            "<tr><td>256</td><td>2</td><td>906</td><td>-837</td></tr>",
                            "<tr><td>256</td><td>3</td><td>1152</td><td>246</td></tr>",
                            "<tr><td>256</td><td>4</td><td>1094</td><td>-58</td></tr>",
                            "<tr><td>257</td><td>1</td><td>414</td><td>414</td></tr>",
                            "<tr><td>257</td><td>2</td><td>-1609</td><td>-2023</td></tr>",
                            "<tr><td>257</td><td>3</td><td>-472</td><td>1137</td></tr>",
                            "<tr><td>257</td><td>4</td><td>-976</td><td>-504</td></tr>",
                            "<tr><td>258</td><td>1</td><td>590</td><td>590</td></tr>",
                            "<tr><td>258</td><td>2</td><td>-1076</td><td>-1666</td></tr>",
                            "<tr><td>258</td><td>3</td><td>-2893</td><td>-1817</td></tr>",
                            "<tr><td>258</td><td>4</td><td>-1465</td><td>1428</td></tr>",
                            "<tr><td>259</td><td>1</td><td>928</td><td>928</td></tr>",
                            "<tr><td>259</td><td>2</td><td>-267</td><td>-1195</td></tr>",
                            "<tr><td>259</td><td>3</td><td>-1458</td><td>-1191</td></tr>",
                            "<tr><td>260</td><td>1</td><td>1865</td><td>1865</td></tr>",
                            "<tr><td>260</td><td>3</td><td>1909</td><td>44</td></tr>",
                            "<tr><td>261</td><td>1</td><td>746</td><td>746</td></tr>",
                            "<tr><td>261</td><td>2</td><td>1408</td><td>662</td></tr>",
                            "<tr><td>261</td><td>3</td><td>-329</td><td>-1737</td></tr>",
                            "<tr><td>261</td><td>4</td><td>-31</td><td>298</td></tr>",
                            "<tr><td>262</td><td>1</td><td>-1070</td><td>-1070</td></tr>",
                            "<tr><td>262</td><td>2</td><td>-2599</td><td>-1529</td></tr>",
                            "<tr><td>262</td><td>3</td><td>-2372</td><td>227</td></tr>",
                            "<tr><td>263</td><td>1</td><td>312</td><td>312</td></tr>",
                            "<tr><td>263</td><td>2</td><td>112</td><td>-200</td></tr>",
                            "<tr><td>263</td><td>4</td><td>770</td><td>658</td></tr>",
                            "<tr><td>264</td><td>1</td><td>770</td><td>770</td></tr>",
                            "<tr><td>264</td><td>2</td><td>1545</td><td>775</td></tr>",
                            "<tr><td>264</td><td>3</td><td>2088</td><td>543</td></tr>",
                            "<tr><td>264</td><td>4</td><td>1295</td><td>-793</td></tr>",
                            "<tr><td>265</td><td>1</td><td>-25</td><td>-25</td></tr>",
                            "<tr><td>265</td><td>2</td><td>-1481</td><td>-1456</td></tr>",
                            "<tr><td>265</td><td>3</td><td>-2592</td><td>-1111</td></tr>",
                            "<tr><td>265</td><td>4</td><td>-1948</td><td>644</td></tr>",
                            "<tr><td>266</td><td>1</td><td>651</td><td>651</td></tr>",
                            "<tr><td>266</td><td>2</td><td>1455</td><td>804</td></tr>",
                            "<tr><td>266</td><td>3</td><td>787</td><td>-668</td></tr>",
                            "<tr><td>266</td><td>4</td><td>1138</td><td>351</td></tr>",
                            "<tr><td>267</td><td>1</td><td>-193</td><td>-193</td></tr>",
                            "<tr><td>267</td><td>2</td><td>-2068</td><td>-1875</td></tr>",
                            "<tr><td>267</td><td>3</td><td>-5236</td><td>-3168</td></tr>",
                            "<tr><td>267</td><td>4</td><td>-2442</td><td>2794</td></tr>",
                            "<tr><td>268</td><td>1</td><td>1699</td><td>1699</td></tr>",
                            "<tr><td>268</td><td>2</td><td>123</td><td>-1576</td></tr>",
                            "<tr><td>268</td><td>3</td><td>270</td><td>147</td></tr>",
                            "<tr><td>268</td><td>4</td><td>-218</td><td>-488</td></tr>",
                            "<tr><td>269</td><td>1</td><td>-2665</td><td>-2665</td></tr>",
                            "<tr><td>269</td><td>2</td><td>-3985</td><td>-1320</td></tr>",
                            "<tr><td>269</td><td>3</td><td>-2470</td><td>1515</td></tr>",
                            "<tr><td>269</td><td>4</td><td>-1864</td><td>606</td></tr>",
                            "<tr><td>270</td><td>1</td><td>1395</td><td>1395</td></tr>",
                            "<tr><td>270</td><td>2</td><td>961</td><td>-434</td></tr>",
                            "<tr><td>270</td><td>3</td><td>599</td><td>-362</td></tr>",
                            "<tr><td>270</td><td>4</td><td>-442</td><td>-1041</td></tr>",
                            "<tr><td>271</td><td>1</td><td>-1586</td><td>-1586</td></tr>",
                            "<tr><td>271</td><td>2</td><td>272</td><td>1858</td></tr>",
                            "<tr><td>271</td><td>3</td><td>-616</td><td>-888</td></tr>",
                            "<tr><td>271</td><td>4</td><td>180</td><td>796</td></tr>",
                            "<tr><td>272</td><td>1</td><td>-228</td><td>-228</td></tr>",
                            "<tr><td>272</td><td>2</td><td>-1673</td><td>-1445</td></tr>",
                            "<tr><td>272</td><td>4</td><td>-1769</td><td>-96</td></tr>",
                            "<tr><td>273</td><td>1</td><td>876</td><td>876</td></tr>",
                            "<tr><td>273</td><td>2</td><td>133</td><td>-743</td></tr>",
                            "<tr><td>273</td><td>3</td><td>-178</td><td>-311</td></tr>",
                            "<tr><td>273</td><td>4</td><td>308</td><td>486</td></tr>",
                            "<tr><td>274</td><td>1</td><td>-780</td><td>-780</td></tr>",
                            "<tr><td>274</td><td>2</td><td>-582</td><td>198</td></tr>",
                            "<tr><td>274</td><td>3</td><td>124</td><td>706</td></tr>",
                            "<tr><td>275</td><td>1</td><td>211</td><td>211</td></tr>",
                            "<tr><td>275</td><td>2</td><td>-1325</td><td>-1536</td></tr>",
                            "<tr><td>275</td><td>3</td><td>-2973</td><td>-1648</td></tr>",
                            "<tr><td>275</td><td>4</td><td>-3169</td><td>-196</td></tr>",
                            "<tr><td>276</td><td>1</td><td>-851</td><td>-851</td></tr>",
                            "<tr><td>276</td><td>2</td><td>-796</td><td>55</td></tr>",
                            "<tr><td>276</td><td>3</td><td>-1944</td><td>-1148</td></tr>",
                            "<tr><td>277</td><td>1</td><td>615</td><td>615</td></tr>",
                            "<tr><td>277</td><td>2</td><td>1411</td><td>796</td></tr>",
                            "<tr><td>277</td><td>3</td><td>1865</td><td>454</td></tr>",
                            "<tr><td>278</td><td>1</td><td>1309</td><td>1309</td></tr>",
                            "<tr><td>278</td><td>2</td><td>1723</td><td>414</td></tr>",
                            "<tr><td>278</td><td>3</td><td>2026</td><td>303</td></tr>",
                            "<tr><td>278</td><td>4</td><td>3554</td><td>1528</td></tr>",
                            "<tr><td>279</td><td>1</td><td>1895</td><td>1895</td></tr>",
                            "<tr><td>279</td><td>2</td><td>3641</td><td>1746</td></tr>",
                            "<tr><td>279</td><td>3</td><td>4183</td><td>542</td></tr>",
                            "<tr><td>279</td><td>4</td><td>4103</td><td>-80</td></tr>",
                            "<tr><td>280</td><td>1</td><td>-87</td><td>-87</td></tr>",
                            "<tr><td>280</td><td>2</td><td>-185</td><td>-98</td></tr>",
                            "<tr><td>280</td><td>3</td><td>-373</td><td>-188</td></tr>",
                            "<tr><td>281</td><td>1</td><td>220</td><td>220</td></tr>",
                            "<tr><td>281</td><td>2</td><td>1055</td><td>835</td></tr>",
                            "<tr><td>281</td><td>3</td><td>2192</td><td>1137</td></tr>",
                            "<tr><td>281</td><td>4</td><td>3004</td><td>812</td></tr>",
                            "<tr><td>282</td><td>1</td><td>74</td><td>74</td></tr>",
                            "<tr><td>282</td><td>2</td><td>-713</td><td>-787</td></tr>",
                            "<tr><td>282</td><td>3</td><td>-1661</td><td>-948</td></tr>",
                            "<tr><td>282</td><td>4</td><td>-1311</td><td>350</td></tr>",
                            "<tr><td>283</td><td>1</td><td>-1201</td><td>-1201</td></tr>",
                            "<tr><td>283</td><td>2</td><td>-2818</td><td>-1617</td></tr>",
                            "<tr><td>283</td><td>3</td><td>-5721</td><td>-2903</td></tr>",
                            "<tr><td>283</td><td>4</td><td>-7145</td><td>-1424</td></tr>",
                            "<tr><td>284</td><td>1</td><td>257</td><td>257</td></tr>",
                            "<tr><td>284</td><td>2</td><td>-2602</td><td>-2859</td></tr>",
                            "<tr><td>284</td><td>3</td><td>-2826</td><td>-224</td></tr>",
                            "<tr><td>284</td><td>4</td><td>-3379</td><td>-553</td></tr>",
                            "<tr><td>285</td><td>1</td><td>360</td><td>360</td></tr>",
                            "<tr><td>285</td><td>2</td><td>1358</td><td>998</td></tr>",
                            "<tr><td>285</td><td>3</td><td>1965</td><td>607</td></tr>",
                            "<tr><td>286</td><td>1</td><td>177</td><td>177</td></tr>",
                            "<tr><td>286</td><td>2</td><td>171</td><td>-6</td></tr>",
                            "<tr><td>287</td><td>1</td><td>658</td><td>658</td></tr>",
                            "<tr><td>287</td><td>2</td><td>829</td><td>171</td></tr>",
                            "<tr><td>287</td><td>3</td><td>886</td><td>57</td></tr>",
                            "<tr><td>287</td><td>4</td><td>-406</td><td>-1292</td></tr>",
                            "<tr><td>288</td><td>1</td><td>778</td><td>778</td></tr>",
                            "<tr><td>288</td><td>2</td><td>-867</td><td>-1645</td></tr>",
                            "<tr><td>288</td><td>3</td><td>-515</td><td>352</td></tr>",
                            "<tr><td>289</td><td>1</td><td>838</td><td>838</td></tr>",
                            "<tr><td>289</td><td>2</td><td>-207</td><td>-1045</td></tr>",
                            "<tr><td>289</td><td>3</td><td>-934</td><td>-727</td></tr>",
                            "<tr><td>289</td><td>4</td><td>-1059</td><td>-125</td></tr>",
                            "<tr><td>290</td><td>1</td><td>785</td><td>785</td></tr>",
                            "<tr><td>290</td><td>2</td><td>1139</td><td>354</td></tr>",
                            "<tr><td>290</td><td>3</td><td>2061</td><td>922</td></tr>",
                            "<tr><td>290</td><td>4</td><td>21</td><td>-2040</td></tr>",
                            "<tr><td>291</td><td>1</td><td>930</td><td>930</td></tr>",
                            "<tr><td>291</td><td>4</td><td>531</td><td>-399</td></tr>",
                            "<tr><td>292</td><td>1</td><td>-3458</td><td>-3458</td></tr>",
                            "<tr><td>292</td><td>2</td><td>-4646</td><td>-1188</td></tr>",
                            "<tr><td>292</td><td>3</td><td>-4760</td><td>-114</td></tr>",
                            "<tr><td>293</td><td>1</td><td>-383</td><td>-383</td></tr>",
                            "<tr><td>293</td><td>2</td><td>-1452</td><td>-1069</td></tr>",
                            "<tr><td>293</td><td>3</td><td>-1770</td><td>-318</td></tr>",
                            "<tr><td>293</td><td>4</td><td>-2500</td><td>-730</td></tr>",
                            "<tr><td>294</td><td>1</td><td>307</td><td>307</td></tr>",
                            "<tr><td>294</td><td>2</td><td>1557</td><td>1250</td></tr>",
                            "<tr><td>294</td><td>3</td><td>707</td><td>-850</td></tr>",
                            "<tr><td>295</td><td>1</td><td>636</td><td>636</td></tr>",
                            "<tr><td>295</td><td>2</td><td>496</td><td>-140</td></tr>",
                            "<tr><td>295</td><td>3</td><td>1430</td><td>934</td></tr>",
                            "<tr><td>295</td><td>4</td><td>-177</td><td>-1607</td></tr>",
                            "<tr><td>296</td><td>1</td><td>191</td><td>191</td></tr>",
                            "<tr><td>296</td><td>2</td><td>1152</td><td>961</td></tr>",
                            "<tr><td>296</td><td>3</td><td>1309</td><td>157</td></tr>",
                            "<tr><td>296</td><td>4</td><td>2220</td><td>911</td></tr>",
                            "<tr><td>297</td><td>1</td><td>550</td><td>550</td></tr>",
                            "<tr><td>297</td><td>2</td><td>585</td><td>35</td></tr>",
                            "<tr><td>297</td><td>3</td><td>1004</td><td>419</td></tr>",
                            "<tr><td>297</td><td>4</td><td>1282</td><td>278</td></tr>",
                            "<tr><td>298</td><td>1</td><td>278</td><td>278</td></tr>",
                            "<tr><td>298</td><td>2</td><td>-580</td><td>-858</td></tr>",
                            "<tr><td>298</td><td>3</td><td>767</td><td>1347</td></tr>",
                            "<tr><td>298</td><td>4</td><td>1489</td><td>722</td></tr>",
                            "<tr><td>299</td><td>1</td><td>961</td><td>961</td></tr>",
                            "<tr><td>299</td><td>2</td><td>1246</td><td>285</td></tr>",
                            "<tr><td>299</td><td>3</td><td>70</td><td>-1176</td></tr>",
                            "<tr><td>300</td><td>1</td><td>672</td><td>672</td></tr>",
                            "<tr><td>300</td><td>2</td><td>-949</td><td>-1621</td></tr>",
                            "<tr><td>300</td><td>3</td><td>-2374</td><td>-1425</td></tr>",
                            "<tr><td>300</td><td>4</td><td>-3179</td><td>-805</td></tr>",
                            "<tr><td>301</td><td>1</td><td>-906</td><td>-906</td></tr>",
                            "<tr><td>301</td><td>2</td><td>-1977</td><td>-1071</td></tr>",
                            "<tr><td>301</td><td>3</td><td>-3636</td><td>-1659</td></tr>",
                            "<tr><td>301</td><td>4</td><td>-3529</td><td>107</td></tr>",
                            "<tr><td>302</td><td>1</td><td>-1499</td><td>-1499</td></tr>",
                            "<tr><td>302</td><td>2</td><td>-2077</td><td>-578</td></tr>",
                            "<tr><td>302</td><td>3</td><td>-2410</td><td>-333</td></tr>",
                            "<tr><td>302</td><td>4</td><td>-1795</td><td>615</td></tr>",
                            "<tr><td>303</td><td>1</td><td>332</td><td>332</td></tr>",
                            "<tr><td>303</td><td>2</td><td>465</td><td>133</td></tr>",
                            "<tr><td>303</td><td>3</td><td>-629</td><td>-1094</td></tr>",
                            "<tr><td>303</td><td>4</td><td>-660</td><td>-31</td></tr>",
                            "<tr><td>304</td><td>1</td><td>152</td><td>152</td></tr>",
                            "<tr><td>304</td><td>2</td><td>-1360</td><td>-1512</td></tr>",
                            "<tr><td>304</td><td>3</td><td>-2420</td><td>-1060</td></tr>",
                            "<tr><td>304</td><td>4</td><td>-2047</td><td>373</td></tr>",
                            "<tr><td>305</td><td>1</td><td>20</td><td>20</td></tr>",
                            "<tr><td>305</td><td>2</td><td>189</td><td>169</td></tr>",
                            "<tr><td>305</td><td>3</td><td>-56</td><td>-245</td></tr>",
                            "<tr><td>306</td><td>1</td><td>402</td><td>402</td></tr>",
                            "<tr><td>306</td><td>3</td><td>0</td><td>-402</td></tr>",
                            "<tr><td>306</td><td>4</td><td>1565</td><td>1565</td></tr>",
                            "<tr><td>307</td><td>1</td><td>-696</td><td>-696</td></tr>",
                            "<tr><td>307</td><td>2</td><td>750</td><td>1446</td></tr>",
                            "<tr><td>307</td><td>3</td><td>525</td><td>-225</td></tr>",
                            "<tr><td>307</td><td>4</td><td>62</td><td>-463</td></tr>",
                            "<tr><td>308</td><td>1</td><td>-561</td><td>-561</td></tr>",
                            "<tr><td>308</td><td>2</td><td>316</td><td>877</td></tr>",
                            "<tr><td>308</td><td>3</td><td>710</td><td>394</td></tr>",
                            "<tr><td>308</td><td>4</td><td>971</td><td>261</td></tr>",
                            "<tr><td>309</td><td>1</td><td>-363</td><td>-363</td></tr>",
                            "<tr><td>309</td><td>2</td><td>-2404</td><td>-2041</td></tr>",
                            "<tr><td>309</td><td>3</td><td>-1813</td><td>591</td></tr>",
                            "<tr><td>309</td><td>4</td><td>-960</td><td>853</td></tr>",
                            "<tr><td>310</td><td>1</td><td>860</td><td>860</td></tr>",
                            "<tr><td>310</td><td>2</td><td>156</td><td>-704</td></tr>",
                            "<tr><td>310</td><td>3</td><td>3066</td><td>2910</td></tr>",
                            "<tr><td>311</td><td>1</td><td>310</td><td>310</td></tr>",
                            "<tr><td>311</td><td>2</td><td>1006</td><td>696</td></tr>",
                            "<tr><td>311</td><td>3</td><td>-955</td><td>-1961</td></tr>",
                            "<tr><td>311</td><td>4</td><td>-1055</td><td>-100</td></tr>",
                            "<tr><td>312</td><td>1</td><td>485</td><td>485</td></tr>",
                            "<tr><td>312</td><td>2</td><td>656</td><td>171</td></tr>",
                            "<tr><td>312</td><td>3</td><td>-1065</td><td>-1721</td></tr>",
                            "<tr><td>312</td><td>4</td><td>-2318</td><td>-1253</td></tr>",
                            "<tr><td>313</td><td>1</td><td>901</td><td>901</td></tr>",
                            "<tr><td>313</td><td>2</td><td>972</td><td>71</td></tr>",
                            "<tr><td>313</td><td>3</td><td>-1311</td><td>-2283</td></tr>",
                            "<tr><td>313</td><td>4</td><td>-34</td><td>1277</td></tr>",
                            "<tr><td>314</td><td>1</td><td>448</td><td>448</td></tr>",
                            "<tr><td>314</td><td>2</td><td>-633</td><td>-1081</td></tr>",
                            "<tr><td>314</td><td>3</td><td>91</td><td>724</td></tr>",
                            "<tr><td>314</td><td>4</td><td>-249</td><td>-340</td></tr>",
                            "<tr><td>315</td><td>1</td><td>1295</td><td>1295</td></tr>",
                            "<tr><td>315</td><td>2</td><td>1349</td><td>54</td></tr>",
                            "<tr><td>315</td><td>3</td><td>2287</td><td>938</td></tr>",
                            "<tr><td>316</td><td>1</td><td>184</td><td>184</td></tr>",
                            "<tr><td>316</td><td>2</td><td>-2483</td><td>-2667</td></tr>",
                            "<tr><td>316</td><td>3</td><td>-3299</td><td>-816</td></tr>",
                            "<tr><td>317</td><td>1</td><td>869</td><td>869</td></tr>",
                            "<tr><td>317</td><td>2</td><td>1232</td><td>363</td></tr>",
                            "<tr><td>317</td><td>4</td><td>995</td><td>-237</td></tr>",
                            "<tr><td>318</td><td>1</td><td>321</td><td>321</td></tr>",
                            "<tr><td>318</td><td>2</td><td>-342</td><td>-663</td></tr>",
                            "<tr><td>318</td><td>3</td><td>-1648</td><td>-1306</td></tr>",
                            "<tr><td>319</td><td>1</td><td>83</td><td>83</td></tr>",
                            "<tr><td>319</td><td>2</td><td>-703</td><td>-786</td></tr>",
                            "<tr><td>319</td><td>3</td><td>-488</td><td>215</td></tr>",
                            "<tr><td>320</td><td>1</td><td>2426</td><td>2426</td></tr>",
                            "<tr><td>320</td><td>2</td><td>1909</td><td>-517</td></tr>",
                            "<tr><td>320</td><td>3</td><td>2239</td><td>330</td></tr>",
                            "<tr><td>320</td><td>4</td><td>2851</td><td>612</td></tr>",
                            "<tr><td>321</td><td>1</td><td>243</td><td>243</td></tr>",
                            "<tr><td>321</td><td>2</td><td>-213</td><td>-456</td></tr>",
                            "<tr><td>321</td><td>4</td><td>572</td><td>785</td></tr>",
                            "<tr><td>322</td><td>1</td><td>1949</td><td>1949</td></tr>",
                            "<tr><td>322</td><td>2</td><td>2471</td><td>522</td></tr>",
                            "<tr><td>322</td><td>3</td><td>1811</td><td>-660</td></tr>",
                            "<tr><td>323</td><td>1</td><td>1323</td><td>1323</td></tr>",
                            "<tr><td>323</td><td>2</td><td>-1880</td><td>-3203</td></tr>",
                            "<tr><td>323</td><td>3</td><td>-4196</td><td>-2316</td></tr>",
                            "<tr><td>323</td><td>4</td><td>-5221</td><td>-1025</td></tr>",
                            "<tr><td>324</td><td>1</td><td>203</td><td>203</td></tr>",
                            "<tr><td>324</td><td>2</td><td>967</td><td>764</td></tr>",
                            "<tr><td>324</td><td>3</td><td>1470</td><td>503</td></tr>",
                            "<tr><td>325</td><td>1</td><td>60</td><td>60</td></tr>",
                            "<tr><td>325</td><td>2</td><td>-1878</td><td>-1938</td></tr>",
                            "<tr><td>325</td><td>3</td><td>-1862</td><td>16</td></tr>",
                            "<tr><td>326</td><td>1</td><td>-211</td><td>-211</td></tr>",
                            "<tr><td>326</td><td>2</td><td>417</td><td>628</td></tr>",
                            "<tr><td>327</td><td>1</td><td>919</td><td>919</td></tr>",
                            "<tr><td>327</td><td>3</td><td>-164</td><td>-1083</td></tr>",
                            "<tr><td>328</td><td>1</td><td>-1232</td><td>-1232</td></tr>",
                            "<tr><td>328</td><td>2</td><td>-3426</td><td>-2194</td></tr>",
                            "<tr><td>328</td><td>3</td><td>-4703</td><td>-1277</td></tr>",
                            "<tr><td>328</td><td>4</td><td>-4559</td><td>144</td></tr>",
                            "<tr><td>329</td><td>1</td><td>831</td><td>831</td></tr>",
                            "<tr><td>329</td><td>2</td><td>2</td><td>-829</td></tr>",
                            "<tr><td>329</td><td>3</td><td>-626</td><td>-628</td></tr>",
                            "<tr><td>329</td><td>4</td><td>736</td><td>1362</td></tr>",
                            "<tr><td>330</td><td>1</td><td>826</td><td>826</td></tr>",
                            "<tr><td>330</td><td>2</td><td>1099</td><td>273</td></tr>",
                            "<tr><td>330</td><td>3</td><td>-666</td><td>-1765</td></tr>",
                            "<tr><td>330</td><td>4</td><td>-1474</td><td>-808</td></tr>",
                            "<tr><td>331</td><td>1</td><td>-54</td><td>-54</td></tr>",
                            "<tr><td>331</td><td>2</td><td>-173</td><td>-119</td></tr>",
                            "<tr><td>331</td><td>3</td><td>-949</td><td>-776</td></tr>",
                            "<tr><td>332</td><td>1</td><td>202</td><td>202</td></tr>",
                            "<tr><td>332</td><td>2</td><td>559</td><td>357</td></tr>",
                            "<tr><td>332</td><td>3</td><td>494</td><td>-65</td></tr>",
                            "<tr><td>332</td><td>4</td><td>670</td><td>176</td></tr>",
                            "<tr><td>333</td><td>1</td><td>-229</td><td>-229</td></tr>",
                            "<tr><td>333</td><td>2</td><td>-127</td><td>102</td></tr>",
                            "<tr><td>333</td><td>3</td><td>567</td><td>694</td></tr>",
                            "<tr><td>333</td><td>4</td><td>920</td><td>353</td></tr>",
                            "<tr><td>334</td><td>1</td><td>1177</td><td>1177</td></tr>",
                            "<tr><td>334</td><td>2</td><td>2724</td><td>1547</td></tr>",
                            "<tr><td>334</td><td>3</td><td>2425</td><td>-299</td></tr>",
                            "<tr><td>334</td><td>4</td><td>1614</td><td>-811</td></tr>",
                            "<tr><td>335</td><td>1</td><td>570</td><td>570</td></tr>",
                            "<tr><td>335</td><td>2</td><td>-354</td><td>-924</td></tr>",
                            "<tr><td>335</td><td>3</td><td>423</td><td>777</td></tr>",
                            "<tr><td>336</td><td>1</td><td>543</td><td>543</td></tr>",
                            "<tr><td>336</td><td>2</td><td>-595</td><td>-1138</td></tr>",
                            "<tr><td>336</td><td>3</td><td>135</td><td>730</td></tr>",
                            "<tr><td>336</td><td>4</td><td>599</td><td>464</td></tr>",
                            "<tr><td>337</td><td>1</td><td>-264</td><td>-264</td></tr>",
                            "<tr><td>337</td><td>2</td><td>170</td><td>434</td></tr>",
                            "<tr><td>337</td><td>3</td><td>1450</td><td>1280</td></tr>",
                            "<tr><td>337</td><td>4</td><td>1314</td><td>-136</td></tr>",
                            "<tr><td>338</td><td>1</td><td>262</td><td>262</td></tr>",
                            "<tr><td>338</td><td>2</td><td>533</td><td>271</td></tr>",
                            "<tr><td>338</td><td>3</td><td>2767</td><td>2234</td></tr>",
                            "<tr><td>338</td><td>4</td><td>1264</td><td>-1503</td></tr>",
                            "<tr><td>339</td><td>1</td><td>-780</td><td>-780</td></tr>",
                            "<tr><td>339</td><td>2</td><td>1088</td><td>1868</td></tr>",
                            "<tr><td>339</td><td>3</td><td>625</td><td>-463</td></tr>",
                            "<tr><td>340</td><td>1</td><td>-1086</td><td>-1086</td></tr>",
                            "<tr><td>340</td><td>2</td><td>276</td><td>1362</td></tr>",
                            "<tr><td>340</td><td>3</td><td>559</td><td>283</td></tr>",
                            "<tr><td>340</td><td>4</td><td>1390</td><td>831</td></tr>",
                            "<tr><td>341</td><td>1</td><td>345</td><td>345</td></tr>",
                            "<tr><td>341</td><td>2</td><td>-873</td><td>-1218</td></tr>",
                            "<tr><td>341</td><td>3</td><td>-2133</td><td>-1260</td></tr>",
                            "<tr><td>341</td><td>4</td><td>-2094</td><td>39</td></tr>",
                            "<tr><td>342</td><td>1</td><td>347</td><td>347</td></tr>",
                            "<tr><td>342</td><td>2</td><td>-285</td><td>-632</td></tr>",
                            "<tr><td>342</td><td>3</td><td>503</td><td>788</td></tr>",
                            "<tr><td>342</td><td>4</td><td>-135</td><td>-638</td></tr>",
                            "<tr><td>343</td><td>1</td><td>1339</td><td>1339</td></tr>",
                            "<tr><td>343</td><td>2</td><td>1653</td><td>314</td></tr>",
                            "<tr><td>343</td><td>3</td><td>1841</td><td>188</td></tr>",
                            "<tr><td>344</td><td>1</td><td>-932</td><td>-932</td></tr>",
                            "<tr><td>344</td><td>2</td><td>505</td><td>1437</td></tr>",
                            "<tr><td>344</td><td>3</td><td>1475</td><td>970</td></tr>",
                            "<tr><td>345</td><td>1</td><td>-100</td><td>-100</td></tr>",
                            "<tr><td>345</td><td>2</td><td>-650</td><td>-550</td></tr>",
                            "<tr><td>345</td><td>3</td><td>-2288</td><td>-1638</td></tr>",
                            "<tr><td>346</td><td>1</td><td>916</td><td>916</td></tr>",
                            "<tr><td>346</td><td>2</td><td>-1052</td><td>-1968</td></tr>",
                            "<tr><td>346</td><td>4</td><td>-3802</td><td>-2750</td></tr>",
                            "<tr><td>347</td><td>1</td><td>394</td><td>394</td></tr>",
                            "<tr><td>347</td><td>2</td><td>-775</td><td>-1169</td></tr>",
                            "<tr><td>347</td><td>3</td><td>-1768</td><td>-993</td></tr>",
                            "<tr><td>348</td><td>1</td><td>-771</td><td>-771</td></tr>",
                            "<tr><td>348</td><td>2</td><td>114</td><td>885</td></tr>",
                            "<tr><td>348</td><td>3</td><td>-155</td><td>-269</td></tr>",
                            "<tr><td>348</td><td>4</td><td>48</td><td>203</td></tr>",
                            "<tr><td>349</td><td>1</td><td>-844</td><td>-844</td></tr>",
                            "<tr><td>349</td><td>2</td><td>-1040</td><td>-196</td></tr>",
                            "<tr><td>349</td><td>3</td><td>1309</td><td>2349</td></tr>",
                            "<tr><td>349</td><td>4</td><td>1964</td><td>655</td></tr>",
                            "<tr><td>350</td><td>1</td><td>2200</td><td>2200</td></tr>",
                            "<tr><td>350</td><td>2</td><td>1080</td><td>-1120</td></tr>",
                            "<tr><td>350</td><td>3</td><td>-174</td><td>-1254</td></tr>",
                            "<tr><td>350</td><td>4</td><td>-1233</td><td>-1059</td></tr>",
                            "<tr><td>351</td><td>1</td><td>90</td><td>90</td></tr>",
                            "<tr><td>351</td><td>2</td><td>-1533</td><td>-1623</td></tr>",
                            "<tr><td>351</td><td>3</td><td>-1860</td><td>-327</td></tr>",
                            "<tr><td>352</td><td>1</td><td>416</td><td>416</td></tr>",
                            "<tr><td>352</td><td>2</td><td>-1612</td><td>-2028</td></tr>",
                            "<tr><td>352</td><td>3</td><td>-1774</td><td>-162</td></tr>",
                            "<tr><td>352</td><td>4</td><td>-2269</td><td>-495</td></tr>",
                            "<tr><td>353</td><td>1</td><td>-555</td><td>-555</td></tr>",
                            "<tr><td>353</td><td>2</td><td>-1819</td><td>-1264</td></tr>",
                            "<tr><td>353</td><td>3</td><td>-516</td><td>1303</td></tr>",
                            "<tr><td>354</td><td>1</td><td>822</td><td>822</td></tr>",
                            "<tr><td>354</td><td>3</td><td>158</td><td>-664</td></tr>",
                            "<tr><td>355</td><td>1</td><td>-245</td><td>-245</td></tr>",
                            "<tr><td>355</td><td>2</td><td>-194</td><td>51</td></tr>",
                            "<tr><td>355</td><td>3</td><td>-1137</td><td>-943</td></tr>",
                            "<tr><td>355</td><td>4</td><td>-852</td><td>285</td></tr>",
                            "<tr><td>356</td><td>1</td><td>-1870</td><td>-1870</td></tr>",
                            "<tr><td>356</td><td>2</td><td>-3929</td><td>-2059</td></tr>",
                            "<tr><td>356</td><td>3</td><td>-6518</td><td>-2589</td></tr>",
                            "<tr><td>356</td><td>4</td><td>-6882</td><td>-364</td></tr>",
                            "<tr><td>357</td><td>1</td><td>780</td><td>780</td></tr>",
                            "<tr><td>357</td><td>2</td><td>878</td><td>98</td></tr>",
                            "<tr><td>357</td><td>3</td><td>496</td><td>-382</td></tr>",
                            "<tr><td>357</td><td>4</td><td>-188</td><td>-684</td></tr>",
                            "<tr><td>358</td><td>1</td><td>-1062</td><td>-1062</td></tr>",
                            "<tr><td>358</td><td>2</td><td>-619</td><td>443</td></tr>",
                            "<tr><td>358</td><td>3</td><td>-883</td><td>-264</td></tr>",
                            "<tr><td>358</td><td>4</td><td>-708</td><td>175</td></tr>",
                            "<tr><td>359</td><td>1</td><td>890</td><td>890</td></tr>",
                            "<tr><td>359</td><td>2</td><td>1284</td><td>394</td></tr>",
                            "<tr><td>359</td><td>3</td><td>3159</td><td>1875</td></tr>",
                            "<tr><td>359</td><td>4</td><td>2878</td><td>-281</td></tr>",
                            "<tr><td>360</td><td>1</td><td>-1306</td><td>-1306</td></tr>",
                            "<tr><td>360</td><td>2</td><td>-427</td><td>879</td></tr>",
                            "<tr><td>360</td><td>3</td><td>-1255</td><td>-828</td></tr>",
                            "<tr><td>360</td><td>4</td><td>-324</td><td>931</td></tr>",
                            "<tr><td>361</td><td>1</td><td>340</td><td>340</td></tr>",
                            "<tr><td>361</td><td>2</td><td>772</td><td>432</td></tr>",
                            "<tr><td>362</td><td>1</td><td>416</td><td>416</td></tr>",
                            "<tr><td>362</td><td>2</td><td>481</td><td>65</td></tr>",
                            "<tr><td>362</td><td>3</td><td>-564</td><td>-1045</td></tr>",
                            "<tr><td>362</td><td>4</td><td>615</td><td>1179</td></tr>",
                            "<tr><td>363</td><td>1</td><td>977</td><td>977</td></tr>",
                            "<tr><td>363</td><td>2</td><td>-618</td><td>-1595</td></tr>",
                            "<tr><td>363</td><td>3</td><td>-3065</td><td>-2447</td></tr>",
                            "<tr><td>363</td><td>4</td><td>-2886</td><td>179</td></tr>",
                            "<tr><td>364</td><td>1</td><td>-57</td><td>-57</td></tr>",
                            "<tr><td>364</td><td>2</td><td>-456</td><td>-399</td></tr>",
                            "<tr><td>364</td><td>3</td><td>1173</td><td>1629</td></tr>",
                            "<tr><td>364</td><td>4</td><td>811</td><td>-362</td></tr>",
                            "<tr><td>365</td><td>1</td><td>-68</td><td>-68</td></tr>",
                            "<tr><td>365</td><td>2</td><td>244</td><td>312</td></tr>",
                            "<tr><td>365</td><td>3</td><td>-75</td><td>-319</td></tr>",
                            "<tr><td>365</td><td>4</td><td>-760</td><td>-685</td></tr>",
                            "<tr><td>366</td><td>1</td><td>-51</td><td>-51</td></tr>",
                            "<tr><td>366</td><td>2</td><td>-93</td><td>-42</td></tr>",
                            "<tr><td>366</td><td>3</td><td>-1305</td><td>-1212</td></tr>",
                            "<tr><td>366</td><td>4</td><td>-1096</td><td>209</td></tr>",
                            "<tr><td>367</td><td>1</td><td>239</td><td>239</td></tr>",
                            "<tr><td>367</td><td>2</td><td>-467</td><td>-706</td></tr>",
                            "<tr><td>367</td><td>3</td><td>-3101</td><td>-2634</td></tr>",
                            "<tr><td>367</td><td>4</td><td>-1697</td><td>1404</td></tr>",
                            "<tr><td>368</td><td>1</td><td>-526</td><td>-526</td></tr>",
                            "<tr><td>368</td><td>2</td><td>-3490</td><td>-2964</td></tr>",
                            "<tr><td>368</td><td>3</td><td>-1476</td><td>2014</td></tr>",
                            "<tr><td>368</td><td>4</td><td>-2860</td><td>-1384</td></tr>",
                            "<tr><td>369</td><td>1</td><td>266</td><td>266</td></tr>",
                            "<tr><td>369</td><td>3</td><td>1679</td><td>1413</td></tr>",
                            "<tr><td>370</td><td>1</td><td>-2295</td><td>-2295</td></tr>",
                            "<tr><td>370</td><td>2</td><td>-1635</td><td>660</td></tr>",
                            "<tr><td>370</td><td>3</td><td>-1311</td><td>324</td></tr>",
                            "<tr><td>370</td><td>4</td><td>-1496</td><td>-185</td></tr>",
                            "<tr><td>371</td><td>1</td><td>-134</td><td>-134</td></tr>",
                            "<tr><td>371</td><td>2</td><td>-154</td><td>-20</td></tr>",
                            "<tr><td>371</td><td>3</td><td>-5</td><td>149</td></tr>",
                            "<tr><td>371</td><td>4</td><td>-1243</td><td>-1238</td></tr>",
                            "<tr><td>372</td><td>1</td><td>2718</td><td>2718</td></tr>",
                            "<tr><td>372</td><td>2</td><td>1241</td><td>-1477</td></tr>",
                            "<tr><td>372</td><td>3</td><td>-1625</td><td>-2866</td></tr>",
                            "<tr><td>373</td><td>1</td><td>493</td><td>493</td></tr>",
                            "<tr><td>373</td><td>2</td><td>277</td><td>-216</td></tr>",
                            "<tr><td>373</td><td>3</td><td>1057</td><td>780</td></tr>",
                            "<tr><td>373</td><td>4</td><td>1451</td><td>394</td></tr>",
                            "<tr><td>374</td><td>1</td><td>-457</td><td>-457</td></tr>",
                            "<tr><td>374</td><td>2</td><td>-1292</td><td>-835</td></tr>",
                            "<tr><td>374</td><td>3</td><td>-846</td><td>446</td></tr>",
                            "<tr><td>375</td><td>1</td><td>647</td><td>647</td></tr>",
                            "<tr><td>375</td><td>2</td><td>328</td><td>-319</td></tr>",
                            "<tr><td>375</td><td>3</td><td>-440</td><td>-768</td></tr>",
                            "<tr><td>375</td><td>4</td><td>-1291</td><td>-851</td></tr>",
                            "<tr><td>376</td><td>1</td><td>1614</td><td>1614</td></tr>",
                            "<tr><td>376</td><td>2</td><td>2515</td><td>901</td></tr>",
                            "<tr><td>376</td><td>3</td><td>3062</td><td>547</td></tr>",
                            "<tr><td>377</td><td>1</td><td>252</td><td>252</td></tr>",
                            "<tr><td>377</td><td>2</td><td>-182</td><td>-434</td></tr>",
                            "<tr><td>377</td><td>4</td><td>-785</td><td>-603</td></tr>",
                            "<tr><td>378</td><td>1</td><td>484</td><td>484</td></tr>",
                            "<tr><td>378</td><td>2</td><td>2424</td><td>1940</td></tr>",
                            "<tr><td>378</td><td>3</td><td>1590</td><td>-834</td></tr>",
                            "<tr><td>379</td><td>1</td><td>-35</td><td>-35</td></tr>",
                            "<tr><td>379</td><td>2</td><td>-268</td><td>-233</td></tr>",
                            "<tr><td>379</td><td>4</td><td>-1206</td><td>-938</td></tr>",
                            "<tr><td>380</td><td>1</td><td>-849</td><td>-849</td></tr>",
                            "<tr><td>380</td><td>2</td><td>-1481</td><td>-632</td></tr>",
                            "<tr><td>380</td><td>3</td><td>-3662</td><td>-2181</td></tr>",
                            "<tr><td>381</td><td>1</td><td>66</td><td>66</td></tr>",
                            "<tr><td>381</td><td>2</td><td>992</td><td>926</td></tr>",
                            "<tr><td>381</td><td>3</td><td>278</td><td>-714</td></tr>",
                            "<tr><td>381</td><td>4</td><td>-597</td><td>-875</td></tr>",
                            "<tr><td>382</td><td>1</td><td>-687</td><td>-687</td></tr>",
                            "<tr><td>382</td><td>2</td><td>-1195</td><td>-508</td></tr>",
                            "<tr><td>382</td><td>3</td><td>-1141</td><td>54</td></tr>",
                            "<tr><td>383</td><td>1</td><td>-36</td><td>-36</td></tr>",
                            "<tr><td>383</td><td>2</td><td>935</td><td>971</td></tr>",
                            "<tr><td>383</td><td>3</td><td>-617</td><td>-1552</td></tr>",
                            "<tr><td>383</td><td>4</td><td>913</td><td>1530</td></tr>",
                            "<tr><td>384</td><td>1</td><td>-10</td><td>-10</td></tr>",
                            "<tr><td>384</td><td>2</td><td>-2486</td><td>-2476</td></tr>",
                            "<tr><td>384</td><td>3</td><td>-2527</td><td>-41</td></tr>",
                            "<tr><td>385</td><td>1</td><td>-1174</td><td>-1174</td></tr>",
                            "<tr><td>385</td><td>3</td><td>-4693</td><td>-3519</td></tr>",
                            "<tr><td>385</td><td>4</td><td>-4861</td><td>-168</td></tr>",
                            "<tr><td>386</td><td>1</td><td>1108</td><td>1108</td></tr>",
                            "<tr><td>386</td><td>2</td><td>759</td><td>-349</td></tr>",
                            "<tr><td>386</td><td>3</td><td>-766</td><td>-1525</td></tr>",
                            "<tr><td>386</td><td>4</td><td>-3837</td><td>-3071</td></tr>",
                            "<tr><td>387</td><td>1</td><td>1069</td><td>1069</td></tr>",
                            "<tr><td>387</td><td>3</td><td>2551</td><td>1482</td></tr>",
                            "<tr><td>387</td><td>4</td><td>2454</td><td>-97</td></tr>",
                            "<tr><td>388</td><td>1</td><td>2243</td><td>2243</td></tr>",
                            "<tr><td>388</td><td>2</td><td>1126</td><td>-1117</td></tr>",
                            "<tr><td>388</td><td>3</td><td>1598</td><td>472</td></tr>",
                            "<tr><td>388</td><td>4</td><td>1376</td><td>-222</td></tr>",
                            "<tr><td>389</td><td>1</td><td>-27</td><td>-27</td></tr>",
                            "<tr><td>389</td><td>2</td><td>490</td><td>517</td></tr>",
                            "<tr><td>389</td><td>3</td><td>1214</td><td>724</td></tr>",
                            "<tr><td>389</td><td>4</td><td>2005</td><td>791</td></tr>",
                            "<tr><td>390</td><td>1</td><td>-705</td><td>-705</td></tr>",
                            "<tr><td>390</td><td>2</td><td>-2038</td><td>-1333</td></tr>",
                            "<tr><td>390</td><td>3</td><td>-1929</td><td>109</td></tr>",
                            "<tr><td>390</td><td>4</td><td>-2801</td><td>-872</td></tr>",
                            "<tr><td>391</td><td>1</td><td>603</td><td>603</td></tr>",
                            "<tr><td>391</td><td>2</td><td>2</td><td>-601</td></tr>",
                            "<tr><td>391</td><td>3</td><td>272</td><td>270</td></tr>",
                            "<tr><td>391</td><td>4</td><td>-90</td><td>-362</td></tr>",
                            "<tr><td>392</td><td>1</td><td>816</td><td>816</td></tr>",
                            "<tr><td>392</td><td>2</td><td>2034</td><td>1218</td></tr>",
                            "<tr><td>392</td><td>3</td><td>1498</td><td>-536</td></tr>",
                            "<tr><td>392</td><td>4</td><td>1253</td><td>-245</td></tr>",
                            "<tr><td>393</td><td>1</td><td>659</td><td>659</td></tr>",
                            "<tr><td>393</td><td>2</td><td>118</td><td>-541</td></tr>",
                            "<tr><td>393</td><td>3</td><td>1500</td><td>1382</td></tr>",
                            "<tr><td>393</td><td>4</td><td>639</td><td>-861</td></tr>",
                            "<tr><td>394</td><td>1</td><td>3268</td><td>3268</td></tr>",
                            "<tr><td>394</td><td>2</td><td>2644</td><td>-624</td></tr>",
                            "<tr><td>394</td><td>3</td><td>1420</td><td>-1224</td></tr>",
                            "<tr><td>395</td><td>1</td><td>-1782</td><td>-1782</td></tr>",
                            "<tr><td>395</td><td>2</td><td>-914</td><td>868</td></tr>",
                            "<tr><td>395</td><td>3</td><td>-903</td><td>11</td></tr>",
                            "<tr><td>395</td><td>4</td><td>-1723</td><td>-820</td></tr>",
                            "<tr><td>396</td><td>1</td><td>-909</td><td>-909</td></tr>",
                            "<tr><td>396</td><td>2</td><td>-550</td><td>359</td></tr>",
                            "<tr><td>396</td><td>3</td><td>-2848</td><td>-2298</td></tr>",
                            "<tr><td>397</td><td>1</td><td>973</td><td>973</td></tr>",
                            "<tr><td>397</td><td>2</td><td>1106</td><td>133</td></tr>",
                            "<tr><td>397</td><td>3</td><td>1709</td><td>603</td></tr>",
                            "<tr><td>398</td><td>1</td><td>-429</td><td>-429</td></tr>",
                            "<tr><td>398</td><td>2</td><td>-3171</td><td>-2742</td></tr>",
                            "<tr><td>398</td><td>3</td><td>-3401</td><td>-230</td></tr>",
                            "<tr><td>399</td><td>1</td><td>593</td><td>593</td></tr>",
                            "<tr><td>399</td><td>2</td><td>-301</td><td>-894</td></tr>",
                            "<tr><td>399</td><td>3</td><td>-1488</td><td>-1187</td></tr>",
                            "<tr><td>399</td><td>4</td><td>-1717</td><td>-229</td></tr>",
                            "<tr><td>400</td><td>1</td><td>155</td><td>155</td></tr>",
                            "<tr><td>400</td><td>2</td><td>-409</td><td>-564</td></tr>",
                            "<tr><td>400</td><td>4</td><td>1338</td><td>1747</td></tr>",
                            "<tr><td>401</td><td>1</td><td>102</td><td>102</td></tr>",
                            "<tr><td>401</td><td>2</td><td>-25</td><td>-127</td></tr>",
                            "<tr><td>401</td><td>3</td><td>83</td><td>108</td></tr>",
                            "<tr><td>402</td><td>1</td><td>1478</td><td>1478</td></tr>",
                            "<tr><td>402</td><td>2</td><td>1599</td><td>121</td></tr>",
                            "<tr><td>402</td><td>3</td><td>796</td><td>-803</td></tr>",
                            "<tr><td>403</td><td>1</td><td>303</td><td>303</td></tr>",
                            "<tr><td>403</td><td>3</td><td>987</td><td>684</td></tr>",
                            "<tr><td>403</td><td>4</td><td>1047</td><td>60</td></tr>",
                            "<tr><td>404</td><td>1</td><td>-245</td><td>-245</td></tr>",
                            "<tr><td>404</td><td>2</td><td>-347</td><td>-102</td></tr>",
                            "<tr><td>404</td><td>3</td><td>-2484</td><td>-2137</td></tr>",
                            "<tr><td>405</td><td>1</td><td>-2897</td><td>-2897</td></tr>",
                            "<tr><td>405</td><td>2</td><td>-4125</td><td>-1228</td></tr>",
                            "<tr><td>405</td><td>3</td><td>-6882</td><td>-2757</td></tr>",
                            "<tr><td>405</td><td>4</td><td>-7070</td><td>-188</td></tr>",
                            "<tr><td>406</td><td>1</td><td>795</td><td>795</td></tr>",
                            "<tr><td>406</td><td>2</td><td>1131</td><td>336</td></tr>",
                            "<tr><td>406</td><td>3</td><td>2597</td><td>1466</td></tr>",
                            "<tr><td>406</td><td>4</td><td>2279</td><td>-318</td></tr>",
                            "<tr><td>407</td><td>1</td><td>7</td><td>7</td></tr>",
                            "<tr><td>407</td><td>2</td><td>46</td><td>39</td></tr>",
                            "<tr><td>407</td><td>3</td><td>-900</td><td>-946</td></tr>",
                            "<tr><td>407</td><td>4</td><td>-3275</td><td>-2375</td></tr>",
                            "<tr><td>408</td><td>1</td><td>-145</td><td>-145</td></tr>",
                            "<tr><td>408</td><td>3</td><td>800</td><td>945</td></tr>",
                            "<tr><td>408</td><td>4</td><td>-132</td><td>-932</td></tr>",
                            "<tr><td>409</td><td>1</td><td>155</td><td>155</td></tr>",
                            "<tr><td>409</td><td>2</td><td>1371</td><td>1216</td></tr>",
                            "<tr><td>409</td><td>3</td><td>2455</td><td>1084</td></tr>",
                            "<tr><td>409</td><td>4</td><td>2623</td><td>168</td></tr>",
                            "<tr><td>410</td><td>1</td><td>1025</td><td>1025</td></tr>",
                            "<tr><td>410</td><td>2</td><td>199</td><td>-826</td></tr>",
                            "<tr><td>410</td><td>3</td><td>-52</td><td>-251</td></tr>",
                            "<tr><td>411</td><td>1</td><td>551</td><td>551</td></tr>",
                            "<tr><td>411</td><td>4</td><td>-981</td><td>-1532</td></tr>",
                            "<tr><td>412</td><td>1</td><td>722</td><td>722</td></tr>",
                            "<tr><td>412</td><td>2</td><td>608</td><td>-114</td></tr>",
                            "<tr><td>413</td><td>1</td><td>642</td><td>642</td></tr>",
                            "<tr><td>413</td><td>2</td><td>1072</td><td>430</td></tr>",
                            "<tr><td>413</td><td>4</td><td>801</td><td>-271</td></tr>",
                            "<tr><td>414</td><td>1</td><td>439</td><td>439</td></tr>",
                            "<tr><td>414</td><td>3</td><td>1918</td><td>1479</td></tr>",
                            "<tr><td>415</td><td>1</td><td>331</td><td>331</td></tr>",
                            "<tr><td>415</td><td>2</td><td>-586</td><td>-917</td></tr>",
                            "<tr><td>415</td><td>3</td><td>-4287</td><td>-3701</td></tr>",
                            "<tr><td>416</td><td>1</td><td>756</td><td>756</td></tr>",
                            "<tr><td>416</td><td>2</td><td>1715</td><td>959</td></tr>",
                            "<tr><td>416</td><td>3</td><td>3324</td><td>1609</td></tr>",
                            "<tr><td>416</td><td>4</td><td>3898</td><td>574</td></tr>",
                            "<tr><td>417</td><td>1</td><td>707</td><td>707</td></tr>",
                            "<tr><td>417</td><td>2</td><td>-1079</td><td>-1786</td></tr>",
                            "<tr><td>417</td><td>3</td><td>-1540</td><td>-461</td></tr>",
                            "<tr><td>417</td><td>4</td><td>-1847</td><td>-307</td></tr>",
                            "<tr><td>418</td><td>1</td><td>-499</td><td>-499</td></tr>",
                            "<tr><td>418</td><td>2</td><td>-996</td><td>-497</td></tr>",
                            "<tr><td>418</td><td>3</td><td>-1624</td><td>-628</td></tr>",
                            "<tr><td>418</td><td>4</td><td>-1828</td><td>-204</td></tr>",
                            "<tr><td>419</td><td>1</td><td>1193</td><td>1193</td></tr>",
                            "<tr><td>419</td><td>2</td><td>123</td><td>-1070</td></tr>",
                            "<tr><td>419</td><td>3</td><td>-1280</td><td>-1403</td></tr>",
                            "<tr><td>420</td><td>1</td><td>-280</td><td>-280</td></tr>",
                            "<tr><td>420</td><td>2</td><td>-2117</td><td>-1837</td></tr>",
                            "<tr><td>420</td><td>3</td><td>-2457</td><td>-340</td></tr>",
                            "<tr><td>420</td><td>4</td><td>-2078</td><td>379</td></tr>",
                            "<tr><td>421</td><td>1</td><td>-741</td><td>-741</td></tr>",
                            "<tr><td>421</td><td>2</td><td>-571</td><td>170</td></tr>",
                            "<tr><td>421</td><td>3</td><td>-413</td><td>158</td></tr>",
                            "<tr><td>421</td><td>4</td><td>312</td><td>725</td></tr>",
                            "<tr><td>422</td><td>1</td><td>356</td><td>356</td></tr>",
                            "<tr><td>422</td><td>2</td><td>-1661</td><td>-2017</td></tr>",
                            "<tr><td>422</td><td>3</td><td>-1046</td><td>615</td></tr>",
                            "<tr><td>422</td><td>4</td><td>-3357</td><td>-2311</td></tr>",
                            "<tr><td>423</td><td>1</td><td>361</td><td>361</td></tr>",
                            "<tr><td>423</td><td>2</td><td>-262</td><td>-623</td></tr>",
                            "<tr><td>423</td><td>3</td><td>1321</td><td>1583</td></tr>",
                            "<tr><td>424</td><td>1</td><td>-595</td><td>-595</td></tr>",
                            "<tr><td>424</td><td>2</td><td>-648</td><td>-53</td></tr>",
                            "<tr><td>424</td><td>3</td><td>-940</td><td>-292</td></tr>",
                            "<tr><td>424</td><td>4</td><td>-314</td><td>626</td></tr>",
                            "<tr><td>425</td><td>1</td><td>63</td><td>63</td></tr>",
                            "<tr><td>425</td><td>2</td><td>-505</td><td>-568</td></tr>",
                            "<tr><td>425</td><td>3</td><td>57</td><td>562</td></tr>",
                            "<tr><td>425</td><td>4</td><td>-721</td><td>-778</td></tr>",
                            "<tr><td>426</td><td>1</td><td>-880</td><td>-880</td></tr>",
                            "<tr><td>426</td><td>2</td><td>-3802</td><td>-2922</td></tr>",
                            "<tr><td>426</td><td>3</td><td>-4352</td><td>-550</td></tr>",
                            "<tr><td>426</td><td>4</td><td>-5352</td><td>-1000</td></tr>",
                            "<tr><td>427</td><td>1</td><td>588</td><td>588</td></tr>",
                            "<tr><td>427</td><td>2</td><td>1305</td><td>717</td></tr>",
                            "<tr><td>427</td><td>3</td><td>676</td><td>-629</td></tr>",
                            "<tr><td>427</td><td>4</td><td>-316</td><td>-992</td></tr>",
                            "<tr><td>428</td><td>1</td><td>280</td><td>280</td></tr>",
                            "<tr><td>428</td><td>2</td><td>687</td><td>407</td></tr>",
                            "<tr><td>428</td><td>3</td><td>1217</td><td>530</td></tr>",
                            "<tr><td>429</td><td>1</td><td>82</td><td>82</td></tr>",
                            "<tr><td>429</td><td>2</td><td>473</td><td>391</td></tr>",
                            "<tr><td>429</td><td>3</td><td>-46</td><td>-519</td></tr>",
                            "<tr><td>429</td><td>4</td><td>-901</td><td>-855</td></tr>",
                            "<tr><td>430</td><td>1</td><td>-8</td><td>-8</td></tr>",
                            "<tr><td>430</td><td>2</td><td>403</td><td>411</td></tr>",
                            "<tr><td>430</td><td>3</td><td>-1326</td><td>-1729</td></tr>",
                            "<tr><td>431</td><td>1</td><td>-400</td><td>-400</td></tr>",
                            "<tr><td>431</td><td>2</td><td>-1139</td><td>-739</td></tr>",
                            "<tr><td>432</td><td>1</td><td>392</td><td>392</td></tr>",
                            "<tr><td>432</td><td>2</td><td>986</td><td>594</td></tr>",
                            "<tr><td>432</td><td>3</td><td>963</td><td>-23</td></tr>",
                            "<tr><td>432</td><td>4</td><td>2435</td><td>1472</td></tr>",
                            "<tr><td>433</td><td>1</td><td>883</td><td>883</td></tr>",
                            "<tr><td>433</td><td>2</td><td>1286</td><td>403</td></tr>",
                            "<tr><td>433</td><td>3</td><td>660</td><td>-626</td></tr>",
                            "<tr><td>434</td><td>1</td><td>1123</td><td>1123</td></tr>",
                            "<tr><td>434</td><td>2</td><td>-117</td><td>-1240</td></tr>",
                            "<tr><td>434</td><td>3</td><td>-2366</td><td>-2249</td></tr>",
                            "<tr><td>434</td><td>4</td><td>-1815</td><td>551</td></tr>",
                            "<tr><td>435</td><td>1</td><td>-1329</td><td>-1329</td></tr>",
                            "<tr><td>435</td><td>2</td><td>-38</td><td>1291</td></tr>",
                            "<tr><td>435</td><td>3</td><td>-1176</td><td>-1138</td></tr>",
                            "<tr><td>436</td><td>1</td><td>917</td><td>917</td></tr>",
                            "<tr><td>436</td><td>2</td><td>886</td><td>-31</td></tr>",
                            "<tr><td>436</td><td>3</td><td>-676</td><td>-1562</td></tr>",
                            "<tr><td>437</td><td>1</td><td>-361</td><td>-361</td></tr>",
                            "<tr><td>437</td><td>2</td><td>-1537</td><td>-1176</td></tr>",
                            "<tr><td>437</td><td>3</td><td>-1318</td><td>219</td></tr>",
                            "<tr><td>437</td><td>4</td><td>-1134</td><td>184</td></tr>",
                            "<tr><td>438</td><td>1</td><td>1317</td><td>1317</td></tr>",
                            "<tr><td>438</td><td>2</td><td>2813</td><td>1496</td></tr>",
                            "<tr><td>438</td><td>3</td><td>1423</td><td>-1390</td></tr>",
                            "<tr><td>439</td><td>1</td><td>430</td><td>430</td></tr>",
                            "<tr><td>439</td><td>3</td><td>-381</td><td>-811</td></tr>",
                            "<tr><td>439</td><td>4</td><td>318</td><td>699</td></tr>",
                            "<tr><td>440</td><td>1</td><td>-123</td><td>-123</td></tr>",
                            "<tr><td>440</td><td>2</td><td>146</td><td>269</td></tr>",
                            "<tr><td>440</td><td>3</td><td>490</td><td>344</td></tr>",
                            "<tr><td>441</td><td>1</td><td>-329</td><td>-329</td></tr>",
                            "<tr><td>441</td><td>2</td><td>745</td><td>1074</td></tr>",
                            "<tr><td>441</td><td>3</td><td>-669</td><td>-1414</td></tr>",
                            "<tr><td>441</td><td>4</td><td>-798</td><td>-129</td></tr>",
                            "<tr><td>442</td><td>1</td><td>142</td><td>142</td></tr>",
                            "<tr><td>442</td><td>2</td><td>-2898</td><td>-3040</td></tr>",
                            "<tr><td>442</td><td>3</td><td>-4520</td><td>-1622</td></tr>",
                            "<tr><td>442</td><td>4</td><td>-5499</td><td>-979</td></tr>",
                            "<tr><td>443</td><td>1</td><td>760</td><td>760</td></tr>",
                            "<tr><td>443</td><td>2</td><td>710</td><td>-50</td></tr>",
                            "<tr><td>443</td><td>3</td><td>-359</td><td>-1069</td></tr>",
                            "<tr><td>443</td><td>4</td><td>-11</td><td>348</td></tr>",
                            "<tr><td>444</td><td>1</td><td>83</td><td>83</td></tr>",
                            "<tr><td>444</td><td>2</td><td>-1178</td><td>-1261</td></tr>",
                            "<tr><td>444</td><td>3</td><td>-499</td><td>679</td></tr>",
                            "<tr><td>444</td><td>4</td><td>-820</td><td>-321</td></tr>",
                            "<tr><td>445</td><td>1</td><td>1364</td><td>1364</td></tr>",
                            "<tr><td>445</td><td>2</td><td>894</td><td>-470</td></tr>",
                            "<tr><td>445</td><td>3</td><td>724</td><td>-170</td></tr>",
                            "<tr><td>445</td><td>4</td><td>312</td><td>-412</td></tr>",
                            "<tr><td>446</td><td>1</td><td>412</td><td>412</td></tr>",
                            "<tr><td>446</td><td>3</td><td>-53</td><td>-465</td></tr>",
                            "<tr><td>446</td><td>4</td><td>405</td><td>458</td></tr>",
                            "<tr><td>447</td><td>1</td><td>1195</td><td>1195</td></tr>",
                            "<tr><td>447</td><td>2</td><td>41</td><td>-1154</td></tr>",
                            "<tr><td>447</td><td>3</td><td>-1290</td><td>-1331</td></tr>",
                            "<tr><td>448</td><td>1</td><td>1360</td><td>1360</td></tr>",
                            "<tr><td>448</td><td>2</td><td>-909</td><td>-2269</td></tr>",
                            "<tr><td>448</td><td>3</td><td>-2042</td><td>-1133</td></tr>",
                            "<tr><td>448</td><td>4</td><td>-2418</td><td>-376</td></tr>",
                            "<tr><td>449</td><td>1</td><td>-3100</td><td>-3100</td></tr>",
                            "<tr><td>449</td><td>2</td><td>-3928</td><td>-828</td></tr>",
                            "<tr><td>449</td><td>3</td><td>-3045</td><td>883</td></tr>",
                            "<tr><td>450</td><td>1</td><td>469</td><td>469</td></tr>",
                            "<tr><td>450</td><td>2</td><td>-159</td><td>-628</td></tr>",
                            "<tr><td>450</td><td>3</td><td>-737</td><td>-578</td></tr>",
                            "<tr><td>450</td><td>4</td><td>-36</td><td>701</td></tr>",
                            "<tr><td>451</td><td>1</td><td>910</td><td>910</td></tr>",
                            "<tr><td>451</td><td>2</td><td>-1313</td><td>-2223</td></tr>",
                            "<tr><td>451</td><td>3</td><td>-645</td><td>668</td></tr>",
                            "<tr><td>451</td><td>4</td><td>-756</td><td>-111</td></tr>",
                            "<tr><td>452</td><td>1</td><td>1360</td><td>1360</td></tr>",
                            "<tr><td>452</td><td>2</td><td>1654</td><td>294</td></tr>",
                            "<tr><td>452</td><td>3</td><td>1613</td><td>-41</td></tr>",
                            "<tr><td>453</td><td>1</td><td>638</td><td>638</td></tr>",
                            "<tr><td>453</td><td>2</td><td>811</td><td>173</td></tr>",
                            "<tr><td>453</td><td>3</td><td>-595</td><td>-1406</td></tr>",
                            "<tr><td>453</td><td>4</td><td>117</td><td>712</td></tr>",
                            "<tr><td>454</td><td>1</td><td>11</td><td>11</td></tr>",
                            "<tr><td>454</td><td>2</td><td>2163</td><td>2152</td></tr>",
                            "<tr><td>454</td><td>3</td><td>2101</td><td>-62</td></tr>",
                            "<tr><td>455</td><td>1</td><td>329</td><td>329</td></tr>",
                            "<tr><td>455</td><td>3</td><td>-231</td><td>-560</td></tr>",
                            "<tr><td>456</td><td>1</td><td>1314</td><td>1314</td></tr>",
                            "<tr><td>456</td><td>2</td><td>744</td><td>-570</td></tr>",
                            "<tr><td>456</td><td>3</td><td>-55</td><td>-799</td></tr>",
                            "<tr><td>456</td><td>4</td><td>12</td><td>67</td></tr>",
                            "<tr><td>457</td><td>1</td><td>195</td><td>195</td></tr>",
                            "<tr><td>457</td><td>2</td><td>-234</td><td>-429</td></tr>",
                            "<tr><td>457</td><td>3</td><td>-714</td><td>-480</td></tr>",
                            "<tr><td>457</td><td>4</td><td>-718</td><td>-4</td></tr>",
                            "<tr><td>458</td><td>1</td><td>715</td><td>715</td></tr>",
                            "<tr><td>458</td><td>2</td><td>-653</td><td>-1368</td></tr>",
                            "<tr><td>459</td><td>1</td><td>246</td><td>246</td></tr>",
                            "<tr><td>459</td><td>2</td><td>-2912</td><td>-3158</td></tr>",
                            "<tr><td>459</td><td>3</td><td>-2834</td><td>78</td></tr>",
                            "<tr><td>460</td><td>1</td><td>80</td><td>80</td></tr>",
                            "<tr><td>460</td><td>2</td><td>-1158</td><td>-1238</td></tr>",
                            "<tr><td>460</td><td>3</td><td>-1175</td><td>-17</td></tr>",
                            "<tr><td>460</td><td>4</td><td>-327</td><td>848</td></tr>",
                            "<tr><td>461</td><td>1</td><td>2267</td><td>2267</td></tr>",
                            "<tr><td>461</td><td>2</td><td>3431</td><td>1164</td></tr>",
                            "<tr><td>461</td><td>3</td><td>3212</td><td>-219</td></tr>",
                            "<tr><td>462</td><td>1</td><td>907</td><td>907</td></tr>",
                            "<tr><td>462</td><td>2</td><td>-10</td><td>-917</td></tr>",
                            "<tr><td>462</td><td>3</td><td>-831</td><td>-821</td></tr>",
                            "<tr><td>462</td><td>4</td><td>-1395</td><td>-564</td></tr>",
                            "<tr><td>463</td><td>1</td><td>1166</td><td>1166</td></tr>",
                            "<tr><td>463</td><td>2</td><td>312</td><td>-854</td></tr>",
                            "<tr><td>463</td><td>3</td><td>673</td><td>361</td></tr>",
                            "<tr><td>463</td><td>4</td><td>280</td><td>-393</td></tr>",
                            "<tr><td>464</td><td>1</td><td>953</td><td>953</td></tr>",
                            "<tr><td>464</td><td>3</td><td>-511</td><td>-1464</td></tr>",
                            "<tr><td>464</td><td>4</td><td>-1494</td><td>-983</td></tr>",
                            "<tr><td>465</td><td>1</td><td>955</td><td>955</td></tr>",
                            "<tr><td>465</td><td>2</td><td>1989</td><td>1034</td></tr>",
                            "<tr><td>465</td><td>3</td><td>1506</td><td>-483</td></tr>",
                            "<tr><td>465</td><td>4</td><td>1350</td><td>-156</td></tr>",
                            "<tr><td>466</td><td>1</td><td>80</td><td>80</td></tr>",
                            "<tr><td>466</td><td>2</td><td>-1979</td><td>-2059</td></tr>",
                            "<tr><td>466</td><td>3</td><td>-2113</td><td>-134</td></tr>",
                            "<tr><td>467</td><td>1</td><td>1994</td><td>1994</td></tr>",
                            "<tr><td>467</td><td>2</td><td>3582</td><td>1588</td></tr>",
                            "<tr><td>467</td><td>3</td><td>2754</td><td>-828</td></tr>",
                            "<tr><td>467</td><td>4</td><td>1190</td><td>-1564</td></tr>",
                            "<tr><td>468</td><td>1</td><td>39</td><td>39</td></tr>",
                            "<tr><td>468</td><td>2</td><td>-155</td><td>-194</td></tr>",
                            "<tr><td>468</td><td>3</td><td>-917</td><td>-762</td></tr>",
                            "<tr><td>469</td><td>1</td><td>386</td><td>386</td></tr>",
                            "<tr><td>469</td><td>2</td><td>2161</td><td>1775</td></tr>",
                            "<tr><td>469</td><td>3</td><td>-802</td><td>-2963</td></tr>",
                            "<tr><td>469</td><td>4</td><td>-1537</td><td>-735</td></tr>",
                            "<tr><td>470</td><td>1</td><td>377</td><td>377</td></tr>",
                            "<tr><td>470</td><td>2</td><td>-311</td><td>-688</td></tr>",
                            "<tr><td>471</td><td>1</td><td>781</td><td>781</td></tr>",
                            "<tr><td>471</td><td>3</td><td>1238</td><td>457</td></tr>",
                            "<tr><td>471</td><td>4</td><td>1887</td><td>649</td></tr>",
                            "<tr><td>472</td><td>1</td><td>811</td><td>811</td></tr>",
                            "<tr><td>472</td><td>2</td><td>-115</td><td>-926</td></tr>",
                            "<tr><td>472</td><td>3</td><td>32</td><td>147</td></tr>",
                            "<tr><td>472</td><td>4</td><td>218</td><td>186</td></tr>",
                            "<tr><td>473</td><td>1</td><td>-183</td><td>-183</td></tr>",
                            "<tr><td>473</td><td>2</td><td>-864</td><td>-681</td></tr>",
                            "<tr><td>473</td><td>3</td><td>-3630</td><td>-2766</td></tr>",
                            "<tr><td>473</td><td>4</td><td>-5772</td><td>-2142</td></tr>",
                            "<tr><td>474</td><td>1</td><td>928</td><td>928</td></tr>",
                            "<tr><td>474</td><td>2</td><td>139</td><td>-789</td></tr>",
                            "<tr><td>474</td><td>3</td><td>-259</td><td>-398</td></tr>",
                            "<tr><td>475</td><td>1</td><td>-673</td><td>-673</td></tr>",
                            "<tr><td>475</td><td>2</td><td>-1966</td><td>-1293</td></tr>",
                            "<tr><td>475</td><td>3</td><td>-5073</td><td>-3107</td></tr>",
                            "<tr><td>476</td><td>1</td><td>-476</td><td>-476</td></tr>",
                            "<tr><td>476</td><td>2</td><td>-2003</td><td>-1527</td></tr>",
                            "<tr><td>476</td><td>3</td><td>-3365</td><td>-1362</td></tr>",
                            "<tr><td>476</td><td>4</td><td>-4972</td><td>-1607</td></tr>",
                            "<tr><td>477</td><td>1</td><td>-3034</td><td>-3034</td></tr>",
                            "<tr><td>477</td><td>2</td><td>-4592</td><td>-1558</td></tr>",
                            "<tr><td>477</td><td>3</td><td>-6538</td><td>-1946</td></tr>",
                            "<tr><td>478</td><td>1</td><td>-712</td><td>-712</td></tr>",
                            "<tr><td>478</td><td>2</td><td>2278</td><td>2990</td></tr>",
                            "<tr><td>478</td><td>3</td><td>2087</td><td>-191</td></tr>",
                            "<tr><td>479</td><td>1</td><td>320</td><td>320</td></tr>",
                            "<tr><td>479</td><td>2</td><td>-327</td><td>-647</td></tr>",
                            "<tr><td>479</td><td>3</td><td>513</td><td>840</td></tr>",
                            "<tr><td>480</td><td>1</td><td>522</td><td>522</td></tr>",
                            "<tr><td>480</td><td>3</td><td>-235</td><td>-757</td></tr>",
                            "<tr><td>480</td><td>4</td><td>-165</td><td>70</td></tr>",
                            "<tr><td>481</td><td>1</td><td>-1396</td><td>-1396</td></tr>",
                            "<tr><td>481</td><td>2</td><td>-2905</td><td>-1509</td></tr>",
                            "<tr><td>481</td><td>3</td><td>-3394</td><td>-489</td></tr>",
                            "<tr><td>482</td><td>1</td><td>386</td><td>386</td></tr>",
                            "<tr><td>482</td><td>2</td><td>-687</td><td>-1073</td></tr>",
                            "<tr><td>482</td><td>3</td><td>-1256</td><td>-569</td></tr>",
                            "<tr><td>483</td><td>1</td><td>2038</td><td>2038</td></tr>",
                            "<tr><td>483</td><td>3</td><td>-189</td><td>-2227</td></tr>",
                            "<tr><td>483</td><td>4</td><td>1330</td><td>1519</td></tr>",
                            "<tr><td>484</td><td>1</td><td>871</td><td>871</td></tr>",
                            "<tr><td>484</td><td>3</td><td>1796</td><td>925</td></tr>",
                            "<tr><td>485</td><td>1</td><td>16</td><td>16</td></tr>",
                            "<tr><td>485</td><td>2</td><td>1507</td><td>1491</td></tr>",
                            "<tr><td>485</td><td>3</td><td>2202</td><td>695</td></tr>",
                            "<tr><td>486</td><td>1</td><td>-1632</td><td>-1632</td></tr>",
                            "<tr><td>486</td><td>2</td><td>-2250</td><td>-618</td></tr>",
                            "<tr><td>486</td><td>3</td><td>-3108</td><td>-858</td></tr>",
                            "<tr><td>487</td><td>1</td><td>-572</td><td>-572</td></tr>",
                            "<tr><td>487</td><td>2</td><td>312</td><td>884</td></tr>",
                            "<tr><td>487</td><td>3</td><td>162</td><td>-150</td></tr>",
                            "<tr><td>487</td><td>4</td><td>-330</td><td>-492</td></tr>",
                            "<tr><td>488</td><td>1</td><td>-243</td><td>-243</td></tr>",
                            "<tr><td>488</td><td>2</td><td>297</td><td>540</td></tr>",
                            "<tr><td>488</td><td>3</td><td>-412</td><td>-709</td></tr>",
                            "<tr><td>488</td><td>4</td><td>-191</td><td>221</td></tr>",
                            "<tr><td>489</td><td>1</td><td>556</td><td>556</td></tr>",
                            "<tr><td>489</td><td>2</td><td>1808</td><td>1252</td></tr>",
                            "<tr><td>489</td><td>3</td><td>3342</td><td>1534</td></tr>",
                            "<tr><td>489</td><td>4</td><td>5338</td><td>1996</td></tr>",
                            "<tr><td>490</td><td>1</td><td>271</td><td>271</td></tr>",
                            "<tr><td>490</td><td>2</td><td>342</td><td>71</td></tr>",
                            "<tr><td>490</td><td>4</td><td>24</td><td>-318</td></tr>",
                            "<tr><td>491</td><td>1</td><td>-3</td><td>-3</td></tr>",
                            "<tr><td>491</td><td>2</td><td>298</td><td>301</td></tr>",
                            "<tr><td>491</td><td>3</td><td>-2319</td><td>-2617</td></tr>",
                            "<tr><td>492</td><td>1</td><td>-738</td><td>-738</td></tr>",
                            "<tr><td>492</td><td>2</td><td>-1399</td><td>-661</td></tr>",
                            "<tr><td>492</td><td>3</td><td>-2133</td><td>-734</td></tr>",
                            "<tr><td>493</td><td>1</td><td>845</td><td>845</td></tr>",
                            "<tr><td>493</td><td>2</td><td>-824</td><td>-1669</td></tr>",
                            "<tr><td>493</td><td>4</td><td>-738</td><td>86</td></tr>",
                            "<tr><td>494</td><td>1</td><td>529</td><td>529</td></tr>",
                            "<tr><td>494</td><td>2</td><td>909</td><td>380</td></tr>",
                            "<tr><td>494</td><td>3</td><td>1447</td><td>538</td></tr>",
                            "<tr><td>495</td><td>1</td><td>-286</td><td>-286</td></tr>",
                            "<tr><td>495</td><td>2</td><td>-1438</td><td>-1152</td></tr>",
                            "<tr><td>495</td><td>3</td><td>-89</td><td>1349</td></tr>",
                            "<tr><td>496</td><td>1</td><td>47</td><td>47</td></tr>",
                            "<tr><td>496</td><td>2</td><td>-3076</td><td>-3123</td></tr>",
                            "<tr><td>496</td><td>3</td><td>-2426</td><td>650</td></tr>",
                            "<tr><td>497</td><td>1</td><td>754</td><td>754</td></tr>",
                            "<tr><td>497</td><td>2</td><td>1003</td><td>249</td></tr>",
                            "<tr><td>497</td><td>3</td><td>1739</td><td>736</td></tr>",
                            "<tr><td>497</td><td>4</td><td>2680</td><td>941</td></tr>",
                            "<tr><td>498</td><td>1</td><td>1360</td><td>1360</td></tr>",
                            "<tr><td>498</td><td>2</td><td>2195</td><td>835</td></tr>",
                            "<tr><td>498</td><td>3</td><td>2989</td><td>794</td></tr>",
                            "<tr><td>498</td><td>4</td><td>3488</td><td>499</td></tr>",
                            "<tr><td>499</td><td>1</td><td>-304</td><td>-304</td></tr>",
                            "<tr><td>499</td><td>2</td><td>1415</td><td>1719</td></tr>",
                            "<tr><td>499</td><td>3</td><td>599</td><td>-816</td></tr>",
                            "<tr><td>500</td><td>1</td><td>1594</td><td>1594</td></tr>",
                            "<tr><td>500</td><td>2</td><td>2981</td><td>1387</td></tr>",
                            "<tr><td>500</td><td>3</td><td>2251</td><td>-730</td></tr>",
                            "</table>"
                        ]
                    }
                }
            ],
            "execution_count": 9
        },
        {
            "cell_type": "markdown",
            "source": [
                "    5. What is the percentage of customers who increase their closing balance by more than 5%?"
            ],
            "metadata": {
                "azdata_cell_guid": "fc008487-40d5-4cd9-948d-be36a72be6eb"
            },
            "attachments": {}
        },
        {
            "cell_type": "code",
            "source": [
                "WITH tbl as (\r\n",
                "    SELECT customer_id, \r\n",
                "            DATEPART(MONTH,txn_date) as month, \r\n",
                "            SUM(CASE WHEN txn_type ='deposit' then txn_amount else 0 end) as deposit,\r\n",
                "            SUM(CASE WHEN txn_type ='purchase' then - txn_amount else 0 end) as purchase ,\r\n",
                "            SUM(CASE WHEN txn_type ='withdrawal' then - txn_amount else 0 end)  as  withdrawal             \r\n",
                "    from customer_transactions\r\n",
                "    GROUP BY customer_id,DATEPART(MONTH,txn_date)\r\n",
                "),\r\n",
                "tbl2 AS (\r\n",
                "    SELECT \r\n",
                "        customer_id,\r\n",
                "        month,\r\n",
                "        (deposit +purchase +withdrawal) as total\r\n",
                "    FROM tbl\r\n",
                "),\r\n",
                "tbl3 AS (\r\n",
                "    SELECT customer_id,\r\n",
                "        month,  \r\n",
                "        SUM(total) OVER (PARTITION BY customer_id ORDER BY customer_id,month) AS balance,\r\n",
                "        total AS change_in_balance \r\n",
                "    FROM tbl2\r\n",
                "),\r\n",
                "tbl4 AS (      \r\n",
                "    SELECT \r\n",
                "        distinct customer_id, \r\n",
                "        first_value(balance) over (partition by customer_id order by customer_id) as start_balance,\r\n",
                "        last_value(balance) over (partition by customer_id order by customer_id) as end_balance\r\n",
                "    FROM tbl3 \r\n",
                "),\r\n",
                "tbl5 AS (\r\n",
                "    SELECT *, \r\n",
                "        ((end_balance - start_balance) * 100 / start_balance) as growing_rate\r\n",
                "    FROM tbl4\r\n",
                "    WHERE ((end_balance - start_balance) * 100 / start_balance) >= 5 AND end_balance > start_balance\r\n",
                ")\r\n",
                "SELECT CAST(COUNT (customer_id) AS FLOAT) * 100 / (SELECT COUNT (DISTINCT customer_id) from customer_transactions) as Percent_Customer\r\n",
                "FROM tbl5"
            ],
            "metadata": {
                "azdata_cell_guid": "5e385de9-2abc-4fc2-85b9-68d3fb179517",
                "language": "sql"
            },
            "outputs": [
                {
                    "output_type": "display_data",
                    "data": {
                        "text/html": "(1 row affected)"
                    },
                    "metadata": {}
                },
                {
                    "output_type": "display_data",
                    "data": {
                        "text/html": "Total execution time: 00:00:00.055"
                    },
                    "metadata": {}
                },
                {
                    "output_type": "execute_result",
                    "metadata": {},
                    "execution_count": 10,
                    "data": {
                        "application/vnd.dataresource+json": {
                            "schema": {
                                "fields": [
                                    {
                                        "name": "Percent_Customer"
                                    }
                                ]
                            },
                            "data": [
                                {
                                    "0": "23.4"
                                }
                            ]
                        },
                        "text/html": [
                            "<table>",
                            "<tr><th>Percent_Customer</th></tr>",
                            "<tr><td>23.4</td></tr>",
                            "</table>"
                        ]
                    }
                }
            ],
            "execution_count": 10
        }
    ]
}