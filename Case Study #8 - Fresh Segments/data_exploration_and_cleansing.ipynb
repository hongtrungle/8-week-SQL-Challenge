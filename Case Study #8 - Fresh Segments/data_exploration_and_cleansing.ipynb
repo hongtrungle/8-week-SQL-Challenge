{
    "metadata": {
        "kernelspec": {
            "name": "SQL",
            "display_name": "SQL",
            "language": "sql"
        },
        "language_info": {
            "name": "sql",
            "version": ""
        }
    },
    "nbformat_minor": 2,
    "nbformat": 4,
    "cells": [
        {
            "cell_type": "markdown",
            "source": [
                "### Data Exploration and Cleansing\r\n",
                "---\r\n",
                "    1. Update the `interest_metrics` table by modifying the `month_year` column to be a date data type with the start of the month"
            ],
            "metadata": {
                "azdata_cell_guid": "5ec6f353-30f7-4d70-b1c4-e1cfcf685bda"
            },
            "attachments": {}
        },
        {
            "cell_type": "code",
            "source": [
                "ALTER TABLE interest_metrics\r\n",
                "ALTER COLUMN month_year VARCHAR(10)\r\n",
                "\r\n",
                "UPDATE interest_metrics\r\n",
                "SET month_year = CONVERT(DATE, '01/' + REPLACE(month_year, '-', '/'), 105)"
            ],
            "metadata": {
                "azdata_cell_guid": "ef7a6a44-f22b-4195-9d90-6b8c6bfe76f7",
                "language": "sql"
            },
            "outputs": [
                {
                    "output_type": "display_data",
                    "data": {
                        "text/html": "(14273 rows affected)"
                    },
                    "metadata": {}
                },
                {
                    "output_type": "display_data",
                    "data": {
                        "text/html": "Total execution time: 00:00:00.164"
                    },
                    "metadata": {}
                }
            ],
            "execution_count": 2
        },
        {
            "cell_type": "markdown",
            "source": [
                "    2. What is count of records in the `interest_metrics` for each `month_year` value sorted in chronological order (earliest to latest) with the null values appearing first?"
            ],
            "metadata": {
                "azdata_cell_guid": "4f64865d-001f-4ed5-8a73-d898c0bf976b"
            },
            "attachments": {}
        },
        {
            "cell_type": "code",
            "source": [
                "SELECT\r\n",
                "    month_year,\r\n",
                "    COUNT(*) as records\r\n",
                "FROM interest_metrics\r\n",
                "GROUP BY month_year\r\n",
                "ORDER BY month_year"
            ],
            "metadata": {
                "azdata_cell_guid": "77462555-ac88-4008-a3ba-091767b0fb6d",
                "language": "sql"
            },
            "outputs": [
                {
                    "output_type": "display_data",
                    "data": {
                        "text/html": "(15 rows affected)"
                    },
                    "metadata": {}
                },
                {
                    "output_type": "display_data",
                    "data": {
                        "text/html": "Total execution time: 00:00:00.040"
                    },
                    "metadata": {}
                },
                {
                    "output_type": "execute_result",
                    "metadata": {},
                    "execution_count": 3,
                    "data": {
                        "application/vnd.dataresource+json": {
                            "schema": {
                                "fields": [
                                    {
                                        "name": "month_year"
                                    },
                                    {
                                        "name": "records"
                                    }
                                ]
                            },
                            "data": [
                                {
                                    "0": "NULL",
                                    "1": "1194"
                                },
                                {
                                    "0": "2018-07-01",
                                    "1": "729"
                                },
                                {
                                    "0": "2018-08-01",
                                    "1": "767"
                                },
                                {
                                    "0": "2018-09-01",
                                    "1": "780"
                                },
                                {
                                    "0": "2018-10-01",
                                    "1": "857"
                                },
                                {
                                    "0": "2018-11-01",
                                    "1": "928"
                                },
                                {
                                    "0": "2018-12-01",
                                    "1": "995"
                                },
                                {
                                    "0": "2019-01-01",
                                    "1": "973"
                                },
                                {
                                    "0": "2019-02-01",
                                    "1": "1121"
                                },
                                {
                                    "0": "2019-03-01",
                                    "1": "1136"
                                },
                                {
                                    "0": "2019-04-01",
                                    "1": "1099"
                                },
                                {
                                    "0": "2019-05-01",
                                    "1": "857"
                                },
                                {
                                    "0": "2019-06-01",
                                    "1": "824"
                                },
                                {
                                    "0": "2019-07-01",
                                    "1": "864"
                                },
                                {
                                    "0": "2019-08-01",
                                    "1": "1149"
                                }
                            ]
                        },
                        "text/html": [
                            "<table>",
                            "<tr><th>month_year</th><th>records</th></tr>",
                            "<tr><td>NULL</td><td>1194</td></tr>",
                            "<tr><td>2018-07-01</td><td>729</td></tr>",
                            "<tr><td>2018-08-01</td><td>767</td></tr>",
                            "<tr><td>2018-09-01</td><td>780</td></tr>",
                            "<tr><td>2018-10-01</td><td>857</td></tr>",
                            "<tr><td>2018-11-01</td><td>928</td></tr>",
                            "<tr><td>2018-12-01</td><td>995</td></tr>",
                            "<tr><td>2019-01-01</td><td>973</td></tr>",
                            "<tr><td>2019-02-01</td><td>1121</td></tr>",
                            "<tr><td>2019-03-01</td><td>1136</td></tr>",
                            "<tr><td>2019-04-01</td><td>1099</td></tr>",
                            "<tr><td>2019-05-01</td><td>857</td></tr>",
                            "<tr><td>2019-06-01</td><td>824</td></tr>",
                            "<tr><td>2019-07-01</td><td>864</td></tr>",
                            "<tr><td>2019-08-01</td><td>1149</td></tr>",
                            "</table>"
                        ]
                    }
                }
            ],
            "execution_count": 3
        },
        {
            "cell_type": "markdown",
            "source": [
                "    3. What do you think we should do with these null values in the `interest_metrics`"
            ],
            "metadata": {
                "azdata_cell_guid": "0c723d3a-0621-4b9e-9752-70dc9ad8b4a2"
            },
            "attachments": {}
        },
        {
            "cell_type": "code",
            "source": [
                "SELECT \r\n",
                "    ROUND(100*CAST(COUNT(*) as float)/(SELECT COUNT(*) FROM interest_metrics),2) AS null_percentage\r\n",
                "FROM interest_metrics\r\n",
                "WHERE month_year is NULL"
            ],
            "metadata": {
                "azdata_cell_guid": "0e3163b6-ba49-435b-9dbd-aa8fa4f6dd3f",
                "language": "sql"
            },
            "outputs": [
                {
                    "output_type": "display_data",
                    "data": {
                        "text/html": "(1 row affected)"
                    },
                    "metadata": {}
                },
                {
                    "output_type": "display_data",
                    "data": {
                        "text/html": "Total execution time: 00:00:00.019"
                    },
                    "metadata": {}
                },
                {
                    "output_type": "execute_result",
                    "metadata": {},
                    "execution_count": 4,
                    "data": {
                        "application/vnd.dataresource+json": {
                            "schema": {
                                "fields": [
                                    {
                                        "name": "null_percentage"
                                    }
                                ]
                            },
                            "data": [
                                {
                                    "0": "8.37"
                                }
                            ]
                        },
                        "text/html": [
                            "<table>",
                            "<tr><th>null_percentage</th></tr>",
                            "<tr><td>8.37</td></tr>",
                            "</table>"
                        ]
                    }
                }
            ],
            "execution_count": 4
        },
        {
            "cell_type": "markdown",
            "source": [
                "For null values in `month_year` column, we might consider dropping them because:\n",
                "\n",
                "- They account for 8.37% of total rows, dropping them would not affect much to the final result.\n",
                "- Dropping null values from month_year column will also drop null values from others column as well."
            ],
            "metadata": {
                "azdata_cell_guid": "35912a43-d804-4b47-96d1-a13769e3ef29"
            },
            "attachments": {}
        },
        {
            "cell_type": "markdown",
            "source": [
                "    4. How many `interest_id` values exist in the `interest_metrics` table but not in the `interest_map` table? What about the other way around?"
            ],
            "metadata": {
                "azdata_cell_guid": "d1f0cdf3-c9c8-411f-a052-da8db24d60ad"
            },
            "attachments": {}
        },
        {
            "cell_type": "markdown",
            "source": [
                "-  `interest_id` values exist in the `interest_metrics` table but not in the `interest_map`"
            ],
            "metadata": {
                "azdata_cell_guid": "6f7a2ae6-2b34-4d2a-a520-53b0c7f89a3a"
            },
            "attachments": {}
        },
        {
            "cell_type": "code",
            "source": [
                "SELECT DISTINCT \r\n",
                "    interest_id\r\n",
                "FROM interest_metrics me \r\n",
                "LEFT JOIN interest_map ma ON ma.id = me.interest_id\r\n",
                "WHERE ma.id is NULL"
            ],
            "metadata": {
                "azdata_cell_guid": "52b270de-29c0-495e-80a1-525cc04d11fb",
                "language": "sql"
            },
            "outputs": [
                {
                    "output_type": "display_data",
                    "data": {
                        "text/html": "(1 row affected)"
                    },
                    "metadata": {}
                },
                {
                    "output_type": "display_data",
                    "data": {
                        "text/html": "Total execution time: 00:00:00.022"
                    },
                    "metadata": {}
                },
                {
                    "output_type": "execute_result",
                    "metadata": {},
                    "execution_count": 5,
                    "data": {
                        "application/vnd.dataresource+json": {
                            "schema": {
                                "fields": [
                                    {
                                        "name": "interest_id"
                                    }
                                ]
                            },
                            "data": [
                                {
                                    "0": "NULL"
                                }
                            ]
                        },
                        "text/html": [
                            "<table>",
                            "<tr><th>interest_id</th></tr>",
                            "<tr><td>NULL</td></tr>",
                            "</table>"
                        ]
                    }
                }
            ],
            "execution_count": 5
        },
        {
            "cell_type": "markdown",
            "source": [
                "-  `interest_id` values exist in the `interest_map` table but not in the `interest_metrics`"
            ],
            "metadata": {
                "azdata_cell_guid": "3b55ae58-37cf-4613-91e3-148ce2efe6e1"
            },
            "attachments": {}
        },
        {
            "cell_type": "code",
            "source": [
                "SELECT DISTINCT \r\n",
                "    id\r\n",
                "FROM interest_metrics me \r\n",
                "RIGHT JOIN interest_map ma ON ma.id = me.interest_id\r\n",
                "WHERE me.interest_id is NULL"
            ],
            "metadata": {
                "azdata_cell_guid": "666a8b9b-5f05-4e4d-afdc-45f552a3db38",
                "language": "sql",
                "tags": []
            },
            "outputs": [
                {
                    "output_type": "display_data",
                    "data": {
                        "text/html": "(7 rows affected)"
                    },
                    "metadata": {}
                },
                {
                    "output_type": "display_data",
                    "data": {
                        "text/html": "Total execution time: 00:00:00.022"
                    },
                    "metadata": {}
                },
                {
                    "output_type": "execute_result",
                    "metadata": {},
                    "execution_count": 6,
                    "data": {
                        "application/vnd.dataresource+json": {
                            "schema": {
                                "fields": [
                                    {
                                        "name": "id"
                                    }
                                ]
                            },
                            "data": [
                                {
                                    "0": "19598"
                                },
                                {
                                    "0": "35964"
                                },
                                {
                                    "0": "40185"
                                },
                                {
                                    "0": "40186"
                                },
                                {
                                    "0": "42010"
                                },
                                {
                                    "0": "42400"
                                },
                                {
                                    "0": "47789"
                                }
                            ]
                        },
                        "text/html": [
                            "<table>",
                            "<tr><th>id</th></tr>",
                            "<tr><td>19598</td></tr>",
                            "<tr><td>35964</td></tr>",
                            "<tr><td>40185</td></tr>",
                            "<tr><td>40186</td></tr>",
                            "<tr><td>42010</td></tr>",
                            "<tr><td>42400</td></tr>",
                            "<tr><td>47789</td></tr>",
                            "</table>"
                        ]
                    }
                }
            ],
            "execution_count": 6
        },
        {
            "cell_type": "markdown",
            "source": [
                "    5. Summarise the id values in the `interest_map` by its total record count in this table"
            ],
            "metadata": {
                "azdata_cell_guid": "e5973de5-37d8-4d41-8968-90deb8b8fd58"
            },
            "attachments": {}
        },
        {
            "cell_type": "code",
            "source": [
                "SELECT\r\n",
                "    COUNT(*) AS records\r\n",
                "FROM interest_map"
            ],
            "metadata": {
                "azdata_cell_guid": "a116b9e6-88b2-4d15-9434-f14acb78aaef",
                "language": "sql"
            },
            "outputs": [
                {
                    "output_type": "display_data",
                    "data": {
                        "text/html": "(1 row affected)"
                    },
                    "metadata": {}
                },
                {
                    "output_type": "display_data",
                    "data": {
                        "text/html": "Total execution time: 00:00:00.006"
                    },
                    "metadata": {}
                },
                {
                    "output_type": "execute_result",
                    "metadata": {},
                    "execution_count": 7,
                    "data": {
                        "application/vnd.dataresource+json": {
                            "schema": {
                                "fields": [
                                    {
                                        "name": "records"
                                    }
                                ]
                            },
                            "data": [
                                {
                                    "0": "1209"
                                }
                            ]
                        },
                        "text/html": [
                            "<table>",
                            "<tr><th>records</th></tr>",
                            "<tr><td>1209</td></tr>",
                            "</table>"
                        ]
                    }
                }
            ],
            "execution_count": 7
        },
        {
            "cell_type": "markdown",
            "source": [
                "    6. What sort of table join should we perform for our analysis and why? Check your logic by checking the rows where `interest_id` = 21246 in your joined output and include all columns from `interest_metrics` and all columns from `interest_map` except from the id column."
            ],
            "metadata": {
                "azdata_cell_guid": "8eb15572-bf7f-4fde-8546-af510f14446d"
            },
            "attachments": {}
        },
        {
            "cell_type": "markdown",
            "source": [
                "- We should use table `interest_metrics` LEFT JOIN with table `interest_map`"
            ],
            "metadata": {
                "azdata_cell_guid": "639597f9-e7e5-433f-9263-e05588dcd105"
            },
            "attachments": {}
        },
        {
            "cell_type": "code",
            "source": [
                "SELECT \r\n",
                "    me.*,\r\n",
                "    ma.interest_name,\r\n",
                "    ma.interest_summary,\r\n",
                "    ma.created_at,\r\n",
                "    ma.last_modified\r\n",
                "FROM interest_metrics me \r\n",
                "LEFT JOIN interest_map ma ON ma.id = me.interest_id\r\n",
                "WHERE interest_id = 21246 "
            ],
            "metadata": {
                "azdata_cell_guid": "b7c85039-b5f7-4b76-b299-0e96c57bc842",
                "language": "sql"
            },
            "outputs": [
                {
                    "output_type": "display_data",
                    "data": {
                        "text/html": "(11 rows affected)"
                    },
                    "metadata": {}
                },
                {
                    "output_type": "display_data",
                    "data": {
                        "text/html": "Total execution time: 00:00:00.042"
                    },
                    "metadata": {}
                },
                {
                    "output_type": "execute_result",
                    "metadata": {},
                    "execution_count": 8,
                    "data": {
                        "application/vnd.dataresource+json": {
                            "schema": {
                                "fields": [
                                    {
                                        "name": "_month"
                                    },
                                    {
                                        "name": "_year"
                                    },
                                    {
                                        "name": "month_year"
                                    },
                                    {
                                        "name": "interest_id"
                                    },
                                    {
                                        "name": "composition"
                                    },
                                    {
                                        "name": "index_value"
                                    },
                                    {
                                        "name": "ranking"
                                    },
                                    {
                                        "name": "percentile_ranking"
                                    },
                                    {
                                        "name": "interest_name"
                                    },
                                    {
                                        "name": "interest_summary"
                                    },
                                    {
                                        "name": "created_at"
                                    },
                                    {
                                        "name": "last_modified"
                                    }
                                ]
                            },
                            "data": [
                                {
                                    "0": "7",
                                    "1": "2018",
                                    "2": "2018-07-01",
                                    "3": "21246",
                                    "4": "2.26",
                                    "5": "0.65",
                                    "6": "722",
                                    "7": "0.96",
                                    "8": "Readers of El Salvadoran Content",
                                    "9": "People reading news from El Salvadoran media sources.",
                                    "10": "2018-06-11 17:50:04.0000000",
                                    "11": "2018-06-11 17:50:04.0000000"
                                },
                                {
                                    "0": "8",
                                    "1": "2018",
                                    "2": "2018-08-01",
                                    "3": "21246",
                                    "4": "2.13",
                                    "5": "0.59",
                                    "6": "765",
                                    "7": "0.26",
                                    "8": "Readers of El Salvadoran Content",
                                    "9": "People reading news from El Salvadoran media sources.",
                                    "10": "2018-06-11 17:50:04.0000000",
                                    "11": "2018-06-11 17:50:04.0000000"
                                },
                                {
                                    "0": "9",
                                    "1": "2018",
                                    "2": "2018-09-01",
                                    "3": "21246",
                                    "4": "2.06",
                                    "5": "0.61",
                                    "6": "774",
                                    "7": "0.77",
                                    "8": "Readers of El Salvadoran Content",
                                    "9": "People reading news from El Salvadoran media sources.",
                                    "10": "2018-06-11 17:50:04.0000000",
                                    "11": "2018-06-11 17:50:04.0000000"
                                },
                                {
                                    "0": "10",
                                    "1": "2018",
                                    "2": "2018-10-01",
                                    "3": "21246",
                                    "4": "1.74",
                                    "5": "0.58",
                                    "6": "855",
                                    "7": "0.23",
                                    "8": "Readers of El Salvadoran Content",
                                    "9": "People reading news from El Salvadoran media sources.",
                                    "10": "2018-06-11 17:50:04.0000000",
                                    "11": "2018-06-11 17:50:04.0000000"
                                },
                                {
                                    "0": "11",
                                    "1": "2018",
                                    "2": "2018-11-01",
                                    "3": "21246",
                                    "4": "2.25",
                                    "5": "0.78",
                                    "6": "908",
                                    "7": "2.16",
                                    "8": "Readers of El Salvadoran Content",
                                    "9": "People reading news from El Salvadoran media sources.",
                                    "10": "2018-06-11 17:50:04.0000000",
                                    "11": "2018-06-11 17:50:04.0000000"
                                },
                                {
                                    "0": "12",
                                    "1": "2018",
                                    "2": "2018-12-01",
                                    "3": "21246",
                                    "4": "1.97",
                                    "5": "0.7",
                                    "6": "983",
                                    "7": "1.21",
                                    "8": "Readers of El Salvadoran Content",
                                    "9": "People reading news from El Salvadoran media sources.",
                                    "10": "2018-06-11 17:50:04.0000000",
                                    "11": "2018-06-11 17:50:04.0000000"
                                },
                                {
                                    "0": "1",
                                    "1": "2019",
                                    "2": "2019-01-01",
                                    "3": "21246",
                                    "4": "2.05",
                                    "5": "0.76",
                                    "6": "954",
                                    "7": "1.95",
                                    "8": "Readers of El Salvadoran Content",
                                    "9": "People reading news from El Salvadoran media sources.",
                                    "10": "2018-06-11 17:50:04.0000000",
                                    "11": "2018-06-11 17:50:04.0000000"
                                },
                                {
                                    "0": "2",
                                    "1": "2019",
                                    "2": "2019-02-01",
                                    "3": "21246",
                                    "4": "1.84",
                                    "5": "0.68",
                                    "6": "1109",
                                    "7": "1.07",
                                    "8": "Readers of El Salvadoran Content",
                                    "9": "People reading news from El Salvadoran media sources.",
                                    "10": "2018-06-11 17:50:04.0000000",
                                    "11": "2018-06-11 17:50:04.0000000"
                                },
                                {
                                    "0": "3",
                                    "1": "2019",
                                    "2": "2019-03-01",
                                    "3": "21246",
                                    "4": "1.75",
                                    "5": "0.67",
                                    "6": "1123",
                                    "7": "1.14",
                                    "8": "Readers of El Salvadoran Content",
                                    "9": "People reading news from El Salvadoran media sources.",
                                    "10": "2018-06-11 17:50:04.0000000",
                                    "11": "2018-06-11 17:50:04.0000000"
                                },
                                {
                                    "0": "4",
                                    "1": "2019",
                                    "2": "2019-04-01",
                                    "3": "21246",
                                    "4": "1.58",
                                    "5": "0.63",
                                    "6": "1092",
                                    "7": "0.64",
                                    "8": "Readers of El Salvadoran Content",
                                    "9": "People reading news from El Salvadoran media sources.",
                                    "10": "2018-06-11 17:50:04.0000000",
                                    "11": "2018-06-11 17:50:04.0000000"
                                },
                                {
                                    "0": "NULL",
                                    "1": "NULL",
                                    "2": "NULL",
                                    "3": "21246",
                                    "4": "1.61",
                                    "5": "0.68",
                                    "6": "1191",
                                    "7": "0.25",
                                    "8": "Readers of El Salvadoran Content",
                                    "9": "People reading news from El Salvadoran media sources.",
                                    "10": "2018-06-11 17:50:04.0000000",
                                    "11": "2018-06-11 17:50:04.0000000"
                                }
                            ]
                        },
                        "text/html": [
                            "<table>",
                            "<tr><th>_month</th><th>_year</th><th>month_year</th><th>interest_id</th><th>composition</th><th>index_value</th><th>ranking</th><th>percentile_ranking</th><th>interest_name</th><th>interest_summary</th><th>created_at</th><th>last_modified</th></tr>",
                            "<tr><td>7</td><td>2018</td><td>2018-07-01</td><td>21246</td><td>2.26</td><td>0.65</td><td>722</td><td>0.96</td><td>Readers of El Salvadoran Content</td><td>People reading news from El Salvadoran media sources.</td><td>2018-06-11 17:50:04.0000000</td><td>2018-06-11 17:50:04.0000000</td></tr>",
                            "<tr><td>8</td><td>2018</td><td>2018-08-01</td><td>21246</td><td>2.13</td><td>0.59</td><td>765</td><td>0.26</td><td>Readers of El Salvadoran Content</td><td>People reading news from El Salvadoran media sources.</td><td>2018-06-11 17:50:04.0000000</td><td>2018-06-11 17:50:04.0000000</td></tr>",
                            "<tr><td>9</td><td>2018</td><td>2018-09-01</td><td>21246</td><td>2.06</td><td>0.61</td><td>774</td><td>0.77</td><td>Readers of El Salvadoran Content</td><td>People reading news from El Salvadoran media sources.</td><td>2018-06-11 17:50:04.0000000</td><td>2018-06-11 17:50:04.0000000</td></tr>",
                            "<tr><td>10</td><td>2018</td><td>2018-10-01</td><td>21246</td><td>1.74</td><td>0.58</td><td>855</td><td>0.23</td><td>Readers of El Salvadoran Content</td><td>People reading news from El Salvadoran media sources.</td><td>2018-06-11 17:50:04.0000000</td><td>2018-06-11 17:50:04.0000000</td></tr>",
                            "<tr><td>11</td><td>2018</td><td>2018-11-01</td><td>21246</td><td>2.25</td><td>0.78</td><td>908</td><td>2.16</td><td>Readers of El Salvadoran Content</td><td>People reading news from El Salvadoran media sources.</td><td>2018-06-11 17:50:04.0000000</td><td>2018-06-11 17:50:04.0000000</td></tr>",
                            "<tr><td>12</td><td>2018</td><td>2018-12-01</td><td>21246</td><td>1.97</td><td>0.7</td><td>983</td><td>1.21</td><td>Readers of El Salvadoran Content</td><td>People reading news from El Salvadoran media sources.</td><td>2018-06-11 17:50:04.0000000</td><td>2018-06-11 17:50:04.0000000</td></tr>",
                            "<tr><td>1</td><td>2019</td><td>2019-01-01</td><td>21246</td><td>2.05</td><td>0.76</td><td>954</td><td>1.95</td><td>Readers of El Salvadoran Content</td><td>People reading news from El Salvadoran media sources.</td><td>2018-06-11 17:50:04.0000000</td><td>2018-06-11 17:50:04.0000000</td></tr>",
                            "<tr><td>2</td><td>2019</td><td>2019-02-01</td><td>21246</td><td>1.84</td><td>0.68</td><td>1109</td><td>1.07</td><td>Readers of El Salvadoran Content</td><td>People reading news from El Salvadoran media sources.</td><td>2018-06-11 17:50:04.0000000</td><td>2018-06-11 17:50:04.0000000</td></tr>",
                            "<tr><td>3</td><td>2019</td><td>2019-03-01</td><td>21246</td><td>1.75</td><td>0.67</td><td>1123</td><td>1.14</td><td>Readers of El Salvadoran Content</td><td>People reading news from El Salvadoran media sources.</td><td>2018-06-11 17:50:04.0000000</td><td>2018-06-11 17:50:04.0000000</td></tr>",
                            "<tr><td>4</td><td>2019</td><td>2019-04-01</td><td>21246</td><td>1.58</td><td>0.63</td><td>1092</td><td>0.64</td><td>Readers of El Salvadoran Content</td><td>People reading news from El Salvadoran media sources.</td><td>2018-06-11 17:50:04.0000000</td><td>2018-06-11 17:50:04.0000000</td></tr>",
                            "<tr><td>NULL</td><td>NULL</td><td>NULL</td><td>21246</td><td>1.61</td><td>0.68</td><td>1191</td><td>0.25</td><td>Readers of El Salvadoran Content</td><td>People reading news from El Salvadoran media sources.</td><td>2018-06-11 17:50:04.0000000</td><td>2018-06-11 17:50:04.0000000</td></tr>",
                            "</table>"
                        ]
                    }
                }
            ],
            "execution_count": 8
        },
        {
            "cell_type": "markdown",
            "source": [
                "    7. Are there any records in your joined table where the `month_year` value is before the `created_at` value from the `interest_map` table? Do you think these values are valid and why?"
            ],
            "metadata": {
                "azdata_cell_guid": "702c27e0-a342-410e-9aac-ee2fd9fe1014"
            },
            "attachments": {}
        },
        {
            "cell_type": "code",
            "source": [
                "SELECT \r\n",
                "    me.*,\r\n",
                "    ma.interest_name,\r\n",
                "    ma.interest_summary,\r\n",
                "    ma.created_at,\r\n",
                "    ma.last_modified\r\n",
                "FROM interest_metrics me \r\n",
                "LEFT JOIN interest_map ma ON ma.id = me.interest_id\r\n",
                "WHERE month_year < created_at"
            ],
            "metadata": {
                "azdata_cell_guid": "b4d76308-b983-441d-875b-b398669dd261",
                "language": "sql"
            },
            "outputs": [
                {
                    "output_type": "display_data",
                    "data": {
                        "text/html": "(188 rows affected)"
                    },
                    "metadata": {}
                },
                {
                    "output_type": "display_data",
                    "data": {
                        "text/html": "Total execution time: 00:00:00.074"
                    },
                    "metadata": {}
                },
                {
                    "output_type": "execute_result",
                    "metadata": {},
                    "execution_count": 9,
                    "data": {
                        "application/vnd.dataresource+json": {
                            "schema": {
                                "fields": [
                                    {
                                        "name": "_month"
                                    },
                                    {
                                        "name": "_year"
                                    },
                                    {
                                        "name": "month_year"
                                    },
                                    {
                                        "name": "interest_id"
                                    },
                                    {
                                        "name": "composition"
                                    },
                                    {
                                        "name": "index_value"
                                    },
                                    {
                                        "name": "ranking"
                                    },
                                    {
                                        "name": "percentile_ranking"
                                    },
                                    {
                                        "name": "interest_name"
                                    },
                                    {
                                        "name": "interest_summary"
                                    },
                                    {
                                        "name": "created_at"
                                    },
                                    {
                                        "name": "last_modified"
                                    }
                                ]
                            },
                            "data": [
                                {
                                    "0": "7",
                                    "1": "2018",
                                    "2": "2018-07-01",
                                    "3": "32701",
                                    "4": "4.23",
                                    "5": "1.41",
                                    "6": "483",
                                    "7": "33.74",
                                    "8": "Womens Equality Advocates",
                                    "9": "People visiting sites advocating for womens equal rights.",
                                    "10": "2018-07-06 14:35:03.0000000",
                                    "11": "2018-07-06 14:35:03.0000000"
                                },
                                {
                                    "0": "7",
                                    "1": "2018",
                                    "2": "2018-07-01",
                                    "3": "32702",
                                    "4": "3.56",
                                    "5": "1.18",
                                    "6": "580",
                                    "7": "20.44",
                                    "8": "Romantics",
                                    "9": "People reading about romance and researching ideas for planning romantic moments.",
                                    "10": "2018-07-06 14:35:04.0000000",
                                    "11": "2018-07-06 14:35:04.0000000"
                                },
                                {
                                    "0": "7",
                                    "1": "2018",
                                    "2": "2018-07-01",
                                    "3": "32703",
                                    "4": "5.53",
                                    "5": "1.8",
                                    "6": "375",
                                    "7": "48.56",
                                    "8": "School Supply Shoppers",
                                    "9": "Consumers shopping for classroom supplies for K-12 students.",
                                    "10": "2018-07-06 14:35:04.0000000",
                                    "11": "2018-07-06 14:35:04.0000000"
                                },
                                {
                                    "0": "7",
                                    "1": "2018",
                                    "2": "2018-07-01",
                                    "3": "32704",
                                    "4": "8.04",
                                    "5": "2.27",
                                    "6": "225",
                                    "7": "69.14",
                                    "8": "Major Airline Customers",
                                    "9": "People visiting sites for major airline brands to plan and view travel itinerary.",
                                    "10": "2018-07-06 14:35:04.0000000",
                                    "11": "2018-07-06 14:35:04.0000000"
                                },
                                {
                                    "0": "7",
                                    "1": "2018",
                                    "2": "2018-07-01",
                                    "3": "32705",
                                    "4": "4.38",
                                    "5": "1.34",
                                    "6": "505",
                                    "7": "30.73",
                                    "8": "Certified Events Professionals",
                                    "9": "Professionals reading industry news and researching products and services for event management.",
                                    "10": "2018-07-06 14:35:04.0000000",
                                    "11": "2018-07-06 14:35:04.0000000"
                                },
                                {
                                    "0": "7",
                                    "1": "2018",
                                    "2": "2018-07-01",
                                    "3": "33191",
                                    "4": "3.99",
                                    "5": "2.11",
                                    "6": "283",
                                    "7": "61.18",
                                    "8": "Online Shoppers",
                                    "9": "People who spend money online",
                                    "10": "2018-07-17 10:40:03.0000000",
                                    "11": "2018-07-17 10:46:58.0000000"
                                },
                                {
                                    "0": "8",
                                    "1": "2018",
                                    "2": "2018-08-01",
                                    "3": "33957",
                                    "4": "2.01",
                                    "5": "0.84",
                                    "6": "704",
                                    "7": "8.21",
                                    "8": "Call of Duty Enthusiasts",
                                    "9": "People reading news and product releases for Call of Duty games and merchandise.",
                                    "10": "2018-08-02 16:05:03.0000000",
                                    "11": "2018-08-02 16:05:03.0000000"
                                },
                                {
                                    "0": "8",
                                    "1": "2018",
                                    "2": "2018-08-01",
                                    "3": "33958",
                                    "4": "1.88",
                                    "5": "0.73",
                                    "6": "740",
                                    "7": "3.52",
                                    "8": "Astrology Enthusiasts",
                                    "9": "People reading daily horoscopes and astrology content.",
                                    "10": "2018-08-02 16:05:03.0000000",
                                    "11": "2018-08-02 16:05:03.0000000"
                                },
                                {
                                    "0": "8",
                                    "1": "2018",
                                    "2": "2018-08-01",
                                    "3": "33959",
                                    "4": "2.54",
                                    "5": "1.86",
                                    "6": "67",
                                    "7": "91.26",
                                    "8": "Boston Bruins Fans",
                                    "9": "People reading news about the Boston Bruins and watching games. These consumers are more likely to spend money on team gear.",
                                    "10": "2018-08-02 16:05:03.0000000",
                                    "11": "2018-08-02 16:05:03.0000000"
                                },
                                {
                                    "0": "8",
                                    "1": "2018",
                                    "2": "2018-08-01",
                                    "3": "33960",
                                    "4": "2.68",
                                    "5": "1.67",
                                    "6": "118",
                                    "7": "84.62",
                                    "8": "Chicago Blackhawks Fans",
                                    "9": "People reading news about the Chicago Blackhawks and watching games. These consumers are more likely to spend money on team gear.",
                                    "10": "2018-08-02 16:05:03.0000000",
                                    "11": "2018-08-02 16:05:03.0000000"
                                },
                                {
                                    "0": "8",
                                    "1": "2018",
                                    "2": "2018-08-01",
                                    "3": "33961",
                                    "4": "2.3",
                                    "5": "1.49",
                                    "6": "205",
                                    "7": "73.27",
                                    "8": "Detroit Red Wings Fans",
                                    "9": "People reading news about the Detroit Red Wings and watching games. These consumers are more likely to spend money on team gear.",
                                    "10": "2018-08-02 16:05:04.0000000",
                                    "11": "2018-08-02 16:05:04.0000000"
                                },
                                {
                                    "0": "8",
                                    "1": "2018",
                                    "2": "2018-08-01",
                                    "3": "33962",
                                    "4": "1.7",
                                    "5": "1.06",
                                    "6": "578",
                                    "7": "24.64",
                                    "8": "Chicago Bears Fans",
                                    "9": "People reading news about the Chicago Bears and watching games. These consumers are more likely to spend money on team gear.",
                                    "10": "2018-08-02 16:05:04.0000000",
                                    "11": "2018-08-02 16:05:04.0000000"
                                },
                                {
                                    "0": "8",
                                    "1": "2018",
                                    "2": "2018-08-01",
                                    "3": "33963",
                                    "4": "2.38",
                                    "5": "1.52",
                                    "6": "182",
                                    "7": "76.27",
                                    "8": "Denver Broncos Fans",
                                    "9": "People reading news about the Denver Broncos and watching games. These consumers are more likely to spend money on team gear.",
                                    "10": "2018-08-02 16:05:04.0000000",
                                    "11": "2018-08-02 16:05:04.0000000"
                                },
                                {
                                    "0": "8",
                                    "1": "2018",
                                    "2": "2018-08-01",
                                    "3": "33964",
                                    "4": "2.35",
                                    "5": "1.3",
                                    "6": "360",
                                    "7": "53.06",
                                    "8": "Milwaukee Bucks Fans",
                                    "9": "People reading news about the Milwaukee Bucks and watching games. These consumers are more likely to spend money on team gear.",
                                    "10": "2018-08-02 16:05:04.0000000",
                                    "11": "2018-08-02 16:05:04.0000000"
                                },
                                {
                                    "0": "8",
                                    "1": "2018",
                                    "2": "2018-08-01",
                                    "3": "33965",
                                    "4": "2.23",
                                    "5": "1.15",
                                    "6": "489",
                                    "7": "36.25",
                                    "8": "Minnesota Timberwolves Fans",
                                    "9": "People reading news about the Minnesota Timberwolves and watching games. These consumers are more likely to spend money on team gear.",
                                    "10": "2018-08-02 16:05:04.0000000",
                                    "11": "2018-08-02 16:05:04.0000000"
                                },
                                {
                                    "0": "8",
                                    "1": "2018",
                                    "2": "2018-08-01",
                                    "3": "33966",
                                    "4": "2.39",
                                    "5": "1.3",
                                    "6": "360",
                                    "7": "53.06",
                                    "8": "New York Knicks Fans",
                                    "9": "People reading news about the New York Knicks and watching games. These consumers are more likely to spend money on team gear.",
                                    "10": "2018-08-02 16:05:04.0000000",
                                    "11": "2018-08-02 16:05:04.0000000"
                                },
                                {
                                    "0": "8",
                                    "1": "2018",
                                    "2": "2018-08-01",
                                    "3": "33967",
                                    "4": "2.85",
                                    "5": "1.63",
                                    "6": "131",
                                    "7": "82.92",
                                    "8": "New York Rangers Fans",
                                    "9": "People reading news about the New York Rangers and watching games. These consumers are more likely to spend money on team gear.",
                                    "10": "2018-08-02 16:05:04.0000000",
                                    "11": "2018-08-02 16:05:04.0000000"
                                },
                                {
                                    "0": "8",
                                    "1": "2018",
                                    "2": "2018-08-01",
                                    "3": "33968",
                                    "4": "2.15",
                                    "5": "1.12",
                                    "6": "517",
                                    "7": "32.59",
                                    "8": "Oklahoma City Thunder Fans",
                                    "9": "People reading news about the Oklahoma City Thunder and watching games. These consumers are more likely to spend money on team gear.",
                                    "10": "2018-08-02 16:05:04.0000000",
                                    "11": "2018-08-02 16:05:04.0000000"
                                },
                                {
                                    "0": "8",
                                    "1": "2018",
                                    "2": "2018-08-01",
                                    "3": "33969",
                                    "4": "2.59",
                                    "5": "1.52",
                                    "6": "182",
                                    "7": "76.27",
                                    "8": "Pittsburgh Penguins Fans",
                                    "9": "People reading news about the Pittsburgh Penguins and watching games. These consumers are more likely to spend money on team gear.",
                                    "10": "2018-08-02 16:05:04.0000000",
                                    "11": "2018-08-02 16:05:04.0000000"
                                },
                                {
                                    "0": "8",
                                    "1": "2018",
                                    "2": "2018-08-01",
                                    "3": "33970",
                                    "4": "2.38",
                                    "5": "1.34",
                                    "6": "313",
                                    "7": "59.19",
                                    "8": "San Antonio Spurs Fans",
                                    "9": "People reading news about the San Antonio Spurs and watching games. These consumers are more likely to spend money on team gear.",
                                    "10": "2018-08-02 16:05:04.0000000",
                                    "11": "2018-08-02 16:05:04.0000000"
                                },
                                {
                                    "0": "8",
                                    "1": "2018",
                                    "2": "2018-08-01",
                                    "3": "33971",
                                    "4": "4.92",
                                    "5": "1.81",
                                    "6": "74",
                                    "7": "90.35",
                                    "8": "Sun Protection Shoppers",
                                    "9": "Consumers comparing brands and shopping for sun protection products.",
                                    "10": "2018-08-02 16:05:05.0000000",
                                    "11": "2018-08-02 16:05:05.0000000"
                                },
                                {
                                    "0": "8",
                                    "1": "2018",
                                    "2": "2018-08-01",
                                    "3": "33972",
                                    "4": "2.1",
                                    "5": "1.21",
                                    "6": "438",
                                    "7": "42.89",
                                    "8": "Toronto Raptors Fans",
                                    "9": "People reading news about the Toronto Raptors and watching games. These consumers are more likely to spend money on team gear.",
                                    "10": "2018-08-02 16:05:05.0000000",
                                    "11": "2018-08-02 16:05:05.0000000"
                                },
                                {
                                    "0": "8",
                                    "1": "2018",
                                    "2": "2018-08-01",
                                    "3": "34077",
                                    "4": "4.52",
                                    "5": "1.5",
                                    "6": "199",
                                    "7": "74.05",
                                    "8": "Candy Shoppers",
                                    "9": "Consumers researching candy companies and purchasing candy online.",
                                    "10": "2018-08-07 17:10:03.0000000",
                                    "11": "2018-08-07 17:10:03.0000000"
                                },
                                {
                                    "0": "8",
                                    "1": "2018",
                                    "2": "2018-08-01",
                                    "3": "34078",
                                    "4": "3.67",
                                    "5": "1.24",
                                    "6": "413",
                                    "7": "46.15",
                                    "8": "Cookie Eaters",
                                    "9": "Consumers researching cookie companies and purchasing cookies online.",
                                    "10": "2018-08-07 17:10:03.0000000",
                                    "11": "2018-08-07 17:10:03.0000000"
                                },
                                {
                                    "0": "8",
                                    "1": "2018",
                                    "2": "2018-08-01",
                                    "3": "34079",
                                    "4": "2.2",
                                    "5": "1.28",
                                    "6": "378",
                                    "7": "50.72",
                                    "8": "Detroit Lions Fans",
                                    "9": "People reading news about the Detroit Lions and watching games. These consumers are more likely to spend money on team gear.",
                                    "10": "2018-08-07 17:10:03.0000000",
                                    "11": "2018-08-07 17:10:03.0000000"
                                },
                                {
                                    "0": "8",
                                    "1": "2018",
                                    "2": "2018-08-01",
                                    "3": "34081",
                                    "4": "1.73",
                                    "5": "1.07",
                                    "6": "565",
                                    "7": "26.34",
                                    "8": "Miami Dolphins Fans",
                                    "9": "People reading news about the Miami Dolphins and watching games. These consumers are more likely to spend money on team gear.",
                                    "10": "2018-08-07 17:10:03.0000000",
                                    "11": "2018-08-07 17:10:03.0000000"
                                },
                                {
                                    "0": "8",
                                    "1": "2018",
                                    "2": "2018-08-01",
                                    "3": "34082",
                                    "4": "3.45",
                                    "5": "1.7",
                                    "6": "107",
                                    "7": "86.05",
                                    "8": "New England Patriots Fans",
                                    "9": "People reading news about the New England Patriots and watching games. These consumers are more likely to spend money on team gear.",
                                    "10": "2018-08-07 17:10:04.0000000",
                                    "11": "2018-08-07 17:10:04.0000000"
                                },
                                {
                                    "0": "8",
                                    "1": "2018",
                                    "2": "2018-08-01",
                                    "3": "34083",
                                    "4": "2.12",
                                    "5": "1.29",
                                    "6": "371",
                                    "7": "51.63",
                                    "8": "New York Giants Fans",
                                    "9": "People reading news about the New York Giants and watching games. These consumers are more likely to spend money on team gear.",
                                    "10": "2018-08-07 17:10:04.0000000",
                                    "11": "2018-08-07 17:10:04.0000000"
                                },
                                {
                                    "0": "8",
                                    "1": "2018",
                                    "2": "2018-08-01",
                                    "3": "34084",
                                    "4": "2.3",
                                    "5": "1.46",
                                    "6": "228",
                                    "7": "70.27",
                                    "8": "New York Jets Fans",
                                    "9": "People reading news about the New York Jets and watching games. These consumers are more likely to spend money on team gear.",
                                    "10": "2018-08-07 17:10:04.0000000",
                                    "11": "2018-08-07 17:10:04.0000000"
                                },
                                {
                                    "0": "8",
                                    "1": "2018",
                                    "2": "2018-08-01",
                                    "3": "34085",
                                    "4": "1.96",
                                    "5": "1.14",
                                    "6": "500",
                                    "7": "34.81",
                                    "8": "Oakland Raiders Fans",
                                    "9": "People reading news about the Oakland Raiders and watching games. These consumers are more likely to spend money on team gear.",
                                    "10": "2018-08-07 17:10:04.0000000",
                                    "11": "2018-08-07 17:10:04.0000000"
                                },
                                {
                                    "0": "8",
                                    "1": "2018",
                                    "2": "2018-08-01",
                                    "3": "34086",
                                    "4": "2.71",
                                    "5": "1.41",
                                    "6": "260",
                                    "7": "66.1",
                                    "8": "Pittsburgh Steelers Fans",
                                    "9": "People reading news about the Pittsburgh Steelers and watching games. These consumers are more likely to spend money on team gear.",
                                    "10": "2018-08-07 17:10:04.0000000",
                                    "11": "2018-08-07 17:10:04.0000000"
                                },
                                {
                                    "0": "8",
                                    "1": "2018",
                                    "2": "2018-08-01",
                                    "3": "34087",
                                    "4": "2.01",
                                    "5": "1.24",
                                    "6": "413",
                                    "7": "46.15",
                                    "8": "San Francisco 49ers Fans",
                                    "9": "People reading news about the San Francisco 49ers and watching games. These consumers are more likely to spend money on team gear.",
                                    "10": "2018-08-07 17:10:04.0000000",
                                    "11": "2018-08-07 17:10:04.0000000"
                                },
                                {
                                    "0": "8",
                                    "1": "2018",
                                    "2": "2018-08-01",
                                    "3": "34088",
                                    "4": "3.5",
                                    "5": "1.41",
                                    "6": "260",
                                    "7": "66.1",
                                    "8": "Soda Drinkers",
                                    "9": "Consumers researching soda companies and purchasing soda online.",
                                    "10": "2018-08-07 17:10:04.0000000",
                                    "11": "2018-08-07 17:10:04.0000000"
                                },
                                {
                                    "0": "8",
                                    "1": "2018",
                                    "2": "2018-08-01",
                                    "3": "34276",
                                    "4": "2.86",
                                    "5": "1.1",
                                    "6": "541",
                                    "7": "29.47",
                                    "8": "Romance Movie and TV enthusiasts",
                                    "9": "Consumers researching popular romance movies and TV shows.",
                                    "10": "2018-08-13 13:35:02.0000000",
                                    "11": "2018-08-13 13:35:02.0000000"
                                },
                                {
                                    "0": "8",
                                    "1": "2018",
                                    "2": "2018-08-01",
                                    "3": "34459",
                                    "4": "3.32",
                                    "5": "1.48",
                                    "6": "216",
                                    "7": "71.84",
                                    "8": "Coffee Bean Shoppers",
                                    "9": "Consumers researching coffee brands and purchasing coffee beans.",
                                    "10": "2018-08-15 18:00:03.0000000",
                                    "11": "2018-08-15 18:00:03.0000000"
                                },
                                {
                                    "0": "8",
                                    "1": "2018",
                                    "2": "2018-08-01",
                                    "3": "34460",
                                    "4": "2.55",
                                    "5": "1.13",
                                    "6": "509",
                                    "7": "33.64",
                                    "8": "Ice Cream Shoppers",
                                    "9": "Consumers researching ice cream brands and purchasing ice cream products.",
                                    "10": "2018-08-15 18:00:03.0000000",
                                    "11": "2018-08-15 18:00:03.0000000"
                                },
                                {
                                    "0": "8",
                                    "1": "2018",
                                    "2": "2018-08-01",
                                    "3": "34461",
                                    "4": "3.31",
                                    "5": "1.53",
                                    "6": "176",
                                    "7": "77.05",
                                    "8": "Jazz Music Fans",
                                    "9": "People reading about jazz music and musicians.",
                                    "10": "2018-08-15 18:00:03.0000000",
                                    "11": "2018-08-15 18:00:03.0000000"
                                },
                                {
                                    "0": "8",
                                    "1": "2018",
                                    "2": "2018-08-01",
                                    "3": "34462",
                                    "4": "2.73",
                                    "5": "1.73",
                                    "6": "97",
                                    "7": "87.35",
                                    "8": "Baltimore Orioles Fans",
                                    "9": "People reading news about the Baltimore Orioles and watching games. These consumers are more likely to spend money on team gear.",
                                    "10": "2018-08-15 18:00:03.0000000",
                                    "11": "2018-08-15 18:00:03.0000000"
                                },
                                {
                                    "0": "8",
                                    "1": "2018",
                                    "2": "2018-08-01",
                                    "3": "34463",
                                    "4": "3.06",
                                    "5": "2.1",
                                    "6": "36",
                                    "7": "95.31",
                                    "8": "Boston Red Sox Fans",
                                    "9": "People reading news about the Boston Red Sox and watching games. These consumers are more likely to spend money on team gear.",
                                    "10": "2018-08-15 18:00:04.0000000",
                                    "11": "2018-08-15 18:00:04.0000000"
                                },
                                {
                                    "0": "8",
                                    "1": "2018",
                                    "2": "2018-08-01",
                                    "3": "34464",
                                    "4": "3",
                                    "5": "1.91",
                                    "6": "57",
                                    "7": "92.57",
                                    "8": "New York Yankees Fans",
                                    "9": "People reading news about the New York Yankees and watching games. These consumers are more likely to spend money on team gear.",
                                    "10": "2018-08-15 18:00:04.0000000",
                                    "11": "2018-08-15 18:00:04.0000000"
                                },
                                {
                                    "0": "8",
                                    "1": "2018",
                                    "2": "2018-08-01",
                                    "3": "34465",
                                    "4": "3.34",
                                    "5": "2.34",
                                    "6": "12",
                                    "7": "98.44",
                                    "8": "Toronto Blue Jays Fans",
                                    "9": "People reading news about the Toronto Blue Jays and watching games. These consumers are more likely to spend money on team gear.",
                                    "10": "2018-08-15 18:00:04.0000000",
                                    "11": "2018-08-15 18:00:04.0000000"
                                },
                                {
                                    "0": "8",
                                    "1": "2018",
                                    "2": "2018-08-01",
                                    "3": "34466",
                                    "4": "2.41",
                                    "5": "1.52",
                                    "6": "182",
                                    "7": "76.27",
                                    "8": "Detroit Tigers Fans",
                                    "9": "People reading news about the Detroit Tigers and watching games. These consumers are more likely to spend money on team gear.",
                                    "10": "2018-08-15 18:00:04.0000000",
                                    "11": "2018-08-15 18:00:04.0000000"
                                },
                                {
                                    "0": "8",
                                    "1": "2018",
                                    "2": "2018-08-01",
                                    "3": "34467",
                                    "4": "3.39",
                                    "5": "1.32",
                                    "6": "336",
                                    "7": "56.19",
                                    "8": "Little Rock Trip Planners",
                                    "9": "People researching attractions and accommodations in Little Rock, Arkansas. These consumers are more likely to spend money on flights, hotels, and local attractions.",
                                    "10": "2018-08-15 18:00:04.0000000",
                                    "11": "2018-08-15 18:00:04.0000000"
                                },
                                {
                                    "0": "8",
                                    "1": "2018",
                                    "2": "2018-08-01",
                                    "3": "34468",
                                    "4": "3.49",
                                    "5": "1.36",
                                    "6": "294",
                                    "7": "61.67",
                                    "8": "Hard Rock Hotel & Casino Trip Planners",
                                    "9": "Consumers comparing and booking accommodations at Hard Rock Hotels and Casinos.",
                                    "10": "2018-08-15 18:00:04.0000000",
                                    "11": "2018-08-15 18:00:04.0000000"
                                },
                                {
                                    "0": "8",
                                    "1": "2018",
                                    "2": "2018-08-01",
                                    "3": "34469",
                                    "4": "4.54",
                                    "5": "1.84",
                                    "6": "68",
                                    "7": "91.13",
                                    "8": "Jazz Festival Enthusiasts",
                                    "9": "People researching and planning to attend jazz music festivals.",
                                    "10": "2018-08-15 18:00:04.0000000",
                                    "11": "2018-08-15 18:00:04.0000000"
                                },
                                {
                                    "0": "8",
                                    "1": "2018",
                                    "2": "2018-08-01",
                                    "3": "34470",
                                    "4": "2.4",
                                    "5": "0.92",
                                    "6": "675",
                                    "7": "11.99",
                                    "8": "Drive-In Theater Enthusiasts",
                                    "9": "People researching the history of drive-in theaters and buying movie tickets.",
                                    "10": "2018-08-15 18:00:04.0000000",
                                    "11": "2018-08-15 18:00:04.0000000"
                                },
                                {
                                    "0": "8",
                                    "1": "2018",
                                    "2": "2018-08-01",
                                    "3": "34471",
                                    "4": "2.59",
                                    "5": "0.95",
                                    "6": "657",
                                    "7": "14.34",
                                    "8": "Cabin Rental Researchers",
                                    "9": "People researching and booking cabin rentals accommodations.",
                                    "10": "2018-08-15 18:00:04.0000000",
                                    "11": "2018-08-15 18:00:04.0000000"
                                },
                                {
                                    "0": "8",
                                    "1": "2018",
                                    "2": "2018-08-01",
                                    "3": "34574",
                                    "4": "2.99",
                                    "5": "1.69",
                                    "6": "111",
                                    "7": "85.53",
                                    "8": "F1 Racing Enthusiasts",
                                    "9": "People visiting websites and reading articles about F1 racing.",
                                    "10": "2018-08-17 10:50:03.0000000",
                                    "11": "2018-08-17 10:50:03.0000000"
                                },
                                {
                                    "0": "9",
                                    "1": "2018",
                                    "2": "2018-09-01",
                                    "3": "35903",
                                    "4": "5.23",
                                    "5": "2.14",
                                    "6": "26",
                                    "7": "96.67",
                                    "8": "Trendy Denim Shoppers",
                                    "9": "Customers shopping for denim from trendsetting brands.",
                                    "10": "2018-09-05 18:10:03.0000000",
                                    "11": "2018-09-05 18:10:03.0000000"
                                },
                                {
                                    "0": "9",
                                    "1": "2018",
                                    "2": "2018-09-01",
                                    "3": "35904",
                                    "4": "5.19",
                                    "5": "2.34",
                                    "6": "11",
                                    "7": "98.59",
                                    "8": "Utility Workwear Shoppers",
                                    "9": "Customers shopping for clothes and shoes from utility workwear brands.",
                                    "10": "2018-09-05 18:10:04.0000000",
                                    "11": "2018-09-05 18:10:04.0000000"
                                },
                                {
                                    "0": "9",
                                    "1": "2018",
                                    "2": "2018-09-01",
                                    "3": "35905",
                                    "4": "3.49",
                                    "5": "1.4",
                                    "6": "235",
                                    "7": "69.87",
                                    "8": "Athleisure Shoppers",
                                    "9": "Customers shopping for clothes and accessories from athleisure and fitness brands.",
                                    "10": "2018-09-05 18:10:04.0000000",
                                    "11": "2018-09-05 18:10:04.0000000"
                                },
                                {
                                    "0": "9",
                                    "1": "2018",
                                    "2": "2018-09-01",
                                    "3": "35906",
                                    "4": "2.74",
                                    "5": "1.26",
                                    "6": "362",
                                    "7": "53.59",
                                    "8": "MS Information Researchers",
                                    "9": "People researching multiple sclerosis treatments and charities.",
                                    "10": "2018-09-05 18:15:03.0000000",
                                    "11": "2018-09-05 18:15:03.0000000"
                                },
                                {
                                    "0": "9",
                                    "1": "2018",
                                    "2": "2018-09-01",
                                    "3": "35932",
                                    "4": "2.03",
                                    "5": "0.84",
                                    "6": "714",
                                    "7": "8.46",
                                    "8": "Easter Decorations and Candy Shoppers",
                                    "9": "Consumers shopping for Easter decorations and candy.",
                                    "10": "2018-09-06 11:40:04.0000000",
                                    "11": "2018-09-14 16:47:29.0000000"
                                },
                                {
                                    "0": "9",
                                    "1": "2018",
                                    "2": "2018-09-01",
                                    "3": "35953",
                                    "4": "4.17",
                                    "5": "1.75",
                                    "6": "80",
                                    "7": "89.74",
                                    "8": "Kitchen and Bath Professionals",
                                    "9": "Professionals reading industry news and researching products and services for kitchen and bathroom construction and design.",
                                    "10": "2018-09-06 16:55:03.0000000",
                                    "11": "2018-09-06 16:55:03.0000000"
                                },
                                {
                                    "0": "9",
                                    "1": "2018",
                                    "2": "2018-09-01",
                                    "3": "36020",
                                    "4": "4.21",
                                    "5": "1.54",
                                    "6": "151",
                                    "7": "80.64",
                                    "8": "Architects",
                                    "9": "Professionals reading industry news and researching architecture products and services.",
                                    "10": "2018-09-07 15:00:03.0000000",
                                    "11": "2018-09-07 15:00:03.0000000"
                                },
                                {
                                    "0": "9",
                                    "1": "2018",
                                    "2": "2018-09-01",
                                    "3": "36343",
                                    "4": "1.89",
                                    "5": "0.8",
                                    "6": "736",
                                    "7": "5.64",
                                    "8": "Computer Processor and Data Center Decision Makers",
                                    "9": "Professionals reading industry news and researching products and services for computer processing and data center storage.",
                                    "10": "2018-09-14 14:35:03.0000000",
                                    "11": "2018-09-14 14:35:03.0000000"
                                },
                                {
                                    "0": "10",
                                    "1": "2018",
                                    "2": "2018-10-01",
                                    "3": "37874",
                                    "4": "4.1",
                                    "5": "1.86",
                                    "6": "111",
                                    "7": "87.05",
                                    "8": "Spain Trip Planners",
                                    "9": "People researching attractions and accommodations in Spain. These consumers are more likely to spend money on flights, hotels, and local attractions.",
                                    "10": "2018-10-03 14:15:03.0000000",
                                    "11": "2018-10-03 14:15:03.0000000"
                                },
                                {
                                    "0": "10",
                                    "1": "2018",
                                    "2": "2018-10-01",
                                    "3": "37875",
                                    "4": "5.6",
                                    "5": "2.6",
                                    "6": "11",
                                    "7": "98.72",
                                    "8": "Vermont Trip Planners",
                                    "9": "People researching attractions and accommodations in Vermont. These consumers are more likely to spend money on flights, hotels, and local attractions.",
                                    "10": "2018-10-03 14:15:03.0000000",
                                    "11": "2018-10-03 14:15:03.0000000"
                                },
                                {
                                    "0": "10",
                                    "1": "2018",
                                    "2": "2018-10-01",
                                    "3": "37876",
                                    "4": "2.25",
                                    "5": "1.32",
                                    "6": "511",
                                    "7": "40.37",
                                    "8": "Jamband Fans",
                                    "9": "People reading about jamband music and culture.",
                                    "10": "2018-10-03 14:15:03.0000000",
                                    "11": "2018-10-03 14:15:03.0000000"
                                },
                                {
                                    "0": "10",
                                    "1": "2018",
                                    "2": "2018-10-01",
                                    "3": "37877",
                                    "4": "2.19",
                                    "5": "1.28",
                                    "6": "548",
                                    "7": "36.06",
                                    "8": "Dallas Mavericks Fans",
                                    "9": "People reading news about the Dallas Mavericks and watching games. These consumers are more likely to spend money on team gear.",
                                    "10": "2018-10-03 14:15:03.0000000",
                                    "11": "2018-10-03 14:15:03.0000000"
                                },
                                {
                                    "0": "10",
                                    "1": "2018",
                                    "2": "2018-10-01",
                                    "3": "37878",
                                    "4": "2.09",
                                    "5": "1.23",
                                    "6": "593",
                                    "7": "30.81",
                                    "8": "New Orleans Pelicans Fans",
                                    "9": "People reading news about the New Orleans Pelicans and watching games. These consumers are more likely to spend money on team gear.",
                                    "10": "2018-10-03 14:15:03.0000000",
                                    "11": "2018-10-03 14:15:03.0000000"
                                },
                                {
                                    "0": "10",
                                    "1": "2018",
                                    "2": "2018-10-01",
                                    "3": "37879",
                                    "4": "4.25",
                                    "5": "1.54",
                                    "6": "291",
                                    "7": "66.04",
                                    "8": "Chess Enthusiasts",
                                    "9": "People researching chess techniques and playing chess online.",
                                    "10": "2018-10-03 14:15:04.0000000",
                                    "11": "2018-10-03 14:15:04.0000000"
                                },
                                {
                                    "0": "10",
                                    "1": "2018",
                                    "2": "2018-10-01",
                                    "3": "37880",
                                    "4": "4.46",
                                    "5": "1.71",
                                    "6": "171",
                                    "7": "80.05",
                                    "8": "Solitaire Players",
                                    "9": "People playing solitaire and card games online.",
                                    "10": "2018-10-03 14:15:04.0000000",
                                    "11": "2018-10-03 14:15:04.0000000"
                                },
                                {
                                    "0": "10",
                                    "1": "2018",
                                    "2": "2018-10-01",
                                    "3": "37881",
                                    "4": "2.28",
                                    "5": "1.21",
                                    "6": "618",
                                    "7": "27.89",
                                    "8": "Trivia Enthusiasts",
                                    "9": "People researching trivia facts and playing trivia games online.",
                                    "10": "2018-10-03 14:15:04.0000000",
                                    "11": "2018-10-03 14:15:04.0000000"
                                },
                                {
                                    "0": "10",
                                    "1": "2018",
                                    "2": "2018-10-01",
                                    "3": "37882",
                                    "4": "2.57",
                                    "5": "1.23",
                                    "6": "593",
                                    "7": "30.81",
                                    "8": "Home Aquarium Enthusiasts",
                                    "9": "Consumers researching or purchasing home aquarium products and services.",
                                    "10": "2018-10-03 14:15:04.0000000",
                                    "11": "2018-10-03 14:15:04.0000000"
                                },
                                {
                                    "0": "10",
                                    "1": "2018",
                                    "2": "2018-10-01",
                                    "3": "37883",
                                    "4": "3.63",
                                    "5": "1.58",
                                    "6": "254",
                                    "7": "70.36",
                                    "8": "Shapewear & Leggings Shoppers",
                                    "9": "Consumers shopping for leggings and shapewear apparel.",
                                    "10": "2018-10-03 14:15:04.0000000",
                                    "11": "2018-10-03 14:15:04.0000000"
                                },
                                {
                                    "0": "10",
                                    "1": "2018",
                                    "2": "2018-10-01",
                                    "3": "37887",
                                    "4": "3.08",
                                    "5": "1.38",
                                    "6": "430",
                                    "7": "49.82",
                                    "8": "Gift Givers",
                                    "9": "Consumers shopping for gift cards and other gifts.",
                                    "10": "2018-10-03 14:45:03.0000000",
                                    "11": "2018-10-03 14:45:03.0000000"
                                },
                                {
                                    "0": "10",
                                    "1": "2018",
                                    "2": "2018-10-01",
                                    "3": "38283",
                                    "4": "3.16",
                                    "5": "1.39",
                                    "6": "425",
                                    "7": "50.41",
                                    "8": "Womens Subscription Box Shoppers",
                                    "9": "Consumers researching and purchasing subscription boxes for womens products and accessories.",
                                    "10": "2018-10-10 15:20:04.0000000",
                                    "11": "2018-10-10 15:20:04.0000000"
                                },
                                {
                                    "0": "10",
                                    "1": "2018",
                                    "2": "2018-10-01",
                                    "3": "38284",
                                    "4": "2.42",
                                    "5": "1.26",
                                    "6": "570",
                                    "7": "33.49",
                                    "8": "Portuguese Food Enthusiasts",
                                    "9": "People reading about Portuguese food and researching recipes.",
                                    "10": "2018-10-10 15:20:04.0000000",
                                    "11": "2018-10-10 15:20:04.0000000"
                                },
                                {
                                    "0": "10",
                                    "1": "2018",
                                    "2": "2018-10-01",
                                    "3": "38350",
                                    "4": "2.2",
                                    "5": "1.2",
                                    "6": "630",
                                    "7": "26.49",
                                    "8": "Indian Food Enthusiasts",
                                    "9": "People reading about Indian food and researching recipes.",
                                    "10": "2018-10-11 12:20:04.0000000",
                                    "11": "2018-10-11 12:20:04.0000000"
                                },
                                {
                                    "0": "10",
                                    "1": "2018",
                                    "2": "2018-10-01",
                                    "3": "38351",
                                    "4": "3.02",
                                    "5": "1.43",
                                    "6": "393",
                                    "7": "54.14",
                                    "8": "Xtreme Sports Fans",
                                    "9": "People reading news about professional xtreme sports and purchasing gear.",
                                    "10": "2018-10-11 12:20:04.0000000",
                                    "11": "2019-01-16 09:11:30.0000000"
                                },
                                {
                                    "0": "10",
                                    "1": "2018",
                                    "2": "2018-10-01",
                                    "3": "38352",
                                    "4": "2.28",
                                    "5": "1.23",
                                    "6": "593",
                                    "7": "30.81",
                                    "8": "Lawn and Home Pest Control Researchers",
                                    "9": "Consumers researching lawn and home pest control products and techniques.",
                                    "10": "2018-10-11 12:20:04.0000000",
                                    "11": "2018-10-11 12:20:04.0000000"
                                },
                                {
                                    "0": "10",
                                    "1": "2018",
                                    "2": "2018-10-01",
                                    "3": "38353",
                                    "4": "3.53",
                                    "5": "1.55",
                                    "6": "281",
                                    "7": "67.21",
                                    "8": "Netherlands Trip Planners",
                                    "9": "People researching attractions and accommodations in the Netherlands. These consumers are more likely to spend money on flights, hotels, and local attractions.",
                                    "10": "2018-10-11 12:20:04.0000000",
                                    "11": "2018-10-11 12:20:04.0000000"
                                },
                                {
                                    "0": "10",
                                    "1": "2018",
                                    "2": "2018-10-01",
                                    "3": "38354",
                                    "4": "2.71",
                                    "5": "1.34",
                                    "6": "492",
                                    "7": "42.59",
                                    "8": "Train Travelers",
                                    "9": "People researching and booking train travel accommodations.",
                                    "10": "2018-10-11 12:20:04.0000000",
                                    "11": "2018-10-11 12:20:04.0000000"
                                },
                                {
                                    "0": "10",
                                    "1": "2018",
                                    "2": "2018-10-01",
                                    "3": "38355",
                                    "4": "3.16",
                                    "5": "1.61",
                                    "6": "228",
                                    "7": "73.4",
                                    "8": "Private Jet Traveler",
                                    "9": "People researching and booking private jet travel accommodations.",
                                    "10": "2018-10-11 12:20:04.0000000",
                                    "11": "2018-10-11 12:20:04.0000000"
                                },
                                {
                                    "0": "10",
                                    "1": "2018",
                                    "2": "2018-10-01",
                                    "3": "38356",
                                    "4": "4.08",
                                    "5": "1.96",
                                    "6": "79",
                                    "7": "90.78",
                                    "8": "Grateful Dead Fans",
                                    "9": "People reading about the Grateful Dead, their music, and similar musicians.",
                                    "10": "2018-10-11 12:20:04.0000000",
                                    "11": "2018-10-11 12:20:04.0000000"
                                },
                                {
                                    "0": "10",
                                    "1": "2018",
                                    "2": "2018-10-01",
                                    "3": "38357",
                                    "4": "3.41",
                                    "5": "1.64",
                                    "6": "215",
                                    "7": "74.91",
                                    "8": "Jam Band Festival Fans",
                                    "9": "People researching and planning to attend jam band music festivals.",
                                    "10": "2018-10-11 12:20:04.0000000",
                                    "11": "2018-10-11 12:20:04.0000000"
                                },
                                {
                                    "0": "10",
                                    "1": "2018",
                                    "2": "2018-10-01",
                                    "3": "38358",
                                    "4": "2.21",
                                    "5": "1.07",
                                    "6": "731",
                                    "7": "14.7",
                                    "8": "Off the Grid Living Enthusiasts",
                                    "9": "People researching living off the grid and shopping for products and equipment.",
                                    "10": "2018-10-11 12:20:04.0000000",
                                    "11": "2018-10-11 12:20:04.0000000"
                                },
                                {
                                    "0": "10",
                                    "1": "2018",
                                    "2": "2018-10-01",
                                    "3": "38359",
                                    "4": "3.12",
                                    "5": "1.33",
                                    "6": "500",
                                    "7": "41.66",
                                    "8": "Christian Voters",
                                    "9": "People researching political issues for Christian voters.",
                                    "10": "2018-10-11 12:20:05.0000000",
                                    "11": "2018-10-11 12:20:05.0000000"
                                },
                                {
                                    "0": "10",
                                    "1": "2018",
                                    "2": "2018-10-01",
                                    "3": "38360",
                                    "4": "3.25",
                                    "5": "1.62",
                                    "6": "223",
                                    "7": "73.98",
                                    "8": "Northeastern Voters",
                                    "9": "People researching voter registration options and political issues for voters in Northeastern states.",
                                    "10": "2018-10-11 12:20:05.0000000",
                                    "11": "2018-10-11 12:20:05.0000000"
                                },
                                {
                                    "0": "10",
                                    "1": "2018",
                                    "2": "2018-10-01",
                                    "3": "38361",
                                    "4": "2.36",
                                    "5": "1.15",
                                    "6": "676",
                                    "7": "21.12",
                                    "8": "Mid-Atlantic Voters",
                                    "9": "People researching voter registration options and political issues for voters in Mid-Atlantic states.",
                                    "10": "2018-10-11 12:20:05.0000000",
                                    "11": "2018-10-11 12:20:05.0000000"
                                },
                                {
                                    "0": "10",
                                    "1": "2018",
                                    "2": "2018-10-01",
                                    "3": "38362",
                                    "4": "3.16",
                                    "5": "1.48",
                                    "6": "338",
                                    "7": "60.56",
                                    "8": "South Atlantic Voters",
                                    "9": "People researching voter registration options and political issues for voters in South Atlantic states.",
                                    "10": "2018-10-11 12:20:05.0000000",
                                    "11": "2018-10-11 12:20:05.0000000"
                                },
                                {
                                    "0": "10",
                                    "1": "2018",
                                    "2": "2018-10-01",
                                    "3": "38363",
                                    "4": "2.52",
                                    "5": "1.27",
                                    "6": "562",
                                    "7": "34.42",
                                    "8": "Southeastern Voters",
                                    "9": "People researching voter registration options and political issues for voters in Southeastern states.",
                                    "10": "2018-10-11 12:20:05.0000000",
                                    "11": "2018-10-11 12:20:05.0000000"
                                },
                                {
                                    "0": "10",
                                    "1": "2018",
                                    "2": "2018-10-01",
                                    "3": "38364",
                                    "4": "2.73",
                                    "5": "1.46",
                                    "6": "362",
                                    "7": "57.76",
                                    "8": "Southern Central Voters",
                                    "9": "People researching voter registration options and political issues for voters in Southern Central states.",
                                    "10": "2018-10-11 12:20:05.0000000",
                                    "11": "2018-10-11 12:20:05.0000000"
                                },
                                {
                                    "0": "10",
                                    "1": "2018",
                                    "2": "2018-10-01",
                                    "3": "38365",
                                    "4": "2.64",
                                    "5": "1.35",
                                    "6": "470",
                                    "7": "45.16",
                                    "8": "Midwestern Voters",
                                    "9": "People researching voter registration options and political issues for voters in Midwestern states.",
                                    "10": "2018-10-11 12:20:05.0000000",
                                    "11": "2018-10-11 12:20:05.0000000"
                                },
                                {
                                    "0": "10",
                                    "1": "2018",
                                    "2": "2018-10-01",
                                    "3": "38366",
                                    "4": "2.89",
                                    "5": "1.28",
                                    "6": "548",
                                    "7": "36.06",
                                    "8": "Green Party Policy Supporters",
                                    "9": "People researching political issues for Green Party supporters.",
                                    "10": "2018-10-11 12:20:05.0000000",
                                    "11": "2018-10-11 12:20:05.0000000"
                                },
                                {
                                    "0": "10",
                                    "1": "2018",
                                    "2": "2018-10-01",
                                    "3": "38367",
                                    "4": "2.28",
                                    "5": "1.3",
                                    "6": "537",
                                    "7": "37.34",
                                    "8": "Tea Party Policy Supporters",
                                    "9": "People researching political issues for Tea Party supporters.",
                                    "10": "2018-10-11 12:20:05.0000000",
                                    "11": "2018-10-11 12:20:05.0000000"
                                },
                                {
                                    "0": "10",
                                    "1": "2018",
                                    "2": "2018-10-01",
                                    "3": "38368",
                                    "4": "6.76",
                                    "5": "1.55",
                                    "6": "281",
                                    "7": "67.21",
                                    "8": "Volvo Vehicle Shoppers",
                                    "9": "People researching and comparing Volvo vehicles. These consumers are more likely to spend money on a new or used car.",
                                    "10": "2018-10-11 12:30:03.0000000",
                                    "11": "2018-10-11 12:30:03.0000000"
                                },
                                {
                                    "0": "11",
                                    "1": "2018",
                                    "2": "2018-11-01",
                                    "3": "40183",
                                    "4": "4.88",
                                    "5": "2.37",
                                    "6": "28",
                                    "7": "96.98",
                                    "8": "Canoeing and Kayaking Enthusiasts",
                                    "9": "People reading about canoeing and kayaking news and destinations.",
                                    "10": "2018-11-02 17:10:04.0000000",
                                    "11": "2019-01-16 09:11:30.0000000"
                                },
                                {
                                    "0": "11",
                                    "1": "2018",
                                    "2": "2018-11-01",
                                    "3": "40184",
                                    "4": "3.34",
                                    "5": "1.88",
                                    "6": "109",
                                    "7": "88.25",
                                    "8": "Scuba Diving Enthusiasts",
                                    "9": "People reading about scuba diving news and destinations.",
                                    "10": "2018-11-02 17:10:04.0000000",
                                    "11": "2019-01-16 09:11:30.0000000"
                                },
                                {
                                    "0": "11",
                                    "1": "2018",
                                    "2": "2018-11-01",
                                    "3": "40187",
                                    "4": "2.45",
                                    "5": "1.34",
                                    "6": "519",
                                    "7": "44.07",
                                    "8": "Organic Food Eaters",
                                    "9": "Consumer reading about organic foods and researching organic food recipes.",
                                    "10": "2018-11-02 17:10:04.0000000",
                                    "11": "2018-11-02 17:10:04.0000000"
                                },
                                {
                                    "0": "11",
                                    "1": "2018",
                                    "2": "2018-11-01",
                                    "3": "40188",
                                    "4": "2.3",
                                    "5": "1.29",
                                    "6": "580",
                                    "7": "37.5",
                                    "8": "Civil War History Buff",
                                    "9": "People reading about the history of the American Civil War.",
                                    "10": "2018-11-02 17:10:04.0000000",
                                    "11": "2018-11-02 17:10:04.0000000"
                                },
                                {
                                    "0": "11",
                                    "1": "2018",
                                    "2": "2018-11-01",
                                    "3": "40189",
                                    "4": "2.77",
                                    "5": "1.32",
                                    "6": "545",
                                    "7": "41.27",
                                    "8": "Native American Culture Enthusiasts",
                                    "9": "People reading about Native American culture and traditions.",
                                    "10": "2018-11-02 17:10:04.0000000",
                                    "11": "2018-11-02 17:10:04.0000000"
                                },
                                {
                                    "0": "11",
                                    "1": "2018",
                                    "2": "2018-11-01",
                                    "3": "40190",
                                    "4": "3.02",
                                    "5": "1.62",
                                    "6": "241",
                                    "7": "74.03",
                                    "8": "Luxury Watch Shoppers",
                                    "9": "Consumers shopping for watches from luxury brands.",
                                    "10": "2018-11-02 17:10:05.0000000",
                                    "11": "2018-11-02 17:10:05.0000000"
                                },
                                {
                                    "0": "11",
                                    "1": "2018",
                                    "2": "2018-11-01",
                                    "3": "40191",
                                    "4": "3.21",
                                    "5": "1.48",
                                    "6": "362",
                                    "7": "60.99",
                                    "8": "Revolutionary War History Buffs",
                                    "9": "People reading about the history of the American Revolutionary War.",
                                    "10": "2018-11-02 17:10:05.0000000",
                                    "11": "2018-11-02 17:10:05.0000000"
                                },
                                {
                                    "0": "11",
                                    "1": "2018",
                                    "2": "2018-11-01",
                                    "3": "40192",
                                    "4": "3.04",
                                    "5": "1.54",
                                    "6": "308",
                                    "7": "66.81",
                                    "8": "Rome Trip Planners",
                                    "9": "People researching attractions and accommodations in Rome. These consumers are more likely to spend money on travel and local attractions.",
                                    "10": "2018-11-02 17:10:05.0000000",
                                    "11": "2018-11-02 17:10:05.0000000"
                                },
                                {
                                    "0": "11",
                                    "1": "2018",
                                    "2": "2018-11-01",
                                    "3": "40193",
                                    "4": "2.43",
                                    "5": "1.34",
                                    "6": "519",
                                    "7": "44.07",
                                    "8": "Myrtle Beach Trip Planners",
                                    "9": "People researching attractions and accommodations in Myrtle Beach. These consumers are more likely to spend money on travel and local attractions.",
                                    "10": "2018-11-02 17:10:05.0000000",
                                    "11": "2018-11-02 17:10:05.0000000"
                                },
                                {
                                    "0": "11",
                                    "1": "2018",
                                    "2": "2018-11-01",
                                    "3": "40194",
                                    "4": "1.57",
                                    "5": "0.99",
                                    "6": "834",
                                    "7": "10.13",
                                    "8": "Detroit Pistons Fans",
                                    "9": "People reading news about the Detroit Pistons and watching games. These consumers are more likely to spend money on team gear.",
                                    "10": "2018-11-02 17:10:05.0000000",
                                    "11": "2018-11-02 17:10:05.0000000"
                                },
                                {
                                    "0": "11",
                                    "1": "2018",
                                    "2": "2018-11-01",
                                    "3": "40195",
                                    "4": "3.06",
                                    "5": "1.33",
                                    "6": "531",
                                    "7": "42.78",
                                    "8": "U.S. History Buffs",
                                    "9": "People reading about the history of the United States of America.",
                                    "10": "2018-11-02 17:10:05.0000000",
                                    "11": "2018-11-02 17:10:05.0000000"
                                },
                                {
                                    "0": "11",
                                    "1": "2018",
                                    "2": "2018-11-01",
                                    "3": "40434",
                                    "4": "2.94",
                                    "5": "1.43",
                                    "6": "423",
                                    "7": "54.42",
                                    "8": "History Buffs",
                                    "9": "People reading general history facts.",
                                    "10": "2018-11-09 15:40:04.0000000",
                                    "11": "2018-11-09 15:40:04.0000000"
                                },
                                {
                                    "0": "11",
                                    "1": "2018",
                                    "2": "2018-11-01",
                                    "3": "40435",
                                    "4": "3.19",
                                    "5": "1.39",
                                    "6": "468",
                                    "7": "49.57",
                                    "8": "World War One History Buffs",
                                    "9": "People reading about the history of World War I.",
                                    "10": "2018-11-09 15:40:05.0000000",
                                    "11": "2018-11-09 15:40:05.0000000"
                                },
                                {
                                    "0": "11",
                                    "1": "2018",
                                    "2": "2018-11-01",
                                    "3": "40436",
                                    "4": "3.02",
                                    "5": "1.47",
                                    "6": "381",
                                    "7": "58.94",
                                    "8": "Egypt Trip Planners",
                                    "9": "People researching attractions and accommodations in Egypt. These consumers are more likely to spend money on travel and local attractions.",
                                    "10": "2018-11-09 15:40:05.0000000",
                                    "11": "2018-11-09 15:40:05.0000000"
                                },
                                {
                                    "0": "11",
                                    "1": "2018",
                                    "2": "2018-11-01",
                                    "3": "40437",
                                    "4": "2.74",
                                    "5": "1.56",
                                    "6": "283",
                                    "7": "69.5",
                                    "8": "Podcast Listeners",
                                    "9": "People visiting sites about podcasts and reading or listening to content from popular podcasts.",
                                    "10": "2018-11-09 15:40:05.0000000",
                                    "11": "2018-11-09 15:40:05.0000000"
                                },
                                {
                                    "0": "11",
                                    "1": "2018",
                                    "2": "2018-11-01",
                                    "3": "40438",
                                    "4": "2.58",
                                    "5": "1.44",
                                    "6": "409",
                                    "7": "55.93",
                                    "8": "iPhone Users",
                                    "9": "Consumers shopping for products and services for their iPhones.",
                                    "10": "2018-11-09 15:40:05.0000000",
                                    "11": "2018-11-09 15:40:05.0000000"
                                },
                                {
                                    "0": "11",
                                    "1": "2018",
                                    "2": "2018-11-01",
                                    "3": "40439",
                                    "4": "5.39",
                                    "5": "2.67",
                                    "6": "9",
                                    "7": "99.03",
                                    "8": "Ski and Snowboard Apparel Shoppers",
                                    "9": "Consumers shopping for winter clothing from ski and snowboarding apparel brands.",
                                    "10": "2018-11-09 15:45:04.0000000",
                                    "11": "2018-11-09 15:45:04.0000000"
                                },
                                {
                                    "0": "11",
                                    "1": "2018",
                                    "2": "2018-11-01",
                                    "3": "40525",
                                    "4": "3.33",
                                    "5": "1.5",
                                    "6": "345",
                                    "7": "62.82",
                                    "8": "Hospital Executives",
                                    "9": "Professionals reading industry news and researching products and services for hospital executives.",
                                    "10": "2018-11-12 17:30:04.0000000",
                                    "11": "2018-11-12 17:30:04.0000000"
                                },
                                {
                                    "0": "11",
                                    "1": "2018",
                                    "2": "2018-11-01",
                                    "3": "40682",
                                    "4": "2.97",
                                    "5": "1.83",
                                    "6": "130",
                                    "7": "85.99",
                                    "8": "Ergonomic Office Supplies Shoppers",
                                    "9": "Consumers shopping for ergonomic desk and office supply products.",
                                    "10": "2018-11-14 12:30:04.0000000",
                                    "11": "2018-11-14 12:30:04.0000000"
                                },
                                {
                                    "0": "11",
                                    "1": "2018",
                                    "2": "2018-11-01",
                                    "3": "40683",
                                    "4": "2.4",
                                    "5": "1.74",
                                    "6": "173",
                                    "7": "81.36",
                                    "8": "Aviation Enthusiasts",
                                    "9": "People reading about aircrafts and flying and joining aviation communities.",
                                    "10": "2018-11-14 12:30:04.0000000",
                                    "11": "2018-11-14 12:30:04.0000000"
                                },
                                {
                                    "0": "11",
                                    "1": "2018",
                                    "2": "2018-11-01",
                                    "3": "40685",
                                    "4": "2.62",
                                    "5": "1.74",
                                    "6": "173",
                                    "7": "81.36",
                                    "8": "Rodeo Enthusiasts",
                                    "9": "People researching and planning to attend local rodeos.",
                                    "10": "2018-11-14 12:30:04.0000000",
                                    "11": "2019-01-16 09:11:30.0000000"
                                },
                                {
                                    "0": "11",
                                    "1": "2018",
                                    "2": "2018-11-01",
                                    "3": "40688",
                                    "4": "2.2",
                                    "5": "1.47",
                                    "6": "381",
                                    "7": "58.94",
                                    "8": "Legal News Readers",
                                    "9": "People reading news about law and the latest legal cases.",
                                    "10": "2018-11-14 12:30:04.0000000",
                                    "11": "2018-11-14 12:30:04.0000000"
                                },
                                {
                                    "0": "11",
                                    "1": "2018",
                                    "2": "2018-11-01",
                                    "3": "40690",
                                    "4": "2.17",
                                    "5": "1.48",
                                    "6": "362",
                                    "7": "60.99",
                                    "8": "Business Book Readers",
                                    "9": "People searching online for books and content about business.",
                                    "10": "2018-11-14 12:30:04.0000000",
                                    "11": "2018-11-14 12:30:04.0000000"
                                },
                                {
                                    "0": "11",
                                    "1": "2018",
                                    "2": "2018-11-01",
                                    "3": "40691",
                                    "4": "2.58",
                                    "5": "1.48",
                                    "6": "362",
                                    "7": "60.99",
                                    "8": "Poetry Readers",
                                    "9": "People searching online for poetry.",
                                    "10": "2018-11-14 12:30:05.0000000",
                                    "11": "2018-11-14 12:30:05.0000000"
                                },
                                {
                                    "0": "11",
                                    "1": "2018",
                                    "2": "2018-11-01",
                                    "3": "40697",
                                    "4": "2.78",
                                    "5": "1.58",
                                    "6": "270",
                                    "7": "70.91",
                                    "8": "Santa Cruz Trip Planners",
                                    "9": "People researching attractions and accommodations in Santa Cruz. These consumers are more likely to spend money on travel and local attractions.",
                                    "10": "2018-11-14 12:30:05.0000000",
                                    "11": "2018-11-14 12:30:05.0000000"
                                },
                                {
                                    "0": "11",
                                    "1": "2018",
                                    "2": "2018-11-01",
                                    "3": "40698",
                                    "4": "2.1",
                                    "5": "1.48",
                                    "6": "362",
                                    "7": "60.99",
                                    "8": "GMC Vehicle Shopper",
                                    "9": "People researching and comparing GMC vehicles. These consumers are more likely to spend money on a new or used car.",
                                    "10": "2018-11-14 12:30:05.0000000",
                                    "11": "2018-11-14 12:30:05.0000000"
                                },
                                {
                                    "0": "11",
                                    "1": "2018",
                                    "2": "2018-11-01",
                                    "3": "40700",
                                    "4": "1.94",
                                    "5": "1.42",
                                    "6": "439",
                                    "7": "52.69",
                                    "8": "Speedway Event Enthusiasts",
                                    "9": "People researching and planning to attend speedway events.",
                                    "10": "2018-11-14 12:30:06.0000000",
                                    "11": "2019-01-16 09:11:30.0000000"
                                },
                                {
                                    "0": "12",
                                    "1": "2018",
                                    "2": "2018-12-01",
                                    "3": "41546",
                                    "4": "1.81",
                                    "5": "1.1",
                                    "6": "822",
                                    "7": "17.39",
                                    "8": "Reality TV Show Watchers",
                                    "9": "Consumers watching and reading about popular reality TV shows.",
                                    "10": "2018-12-03 11:10:04.0000000",
                                    "11": "2018-12-03 11:10:04.0000000"
                                },
                                {
                                    "0": "12",
                                    "1": "2018",
                                    "2": "2018-12-01",
                                    "3": "41547",
                                    "4": "3.07",
                                    "5": "1.43",
                                    "6": "472",
                                    "7": "52.56",
                                    "8": "Electronics Shoppers",
                                    "9": "Consumers shopping for electronics products online.",
                                    "10": "2018-12-03 11:10:04.0000000",
                                    "11": "2018-12-03 11:10:04.0000000"
                                },
                                {
                                    "0": "12",
                                    "1": "2018",
                                    "2": "2018-12-01",
                                    "3": "41548",
                                    "4": "10.46",
                                    "5": "4.42",
                                    "6": "1",
                                    "7": "99.9",
                                    "8": "Winter Apparel Shoppers",
                                    "9": "Consumers shopping for winter clothing from popular apparel brands.",
                                    "10": "2018-12-03 11:10:04.0000000",
                                    "11": "2018-12-03 11:10:04.0000000"
                                },
                                {
                                    "0": "12",
                                    "1": "2018",
                                    "2": "2018-12-01",
                                    "3": "41549",
                                    "4": "1.74",
                                    "5": "0.9",
                                    "6": "938",
                                    "7": "5.73",
                                    "8": "Bitcoin Enthusiasts",
                                    "9": "People reading industry news and following trends on bitcoin.",
                                    "10": "2018-12-03 11:10:05.0000000",
                                    "11": "2018-12-03 11:10:05.0000000"
                                },
                                {
                                    "0": "12",
                                    "1": "2018",
                                    "2": "2018-12-01",
                                    "3": "41550",
                                    "4": "2.98",
                                    "5": "1.52",
                                    "6": "366",
                                    "7": "63.22",
                                    "8": "Africa Trip Planners",
                                    "9": "People researching attractions and accommodations in Africa. These consumers are more likely to spend money on flights, hotels, and local attractions.",
                                    "10": "2018-12-03 11:10:05.0000000",
                                    "11": "2018-12-03 11:10:05.0000000"
                                },
                                {
                                    "0": "12",
                                    "1": "2018",
                                    "2": "2018-12-01",
                                    "3": "41551",
                                    "4": "3.03",
                                    "5": "1.66",
                                    "6": "237",
                                    "7": "76.18",
                                    "8": "Cookie Recipe Researchers",
                                    "9": "People researching cookie and dessert recipes and baking techniques.",
                                    "10": "2018-12-03 11:10:05.0000000",
                                    "11": "2018-12-03 11:10:05.0000000"
                                },
                                {
                                    "0": "12",
                                    "1": "2018",
                                    "2": "2018-12-01",
                                    "3": "41552",
                                    "4": "3.7",
                                    "5": "1.65",
                                    "6": "243",
                                    "7": "75.58",
                                    "8": "Restaurant Menu Researchers",
                                    "9": "Consumers researching menus for local and chain restaurants.",
                                    "10": "2018-12-03 11:10:05.0000000",
                                    "11": "2018-12-03 11:10:05.0000000"
                                },
                                {
                                    "0": "12",
                                    "1": "2018",
                                    "2": "2018-12-01",
                                    "3": "41553",
                                    "4": "2.21",
                                    "5": "1.17",
                                    "6": "751",
                                    "7": "24.52",
                                    "8": "Classical Music Enthusiasts",
                                    "9": "People reading about classical music and musicians.",
                                    "10": "2018-12-03 11:10:05.0000000",
                                    "11": "2018-12-03 11:10:05.0000000"
                                },
                                {
                                    "0": "12",
                                    "1": "2018",
                                    "2": "2018-12-01",
                                    "3": "41554",
                                    "4": "2.26",
                                    "5": "1.37",
                                    "6": "545",
                                    "7": "45.23",
                                    "8": "Northwestern Wildcats Fans",
                                    "9": "People reading news about the Northwestern Wildcats and watching games. These consumers are more likely to spend money on team gear.",
                                    "10": "2018-12-03 11:10:05.0000000",
                                    "11": "2018-12-03 11:10:05.0000000"
                                },
                                {
                                    "0": "12",
                                    "1": "2018",
                                    "2": "2018-12-01",
                                    "3": "41853",
                                    "4": "2.3",
                                    "5": "1.28",
                                    "6": "643",
                                    "7": "35.38",
                                    "8": "Atlanta United Fans",
                                    "9": "People reading news about the Atlanta United soccer team and watching games. These consumers are more likely to spend money on team gear.",
                                    "10": "2018-12-07 11:50:03.0000000",
                                    "11": "2018-12-07 11:50:03.0000000"
                                },
                                {
                                    "0": "12",
                                    "1": "2018",
                                    "2": "2018-12-01",
                                    "3": "41854",
                                    "4": "4.54",
                                    "5": "2.92",
                                    "6": "7",
                                    "7": "99.3",
                                    "8": "Swimming Enthusiasts",
                                    "9": "People reading about swim lessons and swimming competitions.",
                                    "10": "2018-12-07 11:50:04.0000000",
                                    "11": "2019-01-16 09:11:30.0000000"
                                },
                                {
                                    "0": "12",
                                    "1": "2018",
                                    "2": "2018-12-01",
                                    "3": "41855",
                                    "4": "2.42",
                                    "5": "1.53",
                                    "6": "354",
                                    "7": "64.42",
                                    "8": "Snow Removal Researchers",
                                    "9": "Consumers researching and comparing snow removal equipment brands.",
                                    "10": "2018-12-07 11:50:04.0000000",
                                    "11": "2018-12-07 11:50:04.0000000"
                                },
                                {
                                    "0": "12",
                                    "1": "2018",
                                    "2": "2018-12-01",
                                    "3": "41856",
                                    "4": "3.8",
                                    "5": "2.02",
                                    "6": "84",
                                    "7": "91.56",
                                    "8": "Chocolate Lovers",
                                    "9": "Consumers researching chocolate companies and purchasing chocolates and desserts.",
                                    "10": "2018-12-07 11:50:04.0000000",
                                    "11": "2018-12-07 11:50:04.0000000"
                                },
                                {
                                    "0": "12",
                                    "1": "2018",
                                    "2": "2018-12-01",
                                    "3": "41857",
                                    "4": "2.36",
                                    "5": "1.25",
                                    "6": "681",
                                    "7": "31.56",
                                    "8": "Aquarium Trip Planners",
                                    "9": "People researching aquariums and planning a visit.",
                                    "10": "2018-12-07 11:50:04.0000000",
                                    "11": "2018-12-07 11:50:04.0000000"
                                },
                                {
                                    "0": "12",
                                    "1": "2018",
                                    "2": "2018-12-01",
                                    "3": "42000",
                                    "4": "2.28",
                                    "5": "1.44",
                                    "6": "453",
                                    "7": "54.47",
                                    "8": "Chicken Recipe Researchers",
                                    "9": "People researching recipes that feature chicken.",
                                    "10": "2018-12-11 10:35:05.0000000",
                                    "11": "2018-12-11 10:35:05.0000000"
                                },
                                {
                                    "0": "12",
                                    "1": "2018",
                                    "2": "2018-12-01",
                                    "3": "42011",
                                    "4": "1.83",
                                    "5": "0.62",
                                    "6": "991",
                                    "7": "0.4",
                                    "8": "League of Legends Video Game Fans",
                                    "9": "People reading League of Legends news and following gaming trends.",
                                    "10": "2018-12-11 14:15:05.0000000",
                                    "11": "2018-12-11 14:15:05.0000000"
                                },
                                {
                                    "0": "12",
                                    "1": "2018",
                                    "2": "2018-12-01",
                                    "3": "42203",
                                    "4": "6.09",
                                    "5": "3.41",
                                    "6": "2",
                                    "7": "99.8",
                                    "8": "Fitness Activity Tracker Users",
                                    "9": "People using health and fitness activity trackers.",
                                    "10": "2018-12-13 20:00:00.0000000",
                                    "11": "2019-01-31 12:40:53.0000000"
                                },
                                {
                                    "0": "12",
                                    "1": "2018",
                                    "2": "2018-12-01",
                                    "3": "42237",
                                    "4": "2.17",
                                    "5": "1.43",
                                    "6": "472",
                                    "7": "52.56",
                                    "8": "Ebay Shoppers",
                                    "9": "Consumers shoping online at Ebay.",
                                    "10": "2018-12-14 21:00:00.0000000",
                                    "11": "2019-01-31 13:46:00.0000000"
                                },
                                {
                                    "0": "12",
                                    "1": "2018",
                                    "2": "2018-12-01",
                                    "3": "42238",
                                    "4": "3.16",
                                    "5": "1.59",
                                    "6": "302",
                                    "7": "69.65",
                                    "8": "Online Calculator Users",
                                    "9": "Consumers using online calculators.",
                                    "10": "2018-12-14 21:00:00.0000000",
                                    "11": "2019-01-31 13:49:10.0000000"
                                },
                                {
                                    "0": "12",
                                    "1": "2018",
                                    "2": "2018-12-01",
                                    "3": "42239",
                                    "4": "1.74",
                                    "5": "1.39",
                                    "6": "523",
                                    "7": "47.44",
                                    "8": "ESPN Enthusiasts",
                                    "9": "Consumers watching and reading content from ESPN networks.",
                                    "10": "2018-12-14 21:00:00.0000000",
                                    "11": "2019-01-31 13:47:39.0000000"
                                },
                                {
                                    "0": "1",
                                    "1": "2019",
                                    "2": "2019-01-01",
                                    "3": "42964",
                                    "4": "2.91",
                                    "5": "1.39",
                                    "6": "331",
                                    "7": "65.98",
                                    "8": "Biohackers",
                                    "9": "People researching health and fitness methods and products to bio-hack their bodies.",
                                    "10": "2019-01-07 12:00:03.0000000",
                                    "11": "2019-01-07 12:00:03.0000000"
                                },
                                {
                                    "0": "1",
                                    "1": "2019",
                                    "2": "2019-01-01",
                                    "3": "43539",
                                    "4": "2.4",
                                    "5": "1.32",
                                    "6": "427",
                                    "7": "56.12",
                                    "8": "Discount Flight Searchers",
                                    "9": "Consumers searching for flight discounts and deals using online airfare comparison tools.",
                                    "10": "2019-01-10 11:10:03.0000000",
                                    "11": "2019-01-10 11:10:03.0000000"
                                },
                                {
                                    "0": "1",
                                    "1": "2019",
                                    "2": "2019-01-01",
                                    "3": "43540",
                                    "4": "2.33",
                                    "5": "0.98",
                                    "6": "841",
                                    "7": "13.57",
                                    "8": "Voice Over Internet Protocol (VoIP) Users",
                                    "9": "Consumers researching and using VoIP technologies.",
                                    "10": "2019-01-10 11:10:04.0000000",
                                    "11": "2019-01-10 11:10:04.0000000"
                                },
                                {
                                    "0": "1",
                                    "1": "2019",
                                    "2": "2019-01-01",
                                    "3": "43541",
                                    "4": "1.82",
                                    "5": "0.93",
                                    "6": "872",
                                    "7": "10.38",
                                    "8": "Wig Shoppers",
                                    "9": "Consumers shopping wig and hair products and services.",
                                    "10": "2019-01-10 11:10:04.0000000",
                                    "11": "2019-01-10 11:10:04.0000000"
                                },
                                {
                                    "0": "1",
                                    "1": "2019",
                                    "2": "2019-01-01",
                                    "3": "43542",
                                    "4": "2.97",
                                    "5": "1.72",
                                    "6": "114",
                                    "7": "88.28",
                                    "8": "Waterfront Vacationers",
                                    "9": "People researching and booking vacations at beach, river or lake destinations.",
                                    "10": "2019-01-10 11:10:04.0000000",
                                    "11": "2019-01-10 11:10:04.0000000"
                                },
                                {
                                    "0": "1",
                                    "1": "2019",
                                    "2": "2019-01-01",
                                    "3": "43544",
                                    "4": "2.62",
                                    "5": "1.25",
                                    "6": "517",
                                    "7": "46.87",
                                    "8": "Craft Beer Enthusiasts",
                                    "9": "People researching craft breweries and beers.",
                                    "10": "2019-01-10 11:10:04.0000000",
                                    "11": "2019-01-10 11:10:04.0000000"
                                },
                                {
                                    "0": "1",
                                    "1": "2019",
                                    "2": "2019-01-01",
                                    "3": "43545",
                                    "4": "2.59",
                                    "5": "1.25",
                                    "6": "517",
                                    "7": "46.87",
                                    "8": "Homemade Gifts Crafters",
                                    "9": "Consumers researching breweries and purchasing craft beer.",
                                    "10": "2019-01-10 11:10:04.0000000",
                                    "11": "2019-01-10 11:10:04.0000000"
                                },
                                {
                                    "0": "1",
                                    "1": "2019",
                                    "2": "2019-01-01",
                                    "3": "43546",
                                    "4": "2.73",
                                    "5": "1.37",
                                    "6": "357",
                                    "7": "63.31",
                                    "8": "Personalized Gift Shoppers",
                                    "9": "Consumers shopping for gifts that can be personalized.",
                                    "10": "2019-01-10 11:10:04.0000000",
                                    "11": "2019-01-10 11:10:04.0000000"
                                },
                                {
                                    "0": "1",
                                    "1": "2019",
                                    "2": "2019-01-01",
                                    "3": "43547",
                                    "4": "1.86",
                                    "5": "0.87",
                                    "6": "906",
                                    "7": "6.89",
                                    "8": "Animal Humane Society Helpers",
                                    "9": "People supporting Animal Humane Society through volunteer service and donations.",
                                    "10": "2019-01-10 11:10:04.0000000",
                                    "11": "2019-01-10 11:10:04.0000000"
                                },
                                {
                                    "0": "1",
                                    "1": "2019",
                                    "2": "2019-01-01",
                                    "3": "43549",
                                    "4": "1.86",
                                    "5": "1",
                                    "6": "825",
                                    "7": "15.21",
                                    "8": "Dog Breed Researchers",
                                    "9": "People researching dog breeds and breeders.",
                                    "10": "2019-01-10 11:10:05.0000000",
                                    "11": "2019-01-10 11:10:05.0000000"
                                },
                                {
                                    "0": "1",
                                    "1": "2019",
                                    "2": "2019-01-01",
                                    "3": "43550",
                                    "4": "3.28",
                                    "5": "1.7",
                                    "6": "124",
                                    "7": "87.26",
                                    "8": "Meal Kit Delivery Researchers",
                                    "9": "Consumers researching and subscribing to meal kit delivery services.",
                                    "10": "2019-01-10 11:10:05.0000000",
                                    "11": "2019-01-10 11:10:05.0000000"
                                },
                                {
                                    "0": "2",
                                    "1": "2019",
                                    "2": "2019-02-01",
                                    "3": "45515",
                                    "4": "2.84",
                                    "5": "1.23",
                                    "6": "626",
                                    "7": "44.16",
                                    "8": "US Judiciary System Researchers",
                                    "9": "People researching history and news on the US Judiciary System and legal system.",
                                    "10": "2019-02-04 22:00:00.0000000",
                                    "11": "2019-02-06 16:21:46.0000000"
                                },
                                {
                                    "0": "2",
                                    "1": "2019",
                                    "2": "2019-02-01",
                                    "3": "45516",
                                    "4": "3.4",
                                    "5": "1.55",
                                    "6": "243",
                                    "7": "78.32",
                                    "8": "Basketball Enthusiasts",
                                    "9": "People researching basketball and purchasing equipment and apparel.",
                                    "10": "2019-02-04 22:00:00.0000000",
                                    "11": "2019-02-06 16:21:46.0000000"
                                },
                                {
                                    "0": "2",
                                    "1": "2019",
                                    "2": "2019-02-01",
                                    "3": "45518",
                                    "4": "5.79",
                                    "5": "2.52",
                                    "6": "8",
                                    "7": "99.29",
                                    "8": "Volleyball Enthusiasts",
                                    "9": "People researching volleyball and purchasing equipment and apparel.",
                                    "10": "2019-02-04 22:00:00.0000000",
                                    "11": "2019-02-06 16:21:47.0000000"
                                },
                                {
                                    "0": "2",
                                    "1": "2019",
                                    "2": "2019-02-01",
                                    "3": "45519",
                                    "4": "3.69",
                                    "5": "1.46",
                                    "6": "327",
                                    "7": "70.83",
                                    "8": "Competitive Wrestling Enthusiasts",
                                    "9": "People researching competitive wrestling and purchasing equipment and apparel.",
                                    "10": "2019-02-04 22:00:00.0000000",
                                    "11": "2019-02-06 16:21:47.0000000"
                                },
                                {
                                    "0": "2",
                                    "1": "2019",
                                    "2": "2019-02-01",
                                    "3": "45520",
                                    "4": "2.63",
                                    "5": "1.01",
                                    "6": "925",
                                    "7": "17.48",
                                    "8": "Cricket Enthusiasts",
                                    "9": "People researching cricket and purchasing equipment and apparel.",
                                    "10": "2019-02-04 22:00:00.0000000",
                                    "11": "2019-02-06 16:21:47.0000000"
                                },
                                {
                                    "0": "2",
                                    "1": "2019",
                                    "2": "2019-02-01",
                                    "3": "45521",
                                    "4": "3.91",
                                    "5": "1.71",
                                    "6": "138",
                                    "7": "87.69",
                                    "8": "Rock Climbing Enthusiasts",
                                    "9": "People researching rock climbing and purchasing equipment and apparel.",
                                    "10": "2019-02-04 22:00:00.0000000",
                                    "11": "2019-02-06 16:21:48.0000000"
                                },
                                {
                                    "0": "2",
                                    "1": "2019",
                                    "2": "2019-02-01",
                                    "3": "45522",
                                    "4": "1.9",
                                    "5": "0.69",
                                    "6": "1104",
                                    "7": "1.52",
                                    "8": "Hair Color Shoppers",
                                    "9": "Consumers shopping for hair color products and services.",
                                    "10": "2019-02-04 22:00:00.0000000",
                                    "11": "2019-02-06 16:21:48.0000000"
                                },
                                {
                                    "0": "2",
                                    "1": "2019",
                                    "2": "2019-02-01",
                                    "3": "45524",
                                    "4": "2.47",
                                    "5": "1.18",
                                    "6": "691",
                                    "7": "38.36",
                                    "8": "Mowing Equipment Shoppers",
                                    "9": "Consumers researching lawn and gardening equipment.",
                                    "10": "2019-02-04 22:00:00.0000000",
                                    "11": "2019-02-06 16:21:49.0000000"
                                },
                                {
                                    "0": "2",
                                    "1": "2019",
                                    "2": "2019-02-01",
                                    "3": "45525",
                                    "4": "2.19",
                                    "5": "0.96",
                                    "6": "970",
                                    "7": "13.47",
                                    "8": "Cattle Industry New Readers",
                                    "9": "People reading industry news and following business trends in the cattle industry.",
                                    "10": "2019-02-04 22:00:00.0000000",
                                    "11": "2019-02-06 16:21:49.0000000"
                                },
                                {
                                    "0": "2",
                                    "1": "2019",
                                    "2": "2019-02-01",
                                    "3": "45526",
                                    "4": "2.58",
                                    "5": "1.09",
                                    "6": "813",
                                    "7": "27.48",
                                    "8": "Dairy Industry New Readers",
                                    "9": "People reading industry news and following business trends in the dairy industry.",
                                    "10": "2019-02-04 22:00:00.0000000",
                                    "11": "2019-02-06 16:21:49.0000000"
                                },
                                {
                                    "0": "2",
                                    "1": "2019",
                                    "2": "2019-02-01",
                                    "3": "45527",
                                    "4": "2.77",
                                    "5": "1.03",
                                    "6": "891",
                                    "7": "20.52",
                                    "8": "CBD Oils Shoppers",
                                    "9": "People researching products and health benefits of using CBD oils.",
                                    "10": "2019-02-04 22:00:00.0000000",
                                    "11": "2019-02-06 16:21:50.0000000"
                                },
                                {
                                    "0": "2",
                                    "1": "2019",
                                    "2": "2019-02-01",
                                    "3": "45528",
                                    "4": "2.3",
                                    "5": "0.99",
                                    "6": "949",
                                    "7": "15.34",
                                    "8": "Cannabis News Readers",
                                    "9": "People reading industry news and following business trends for cannabis brands and products.",
                                    "10": "2019-02-04 22:00:00.0000000",
                                    "11": "2019-02-06 16:21:50.0000000"
                                },
                                {
                                    "0": "2",
                                    "1": "2019",
                                    "2": "2019-02-01",
                                    "3": "45662",
                                    "4": "3.66",
                                    "5": "1.32",
                                    "6": "495",
                                    "7": "55.84",
                                    "8": "Psychiatrists",
                                    "9": "Professionals reading industry news and medical information on psychiatry.",
                                    "10": "2019-02-06 21:00:01.0000000",
                                    "11": "2019-02-07 15:17:10.0000000"
                                },
                                {
                                    "0": "2",
                                    "1": "2019",
                                    "2": "2019-02-01",
                                    "3": "45664",
                                    "4": "3.4",
                                    "5": "1.46",
                                    "6": "327",
                                    "7": "70.83",
                                    "8": "Headphone Shoppers",
                                    "9": "Consumers comparing and shopping for headphones and audio products.",
                                    "10": "2019-02-06 21:00:01.0000000",
                                    "11": "2019-02-07 15:17:10.0000000"
                                },
                                {
                                    "0": "2",
                                    "1": "2019",
                                    "2": "2019-02-01",
                                    "3": "45665",
                                    "4": "2.43",
                                    "5": "0.88",
                                    "6": "1035",
                                    "7": "7.67",
                                    "8": "Reptile Enthusiasts",
                                    "9": "People reading about reptiles and shopping for pet products and services.",
                                    "10": "2019-02-06 21:00:01.0000000",
                                    "11": "2019-02-07 15:17:11.0000000"
                                },
                                {
                                    "0": "2",
                                    "1": "2019",
                                    "2": "2019-02-01",
                                    "3": "45666",
                                    "4": "2.51",
                                    "5": "1.04",
                                    "6": "884",
                                    "7": "21.14",
                                    "8": "Bird and Parrot Lovers",
                                    "9": "People reading about birds and parrots and shopping for pet products and services.",
                                    "10": "2019-02-06 21:00:01.0000000",
                                    "11": "2019-02-07 15:17:11.0000000"
                                },
                                {
                                    "0": "2",
                                    "1": "2019",
                                    "2": "2019-02-01",
                                    "3": "45667",
                                    "4": "3.77",
                                    "5": "1.5",
                                    "6": "280",
                                    "7": "75.02",
                                    "8": "Blades and Hunting Knife Shoppers",
                                    "9": "Consumers shopping for blades and knives for hunting and outdoor activities.",
                                    "10": "2019-02-06 21:00:01.0000000",
                                    "11": "2019-02-07 15:17:11.0000000"
                                },
                                {
                                    "0": "2",
                                    "1": "2019",
                                    "2": "2019-02-01",
                                    "3": "45668",
                                    "4": "1.83",
                                    "5": "0.83",
                                    "6": "1058",
                                    "7": "5.62",
                                    "8": "Pizza Lovers",
                                    "9": "Consumers researching pizza companies and purchasing pizza online.",
                                    "10": "2019-02-06 21:00:01.0000000",
                                    "11": "2019-02-07 15:17:12.0000000"
                                },
                                {
                                    "0": "2",
                                    "1": "2019",
                                    "2": "2019-02-01",
                                    "3": "45669",
                                    "4": "2.45",
                                    "5": "0.94",
                                    "6": "992",
                                    "7": "11.51",
                                    "8": "Cocktail Recipe Researchers",
                                    "9": "People researching recipes for cocktails and mixed drinks.",
                                    "10": "2019-02-06 21:00:01.0000000",
                                    "11": "2019-02-07 15:17:12.0000000"
                                },
                                {
                                    "0": "2",
                                    "1": "2019",
                                    "2": "2019-02-01",
                                    "3": "45670",
                                    "4": "5.04",
                                    "5": "1.91",
                                    "6": "79",
                                    "7": "92.95",
                                    "8": "Womens Swimsuit Shoppers",
                                    "9": "Consumers shopping for womens swimsuits and beach apparel.",
                                    "10": "2019-02-06 21:00:01.0000000",
                                    "11": "2019-02-07 15:17:12.0000000"
                                },
                                {
                                    "0": "2",
                                    "1": "2019",
                                    "2": "2019-02-01",
                                    "3": "45671",
                                    "4": "4.85",
                                    "5": "1.76",
                                    "6": "111",
                                    "7": "90.1",
                                    "8": "Mens Suit Shoppers",
                                    "9": "Consumers shopping for mens suits and formal attire.",
                                    "10": "2019-02-06 21:00:01.0000000",
                                    "11": "2019-02-07 15:17:13.0000000"
                                },
                                {
                                    "0": "2",
                                    "1": "2019",
                                    "2": "2019-02-01",
                                    "3": "45672",
                                    "4": "2.62",
                                    "5": "1.09",
                                    "6": "813",
                                    "7": "27.48",
                                    "8": "Bible Study Researchers",
                                    "9": "People reading information on Christianity and researching resources for bible studies.",
                                    "10": "2019-02-06 21:00:01.0000000",
                                    "11": "2019-02-07 15:17:13.0000000"
                                },
                                {
                                    "0": "2",
                                    "1": "2019",
                                    "2": "2019-02-01",
                                    "3": "45673",
                                    "4": "3.04",
                                    "5": "1.31",
                                    "6": "508",
                                    "7": "54.68",
                                    "8": "Fundraising Advocates",
                                    "9": "People researching fundraising organizations to offer support or donations.",
                                    "10": "2019-02-06 21:00:01.0000000",
                                    "11": "2019-03-11 12:36:24.0000000"
                                },
                                {
                                    "0": "2",
                                    "1": "2019",
                                    "2": "2019-02-01",
                                    "3": "45674",
                                    "4": "2.7",
                                    "5": "1.15",
                                    "6": "732",
                                    "7": "34.7",
                                    "8": "Medical Technology News Readers",
                                    "9": "People reading industry news and following business trends for medical technology companies.",
                                    "10": "2019-02-06 21:00:01.0000000",
                                    "11": "2019-02-07 15:17:13.0000000"
                                },
                                {
                                    "0": "2",
                                    "1": "2019",
                                    "2": "2019-02-01",
                                    "3": "45675",
                                    "4": "2.92",
                                    "5": "1.36",
                                    "6": "447",
                                    "7": "60.12",
                                    "8": "Home Medical Supplies Shoppers",
                                    "9": "Consumers shopping for medical supplies for home healthcare.",
                                    "10": "2019-02-06 21:00:01.0000000",
                                    "11": "2019-03-11 12:36:24.0000000"
                                },
                                {
                                    "0": "2",
                                    "1": "2019",
                                    "2": "2019-02-01",
                                    "3": "45676",
                                    "4": "4.72",
                                    "5": "1.7",
                                    "6": "147",
                                    "7": "86.89",
                                    "8": "Scrubs Uniforms Shoppers",
                                    "9": "Consumers shopping for scrubs and other medical uniforms.",
                                    "10": "2019-02-06 21:00:01.0000000",
                                    "11": "2019-02-07 15:17:14.0000000"
                                },
                                {
                                    "0": "2",
                                    "1": "2019",
                                    "2": "2019-02-01",
                                    "3": "45677",
                                    "4": "4.52",
                                    "5": "1.69",
                                    "6": "152",
                                    "7": "86.44",
                                    "8": "Sleepwear Shoppers",
                                    "9": "Consumers shopping for sleepwear.",
                                    "10": "2019-02-06 21:00:02.0000000",
                                    "11": "2019-02-07 15:17:14.0000000"
                                },
                                {
                                    "0": "2",
                                    "1": "2019",
                                    "2": "2019-02-01",
                                    "3": "45678",
                                    "4": "3.27",
                                    "5": "1.37",
                                    "6": "427",
                                    "7": "61.91",
                                    "8": "Mens Underwear Shoppers",
                                    "9": "Consumers shopping for mens underwear.",
                                    "10": "2019-02-06 21:00:02.0000000",
                                    "11": "2019-03-12 13:05:06.0000000"
                                },
                                {
                                    "0": "2",
                                    "1": "2019",
                                    "2": "2019-02-01",
                                    "3": "45679",
                                    "4": "3.67",
                                    "5": "1.34",
                                    "6": "476",
                                    "7": "57.54",
                                    "8": "Government Student Loan Researchers",
                                    "9": "People researching and comparing student loan offerings from government institutions.",
                                    "10": "2019-02-06 21:00:02.0000000",
                                    "11": "2019-02-07 15:17:14.0000000"
                                },
                                {
                                    "0": "2",
                                    "1": "2019",
                                    "2": "2019-02-01",
                                    "3": "45725",
                                    "4": "4.05",
                                    "5": "1.82",
                                    "6": "96",
                                    "7": "91.44",
                                    "8": "Trampoline Shoppers",
                                    "9": "Consumers researching trampoline activities and shopping for trampolines.",
                                    "10": "2019-02-07 21:00:00.0000000",
                                    "11": "2019-02-12 10:52:31.0000000"
                                },
                                {
                                    "0": "3",
                                    "1": "2019",
                                    "2": "2019-03-01",
                                    "3": "47065",
                                    "4": "2.45",
                                    "5": "1.39",
                                    "6": "400",
                                    "7": "64.79",
                                    "8": "Diabetes Support Forum Readers",
                                    "9": "People reading news and advice on preventing and treating diabetes.",
                                    "10": "2019-03-05 18:00:00.0000000",
                                    "11": "2019-03-07 11:46:12.0000000"
                                },
                                {
                                    "0": "3",
                                    "1": "2019",
                                    "2": "2019-03-01",
                                    "3": "47115",
                                    "4": "1.85",
                                    "5": "1.16",
                                    "6": "734",
                                    "7": "35.39",
                                    "8": "Electric Vehicle Shoppers",
                                    "9": "People researching and comparing electric vehicles.",
                                    "10": "2019-03-05 22:00:00.0000000",
                                    "11": "2019-03-11 12:36:24.0000000"
                                },
                                {
                                    "0": "3",
                                    "1": "2019",
                                    "2": "2019-03-01",
                                    "3": "47850",
                                    "4": "2.58",
                                    "5": "1.59",
                                    "6": "205",
                                    "7": "81.95",
                                    "8": "Asheville Trip Planners",
                                    "9": "People researching attractions and accommodations in Asheville. These consumers are more likely to spend money on flights, hotels, lodging and local attractions.",
                                    "10": "2019-03-15 22:00:02.0000000",
                                    "11": "2019-03-21 15:33:09.0000000"
                                },
                                {
                                    "0": "4",
                                    "1": "2019",
                                    "2": "2019-04-01",
                                    "3": "49502",
                                    "4": "1.87",
                                    "5": "1.12",
                                    "6": "768",
                                    "7": "30.12",
                                    "8": "Veterinarians",
                                    "9": "Veterinarians",
                                    "10": "2019-04-08 18:00:05.0000000",
                                    "11": "2019-07-09 13:57:13.0000000"
                                },
                                {
                                    "0": "4",
                                    "1": "2019",
                                    "2": "2019-04-01",
                                    "3": "49972",
                                    "4": "2.11",
                                    "5": "1.15",
                                    "6": "722",
                                    "7": "34.3",
                                    "8": "Horseback Riding Enthusiasts",
                                    "9": "People reading horseback riding news and resources.",
                                    "10": "2019-04-15 18:00:00.0000000",
                                    "11": "2019-04-24 17:40:04.0000000"
                                },
                                {
                                    "0": "4",
                                    "1": "2019",
                                    "2": "2019-04-01",
                                    "3": "49973",
                                    "4": "1.66",
                                    "5": "1.03",
                                    "6": "910",
                                    "7": "17.2",
                                    "8": "Farm Finance Researchers",
                                    "9": "People researching financial institutions specializing in farming business.",
                                    "10": "2019-04-15 18:00:00.0000000",
                                    "11": "2019-04-24 17:40:04.0000000"
                                },
                                {
                                    "0": "4",
                                    "1": "2019",
                                    "2": "2019-04-01",
                                    "3": "49974",
                                    "4": "2",
                                    "5": "1.1",
                                    "6": "799",
                                    "7": "27.3",
                                    "8": "Agricultural and Food Issues Researchers",
                                    "9": "People researching organizations for food and agriculture issues.",
                                    "10": "2019-04-15 18:00:00.0000000",
                                    "11": "2019-04-24 17:40:04.0000000"
                                },
                                {
                                    "0": "4",
                                    "1": "2019",
                                    "2": "2019-04-01",
                                    "3": "49976",
                                    "4": "2.35",
                                    "5": "1.27",
                                    "6": "530",
                                    "7": "51.77",
                                    "8": "Agriculture and Climate Advocates",
                                    "9": "People supporting organizations for agriculture and climate advocacy.",
                                    "10": "2019-04-15 18:00:00.0000000",
                                    "11": "2019-04-24 17:40:04.0000000"
                                },
                                {
                                    "0": "4",
                                    "1": "2019",
                                    "2": "2019-04-01",
                                    "3": "49977",
                                    "4": "2.17",
                                    "5": "1.15",
                                    "6": "722",
                                    "7": "34.3",
                                    "8": "DIY Upcycle Home Project Planners",
                                    "9": "People researching and planning home DIY and upcycle projects.",
                                    "10": "2019-04-15 18:00:00.0000000",
                                    "11": "2019-04-24 17:40:04.0000000"
                                },
                                {
                                    "0": "4",
                                    "1": "2019",
                                    "2": "2019-04-01",
                                    "3": "49978",
                                    "4": "2.19",
                                    "5": "1.17",
                                    "6": "695",
                                    "7": "36.76",
                                    "8": "Homeschooling Parents",
                                    "9": "People researching academic projects and programs to homeschool their children.",
                                    "10": "2019-04-15 18:00:00.0000000",
                                    "11": "2019-04-24 17:40:04.0000000"
                                },
                                {
                                    "0": "4",
                                    "1": "2019",
                                    "2": "2019-04-01",
                                    "3": "49979",
                                    "4": "2.56",
                                    "5": "1.7",
                                    "6": "145",
                                    "7": "86.81",
                                    "8": "Cape Cod News Readers",
                                    "9": "People interested in reading about local news and events surrounding the Cape Cod, MA area.",
                                    "10": "2019-04-15 18:00:00.0000000",
                                    "11": "2019-04-18 09:00:05.0000000"
                                },
                                {
                                    "0": "5",
                                    "1": "2019",
                                    "2": "2019-05-01",
                                    "3": "51678",
                                    "4": "1.71",
                                    "5": "1.53",
                                    "6": "475",
                                    "7": "44.57",
                                    "8": "Plumbers",
                                    "9": "Professionals reading industry news and researching products and services for plumbers.",
                                    "10": "2019-05-06 22:00:00.0000000",
                                    "11": "2019-05-07 18:50:04.0000000"
                                }
                            ]
                        },
                        "text/html": [
                            "<table>",
                            "<tr><th>_month</th><th>_year</th><th>month_year</th><th>interest_id</th><th>composition</th><th>index_value</th><th>ranking</th><th>percentile_ranking</th><th>interest_name</th><th>interest_summary</th><th>created_at</th><th>last_modified</th></tr>",
                            "<tr><td>7</td><td>2018</td><td>2018-07-01</td><td>32701</td><td>4.23</td><td>1.41</td><td>483</td><td>33.74</td><td>Womens Equality Advocates</td><td>People visiting sites advocating for womens equal rights.</td><td>2018-07-06 14:35:03.0000000</td><td>2018-07-06 14:35:03.0000000</td></tr>",
                            "<tr><td>7</td><td>2018</td><td>2018-07-01</td><td>32702</td><td>3.56</td><td>1.18</td><td>580</td><td>20.44</td><td>Romantics</td><td>People reading about romance and researching ideas for planning romantic moments.</td><td>2018-07-06 14:35:04.0000000</td><td>2018-07-06 14:35:04.0000000</td></tr>",
                            "<tr><td>7</td><td>2018</td><td>2018-07-01</td><td>32703</td><td>5.53</td><td>1.8</td><td>375</td><td>48.56</td><td>School Supply Shoppers</td><td>Consumers shopping for classroom supplies for K-12 students.</td><td>2018-07-06 14:35:04.0000000</td><td>2018-07-06 14:35:04.0000000</td></tr>",
                            "<tr><td>7</td><td>2018</td><td>2018-07-01</td><td>32704</td><td>8.04</td><td>2.27</td><td>225</td><td>69.14</td><td>Major Airline Customers</td><td>People visiting sites for major airline brands to plan and view travel itinerary.</td><td>2018-07-06 14:35:04.0000000</td><td>2018-07-06 14:35:04.0000000</td></tr>",
                            "<tr><td>7</td><td>2018</td><td>2018-07-01</td><td>32705</td><td>4.38</td><td>1.34</td><td>505</td><td>30.73</td><td>Certified Events Professionals</td><td>Professionals reading industry news and researching products and services for event management.</td><td>2018-07-06 14:35:04.0000000</td><td>2018-07-06 14:35:04.0000000</td></tr>",
                            "<tr><td>7</td><td>2018</td><td>2018-07-01</td><td>33191</td><td>3.99</td><td>2.11</td><td>283</td><td>61.18</td><td>Online Shoppers</td><td>People who spend money online</td><td>2018-07-17 10:40:03.0000000</td><td>2018-07-17 10:46:58.0000000</td></tr>",
                            "<tr><td>8</td><td>2018</td><td>2018-08-01</td><td>33957</td><td>2.01</td><td>0.84</td><td>704</td><td>8.21</td><td>Call of Duty Enthusiasts</td><td>People reading news and product releases for Call of Duty games and merchandise.</td><td>2018-08-02 16:05:03.0000000</td><td>2018-08-02 16:05:03.0000000</td></tr>",
                            "<tr><td>8</td><td>2018</td><td>2018-08-01</td><td>33958</td><td>1.88</td><td>0.73</td><td>740</td><td>3.52</td><td>Astrology Enthusiasts</td><td>People reading daily horoscopes and astrology content.</td><td>2018-08-02 16:05:03.0000000</td><td>2018-08-02 16:05:03.0000000</td></tr>",
                            "<tr><td>8</td><td>2018</td><td>2018-08-01</td><td>33959</td><td>2.54</td><td>1.86</td><td>67</td><td>91.26</td><td>Boston Bruins Fans</td><td>People reading news about the Boston Bruins and watching games. These consumers are more likely to spend money on team gear.</td><td>2018-08-02 16:05:03.0000000</td><td>2018-08-02 16:05:03.0000000</td></tr>",
                            "<tr><td>8</td><td>2018</td><td>2018-08-01</td><td>33960</td><td>2.68</td><td>1.67</td><td>118</td><td>84.62</td><td>Chicago Blackhawks Fans</td><td>People reading news about the Chicago Blackhawks and watching games. These consumers are more likely to spend money on team gear.</td><td>2018-08-02 16:05:03.0000000</td><td>2018-08-02 16:05:03.0000000</td></tr>",
                            "<tr><td>8</td><td>2018</td><td>2018-08-01</td><td>33961</td><td>2.3</td><td>1.49</td><td>205</td><td>73.27</td><td>Detroit Red Wings Fans</td><td>People reading news about the Detroit Red Wings and watching games. These consumers are more likely to spend money on team gear.</td><td>2018-08-02 16:05:04.0000000</td><td>2018-08-02 16:05:04.0000000</td></tr>",
                            "<tr><td>8</td><td>2018</td><td>2018-08-01</td><td>33962</td><td>1.7</td><td>1.06</td><td>578</td><td>24.64</td><td>Chicago Bears Fans</td><td>People reading news about the Chicago Bears and watching games. These consumers are more likely to spend money on team gear.</td><td>2018-08-02 16:05:04.0000000</td><td>2018-08-02 16:05:04.0000000</td></tr>",
                            "<tr><td>8</td><td>2018</td><td>2018-08-01</td><td>33963</td><td>2.38</td><td>1.52</td><td>182</td><td>76.27</td><td>Denver Broncos Fans</td><td>People reading news about the Denver Broncos and watching games. These consumers are more likely to spend money on team gear.</td><td>2018-08-02 16:05:04.0000000</td><td>2018-08-02 16:05:04.0000000</td></tr>",
                            "<tr><td>8</td><td>2018</td><td>2018-08-01</td><td>33964</td><td>2.35</td><td>1.3</td><td>360</td><td>53.06</td><td>Milwaukee Bucks Fans</td><td>People reading news about the Milwaukee Bucks and watching games. These consumers are more likely to spend money on team gear.</td><td>2018-08-02 16:05:04.0000000</td><td>2018-08-02 16:05:04.0000000</td></tr>",
                            "<tr><td>8</td><td>2018</td><td>2018-08-01</td><td>33965</td><td>2.23</td><td>1.15</td><td>489</td><td>36.25</td><td>Minnesota Timberwolves Fans</td><td>People reading news about the Minnesota Timberwolves and watching games. These consumers are more likely to spend money on team gear.</td><td>2018-08-02 16:05:04.0000000</td><td>2018-08-02 16:05:04.0000000</td></tr>",
                            "<tr><td>8</td><td>2018</td><td>2018-08-01</td><td>33966</td><td>2.39</td><td>1.3</td><td>360</td><td>53.06</td><td>New York Knicks Fans</td><td>People reading news about the New York Knicks and watching games. These consumers are more likely to spend money on team gear.</td><td>2018-08-02 16:05:04.0000000</td><td>2018-08-02 16:05:04.0000000</td></tr>",
                            "<tr><td>8</td><td>2018</td><td>2018-08-01</td><td>33967</td><td>2.85</td><td>1.63</td><td>131</td><td>82.92</td><td>New York Rangers Fans</td><td>People reading news about the New York Rangers and watching games. These consumers are more likely to spend money on team gear.</td><td>2018-08-02 16:05:04.0000000</td><td>2018-08-02 16:05:04.0000000</td></tr>",
                            "<tr><td>8</td><td>2018</td><td>2018-08-01</td><td>33968</td><td>2.15</td><td>1.12</td><td>517</td><td>32.59</td><td>Oklahoma City Thunder Fans</td><td>People reading news about the Oklahoma City Thunder and watching games. These consumers are more likely to spend money on team gear.</td><td>2018-08-02 16:05:04.0000000</td><td>2018-08-02 16:05:04.0000000</td></tr>",
                            "<tr><td>8</td><td>2018</td><td>2018-08-01</td><td>33969</td><td>2.59</td><td>1.52</td><td>182</td><td>76.27</td><td>Pittsburgh Penguins Fans</td><td>People reading news about the Pittsburgh Penguins and watching games. These consumers are more likely to spend money on team gear.</td><td>2018-08-02 16:05:04.0000000</td><td>2018-08-02 16:05:04.0000000</td></tr>",
                            "<tr><td>8</td><td>2018</td><td>2018-08-01</td><td>33970</td><td>2.38</td><td>1.34</td><td>313</td><td>59.19</td><td>San Antonio Spurs Fans</td><td>People reading news about the San Antonio Spurs and watching games. These consumers are more likely to spend money on team gear.</td><td>2018-08-02 16:05:04.0000000</td><td>2018-08-02 16:05:04.0000000</td></tr>",
                            "<tr><td>8</td><td>2018</td><td>2018-08-01</td><td>33971</td><td>4.92</td><td>1.81</td><td>74</td><td>90.35</td><td>Sun Protection Shoppers</td><td>Consumers comparing brands and shopping for sun protection products.</td><td>2018-08-02 16:05:05.0000000</td><td>2018-08-02 16:05:05.0000000</td></tr>",
                            "<tr><td>8</td><td>2018</td><td>2018-08-01</td><td>33972</td><td>2.1</td><td>1.21</td><td>438</td><td>42.89</td><td>Toronto Raptors Fans</td><td>People reading news about the Toronto Raptors and watching games. These consumers are more likely to spend money on team gear.</td><td>2018-08-02 16:05:05.0000000</td><td>2018-08-02 16:05:05.0000000</td></tr>",
                            "<tr><td>8</td><td>2018</td><td>2018-08-01</td><td>34077</td><td>4.52</td><td>1.5</td><td>199</td><td>74.05</td><td>Candy Shoppers</td><td>Consumers researching candy companies and purchasing candy online.</td><td>2018-08-07 17:10:03.0000000</td><td>2018-08-07 17:10:03.0000000</td></tr>",
                            "<tr><td>8</td><td>2018</td><td>2018-08-01</td><td>34078</td><td>3.67</td><td>1.24</td><td>413</td><td>46.15</td><td>Cookie Eaters</td><td>Consumers researching cookie companies and purchasing cookies online.</td><td>2018-08-07 17:10:03.0000000</td><td>2018-08-07 17:10:03.0000000</td></tr>",
                            "<tr><td>8</td><td>2018</td><td>2018-08-01</td><td>34079</td><td>2.2</td><td>1.28</td><td>378</td><td>50.72</td><td>Detroit Lions Fans</td><td>People reading news about the Detroit Lions and watching games. These consumers are more likely to spend money on team gear.</td><td>2018-08-07 17:10:03.0000000</td><td>2018-08-07 17:10:03.0000000</td></tr>",
                            "<tr><td>8</td><td>2018</td><td>2018-08-01</td><td>34081</td><td>1.73</td><td>1.07</td><td>565</td><td>26.34</td><td>Miami Dolphins Fans</td><td>People reading news about the Miami Dolphins and watching games. These consumers are more likely to spend money on team gear.</td><td>2018-08-07 17:10:03.0000000</td><td>2018-08-07 17:10:03.0000000</td></tr>",
                            "<tr><td>8</td><td>2018</td><td>2018-08-01</td><td>34082</td><td>3.45</td><td>1.7</td><td>107</td><td>86.05</td><td>New England Patriots Fans</td><td>People reading news about the New England Patriots and watching games. These consumers are more likely to spend money on team gear.</td><td>2018-08-07 17:10:04.0000000</td><td>2018-08-07 17:10:04.0000000</td></tr>",
                            "<tr><td>8</td><td>2018</td><td>2018-08-01</td><td>34083</td><td>2.12</td><td>1.29</td><td>371</td><td>51.63</td><td>New York Giants Fans</td><td>People reading news about the New York Giants and watching games. These consumers are more likely to spend money on team gear.</td><td>2018-08-07 17:10:04.0000000</td><td>2018-08-07 17:10:04.0000000</td></tr>",
                            "<tr><td>8</td><td>2018</td><td>2018-08-01</td><td>34084</td><td>2.3</td><td>1.46</td><td>228</td><td>70.27</td><td>New York Jets Fans</td><td>People reading news about the New York Jets and watching games. These consumers are more likely to spend money on team gear.</td><td>2018-08-07 17:10:04.0000000</td><td>2018-08-07 17:10:04.0000000</td></tr>",
                            "<tr><td>8</td><td>2018</td><td>2018-08-01</td><td>34085</td><td>1.96</td><td>1.14</td><td>500</td><td>34.81</td><td>Oakland Raiders Fans</td><td>People reading news about the Oakland Raiders and watching games. These consumers are more likely to spend money on team gear.</td><td>2018-08-07 17:10:04.0000000</td><td>2018-08-07 17:10:04.0000000</td></tr>",
                            "<tr><td>8</td><td>2018</td><td>2018-08-01</td><td>34086</td><td>2.71</td><td>1.41</td><td>260</td><td>66.1</td><td>Pittsburgh Steelers Fans</td><td>People reading news about the Pittsburgh Steelers and watching games. These consumers are more likely to spend money on team gear.</td><td>2018-08-07 17:10:04.0000000</td><td>2018-08-07 17:10:04.0000000</td></tr>",
                            "<tr><td>8</td><td>2018</td><td>2018-08-01</td><td>34087</td><td>2.01</td><td>1.24</td><td>413</td><td>46.15</td><td>San Francisco 49ers Fans</td><td>People reading news about the San Francisco 49ers and watching games. These consumers are more likely to spend money on team gear.</td><td>2018-08-07 17:10:04.0000000</td><td>2018-08-07 17:10:04.0000000</td></tr>",
                            "<tr><td>8</td><td>2018</td><td>2018-08-01</td><td>34088</td><td>3.5</td><td>1.41</td><td>260</td><td>66.1</td><td>Soda Drinkers</td><td>Consumers researching soda companies and purchasing soda online.</td><td>2018-08-07 17:10:04.0000000</td><td>2018-08-07 17:10:04.0000000</td></tr>",
                            "<tr><td>8</td><td>2018</td><td>2018-08-01</td><td>34276</td><td>2.86</td><td>1.1</td><td>541</td><td>29.47</td><td>Romance Movie and TV enthusiasts</td><td>Consumers researching popular romance movies and TV shows.</td><td>2018-08-13 13:35:02.0000000</td><td>2018-08-13 13:35:02.0000000</td></tr>",
                            "<tr><td>8</td><td>2018</td><td>2018-08-01</td><td>34459</td><td>3.32</td><td>1.48</td><td>216</td><td>71.84</td><td>Coffee Bean Shoppers</td><td>Consumers researching coffee brands and purchasing coffee beans.</td><td>2018-08-15 18:00:03.0000000</td><td>2018-08-15 18:00:03.0000000</td></tr>",
                            "<tr><td>8</td><td>2018</td><td>2018-08-01</td><td>34460</td><td>2.55</td><td>1.13</td><td>509</td><td>33.64</td><td>Ice Cream Shoppers</td><td>Consumers researching ice cream brands and purchasing ice cream products.</td><td>2018-08-15 18:00:03.0000000</td><td>2018-08-15 18:00:03.0000000</td></tr>",
                            "<tr><td>8</td><td>2018</td><td>2018-08-01</td><td>34461</td><td>3.31</td><td>1.53</td><td>176</td><td>77.05</td><td>Jazz Music Fans</td><td>People reading about jazz music and musicians.</td><td>2018-08-15 18:00:03.0000000</td><td>2018-08-15 18:00:03.0000000</td></tr>",
                            "<tr><td>8</td><td>2018</td><td>2018-08-01</td><td>34462</td><td>2.73</td><td>1.73</td><td>97</td><td>87.35</td><td>Baltimore Orioles Fans</td><td>People reading news about the Baltimore Orioles and watching games. These consumers are more likely to spend money on team gear.</td><td>2018-08-15 18:00:03.0000000</td><td>2018-08-15 18:00:03.0000000</td></tr>",
                            "<tr><td>8</td><td>2018</td><td>2018-08-01</td><td>34463</td><td>3.06</td><td>2.1</td><td>36</td><td>95.31</td><td>Boston Red Sox Fans</td><td>People reading news about the Boston Red Sox and watching games. These consumers are more likely to spend money on team gear.</td><td>2018-08-15 18:00:04.0000000</td><td>2018-08-15 18:00:04.0000000</td></tr>",
                            "<tr><td>8</td><td>2018</td><td>2018-08-01</td><td>34464</td><td>3</td><td>1.91</td><td>57</td><td>92.57</td><td>New York Yankees Fans</td><td>People reading news about the New York Yankees and watching games. These consumers are more likely to spend money on team gear.</td><td>2018-08-15 18:00:04.0000000</td><td>2018-08-15 18:00:04.0000000</td></tr>",
                            "<tr><td>8</td><td>2018</td><td>2018-08-01</td><td>34465</td><td>3.34</td><td>2.34</td><td>12</td><td>98.44</td><td>Toronto Blue Jays Fans</td><td>People reading news about the Toronto Blue Jays and watching games. These consumers are more likely to spend money on team gear.</td><td>2018-08-15 18:00:04.0000000</td><td>2018-08-15 18:00:04.0000000</td></tr>",
                            "<tr><td>8</td><td>2018</td><td>2018-08-01</td><td>34466</td><td>2.41</td><td>1.52</td><td>182</td><td>76.27</td><td>Detroit Tigers Fans</td><td>People reading news about the Detroit Tigers and watching games. These consumers are more likely to spend money on team gear.</td><td>2018-08-15 18:00:04.0000000</td><td>2018-08-15 18:00:04.0000000</td></tr>",
                            "<tr><td>8</td><td>2018</td><td>2018-08-01</td><td>34467</td><td>3.39</td><td>1.32</td><td>336</td><td>56.19</td><td>Little Rock Trip Planners</td><td>People researching attractions and accommodations in Little Rock, Arkansas. These consumers are more likely to spend money on flights, hotels, and local attractions.</td><td>2018-08-15 18:00:04.0000000</td><td>2018-08-15 18:00:04.0000000</td></tr>",
                            "<tr><td>8</td><td>2018</td><td>2018-08-01</td><td>34468</td><td>3.49</td><td>1.36</td><td>294</td><td>61.67</td><td>Hard Rock Hotel &amp; Casino Trip Planners</td><td>Consumers comparing and booking accommodations at Hard Rock Hotels and Casinos.</td><td>2018-08-15 18:00:04.0000000</td><td>2018-08-15 18:00:04.0000000</td></tr>",
                            "<tr><td>8</td><td>2018</td><td>2018-08-01</td><td>34469</td><td>4.54</td><td>1.84</td><td>68</td><td>91.13</td><td>Jazz Festival Enthusiasts</td><td>People researching and planning to attend jazz music festivals.</td><td>2018-08-15 18:00:04.0000000</td><td>2018-08-15 18:00:04.0000000</td></tr>",
                            "<tr><td>8</td><td>2018</td><td>2018-08-01</td><td>34470</td><td>2.4</td><td>0.92</td><td>675</td><td>11.99</td><td>Drive-In Theater Enthusiasts</td><td>People researching the history of drive-in theaters and buying movie tickets.</td><td>2018-08-15 18:00:04.0000000</td><td>2018-08-15 18:00:04.0000000</td></tr>",
                            "<tr><td>8</td><td>2018</td><td>2018-08-01</td><td>34471</td><td>2.59</td><td>0.95</td><td>657</td><td>14.34</td><td>Cabin Rental Researchers</td><td>People researching and booking cabin rentals accommodations.</td><td>2018-08-15 18:00:04.0000000</td><td>2018-08-15 18:00:04.0000000</td></tr>",
                            "<tr><td>8</td><td>2018</td><td>2018-08-01</td><td>34574</td><td>2.99</td><td>1.69</td><td>111</td><td>85.53</td><td>F1 Racing Enthusiasts</td><td>People visiting websites and reading articles about F1 racing.</td><td>2018-08-17 10:50:03.0000000</td><td>2018-08-17 10:50:03.0000000</td></tr>",
                            "<tr><td>9</td><td>2018</td><td>2018-09-01</td><td>35903</td><td>5.23</td><td>2.14</td><td>26</td><td>96.67</td><td>Trendy Denim Shoppers</td><td>Customers shopping for denim from trendsetting brands.</td><td>2018-09-05 18:10:03.0000000</td><td>2018-09-05 18:10:03.0000000</td></tr>",
                            "<tr><td>9</td><td>2018</td><td>2018-09-01</td><td>35904</td><td>5.19</td><td>2.34</td><td>11</td><td>98.59</td><td>Utility Workwear Shoppers</td><td>Customers shopping for clothes and shoes from utility workwear brands.</td><td>2018-09-05 18:10:04.0000000</td><td>2018-09-05 18:10:04.0000000</td></tr>",
                            "<tr><td>9</td><td>2018</td><td>2018-09-01</td><td>35905</td><td>3.49</td><td>1.4</td><td>235</td><td>69.87</td><td>Athleisure Shoppers</td><td>Customers shopping for clothes and accessories from athleisure and fitness brands.</td><td>2018-09-05 18:10:04.0000000</td><td>2018-09-05 18:10:04.0000000</td></tr>",
                            "<tr><td>9</td><td>2018</td><td>2018-09-01</td><td>35906</td><td>2.74</td><td>1.26</td><td>362</td><td>53.59</td><td>MS Information Researchers</td><td>People researching multiple sclerosis treatments and charities.</td><td>2018-09-05 18:15:03.0000000</td><td>2018-09-05 18:15:03.0000000</td></tr>",
                            "<tr><td>9</td><td>2018</td><td>2018-09-01</td><td>35932</td><td>2.03</td><td>0.84</td><td>714</td><td>8.46</td><td>Easter Decorations and Candy Shoppers</td><td>Consumers shopping for Easter decorations and candy.</td><td>2018-09-06 11:40:04.0000000</td><td>2018-09-14 16:47:29.0000000</td></tr>",
                            "<tr><td>9</td><td>2018</td><td>2018-09-01</td><td>35953</td><td>4.17</td><td>1.75</td><td>80</td><td>89.74</td><td>Kitchen and Bath Professionals</td><td>Professionals reading industry news and researching products and services for kitchen and bathroom construction and design.</td><td>2018-09-06 16:55:03.0000000</td><td>2018-09-06 16:55:03.0000000</td></tr>",
                            "<tr><td>9</td><td>2018</td><td>2018-09-01</td><td>36020</td><td>4.21</td><td>1.54</td><td>151</td><td>80.64</td><td>Architects</td><td>Professionals reading industry news and researching architecture products and services.</td><td>2018-09-07 15:00:03.0000000</td><td>2018-09-07 15:00:03.0000000</td></tr>",
                            "<tr><td>9</td><td>2018</td><td>2018-09-01</td><td>36343</td><td>1.89</td><td>0.8</td><td>736</td><td>5.64</td><td>Computer Processor and Data Center Decision Makers</td><td>Professionals reading industry news and researching products and services for computer processing and data center storage.</td><td>2018-09-14 14:35:03.0000000</td><td>2018-09-14 14:35:03.0000000</td></tr>",
                            "<tr><td>10</td><td>2018</td><td>2018-10-01</td><td>37874</td><td>4.1</td><td>1.86</td><td>111</td><td>87.05</td><td>Spain Trip Planners</td><td>People researching attractions and accommodations in Spain. These consumers are more likely to spend money on flights, hotels, and local attractions.</td><td>2018-10-03 14:15:03.0000000</td><td>2018-10-03 14:15:03.0000000</td></tr>",
                            "<tr><td>10</td><td>2018</td><td>2018-10-01</td><td>37875</td><td>5.6</td><td>2.6</td><td>11</td><td>98.72</td><td>Vermont Trip Planners</td><td>People researching attractions and accommodations in Vermont. These consumers are more likely to spend money on flights, hotels, and local attractions.</td><td>2018-10-03 14:15:03.0000000</td><td>2018-10-03 14:15:03.0000000</td></tr>",
                            "<tr><td>10</td><td>2018</td><td>2018-10-01</td><td>37876</td><td>2.25</td><td>1.32</td><td>511</td><td>40.37</td><td>Jamband Fans</td><td>People reading about jamband music and culture.</td><td>2018-10-03 14:15:03.0000000</td><td>2018-10-03 14:15:03.0000000</td></tr>",
                            "<tr><td>10</td><td>2018</td><td>2018-10-01</td><td>37877</td><td>2.19</td><td>1.28</td><td>548</td><td>36.06</td><td>Dallas Mavericks Fans</td><td>People reading news about the Dallas Mavericks and watching games. These consumers are more likely to spend money on team gear.</td><td>2018-10-03 14:15:03.0000000</td><td>2018-10-03 14:15:03.0000000</td></tr>",
                            "<tr><td>10</td><td>2018</td><td>2018-10-01</td><td>37878</td><td>2.09</td><td>1.23</td><td>593</td><td>30.81</td><td>New Orleans Pelicans Fans</td><td>People reading news about the New Orleans Pelicans and watching games. These consumers are more likely to spend money on team gear.</td><td>2018-10-03 14:15:03.0000000</td><td>2018-10-03 14:15:03.0000000</td></tr>",
                            "<tr><td>10</td><td>2018</td><td>2018-10-01</td><td>37879</td><td>4.25</td><td>1.54</td><td>291</td><td>66.04</td><td>Chess Enthusiasts</td><td>People researching chess techniques and playing chess online.</td><td>2018-10-03 14:15:04.0000000</td><td>2018-10-03 14:15:04.0000000</td></tr>",
                            "<tr><td>10</td><td>2018</td><td>2018-10-01</td><td>37880</td><td>4.46</td><td>1.71</td><td>171</td><td>80.05</td><td>Solitaire Players</td><td>People playing solitaire and card games online.</td><td>2018-10-03 14:15:04.0000000</td><td>2018-10-03 14:15:04.0000000</td></tr>",
                            "<tr><td>10</td><td>2018</td><td>2018-10-01</td><td>37881</td><td>2.28</td><td>1.21</td><td>618</td><td>27.89</td><td>Trivia Enthusiasts</td><td>People researching trivia facts and playing trivia games online.</td><td>2018-10-03 14:15:04.0000000</td><td>2018-10-03 14:15:04.0000000</td></tr>",
                            "<tr><td>10</td><td>2018</td><td>2018-10-01</td><td>37882</td><td>2.57</td><td>1.23</td><td>593</td><td>30.81</td><td>Home Aquarium Enthusiasts</td><td>Consumers researching or purchasing home aquarium products and services.</td><td>2018-10-03 14:15:04.0000000</td><td>2018-10-03 14:15:04.0000000</td></tr>",
                            "<tr><td>10</td><td>2018</td><td>2018-10-01</td><td>37883</td><td>3.63</td><td>1.58</td><td>254</td><td>70.36</td><td>Shapewear &amp; Leggings Shoppers</td><td>Consumers shopping for leggings and shapewear apparel.</td><td>2018-10-03 14:15:04.0000000</td><td>2018-10-03 14:15:04.0000000</td></tr>",
                            "<tr><td>10</td><td>2018</td><td>2018-10-01</td><td>37887</td><td>3.08</td><td>1.38</td><td>430</td><td>49.82</td><td>Gift Givers</td><td>Consumers shopping for gift cards and other gifts.</td><td>2018-10-03 14:45:03.0000000</td><td>2018-10-03 14:45:03.0000000</td></tr>",
                            "<tr><td>10</td><td>2018</td><td>2018-10-01</td><td>38283</td><td>3.16</td><td>1.39</td><td>425</td><td>50.41</td><td>Womens Subscription Box Shoppers</td><td>Consumers researching and purchasing subscription boxes for womens products and accessories.</td><td>2018-10-10 15:20:04.0000000</td><td>2018-10-10 15:20:04.0000000</td></tr>",
                            "<tr><td>10</td><td>2018</td><td>2018-10-01</td><td>38284</td><td>2.42</td><td>1.26</td><td>570</td><td>33.49</td><td>Portuguese Food Enthusiasts</td><td>People reading about Portuguese food and researching recipes.</td><td>2018-10-10 15:20:04.0000000</td><td>2018-10-10 15:20:04.0000000</td></tr>",
                            "<tr><td>10</td><td>2018</td><td>2018-10-01</td><td>38350</td><td>2.2</td><td>1.2</td><td>630</td><td>26.49</td><td>Indian Food Enthusiasts</td><td>People reading about Indian food and researching recipes.</td><td>2018-10-11 12:20:04.0000000</td><td>2018-10-11 12:20:04.0000000</td></tr>",
                            "<tr><td>10</td><td>2018</td><td>2018-10-01</td><td>38351</td><td>3.02</td><td>1.43</td><td>393</td><td>54.14</td><td>Xtreme Sports Fans</td><td>People reading news about professional xtreme sports and purchasing gear.</td><td>2018-10-11 12:20:04.0000000</td><td>2019-01-16 09:11:30.0000000</td></tr>",
                            "<tr><td>10</td><td>2018</td><td>2018-10-01</td><td>38352</td><td>2.28</td><td>1.23</td><td>593</td><td>30.81</td><td>Lawn and Home Pest Control Researchers</td><td>Consumers researching lawn and home pest control products and techniques.</td><td>2018-10-11 12:20:04.0000000</td><td>2018-10-11 12:20:04.0000000</td></tr>",
                            "<tr><td>10</td><td>2018</td><td>2018-10-01</td><td>38353</td><td>3.53</td><td>1.55</td><td>281</td><td>67.21</td><td>Netherlands Trip Planners</td><td>People researching attractions and accommodations in the Netherlands. These consumers are more likely to spend money on flights, hotels, and local attractions.</td><td>2018-10-11 12:20:04.0000000</td><td>2018-10-11 12:20:04.0000000</td></tr>",
                            "<tr><td>10</td><td>2018</td><td>2018-10-01</td><td>38354</td><td>2.71</td><td>1.34</td><td>492</td><td>42.59</td><td>Train Travelers</td><td>People researching and booking train travel accommodations.</td><td>2018-10-11 12:20:04.0000000</td><td>2018-10-11 12:20:04.0000000</td></tr>",
                            "<tr><td>10</td><td>2018</td><td>2018-10-01</td><td>38355</td><td>3.16</td><td>1.61</td><td>228</td><td>73.4</td><td>Private Jet Traveler</td><td>People researching and booking private jet travel accommodations.</td><td>2018-10-11 12:20:04.0000000</td><td>2018-10-11 12:20:04.0000000</td></tr>",
                            "<tr><td>10</td><td>2018</td><td>2018-10-01</td><td>38356</td><td>4.08</td><td>1.96</td><td>79</td><td>90.78</td><td>Grateful Dead Fans</td><td>People reading about the Grateful Dead, their music, and similar musicians.</td><td>2018-10-11 12:20:04.0000000</td><td>2018-10-11 12:20:04.0000000</td></tr>",
                            "<tr><td>10</td><td>2018</td><td>2018-10-01</td><td>38357</td><td>3.41</td><td>1.64</td><td>215</td><td>74.91</td><td>Jam Band Festival Fans</td><td>People researching and planning to attend jam band music festivals.</td><td>2018-10-11 12:20:04.0000000</td><td>2018-10-11 12:20:04.0000000</td></tr>",
                            "<tr><td>10</td><td>2018</td><td>2018-10-01</td><td>38358</td><td>2.21</td><td>1.07</td><td>731</td><td>14.7</td><td>Off the Grid Living Enthusiasts</td><td>People researching living off the grid and shopping for products and equipment.</td><td>2018-10-11 12:20:04.0000000</td><td>2018-10-11 12:20:04.0000000</td></tr>",
                            "<tr><td>10</td><td>2018</td><td>2018-10-01</td><td>38359</td><td>3.12</td><td>1.33</td><td>500</td><td>41.66</td><td>Christian Voters</td><td>People researching political issues for Christian voters.</td><td>2018-10-11 12:20:05.0000000</td><td>2018-10-11 12:20:05.0000000</td></tr>",
                            "<tr><td>10</td><td>2018</td><td>2018-10-01</td><td>38360</td><td>3.25</td><td>1.62</td><td>223</td><td>73.98</td><td>Northeastern Voters</td><td>People researching voter registration options and political issues for voters in Northeastern states.</td><td>2018-10-11 12:20:05.0000000</td><td>2018-10-11 12:20:05.0000000</td></tr>",
                            "<tr><td>10</td><td>2018</td><td>2018-10-01</td><td>38361</td><td>2.36</td><td>1.15</td><td>676</td><td>21.12</td><td>Mid-Atlantic Voters</td><td>People researching voter registration options and political issues for voters in Mid-Atlantic states.</td><td>2018-10-11 12:20:05.0000000</td><td>2018-10-11 12:20:05.0000000</td></tr>",
                            "<tr><td>10</td><td>2018</td><td>2018-10-01</td><td>38362</td><td>3.16</td><td>1.48</td><td>338</td><td>60.56</td><td>South Atlantic Voters</td><td>People researching voter registration options and political issues for voters in South Atlantic states.</td><td>2018-10-11 12:20:05.0000000</td><td>2018-10-11 12:20:05.0000000</td></tr>",
                            "<tr><td>10</td><td>2018</td><td>2018-10-01</td><td>38363</td><td>2.52</td><td>1.27</td><td>562</td><td>34.42</td><td>Southeastern Voters</td><td>People researching voter registration options and political issues for voters in Southeastern states.</td><td>2018-10-11 12:20:05.0000000</td><td>2018-10-11 12:20:05.0000000</td></tr>",
                            "<tr><td>10</td><td>2018</td><td>2018-10-01</td><td>38364</td><td>2.73</td><td>1.46</td><td>362</td><td>57.76</td><td>Southern Central Voters</td><td>People researching voter registration options and political issues for voters in Southern Central states.</td><td>2018-10-11 12:20:05.0000000</td><td>2018-10-11 12:20:05.0000000</td></tr>",
                            "<tr><td>10</td><td>2018</td><td>2018-10-01</td><td>38365</td><td>2.64</td><td>1.35</td><td>470</td><td>45.16</td><td>Midwestern Voters</td><td>People researching voter registration options and political issues for voters in Midwestern states.</td><td>2018-10-11 12:20:05.0000000</td><td>2018-10-11 12:20:05.0000000</td></tr>",
                            "<tr><td>10</td><td>2018</td><td>2018-10-01</td><td>38366</td><td>2.89</td><td>1.28</td><td>548</td><td>36.06</td><td>Green Party Policy Supporters</td><td>People researching political issues for Green Party supporters.</td><td>2018-10-11 12:20:05.0000000</td><td>2018-10-11 12:20:05.0000000</td></tr>",
                            "<tr><td>10</td><td>2018</td><td>2018-10-01</td><td>38367</td><td>2.28</td><td>1.3</td><td>537</td><td>37.34</td><td>Tea Party Policy Supporters</td><td>People researching political issues for Tea Party supporters.</td><td>2018-10-11 12:20:05.0000000</td><td>2018-10-11 12:20:05.0000000</td></tr>",
                            "<tr><td>10</td><td>2018</td><td>2018-10-01</td><td>38368</td><td>6.76</td><td>1.55</td><td>281</td><td>67.21</td><td>Volvo Vehicle Shoppers</td><td>People researching and comparing Volvo vehicles. These consumers are more likely to spend money on a new or used car.</td><td>2018-10-11 12:30:03.0000000</td><td>2018-10-11 12:30:03.0000000</td></tr>",
                            "<tr><td>11</td><td>2018</td><td>2018-11-01</td><td>40183</td><td>4.88</td><td>2.37</td><td>28</td><td>96.98</td><td>Canoeing and Kayaking Enthusiasts</td><td>People reading about canoeing and kayaking news and destinations.</td><td>2018-11-02 17:10:04.0000000</td><td>2019-01-16 09:11:30.0000000</td></tr>",
                            "<tr><td>11</td><td>2018</td><td>2018-11-01</td><td>40184</td><td>3.34</td><td>1.88</td><td>109</td><td>88.25</td><td>Scuba Diving Enthusiasts</td><td>People reading about scuba diving news and destinations.</td><td>2018-11-02 17:10:04.0000000</td><td>2019-01-16 09:11:30.0000000</td></tr>",
                            "<tr><td>11</td><td>2018</td><td>2018-11-01</td><td>40187</td><td>2.45</td><td>1.34</td><td>519</td><td>44.07</td><td>Organic Food Eaters</td><td>Consumer reading about organic foods and researching organic food recipes.</td><td>2018-11-02 17:10:04.0000000</td><td>2018-11-02 17:10:04.0000000</td></tr>",
                            "<tr><td>11</td><td>2018</td><td>2018-11-01</td><td>40188</td><td>2.3</td><td>1.29</td><td>580</td><td>37.5</td><td>Civil War History Buff</td><td>People reading about the history of the American Civil War.</td><td>2018-11-02 17:10:04.0000000</td><td>2018-11-02 17:10:04.0000000</td></tr>",
                            "<tr><td>11</td><td>2018</td><td>2018-11-01</td><td>40189</td><td>2.77</td><td>1.32</td><td>545</td><td>41.27</td><td>Native American Culture Enthusiasts</td><td>People reading about Native American culture and traditions.</td><td>2018-11-02 17:10:04.0000000</td><td>2018-11-02 17:10:04.0000000</td></tr>",
                            "<tr><td>11</td><td>2018</td><td>2018-11-01</td><td>40190</td><td>3.02</td><td>1.62</td><td>241</td><td>74.03</td><td>Luxury Watch Shoppers</td><td>Consumers shopping for watches from luxury brands.</td><td>2018-11-02 17:10:05.0000000</td><td>2018-11-02 17:10:05.0000000</td></tr>",
                            "<tr><td>11</td><td>2018</td><td>2018-11-01</td><td>40191</td><td>3.21</td><td>1.48</td><td>362</td><td>60.99</td><td>Revolutionary War History Buffs</td><td>People reading about the history of the American Revolutionary War.</td><td>2018-11-02 17:10:05.0000000</td><td>2018-11-02 17:10:05.0000000</td></tr>",
                            "<tr><td>11</td><td>2018</td><td>2018-11-01</td><td>40192</td><td>3.04</td><td>1.54</td><td>308</td><td>66.81</td><td>Rome Trip Planners</td><td>People researching attractions and accommodations in Rome. These consumers are more likely to spend money on travel and local attractions.</td><td>2018-11-02 17:10:05.0000000</td><td>2018-11-02 17:10:05.0000000</td></tr>",
                            "<tr><td>11</td><td>2018</td><td>2018-11-01</td><td>40193</td><td>2.43</td><td>1.34</td><td>519</td><td>44.07</td><td>Myrtle Beach Trip Planners</td><td>People researching attractions and accommodations in Myrtle Beach. These consumers are more likely to spend money on travel and local attractions.</td><td>2018-11-02 17:10:05.0000000</td><td>2018-11-02 17:10:05.0000000</td></tr>",
                            "<tr><td>11</td><td>2018</td><td>2018-11-01</td><td>40194</td><td>1.57</td><td>0.99</td><td>834</td><td>10.13</td><td>Detroit Pistons Fans</td><td>People reading news about the Detroit Pistons and watching games. These consumers are more likely to spend money on team gear.</td><td>2018-11-02 17:10:05.0000000</td><td>2018-11-02 17:10:05.0000000</td></tr>",
                            "<tr><td>11</td><td>2018</td><td>2018-11-01</td><td>40195</td><td>3.06</td><td>1.33</td><td>531</td><td>42.78</td><td>U.S. History Buffs</td><td>People reading about the history of the United States of America.</td><td>2018-11-02 17:10:05.0000000</td><td>2018-11-02 17:10:05.0000000</td></tr>",
                            "<tr><td>11</td><td>2018</td><td>2018-11-01</td><td>40434</td><td>2.94</td><td>1.43</td><td>423</td><td>54.42</td><td>History Buffs</td><td>People reading general history facts.</td><td>2018-11-09 15:40:04.0000000</td><td>2018-11-09 15:40:04.0000000</td></tr>",
                            "<tr><td>11</td><td>2018</td><td>2018-11-01</td><td>40435</td><td>3.19</td><td>1.39</td><td>468</td><td>49.57</td><td>World War One History Buffs</td><td>People reading about the history of World War I.</td><td>2018-11-09 15:40:05.0000000</td><td>2018-11-09 15:40:05.0000000</td></tr>",
                            "<tr><td>11</td><td>2018</td><td>2018-11-01</td><td>40436</td><td>3.02</td><td>1.47</td><td>381</td><td>58.94</td><td>Egypt Trip Planners</td><td>People researching attractions and accommodations in Egypt. These consumers are more likely to spend money on travel and local attractions.</td><td>2018-11-09 15:40:05.0000000</td><td>2018-11-09 15:40:05.0000000</td></tr>",
                            "<tr><td>11</td><td>2018</td><td>2018-11-01</td><td>40437</td><td>2.74</td><td>1.56</td><td>283</td><td>69.5</td><td>Podcast Listeners</td><td>People visiting sites about podcasts and reading or listening to content from popular podcasts.</td><td>2018-11-09 15:40:05.0000000</td><td>2018-11-09 15:40:05.0000000</td></tr>",
                            "<tr><td>11</td><td>2018</td><td>2018-11-01</td><td>40438</td><td>2.58</td><td>1.44</td><td>409</td><td>55.93</td><td>iPhone Users</td><td>Consumers shopping for products and services for their iPhones.</td><td>2018-11-09 15:40:05.0000000</td><td>2018-11-09 15:40:05.0000000</td></tr>",
                            "<tr><td>11</td><td>2018</td><td>2018-11-01</td><td>40439</td><td>5.39</td><td>2.67</td><td>9</td><td>99.03</td><td>Ski and Snowboard Apparel Shoppers</td><td>Consumers shopping for winter clothing from ski and snowboarding apparel brands.</td><td>2018-11-09 15:45:04.0000000</td><td>2018-11-09 15:45:04.0000000</td></tr>",
                            "<tr><td>11</td><td>2018</td><td>2018-11-01</td><td>40525</td><td>3.33</td><td>1.5</td><td>345</td><td>62.82</td><td>Hospital Executives</td><td>Professionals reading industry news and researching products and services for hospital executives.</td><td>2018-11-12 17:30:04.0000000</td><td>2018-11-12 17:30:04.0000000</td></tr>",
                            "<tr><td>11</td><td>2018</td><td>2018-11-01</td><td>40682</td><td>2.97</td><td>1.83</td><td>130</td><td>85.99</td><td>Ergonomic Office Supplies Shoppers</td><td>Consumers shopping for ergonomic desk and office supply products.</td><td>2018-11-14 12:30:04.0000000</td><td>2018-11-14 12:30:04.0000000</td></tr>",
                            "<tr><td>11</td><td>2018</td><td>2018-11-01</td><td>40683</td><td>2.4</td><td>1.74</td><td>173</td><td>81.36</td><td>Aviation Enthusiasts</td><td>People reading about aircrafts and flying and joining aviation communities.</td><td>2018-11-14 12:30:04.0000000</td><td>2018-11-14 12:30:04.0000000</td></tr>",
                            "<tr><td>11</td><td>2018</td><td>2018-11-01</td><td>40685</td><td>2.62</td><td>1.74</td><td>173</td><td>81.36</td><td>Rodeo Enthusiasts</td><td>People researching and planning to attend local rodeos.</td><td>2018-11-14 12:30:04.0000000</td><td>2019-01-16 09:11:30.0000000</td></tr>",
                            "<tr><td>11</td><td>2018</td><td>2018-11-01</td><td>40688</td><td>2.2</td><td>1.47</td><td>381</td><td>58.94</td><td>Legal News Readers</td><td>People reading news about law and the latest legal cases.</td><td>2018-11-14 12:30:04.0000000</td><td>2018-11-14 12:30:04.0000000</td></tr>",
                            "<tr><td>11</td><td>2018</td><td>2018-11-01</td><td>40690</td><td>2.17</td><td>1.48</td><td>362</td><td>60.99</td><td>Business Book Readers</td><td>People searching online for books and content about business.</td><td>2018-11-14 12:30:04.0000000</td><td>2018-11-14 12:30:04.0000000</td></tr>",
                            "<tr><td>11</td><td>2018</td><td>2018-11-01</td><td>40691</td><td>2.58</td><td>1.48</td><td>362</td><td>60.99</td><td>Poetry Readers</td><td>People searching online for poetry.</td><td>2018-11-14 12:30:05.0000000</td><td>2018-11-14 12:30:05.0000000</td></tr>",
                            "<tr><td>11</td><td>2018</td><td>2018-11-01</td><td>40697</td><td>2.78</td><td>1.58</td><td>270</td><td>70.91</td><td>Santa Cruz Trip Planners</td><td>People researching attractions and accommodations in Santa Cruz. These consumers are more likely to spend money on travel and local attractions.</td><td>2018-11-14 12:30:05.0000000</td><td>2018-11-14 12:30:05.0000000</td></tr>",
                            "<tr><td>11</td><td>2018</td><td>2018-11-01</td><td>40698</td><td>2.1</td><td>1.48</td><td>362</td><td>60.99</td><td>GMC Vehicle Shopper</td><td>People researching and comparing GMC vehicles. These consumers are more likely to spend money on a new or used car.</td><td>2018-11-14 12:30:05.0000000</td><td>2018-11-14 12:30:05.0000000</td></tr>",
                            "<tr><td>11</td><td>2018</td><td>2018-11-01</td><td>40700</td><td>1.94</td><td>1.42</td><td>439</td><td>52.69</td><td>Speedway Event Enthusiasts</td><td>People researching and planning to attend speedway events.</td><td>2018-11-14 12:30:06.0000000</td><td>2019-01-16 09:11:30.0000000</td></tr>",
                            "<tr><td>12</td><td>2018</td><td>2018-12-01</td><td>41546</td><td>1.81</td><td>1.1</td><td>822</td><td>17.39</td><td>Reality TV Show Watchers</td><td>Consumers watching and reading about popular reality TV shows.</td><td>2018-12-03 11:10:04.0000000</td><td>2018-12-03 11:10:04.0000000</td></tr>",
                            "<tr><td>12</td><td>2018</td><td>2018-12-01</td><td>41547</td><td>3.07</td><td>1.43</td><td>472</td><td>52.56</td><td>Electronics Shoppers</td><td>Consumers shopping for electronics products online.</td><td>2018-12-03 11:10:04.0000000</td><td>2018-12-03 11:10:04.0000000</td></tr>",
                            "<tr><td>12</td><td>2018</td><td>2018-12-01</td><td>41548</td><td>10.46</td><td>4.42</td><td>1</td><td>99.9</td><td>Winter Apparel Shoppers</td><td>Consumers shopping for winter clothing from popular apparel brands.</td><td>2018-12-03 11:10:04.0000000</td><td>2018-12-03 11:10:04.0000000</td></tr>",
                            "<tr><td>12</td><td>2018</td><td>2018-12-01</td><td>41549</td><td>1.74</td><td>0.9</td><td>938</td><td>5.73</td><td>Bitcoin Enthusiasts</td><td>People reading industry news and following trends on bitcoin.</td><td>2018-12-03 11:10:05.0000000</td><td>2018-12-03 11:10:05.0000000</td></tr>",
                            "<tr><td>12</td><td>2018</td><td>2018-12-01</td><td>41550</td><td>2.98</td><td>1.52</td><td>366</td><td>63.22</td><td>Africa Trip Planners</td><td>People researching attractions and accommodations in Africa. These consumers are more likely to spend money on flights, hotels, and local attractions.</td><td>2018-12-03 11:10:05.0000000</td><td>2018-12-03 11:10:05.0000000</td></tr>",
                            "<tr><td>12</td><td>2018</td><td>2018-12-01</td><td>41551</td><td>3.03</td><td>1.66</td><td>237</td><td>76.18</td><td>Cookie Recipe Researchers</td><td>People researching cookie and dessert recipes and baking techniques.</td><td>2018-12-03 11:10:05.0000000</td><td>2018-12-03 11:10:05.0000000</td></tr>",
                            "<tr><td>12</td><td>2018</td><td>2018-12-01</td><td>41552</td><td>3.7</td><td>1.65</td><td>243</td><td>75.58</td><td>Restaurant Menu Researchers</td><td>Consumers researching menus for local and chain restaurants.</td><td>2018-12-03 11:10:05.0000000</td><td>2018-12-03 11:10:05.0000000</td></tr>",
                            "<tr><td>12</td><td>2018</td><td>2018-12-01</td><td>41553</td><td>2.21</td><td>1.17</td><td>751</td><td>24.52</td><td>Classical Music Enthusiasts</td><td>People reading about classical music and musicians.</td><td>2018-12-03 11:10:05.0000000</td><td>2018-12-03 11:10:05.0000000</td></tr>",
                            "<tr><td>12</td><td>2018</td><td>2018-12-01</td><td>41554</td><td>2.26</td><td>1.37</td><td>545</td><td>45.23</td><td>Northwestern Wildcats Fans</td><td>People reading news about the Northwestern Wildcats and watching games. These consumers are more likely to spend money on team gear.</td><td>2018-12-03 11:10:05.0000000</td><td>2018-12-03 11:10:05.0000000</td></tr>",
                            "<tr><td>12</td><td>2018</td><td>2018-12-01</td><td>41853</td><td>2.3</td><td>1.28</td><td>643</td><td>35.38</td><td>Atlanta United Fans</td><td>People reading news about the Atlanta United soccer team and watching games. These consumers are more likely to spend money on team gear.</td><td>2018-12-07 11:50:03.0000000</td><td>2018-12-07 11:50:03.0000000</td></tr>",
                            "<tr><td>12</td><td>2018</td><td>2018-12-01</td><td>41854</td><td>4.54</td><td>2.92</td><td>7</td><td>99.3</td><td>Swimming Enthusiasts</td><td>People reading about swim lessons and swimming competitions.</td><td>2018-12-07 11:50:04.0000000</td><td>2019-01-16 09:11:30.0000000</td></tr>",
                            "<tr><td>12</td><td>2018</td><td>2018-12-01</td><td>41855</td><td>2.42</td><td>1.53</td><td>354</td><td>64.42</td><td>Snow Removal Researchers</td><td>Consumers researching and comparing snow removal equipment brands.</td><td>2018-12-07 11:50:04.0000000</td><td>2018-12-07 11:50:04.0000000</td></tr>",
                            "<tr><td>12</td><td>2018</td><td>2018-12-01</td><td>41856</td><td>3.8</td><td>2.02</td><td>84</td><td>91.56</td><td>Chocolate Lovers</td><td>Consumers researching chocolate companies and purchasing chocolates and desserts.</td><td>2018-12-07 11:50:04.0000000</td><td>2018-12-07 11:50:04.0000000</td></tr>",
                            "<tr><td>12</td><td>2018</td><td>2018-12-01</td><td>41857</td><td>2.36</td><td>1.25</td><td>681</td><td>31.56</td><td>Aquarium Trip Planners</td><td>People researching aquariums and planning a visit.</td><td>2018-12-07 11:50:04.0000000</td><td>2018-12-07 11:50:04.0000000</td></tr>",
                            "<tr><td>12</td><td>2018</td><td>2018-12-01</td><td>42000</td><td>2.28</td><td>1.44</td><td>453</td><td>54.47</td><td>Chicken Recipe Researchers</td><td>People researching recipes that feature chicken.</td><td>2018-12-11 10:35:05.0000000</td><td>2018-12-11 10:35:05.0000000</td></tr>",
                            "<tr><td>12</td><td>2018</td><td>2018-12-01</td><td>42011</td><td>1.83</td><td>0.62</td><td>991</td><td>0.4</td><td>League of Legends Video Game Fans</td><td>People reading League of Legends news and following gaming trends.</td><td>2018-12-11 14:15:05.0000000</td><td>2018-12-11 14:15:05.0000000</td></tr>",
                            "<tr><td>12</td><td>2018</td><td>2018-12-01</td><td>42203</td><td>6.09</td><td>3.41</td><td>2</td><td>99.8</td><td>Fitness Activity Tracker Users</td><td>People using health and fitness activity trackers.</td><td>2018-12-13 20:00:00.0000000</td><td>2019-01-31 12:40:53.0000000</td></tr>",
                            "<tr><td>12</td><td>2018</td><td>2018-12-01</td><td>42237</td><td>2.17</td><td>1.43</td><td>472</td><td>52.56</td><td>Ebay Shoppers</td><td>Consumers shoping online at Ebay.</td><td>2018-12-14 21:00:00.0000000</td><td>2019-01-31 13:46:00.0000000</td></tr>",
                            "<tr><td>12</td><td>2018</td><td>2018-12-01</td><td>42238</td><td>3.16</td><td>1.59</td><td>302</td><td>69.65</td><td>Online Calculator Users</td><td>Consumers using online calculators.</td><td>2018-12-14 21:00:00.0000000</td><td>2019-01-31 13:49:10.0000000</td></tr>",
                            "<tr><td>12</td><td>2018</td><td>2018-12-01</td><td>42239</td><td>1.74</td><td>1.39</td><td>523</td><td>47.44</td><td>ESPN Enthusiasts</td><td>Consumers watching and reading content from ESPN networks.</td><td>2018-12-14 21:00:00.0000000</td><td>2019-01-31 13:47:39.0000000</td></tr>",
                            "<tr><td>1</td><td>2019</td><td>2019-01-01</td><td>42964</td><td>2.91</td><td>1.39</td><td>331</td><td>65.98</td><td>Biohackers</td><td>People researching health and fitness methods and products to bio-hack their bodies.</td><td>2019-01-07 12:00:03.0000000</td><td>2019-01-07 12:00:03.0000000</td></tr>",
                            "<tr><td>1</td><td>2019</td><td>2019-01-01</td><td>43539</td><td>2.4</td><td>1.32</td><td>427</td><td>56.12</td><td>Discount Flight Searchers</td><td>Consumers searching for flight discounts and deals using online airfare comparison tools.</td><td>2019-01-10 11:10:03.0000000</td><td>2019-01-10 11:10:03.0000000</td></tr>",
                            "<tr><td>1</td><td>2019</td><td>2019-01-01</td><td>43540</td><td>2.33</td><td>0.98</td><td>841</td><td>13.57</td><td>Voice Over Internet Protocol (VoIP) Users</td><td>Consumers researching and using VoIP technologies.</td><td>2019-01-10 11:10:04.0000000</td><td>2019-01-10 11:10:04.0000000</td></tr>",
                            "<tr><td>1</td><td>2019</td><td>2019-01-01</td><td>43541</td><td>1.82</td><td>0.93</td><td>872</td><td>10.38</td><td>Wig Shoppers</td><td>Consumers shopping wig and hair products and services.</td><td>2019-01-10 11:10:04.0000000</td><td>2019-01-10 11:10:04.0000000</td></tr>",
                            "<tr><td>1</td><td>2019</td><td>2019-01-01</td><td>43542</td><td>2.97</td><td>1.72</td><td>114</td><td>88.28</td><td>Waterfront Vacationers</td><td>People researching and booking vacations at beach, river or lake destinations.</td><td>2019-01-10 11:10:04.0000000</td><td>2019-01-10 11:10:04.0000000</td></tr>",
                            "<tr><td>1</td><td>2019</td><td>2019-01-01</td><td>43544</td><td>2.62</td><td>1.25</td><td>517</td><td>46.87</td><td>Craft Beer Enthusiasts</td><td>People researching craft breweries and beers.</td><td>2019-01-10 11:10:04.0000000</td><td>2019-01-10 11:10:04.0000000</td></tr>",
                            "<tr><td>1</td><td>2019</td><td>2019-01-01</td><td>43545</td><td>2.59</td><td>1.25</td><td>517</td><td>46.87</td><td>Homemade Gifts Crafters</td><td>Consumers researching breweries and purchasing craft beer.</td><td>2019-01-10 11:10:04.0000000</td><td>2019-01-10 11:10:04.0000000</td></tr>",
                            "<tr><td>1</td><td>2019</td><td>2019-01-01</td><td>43546</td><td>2.73</td><td>1.37</td><td>357</td><td>63.31</td><td>Personalized Gift Shoppers</td><td>Consumers shopping for gifts that can be personalized.</td><td>2019-01-10 11:10:04.0000000</td><td>2019-01-10 11:10:04.0000000</td></tr>",
                            "<tr><td>1</td><td>2019</td><td>2019-01-01</td><td>43547</td><td>1.86</td><td>0.87</td><td>906</td><td>6.89</td><td>Animal Humane Society Helpers</td><td>People supporting Animal Humane Society through volunteer service and donations.</td><td>2019-01-10 11:10:04.0000000</td><td>2019-01-10 11:10:04.0000000</td></tr>",
                            "<tr><td>1</td><td>2019</td><td>2019-01-01</td><td>43549</td><td>1.86</td><td>1</td><td>825</td><td>15.21</td><td>Dog Breed Researchers</td><td>People researching dog breeds and breeders.</td><td>2019-01-10 11:10:05.0000000</td><td>2019-01-10 11:10:05.0000000</td></tr>",
                            "<tr><td>1</td><td>2019</td><td>2019-01-01</td><td>43550</td><td>3.28</td><td>1.7</td><td>124</td><td>87.26</td><td>Meal Kit Delivery Researchers</td><td>Consumers researching and subscribing to meal kit delivery services.</td><td>2019-01-10 11:10:05.0000000</td><td>2019-01-10 11:10:05.0000000</td></tr>",
                            "<tr><td>2</td><td>2019</td><td>2019-02-01</td><td>45515</td><td>2.84</td><td>1.23</td><td>626</td><td>44.16</td><td>US Judiciary System Researchers</td><td>People researching history and news on the US Judiciary System and legal system.</td><td>2019-02-04 22:00:00.0000000</td><td>2019-02-06 16:21:46.0000000</td></tr>",
                            "<tr><td>2</td><td>2019</td><td>2019-02-01</td><td>45516</td><td>3.4</td><td>1.55</td><td>243</td><td>78.32</td><td>Basketball Enthusiasts</td><td>People researching basketball and purchasing equipment and apparel.</td><td>2019-02-04 22:00:00.0000000</td><td>2019-02-06 16:21:46.0000000</td></tr>",
                            "<tr><td>2</td><td>2019</td><td>2019-02-01</td><td>45518</td><td>5.79</td><td>2.52</td><td>8</td><td>99.29</td><td>Volleyball Enthusiasts</td><td>People researching volleyball and purchasing equipment and apparel.</td><td>2019-02-04 22:00:00.0000000</td><td>2019-02-06 16:21:47.0000000</td></tr>",
                            "<tr><td>2</td><td>2019</td><td>2019-02-01</td><td>45519</td><td>3.69</td><td>1.46</td><td>327</td><td>70.83</td><td>Competitive Wrestling Enthusiasts</td><td>People researching competitive wrestling and purchasing equipment and apparel.</td><td>2019-02-04 22:00:00.0000000</td><td>2019-02-06 16:21:47.0000000</td></tr>",
                            "<tr><td>2</td><td>2019</td><td>2019-02-01</td><td>45520</td><td>2.63</td><td>1.01</td><td>925</td><td>17.48</td><td>Cricket Enthusiasts</td><td>People researching cricket and purchasing equipment and apparel.</td><td>2019-02-04 22:00:00.0000000</td><td>2019-02-06 16:21:47.0000000</td></tr>",
                            "<tr><td>2</td><td>2019</td><td>2019-02-01</td><td>45521</td><td>3.91</td><td>1.71</td><td>138</td><td>87.69</td><td>Rock Climbing Enthusiasts</td><td>People researching rock climbing and purchasing equipment and apparel.</td><td>2019-02-04 22:00:00.0000000</td><td>2019-02-06 16:21:48.0000000</td></tr>",
                            "<tr><td>2</td><td>2019</td><td>2019-02-01</td><td>45522</td><td>1.9</td><td>0.69</td><td>1104</td><td>1.52</td><td>Hair Color Shoppers</td><td>Consumers shopping for hair color products and services.</td><td>2019-02-04 22:00:00.0000000</td><td>2019-02-06 16:21:48.0000000</td></tr>",
                            "<tr><td>2</td><td>2019</td><td>2019-02-01</td><td>45524</td><td>2.47</td><td>1.18</td><td>691</td><td>38.36</td><td>Mowing Equipment Shoppers</td><td>Consumers researching lawn and gardening equipment.</td><td>2019-02-04 22:00:00.0000000</td><td>2019-02-06 16:21:49.0000000</td></tr>",
                            "<tr><td>2</td><td>2019</td><td>2019-02-01</td><td>45525</td><td>2.19</td><td>0.96</td><td>970</td><td>13.47</td><td>Cattle Industry New Readers</td><td>People reading industry news and following business trends in the cattle industry.</td><td>2019-02-04 22:00:00.0000000</td><td>2019-02-06 16:21:49.0000000</td></tr>",
                            "<tr><td>2</td><td>2019</td><td>2019-02-01</td><td>45526</td><td>2.58</td><td>1.09</td><td>813</td><td>27.48</td><td>Dairy Industry New Readers</td><td>People reading industry news and following business trends in the dairy industry.</td><td>2019-02-04 22:00:00.0000000</td><td>2019-02-06 16:21:49.0000000</td></tr>",
                            "<tr><td>2</td><td>2019</td><td>2019-02-01</td><td>45527</td><td>2.77</td><td>1.03</td><td>891</td><td>20.52</td><td>CBD Oils Shoppers</td><td>People researching products and health benefits of using CBD oils.</td><td>2019-02-04 22:00:00.0000000</td><td>2019-02-06 16:21:50.0000000</td></tr>",
                            "<tr><td>2</td><td>2019</td><td>2019-02-01</td><td>45528</td><td>2.3</td><td>0.99</td><td>949</td><td>15.34</td><td>Cannabis News Readers</td><td>People reading industry news and following business trends for cannabis brands and products.</td><td>2019-02-04 22:00:00.0000000</td><td>2019-02-06 16:21:50.0000000</td></tr>",
                            "<tr><td>2</td><td>2019</td><td>2019-02-01</td><td>45662</td><td>3.66</td><td>1.32</td><td>495</td><td>55.84</td><td>Psychiatrists</td><td>Professionals reading industry news and medical information on psychiatry.</td><td>2019-02-06 21:00:01.0000000</td><td>2019-02-07 15:17:10.0000000</td></tr>",
                            "<tr><td>2</td><td>2019</td><td>2019-02-01</td><td>45664</td><td>3.4</td><td>1.46</td><td>327</td><td>70.83</td><td>Headphone Shoppers</td><td>Consumers comparing and shopping for headphones and audio products.</td><td>2019-02-06 21:00:01.0000000</td><td>2019-02-07 15:17:10.0000000</td></tr>",
                            "<tr><td>2</td><td>2019</td><td>2019-02-01</td><td>45665</td><td>2.43</td><td>0.88</td><td>1035</td><td>7.67</td><td>Reptile Enthusiasts</td><td>People reading about reptiles and shopping for pet products and services.</td><td>2019-02-06 21:00:01.0000000</td><td>2019-02-07 15:17:11.0000000</td></tr>",
                            "<tr><td>2</td><td>2019</td><td>2019-02-01</td><td>45666</td><td>2.51</td><td>1.04</td><td>884</td><td>21.14</td><td>Bird and Parrot Lovers</td><td>People reading about birds and parrots and shopping for pet products and services.</td><td>2019-02-06 21:00:01.0000000</td><td>2019-02-07 15:17:11.0000000</td></tr>",
                            "<tr><td>2</td><td>2019</td><td>2019-02-01</td><td>45667</td><td>3.77</td><td>1.5</td><td>280</td><td>75.02</td><td>Blades and Hunting Knife Shoppers</td><td>Consumers shopping for blades and knives for hunting and outdoor activities.</td><td>2019-02-06 21:00:01.0000000</td><td>2019-02-07 15:17:11.0000000</td></tr>",
                            "<tr><td>2</td><td>2019</td><td>2019-02-01</td><td>45668</td><td>1.83</td><td>0.83</td><td>1058</td><td>5.62</td><td>Pizza Lovers</td><td>Consumers researching pizza companies and purchasing pizza online.</td><td>2019-02-06 21:00:01.0000000</td><td>2019-02-07 15:17:12.0000000</td></tr>",
                            "<tr><td>2</td><td>2019</td><td>2019-02-01</td><td>45669</td><td>2.45</td><td>0.94</td><td>992</td><td>11.51</td><td>Cocktail Recipe Researchers</td><td>People researching recipes for cocktails and mixed drinks.</td><td>2019-02-06 21:00:01.0000000</td><td>2019-02-07 15:17:12.0000000</td></tr>",
                            "<tr><td>2</td><td>2019</td><td>2019-02-01</td><td>45670</td><td>5.04</td><td>1.91</td><td>79</td><td>92.95</td><td>Womens Swimsuit Shoppers</td><td>Consumers shopping for womens swimsuits and beach apparel.</td><td>2019-02-06 21:00:01.0000000</td><td>2019-02-07 15:17:12.0000000</td></tr>",
                            "<tr><td>2</td><td>2019</td><td>2019-02-01</td><td>45671</td><td>4.85</td><td>1.76</td><td>111</td><td>90.1</td><td>Mens Suit Shoppers</td><td>Consumers shopping for mens suits and formal attire.</td><td>2019-02-06 21:00:01.0000000</td><td>2019-02-07 15:17:13.0000000</td></tr>",
                            "<tr><td>2</td><td>2019</td><td>2019-02-01</td><td>45672</td><td>2.62</td><td>1.09</td><td>813</td><td>27.48</td><td>Bible Study Researchers</td><td>People reading information on Christianity and researching resources for bible studies.</td><td>2019-02-06 21:00:01.0000000</td><td>2019-02-07 15:17:13.0000000</td></tr>",
                            "<tr><td>2</td><td>2019</td><td>2019-02-01</td><td>45673</td><td>3.04</td><td>1.31</td><td>508</td><td>54.68</td><td>Fundraising Advocates</td><td>People researching fundraising organizations to offer support or donations.</td><td>2019-02-06 21:00:01.0000000</td><td>2019-03-11 12:36:24.0000000</td></tr>",
                            "<tr><td>2</td><td>2019</td><td>2019-02-01</td><td>45674</td><td>2.7</td><td>1.15</td><td>732</td><td>34.7</td><td>Medical Technology News Readers</td><td>People reading industry news and following business trends for medical technology companies.</td><td>2019-02-06 21:00:01.0000000</td><td>2019-02-07 15:17:13.0000000</td></tr>",
                            "<tr><td>2</td><td>2019</td><td>2019-02-01</td><td>45675</td><td>2.92</td><td>1.36</td><td>447</td><td>60.12</td><td>Home Medical Supplies Shoppers</td><td>Consumers shopping for medical supplies for home healthcare.</td><td>2019-02-06 21:00:01.0000000</td><td>2019-03-11 12:36:24.0000000</td></tr>",
                            "<tr><td>2</td><td>2019</td><td>2019-02-01</td><td>45676</td><td>4.72</td><td>1.7</td><td>147</td><td>86.89</td><td>Scrubs Uniforms Shoppers</td><td>Consumers shopping for scrubs and other medical uniforms.</td><td>2019-02-06 21:00:01.0000000</td><td>2019-02-07 15:17:14.0000000</td></tr>",
                            "<tr><td>2</td><td>2019</td><td>2019-02-01</td><td>45677</td><td>4.52</td><td>1.69</td><td>152</td><td>86.44</td><td>Sleepwear Shoppers</td><td>Consumers shopping for sleepwear.</td><td>2019-02-06 21:00:02.0000000</td><td>2019-02-07 15:17:14.0000000</td></tr>",
                            "<tr><td>2</td><td>2019</td><td>2019-02-01</td><td>45678</td><td>3.27</td><td>1.37</td><td>427</td><td>61.91</td><td>Mens Underwear Shoppers</td><td>Consumers shopping for mens underwear.</td><td>2019-02-06 21:00:02.0000000</td><td>2019-03-12 13:05:06.0000000</td></tr>",
                            "<tr><td>2</td><td>2019</td><td>2019-02-01</td><td>45679</td><td>3.67</td><td>1.34</td><td>476</td><td>57.54</td><td>Government Student Loan Researchers</td><td>People researching and comparing student loan offerings from government institutions.</td><td>2019-02-06 21:00:02.0000000</td><td>2019-02-07 15:17:14.0000000</td></tr>",
                            "<tr><td>2</td><td>2019</td><td>2019-02-01</td><td>45725</td><td>4.05</td><td>1.82</td><td>96</td><td>91.44</td><td>Trampoline Shoppers</td><td>Consumers researching trampoline activities and shopping for trampolines.</td><td>2019-02-07 21:00:00.0000000</td><td>2019-02-12 10:52:31.0000000</td></tr>",
                            "<tr><td>3</td><td>2019</td><td>2019-03-01</td><td>47065</td><td>2.45</td><td>1.39</td><td>400</td><td>64.79</td><td>Diabetes Support Forum Readers</td><td>People reading news and advice on preventing and treating diabetes.</td><td>2019-03-05 18:00:00.0000000</td><td>2019-03-07 11:46:12.0000000</td></tr>",
                            "<tr><td>3</td><td>2019</td><td>2019-03-01</td><td>47115</td><td>1.85</td><td>1.16</td><td>734</td><td>35.39</td><td>Electric Vehicle Shoppers</td><td>People researching and comparing electric vehicles.</td><td>2019-03-05 22:00:00.0000000</td><td>2019-03-11 12:36:24.0000000</td></tr>",
                            "<tr><td>3</td><td>2019</td><td>2019-03-01</td><td>47850</td><td>2.58</td><td>1.59</td><td>205</td><td>81.95</td><td>Asheville Trip Planners</td><td>People researching attractions and accommodations in Asheville. These consumers are more likely to spend money on flights, hotels, lodging and local attractions.</td><td>2019-03-15 22:00:02.0000000</td><td>2019-03-21 15:33:09.0000000</td></tr>",
                            "<tr><td>4</td><td>2019</td><td>2019-04-01</td><td>49502</td><td>1.87</td><td>1.12</td><td>768</td><td>30.12</td><td>Veterinarians</td><td>Veterinarians</td><td>2019-04-08 18:00:05.0000000</td><td>2019-07-09 13:57:13.0000000</td></tr>",
                            "<tr><td>4</td><td>2019</td><td>2019-04-01</td><td>49972</td><td>2.11</td><td>1.15</td><td>722</td><td>34.3</td><td>Horseback Riding Enthusiasts</td><td>People reading horseback riding news and resources.</td><td>2019-04-15 18:00:00.0000000</td><td>2019-04-24 17:40:04.0000000</td></tr>",
                            "<tr><td>4</td><td>2019</td><td>2019-04-01</td><td>49973</td><td>1.66</td><td>1.03</td><td>910</td><td>17.2</td><td>Farm Finance Researchers</td><td>People researching financial institutions specializing in farming business.</td><td>2019-04-15 18:00:00.0000000</td><td>2019-04-24 17:40:04.0000000</td></tr>",
                            "<tr><td>4</td><td>2019</td><td>2019-04-01</td><td>49974</td><td>2</td><td>1.1</td><td>799</td><td>27.3</td><td>Agricultural and Food Issues Researchers</td><td>People researching organizations for food and agriculture issues.</td><td>2019-04-15 18:00:00.0000000</td><td>2019-04-24 17:40:04.0000000</td></tr>",
                            "<tr><td>4</td><td>2019</td><td>2019-04-01</td><td>49976</td><td>2.35</td><td>1.27</td><td>530</td><td>51.77</td><td>Agriculture and Climate Advocates</td><td>People supporting organizations for agriculture and climate advocacy.</td><td>2019-04-15 18:00:00.0000000</td><td>2019-04-24 17:40:04.0000000</td></tr>",
                            "<tr><td>4</td><td>2019</td><td>2019-04-01</td><td>49977</td><td>2.17</td><td>1.15</td><td>722</td><td>34.3</td><td>DIY Upcycle Home Project Planners</td><td>People researching and planning home DIY and upcycle projects.</td><td>2019-04-15 18:00:00.0000000</td><td>2019-04-24 17:40:04.0000000</td></tr>",
                            "<tr><td>4</td><td>2019</td><td>2019-04-01</td><td>49978</td><td>2.19</td><td>1.17</td><td>695</td><td>36.76</td><td>Homeschooling Parents</td><td>People researching academic projects and programs to homeschool their children.</td><td>2019-04-15 18:00:00.0000000</td><td>2019-04-24 17:40:04.0000000</td></tr>",
                            "<tr><td>4</td><td>2019</td><td>2019-04-01</td><td>49979</td><td>2.56</td><td>1.7</td><td>145</td><td>86.81</td><td>Cape Cod News Readers</td><td>People interested in reading about local news and events surrounding the Cape Cod, MA area.</td><td>2019-04-15 18:00:00.0000000</td><td>2019-04-18 09:00:05.0000000</td></tr>",
                            "<tr><td>5</td><td>2019</td><td>2019-05-01</td><td>51678</td><td>1.71</td><td>1.53</td><td>475</td><td>44.57</td><td>Plumbers</td><td>Professionals reading industry news and researching products and services for plumbers.</td><td>2019-05-06 22:00:00.0000000</td><td>2019-05-07 18:50:04.0000000</td></tr>",
                            "</table>"
                        ]
                    }
                }
            ],
            "execution_count": 9
        },
        {
            "cell_type": "markdown",
            "source": [
                "- There are total of 188 rows having `month_year` value before `created_at`. This is valid because column `month_year` has been converted to date datatype with the day being the first day of the month. "
            ],
            "metadata": {
                "azdata_cell_guid": "be0d9c3f-fe83-4a09-a4d7-30efb7c3ede3"
            },
            "attachments": {}
        }
    ]
}