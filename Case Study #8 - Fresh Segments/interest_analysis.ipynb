{
    "metadata": {
        "kernelspec": {
            "name": "SQL",
            "display_name": "SQL",
            "language": "sql"
        },
        "language_info": {
            "name": "sql",
            "version": ""
        }
    },
    "nbformat_minor": 2,
    "nbformat": 4,
    "cells": [
        {
            "cell_type": "markdown",
            "source": [
                "### Interest Analysis\r\n",
                "---\r\n",
                "    1. Which interests have been present in all month_year dates in our dataset?"
            ],
            "metadata": {
                "azdata_cell_guid": "ce1262ed-5c7f-4b3d-a5b5-4390666a42e6"
            },
            "attachments": {}
        },
        {
            "cell_type": "code",
            "source": [
                "SELECT  \r\n",
                "    interest_name, \r\n",
                "    COUNT(*) AS time \r\n",
                "FROM interest_metrics me\r\n",
                "JOIN interest_map ma ON me.interest_id = ma.id \r\n",
                "GROUP BY interest_name\r\n",
                "HAVING COUNT(*) >= (SELECT COUNT(DISTINCT month_year) FROM interest_metrics)\r\n",
                "ORDER BY [time] DESC"
            ],
            "metadata": {
                "azdata_cell_guid": "39eb592c-28bc-4fff-a153-0496f0bd08a8",
                "language": "sql"
            },
            "outputs": [
                {
                    "output_type": "display_data",
                    "data": {
                        "text/html": "Warning: Null value is eliminated by an aggregate or other SET operation."
                    },
                    "metadata": {}
                },
                {
                    "output_type": "display_data",
                    "data": {
                        "text/html": "(480 rows affected)"
                    },
                    "metadata": {}
                },
                {
                    "output_type": "display_data",
                    "data": {
                        "text/html": "Total execution time: 00:00:00.046"
                    },
                    "metadata": {}
                },
                {
                    "output_type": "execute_result",
                    "metadata": {},
                    "execution_count": 1,
                    "data": {
                        "application/vnd.dataresource+json": {
                            "schema": {
                                "fields": [
                                    {
                                        "name": "interest_name"
                                    },
                                    {
                                        "name": "time"
                                    }
                                ]
                            },
                            "data": [
                                {
                                    "0": "Pizza Lovers",
                                    "1": "18"
                                },
                                {
                                    "0": "Plus Size Women",
                                    "1": "14"
                                },
                                {
                                    "0": "Pool and Spa Researchers",
                                    "1": "14"
                                },
                                {
                                    "0": "Portugal Trip Planners",
                                    "1": "14"
                                },
                                {
                                    "0": "Powerboat Purchasers",
                                    "1": "14"
                                },
                                {
                                    "0": "Pre-Measured Grocery Shoppers",
                                    "1": "14"
                                },
                                {
                                    "0": "Premier League Fans",
                                    "1": "14"
                                },
                                {
                                    "0": "Preppy Clothing Shoppers",
                                    "1": "14"
                                },
                                {
                                    "0": "Price Conscious Home Shoppers",
                                    "1": "14"
                                },
                                {
                                    "0": "Professional Chefs",
                                    "1": "14"
                                },
                                {
                                    "0": "Professional Sound Products Researchers",
                                    "1": "14"
                                },
                                {
                                    "0": "Property and Facility Managers",
                                    "1": "14"
                                },
                                {
                                    "0": "Property Insurance Researchers",
                                    "1": "14"
                                },
                                {
                                    "0": "Quads and ATV Enthusiasts",
                                    "1": "14"
                                },
                                {
                                    "0": "Readers of Chinese Content",
                                    "1": "14"
                                },
                                {
                                    "0": "Readers of Costa Rican Content",
                                    "1": "14"
                                },
                                {
                                    "0": "Readers of Data Scientist blogs",
                                    "1": "14"
                                },
                                {
                                    "0": "Readers of Italian Content",
                                    "1": "14"
                                },
                                {
                                    "0": "Readers of Jewish News",
                                    "1": "14"
                                },
                                {
                                    "0": "Readers of Malayalam Content",
                                    "1": "14"
                                },
                                {
                                    "0": "Real Estate Decision Makers",
                                    "1": "14"
                                },
                                {
                                    "0": "Realtors & Real Estate Researchers",
                                    "1": "14"
                                },
                                {
                                    "0": "Recently Retired Individuals",
                                    "1": "14"
                                },
                                {
                                    "0": "Recreational Sports Participants",
                                    "1": "14"
                                },
                                {
                                    "0": "Reggaeton Fans",
                                    "1": "14"
                                },
                                {
                                    "0": "Respirologists and Pulmonologists",
                                    "1": "14"
                                },
                                {
                                    "0": "Restaurant News Readers",
                                    "1": "14"
                                },
                                {
                                    "0": "Restaurant Researchers",
                                    "1": "14"
                                },
                                {
                                    "0": "Restaurant Supply Shoppers",
                                    "1": "14"
                                },
                                {
                                    "0": "Retirees",
                                    "1": "14"
                                },
                                {
                                    "0": "Retirement Planners",
                                    "1": "14"
                                },
                                {
                                    "0": "Reusable Drinkware Shoppers",
                                    "1": "14"
                                },
                                {
                                    "0": "Rideshare App Users",
                                    "1": "14"
                                },
                                {
                                    "0": "Right Wing Radicals",
                                    "1": "14"
                                },
                                {
                                    "0": "Roommate Seekers",
                                    "1": "14"
                                },
                                {
                                    "0": "Rugby Fans",
                                    "1": "14"
                                },
                                {
                                    "0": "Running Enthusiasts",
                                    "1": "14"
                                },
                                {
                                    "0": "Russia Trip Planners",
                                    "1": "14"
                                },
                                {
                                    "0": "RV Shoppers",
                                    "1": "14"
                                },
                                {
                                    "0": "Sailing Enthusiasts",
                                    "1": "14"
                                },
                                {
                                    "0": "Sale Seekers",
                                    "1": "14"
                                },
                                {
                                    "0": "San Diego Trip Planners",
                                    "1": "14"
                                },
                                {
                                    "0": "San Francisco Trip Planners",
                                    "1": "14"
                                },
                                {
                                    "0": "Santa Monica Trip Planners",
                                    "1": "14"
                                },
                                {
                                    "0": "Satellite TV Buyers",
                                    "1": "14"
                                },
                                {
                                    "0": "School Supply Shoppers",
                                    "1": "14"
                                },
                                {
                                    "0": "Seasonal Allergy Sufferers",
                                    "1": "14"
                                },
                                {
                                    "0": "Seattle Trip Planners",
                                    "1": "14"
                                },
                                {
                                    "0": "Senior Caregivers",
                                    "1": "14"
                                },
                                {
                                    "0": "Senior Living Center Researchers",
                                    "1": "14"
                                },
                                {
                                    "0": "SEO Specialists",
                                    "1": "14"
                                },
                                {
                                    "0": "Shared Work Space Researchers",
                                    "1": "14"
                                },
                                {
                                    "0": "Shoe Shoppers",
                                    "1": "14"
                                },
                                {
                                    "0": "Sightseeing Travelers",
                                    "1": "14"
                                },
                                {
                                    "0": "Ski and Snowboard Enthusiasts",
                                    "1": "14"
                                },
                                {
                                    "0": "Ski House Second Home Owners",
                                    "1": "14"
                                },
                                {
                                    "0": "Skin Care Researchers",
                                    "1": "14"
                                },
                                {
                                    "0": "Sleep Disorder Researchers",
                                    "1": "14"
                                },
                                {
                                    "0": "Small Business Employees",
                                    "1": "14"
                                },
                                {
                                    "0": "Smart Home Product Researchers",
                                    "1": "14"
                                },
                                {
                                    "0": "Soccer Fans",
                                    "1": "14"
                                },
                                {
                                    "0": "Software Directory Researchers",
                                    "1": "14"
                                },
                                {
                                    "0": "Solar Energy Solution Shoppers",
                                    "1": "14"
                                },
                                {
                                    "0": "Sony Fans",
                                    "1": "14"
                                },
                                {
                                    "0": "Spa and Pool Owners",
                                    "1": "14"
                                },
                                {
                                    "0": "Spa Goers",
                                    "1": "14"
                                },
                                {
                                    "0": "Special Olympics Fans",
                                    "1": "14"
                                },
                                {
                                    "0": "Sporting Goods Shoppers",
                                    "1": "14"
                                },
                                {
                                    "0": "Sports Gamblers",
                                    "1": "14"
                                },
                                {
                                    "0": "Sports Medicine Health Care Professionals",
                                    "1": "14"
                                },
                                {
                                    "0": "Stay-at-Home Parents",
                                    "1": "14"
                                },
                                {
                                    "0": "Streaming Music Enthusiasts",
                                    "1": "14"
                                },
                                {
                                    "0": "Study Abroad Researchers",
                                    "1": "14"
                                },
                                {
                                    "0": "Summer Activities Researchers",
                                    "1": "14"
                                },
                                {
                                    "0": "Summer Festivals and Fairs Visitors",
                                    "1": "14"
                                },
                                {
                                    "0": "Supermarket Shoppers",
                                    "1": "14"
                                },
                                {
                                    "0": "Supply Chain Professionals",
                                    "1": "14"
                                },
                                {
                                    "0": "Surfers",
                                    "1": "14"
                                },
                                {
                                    "0": "Sweet Tooths",
                                    "1": "14"
                                },
                                {
                                    "0": "Tailgaters",
                                    "1": "14"
                                },
                                {
                                    "0": "Teachers",
                                    "1": "14"
                                },
                                {
                                    "0": "Tech-Savvy Moms",
                                    "1": "14"
                                },
                                {
                                    "0": "Teen Girl Clothing Shoppers",
                                    "1": "14"
                                },
                                {
                                    "0": "Tennis Players",
                                    "1": "14"
                                },
                                {
                                    "0": "Texas Energy Providers",
                                    "1": "14"
                                },
                                {
                                    "0": "Texas Trip Planners",
                                    "1": "14"
                                },
                                {
                                    "0": "Thanksgiving Entertaining Researchers",
                                    "1": "14"
                                },
                                {
                                    "0": "Thanksgiving Meal Planners",
                                    "1": "14"
                                },
                                {
                                    "0": "Theme Park Researchers",
                                    "1": "14"
                                },
                                {
                                    "0": "Thrift Store Shoppers",
                                    "1": "14"
                                },
                                {
                                    "0": "Tire Researchers",
                                    "1": "14"
                                },
                                {
                                    "0": "Tire Shoppers",
                                    "1": "14"
                                },
                                {
                                    "0": "Toyota Vehicle Shopper",
                                    "1": "14"
                                },
                                {
                                    "0": "Tractor Shoppers",
                                    "1": "14"
                                },
                                {
                                    "0": "Travel Researchers",
                                    "1": "14"
                                },
                                {
                                    "0": "Travel Reward Points Enthusiasts",
                                    "1": "14"
                                },
                                {
                                    "0": "United Arab Emirates Trip Planners",
                                    "1": "14"
                                },
                                {
                                    "0": "Urban Skateboarding Sneaker Shoppers",
                                    "1": "14"
                                },
                                {
                                    "0": "Used Car Shoppers",
                                    "1": "14"
                                },
                                {
                                    "0": "Vacation Planners",
                                    "1": "14"
                                },
                                {
                                    "0": "Vacation Rental Accommodation Researchers",
                                    "1": "14"
                                },
                                {
                                    "0": "Vacuum Shoppers",
                                    "1": "14"
                                },
                                {
                                    "0": "Vaping Shoppers",
                                    "1": "14"
                                },
                                {
                                    "0": "Vegans",
                                    "1": "14"
                                },
                                {
                                    "0": "Venture Capitalists",
                                    "1": "14"
                                },
                                {
                                    "0": "Video Game Shoppers",
                                    "1": "14"
                                },
                                {
                                    "0": "Videographers",
                                    "1": "14"
                                },
                                {
                                    "0": "Vitamin Shoppers",
                                    "1": "14"
                                },
                                {
                                    "0": "Washington DC Trip Planners",
                                    "1": "14"
                                },
                                {
                                    "0": "Water Park Visitors",
                                    "1": "14"
                                },
                                {
                                    "0": "Web Design Researchers",
                                    "1": "14"
                                },
                                {
                                    "0": "Weight Lifting Enthusiasts",
                                    "1": "14"
                                },
                                {
                                    "0": "Weight Loss Researchers",
                                    "1": "14"
                                },
                                {
                                    "0": "Whiskey Lovers",
                                    "1": "14"
                                },
                                {
                                    "0": "Wireless Service Provider Researchers",
                                    "1": "14"
                                },
                                {
                                    "0": "Womens Equality Advocates",
                                    "1": "14"
                                },
                                {
                                    "0": "Womens Fashion Brands Shoppers",
                                    "1": "14"
                                },
                                {
                                    "0": "World Cup Apparel Shoppers",
                                    "1": "14"
                                },
                                {
                                    "0": "World Cup Enthusiasts",
                                    "1": "14"
                                },
                                {
                                    "0": "Yachting Enthusiasts",
                                    "1": "14"
                                },
                                {
                                    "0": "Yale University Fans",
                                    "1": "14"
                                },
                                {
                                    "0": "Yogis",
                                    "1": "14"
                                },
                                {
                                    "0": "Zoo Visitors",
                                    "1": "14"
                                },
                                {
                                    "0": "Accounting & CPA Continuing Education Researchers",
                                    "1": "14"
                                },
                                {
                                    "0": "Affordable Hotel Bookers",
                                    "1": "14"
                                },
                                {
                                    "0": "Aftermarket Accessories Shoppers",
                                    "1": "14"
                                },
                                {
                                    "0": "Alabama Trip Planners",
                                    "1": "14"
                                },
                                {
                                    "0": "Alaskan Cruise Planners",
                                    "1": "14"
                                },
                                {
                                    "0": "Alzheimer and Dementia Researchers",
                                    "1": "14"
                                },
                                {
                                    "0": "Anesthesiologists",
                                    "1": "14"
                                },
                                {
                                    "0": "Apartment Furniture Shoppers",
                                    "1": "14"
                                },
                                {
                                    "0": "Apartment Hunters",
                                    "1": "14"
                                },
                                {
                                    "0": "Apple Fans",
                                    "1": "14"
                                },
                                {
                                    "0": "Arizona Trip Planners",
                                    "1": "14"
                                },
                                {
                                    "0": "Arsenal Fans",
                                    "1": "14"
                                },
                                {
                                    "0": "Arthritis Sufferers",
                                    "1": "14"
                                },
                                {
                                    "0": "Asian Food Enthusiasts",
                                    "1": "14"
                                },
                                {
                                    "0": "Asthma Sufferers",
                                    "1": "14"
                                },
                                {
                                    "0": "At-Home Gym Intenders",
                                    "1": "14"
                                },
                                {
                                    "0": "Atlanta Trip Planners",
                                    "1": "14"
                                },
                                {
                                    "0": "Audi Vehicle Shoppers",
                                    "1": "14"
                                },
                                {
                                    "0": "Audio Book Listeners",
                                    "1": "14"
                                },
                                {
                                    "0": "Austin Trip Planners",
                                    "1": "14"
                                },
                                {
                                    "0": "Australia Trip Planners",
                                    "1": "14"
                                },
                                {
                                    "0": "Authors",
                                    "1": "14"
                                },
                                {
                                    "0": "Auto Insurance Shoppers",
                                    "1": "14"
                                },
                                {
                                    "0": "Auto Show Enthusiasts",
                                    "1": "14"
                                },
                                {
                                    "0": "Auto-Looking for New Car Purchase or Lease",
                                    "1": "14"
                                },
                                {
                                    "0": "Automotive Safety Researchers",
                                    "1": "14"
                                },
                                {
                                    "0": "Avid Readers",
                                    "1": "14"
                                },
                                {
                                    "0": "Back Pain Sufferers",
                                    "1": "14"
                                },
                                {
                                    "0": "Beach House Second Home Owners",
                                    "1": "14"
                                },
                                {
                                    "0": "Beach Supplies Shoppers",
                                    "1": "14"
                                },
                                {
                                    "0": "Beard Care Shoppers",
                                    "1": "14"
                                },
                                {
                                    "0": "Beauty & Skincare Buyers",
                                    "1": "14"
                                },
                                {
                                    "0": "Bed & Bath Shoppers",
                                    "1": "14"
                                },
                                {
                                    "0": "Beer Aficionados",
                                    "1": "14"
                                },
                                {
                                    "0": "Beer Lovers",
                                    "1": "14"
                                },
                                {
                                    "0": "Big & Tall Men",
                                    "1": "14"
                                },
                                {
                                    "0": "Boston Celtics Fans",
                                    "1": "14"
                                },
                                {
                                    "0": "Boston Trip Planners",
                                    "1": "14"
                                },
                                {
                                    "0": "Boxing Fans",
                                    "1": "14"
                                },
                                {
                                    "0": "Brides & Wedding Planners",
                                    "1": "14"
                                },
                                {
                                    "0": "Broadway Fans",
                                    "1": "14"
                                },
                                {
                                    "0": "Budget Small Business Researchers",
                                    "1": "14"
                                },
                                {
                                    "0": "Building Service Contractors",
                                    "1": "14"
                                },
                                {
                                    "0": "Business Accounting Software Researchers",
                                    "1": "14"
                                },
                                {
                                    "0": "Business Communication Product Researchers",
                                    "1": "14"
                                },
                                {
                                    "0": "Business Filing Researchers",
                                    "1": "14"
                                },
                                {
                                    "0": "Business Incorporating & LLC Filing Researchers",
                                    "1": "14"
                                },
                                {
                                    "0": "Business Logistics Managers",
                                    "1": "14"
                                },
                                {
                                    "0": "Business Tax Filers",
                                    "1": "14"
                                },
                                {
                                    "0": "Business Travelers",
                                    "1": "14"
                                },
                                {
                                    "0": "Cable TV Shoppers",
                                    "1": "14"
                                },
                                {
                                    "0": "California Trip Planners",
                                    "1": "14"
                                },
                                {
                                    "0": "Camera Shoppers",
                                    "1": "14"
                                },
                                {
                                    "0": "Camping Enthusiasts",
                                    "1": "14"
                                },
                                {
                                    "0": "Canada Trip Planners",
                                    "1": "14"
                                },
                                {
                                    "0": "Car Buyers",
                                    "1": "14"
                                },
                                {
                                    "0": "Car Collector Enthusiasts",
                                    "1": "14"
                                },
                                {
                                    "0": "Car Rental Shoppers",
                                    "1": "14"
                                },
                                {
                                    "0": "Cardio Health Researchers",
                                    "1": "14"
                                },
                                {
                                    "0": "Career Focused Individuals",
                                    "1": "14"
                                },
                                {
                                    "0": "Caribbean Trip Planners",
                                    "1": "14"
                                },
                                {
                                    "0": "Certified Events Professionals",
                                    "1": "14"
                                },
                                {
                                    "0": "Chain Pizzeria Fans",
                                    "1": "14"
                                },
                                {
                                    "0": "Charitable Donors",
                                    "1": "14"
                                },
                                {
                                    "0": "Charitable Organization Researchers",
                                    "1": "14"
                                },
                                {
                                    "0": "Charitable Organization Supporters",
                                    "1": "14"
                                },
                                {
                                    "0": "Chelsea Fans",
                                    "1": "14"
                                },
                                {
                                    "0": "Chicago Trip Planners",
                                    "1": "14"
                                },
                                {
                                    "0": "Childrens Museum Visitors",
                                    "1": "14"
                                },
                                {
                                    "0": "Chile Trip Planners",
                                    "1": "14"
                                },
                                {
                                    "0": "Cholesterol Researchers",
                                    "1": "14"
                                },
                                {
                                    "0": "Christmas Celebration Researchers",
                                    "1": "14"
                                },
                                {
                                    "0": "Christmas Decorations Shoppers",
                                    "1": "14"
                                },
                                {
                                    "0": "Christmas Enthusiasts",
                                    "1": "14"
                                },
                                {
                                    "0": "Cigars Shoppers",
                                    "1": "14"
                                },
                                {
                                    "0": "Cinco de Mayo Celebrators",
                                    "1": "14"
                                },
                                {
                                    "0": "Civil Engineers",
                                    "1": "14"
                                },
                                {
                                    "0": "Classic Car Shoppers",
                                    "1": "14"
                                },
                                {
                                    "0": "Clinic & Lab Immunologist Professionals",
                                    "1": "14"
                                },
                                {
                                    "0": "Cloud Storage Provider Researchers",
                                    "1": "14"
                                },
                                {
                                    "0": "Coffee Chain Shoppers",
                                    "1": "14"
                                },
                                {
                                    "0": "Coffee Lovers",
                                    "1": "14"
                                },
                                {
                                    "0": "College Aspirants",
                                    "1": "14"
                                },
                                {
                                    "0": "College Football Fans",
                                    "1": "14"
                                },
                                {
                                    "0": "College Students",
                                    "1": "14"
                                },
                                {
                                    "0": "Commercial Architects and Designers",
                                    "1": "14"
                                },
                                {
                                    "0": "Commercial Banking Market Intelligence Researchers",
                                    "1": "14"
                                },
                                {
                                    "0": "Commercial Contractors & Designers",
                                    "1": "14"
                                },
                                {
                                    "0": "Commercial Healthcare Hospitality & Retail Designers",
                                    "1": "14"
                                },
                                {
                                    "0": "Commercial Vehicles Shoppers",
                                    "1": "14"
                                },
                                {
                                    "0": "Competitive Car Brand Shoppers",
                                    "1": "14"
                                },
                                {
                                    "0": "Competitive Sports Participants",
                                    "1": "14"
                                },
                                {
                                    "0": "Competitive Tri-Athletes",
                                    "1": "14"
                                },
                                {
                                    "0": "Conservative Think Tank Readers",
                                    "1": "14"
                                },
                                {
                                    "0": "Contractors & Construction Professionals",
                                    "1": "14"
                                },
                                {
                                    "0": "Cosmetics and Beauty Shoppers",
                                    "1": "14"
                                },
                                {
                                    "0": "Costa Rica Trip Planners",
                                    "1": "14"
                                },
                                {
                                    "0": "Country Music Festivals Enthusiasts",
                                    "1": "14"
                                },
                                {
                                    "0": "Crafting Enthusiasts",
                                    "1": "14"
                                },
                                {
                                    "0": "Credit Score Researchers",
                                    "1": "14"
                                },
                                {
                                    "0": "Cruise Travel Intenders",
                                    "1": "14"
                                },
                                {
                                    "0": "Cycling Enthusiasts",
                                    "1": "14"
                                },
                                {
                                    "0": "Dallas Trip Planners",
                                    "1": "14"
                                },
                                {
                                    "0": "Day Care Users",
                                    "1": "14"
                                },
                                {
                                    "0": "Democratic Donors",
                                    "1": "14"
                                },
                                {
                                    "0": "Democrats",
                                    "1": "14"
                                },
                                {
                                    "0": "Dental Hygiene Students",
                                    "1": "14"
                                },
                                {
                                    "0": "Dentists",
                                    "1": "14"
                                },
                                {
                                    "0": "Denver Trip Planners",
                                    "1": "14"
                                },
                                {
                                    "0": "Department Store Shoppers",
                                    "1": "14"
                                },
                                {
                                    "0": "Detroit Trip Planners",
                                    "1": "14"
                                },
                                {
                                    "0": "Diabetes",
                                    "1": "14"
                                },
                                {
                                    "0": "Dieters",
                                    "1": "14"
                                },
                                {
                                    "0": "Diner and Ice Cream Lovers",
                                    "1": "14"
                                },
                                {
                                    "0": "Dirt Bike Enthusiasts",
                                    "1": "14"
                                },
                                {
                                    "0": "Discount Big Box Shoppers",
                                    "1": "14"
                                },
                                {
                                    "0": "Discount Device Shoppers",
                                    "1": "14"
                                },
                                {
                                    "0": "Discount Womens Shoes Shoppers",
                                    "1": "14"
                                },
                                {
                                    "0": "Divorcees",
                                    "1": "14"
                                },
                                {
                                    "0": "Doctors",
                                    "1": "14"
                                },
                                {
                                    "0": "Drug Store Shoppers",
                                    "1": "14"
                                },
                                {
                                    "0": "Ducati Motorcycle Shoppers",
                                    "1": "14"
                                },
                                {
                                    "0": "Ecommerce Platform Researchers",
                                    "1": "14"
                                },
                                {
                                    "0": "Economy Grocery Shoppers",
                                    "1": "14"
                                },
                                {
                                    "0": "Employee Management & HR Researchers",
                                    "1": "14"
                                },
                                {
                                    "0": "Engagement Ring Shoppers",
                                    "1": "14"
                                },
                                {
                                    "0": "Enterprise Field Services Researchers",
                                    "1": "14"
                                },
                                {
                                    "0": "Environmental Activists",
                                    "1": "14"
                                },
                                {
                                    "0": "European Trip Planners",
                                    "1": "14"
                                },
                                {
                                    "0": "Evangelical Christians",
                                    "1": "14"
                                },
                                {
                                    "0": "Exercise and Gym Researchers",
                                    "1": "14"
                                },
                                {
                                    "0": "Eye Health Researchers",
                                    "1": "14"
                                },
                                {
                                    "0": "Eyeglasses & Contact Lens Buyers",
                                    "1": "14"
                                },
                                {
                                    "0": "Eyeglasses Wearers",
                                    "1": "14"
                                },
                                {
                                    "0": "Family Christmas Celebration Researchers",
                                    "1": "14"
                                },
                                {
                                    "0": "Family Halloween Party Planners",
                                    "1": "14"
                                },
                                {
                                    "0": "Family Medical Practice Journal Researchers",
                                    "1": "14"
                                },
                                {
                                    "0": "Fantasy Football Enthusiasts",
                                    "1": "14"
                                },
                                {
                                    "0": "Farmers",
                                    "1": "14"
                                },
                                {
                                    "0": "Fast Fashion Shoppers",
                                    "1": "14"
                                },
                                {
                                    "0": "FC Barcelona Fans",
                                    "1": "14"
                                },
                                {
                                    "0": "Federal Employees",
                                    "1": "14"
                                },
                                {
                                    "0": "Finance Continuing Education Researchers",
                                    "1": "14"
                                },
                                {
                                    "0": "Financial Advisors",
                                    "1": "14"
                                },
                                {
                                    "0": "Financial Investors",
                                    "1": "14"
                                },
                                {
                                    "0": "Fireworks Enthusiasts",
                                    "1": "14"
                                },
                                {
                                    "0": "First Aid Researchers",
                                    "1": "14"
                                },
                                {
                                    "0": "Fishing Enthusiasts",
                                    "1": "14"
                                },
                                {
                                    "0": "Fishing Equipment Shoppers",
                                    "1": "14"
                                },
                                {
                                    "0": "Flight and Hotel Shoppers",
                                    "1": "14"
                                },
                                {
                                    "0": "Flooring Shoppers",
                                    "1": "14"
                                },
                                {
                                    "0": "Florida Atlantic Coast Trip Planners",
                                    "1": "14"
                                },
                                {
                                    "0": "Florida Gulf Coast Travel Researchers",
                                    "1": "14"
                                },
                                {
                                    "0": "Flower & Gift Basket Shoppers",
                                    "1": "14"
                                },
                                {
                                    "0": "Food Industry Professionals",
                                    "1": "14"
                                },
                                {
                                    "0": "Food Safety Decision Makers",
                                    "1": "14"
                                },
                                {
                                    "0": "Food Safety QA Professionals",
                                    "1": "14"
                                },
                                {
                                    "0": "Ford Vehicle Shoppers",
                                    "1": "14"
                                },
                                {
                                    "0": "Foreman and Construction Managers",
                                    "1": "14"
                                },
                                {
                                    "0": "Fort Lauderdale Trip Planners",
                                    "1": "14"
                                },
                                {
                                    "0": "Fragrance Shoppers",
                                    "1": "14"
                                },
                                {
                                    "0": "France Trip Planners",
                                    "1": "14"
                                },
                                {
                                    "0": "Freelancers",
                                    "1": "14"
                                },
                                {
                                    "0": "Furniture Shoppers",
                                    "1": "14"
                                },
                                {
                                    "0": "Game of Thrones Fans",
                                    "1": "14"
                                },
                                {
                                    "0": "Gastroenterologists",
                                    "1": "14"
                                },
                                {
                                    "0": "Gastroenterology Journal Researchers",
                                    "1": "14"
                                },
                                {
                                    "0": "Gen Z Apparel Shoppers",
                                    "1": "14"
                                },
                                {
                                    "0": "Georgia Trip Planners",
                                    "1": "14"
                                },
                                {
                                    "0": "Gluten-Free Recipe Researchers",
                                    "1": "14"
                                },
                                {
                                    "0": "Golf Enthusiasts",
                                    "1": "14"
                                },
                                {
                                    "0": "Gourmet Food Purchasers",
                                    "1": "14"
                                },
                                {
                                    "0": "Gun Control Advocates",
                                    "1": "14"
                                },
                                {
                                    "0": "Gun Rights Advocates",
                                    "1": "14"
                                },
                                {
                                    "0": "Gym Equipment Owners",
                                    "1": "14"
                                },
                                {
                                    "0": "Halloween Costume Shoppers",
                                    "1": "14"
                                },
                                {
                                    "0": "Halloween Decorations Shoppers",
                                    "1": "14"
                                },
                                {
                                    "0": "Halloween Thrill Seekers",
                                    "1": "14"
                                },
                                {
                                    "0": "Hands-On Parents",
                                    "1": "14"
                                },
                                {
                                    "0": "Hanukkah Celebration Planners",
                                    "1": "14"
                                },
                                {
                                    "0": "Hanukkah Decorations Shoppers",
                                    "1": "14"
                                },
                                {
                                    "0": "Hardware Shoppers",
                                    "1": "14"
                                },
                                {
                                    "0": "Harley Davidson Shoppers",
                                    "1": "14"
                                },
                                {
                                    "0": "Harry Potter Fans",
                                    "1": "14"
                                },
                                {
                                    "0": "Harvard University Fans",
                                    "1": "14"
                                },
                                {
                                    "0": "Hawaii Trip Planners",
                                    "1": "14"
                                },
                                {
                                    "0": "HDTV Researchers",
                                    "1": "14"
                                },
                                {
                                    "0": "Health Insurance Researchers",
                                    "1": "14"
                                },
                                {
                                    "0": "Healthcare Discount Shoppers",
                                    "1": "14"
                                },
                                {
                                    "0": "Healthcare Provider Education Researchers",
                                    "1": "14"
                                },
                                {
                                    "0": "Healthcare Thought Leaders",
                                    "1": "14"
                                },
                                {
                                    "0": "Heart Health Researchers",
                                    "1": "14"
                                },
                                {
                                    "0": "Hematologists",
                                    "1": "14"
                                },
                                {
                                    "0": "High-End Camera Shoppers",
                                    "1": "14"
                                },
                                {
                                    "0": "High-End Kids Furniture and Clothes Shoppers",
                                    "1": "14"
                                },
                                {
                                    "0": "Hiking Enthusiasts",
                                    "1": "14"
                                },
                                {
                                    "0": "Home Buyers",
                                    "1": "14"
                                },
                                {
                                    "0": "Home Decor Shoppers",
                                    "1": "14"
                                },
                                {
                                    "0": "Home Healthcare Researchers",
                                    "1": "14"
                                },
                                {
                                    "0": "Home Printer Shoppers",
                                    "1": "14"
                                },
                                {
                                    "0": "Home Wifi Researchers",
                                    "1": "14"
                                },
                                {
                                    "0": "Horse Race Enthusiasts",
                                    "1": "14"
                                },
                                {
                                    "0": "Houston Trip Planners",
                                    "1": "14"
                                },
                                {
                                    "0": "HVAC Service Researchers",
                                    "1": "14"
                                },
                                {
                                    "0": "Identity Theft Protection Researchers",
                                    "1": "14"
                                },
                                {
                                    "0": "Immigration Control Advocates",
                                    "1": "14"
                                },
                                {
                                    "0": "Immigration Rights Advocates",
                                    "1": "14"
                                },
                                {
                                    "0": "In-Market Car Shoppers",
                                    "1": "14"
                                },
                                {
                                    "0": "Indie Coffee Shoppers",
                                    "1": "14"
                                },
                                {
                                    "0": "Indoor Cycling & Spinning Enthusiasts",
                                    "1": "14"
                                },
                                {
                                    "0": "Ink & Toner Shoppers",
                                    "1": "14"
                                },
                                {
                                    "0": "Insurance Professionals",
                                    "1": "14"
                                },
                                {
                                    "0": "Internal Medicine Journal Researchers",
                                    "1": "14"
                                },
                                {
                                    "0": "Intimates Shoppers",
                                    "1": "14"
                                },
                                {
                                    "0": "Investment Banking Professionals",
                                    "1": "14"
                                },
                                {
                                    "0": "Investment Management Professionals",
                                    "1": "14"
                                },
                                {
                                    "0": "Investment Services Intenders",
                                    "1": "14"
                                },
                                {
                                    "0": "IT News Readers",
                                    "1": "14"
                                },
                                {
                                    "0": "Italian Chain Restaurant Eaters",
                                    "1": "14"
                                },
                                {
                                    "0": "Italian Food Enthusiasts",
                                    "1": "14"
                                },
                                {
                                    "0": "Italian Mens National Soccer Team Fans",
                                    "1": "14"
                                },
                                {
                                    "0": "Jaguar Vehicle Shoppers",
                                    "1": "14"
                                },
                                {
                                    "0": "Japanese Luxury Car Enthusiasts",
                                    "1": "14"
                                },
                                {
                                    "0": "Jeep Vehicle Shoppers",
                                    "1": "14"
                                },
                                {
                                    "0": "Jewelry & Watch Shoppers",
                                    "1": "14"
                                },
                                {
                                    "0": "Job Seekers",
                                    "1": "14"
                                },
                                {
                                    "0": "Joint Pain Health Care Professionals",
                                    "1": "14"
                                },
                                {
                                    "0": "Joint Pain Sufferers",
                                    "1": "14"
                                },
                                {
                                    "0": "Kids Clothing Shoppers",
                                    "1": "14"
                                },
                                {
                                    "0": "Kitchen and Home Goods Shoppers",
                                    "1": "14"
                                },
                                {
                                    "0": "Kitchen Appliance Shoppers",
                                    "1": "14"
                                },
                                {
                                    "0": "Kosher Recipe Researchers",
                                    "1": "14"
                                },
                                {
                                    "0": "Lacrosse Enthusiasts",
                                    "1": "14"
                                },
                                {
                                    "0": "Land Rover Shoppers",
                                    "1": "14"
                                },
                                {
                                    "0": "Landscape Architects",
                                    "1": "14"
                                },
                                {
                                    "0": "Language Learners",
                                    "1": "14"
                                },
                                {
                                    "0": "Las Vegas Nightlife Researchers",
                                    "1": "14"
                                },
                                {
                                    "0": "Las Vegas Trip Planners",
                                    "1": "14"
                                },
                                {
                                    "0": "Last Minute Travelers",
                                    "1": "14"
                                },
                                {
                                    "0": "Law Enforcement Officers",
                                    "1": "14"
                                },
                                {
                                    "0": "Lawyers",
                                    "1": "14"
                                },
                                {
                                    "0": "Liberal Think Tank Readers",
                                    "1": "14"
                                },
                                {
                                    "0": "Life Insurance Researchers",
                                    "1": "14"
                                },
                                {
                                    "0": "Loan Comparison Researchers",
                                    "1": "14"
                                },
                                {
                                    "0": "Lobbyists",
                                    "1": "14"
                                },
                                {
                                    "0": "Logistics Professionals",
                                    "1": "14"
                                },
                                {
                                    "0": "Long Beach California Trip Planners",
                                    "1": "14"
                                },
                                {
                                    "0": "Los Angeles Mass Transit Commuters",
                                    "1": "14"
                                },
                                {
                                    "0": "Los Angeles Trip Planners",
                                    "1": "14"
                                },
                                {
                                    "0": "Luggage Shoppers",
                                    "1": "14"
                                },
                                {
                                    "0": "Luxury Bedding Shoppers",
                                    "1": "14"
                                },
                                {
                                    "0": "Luxury Boutique Hotel Researchers",
                                    "1": "14"
                                },
                                {
                                    "0": "Luxury Department Store Shoppers",
                                    "1": "14"
                                },
                                {
                                    "0": "Luxury Home Fixture Shoppers",
                                    "1": "14"
                                },
                                {
                                    "0": "Luxury Hotel Guests",
                                    "1": "14"
                                },
                                {
                                    "0": "Luxury Kitchen Goods Shoppers",
                                    "1": "14"
                                },
                                {
                                    "0": "Luxury Retail Researchers",
                                    "1": "14"
                                },
                                {
                                    "0": "Luxury Retail Shoppers",
                                    "1": "14"
                                },
                                {
                                    "0": "Luxury Travel Researchers",
                                    "1": "14"
                                },
                                {
                                    "0": "Luxury Womens Brands Shoppers",
                                    "1": "14"
                                },
                                {
                                    "0": "Mailing & Shipping Shoppers",
                                    "1": "14"
                                },
                                {
                                    "0": "Major Airline Customers",
                                    "1": "14"
                                },
                                {
                                    "0": "Major Appliance Shoppers",
                                    "1": "14"
                                },
                                {
                                    "0": "Makeup Researchers",
                                    "1": "14"
                                },
                                {
                                    "0": "Manchester United Fans",
                                    "1": "14"
                                },
                                {
                                    "0": "March Madness Enthusiasts",
                                    "1": "14"
                                },
                                {
                                    "0": "Marijuana Legalization Advocates",
                                    "1": "14"
                                },
                                {
                                    "0": "Marijuana Prohibition Advocates",
                                    "1": "14"
                                },
                                {
                                    "0": "Martial Arts Enthusiasts",
                                    "1": "14"
                                },
                                {
                                    "0": "Masters in Management Researchers",
                                    "1": "14"
                                },
                                {
                                    "0": "Mattress Researchers",
                                    "1": "14"
                                },
                                {
                                    "0": "Mattress Shoppers",
                                    "1": "14"
                                },
                                {
                                    "0": "Medical Advice Researchers",
                                    "1": "14"
                                },
                                {
                                    "0": "Medicare Price Shoppers",
                                    "1": "14"
                                },
                                {
                                    "0": "Medicare Provider Researchers",
                                    "1": "14"
                                },
                                {
                                    "0": "Medicare Researchers",
                                    "1": "14"
                                },
                                {
                                    "0": "Mens Clothing Shoppers",
                                    "1": "14"
                                },
                                {
                                    "0": "Mens Health Researchers",
                                    "1": "14"
                                },
                                {
                                    "0": "Mens Shaving Products Shoppers",
                                    "1": "14"
                                },
                                {
                                    "0": "Mens Shoe Shoppers",
                                    "1": "14"
                                },
                                {
                                    "0": "Mercedes-Benz Vehicle Shoppers",
                                    "1": "14"
                                },
                                {
                                    "0": "Mexico Trip Planners",
                                    "1": "14"
                                },
                                {
                                    "0": "Miami Trip Planners",
                                    "1": "14"
                                },
                                {
                                    "0": "Mid-Range Grocery Shoppers",
                                    "1": "14"
                                },
                                {
                                    "0": "Military Families",
                                    "1": "14"
                                },
                                {
                                    "0": "Military Personal Finance Researchers",
                                    "1": "14"
                                },
                                {
                                    "0": "MLB Fans",
                                    "1": "14"
                                },
                                {
                                    "0": "Mortgage Researchers",
                                    "1": "14"
                                },
                                {
                                    "0": "Motorcycle Purchasers",
                                    "1": "14"
                                },
                                {
                                    "0": "Movie Ticket Buyers",
                                    "1": "14"
                                },
                                {
                                    "0": "Moviegoers",
                                    "1": "14"
                                },
                                {
                                    "0": "Moving Services Shoppers",
                                    "1": "14"
                                },
                                {
                                    "0": "Nascar Fans",
                                    "1": "14"
                                },
                                {
                                    "0": "Nashville Trip Planners",
                                    "1": "14"
                                },
                                {
                                    "0": "Natural Pet Food Shoppers",
                                    "1": "14"
                                },
                                {
                                    "0": "NBA Fans",
                                    "1": "14"
                                },
                                {
                                    "0": "NCAA Fans",
                                    "1": "14"
                                },
                                {
                                    "0": "NCAA Football Fans",
                                    "1": "14"
                                },
                                {
                                    "0": "Neurologists",
                                    "1": "14"
                                },
                                {
                                    "0": "New Orleans Trip Planners",
                                    "1": "14"
                                },
                                {
                                    "0": "New Years Eve Party Ticket Purchasers",
                                    "1": "14"
                                },
                                {
                                    "0": "New York Trip Planners",
                                    "1": "14"
                                },
                                {
                                    "0": "New Zealand Trip Planners",
                                    "1": "14"
                                },
                                {
                                    "0": "NHL Fans",
                                    "1": "14"
                                },
                                {
                                    "0": "Nissan Vehicle Shoppers",
                                    "1": "14"
                                },
                                {
                                    "0": "Non-Profit Volunteers",
                                    "1": "14"
                                },
                                {
                                    "0": "Norfolk and Virginia Beach Trip Planners",
                                    "1": "14"
                                },
                                {
                                    "0": "North Carolina Football Fans",
                                    "1": "14"
                                },
                                {
                                    "0": "North Carolina Travel Researchers",
                                    "1": "14"
                                },
                                {
                                    "0": "Nurses",
                                    "1": "14"
                                },
                                {
                                    "0": "Nursing and Physicians Assistant Journal Researchers",
                                    "1": "14"
                                },
                                {
                                    "0": "Nursing Students",
                                    "1": "14"
                                },
                                {
                                    "0": "Nutrition Conscious Eaters",
                                    "1": "14"
                                },
                                {
                                    "0": "Off Road Accessories Enthusiasts",
                                    "1": "14"
                                },
                                {
                                    "0": "Office Supply Shoppers",
                                    "1": "14"
                                },
                                {
                                    "0": "Oil Brand Shoppers",
                                    "1": "14"
                                },
                                {
                                    "0": "Oil Change Customers",
                                    "1": "14"
                                },
                                {
                                    "0": "Olympic Sports Enthusiasts",
                                    "1": "14"
                                },
                                {
                                    "0": "Olympics Fans",
                                    "1": "14"
                                },
                                {
                                    "0": "Oncology Researchers",
                                    "1": "14"
                                },
                                {
                                    "0": "Online Alcohol Shoppers",
                                    "1": "14"
                                },
                                {
                                    "0": "Online Auto Shoppers",
                                    "1": "14"
                                },
                                {
                                    "0": "Online Card Games Players",
                                    "1": "14"
                                },
                                {
                                    "0": "Online Directory Searchers",
                                    "1": "14"
                                },
                                {
                                    "0": "Online Education Intenders",
                                    "1": "14"
                                },
                                {
                                    "0": "Online Games Enthusiasts",
                                    "1": "14"
                                },
                                {
                                    "0": "Online Grocery Shoppers",
                                    "1": "14"
                                },
                                {
                                    "0": "Online Health Researchers",
                                    "1": "14"
                                },
                                {
                                    "0": "Online Home Decor Shoppers",
                                    "1": "14"
                                },
                                {
                                    "0": "Online Investors",
                                    "1": "14"
                                },
                                {
                                    "0": "Online Movie Downloaders",
                                    "1": "14"
                                },
                                {
                                    "0": "Online Shoppers",
                                    "1": "14"
                                },
                                {
                                    "0": "Oral Hygiene Shoppers",
                                    "1": "14"
                                },
                                {
                                    "0": "Order-in Eaters",
                                    "1": "14"
                                },
                                {
                                    "0": "Organic Food Buyers",
                                    "1": "14"
                                },
                                {
                                    "0": "Orlando Trip Planners",
                                    "1": "14"
                                },
                                {
                                    "0": "Orthodontics Researchers",
                                    "1": "14"
                                },
                                {
                                    "0": "Orthopedic Health Researchers",
                                    "1": "14"
                                },
                                {
                                    "0": "Outdoors Enthusiasts",
                                    "1": "14"
                                },
                                {
                                    "0": "Pain Management Researchers",
                                    "1": "14"
                                },
                                {
                                    "0": "Pain Medication Users",
                                    "1": "14"
                                },
                                {
                                    "0": "Pandora Jewelry Shoppers",
                                    "1": "14"
                                },
                                {
                                    "0": "Parents of High School Students",
                                    "1": "14"
                                },
                                {
                                    "0": "Parents of Teenagers Going to College",
                                    "1": "14"
                                },
                                {
                                    "0": "Patio Furniture Shoppers",
                                    "1": "14"
                                },
                                {
                                    "0": "Patriotic Party Decoration Shoppers",
                                    "1": "14"
                                },
                                {
                                    "0": "Pediatric Provider Researchers",
                                    "1": "14"
                                },
                                {
                                    "0": "Pediatricians",
                                    "1": "14"
                                },
                                {
                                    "0": "Personal Bank Comparison Researchers",
                                    "1": "14"
                                },
                                {
                                    "0": "Pet Food Shoppers",
                                    "1": "14"
                                },
                                {
                                    "0": "Pharmacists",
                                    "1": "14"
                                },
                                {
                                    "0": "Philadelphia Trip Planners",
                                    "1": "14"
                                },
                                {
                                    "0": "Phoenix Trip Planners",
                                    "1": "14"
                                },
                                {
                                    "0": "Phone Accessory Shoppers",
                                    "1": "14"
                                },
                                {
                                    "0": "Photo Memory Makers",
                                    "1": "14"
                                },
                                {
                                    "0": "Photography Enthusiasts",
                                    "1": "14"
                                },
                                {
                                    "0": "Physicians",
                                    "1": "14"
                                }
                            ]
                        },
                        "text/html": [
                            "<table>",
                            "<tr><th>interest_name</th><th>time</th></tr>",
                            "<tr><td>Pizza Lovers</td><td>18</td></tr>",
                            "<tr><td>Plus Size Women</td><td>14</td></tr>",
                            "<tr><td>Pool and Spa Researchers</td><td>14</td></tr>",
                            "<tr><td>Portugal Trip Planners</td><td>14</td></tr>",
                            "<tr><td>Powerboat Purchasers</td><td>14</td></tr>",
                            "<tr><td>Pre-Measured Grocery Shoppers</td><td>14</td></tr>",
                            "<tr><td>Premier League Fans</td><td>14</td></tr>",
                            "<tr><td>Preppy Clothing Shoppers</td><td>14</td></tr>",
                            "<tr><td>Price Conscious Home Shoppers</td><td>14</td></tr>",
                            "<tr><td>Professional Chefs</td><td>14</td></tr>",
                            "<tr><td>Professional Sound Products Researchers</td><td>14</td></tr>",
                            "<tr><td>Property and Facility Managers</td><td>14</td></tr>",
                            "<tr><td>Property Insurance Researchers</td><td>14</td></tr>",
                            "<tr><td>Quads and ATV Enthusiasts</td><td>14</td></tr>",
                            "<tr><td>Readers of Chinese Content</td><td>14</td></tr>",
                            "<tr><td>Readers of Costa Rican Content</td><td>14</td></tr>",
                            "<tr><td>Readers of Data Scientist blogs</td><td>14</td></tr>",
                            "<tr><td>Readers of Italian Content</td><td>14</td></tr>",
                            "<tr><td>Readers of Jewish News</td><td>14</td></tr>",
                            "<tr><td>Readers of Malayalam Content</td><td>14</td></tr>",
                            "<tr><td>Real Estate Decision Makers</td><td>14</td></tr>",
                            "<tr><td>Realtors &amp; Real Estate Researchers</td><td>14</td></tr>",
                            "<tr><td>Recently Retired Individuals</td><td>14</td></tr>",
                            "<tr><td>Recreational Sports Participants</td><td>14</td></tr>",
                            "<tr><td>Reggaeton Fans</td><td>14</td></tr>",
                            "<tr><td>Respirologists and Pulmonologists</td><td>14</td></tr>",
                            "<tr><td>Restaurant News Readers</td><td>14</td></tr>",
                            "<tr><td>Restaurant Researchers</td><td>14</td></tr>",
                            "<tr><td>Restaurant Supply Shoppers</td><td>14</td></tr>",
                            "<tr><td>Retirees</td><td>14</td></tr>",
                            "<tr><td>Retirement Planners</td><td>14</td></tr>",
                            "<tr><td>Reusable Drinkware Shoppers</td><td>14</td></tr>",
                            "<tr><td>Rideshare App Users</td><td>14</td></tr>",
                            "<tr><td>Right Wing Radicals</td><td>14</td></tr>",
                            "<tr><td>Roommate Seekers</td><td>14</td></tr>",
                            "<tr><td>Rugby Fans</td><td>14</td></tr>",
                            "<tr><td>Running Enthusiasts</td><td>14</td></tr>",
                            "<tr><td>Russia Trip Planners</td><td>14</td></tr>",
                            "<tr><td>RV Shoppers</td><td>14</td></tr>",
                            "<tr><td>Sailing Enthusiasts</td><td>14</td></tr>",
                            "<tr><td>Sale Seekers</td><td>14</td></tr>",
                            "<tr><td>San Diego Trip Planners</td><td>14</td></tr>",
                            "<tr><td>San Francisco Trip Planners</td><td>14</td></tr>",
                            "<tr><td>Santa Monica Trip Planners</td><td>14</td></tr>",
                            "<tr><td>Satellite TV Buyers</td><td>14</td></tr>",
                            "<tr><td>School Supply Shoppers</td><td>14</td></tr>",
                            "<tr><td>Seasonal Allergy Sufferers</td><td>14</td></tr>",
                            "<tr><td>Seattle Trip Planners</td><td>14</td></tr>",
                            "<tr><td>Senior Caregivers</td><td>14</td></tr>",
                            "<tr><td>Senior Living Center Researchers</td><td>14</td></tr>",
                            "<tr><td>SEO Specialists</td><td>14</td></tr>",
                            "<tr><td>Shared Work Space Researchers</td><td>14</td></tr>",
                            "<tr><td>Shoe Shoppers</td><td>14</td></tr>",
                            "<tr><td>Sightseeing Travelers</td><td>14</td></tr>",
                            "<tr><td>Ski and Snowboard Enthusiasts</td><td>14</td></tr>",
                            "<tr><td>Ski House Second Home Owners</td><td>14</td></tr>",
                            "<tr><td>Skin Care Researchers</td><td>14</td></tr>",
                            "<tr><td>Sleep Disorder Researchers</td><td>14</td></tr>",
                            "<tr><td>Small Business Employees</td><td>14</td></tr>",
                            "<tr><td>Smart Home Product Researchers</td><td>14</td></tr>",
                            "<tr><td>Soccer Fans</td><td>14</td></tr>",
                            "<tr><td>Software Directory Researchers</td><td>14</td></tr>",
                            "<tr><td>Solar Energy Solution Shoppers</td><td>14</td></tr>",
                            "<tr><td>Sony Fans</td><td>14</td></tr>",
                            "<tr><td>Spa and Pool Owners</td><td>14</td></tr>",
                            "<tr><td>Spa Goers</td><td>14</td></tr>",
                            "<tr><td>Special Olympics Fans</td><td>14</td></tr>",
                            "<tr><td>Sporting Goods Shoppers</td><td>14</td></tr>",
                            "<tr><td>Sports Gamblers</td><td>14</td></tr>",
                            "<tr><td>Sports Medicine Health Care Professionals</td><td>14</td></tr>",
                            "<tr><td>Stay-at-Home Parents</td><td>14</td></tr>",
                            "<tr><td>Streaming Music Enthusiasts</td><td>14</td></tr>",
                            "<tr><td>Study Abroad Researchers</td><td>14</td></tr>",
                            "<tr><td>Summer Activities Researchers</td><td>14</td></tr>",
                            "<tr><td>Summer Festivals and Fairs Visitors</td><td>14</td></tr>",
                            "<tr><td>Supermarket Shoppers</td><td>14</td></tr>",
                            "<tr><td>Supply Chain Professionals</td><td>14</td></tr>",
                            "<tr><td>Surfers</td><td>14</td></tr>",
                            "<tr><td>Sweet Tooths</td><td>14</td></tr>",
                            "<tr><td>Tailgaters</td><td>14</td></tr>",
                            "<tr><td>Teachers</td><td>14</td></tr>",
                            "<tr><td>Tech-Savvy Moms</td><td>14</td></tr>",
                            "<tr><td>Teen Girl Clothing Shoppers</td><td>14</td></tr>",
                            "<tr><td>Tennis Players</td><td>14</td></tr>",
                            "<tr><td>Texas Energy Providers</td><td>14</td></tr>",
                            "<tr><td>Texas Trip Planners</td><td>14</td></tr>",
                            "<tr><td>Thanksgiving Entertaining Researchers</td><td>14</td></tr>",
                            "<tr><td>Thanksgiving Meal Planners</td><td>14</td></tr>",
                            "<tr><td>Theme Park Researchers</td><td>14</td></tr>",
                            "<tr><td>Thrift Store Shoppers</td><td>14</td></tr>",
                            "<tr><td>Tire Researchers</td><td>14</td></tr>",
                            "<tr><td>Tire Shoppers</td><td>14</td></tr>",
                            "<tr><td>Toyota Vehicle Shopper</td><td>14</td></tr>",
                            "<tr><td>Tractor Shoppers</td><td>14</td></tr>",
                            "<tr><td>Travel Researchers</td><td>14</td></tr>",
                            "<tr><td>Travel Reward Points Enthusiasts</td><td>14</td></tr>",
                            "<tr><td>United Arab Emirates Trip Planners</td><td>14</td></tr>",
                            "<tr><td>Urban Skateboarding Sneaker Shoppers</td><td>14</td></tr>",
                            "<tr><td>Used Car Shoppers</td><td>14</td></tr>",
                            "<tr><td>Vacation Planners</td><td>14</td></tr>",
                            "<tr><td>Vacation Rental Accommodation Researchers</td><td>14</td></tr>",
                            "<tr><td>Vacuum Shoppers</td><td>14</td></tr>",
                            "<tr><td>Vaping Shoppers</td><td>14</td></tr>",
                            "<tr><td>Vegans</td><td>14</td></tr>",
                            "<tr><td>Venture Capitalists</td><td>14</td></tr>",
                            "<tr><td>Video Game Shoppers</td><td>14</td></tr>",
                            "<tr><td>Videographers</td><td>14</td></tr>",
                            "<tr><td>Vitamin Shoppers</td><td>14</td></tr>",
                            "<tr><td>Washington DC Trip Planners</td><td>14</td></tr>",
                            "<tr><td>Water Park Visitors</td><td>14</td></tr>",
                            "<tr><td>Web Design Researchers</td><td>14</td></tr>",
                            "<tr><td>Weight Lifting Enthusiasts</td><td>14</td></tr>",
                            "<tr><td>Weight Loss Researchers</td><td>14</td></tr>",
                            "<tr><td>Whiskey Lovers</td><td>14</td></tr>",
                            "<tr><td>Wireless Service Provider Researchers</td><td>14</td></tr>",
                            "<tr><td>Womens Equality Advocates</td><td>14</td></tr>",
                            "<tr><td>Womens Fashion Brands Shoppers</td><td>14</td></tr>",
                            "<tr><td>World Cup Apparel Shoppers</td><td>14</td></tr>",
                            "<tr><td>World Cup Enthusiasts</td><td>14</td></tr>",
                            "<tr><td>Yachting Enthusiasts</td><td>14</td></tr>",
                            "<tr><td>Yale University Fans</td><td>14</td></tr>",
                            "<tr><td>Yogis</td><td>14</td></tr>",
                            "<tr><td>Zoo Visitors</td><td>14</td></tr>",
                            "<tr><td>Accounting &amp; CPA Continuing Education Researchers</td><td>14</td></tr>",
                            "<tr><td>Affordable Hotel Bookers</td><td>14</td></tr>",
                            "<tr><td>Aftermarket Accessories Shoppers</td><td>14</td></tr>",
                            "<tr><td>Alabama Trip Planners</td><td>14</td></tr>",
                            "<tr><td>Alaskan Cruise Planners</td><td>14</td></tr>",
                            "<tr><td>Alzheimer and Dementia Researchers</td><td>14</td></tr>",
                            "<tr><td>Anesthesiologists</td><td>14</td></tr>",
                            "<tr><td>Apartment Furniture Shoppers</td><td>14</td></tr>",
                            "<tr><td>Apartment Hunters</td><td>14</td></tr>",
                            "<tr><td>Apple Fans</td><td>14</td></tr>",
                            "<tr><td>Arizona Trip Planners</td><td>14</td></tr>",
                            "<tr><td>Arsenal Fans</td><td>14</td></tr>",
                            "<tr><td>Arthritis Sufferers</td><td>14</td></tr>",
                            "<tr><td>Asian Food Enthusiasts</td><td>14</td></tr>",
                            "<tr><td>Asthma Sufferers</td><td>14</td></tr>",
                            "<tr><td>At-Home Gym Intenders</td><td>14</td></tr>",
                            "<tr><td>Atlanta Trip Planners</td><td>14</td></tr>",
                            "<tr><td>Audi Vehicle Shoppers</td><td>14</td></tr>",
                            "<tr><td>Audio Book Listeners</td><td>14</td></tr>",
                            "<tr><td>Austin Trip Planners</td><td>14</td></tr>",
                            "<tr><td>Australia Trip Planners</td><td>14</td></tr>",
                            "<tr><td>Authors</td><td>14</td></tr>",
                            "<tr><td>Auto Insurance Shoppers</td><td>14</td></tr>",
                            "<tr><td>Auto Show Enthusiasts</td><td>14</td></tr>",
                            "<tr><td>Auto-Looking for New Car Purchase or Lease</td><td>14</td></tr>",
                            "<tr><td>Automotive Safety Researchers</td><td>14</td></tr>",
                            "<tr><td>Avid Readers</td><td>14</td></tr>",
                            "<tr><td>Back Pain Sufferers</td><td>14</td></tr>",
                            "<tr><td>Beach House Second Home Owners</td><td>14</td></tr>",
                            "<tr><td>Beach Supplies Shoppers</td><td>14</td></tr>",
                            "<tr><td>Beard Care Shoppers</td><td>14</td></tr>",
                            "<tr><td>Beauty &amp; Skincare Buyers</td><td>14</td></tr>",
                            "<tr><td>Bed &amp; Bath Shoppers</td><td>14</td></tr>",
                            "<tr><td>Beer Aficionados</td><td>14</td></tr>",
                            "<tr><td>Beer Lovers</td><td>14</td></tr>",
                            "<tr><td>Big &amp; Tall Men</td><td>14</td></tr>",
                            "<tr><td>Boston Celtics Fans</td><td>14</td></tr>",
                            "<tr><td>Boston Trip Planners</td><td>14</td></tr>",
                            "<tr><td>Boxing Fans</td><td>14</td></tr>",
                            "<tr><td>Brides &amp; Wedding Planners</td><td>14</td></tr>",
                            "<tr><td>Broadway Fans</td><td>14</td></tr>",
                            "<tr><td>Budget Small Business Researchers</td><td>14</td></tr>",
                            "<tr><td>Building Service Contractors</td><td>14</td></tr>",
                            "<tr><td>Business Accounting Software Researchers</td><td>14</td></tr>",
                            "<tr><td>Business Communication Product Researchers</td><td>14</td></tr>",
                            "<tr><td>Business Filing Researchers</td><td>14</td></tr>",
                            "<tr><td>Business Incorporating &amp; LLC Filing Researchers</td><td>14</td></tr>",
                            "<tr><td>Business Logistics Managers</td><td>14</td></tr>",
                            "<tr><td>Business Tax Filers</td><td>14</td></tr>",
                            "<tr><td>Business Travelers</td><td>14</td></tr>",
                            "<tr><td>Cable TV Shoppers</td><td>14</td></tr>",
                            "<tr><td>California Trip Planners</td><td>14</td></tr>",
                            "<tr><td>Camera Shoppers</td><td>14</td></tr>",
                            "<tr><td>Camping Enthusiasts</td><td>14</td></tr>",
                            "<tr><td>Canada Trip Planners</td><td>14</td></tr>",
                            "<tr><td>Car Buyers</td><td>14</td></tr>",
                            "<tr><td>Car Collector Enthusiasts</td><td>14</td></tr>",
                            "<tr><td>Car Rental Shoppers</td><td>14</td></tr>",
                            "<tr><td>Cardio Health Researchers</td><td>14</td></tr>",
                            "<tr><td>Career Focused Individuals</td><td>14</td></tr>",
                            "<tr><td>Caribbean Trip Planners</td><td>14</td></tr>",
                            "<tr><td>Certified Events Professionals</td><td>14</td></tr>",
                            "<tr><td>Chain Pizzeria Fans</td><td>14</td></tr>",
                            "<tr><td>Charitable Donors</td><td>14</td></tr>",
                            "<tr><td>Charitable Organization Researchers</td><td>14</td></tr>",
                            "<tr><td>Charitable Organization Supporters</td><td>14</td></tr>",
                            "<tr><td>Chelsea Fans</td><td>14</td></tr>",
                            "<tr><td>Chicago Trip Planners</td><td>14</td></tr>",
                            "<tr><td>Childrens Museum Visitors</td><td>14</td></tr>",
                            "<tr><td>Chile Trip Planners</td><td>14</td></tr>",
                            "<tr><td>Cholesterol Researchers</td><td>14</td></tr>",
                            "<tr><td>Christmas Celebration Researchers</td><td>14</td></tr>",
                            "<tr><td>Christmas Decorations Shoppers</td><td>14</td></tr>",
                            "<tr><td>Christmas Enthusiasts</td><td>14</td></tr>",
                            "<tr><td>Cigars Shoppers</td><td>14</td></tr>",
                            "<tr><td>Cinco de Mayo Celebrators</td><td>14</td></tr>",
                            "<tr><td>Civil Engineers</td><td>14</td></tr>",
                            "<tr><td>Classic Car Shoppers</td><td>14</td></tr>",
                            "<tr><td>Clinic &amp; Lab Immunologist Professionals</td><td>14</td></tr>",
                            "<tr><td>Cloud Storage Provider Researchers</td><td>14</td></tr>",
                            "<tr><td>Coffee Chain Shoppers</td><td>14</td></tr>",
                            "<tr><td>Coffee Lovers</td><td>14</td></tr>",
                            "<tr><td>College Aspirants</td><td>14</td></tr>",
                            "<tr><td>College Football Fans</td><td>14</td></tr>",
                            "<tr><td>College Students</td><td>14</td></tr>",
                            "<tr><td>Commercial Architects and Designers</td><td>14</td></tr>",
                            "<tr><td>Commercial Banking Market Intelligence Researchers</td><td>14</td></tr>",
                            "<tr><td>Commercial Contractors &amp; Designers</td><td>14</td></tr>",
                            "<tr><td>Commercial Healthcare Hospitality &amp; Retail Designers</td><td>14</td></tr>",
                            "<tr><td>Commercial Vehicles Shoppers</td><td>14</td></tr>",
                            "<tr><td>Competitive Car Brand Shoppers</td><td>14</td></tr>",
                            "<tr><td>Competitive Sports Participants</td><td>14</td></tr>",
                            "<tr><td>Competitive Tri-Athletes</td><td>14</td></tr>",
                            "<tr><td>Conservative Think Tank Readers</td><td>14</td></tr>",
                            "<tr><td>Contractors &amp; Construction Professionals</td><td>14</td></tr>",
                            "<tr><td>Cosmetics and Beauty Shoppers</td><td>14</td></tr>",
                            "<tr><td>Costa Rica Trip Planners</td><td>14</td></tr>",
                            "<tr><td>Country Music Festivals Enthusiasts</td><td>14</td></tr>",
                            "<tr><td>Crafting Enthusiasts</td><td>14</td></tr>",
                            "<tr><td>Credit Score Researchers</td><td>14</td></tr>",
                            "<tr><td>Cruise Travel Intenders</td><td>14</td></tr>",
                            "<tr><td>Cycling Enthusiasts</td><td>14</td></tr>",
                            "<tr><td>Dallas Trip Planners</td><td>14</td></tr>",
                            "<tr><td>Day Care Users</td><td>14</td></tr>",
                            "<tr><td>Democratic Donors</td><td>14</td></tr>",
                            "<tr><td>Democrats</td><td>14</td></tr>",
                            "<tr><td>Dental Hygiene Students</td><td>14</td></tr>",
                            "<tr><td>Dentists</td><td>14</td></tr>",
                            "<tr><td>Denver Trip Planners</td><td>14</td></tr>",
                            "<tr><td>Department Store Shoppers</td><td>14</td></tr>",
                            "<tr><td>Detroit Trip Planners</td><td>14</td></tr>",
                            "<tr><td>Diabetes</td><td>14</td></tr>",
                            "<tr><td>Dieters</td><td>14</td></tr>",
                            "<tr><td>Diner and Ice Cream Lovers</td><td>14</td></tr>",
                            "<tr><td>Dirt Bike Enthusiasts</td><td>14</td></tr>",
                            "<tr><td>Discount Big Box Shoppers</td><td>14</td></tr>",
                            "<tr><td>Discount Device Shoppers</td><td>14</td></tr>",
                            "<tr><td>Discount Womens Shoes Shoppers</td><td>14</td></tr>",
                            "<tr><td>Divorcees</td><td>14</td></tr>",
                            "<tr><td>Doctors</td><td>14</td></tr>",
                            "<tr><td>Drug Store Shoppers</td><td>14</td></tr>",
                            "<tr><td>Ducati Motorcycle Shoppers</td><td>14</td></tr>",
                            "<tr><td>Ecommerce Platform Researchers</td><td>14</td></tr>",
                            "<tr><td>Economy Grocery Shoppers</td><td>14</td></tr>",
                            "<tr><td>Employee Management &amp; HR Researchers</td><td>14</td></tr>",
                            "<tr><td>Engagement Ring Shoppers</td><td>14</td></tr>",
                            "<tr><td>Enterprise Field Services Researchers</td><td>14</td></tr>",
                            "<tr><td>Environmental Activists</td><td>14</td></tr>",
                            "<tr><td>European Trip Planners</td><td>14</td></tr>",
                            "<tr><td>Evangelical Christians</td><td>14</td></tr>",
                            "<tr><td>Exercise and Gym Researchers</td><td>14</td></tr>",
                            "<tr><td>Eye Health Researchers</td><td>14</td></tr>",
                            "<tr><td>Eyeglasses &amp; Contact Lens Buyers</td><td>14</td></tr>",
                            "<tr><td>Eyeglasses Wearers</td><td>14</td></tr>",
                            "<tr><td>Family Christmas Celebration Researchers</td><td>14</td></tr>",
                            "<tr><td>Family Halloween Party Planners</td><td>14</td></tr>",
                            "<tr><td>Family Medical Practice Journal Researchers</td><td>14</td></tr>",
                            "<tr><td>Fantasy Football Enthusiasts</td><td>14</td></tr>",
                            "<tr><td>Farmers</td><td>14</td></tr>",
                            "<tr><td>Fast Fashion Shoppers</td><td>14</td></tr>",
                            "<tr><td>FC Barcelona Fans</td><td>14</td></tr>",
                            "<tr><td>Federal Employees</td><td>14</td></tr>",
                            "<tr><td>Finance Continuing Education Researchers</td><td>14</td></tr>",
                            "<tr><td>Financial Advisors</td><td>14</td></tr>",
                            "<tr><td>Financial Investors</td><td>14</td></tr>",
                            "<tr><td>Fireworks Enthusiasts</td><td>14</td></tr>",
                            "<tr><td>First Aid Researchers</td><td>14</td></tr>",
                            "<tr><td>Fishing Enthusiasts</td><td>14</td></tr>",
                            "<tr><td>Fishing Equipment Shoppers</td><td>14</td></tr>",
                            "<tr><td>Flight and Hotel Shoppers</td><td>14</td></tr>",
                            "<tr><td>Flooring Shoppers</td><td>14</td></tr>",
                            "<tr><td>Florida Atlantic Coast Trip Planners</td><td>14</td></tr>",
                            "<tr><td>Florida Gulf Coast Travel Researchers</td><td>14</td></tr>",
                            "<tr><td>Flower &amp; Gift Basket Shoppers</td><td>14</td></tr>",
                            "<tr><td>Food Industry Professionals</td><td>14</td></tr>",
                            "<tr><td>Food Safety Decision Makers</td><td>14</td></tr>",
                            "<tr><td>Food Safety QA Professionals</td><td>14</td></tr>",
                            "<tr><td>Ford Vehicle Shoppers</td><td>14</td></tr>",
                            "<tr><td>Foreman and Construction Managers</td><td>14</td></tr>",
                            "<tr><td>Fort Lauderdale Trip Planners</td><td>14</td></tr>",
                            "<tr><td>Fragrance Shoppers</td><td>14</td></tr>",
                            "<tr><td>France Trip Planners</td><td>14</td></tr>",
                            "<tr><td>Freelancers</td><td>14</td></tr>",
                            "<tr><td>Furniture Shoppers</td><td>14</td></tr>",
                            "<tr><td>Game of Thrones Fans</td><td>14</td></tr>",
                            "<tr><td>Gastroenterologists</td><td>14</td></tr>",
                            "<tr><td>Gastroenterology Journal Researchers</td><td>14</td></tr>",
                            "<tr><td>Gen Z Apparel Shoppers</td><td>14</td></tr>",
                            "<tr><td>Georgia Trip Planners</td><td>14</td></tr>",
                            "<tr><td>Gluten-Free Recipe Researchers</td><td>14</td></tr>",
                            "<tr><td>Golf Enthusiasts</td><td>14</td></tr>",
                            "<tr><td>Gourmet Food Purchasers</td><td>14</td></tr>",
                            "<tr><td>Gun Control Advocates</td><td>14</td></tr>",
                            "<tr><td>Gun Rights Advocates</td><td>14</td></tr>",
                            "<tr><td>Gym Equipment Owners</td><td>14</td></tr>",
                            "<tr><td>Halloween Costume Shoppers</td><td>14</td></tr>",
                            "<tr><td>Halloween Decorations Shoppers</td><td>14</td></tr>",
                            "<tr><td>Halloween Thrill Seekers</td><td>14</td></tr>",
                            "<tr><td>Hands-On Parents</td><td>14</td></tr>",
                            "<tr><td>Hanukkah Celebration Planners</td><td>14</td></tr>",
                            "<tr><td>Hanukkah Decorations Shoppers</td><td>14</td></tr>",
                            "<tr><td>Hardware Shoppers</td><td>14</td></tr>",
                            "<tr><td>Harley Davidson Shoppers</td><td>14</td></tr>",
                            "<tr><td>Harry Potter Fans</td><td>14</td></tr>",
                            "<tr><td>Harvard University Fans</td><td>14</td></tr>",
                            "<tr><td>Hawaii Trip Planners</td><td>14</td></tr>",
                            "<tr><td>HDTV Researchers</td><td>14</td></tr>",
                            "<tr><td>Health Insurance Researchers</td><td>14</td></tr>",
                            "<tr><td>Healthcare Discount Shoppers</td><td>14</td></tr>",
                            "<tr><td>Healthcare Provider Education Researchers</td><td>14</td></tr>",
                            "<tr><td>Healthcare Thought Leaders</td><td>14</td></tr>",
                            "<tr><td>Heart Health Researchers</td><td>14</td></tr>",
                            "<tr><td>Hematologists</td><td>14</td></tr>",
                            "<tr><td>High-End Camera Shoppers</td><td>14</td></tr>",
                            "<tr><td>High-End Kids Furniture and Clothes Shoppers</td><td>14</td></tr>",
                            "<tr><td>Hiking Enthusiasts</td><td>14</td></tr>",
                            "<tr><td>Home Buyers</td><td>14</td></tr>",
                            "<tr><td>Home Decor Shoppers</td><td>14</td></tr>",
                            "<tr><td>Home Healthcare Researchers</td><td>14</td></tr>",
                            "<tr><td>Home Printer Shoppers</td><td>14</td></tr>",
                            "<tr><td>Home Wifi Researchers</td><td>14</td></tr>",
                            "<tr><td>Horse Race Enthusiasts</td><td>14</td></tr>",
                            "<tr><td>Houston Trip Planners</td><td>14</td></tr>",
                            "<tr><td>HVAC Service Researchers</td><td>14</td></tr>",
                            "<tr><td>Identity Theft Protection Researchers</td><td>14</td></tr>",
                            "<tr><td>Immigration Control Advocates</td><td>14</td></tr>",
                            "<tr><td>Immigration Rights Advocates</td><td>14</td></tr>",
                            "<tr><td>In-Market Car Shoppers</td><td>14</td></tr>",
                            "<tr><td>Indie Coffee Shoppers</td><td>14</td></tr>",
                            "<tr><td>Indoor Cycling &amp; Spinning Enthusiasts</td><td>14</td></tr>",
                            "<tr><td>Ink &amp; Toner Shoppers</td><td>14</td></tr>",
                            "<tr><td>Insurance Professionals</td><td>14</td></tr>",
                            "<tr><td>Internal Medicine Journal Researchers</td><td>14</td></tr>",
                            "<tr><td>Intimates Shoppers</td><td>14</td></tr>",
                            "<tr><td>Investment Banking Professionals</td><td>14</td></tr>",
                            "<tr><td>Investment Management Professionals</td><td>14</td></tr>",
                            "<tr><td>Investment Services Intenders</td><td>14</td></tr>",
                            "<tr><td>IT News Readers</td><td>14</td></tr>",
                            "<tr><td>Italian Chain Restaurant Eaters</td><td>14</td></tr>",
                            "<tr><td>Italian Food Enthusiasts</td><td>14</td></tr>",
                            "<tr><td>Italian Mens National Soccer Team Fans</td><td>14</td></tr>",
                            "<tr><td>Jaguar Vehicle Shoppers</td><td>14</td></tr>",
                            "<tr><td>Japanese Luxury Car Enthusiasts</td><td>14</td></tr>",
                            "<tr><td>Jeep Vehicle Shoppers</td><td>14</td></tr>",
                            "<tr><td>Jewelry &amp; Watch Shoppers</td><td>14</td></tr>",
                            "<tr><td>Job Seekers</td><td>14</td></tr>",
                            "<tr><td>Joint Pain Health Care Professionals</td><td>14</td></tr>",
                            "<tr><td>Joint Pain Sufferers</td><td>14</td></tr>",
                            "<tr><td>Kids Clothing Shoppers</td><td>14</td></tr>",
                            "<tr><td>Kitchen and Home Goods Shoppers</td><td>14</td></tr>",
                            "<tr><td>Kitchen Appliance Shoppers</td><td>14</td></tr>",
                            "<tr><td>Kosher Recipe Researchers</td><td>14</td></tr>",
                            "<tr><td>Lacrosse Enthusiasts</td><td>14</td></tr>",
                            "<tr><td>Land Rover Shoppers</td><td>14</td></tr>",
                            "<tr><td>Landscape Architects</td><td>14</td></tr>",
                            "<tr><td>Language Learners</td><td>14</td></tr>",
                            "<tr><td>Las Vegas Nightlife Researchers</td><td>14</td></tr>",
                            "<tr><td>Las Vegas Trip Planners</td><td>14</td></tr>",
                            "<tr><td>Last Minute Travelers</td><td>14</td></tr>",
                            "<tr><td>Law Enforcement Officers</td><td>14</td></tr>",
                            "<tr><td>Lawyers</td><td>14</td></tr>",
                            "<tr><td>Liberal Think Tank Readers</td><td>14</td></tr>",
                            "<tr><td>Life Insurance Researchers</td><td>14</td></tr>",
                            "<tr><td>Loan Comparison Researchers</td><td>14</td></tr>",
                            "<tr><td>Lobbyists</td><td>14</td></tr>",
                            "<tr><td>Logistics Professionals</td><td>14</td></tr>",
                            "<tr><td>Long Beach California Trip Planners</td><td>14</td></tr>",
                            "<tr><td>Los Angeles Mass Transit Commuters</td><td>14</td></tr>",
                            "<tr><td>Los Angeles Trip Planners</td><td>14</td></tr>",
                            "<tr><td>Luggage Shoppers</td><td>14</td></tr>",
                            "<tr><td>Luxury Bedding Shoppers</td><td>14</td></tr>",
                            "<tr><td>Luxury Boutique Hotel Researchers</td><td>14</td></tr>",
                            "<tr><td>Luxury Department Store Shoppers</td><td>14</td></tr>",
                            "<tr><td>Luxury Home Fixture Shoppers</td><td>14</td></tr>",
                            "<tr><td>Luxury Hotel Guests</td><td>14</td></tr>",
                            "<tr><td>Luxury Kitchen Goods Shoppers</td><td>14</td></tr>",
                            "<tr><td>Luxury Retail Researchers</td><td>14</td></tr>",
                            "<tr><td>Luxury Retail Shoppers</td><td>14</td></tr>",
                            "<tr><td>Luxury Travel Researchers</td><td>14</td></tr>",
                            "<tr><td>Luxury Womens Brands Shoppers</td><td>14</td></tr>",
                            "<tr><td>Mailing &amp; Shipping Shoppers</td><td>14</td></tr>",
                            "<tr><td>Major Airline Customers</td><td>14</td></tr>",
                            "<tr><td>Major Appliance Shoppers</td><td>14</td></tr>",
                            "<tr><td>Makeup Researchers</td><td>14</td></tr>",
                            "<tr><td>Manchester United Fans</td><td>14</td></tr>",
                            "<tr><td>March Madness Enthusiasts</td><td>14</td></tr>",
                            "<tr><td>Marijuana Legalization Advocates</td><td>14</td></tr>",
                            "<tr><td>Marijuana Prohibition Advocates</td><td>14</td></tr>",
                            "<tr><td>Martial Arts Enthusiasts</td><td>14</td></tr>",
                            "<tr><td>Masters in Management Researchers</td><td>14</td></tr>",
                            "<tr><td>Mattress Researchers</td><td>14</td></tr>",
                            "<tr><td>Mattress Shoppers</td><td>14</td></tr>",
                            "<tr><td>Medical Advice Researchers</td><td>14</td></tr>",
                            "<tr><td>Medicare Price Shoppers</td><td>14</td></tr>",
                            "<tr><td>Medicare Provider Researchers</td><td>14</td></tr>",
                            "<tr><td>Medicare Researchers</td><td>14</td></tr>",
                            "<tr><td>Mens Clothing Shoppers</td><td>14</td></tr>",
                            "<tr><td>Mens Health Researchers</td><td>14</td></tr>",
                            "<tr><td>Mens Shaving Products Shoppers</td><td>14</td></tr>",
                            "<tr><td>Mens Shoe Shoppers</td><td>14</td></tr>",
                            "<tr><td>Mercedes-Benz Vehicle Shoppers</td><td>14</td></tr>",
                            "<tr><td>Mexico Trip Planners</td><td>14</td></tr>",
                            "<tr><td>Miami Trip Planners</td><td>14</td></tr>",
                            "<tr><td>Mid-Range Grocery Shoppers</td><td>14</td></tr>",
                            "<tr><td>Military Families</td><td>14</td></tr>",
                            "<tr><td>Military Personal Finance Researchers</td><td>14</td></tr>",
                            "<tr><td>MLB Fans</td><td>14</td></tr>",
                            "<tr><td>Mortgage Researchers</td><td>14</td></tr>",
                            "<tr><td>Motorcycle Purchasers</td><td>14</td></tr>",
                            "<tr><td>Movie Ticket Buyers</td><td>14</td></tr>",
                            "<tr><td>Moviegoers</td><td>14</td></tr>",
                            "<tr><td>Moving Services Shoppers</td><td>14</td></tr>",
                            "<tr><td>Nascar Fans</td><td>14</td></tr>",
                            "<tr><td>Nashville Trip Planners</td><td>14</td></tr>",
                            "<tr><td>Natural Pet Food Shoppers</td><td>14</td></tr>",
                            "<tr><td>NBA Fans</td><td>14</td></tr>",
                            "<tr><td>NCAA Fans</td><td>14</td></tr>",
                            "<tr><td>NCAA Football Fans</td><td>14</td></tr>",
                            "<tr><td>Neurologists</td><td>14</td></tr>",
                            "<tr><td>New Orleans Trip Planners</td><td>14</td></tr>",
                            "<tr><td>New Years Eve Party Ticket Purchasers</td><td>14</td></tr>",
                            "<tr><td>New York Trip Planners</td><td>14</td></tr>",
                            "<tr><td>New Zealand Trip Planners</td><td>14</td></tr>",
                            "<tr><td>NHL Fans</td><td>14</td></tr>",
                            "<tr><td>Nissan Vehicle Shoppers</td><td>14</td></tr>",
                            "<tr><td>Non-Profit Volunteers</td><td>14</td></tr>",
                            "<tr><td>Norfolk and Virginia Beach Trip Planners</td><td>14</td></tr>",
                            "<tr><td>North Carolina Football Fans</td><td>14</td></tr>",
                            "<tr><td>North Carolina Travel Researchers</td><td>14</td></tr>",
                            "<tr><td>Nurses</td><td>14</td></tr>",
                            "<tr><td>Nursing and Physicians Assistant Journal Researchers</td><td>14</td></tr>",
                            "<tr><td>Nursing Students</td><td>14</td></tr>",
                            "<tr><td>Nutrition Conscious Eaters</td><td>14</td></tr>",
                            "<tr><td>Off Road Accessories Enthusiasts</td><td>14</td></tr>",
                            "<tr><td>Office Supply Shoppers</td><td>14</td></tr>",
                            "<tr><td>Oil Brand Shoppers</td><td>14</td></tr>",
                            "<tr><td>Oil Change Customers</td><td>14</td></tr>",
                            "<tr><td>Olympic Sports Enthusiasts</td><td>14</td></tr>",
                            "<tr><td>Olympics Fans</td><td>14</td></tr>",
                            "<tr><td>Oncology Researchers</td><td>14</td></tr>",
                            "<tr><td>Online Alcohol Shoppers</td><td>14</td></tr>",
                            "<tr><td>Online Auto Shoppers</td><td>14</td></tr>",
                            "<tr><td>Online Card Games Players</td><td>14</td></tr>",
                            "<tr><td>Online Directory Searchers</td><td>14</td></tr>",
                            "<tr><td>Online Education Intenders</td><td>14</td></tr>",
                            "<tr><td>Online Games Enthusiasts</td><td>14</td></tr>",
                            "<tr><td>Online Grocery Shoppers</td><td>14</td></tr>",
                            "<tr><td>Online Health Researchers</td><td>14</td></tr>",
                            "<tr><td>Online Home Decor Shoppers</td><td>14</td></tr>",
                            "<tr><td>Online Investors</td><td>14</td></tr>",
                            "<tr><td>Online Movie Downloaders</td><td>14</td></tr>",
                            "<tr><td>Online Shoppers</td><td>14</td></tr>",
                            "<tr><td>Oral Hygiene Shoppers</td><td>14</td></tr>",
                            "<tr><td>Order-in Eaters</td><td>14</td></tr>",
                            "<tr><td>Organic Food Buyers</td><td>14</td></tr>",
                            "<tr><td>Orlando Trip Planners</td><td>14</td></tr>",
                            "<tr><td>Orthodontics Researchers</td><td>14</td></tr>",
                            "<tr><td>Orthopedic Health Researchers</td><td>14</td></tr>",
                            "<tr><td>Outdoors Enthusiasts</td><td>14</td></tr>",
                            "<tr><td>Pain Management Researchers</td><td>14</td></tr>",
                            "<tr><td>Pain Medication Users</td><td>14</td></tr>",
                            "<tr><td>Pandora Jewelry Shoppers</td><td>14</td></tr>",
                            "<tr><td>Parents of High School Students</td><td>14</td></tr>",
                            "<tr><td>Parents of Teenagers Going to College</td><td>14</td></tr>",
                            "<tr><td>Patio Furniture Shoppers</td><td>14</td></tr>",
                            "<tr><td>Patriotic Party Decoration Shoppers</td><td>14</td></tr>",
                            "<tr><td>Pediatric Provider Researchers</td><td>14</td></tr>",
                            "<tr><td>Pediatricians</td><td>14</td></tr>",
                            "<tr><td>Personal Bank Comparison Researchers</td><td>14</td></tr>",
                            "<tr><td>Pet Food Shoppers</td><td>14</td></tr>",
                            "<tr><td>Pharmacists</td><td>14</td></tr>",
                            "<tr><td>Philadelphia Trip Planners</td><td>14</td></tr>",
                            "<tr><td>Phoenix Trip Planners</td><td>14</td></tr>",
                            "<tr><td>Phone Accessory Shoppers</td><td>14</td></tr>",
                            "<tr><td>Photo Memory Makers</td><td>14</td></tr>",
                            "<tr><td>Photography Enthusiasts</td><td>14</td></tr>",
                            "<tr><td>Physicians</td><td>14</td></tr>",
                            "</table>"
                        ]
                    }
                }
            ],
            "execution_count": 1
        },
        {
            "cell_type": "markdown",
            "source": [
                "    2. Using this same `total_months` measure - calculate the cumulative percentage of all records starting at 14 months - which `total_months` value passes the 90% cumulative percentage value?"
            ],
            "metadata": {
                "azdata_cell_guid": "c1258879-539c-4fde-9c78-f7dd804755a5"
            },
            "attachments": {}
        },
        {
            "cell_type": "code",
            "source": [
                "WITH tbl1 AS (\r\n",
                "    SELECT  \r\n",
                "        interest_id , \r\n",
                "        COUNT(DISTINCT month_year) as total_months\r\n",
                "    FROM interest_metrics i1\r\n",
                "    WHERE month_year IS NOT NULL\r\n",
                "    GROUP BY interest_id\r\n",
                "),\r\n",
                "tbl2 AS (  \r\n",
                "    SELECT \r\n",
                "        total_months,\r\n",
                "        CAST (COUNT(DISTINCT interest_id) AS FLOAT) as interest_count\r\n",
                "    FROM tbl1\r\n",
                "    GROUP BY total_months\r\n",
                ")\r\n",
                "SELECT  \r\n",
                "    total_months,\r\n",
                "    interest_count,\r\n",
                "    FORMAT (SUM(interest_count) OVER(ORDER BY total_months DESC  ) / SUM(interest_count) OVER(), 'P') AS cumulative_percent  \r\n",
                "FROM tbl2"
            ],
            "metadata": {
                "azdata_cell_guid": "06525823-c4ba-4946-9a80-a5d10ed15e86",
                "language": "sql"
            },
            "outputs": [
                {
                    "output_type": "display_data",
                    "data": {
                        "text/html": "(14 rows affected)"
                    },
                    "metadata": {}
                },
                {
                    "output_type": "display_data",
                    "data": {
                        "text/html": "Total execution time: 00:00:00.812"
                    },
                    "metadata": {}
                },
                {
                    "output_type": "execute_result",
                    "metadata": {},
                    "execution_count": 2,
                    "data": {
                        "application/vnd.dataresource+json": {
                            "schema": {
                                "fields": [
                                    {
                                        "name": "total_months"
                                    },
                                    {
                                        "name": "interest_count"
                                    },
                                    {
                                        "name": "cumulative_percent"
                                    }
                                ]
                            },
                            "data": [
                                {
                                    "0": "14",
                                    "1": "480",
                                    "2": "39.93%"
                                },
                                {
                                    "0": "13",
                                    "1": "82",
                                    "2": "46.76%"
                                },
                                {
                                    "0": "12",
                                    "1": "65",
                                    "2": "52.16%"
                                },
                                {
                                    "0": "11",
                                    "1": "94",
                                    "2": "59.98%"
                                },
                                {
                                    "0": "10",
                                    "1": "86",
                                    "2": "67.14%"
                                },
                                {
                                    "0": "9",
                                    "1": "95",
                                    "2": "75.04%"
                                },
                                {
                                    "0": "8",
                                    "1": "67",
                                    "2": "80.62%"
                                },
                                {
                                    "0": "7",
                                    "1": "90",
                                    "2": "88.10%"
                                },
                                {
                                    "0": "6",
                                    "1": "33",
                                    "2": "90.85%"
                                },
                                {
                                    "0": "5",
                                    "1": "38",
                                    "2": "94.01%"
                                },
                                {
                                    "0": "4",
                                    "1": "32",
                                    "2": "96.67%"
                                },
                                {
                                    "0": "3",
                                    "1": "15",
                                    "2": "97.92%"
                                },
                                {
                                    "0": "2",
                                    "1": "12",
                                    "2": "98.92%"
                                },
                                {
                                    "0": "1",
                                    "1": "13",
                                    "2": "100.00%"
                                }
                            ]
                        },
                        "text/html": [
                            "<table>",
                            "<tr><th>total_months</th><th>interest_count</th><th>cumulative_percent</th></tr>",
                            "<tr><td>14</td><td>480</td><td>39.93%</td></tr>",
                            "<tr><td>13</td><td>82</td><td>46.76%</td></tr>",
                            "<tr><td>12</td><td>65</td><td>52.16%</td></tr>",
                            "<tr><td>11</td><td>94</td><td>59.98%</td></tr>",
                            "<tr><td>10</td><td>86</td><td>67.14%</td></tr>",
                            "<tr><td>9</td><td>95</td><td>75.04%</td></tr>",
                            "<tr><td>8</td><td>67</td><td>80.62%</td></tr>",
                            "<tr><td>7</td><td>90</td><td>88.10%</td></tr>",
                            "<tr><td>6</td><td>33</td><td>90.85%</td></tr>",
                            "<tr><td>5</td><td>38</td><td>94.01%</td></tr>",
                            "<tr><td>4</td><td>32</td><td>96.67%</td></tr>",
                            "<tr><td>3</td><td>15</td><td>97.92%</td></tr>",
                            "<tr><td>2</td><td>12</td><td>98.92%</td></tr>",
                            "<tr><td>1</td><td>13</td><td>100.00%</td></tr>",
                            "</table>"
                        ]
                    }
                }
            ],
            "execution_count": 2
        },
        {
            "cell_type": "markdown",
            "source": [
                "    3. If we were to remove all `interest_id` values which are lower than the `total_months` value we found in the previous question - how many total data points would we be removing?"
            ],
            "metadata": {
                "azdata_cell_guid": "0bd283fb-84ad-4c86-8087-59623ca0236c"
            },
            "attachments": {}
        },
        {
            "cell_type": "code",
            "source": [
                "WITH tbl AS (   \r\n",
                "    SELECT  \r\n",
                "        interest_id, \r\n",
                "        COUNT(DISTINCT month_year) as total_months\r\n",
                "    FROM interest_metrics i1\r\n",
                "    WHERE month_year IS NOT NULL\r\n",
                "    GROUP BY interest_id\r\n",
                "    HAVING COUNT(DISTINCT month_year) < 6\r\n",
                ")\r\n",
                "SELECT COUNT(*) AS data_remove\r\n",
                "FROM interest_metrics me\r\n",
                "RIGHT JOIN tbl ON tbl.interest_id = me.interest_id\r\n",
                ""
            ],
            "metadata": {
                "azdata_cell_guid": "3832859f-2aae-47ad-a300-a844643ac52d",
                "language": "sql"
            },
            "outputs": [
                {
                    "output_type": "display_data",
                    "data": {
                        "text/html": "(1 row affected)"
                    },
                    "metadata": {}
                },
                {
                    "output_type": "display_data",
                    "data": {
                        "text/html": "Total execution time: 00:00:00.030"
                    },
                    "metadata": {}
                },
                {
                    "output_type": "execute_result",
                    "metadata": {},
                    "execution_count": 3,
                    "data": {
                        "application/vnd.dataresource+json": {
                            "schema": {
                                "fields": [
                                    {
                                        "name": "data_remove"
                                    }
                                ]
                            },
                            "data": [
                                {
                                    "0": "400"
                                }
                            ]
                        },
                        "text/html": [
                            "<table>",
                            "<tr><th>data_remove</th></tr>",
                            "<tr><td>400</td></tr>",
                            "</table>"
                        ]
                    }
                }
            ],
            "execution_count": 3
        },
        {
            "cell_type": "markdown",
            "source": [
                "    4. Does this decision make sense to remove these data points from a business perspective? Use an example where there are all 14 months present to a removed interest example for your arguments - think about what it means to have less months present from a segment perspective."
            ],
            "metadata": {
                "azdata_cell_guid": "3f59588c-f15a-4332-bbb4-12536fa19c3b"
            },
            "attachments": {}
        },
        {
            "cell_type": "code",
            "source": [
                "WITH REMOVE_CTE AS (    \r\n",
                "    SELECT  \r\n",
                "        interest_id, \r\n",
                "        COUNT(DISTINCT month_year) as total_months\r\n",
                "    FROM interest_metrics i1\r\n",
                "    WHERE month_year IS NOT NULL\r\n",
                "    GROUP BY interest_id\r\n",
                "    HAVING COUNT(DISTINCT month_year) < 6\r\n",
                "),\r\n",
                "REMOVE_Month_CTE AS (   \r\n",
                "    SELECT \r\n",
                "        month_year, \r\n",
                "        count(*) as total_remove\r\n",
                "    FROM interest_metrics i \r\n",
                "    RIGHT JOIN REMOVE_CTE r ON i.interest_id = r.interest_id\r\n",
                "    GROUP BY month_year\r\n",
                "),\r\n",
                "ORIGINAL_CTE AS (       \r\n",
                "    SELECT \r\n",
                "        month_year, \r\n",
                "        count(*) as total_original\r\n",
                "    FROM interest_metrics i \r\n",
                "    WHERE month_year is not null \r\n",
                "    GROUP BY month_year \r\n",
                ")\r\n",
                "SELECT O.month_year,\r\n",
                "        total_original,\r\n",
                "        total_remove,\r\n",
                "        format( cast(total_remove as float) / total_original,'p') as remove_percent\r\n",
                "FROM ORIGINAL_CTE O\r\n",
                "JOIN REMOVE_Month_CTE R on O.month_year = R.month_year\r\n",
                "ORDER BY O.month_year;"
            ],
            "metadata": {
                "azdata_cell_guid": "0edf93b8-5f8b-4a4c-8032-5a6fa1f2286f",
                "language": "sql"
            },
            "outputs": [
                {
                    "output_type": "display_data",
                    "data": {
                        "text/html": "(14 rows affected)"
                    },
                    "metadata": {}
                },
                {
                    "output_type": "display_data",
                    "data": {
                        "text/html": "Total execution time: 00:00:00.043"
                    },
                    "metadata": {}
                },
                {
                    "output_type": "execute_result",
                    "metadata": {},
                    "execution_count": 4,
                    "data": {
                        "application/vnd.dataresource+json": {
                            "schema": {
                                "fields": [
                                    {
                                        "name": "month_year"
                                    },
                                    {
                                        "name": "total_original"
                                    },
                                    {
                                        "name": "total_remove"
                                    },
                                    {
                                        "name": "remove_percent"
                                    }
                                ]
                            },
                            "data": [
                                {
                                    "0": "2018-07-01",
                                    "1": "729",
                                    "2": "20",
                                    "3": "2.74%"
                                },
                                {
                                    "0": "2018-08-01",
                                    "1": "767",
                                    "2": "15",
                                    "3": "1.96%"
                                },
                                {
                                    "0": "2018-09-01",
                                    "1": "780",
                                    "2": "6",
                                    "3": "0.77%"
                                },
                                {
                                    "0": "2018-10-01",
                                    "1": "857",
                                    "2": "4",
                                    "3": "0.47%"
                                },
                                {
                                    "0": "2018-11-01",
                                    "1": "928",
                                    "2": "3",
                                    "3": "0.32%"
                                },
                                {
                                    "0": "2018-12-01",
                                    "1": "995",
                                    "2": "9",
                                    "3": "0.90%"
                                },
                                {
                                    "0": "2019-01-01",
                                    "1": "973",
                                    "2": "7",
                                    "3": "0.72%"
                                },
                                {
                                    "0": "2019-02-01",
                                    "1": "1121",
                                    "2": "49",
                                    "3": "4.37%"
                                },
                                {
                                    "0": "2019-03-01",
                                    "1": "1136",
                                    "2": "58",
                                    "3": "5.11%"
                                },
                                {
                                    "0": "2019-04-01",
                                    "1": "1099",
                                    "2": "64",
                                    "3": "5.82%"
                                },
                                {
                                    "0": "2019-05-01",
                                    "1": "857",
                                    "2": "30",
                                    "3": "3.50%"
                                },
                                {
                                    "0": "2019-06-01",
                                    "1": "824",
                                    "2": "20",
                                    "3": "2.43%"
                                },
                                {
                                    "0": "2019-07-01",
                                    "1": "864",
                                    "2": "28",
                                    "3": "3.24%"
                                },
                                {
                                    "0": "2019-08-01",
                                    "1": "1149",
                                    "2": "87",
                                    "3": "7.57%"
                                }
                            ]
                        },
                        "text/html": [
                            "<table>",
                            "<tr><th>month_year</th><th>total_original</th><th>total_remove</th><th>remove_percent</th></tr>",
                            "<tr><td>2018-07-01</td><td>729</td><td>20</td><td>2.74%</td></tr>",
                            "<tr><td>2018-08-01</td><td>767</td><td>15</td><td>1.96%</td></tr>",
                            "<tr><td>2018-09-01</td><td>780</td><td>6</td><td>0.77%</td></tr>",
                            "<tr><td>2018-10-01</td><td>857</td><td>4</td><td>0.47%</td></tr>",
                            "<tr><td>2018-11-01</td><td>928</td><td>3</td><td>0.32%</td></tr>",
                            "<tr><td>2018-12-01</td><td>995</td><td>9</td><td>0.90%</td></tr>",
                            "<tr><td>2019-01-01</td><td>973</td><td>7</td><td>0.72%</td></tr>",
                            "<tr><td>2019-02-01</td><td>1121</td><td>49</td><td>4.37%</td></tr>",
                            "<tr><td>2019-03-01</td><td>1136</td><td>58</td><td>5.11%</td></tr>",
                            "<tr><td>2019-04-01</td><td>1099</td><td>64</td><td>5.82%</td></tr>",
                            "<tr><td>2019-05-01</td><td>857</td><td>30</td><td>3.50%</td></tr>",
                            "<tr><td>2019-06-01</td><td>824</td><td>20</td><td>2.43%</td></tr>",
                            "<tr><td>2019-07-01</td><td>864</td><td>28</td><td>3.24%</td></tr>",
                            "<tr><td>2019-08-01</td><td>1149</td><td>87</td><td>7.57%</td></tr>",
                            "</table>"
                        ]
                    }
                }
            ],
            "execution_count": 4
        },
        {
            "cell_type": "markdown",
            "source": [
                "- We can see that the percent of removed `month_year` which have cumulative percent lower than 90% , is very low and not significant. So removing these values can increase performance by attracting customer to interest one. "
            ],
            "metadata": {
                "azdata_cell_guid": "b2fed518-6f7d-4a7e-9912-735d6f589ed8"
            },
            "attachments": {}
        },
        {
            "cell_type": "markdown",
            "source": [
                "    5. After removing these interests - how many unique interests are there for each month?"
            ],
            "metadata": {
                "azdata_cell_guid": "18c2f997-f18d-49b8-bc3a-0141bffc8c4d"
            },
            "attachments": {}
        },
        {
            "cell_type": "code",
            "source": [
                "WITH REMOVE_CTE AS (    \r\n",
                "    SELECT  \r\n",
                "        interest_id, \r\n",
                "        COUNT(DISTINCT month_year) as total_months\r\n",
                "    FROM interest_metrics i1\r\n",
                "    WHERE month_year IS NOT NULL\r\n",
                "    GROUP BY interest_id\r\n",
                "    HAVING COUNT(DISTINCT month_year) >= 6\r\n",
                ")\r\n",
                "SELECT \r\n",
                "    month_year,\r\n",
                "    COUNT(*) AS interest_month_cnt\r\n",
                "FROM interest_metrics i \r\n",
                "JOIN REMOVE_CTE r ON r.interest_id = i.interest_id\r\n",
                "WHERE month_year IS NOT NULL\r\n",
                "GROUP BY month_year\r\n",
                "ORDER BY month_year\r\n",
                ""
            ],
            "metadata": {
                "azdata_cell_guid": "601fc970-64d3-4e10-9767-ec6018b0774f",
                "language": "sql"
            },
            "outputs": [
                {
                    "output_type": "display_data",
                    "data": {
                        "text/html": "(14 rows affected)"
                    },
                    "metadata": {}
                },
                {
                    "output_type": "display_data",
                    "data": {
                        "text/html": "Total execution time: 00:00:00.046"
                    },
                    "metadata": {}
                },
                {
                    "output_type": "execute_result",
                    "metadata": {},
                    "execution_count": 5,
                    "data": {
                        "application/vnd.dataresource+json": {
                            "schema": {
                                "fields": [
                                    {
                                        "name": "month_year"
                                    },
                                    {
                                        "name": "interest_month_cnt"
                                    }
                                ]
                            },
                            "data": [
                                {
                                    "0": "2018-07-01",
                                    "1": "709"
                                },
                                {
                                    "0": "2018-08-01",
                                    "1": "752"
                                },
                                {
                                    "0": "2018-09-01",
                                    "1": "774"
                                },
                                {
                                    "0": "2018-10-01",
                                    "1": "853"
                                },
                                {
                                    "0": "2018-11-01",
                                    "1": "925"
                                },
                                {
                                    "0": "2018-12-01",
                                    "1": "986"
                                },
                                {
                                    "0": "2019-01-01",
                                    "1": "966"
                                },
                                {
                                    "0": "2019-02-01",
                                    "1": "1072"
                                },
                                {
                                    "0": "2019-03-01",
                                    "1": "1078"
                                },
                                {
                                    "0": "2019-04-01",
                                    "1": "1035"
                                },
                                {
                                    "0": "2019-05-01",
                                    "1": "827"
                                },
                                {
                                    "0": "2019-06-01",
                                    "1": "804"
                                },
                                {
                                    "0": "2019-07-01",
                                    "1": "836"
                                },
                                {
                                    "0": "2019-08-01",
                                    "1": "1062"
                                }
                            ]
                        },
                        "text/html": [
                            "<table>",
                            "<tr><th>month_year</th><th>interest_month_cnt</th></tr>",
                            "<tr><td>2018-07-01</td><td>709</td></tr>",
                            "<tr><td>2018-08-01</td><td>752</td></tr>",
                            "<tr><td>2018-09-01</td><td>774</td></tr>",
                            "<tr><td>2018-10-01</td><td>853</td></tr>",
                            "<tr><td>2018-11-01</td><td>925</td></tr>",
                            "<tr><td>2018-12-01</td><td>986</td></tr>",
                            "<tr><td>2019-01-01</td><td>966</td></tr>",
                            "<tr><td>2019-02-01</td><td>1072</td></tr>",
                            "<tr><td>2019-03-01</td><td>1078</td></tr>",
                            "<tr><td>2019-04-01</td><td>1035</td></tr>",
                            "<tr><td>2019-05-01</td><td>827</td></tr>",
                            "<tr><td>2019-06-01</td><td>804</td></tr>",
                            "<tr><td>2019-07-01</td><td>836</td></tr>",
                            "<tr><td>2019-08-01</td><td>1062</td></tr>",
                            "</table>"
                        ]
                    }
                }
            ],
            "execution_count": 5
        }
    ]
}