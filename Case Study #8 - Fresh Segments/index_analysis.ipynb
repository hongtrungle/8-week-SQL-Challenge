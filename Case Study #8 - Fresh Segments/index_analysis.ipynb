{
    "metadata": {
        "kernelspec": {
            "name": "SQL",
            "display_name": "SQL",
            "language": "sql"
        },
        "language_info": {
            "name": "sql",
            "version": ""
        }
    },
    "nbformat_minor": 2,
    "nbformat": 4,
    "cells": [
        {
            "cell_type": "markdown",
            "source": [
                "### Index Analysis\r\n",
                "---\r\n",
                "The `index_value` is a measure which can be used to reverse calculate the average composition for Fresh Segments’ clients.\r\n",
                "\r\n",
                "Average composition can be calculated by dividing the composition column by the index_value column rounded to 2 decimal places.\r\n",
                "\r\n",
                "    1. What is the top 10 interests by the average composition for each month?"
            ],
            "metadata": {
                "azdata_cell_guid": "4faded7f-5aa4-4aca-9a4e-13551a2f902d"
            },
            "attachments": {}
        },
        {
            "cell_type": "code",
            "source": [
                "WITH tbl AS(\r\n",
                "    SELECT\r\n",
                "        month_year,\r\n",
                "        interest_name,\r\n",
                "        ROUND(AVG(composition/index_value),2) AS avg_composition\r\n",
                "    FROM interest_metrics me\r\n",
                "    JOIN interest_map ma ON ma.id = me.interest_id\r\n",
                "    WHERE month_year IS NOT NULL\r\n",
                "    GROUP BY interest_name, month_year\r\n",
                "),\r\n",
                "rank_tbl AS(\r\n",
                "    SELECT *,\r\n",
                "        RANK() OVER(PARTITION BY month_year ORDER BY avg_composition DESC) AS rank_avg_composition\r\n",
                "    FROM tbl \r\n",
                ")\r\n",
                "SELECT *\r\n",
                "FROM rank_tbl\r\n",
                "WHERE rank_avg_composition < 11\r\n",
                ""
            ],
            "metadata": {
                "azdata_cell_guid": "b9d1242f-5855-4380-b4dd-8fb3e7ecf631",
                "language": "sql",
                "tags": []
            },
            "outputs": [
                {
                    "output_type": "display_data",
                    "data": {
                        "text/html": "(142 rows affected)"
                    },
                    "metadata": {}
                },
                {
                    "output_type": "display_data",
                    "data": {
                        "text/html": "Total execution time: 00:00:00.123"
                    },
                    "metadata": {}
                },
                {
                    "output_type": "execute_result",
                    "metadata": {},
                    "execution_count": 1,
                    "data": {
                        "application/vnd.dataresource+json": {
                            "schema": {
                                "fields": [
                                    {
                                        "name": "month_year"
                                    },
                                    {
                                        "name": "interest_name"
                                    },
                                    {
                                        "name": "avg_composition"
                                    },
                                    {
                                        "name": "rank_avg_composition"
                                    }
                                ]
                            },
                            "data": [
                                {
                                    "0": "2018-07-01",
                                    "1": "Las Vegas Trip Planners",
                                    "2": "7.36",
                                    "3": "1"
                                },
                                {
                                    "0": "2018-07-01",
                                    "1": "Gym Equipment Owners",
                                    "2": "6.94",
                                    "3": "2"
                                },
                                {
                                    "0": "2018-07-01",
                                    "1": "Cosmetics and Beauty Shoppers",
                                    "2": "6.78",
                                    "3": "3"
                                },
                                {
                                    "0": "2018-07-01",
                                    "1": "Luxury Retail Shoppers",
                                    "2": "6.61",
                                    "3": "4"
                                },
                                {
                                    "0": "2018-07-01",
                                    "1": "Furniture Shoppers",
                                    "2": "6.51",
                                    "3": "5"
                                },
                                {
                                    "0": "2018-07-01",
                                    "1": "Asian Food Enthusiasts",
                                    "2": "6.1",
                                    "3": "6"
                                },
                                {
                                    "0": "2018-07-01",
                                    "1": "Recently Retired Individuals",
                                    "2": "5.72",
                                    "3": "7"
                                },
                                {
                                    "0": "2018-07-01",
                                    "1": "Family Adventures Travelers",
                                    "2": "4.85",
                                    "3": "8"
                                },
                                {
                                    "0": "2018-07-01",
                                    "1": "Work Comes First Travelers",
                                    "2": "4.8",
                                    "3": "9"
                                },
                                {
                                    "0": "2018-07-01",
                                    "1": "HDTV Researchers",
                                    "2": "4.71",
                                    "3": "10"
                                },
                                {
                                    "0": "2018-08-01",
                                    "1": "Las Vegas Trip Planners",
                                    "2": "7.21",
                                    "3": "1"
                                },
                                {
                                    "0": "2018-08-01",
                                    "1": "Gym Equipment Owners",
                                    "2": "6.62",
                                    "3": "2"
                                },
                                {
                                    "0": "2018-08-01",
                                    "1": "Luxury Retail Shoppers",
                                    "2": "6.53",
                                    "3": "3"
                                },
                                {
                                    "0": "2018-08-01",
                                    "1": "Furniture Shoppers",
                                    "2": "6.3",
                                    "3": "4"
                                },
                                {
                                    "0": "2018-08-01",
                                    "1": "Cosmetics and Beauty Shoppers",
                                    "2": "6.28",
                                    "3": "5"
                                },
                                {
                                    "0": "2018-08-01",
                                    "1": "Work Comes First Travelers",
                                    "2": "5.7",
                                    "3": "6"
                                },
                                {
                                    "0": "2018-08-01",
                                    "1": "Asian Food Enthusiasts",
                                    "2": "5.68",
                                    "3": "7"
                                },
                                {
                                    "0": "2018-08-01",
                                    "1": "Recently Retired Individuals",
                                    "2": "5.58",
                                    "3": "8"
                                },
                                {
                                    "0": "2018-08-01",
                                    "1": "Alabama Trip Planners",
                                    "2": "4.83",
                                    "3": "9"
                                },
                                {
                                    "0": "2018-08-01",
                                    "1": "Luxury Bedding Shoppers",
                                    "2": "4.72",
                                    "3": "10"
                                },
                                {
                                    "0": "2018-09-01",
                                    "1": "Work Comes First Travelers",
                                    "2": "8.26",
                                    "3": "1"
                                },
                                {
                                    "0": "2018-09-01",
                                    "1": "Readers of Honduran Content",
                                    "2": "7.6",
                                    "3": "2"
                                },
                                {
                                    "0": "2018-09-01",
                                    "1": "Alabama Trip Planners",
                                    "2": "7.27",
                                    "3": "3"
                                },
                                {
                                    "0": "2018-09-01",
                                    "1": "Luxury Bedding Shoppers",
                                    "2": "7.04",
                                    "3": "4"
                                },
                                {
                                    "0": "2018-09-01",
                                    "1": "Nursing and Physicians Assistant Journal Researchers",
                                    "2": "6.7",
                                    "3": "5"
                                },
                                {
                                    "0": "2018-09-01",
                                    "1": "New Years Eve Party Ticket Purchasers",
                                    "2": "6.59",
                                    "3": "6"
                                },
                                {
                                    "0": "2018-09-01",
                                    "1": "Teen Girl Clothing Shoppers",
                                    "2": "6.53",
                                    "3": "7"
                                },
                                {
                                    "0": "2018-09-01",
                                    "1": "Christmas Celebration Researchers",
                                    "2": "6.47",
                                    "3": "8"
                                },
                                {
                                    "0": "2018-09-01",
                                    "1": "Restaurant Supply Shoppers",
                                    "2": "6.25",
                                    "3": "9"
                                },
                                {
                                    "0": "2018-09-01",
                                    "1": "Solar Energy Researchers",
                                    "2": "6.24",
                                    "3": "10"
                                },
                                {
                                    "0": "2018-10-01",
                                    "1": "Work Comes First Travelers",
                                    "2": "9.14",
                                    "3": "1"
                                },
                                {
                                    "0": "2018-10-01",
                                    "1": "Alabama Trip Planners",
                                    "2": "7.1",
                                    "3": "2"
                                },
                                {
                                    "0": "2018-10-01",
                                    "1": "Nursing and Physicians Assistant Journal Researchers",
                                    "2": "7.02",
                                    "3": "3"
                                },
                                {
                                    "0": "2018-10-01",
                                    "1": "Readers of Honduran Content",
                                    "2": "7.02",
                                    "3": "3"
                                },
                                {
                                    "0": "2018-10-01",
                                    "1": "Luxury Bedding Shoppers",
                                    "2": "6.94",
                                    "3": "5"
                                },
                                {
                                    "0": "2018-10-01",
                                    "1": "New Years Eve Party Ticket Purchasers",
                                    "2": "6.91",
                                    "3": "6"
                                },
                                {
                                    "0": "2018-10-01",
                                    "1": "Teen Girl Clothing Shoppers",
                                    "2": "6.78",
                                    "3": "7"
                                },
                                {
                                    "0": "2018-10-01",
                                    "1": "Christmas Celebration Researchers",
                                    "2": "6.72",
                                    "3": "8"
                                },
                                {
                                    "0": "2018-10-01",
                                    "1": "Luxury Boutique Hotel Researchers",
                                    "2": "6.53",
                                    "3": "9"
                                },
                                {
                                    "0": "2018-10-01",
                                    "1": "Solar Energy Researchers",
                                    "2": "6.5",
                                    "3": "10"
                                },
                                {
                                    "0": "2018-11-01",
                                    "1": "Work Comes First Travelers",
                                    "2": "8.28",
                                    "3": "1"
                                },
                                {
                                    "0": "2018-11-01",
                                    "1": "Readers of Honduran Content",
                                    "2": "7.09",
                                    "3": "2"
                                },
                                {
                                    "0": "2018-11-01",
                                    "1": "Solar Energy Researchers",
                                    "2": "7.05",
                                    "3": "3"
                                },
                                {
                                    "0": "2018-11-01",
                                    "1": "Alabama Trip Planners",
                                    "2": "6.69",
                                    "3": "4"
                                },
                                {
                                    "0": "2018-11-01",
                                    "1": "Nursing and Physicians Assistant Journal Researchers",
                                    "2": "6.65",
                                    "3": "5"
                                },
                                {
                                    "0": "2018-11-01",
                                    "1": "Luxury Bedding Shoppers",
                                    "2": "6.54",
                                    "3": "6"
                                },
                                {
                                    "0": "2018-11-01",
                                    "1": "New Years Eve Party Ticket Purchasers",
                                    "2": "6.31",
                                    "3": "7"
                                },
                                {
                                    "0": "2018-11-01",
                                    "1": "Christmas Celebration Researchers",
                                    "2": "6.08",
                                    "3": "8"
                                },
                                {
                                    "0": "2018-11-01",
                                    "1": "Teen Girl Clothing Shoppers",
                                    "2": "5.95",
                                    "3": "9"
                                },
                                {
                                    "0": "2018-11-01",
                                    "1": "Restaurant Supply Shoppers",
                                    "2": "5.59",
                                    "3": "10"
                                },
                                {
                                    "0": "2018-12-01",
                                    "1": "Work Comes First Travelers",
                                    "2": "8.31",
                                    "3": "1"
                                },
                                {
                                    "0": "2018-12-01",
                                    "1": "Nursing and Physicians Assistant Journal Researchers",
                                    "2": "6.96",
                                    "3": "2"
                                },
                                {
                                    "0": "2018-12-01",
                                    "1": "Alabama Trip Planners",
                                    "2": "6.68",
                                    "3": "3"
                                },
                                {
                                    "0": "2018-12-01",
                                    "1": "Luxury Bedding Shoppers",
                                    "2": "6.63",
                                    "3": "4"
                                },
                                {
                                    "0": "2018-12-01",
                                    "1": "Readers of Honduran Content",
                                    "2": "6.58",
                                    "3": "5"
                                },
                                {
                                    "0": "2018-12-01",
                                    "1": "Solar Energy Researchers",
                                    "2": "6.55",
                                    "3": "6"
                                },
                                {
                                    "0": "2018-12-01",
                                    "1": "New Years Eve Party Ticket Purchasers",
                                    "2": "6.48",
                                    "3": "7"
                                },
                                {
                                    "0": "2018-12-01",
                                    "1": "Teen Girl Clothing Shoppers",
                                    "2": "6.38",
                                    "3": "8"
                                },
                                {
                                    "0": "2018-12-01",
                                    "1": "Christmas Celebration Researchers",
                                    "2": "6.09",
                                    "3": "9"
                                },
                                {
                                    "0": "2018-12-01",
                                    "1": "Chelsea Fans",
                                    "2": "5.86",
                                    "3": "10"
                                },
                                {
                                    "0": "2019-01-01",
                                    "1": "Work Comes First Travelers",
                                    "2": "7.66",
                                    "3": "1"
                                },
                                {
                                    "0": "2019-01-01",
                                    "1": "Solar Energy Researchers",
                                    "2": "7.05",
                                    "3": "2"
                                },
                                {
                                    "0": "2019-01-01",
                                    "1": "Readers of Honduran Content",
                                    "2": "6.67",
                                    "3": "3"
                                },
                                {
                                    "0": "2019-01-01",
                                    "1": "Luxury Bedding Shoppers",
                                    "2": "6.46",
                                    "3": "4"
                                },
                                {
                                    "0": "2019-01-01",
                                    "1": "Nursing and Physicians Assistant Journal Researchers",
                                    "2": "6.46",
                                    "3": "4"
                                },
                                {
                                    "0": "2019-01-01",
                                    "1": "Alabama Trip Planners",
                                    "2": "6.44",
                                    "3": "6"
                                },
                                {
                                    "0": "2019-01-01",
                                    "1": "New Years Eve Party Ticket Purchasers",
                                    "2": "6.16",
                                    "3": "7"
                                },
                                {
                                    "0": "2019-01-01",
                                    "1": "Teen Girl Clothing Shoppers",
                                    "2": "5.96",
                                    "3": "8"
                                },
                                {
                                    "0": "2019-01-01",
                                    "1": "Christmas Celebration Researchers",
                                    "2": "5.65",
                                    "3": "9"
                                },
                                {
                                    "0": "2019-01-01",
                                    "1": "Chelsea Fans",
                                    "2": "5.48",
                                    "3": "10"
                                },
                                {
                                    "0": "2019-01-01",
                                    "1": "Readers of Catholic News",
                                    "2": "5.48",
                                    "3": "10"
                                },
                                {
                                    "0": "2019-02-01",
                                    "1": "Work Comes First Travelers",
                                    "2": "7.66",
                                    "3": "1"
                                },
                                {
                                    "0": "2019-02-01",
                                    "1": "Nursing and Physicians Assistant Journal Researchers",
                                    "2": "6.84",
                                    "3": "2"
                                },
                                {
                                    "0": "2019-02-01",
                                    "1": "Luxury Bedding Shoppers",
                                    "2": "6.76",
                                    "3": "3"
                                },
                                {
                                    "0": "2019-02-01",
                                    "1": "Alabama Trip Planners",
                                    "2": "6.65",
                                    "3": "4"
                                },
                                {
                                    "0": "2019-02-01",
                                    "1": "Solar Energy Researchers",
                                    "2": "6.58",
                                    "3": "5"
                                },
                                {
                                    "0": "2019-02-01",
                                    "1": "New Years Eve Party Ticket Purchasers",
                                    "2": "6.56",
                                    "3": "6"
                                },
                                {
                                    "0": "2019-02-01",
                                    "1": "Teen Girl Clothing Shoppers",
                                    "2": "6.29",
                                    "3": "7"
                                },
                                {
                                    "0": "2019-02-01",
                                    "1": "Readers of Honduran Content",
                                    "2": "6.24",
                                    "3": "8"
                                },
                                {
                                    "0": "2019-02-01",
                                    "1": "PlayStation Enthusiasts",
                                    "2": "6.23",
                                    "3": "9"
                                },
                                {
                                    "0": "2019-02-01",
                                    "1": "Christmas Celebration Researchers",
                                    "2": "5.98",
                                    "3": "10"
                                },
                                {
                                    "0": "2019-03-01",
                                    "1": "Alabama Trip Planners",
                                    "2": "6.54",
                                    "3": "1"
                                },
                                {
                                    "0": "2019-03-01",
                                    "1": "Nursing and Physicians Assistant Journal Researchers",
                                    "2": "6.52",
                                    "3": "2"
                                },
                                {
                                    "0": "2019-03-01",
                                    "1": "Luxury Bedding Shoppers",
                                    "2": "6.47",
                                    "3": "3"
                                },
                                {
                                    "0": "2019-03-01",
                                    "1": "Solar Energy Researchers",
                                    "2": "6.4",
                                    "3": "4"
                                },
                                {
                                    "0": "2019-03-01",
                                    "1": "Readers of Honduran Content",
                                    "2": "6.21",
                                    "3": "5"
                                },
                                {
                                    "0": "2019-03-01",
                                    "1": "New Years Eve Party Ticket Purchasers",
                                    "2": "6.21",
                                    "3": "5"
                                },
                                {
                                    "0": "2019-03-01",
                                    "1": "PlayStation Enthusiasts",
                                    "2": "6.06",
                                    "3": "7"
                                },
                                {
                                    "0": "2019-03-01",
                                    "1": "Teen Girl Clothing Shoppers",
                                    "2": "6.01",
                                    "3": "8"
                                },
                                {
                                    "0": "2019-03-01",
                                    "1": "Readers of Catholic News",
                                    "2": "5.65",
                                    "3": "9"
                                },
                                {
                                    "0": "2019-03-01",
                                    "1": "Restaurant Supply Shoppers",
                                    "2": "5.61",
                                    "3": "10"
                                },
                                {
                                    "0": "2019-03-01",
                                    "1": "Christmas Celebration Researchers",
                                    "2": "5.61",
                                    "3": "10"
                                },
                                {
                                    "0": "2019-04-01",
                                    "1": "Solar Energy Researchers",
                                    "2": "6.28",
                                    "3": "1"
                                },
                                {
                                    "0": "2019-04-01",
                                    "1": "Alabama Trip Planners",
                                    "2": "6.21",
                                    "3": "2"
                                },
                                {
                                    "0": "2019-04-01",
                                    "1": "Luxury Bedding Shoppers",
                                    "2": "6.05",
                                    "3": "3"
                                },
                                {
                                    "0": "2019-04-01",
                                    "1": "Readers of Honduran Content",
                                    "2": "6.02",
                                    "3": "4"
                                },
                                {
                                    "0": "2019-04-01",
                                    "1": "Nursing and Physicians Assistant Journal Researchers",
                                    "2": "6.01",
                                    "3": "5"
                                },
                                {
                                    "0": "2019-04-01",
                                    "1": "New Years Eve Party Ticket Purchasers",
                                    "2": "5.65",
                                    "3": "6"
                                },
                                {
                                    "0": "2019-04-01",
                                    "1": "PlayStation Enthusiasts",
                                    "2": "5.52",
                                    "3": "7"
                                },
                                {
                                    "0": "2019-04-01",
                                    "1": "Teen Girl Clothing Shoppers",
                                    "2": "5.39",
                                    "3": "8"
                                },
                                {
                                    "0": "2019-04-01",
                                    "1": "Readers of Catholic News",
                                    "2": "5.3",
                                    "3": "9"
                                },
                                {
                                    "0": "2019-04-01",
                                    "1": "Restaurant Supply Shoppers",
                                    "2": "5.07",
                                    "3": "10"
                                },
                                {
                                    "0": "2019-05-01",
                                    "1": "Readers of Honduran Content",
                                    "2": "4.41",
                                    "3": "1"
                                },
                                {
                                    "0": "2019-05-01",
                                    "1": "Readers of Catholic News",
                                    "2": "4.08",
                                    "3": "2"
                                },
                                {
                                    "0": "2019-05-01",
                                    "1": "Solar Energy Researchers",
                                    "2": "3.92",
                                    "3": "3"
                                },
                                {
                                    "0": "2019-05-01",
                                    "1": "PlayStation Enthusiasts",
                                    "2": "3.55",
                                    "3": "4"
                                },
                                {
                                    "0": "2019-05-01",
                                    "1": "Alabama Trip Planners",
                                    "2": "3.34",
                                    "3": "5"
                                },
                                {
                                    "0": "2019-05-01",
                                    "1": "Gamers",
                                    "2": "3.29",
                                    "3": "6"
                                },
                                {
                                    "0": "2019-05-01",
                                    "1": "Luxury Bedding Shoppers",
                                    "2": "3.25",
                                    "3": "7"
                                },
                                {
                                    "0": "2019-05-01",
                                    "1": "New Years Eve Party Ticket Purchasers",
                                    "2": "3.19",
                                    "3": "8"
                                },
                                {
                                    "0": "2019-05-01",
                                    "1": "Video Gamers",
                                    "2": "3.19",
                                    "3": "8"
                                },
                                {
                                    "0": "2019-05-01",
                                    "1": "Nursing and Physicians Assistant Journal Researchers",
                                    "2": "3.15",
                                    "3": "10"
                                },
                                {
                                    "0": "2019-06-01",
                                    "1": "Las Vegas Trip Planners",
                                    "2": "2.77",
                                    "3": "1"
                                },
                                {
                                    "0": "2019-06-01",
                                    "1": "Gym Equipment Owners",
                                    "2": "2.55",
                                    "3": "2"
                                },
                                {
                                    "0": "2019-06-01",
                                    "1": "Cosmetics and Beauty Shoppers",
                                    "2": "2.55",
                                    "3": "2"
                                },
                                {
                                    "0": "2019-06-01",
                                    "1": "Asian Food Enthusiasts",
                                    "2": "2.52",
                                    "3": "4"
                                },
                                {
                                    "0": "2019-06-01",
                                    "1": "Luxury Retail Shoppers",
                                    "2": "2.46",
                                    "3": "5"
                                },
                                {
                                    "0": "2019-06-01",
                                    "1": "Furniture Shoppers",
                                    "2": "2.39",
                                    "3": "6"
                                },
                                {
                                    "0": "2019-06-01",
                                    "1": "Medicare Researchers",
                                    "2": "2.35",
                                    "3": "7"
                                },
                                {
                                    "0": "2019-06-01",
                                    "1": "Recently Retired Individuals",
                                    "2": "2.27",
                                    "3": "8"
                                },
                                {
                                    "0": "2019-06-01",
                                    "1": "Medicare Provider Researchers",
                                    "2": "2.21",
                                    "3": "9"
                                },
                                {
                                    "0": "2019-06-01",
                                    "1": "Cruise Travel Intenders",
                                    "2": "2.2",
                                    "3": "10"
                                },
                                {
                                    "0": "2019-07-01",
                                    "1": "Las Vegas Trip Planners",
                                    "2": "2.82",
                                    "3": "1"
                                },
                                {
                                    "0": "2019-07-01",
                                    "1": "Luxury Retail Shoppers",
                                    "2": "2.81",
                                    "3": "2"
                                },
                                {
                                    "0": "2019-07-01",
                                    "1": "Gym Equipment Owners",
                                    "2": "2.79",
                                    "3": "3"
                                },
                                {
                                    "0": "2019-07-01",
                                    "1": "Furniture Shoppers",
                                    "2": "2.79",
                                    "3": "3"
                                },
                                {
                                    "0": "2019-07-01",
                                    "1": "Cosmetics and Beauty Shoppers",
                                    "2": "2.78",
                                    "3": "5"
                                },
                                {
                                    "0": "2019-07-01",
                                    "1": "Asian Food Enthusiasts",
                                    "2": "2.78",
                                    "3": "5"
                                },
                                {
                                    "0": "2019-07-01",
                                    "1": "Medicare Researchers",
                                    "2": "2.77",
                                    "3": "7"
                                },
                                {
                                    "0": "2019-07-01",
                                    "1": "Medicare Provider Researchers",
                                    "2": "2.73",
                                    "3": "8"
                                },
                                {
                                    "0": "2019-07-01",
                                    "1": "Recently Retired Individuals",
                                    "2": "2.72",
                                    "3": "9"
                                },
                                {
                                    "0": "2019-07-01",
                                    "1": "Medicare Price Shoppers",
                                    "2": "2.66",
                                    "3": "10"
                                },
                                {
                                    "0": "2019-08-01",
                                    "1": "Cosmetics and Beauty Shoppers",
                                    "2": "2.73",
                                    "3": "1"
                                },
                                {
                                    "0": "2019-08-01",
                                    "1": "Gym Equipment Owners",
                                    "2": "2.72",
                                    "3": "2"
                                },
                                {
                                    "0": "2019-08-01",
                                    "1": "Las Vegas Trip Planners",
                                    "2": "2.7",
                                    "3": "3"
                                },
                                {
                                    "0": "2019-08-01",
                                    "1": "Asian Food Enthusiasts",
                                    "2": "2.68",
                                    "3": "4"
                                },
                                {
                                    "0": "2019-08-01",
                                    "1": "Solar Energy Researchers",
                                    "2": "2.66",
                                    "3": "5"
                                },
                                {
                                    "0": "2019-08-01",
                                    "1": "Luxury Retail Shoppers",
                                    "2": "2.59",
                                    "3": "6"
                                },
                                {
                                    "0": "2019-08-01",
                                    "1": "Furniture Shoppers",
                                    "2": "2.59",
                                    "3": "6"
                                },
                                {
                                    "0": "2019-08-01",
                                    "1": "Marijuana Legalization Advocates",
                                    "2": "2.56",
                                    "3": "8"
                                },
                                {
                                    "0": "2019-08-01",
                                    "1": "Medicare Researchers",
                                    "2": "2.55",
                                    "3": "9"
                                },
                                {
                                    "0": "2019-08-01",
                                    "1": "Recently Retired Individuals",
                                    "2": "2.53",
                                    "3": "10"
                                }
                            ]
                        },
                        "text/html": [
                            "<table>",
                            "<tr><th>month_year</th><th>interest_name</th><th>avg_composition</th><th>rank_avg_composition</th></tr>",
                            "<tr><td>2018-07-01</td><td>Las Vegas Trip Planners</td><td>7.36</td><td>1</td></tr>",
                            "<tr><td>2018-07-01</td><td>Gym Equipment Owners</td><td>6.94</td><td>2</td></tr>",
                            "<tr><td>2018-07-01</td><td>Cosmetics and Beauty Shoppers</td><td>6.78</td><td>3</td></tr>",
                            "<tr><td>2018-07-01</td><td>Luxury Retail Shoppers</td><td>6.61</td><td>4</td></tr>",
                            "<tr><td>2018-07-01</td><td>Furniture Shoppers</td><td>6.51</td><td>5</td></tr>",
                            "<tr><td>2018-07-01</td><td>Asian Food Enthusiasts</td><td>6.1</td><td>6</td></tr>",
                            "<tr><td>2018-07-01</td><td>Recently Retired Individuals</td><td>5.72</td><td>7</td></tr>",
                            "<tr><td>2018-07-01</td><td>Family Adventures Travelers</td><td>4.85</td><td>8</td></tr>",
                            "<tr><td>2018-07-01</td><td>Work Comes First Travelers</td><td>4.8</td><td>9</td></tr>",
                            "<tr><td>2018-07-01</td><td>HDTV Researchers</td><td>4.71</td><td>10</td></tr>",
                            "<tr><td>2018-08-01</td><td>Las Vegas Trip Planners</td><td>7.21</td><td>1</td></tr>",
                            "<tr><td>2018-08-01</td><td>Gym Equipment Owners</td><td>6.62</td><td>2</td></tr>",
                            "<tr><td>2018-08-01</td><td>Luxury Retail Shoppers</td><td>6.53</td><td>3</td></tr>",
                            "<tr><td>2018-08-01</td><td>Furniture Shoppers</td><td>6.3</td><td>4</td></tr>",
                            "<tr><td>2018-08-01</td><td>Cosmetics and Beauty Shoppers</td><td>6.28</td><td>5</td></tr>",
                            "<tr><td>2018-08-01</td><td>Work Comes First Travelers</td><td>5.7</td><td>6</td></tr>",
                            "<tr><td>2018-08-01</td><td>Asian Food Enthusiasts</td><td>5.68</td><td>7</td></tr>",
                            "<tr><td>2018-08-01</td><td>Recently Retired Individuals</td><td>5.58</td><td>8</td></tr>",
                            "<tr><td>2018-08-01</td><td>Alabama Trip Planners</td><td>4.83</td><td>9</td></tr>",
                            "<tr><td>2018-08-01</td><td>Luxury Bedding Shoppers</td><td>4.72</td><td>10</td></tr>",
                            "<tr><td>2018-09-01</td><td>Work Comes First Travelers</td><td>8.26</td><td>1</td></tr>",
                            "<tr><td>2018-09-01</td><td>Readers of Honduran Content</td><td>7.6</td><td>2</td></tr>",
                            "<tr><td>2018-09-01</td><td>Alabama Trip Planners</td><td>7.27</td><td>3</td></tr>",
                            "<tr><td>2018-09-01</td><td>Luxury Bedding Shoppers</td><td>7.04</td><td>4</td></tr>",
                            "<tr><td>2018-09-01</td><td>Nursing and Physicians Assistant Journal Researchers</td><td>6.7</td><td>5</td></tr>",
                            "<tr><td>2018-09-01</td><td>New Years Eve Party Ticket Purchasers</td><td>6.59</td><td>6</td></tr>",
                            "<tr><td>2018-09-01</td><td>Teen Girl Clothing Shoppers</td><td>6.53</td><td>7</td></tr>",
                            "<tr><td>2018-09-01</td><td>Christmas Celebration Researchers</td><td>6.47</td><td>8</td></tr>",
                            "<tr><td>2018-09-01</td><td>Restaurant Supply Shoppers</td><td>6.25</td><td>9</td></tr>",
                            "<tr><td>2018-09-01</td><td>Solar Energy Researchers</td><td>6.24</td><td>10</td></tr>",
                            "<tr><td>2018-10-01</td><td>Work Comes First Travelers</td><td>9.14</td><td>1</td></tr>",
                            "<tr><td>2018-10-01</td><td>Alabama Trip Planners</td><td>7.1</td><td>2</td></tr>",
                            "<tr><td>2018-10-01</td><td>Nursing and Physicians Assistant Journal Researchers</td><td>7.02</td><td>3</td></tr>",
                            "<tr><td>2018-10-01</td><td>Readers of Honduran Content</td><td>7.02</td><td>3</td></tr>",
                            "<tr><td>2018-10-01</td><td>Luxury Bedding Shoppers</td><td>6.94</td><td>5</td></tr>",
                            "<tr><td>2018-10-01</td><td>New Years Eve Party Ticket Purchasers</td><td>6.91</td><td>6</td></tr>",
                            "<tr><td>2018-10-01</td><td>Teen Girl Clothing Shoppers</td><td>6.78</td><td>7</td></tr>",
                            "<tr><td>2018-10-01</td><td>Christmas Celebration Researchers</td><td>6.72</td><td>8</td></tr>",
                            "<tr><td>2018-10-01</td><td>Luxury Boutique Hotel Researchers</td><td>6.53</td><td>9</td></tr>",
                            "<tr><td>2018-10-01</td><td>Solar Energy Researchers</td><td>6.5</td><td>10</td></tr>",
                            "<tr><td>2018-11-01</td><td>Work Comes First Travelers</td><td>8.28</td><td>1</td></tr>",
                            "<tr><td>2018-11-01</td><td>Readers of Honduran Content</td><td>7.09</td><td>2</td></tr>",
                            "<tr><td>2018-11-01</td><td>Solar Energy Researchers</td><td>7.05</td><td>3</td></tr>",
                            "<tr><td>2018-11-01</td><td>Alabama Trip Planners</td><td>6.69</td><td>4</td></tr>",
                            "<tr><td>2018-11-01</td><td>Nursing and Physicians Assistant Journal Researchers</td><td>6.65</td><td>5</td></tr>",
                            "<tr><td>2018-11-01</td><td>Luxury Bedding Shoppers</td><td>6.54</td><td>6</td></tr>",
                            "<tr><td>2018-11-01</td><td>New Years Eve Party Ticket Purchasers</td><td>6.31</td><td>7</td></tr>",
                            "<tr><td>2018-11-01</td><td>Christmas Celebration Researchers</td><td>6.08</td><td>8</td></tr>",
                            "<tr><td>2018-11-01</td><td>Teen Girl Clothing Shoppers</td><td>5.95</td><td>9</td></tr>",
                            "<tr><td>2018-11-01</td><td>Restaurant Supply Shoppers</td><td>5.59</td><td>10</td></tr>",
                            "<tr><td>2018-12-01</td><td>Work Comes First Travelers</td><td>8.31</td><td>1</td></tr>",
                            "<tr><td>2018-12-01</td><td>Nursing and Physicians Assistant Journal Researchers</td><td>6.96</td><td>2</td></tr>",
                            "<tr><td>2018-12-01</td><td>Alabama Trip Planners</td><td>6.68</td><td>3</td></tr>",
                            "<tr><td>2018-12-01</td><td>Luxury Bedding Shoppers</td><td>6.63</td><td>4</td></tr>",
                            "<tr><td>2018-12-01</td><td>Readers of Honduran Content</td><td>6.58</td><td>5</td></tr>",
                            "<tr><td>2018-12-01</td><td>Solar Energy Researchers</td><td>6.55</td><td>6</td></tr>",
                            "<tr><td>2018-12-01</td><td>New Years Eve Party Ticket Purchasers</td><td>6.48</td><td>7</td></tr>",
                            "<tr><td>2018-12-01</td><td>Teen Girl Clothing Shoppers</td><td>6.38</td><td>8</td></tr>",
                            "<tr><td>2018-12-01</td><td>Christmas Celebration Researchers</td><td>6.09</td><td>9</td></tr>",
                            "<tr><td>2018-12-01</td><td>Chelsea Fans</td><td>5.86</td><td>10</td></tr>",
                            "<tr><td>2019-01-01</td><td>Work Comes First Travelers</td><td>7.66</td><td>1</td></tr>",
                            "<tr><td>2019-01-01</td><td>Solar Energy Researchers</td><td>7.05</td><td>2</td></tr>",
                            "<tr><td>2019-01-01</td><td>Readers of Honduran Content</td><td>6.67</td><td>3</td></tr>",
                            "<tr><td>2019-01-01</td><td>Luxury Bedding Shoppers</td><td>6.46</td><td>4</td></tr>",
                            "<tr><td>2019-01-01</td><td>Nursing and Physicians Assistant Journal Researchers</td><td>6.46</td><td>4</td></tr>",
                            "<tr><td>2019-01-01</td><td>Alabama Trip Planners</td><td>6.44</td><td>6</td></tr>",
                            "<tr><td>2019-01-01</td><td>New Years Eve Party Ticket Purchasers</td><td>6.16</td><td>7</td></tr>",
                            "<tr><td>2019-01-01</td><td>Teen Girl Clothing Shoppers</td><td>5.96</td><td>8</td></tr>",
                            "<tr><td>2019-01-01</td><td>Christmas Celebration Researchers</td><td>5.65</td><td>9</td></tr>",
                            "<tr><td>2019-01-01</td><td>Chelsea Fans</td><td>5.48</td><td>10</td></tr>",
                            "<tr><td>2019-01-01</td><td>Readers of Catholic News</td><td>5.48</td><td>10</td></tr>",
                            "<tr><td>2019-02-01</td><td>Work Comes First Travelers</td><td>7.66</td><td>1</td></tr>",
                            "<tr><td>2019-02-01</td><td>Nursing and Physicians Assistant Journal Researchers</td><td>6.84</td><td>2</td></tr>",
                            "<tr><td>2019-02-01</td><td>Luxury Bedding Shoppers</td><td>6.76</td><td>3</td></tr>",
                            "<tr><td>2019-02-01</td><td>Alabama Trip Planners</td><td>6.65</td><td>4</td></tr>",
                            "<tr><td>2019-02-01</td><td>Solar Energy Researchers</td><td>6.58</td><td>5</td></tr>",
                            "<tr><td>2019-02-01</td><td>New Years Eve Party Ticket Purchasers</td><td>6.56</td><td>6</td></tr>",
                            "<tr><td>2019-02-01</td><td>Teen Girl Clothing Shoppers</td><td>6.29</td><td>7</td></tr>",
                            "<tr><td>2019-02-01</td><td>Readers of Honduran Content</td><td>6.24</td><td>8</td></tr>",
                            "<tr><td>2019-02-01</td><td>PlayStation Enthusiasts</td><td>6.23</td><td>9</td></tr>",
                            "<tr><td>2019-02-01</td><td>Christmas Celebration Researchers</td><td>5.98</td><td>10</td></tr>",
                            "<tr><td>2019-03-01</td><td>Alabama Trip Planners</td><td>6.54</td><td>1</td></tr>",
                            "<tr><td>2019-03-01</td><td>Nursing and Physicians Assistant Journal Researchers</td><td>6.52</td><td>2</td></tr>",
                            "<tr><td>2019-03-01</td><td>Luxury Bedding Shoppers</td><td>6.47</td><td>3</td></tr>",
                            "<tr><td>2019-03-01</td><td>Solar Energy Researchers</td><td>6.4</td><td>4</td></tr>",
                            "<tr><td>2019-03-01</td><td>Readers of Honduran Content</td><td>6.21</td><td>5</td></tr>",
                            "<tr><td>2019-03-01</td><td>New Years Eve Party Ticket Purchasers</td><td>6.21</td><td>5</td></tr>",
                            "<tr><td>2019-03-01</td><td>PlayStation Enthusiasts</td><td>6.06</td><td>7</td></tr>",
                            "<tr><td>2019-03-01</td><td>Teen Girl Clothing Shoppers</td><td>6.01</td><td>8</td></tr>",
                            "<tr><td>2019-03-01</td><td>Readers of Catholic News</td><td>5.65</td><td>9</td></tr>",
                            "<tr><td>2019-03-01</td><td>Restaurant Supply Shoppers</td><td>5.61</td><td>10</td></tr>",
                            "<tr><td>2019-03-01</td><td>Christmas Celebration Researchers</td><td>5.61</td><td>10</td></tr>",
                            "<tr><td>2019-04-01</td><td>Solar Energy Researchers</td><td>6.28</td><td>1</td></tr>",
                            "<tr><td>2019-04-01</td><td>Alabama Trip Planners</td><td>6.21</td><td>2</td></tr>",
                            "<tr><td>2019-04-01</td><td>Luxury Bedding Shoppers</td><td>6.05</td><td>3</td></tr>",
                            "<tr><td>2019-04-01</td><td>Readers of Honduran Content</td><td>6.02</td><td>4</td></tr>",
                            "<tr><td>2019-04-01</td><td>Nursing and Physicians Assistant Journal Researchers</td><td>6.01</td><td>5</td></tr>",
                            "<tr><td>2019-04-01</td><td>New Years Eve Party Ticket Purchasers</td><td>5.65</td><td>6</td></tr>",
                            "<tr><td>2019-04-01</td><td>PlayStation Enthusiasts</td><td>5.52</td><td>7</td></tr>",
                            "<tr><td>2019-04-01</td><td>Teen Girl Clothing Shoppers</td><td>5.39</td><td>8</td></tr>",
                            "<tr><td>2019-04-01</td><td>Readers of Catholic News</td><td>5.3</td><td>9</td></tr>",
                            "<tr><td>2019-04-01</td><td>Restaurant Supply Shoppers</td><td>5.07</td><td>10</td></tr>",
                            "<tr><td>2019-05-01</td><td>Readers of Honduran Content</td><td>4.41</td><td>1</td></tr>",
                            "<tr><td>2019-05-01</td><td>Readers of Catholic News</td><td>4.08</td><td>2</td></tr>",
                            "<tr><td>2019-05-01</td><td>Solar Energy Researchers</td><td>3.92</td><td>3</td></tr>",
                            "<tr><td>2019-05-01</td><td>PlayStation Enthusiasts</td><td>3.55</td><td>4</td></tr>",
                            "<tr><td>2019-05-01</td><td>Alabama Trip Planners</td><td>3.34</td><td>5</td></tr>",
                            "<tr><td>2019-05-01</td><td>Gamers</td><td>3.29</td><td>6</td></tr>",
                            "<tr><td>2019-05-01</td><td>Luxury Bedding Shoppers</td><td>3.25</td><td>7</td></tr>",
                            "<tr><td>2019-05-01</td><td>New Years Eve Party Ticket Purchasers</td><td>3.19</td><td>8</td></tr>",
                            "<tr><td>2019-05-01</td><td>Video Gamers</td><td>3.19</td><td>8</td></tr>",
                            "<tr><td>2019-05-01</td><td>Nursing and Physicians Assistant Journal Researchers</td><td>3.15</td><td>10</td></tr>",
                            "<tr><td>2019-06-01</td><td>Las Vegas Trip Planners</td><td>2.77</td><td>1</td></tr>",
                            "<tr><td>2019-06-01</td><td>Gym Equipment Owners</td><td>2.55</td><td>2</td></tr>",
                            "<tr><td>2019-06-01</td><td>Cosmetics and Beauty Shoppers</td><td>2.55</td><td>2</td></tr>",
                            "<tr><td>2019-06-01</td><td>Asian Food Enthusiasts</td><td>2.52</td><td>4</td></tr>",
                            "<tr><td>2019-06-01</td><td>Luxury Retail Shoppers</td><td>2.46</td><td>5</td></tr>",
                            "<tr><td>2019-06-01</td><td>Furniture Shoppers</td><td>2.39</td><td>6</td></tr>",
                            "<tr><td>2019-06-01</td><td>Medicare Researchers</td><td>2.35</td><td>7</td></tr>",
                            "<tr><td>2019-06-01</td><td>Recently Retired Individuals</td><td>2.27</td><td>8</td></tr>",
                            "<tr><td>2019-06-01</td><td>Medicare Provider Researchers</td><td>2.21</td><td>9</td></tr>",
                            "<tr><td>2019-06-01</td><td>Cruise Travel Intenders</td><td>2.2</td><td>10</td></tr>",
                            "<tr><td>2019-07-01</td><td>Las Vegas Trip Planners</td><td>2.82</td><td>1</td></tr>",
                            "<tr><td>2019-07-01</td><td>Luxury Retail Shoppers</td><td>2.81</td><td>2</td></tr>",
                            "<tr><td>2019-07-01</td><td>Gym Equipment Owners</td><td>2.79</td><td>3</td></tr>",
                            "<tr><td>2019-07-01</td><td>Furniture Shoppers</td><td>2.79</td><td>3</td></tr>",
                            "<tr><td>2019-07-01</td><td>Cosmetics and Beauty Shoppers</td><td>2.78</td><td>5</td></tr>",
                            "<tr><td>2019-07-01</td><td>Asian Food Enthusiasts</td><td>2.78</td><td>5</td></tr>",
                            "<tr><td>2019-07-01</td><td>Medicare Researchers</td><td>2.77</td><td>7</td></tr>",
                            "<tr><td>2019-07-01</td><td>Medicare Provider Researchers</td><td>2.73</td><td>8</td></tr>",
                            "<tr><td>2019-07-01</td><td>Recently Retired Individuals</td><td>2.72</td><td>9</td></tr>",
                            "<tr><td>2019-07-01</td><td>Medicare Price Shoppers</td><td>2.66</td><td>10</td></tr>",
                            "<tr><td>2019-08-01</td><td>Cosmetics and Beauty Shoppers</td><td>2.73</td><td>1</td></tr>",
                            "<tr><td>2019-08-01</td><td>Gym Equipment Owners</td><td>2.72</td><td>2</td></tr>",
                            "<tr><td>2019-08-01</td><td>Las Vegas Trip Planners</td><td>2.7</td><td>3</td></tr>",
                            "<tr><td>2019-08-01</td><td>Asian Food Enthusiasts</td><td>2.68</td><td>4</td></tr>",
                            "<tr><td>2019-08-01</td><td>Solar Energy Researchers</td><td>2.66</td><td>5</td></tr>",
                            "<tr><td>2019-08-01</td><td>Luxury Retail Shoppers</td><td>2.59</td><td>6</td></tr>",
                            "<tr><td>2019-08-01</td><td>Furniture Shoppers</td><td>2.59</td><td>6</td></tr>",
                            "<tr><td>2019-08-01</td><td>Marijuana Legalization Advocates</td><td>2.56</td><td>8</td></tr>",
                            "<tr><td>2019-08-01</td><td>Medicare Researchers</td><td>2.55</td><td>9</td></tr>",
                            "<tr><td>2019-08-01</td><td>Recently Retired Individuals</td><td>2.53</td><td>10</td></tr>",
                            "</table>"
                        ]
                    }
                }
            ],
            "execution_count": 1
        },
        {
            "cell_type": "markdown",
            "source": [
                "    2. For all of these top 10 interests - which interest appears the most often?"
            ],
            "metadata": {
                "azdata_cell_guid": "b900dfea-571b-4df1-abb8-642a310dd89f"
            },
            "attachments": {}
        },
        {
            "cell_type": "code",
            "source": [
                "WITH tbl AS(\r\n",
                "    SELECT\r\n",
                "        month_year,\r\n",
                "        interest_name,\r\n",
                "        ROUND(AVG(composition/index_value),2) AS avg_composition\r\n",
                "    FROM interest_metrics me\r\n",
                "    JOIN interest_map ma ON ma.id = me.interest_id\r\n",
                "    WHERE month_year IS NOT NULL\r\n",
                "    GROUP BY interest_name, month_year\r\n",
                "),\r\n",
                "rank_tbl AS(\r\n",
                "    SELECT *,\r\n",
                "        RANK() OVER(PARTITION BY month_year ORDER BY avg_composition DESC) AS rank_avg_composition\r\n",
                "    FROM tbl \r\n",
                ")\r\n",
                "SELECT \r\n",
                "    interest_name,\r\n",
                "    COUNT(*) AS time_show_up_in_top10\r\n",
                "FROM rank_tbl\r\n",
                "WHERE rank_avg_composition < 11\r\n",
                "GROUP BY interest_name\r\n",
                "ORDER BY time_show_up_in_top10 DESC"
            ],
            "metadata": {
                "azdata_cell_guid": "246ac4b2-2b69-4882-b137-f712d9e5a03c",
                "language": "sql"
            },
            "outputs": [
                {
                    "output_type": "display_data",
                    "data": {
                        "text/html": "(30 rows affected)"
                    },
                    "metadata": {}
                },
                {
                    "output_type": "display_data",
                    "data": {
                        "text/html": "Total execution time: 00:00:00.134"
                    },
                    "metadata": {}
                },
                {
                    "output_type": "execute_result",
                    "metadata": {},
                    "execution_count": 2,
                    "data": {
                        "application/vnd.dataresource+json": {
                            "schema": {
                                "fields": [
                                    {
                                        "name": "interest_name"
                                    },
                                    {
                                        "name": "time_show_up_in_top10"
                                    }
                                ]
                            },
                            "data": [
                                {
                                    "0": "Alabama Trip Planners",
                                    "1": "10"
                                },
                                {
                                    "0": "Luxury Bedding Shoppers",
                                    "1": "10"
                                },
                                {
                                    "0": "Solar Energy Researchers",
                                    "1": "10"
                                },
                                {
                                    "0": "Readers of Honduran Content",
                                    "1": "9"
                                },
                                {
                                    "0": "New Years Eve Party Ticket Purchasers",
                                    "1": "9"
                                },
                                {
                                    "0": "Nursing and Physicians Assistant Journal Researchers",
                                    "1": "9"
                                },
                                {
                                    "0": "Teen Girl Clothing Shoppers",
                                    "1": "8"
                                },
                                {
                                    "0": "Work Comes First Travelers",
                                    "1": "8"
                                },
                                {
                                    "0": "Christmas Celebration Researchers",
                                    "1": "7"
                                },
                                {
                                    "0": "Cosmetics and Beauty Shoppers",
                                    "1": "5"
                                },
                                {
                                    "0": "Asian Food Enthusiasts",
                                    "1": "5"
                                },
                                {
                                    "0": "Furniture Shoppers",
                                    "1": "5"
                                },
                                {
                                    "0": "Gym Equipment Owners",
                                    "1": "5"
                                },
                                {
                                    "0": "Luxury Retail Shoppers",
                                    "1": "5"
                                },
                                {
                                    "0": "Las Vegas Trip Planners",
                                    "1": "5"
                                },
                                {
                                    "0": "Recently Retired Individuals",
                                    "1": "5"
                                },
                                {
                                    "0": "Restaurant Supply Shoppers",
                                    "1": "4"
                                },
                                {
                                    "0": "PlayStation Enthusiasts",
                                    "1": "4"
                                },
                                {
                                    "0": "Readers of Catholic News",
                                    "1": "4"
                                },
                                {
                                    "0": "Medicare Researchers",
                                    "1": "3"
                                },
                                {
                                    "0": "Medicare Provider Researchers",
                                    "1": "2"
                                },
                                {
                                    "0": "Chelsea Fans",
                                    "1": "2"
                                },
                                {
                                    "0": "Gamers",
                                    "1": "1"
                                },
                                {
                                    "0": "Cruise Travel Intenders",
                                    "1": "1"
                                },
                                {
                                    "0": "Family Adventures Travelers",
                                    "1": "1"
                                },
                                {
                                    "0": "Marijuana Legalization Advocates",
                                    "1": "1"
                                },
                                {
                                    "0": "Medicare Price Shoppers",
                                    "1": "1"
                                },
                                {
                                    "0": "HDTV Researchers",
                                    "1": "1"
                                },
                                {
                                    "0": "Luxury Boutique Hotel Researchers",
                                    "1": "1"
                                },
                                {
                                    "0": "Video Gamers",
                                    "1": "1"
                                }
                            ]
                        },
                        "text/html": [
                            "<table>",
                            "<tr><th>interest_name</th><th>time_show_up_in_top10</th></tr>",
                            "<tr><td>Alabama Trip Planners</td><td>10</td></tr>",
                            "<tr><td>Luxury Bedding Shoppers</td><td>10</td></tr>",
                            "<tr><td>Solar Energy Researchers</td><td>10</td></tr>",
                            "<tr><td>Readers of Honduran Content</td><td>9</td></tr>",
                            "<tr><td>New Years Eve Party Ticket Purchasers</td><td>9</td></tr>",
                            "<tr><td>Nursing and Physicians Assistant Journal Researchers</td><td>9</td></tr>",
                            "<tr><td>Teen Girl Clothing Shoppers</td><td>8</td></tr>",
                            "<tr><td>Work Comes First Travelers</td><td>8</td></tr>",
                            "<tr><td>Christmas Celebration Researchers</td><td>7</td></tr>",
                            "<tr><td>Cosmetics and Beauty Shoppers</td><td>5</td></tr>",
                            "<tr><td>Asian Food Enthusiasts</td><td>5</td></tr>",
                            "<tr><td>Furniture Shoppers</td><td>5</td></tr>",
                            "<tr><td>Gym Equipment Owners</td><td>5</td></tr>",
                            "<tr><td>Luxury Retail Shoppers</td><td>5</td></tr>",
                            "<tr><td>Las Vegas Trip Planners</td><td>5</td></tr>",
                            "<tr><td>Recently Retired Individuals</td><td>5</td></tr>",
                            "<tr><td>Restaurant Supply Shoppers</td><td>4</td></tr>",
                            "<tr><td>PlayStation Enthusiasts</td><td>4</td></tr>",
                            "<tr><td>Readers of Catholic News</td><td>4</td></tr>",
                            "<tr><td>Medicare Researchers</td><td>3</td></tr>",
                            "<tr><td>Medicare Provider Researchers</td><td>2</td></tr>",
                            "<tr><td>Chelsea Fans</td><td>2</td></tr>",
                            "<tr><td>Gamers</td><td>1</td></tr>",
                            "<tr><td>Cruise Travel Intenders</td><td>1</td></tr>",
                            "<tr><td>Family Adventures Travelers</td><td>1</td></tr>",
                            "<tr><td>Marijuana Legalization Advocates</td><td>1</td></tr>",
                            "<tr><td>Medicare Price Shoppers</td><td>1</td></tr>",
                            "<tr><td>HDTV Researchers</td><td>1</td></tr>",
                            "<tr><td>Luxury Boutique Hotel Researchers</td><td>1</td></tr>",
                            "<tr><td>Video Gamers</td><td>1</td></tr>",
                            "</table>"
                        ]
                    }
                }
            ],
            "execution_count": 2
        },
        {
            "cell_type": "markdown",
            "source": [
                "    3. What is the average of the average composition for the top 10 interests for each month?"
            ],
            "metadata": {
                "azdata_cell_guid": "e8d3d3cb-7862-48c3-b455-c0f8c07fbda1"
            },
            "attachments": {}
        },
        {
            "cell_type": "code",
            "source": [
                "WITH tbl AS(\r\n",
                "    SELECT\r\n",
                "        month_year,\r\n",
                "        interest_name,\r\n",
                "        ROUND(AVG(composition/index_value),2) AS avg_composition\r\n",
                "    FROM interest_metrics me\r\n",
                "    JOIN interest_map ma ON ma.id = me.interest_id\r\n",
                "    WHERE month_year IS NOT NULL\r\n",
                "    GROUP BY interest_name, month_year\r\n",
                "),\r\n",
                "rank_tbl AS(\r\n",
                "    SELECT *,\r\n",
                "        RANK() OVER(PARTITION BY month_year ORDER BY avg_composition DESC) AS rank_avg_composition\r\n",
                "    FROM tbl \r\n",
                ")\r\n",
                "SELECT \r\n",
                "    month_year,\r\n",
                "    ROUND(AVG(avg_composition),2) AS avg_composition_top10\r\n",
                "FROM rank_tbl\r\n",
                "WHERE rank_avg_composition < 11\r\n",
                "GROUP BY month_year"
            ],
            "metadata": {
                "azdata_cell_guid": "560de277-df6b-4f37-92fb-9ddf38e9611f",
                "language": "sql"
            },
            "outputs": [
                {
                    "output_type": "display_data",
                    "data": {
                        "text/html": "(14 rows affected)"
                    },
                    "metadata": {}
                },
                {
                    "output_type": "display_data",
                    "data": {
                        "text/html": "Total execution time: 00:00:00.114"
                    },
                    "metadata": {}
                },
                {
                    "output_type": "execute_result",
                    "metadata": {},
                    "execution_count": 3,
                    "data": {
                        "application/vnd.dataresource+json": {
                            "schema": {
                                "fields": [
                                    {
                                        "name": "month_year"
                                    },
                                    {
                                        "name": "avg_composition_top10"
                                    }
                                ]
                            },
                            "data": [
                                {
                                    "0": "2018-07-01",
                                    "1": "6.04"
                                },
                                {
                                    "0": "2018-08-01",
                                    "1": "5.94"
                                },
                                {
                                    "0": "2018-09-01",
                                    "1": "6.89"
                                },
                                {
                                    "0": "2018-10-01",
                                    "1": "7.07"
                                },
                                {
                                    "0": "2018-11-01",
                                    "1": "6.62"
                                },
                                {
                                    "0": "2018-12-01",
                                    "1": "6.65"
                                },
                                {
                                    "0": "2019-01-01",
                                    "1": "6.32"
                                },
                                {
                                    "0": "2019-02-01",
                                    "1": "6.58"
                                },
                                {
                                    "0": "2019-03-01",
                                    "1": "6.12"
                                },
                                {
                                    "0": "2019-04-01",
                                    "1": "5.75"
                                },
                                {
                                    "0": "2019-05-01",
                                    "1": "3.54"
                                },
                                {
                                    "0": "2019-06-01",
                                    "1": "2.43"
                                },
                                {
                                    "0": "2019-07-01",
                                    "1": "2.76"
                                },
                                {
                                    "0": "2019-08-01",
                                    "1": "2.63"
                                }
                            ]
                        },
                        "text/html": [
                            "<table>",
                            "<tr><th>month_year</th><th>avg_composition_top10</th></tr>",
                            "<tr><td>2018-07-01</td><td>6.04</td></tr>",
                            "<tr><td>2018-08-01</td><td>5.94</td></tr>",
                            "<tr><td>2018-09-01</td><td>6.89</td></tr>",
                            "<tr><td>2018-10-01</td><td>7.07</td></tr>",
                            "<tr><td>2018-11-01</td><td>6.62</td></tr>",
                            "<tr><td>2018-12-01</td><td>6.65</td></tr>",
                            "<tr><td>2019-01-01</td><td>6.32</td></tr>",
                            "<tr><td>2019-02-01</td><td>6.58</td></tr>",
                            "<tr><td>2019-03-01</td><td>6.12</td></tr>",
                            "<tr><td>2019-04-01</td><td>5.75</td></tr>",
                            "<tr><td>2019-05-01</td><td>3.54</td></tr>",
                            "<tr><td>2019-06-01</td><td>2.43</td></tr>",
                            "<tr><td>2019-07-01</td><td>2.76</td></tr>",
                            "<tr><td>2019-08-01</td><td>2.63</td></tr>",
                            "</table>"
                        ]
                    }
                }
            ],
            "execution_count": 3
        },
        {
            "cell_type": "markdown",
            "source": [
                "    4. What is the 3 month rolling average of the max average composition value from September 2018 to August 2019 and include the previous top ranking interests in the same output shown below."
            ],
            "metadata": {
                "azdata_cell_guid": "3cf9c5b2-ffca-4d4f-a938-cf32c585c2ff"
            },
            "attachments": {}
        },
        {
            "cell_type": "code",
            "source": [
                "WITH tbl AS(\r\n",
                "    SELECT\r\n",
                "        month_year,\r\n",
                "        interest_name,\r\n",
                "        ROUND(AVG(composition/index_value),2) AS avg_composition\r\n",
                "    FROM interest_metrics me\r\n",
                "    JOIN interest_map ma ON ma.id = me.interest_id\r\n",
                "    WHERE month_year IS NOT NULL\r\n",
                "    GROUP BY interest_name, month_year\r\n",
                "),\r\n",
                "rank_tbl AS(\r\n",
                "    SELECT *,\r\n",
                "        RANK() OVER(PARTITION BY month_year ORDER BY avg_composition DESC) AS rank_avg_composition\r\n",
                "    FROM tbl \r\n",
                "),\r\n",
                "max_tbl AS(\r\n",
                "    SELECT\r\n",
                "        month_year, \r\n",
                "        interest_name, \r\n",
                "        avg_composition AS max_avg_composition\r\n",
                "    FROM rank_tbl\r\n",
                "    WHERE rank_avg_composition = 1\r\n",
                "),\r\n",
                "lag_tbl AS(\r\n",
                "    SELECT *,\r\n",
                "        LAG(interest_name, 1) OVER(ORDER BY month_year) AS interest_1_month_ago,\r\n",
                "        LAG(max_avg_composition, 1) OVER(ORDER BY month_year) AS max_1_month_ago,\r\n",
                "        LAG(interest_name, 2) OVER(ORDER BY month_year) AS interest_2_month_ago,\r\n",
                "        LAG(max_avg_composition, 2) OVER(ORDER BY month_year) AS max_2_month_ago\r\n",
                "    FROM max_tbl\r\n",
                ")\r\n",
                "SELECT\r\n",
                "    month_year,\r\n",
                "    interest_name,\r\n",
                "    max_avg_composition,\r\n",
                "    ROUND((max_avg_composition + max_1_month_ago + max_2_month_ago)/3,2) AS avg_3_months_moving,\r\n",
                "    CONCAT(interest_1_month_ago, ': ', max_1_month_ago) AS #1_month_ago,\r\n",
                "    CONCAT(interest_2_month_ago, ': ', max_2_month_ago) AS #2_month_ago\r\n",
                "FROM lag_tbl\r\n",
                "WHERE month_year >= '2018-09-01'"
            ],
            "metadata": {
                "azdata_cell_guid": "c276c7ed-e5e3-4112-a45a-13c6af4eaa36",
                "language": "sql"
            },
            "outputs": [
                {
                    "output_type": "display_data",
                    "data": {
                        "text/html": "(12 rows affected)"
                    },
                    "metadata": {}
                },
                {
                    "output_type": "display_data",
                    "data": {
                        "text/html": "Total execution time: 00:00:00.128"
                    },
                    "metadata": {}
                },
                {
                    "output_type": "execute_result",
                    "metadata": {},
                    "execution_count": 4,
                    "data": {
                        "application/vnd.dataresource+json": {
                            "schema": {
                                "fields": [
                                    {
                                        "name": "month_year"
                                    },
                                    {
                                        "name": "interest_name"
                                    },
                                    {
                                        "name": "max_avg_composition"
                                    },
                                    {
                                        "name": "avg_3_months_moving"
                                    },
                                    {
                                        "name": "#1_month_ago"
                                    },
                                    {
                                        "name": "#2_month_ago"
                                    }
                                ]
                            },
                            "data": [
                                {
                                    "0": "2018-09-01",
                                    "1": "Work Comes First Travelers",
                                    "2": "8.26",
                                    "3": "7.61",
                                    "4": "Las Vegas Trip Planners: 7.21",
                                    "5": "Las Vegas Trip Planners: 7.36"
                                },
                                {
                                    "0": "2018-10-01",
                                    "1": "Work Comes First Travelers",
                                    "2": "9.14",
                                    "3": "8.2",
                                    "4": "Work Comes First Travelers: 8.26",
                                    "5": "Las Vegas Trip Planners: 7.21"
                                },
                                {
                                    "0": "2018-11-01",
                                    "1": "Work Comes First Travelers",
                                    "2": "8.28",
                                    "3": "8.56",
                                    "4": "Work Comes First Travelers: 9.14",
                                    "5": "Work Comes First Travelers: 8.26"
                                },
                                {
                                    "0": "2018-12-01",
                                    "1": "Work Comes First Travelers",
                                    "2": "8.31",
                                    "3": "8.58",
                                    "4": "Work Comes First Travelers: 8.28",
                                    "5": "Work Comes First Travelers: 9.14"
                                },
                                {
                                    "0": "2019-01-01",
                                    "1": "Work Comes First Travelers",
                                    "2": "7.66",
                                    "3": "8.08",
                                    "4": "Work Comes First Travelers: 8.31",
                                    "5": "Work Comes First Travelers: 8.28"
                                },
                                {
                                    "0": "2019-02-01",
                                    "1": "Work Comes First Travelers",
                                    "2": "7.66",
                                    "3": "7.88",
                                    "4": "Work Comes First Travelers: 7.66",
                                    "5": "Work Comes First Travelers: 8.31"
                                },
                                {
                                    "0": "2019-03-01",
                                    "1": "Alabama Trip Planners",
                                    "2": "6.54",
                                    "3": "7.29",
                                    "4": "Work Comes First Travelers: 7.66",
                                    "5": "Work Comes First Travelers: 7.66"
                                },
                                {
                                    "0": "2019-04-01",
                                    "1": "Solar Energy Researchers",
                                    "2": "6.28",
                                    "3": "6.83",
                                    "4": "Alabama Trip Planners: 6.54",
                                    "5": "Work Comes First Travelers: 7.66"
                                },
                                {
                                    "0": "2019-05-01",
                                    "1": "Readers of Honduran Content",
                                    "2": "4.41",
                                    "3": "5.74",
                                    "4": "Solar Energy Researchers: 6.28",
                                    "5": "Alabama Trip Planners: 6.54"
                                },
                                {
                                    "0": "2019-06-01",
                                    "1": "Las Vegas Trip Planners",
                                    "2": "2.77",
                                    "3": "4.49",
                                    "4": "Readers of Honduran Content: 4.41",
                                    "5": "Solar Energy Researchers: 6.28"
                                },
                                {
                                    "0": "2019-07-01",
                                    "1": "Las Vegas Trip Planners",
                                    "2": "2.82",
                                    "3": "3.33",
                                    "4": "Las Vegas Trip Planners: 2.77",
                                    "5": "Readers of Honduran Content: 4.41"
                                },
                                {
                                    "0": "2019-08-01",
                                    "1": "Cosmetics and Beauty Shoppers",
                                    "2": "2.73",
                                    "3": "2.77",
                                    "4": "Las Vegas Trip Planners: 2.82",
                                    "5": "Las Vegas Trip Planners: 2.77"
                                }
                            ]
                        },
                        "text/html": [
                            "<table>",
                            "<tr><th>month_year</th><th>interest_name</th><th>max_avg_composition</th><th>avg_3_months_moving</th><th>#1_month_ago</th><th>#2_month_ago</th></tr>",
                            "<tr><td>2018-09-01</td><td>Work Comes First Travelers</td><td>8.26</td><td>7.61</td><td>Las Vegas Trip Planners: 7.21</td><td>Las Vegas Trip Planners: 7.36</td></tr>",
                            "<tr><td>2018-10-01</td><td>Work Comes First Travelers</td><td>9.14</td><td>8.2</td><td>Work Comes First Travelers: 8.26</td><td>Las Vegas Trip Planners: 7.21</td></tr>",
                            "<tr><td>2018-11-01</td><td>Work Comes First Travelers</td><td>8.28</td><td>8.56</td><td>Work Comes First Travelers: 9.14</td><td>Work Comes First Travelers: 8.26</td></tr>",
                            "<tr><td>2018-12-01</td><td>Work Comes First Travelers</td><td>8.31</td><td>8.58</td><td>Work Comes First Travelers: 8.28</td><td>Work Comes First Travelers: 9.14</td></tr>",
                            "<tr><td>2019-01-01</td><td>Work Comes First Travelers</td><td>7.66</td><td>8.08</td><td>Work Comes First Travelers: 8.31</td><td>Work Comes First Travelers: 8.28</td></tr>",
                            "<tr><td>2019-02-01</td><td>Work Comes First Travelers</td><td>7.66</td><td>7.88</td><td>Work Comes First Travelers: 7.66</td><td>Work Comes First Travelers: 8.31</td></tr>",
                            "<tr><td>2019-03-01</td><td>Alabama Trip Planners</td><td>6.54</td><td>7.29</td><td>Work Comes First Travelers: 7.66</td><td>Work Comes First Travelers: 7.66</td></tr>",
                            "<tr><td>2019-04-01</td><td>Solar Energy Researchers</td><td>6.28</td><td>6.83</td><td>Alabama Trip Planners: 6.54</td><td>Work Comes First Travelers: 7.66</td></tr>",
                            "<tr><td>2019-05-01</td><td>Readers of Honduran Content</td><td>4.41</td><td>5.74</td><td>Solar Energy Researchers: 6.28</td><td>Alabama Trip Planners: 6.54</td></tr>",
                            "<tr><td>2019-06-01</td><td>Las Vegas Trip Planners</td><td>2.77</td><td>4.49</td><td>Readers of Honduran Content: 4.41</td><td>Solar Energy Researchers: 6.28</td></tr>",
                            "<tr><td>2019-07-01</td><td>Las Vegas Trip Planners</td><td>2.82</td><td>3.33</td><td>Las Vegas Trip Planners: 2.77</td><td>Readers of Honduran Content: 4.41</td></tr>",
                            "<tr><td>2019-08-01</td><td>Cosmetics and Beauty Shoppers</td><td>2.73</td><td>2.77</td><td>Las Vegas Trip Planners: 2.82</td><td>Las Vegas Trip Planners: 2.77</td></tr>",
                            "</table>"
                        ]
                    }
                }
            ],
            "execution_count": 4
        },
        {
            "cell_type": "markdown",
            "source": [
                "5. Provide a possible reason why the max average composition might change from month to month? Could it signal something is not quite right with the overall business model for Fresh Segments?"
            ],
            "metadata": {
                "azdata_cell_guid": "60011ae6-2ef1-4005-8b42-f5828c08330b"
            },
            "attachments": {}
        },
        {
            "cell_type": "markdown",
            "source": [
                "- The possible reason for changing max average composition is season. Each of season in year has different interests and compositions accompanied."
            ],
            "metadata": {
                "azdata_cell_guid": "547da17a-7d6d-4dea-a9fc-412a94a868bf"
            },
            "attachments": {}
        }
    ]
}