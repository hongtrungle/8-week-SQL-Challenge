{
    "metadata": {
        "kernelspec": {
            "name": "SQL",
            "display_name": "SQL",
            "language": "sql"
        },
        "language_info": {
            "name": "sql",
            "version": ""
        }
    },
    "nbformat_minor": 2,
    "nbformat": 4,
    "cells": [
        {
            "cell_type": "markdown",
            "source": [
                "### Segment Analysis\r\n",
                "---\r\n",
                "    1. Using our filtered dataset by removing the interests with less than 6 months worth of data, which are the top 10 and bottom 10 interests which have the largest composition values in any `month_year`? Only use the maximum composition value for each interest but you must keep the corresponding `month_year`"
            ],
            "metadata": {
                "azdata_cell_guid": "eead9dab-27fa-4b0e-9062-e47009077913"
            },
            "attachments": {}
        },
        {
            "cell_type": "markdown",
            "source": [
                "- Create table `sub_metrics` removing the interests with less than 6 months worth of data."
            ],
            "metadata": {
                "azdata_cell_guid": "ddbca51b-2019-4f2a-889c-c5ae030d7499"
            },
            "attachments": {}
        },
        {
            "cell_type": "code",
            "source": [
                "DROP TABLE IF EXISTS sub_metrics;\r\n",
                "WITH tbl AS(\r\n",
                "    SELECT  \r\n",
                "        interest_id, \r\n",
                "        COUNT(DISTINCT month_year) as total_months\r\n",
                "    FROM interest_metrics i1\r\n",
                "    WHERE month_year IS NOT NULL\r\n",
                "    GROUP BY interest_id\r\n",
                "    HAVING COUNT(DISTINCT month_year) < 6\r\n",
                ")\r\n",
                "SELECT *\r\n",
                "INTO sub_metrics\r\n",
                "FROM interest_metrics\r\n",
                "WHERE interest_id NOT IN (SELECT interest_id FROM tbl) \r\n",
                ""
            ],
            "metadata": {
                "azdata_cell_guid": "5ad851aa-5ad4-4a06-828f-577153c07a73",
                "language": "sql"
            },
            "outputs": [
                {
                    "output_type": "display_data",
                    "data": {
                        "text/html": "(12680 rows affected)"
                    },
                    "metadata": {}
                },
                {
                    "output_type": "display_data",
                    "data": {
                        "text/html": "Total execution time: 00:00:00.091"
                    },
                    "metadata": {}
                }
            ],
            "execution_count": 1
        },
        {
            "cell_type": "markdown",
            "source": [
                "- Top 10 which have the largest composition values in any `month_year`"
            ],
            "metadata": {
                "azdata_cell_guid": "d0697b83-9cb4-4576-9795-5705df7dfcb8"
            },
            "attachments": {}
        },
        {
            "cell_type": "code",
            "source": [
                "SELECT TOP 10\r\n",
                "    month_year,\r\n",
                "    interest_name,\r\n",
                "    composition\r\n",
                "FROM sub_metrics s\r\n",
                "JOIN interest_map i ON i.id = s.interest_id\r\n",
                "ORDER BY composition DESC"
            ],
            "metadata": {
                "azdata_cell_guid": "6af9b7c4-6029-4fbd-92a1-509f11e00025",
                "language": "sql"
            },
            "outputs": [
                {
                    "output_type": "display_data",
                    "data": {
                        "text/html": "(10 rows affected)"
                    },
                    "metadata": {}
                },
                {
                    "output_type": "display_data",
                    "data": {
                        "text/html": "Total execution time: 00:00:00.049"
                    },
                    "metadata": {}
                },
                {
                    "output_type": "execute_result",
                    "metadata": {},
                    "execution_count": 2,
                    "data": {
                        "application/vnd.dataresource+json": {
                            "schema": {
                                "fields": [
                                    {
                                        "name": "month_year"
                                    },
                                    {
                                        "name": "interest_name"
                                    },
                                    {
                                        "name": "composition"
                                    }
                                ]
                            },
                            "data": [
                                {
                                    "0": "2018-12-01",
                                    "1": "Work Comes First Travelers",
                                    "2": "21.2"
                                },
                                {
                                    "0": "2018-10-01",
                                    "1": "Work Comes First Travelers",
                                    "2": "20.28"
                                },
                                {
                                    "0": "2018-11-01",
                                    "1": "Work Comes First Travelers",
                                    "2": "19.45"
                                },
                                {
                                    "0": "2019-01-01",
                                    "1": "Work Comes First Travelers",
                                    "2": "18.99"
                                },
                                {
                                    "0": "2018-07-01",
                                    "1": "Gym Equipment Owners",
                                    "2": "18.82"
                                },
                                {
                                    "0": "2019-02-01",
                                    "1": "Work Comes First Travelers",
                                    "2": "18.39"
                                },
                                {
                                    "0": "2018-09-01",
                                    "1": "Work Comes First Travelers",
                                    "2": "18.18"
                                },
                                {
                                    "0": "2018-07-01",
                                    "1": "Furniture Shoppers",
                                    "2": "17.44"
                                },
                                {
                                    "0": "2018-07-01",
                                    "1": "Luxury Retail Shoppers",
                                    "2": "17.19"
                                },
                                {
                                    "0": "2018-10-01",
                                    "1": "Luxury Boutique Hotel Researchers",
                                    "2": "15.15"
                                }
                            ]
                        },
                        "text/html": [
                            "<table>",
                            "<tr><th>month_year</th><th>interest_name</th><th>composition</th></tr>",
                            "<tr><td>2018-12-01</td><td>Work Comes First Travelers</td><td>21.2</td></tr>",
                            "<tr><td>2018-10-01</td><td>Work Comes First Travelers</td><td>20.28</td></tr>",
                            "<tr><td>2018-11-01</td><td>Work Comes First Travelers</td><td>19.45</td></tr>",
                            "<tr><td>2019-01-01</td><td>Work Comes First Travelers</td><td>18.99</td></tr>",
                            "<tr><td>2018-07-01</td><td>Gym Equipment Owners</td><td>18.82</td></tr>",
                            "<tr><td>2019-02-01</td><td>Work Comes First Travelers</td><td>18.39</td></tr>",
                            "<tr><td>2018-09-01</td><td>Work Comes First Travelers</td><td>18.18</td></tr>",
                            "<tr><td>2018-07-01</td><td>Furniture Shoppers</td><td>17.44</td></tr>",
                            "<tr><td>2018-07-01</td><td>Luxury Retail Shoppers</td><td>17.19</td></tr>",
                            "<tr><td>2018-10-01</td><td>Luxury Boutique Hotel Researchers</td><td>15.15</td></tr>",
                            "</table>"
                        ]
                    }
                }
            ],
            "execution_count": 2
        },
        {
            "cell_type": "markdown",
            "source": [
                "- Bottom 10 which have the largest composition values in any `month_year`"
            ],
            "metadata": {
                "azdata_cell_guid": "4d25fd46-11dd-4e93-b546-afd8a3df14c3"
            },
            "attachments": {}
        },
        {
            "cell_type": "code",
            "source": [
                "SELECT TOP 10\r\n",
                "    month_year,\r\n",
                "    interest_name,\r\n",
                "    composition\r\n",
                "FROM sub_metrics s\r\n",
                "JOIN interest_map i ON i.id = s.interest_id\r\n",
                "ORDER BY composition"
            ],
            "metadata": {
                "azdata_cell_guid": "59939065-dde5-40a8-a40e-188c86e80460",
                "language": "sql"
            },
            "outputs": [
                {
                    "output_type": "display_data",
                    "data": {
                        "text/html": "(10 rows affected)"
                    },
                    "metadata": {}
                },
                {
                    "output_type": "display_data",
                    "data": {
                        "text/html": "Total execution time: 00:00:00.027"
                    },
                    "metadata": {}
                },
                {
                    "output_type": "execute_result",
                    "metadata": {},
                    "execution_count": 3,
                    "data": {
                        "application/vnd.dataresource+json": {
                            "schema": {
                                "fields": [
                                    {
                                        "name": "month_year"
                                    },
                                    {
                                        "name": "interest_name"
                                    },
                                    {
                                        "name": "composition"
                                    }
                                ]
                            },
                            "data": [
                                {
                                    "0": "2019-05-01",
                                    "1": "Mowing Equipment Shoppers",
                                    "2": "1.51"
                                },
                                {
                                    "0": "2019-05-01",
                                    "1": "Beer Aficionados",
                                    "2": "1.52"
                                },
                                {
                                    "0": "2019-05-01",
                                    "1": "Gastrointestinal Researchers",
                                    "2": "1.52"
                                },
                                {
                                    "0": "2019-04-01",
                                    "1": "United Nations Donors",
                                    "2": "1.52"
                                },
                                {
                                    "0": "2019-05-01",
                                    "1": "Philadelphia 76ers Fans",
                                    "2": "1.52"
                                },
                                {
                                    "0": "2019-06-01",
                                    "1": "New York Giants Fans",
                                    "2": "1.52"
                                },
                                {
                                    "0": "2019-06-01",
                                    "1": "Disney Fans",
                                    "2": "1.52"
                                },
                                {
                                    "0": "2019-06-01",
                                    "1": "Online Directory Searchers",
                                    "2": "1.53"
                                },
                                {
                                    "0": "2019-05-01",
                                    "1": "Crochet Enthusiasts",
                                    "2": "1.53"
                                },
                                {
                                    "0": "2019-05-01",
                                    "1": "LED Lighting Shoppers",
                                    "2": "1.53"
                                }
                            ]
                        },
                        "text/html": [
                            "<table>",
                            "<tr><th>month_year</th><th>interest_name</th><th>composition</th></tr>",
                            "<tr><td>2019-05-01</td><td>Mowing Equipment Shoppers</td><td>1.51</td></tr>",
                            "<tr><td>2019-05-01</td><td>Beer Aficionados</td><td>1.52</td></tr>",
                            "<tr><td>2019-05-01</td><td>Gastrointestinal Researchers</td><td>1.52</td></tr>",
                            "<tr><td>2019-04-01</td><td>United Nations Donors</td><td>1.52</td></tr>",
                            "<tr><td>2019-05-01</td><td>Philadelphia 76ers Fans</td><td>1.52</td></tr>",
                            "<tr><td>2019-06-01</td><td>New York Giants Fans</td><td>1.52</td></tr>",
                            "<tr><td>2019-06-01</td><td>Disney Fans</td><td>1.52</td></tr>",
                            "<tr><td>2019-06-01</td><td>Online Directory Searchers</td><td>1.53</td></tr>",
                            "<tr><td>2019-05-01</td><td>Crochet Enthusiasts</td><td>1.53</td></tr>",
                            "<tr><td>2019-05-01</td><td>LED Lighting Shoppers</td><td>1.53</td></tr>",
                            "</table>"
                        ]
                    }
                }
            ],
            "execution_count": 3
        },
        {
            "cell_type": "markdown",
            "source": [
                "    2. Which 5 interests had the lowest average ranking value?"
            ],
            "metadata": {
                "azdata_cell_guid": "7096709d-4d3a-4e50-9547-e97166c7d917"
            },
            "attachments": {}
        },
        {
            "cell_type": "code",
            "source": [
                "SELECT TOP 5\r\n",
                "    interest_name,\r\n",
                "    AVG(ranking) AS avg_ranking_value\r\n",
                "FROM sub_metrics s\r\n",
                "JOIN interest_map i ON i.id = s.interest_id\r\n",
                "GROUP BY interest_name\r\n",
                "ORDER BY avg_ranking_value DESC"
            ],
            "metadata": {
                "azdata_cell_guid": "ddf5f1db-fd58-41e4-b1fc-2c77c1b24b4e",
                "language": "sql"
            },
            "outputs": [
                {
                    "output_type": "display_data",
                    "data": {
                        "text/html": "(5 rows affected)"
                    },
                    "metadata": {}
                },
                {
                    "output_type": "display_data",
                    "data": {
                        "text/html": "Total execution time: 00:00:00.030"
                    },
                    "metadata": {}
                },
                {
                    "output_type": "execute_result",
                    "metadata": {},
                    "execution_count": 4,
                    "data": {
                        "application/vnd.dataresource+json": {
                            "schema": {
                                "fields": [
                                    {
                                        "name": "interest_name"
                                    },
                                    {
                                        "name": "avg_ranking_value"
                                    }
                                ]
                            },
                            "data": [
                                {
                                    "0": "League of Legends Video Game Fans",
                                    "1": "1037"
                                },
                                {
                                    "0": "Computer Processor and Data Center Decision Makers",
                                    "1": "974"
                                },
                                {
                                    "0": "Astrology Enthusiasts",
                                    "1": "968"
                                },
                                {
                                    "0": "Budget Mobile Phone Researchers",
                                    "1": "961"
                                },
                                {
                                    "0": "Medieval History Enthusiasts",
                                    "1": "961"
                                }
                            ]
                        },
                        "text/html": [
                            "<table>",
                            "<tr><th>interest_name</th><th>avg_ranking_value</th></tr>",
                            "<tr><td>League of Legends Video Game Fans</td><td>1037</td></tr>",
                            "<tr><td>Computer Processor and Data Center Decision Makers</td><td>974</td></tr>",
                            "<tr><td>Astrology Enthusiasts</td><td>968</td></tr>",
                            "<tr><td>Budget Mobile Phone Researchers</td><td>961</td></tr>",
                            "<tr><td>Medieval History Enthusiasts</td><td>961</td></tr>",
                            "</table>"
                        ]
                    }
                }
            ],
            "execution_count": 4
        },
        {
            "cell_type": "markdown",
            "source": [
                "    3. Which 5 interests had the largest standard deviation in their `percentile_ranking` value?"
            ],
            "metadata": {
                "azdata_cell_guid": "577a7885-cf2f-4463-97f0-59fd2e28fb3b"
            },
            "attachments": {}
        },
        {
            "cell_type": "code",
            "source": [
                "SELECT TOP 5\r\n",
                "    interest_name,\r\n",
                "    ROUND(STDEV(percentile_ranking),2) AS std_percentile_ranking\r\n",
                "FROM sub_metrics s\r\n",
                "JOIN interest_map i ON i.id = s.interest_id\r\n",
                "GROUP BY interest_name\r\n",
                "ORDER BY std_percentile_ranking DESC"
            ],
            "metadata": {
                "azdata_cell_guid": "0e983d80-68ca-447b-8314-ca5700500153",
                "language": "sql"
            },
            "outputs": [
                {
                    "output_type": "display_data",
                    "data": {
                        "text/html": "(5 rows affected)"
                    },
                    "metadata": {}
                },
                {
                    "output_type": "display_data",
                    "data": {
                        "text/html": "Total execution time: 00:00:00.033"
                    },
                    "metadata": {}
                },
                {
                    "output_type": "execute_result",
                    "metadata": {},
                    "execution_count": 5,
                    "data": {
                        "application/vnd.dataresource+json": {
                            "schema": {
                                "fields": [
                                    {
                                        "name": "interest_name"
                                    },
                                    {
                                        "name": "std_percentile_ranking"
                                    }
                                ]
                            },
                            "data": [
                                {
                                    "0": "Techies",
                                    "1": "30.18"
                                },
                                {
                                    "0": "Entertainment Industry Decision Makers",
                                    "1": "28.97"
                                },
                                {
                                    "0": "Oregon Trip Planners",
                                    "1": "28.32"
                                },
                                {
                                    "0": "Personalized Gift Shoppers",
                                    "1": "26.24"
                                },
                                {
                                    "0": "Tampa and St Petersburg Trip Planners",
                                    "1": "25.61"
                                }
                            ]
                        },
                        "text/html": [
                            "<table>",
                            "<tr><th>interest_name</th><th>std_percentile_ranking</th></tr>",
                            "<tr><td>Techies</td><td>30.18</td></tr>",
                            "<tr><td>Entertainment Industry Decision Makers</td><td>28.97</td></tr>",
                            "<tr><td>Oregon Trip Planners</td><td>28.32</td></tr>",
                            "<tr><td>Personalized Gift Shoppers</td><td>26.24</td></tr>",
                            "<tr><td>Tampa and St Petersburg Trip Planners</td><td>25.61</td></tr>",
                            "</table>"
                        ]
                    }
                }
            ],
            "execution_count": 5
        },
        {
            "cell_type": "markdown",
            "source": [
                "    4. For the 5 interests found in the previous question - what was minimum and maximum percentile_ranking values for each interest and its corresponding `year_month` value? Can you describe what is happening for these 5 interests?"
            ],
            "metadata": {
                "azdata_cell_guid": "1ba73c9c-a142-4624-8fb0-6cfc738749fe"
            },
            "attachments": {}
        },
        {
            "cell_type": "code",
            "source": [
                "WITH tbl AS(\r\n",
                "    SELECT TOP 5\r\n",
                "        interest_id,\r\n",
                "        ROUND(STDEV(percentile_ranking),2) AS std_percentile_ranking\r\n",
                "    FROM sub_metrics\r\n",
                "    GROUP BY interest_id\r\n",
                "    ORDER BY std_percentile_ranking DESC\r\n",
                "),\r\n",
                "tbl2 AS(\r\n",
                "    SELECT \r\n",
                "        interest_name, \r\n",
                "        month_year,\r\n",
                "        percentile_ranking,\r\n",
                "        RANK() OVER(PARTITION BY interest_name ORDER BY percentile_ranking DESC) AS rank_max,\r\n",
                "        RANK() OVER(PARTITION BY interest_name ORDER BY percentile_ranking) AS rank_min\r\n",
                "    FROM tbl\r\n",
                "    JOIN interest_metrics me ON me.interest_id = tbl.interest_id\r\n",
                "    JOIN interest_map ma ON ma.id = tbl.interest_id\r\n",
                ")\r\n",
                "SELECT\r\n",
                "    interest_name,\r\n",
                "    month_year,\r\n",
                "    percentile_ranking\r\n",
                "FROM tbl2\r\n",
                "WHERE rank_max = 1 OR rank_min = 1"
            ],
            "metadata": {
                "azdata_cell_guid": "f54de64a-39e7-42b3-bea3-bacbc9bb1094",
                "language": "sql"
            },
            "outputs": [
                {
                    "output_type": "display_data",
                    "data": {
                        "text/html": "(10 rows affected)"
                    },
                    "metadata": {}
                },
                {
                    "output_type": "display_data",
                    "data": {
                        "text/html": "Total execution time: 00:00:00.034"
                    },
                    "metadata": {}
                },
                {
                    "output_type": "execute_result",
                    "metadata": {},
                    "execution_count": 6,
                    "data": {
                        "application/vnd.dataresource+json": {
                            "schema": {
                                "fields": [
                                    {
                                        "name": "interest_name"
                                    },
                                    {
                                        "name": "month_year"
                                    },
                                    {
                                        "name": "percentile_ranking"
                                    }
                                ]
                            },
                            "data": [
                                {
                                    "0": "Entertainment Industry Decision Makers",
                                    "1": "2019-08-01",
                                    "2": "11.23"
                                },
                                {
                                    "0": "Entertainment Industry Decision Makers",
                                    "1": "2018-07-01",
                                    "2": "86.15"
                                },
                                {
                                    "0": "Oregon Trip Planners",
                                    "1": "2019-07-01",
                                    "2": "2.2"
                                },
                                {
                                    "0": "Oregon Trip Planners",
                                    "1": "2018-11-01",
                                    "2": "82.44"
                                },
                                {
                                    "0": "Personalized Gift Shoppers",
                                    "1": "2019-06-01",
                                    "2": "5.7"
                                },
                                {
                                    "0": "Personalized Gift Shoppers",
                                    "1": "2019-03-01",
                                    "2": "73.15"
                                },
                                {
                                    "0": "Tampa and St Petersburg Trip Planners",
                                    "1": "2019-03-01",
                                    "2": "4.84"
                                },
                                {
                                    "0": "Tampa and St Petersburg Trip Planners",
                                    "1": "2018-07-01",
                                    "2": "75.03"
                                },
                                {
                                    "0": "Techies",
                                    "1": "2019-08-01",
                                    "2": "7.92"
                                },
                                {
                                    "0": "Techies",
                                    "1": "2018-07-01",
                                    "2": "86.69"
                                }
                            ]
                        },
                        "text/html": [
                            "<table>",
                            "<tr><th>interest_name</th><th>month_year</th><th>percentile_ranking</th></tr>",
                            "<tr><td>Entertainment Industry Decision Makers</td><td>2019-08-01</td><td>11.23</td></tr>",
                            "<tr><td>Entertainment Industry Decision Makers</td><td>2018-07-01</td><td>86.15</td></tr>",
                            "<tr><td>Oregon Trip Planners</td><td>2019-07-01</td><td>2.2</td></tr>",
                            "<tr><td>Oregon Trip Planners</td><td>2018-11-01</td><td>82.44</td></tr>",
                            "<tr><td>Personalized Gift Shoppers</td><td>2019-06-01</td><td>5.7</td></tr>",
                            "<tr><td>Personalized Gift Shoppers</td><td>2019-03-01</td><td>73.15</td></tr>",
                            "<tr><td>Tampa and St Petersburg Trip Planners</td><td>2019-03-01</td><td>4.84</td></tr>",
                            "<tr><td>Tampa and St Petersburg Trip Planners</td><td>2018-07-01</td><td>75.03</td></tr>",
                            "<tr><td>Techies</td><td>2019-08-01</td><td>7.92</td></tr>",
                            "<tr><td>Techies</td><td>2018-07-01</td><td>86.69</td></tr>",
                            "</table>"
                        ]
                    }
                }
            ],
            "execution_count": 6
        },
        {
            "cell_type": "markdown",
            "source": [
                "    5. How would you describe our customers in this segment based off their composition and ranking values? What sort of products or services should we show to these customers and what should we avoid?"
            ],
            "metadata": {
                "azdata_cell_guid": "e15709d9-3a1f-4097-bb55-b8f5227bdd01"
            },
            "attachments": {}
        },
        {
            "cell_type": "markdown",
            "source": [
                "- Customers have high interests in travelling, fitness products, buying luxury furniture in terms of composition and ranking values. We should increase advertising these types of products.\r\n",
                "- In contrast to these top products, Video Games or Astrology should be excluded in promotion because of low composition and ranking values.\r\n",
                ""
            ],
            "metadata": {
                "azdata_cell_guid": "d15ea975-7d83-4501-9cc9-589765a070a0"
            },
            "attachments": {}
        }
    ]
}