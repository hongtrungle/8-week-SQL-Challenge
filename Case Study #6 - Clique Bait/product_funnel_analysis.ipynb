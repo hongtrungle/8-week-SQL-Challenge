{
    "metadata": {
        "kernelspec": {
            "name": "SQL",
            "display_name": "SQL",
            "language": "sql"
        },
        "language_info": {
            "name": "sql",
            "version": ""
        }
    },
    "nbformat_minor": 2,
    "nbformat": 4,
    "cells": [
        {
            "cell_type": "markdown",
            "source": [
                "### 2. Product Funnel Analysis\r\n",
                "---\r\n",
                "Using a single SQL query - create a new output table which has the following details:\r\n",
                "\r\n",
                "- How many times was each product viewed?\r\n",
                "- How many times was each product added to cart?\r\n",
                "- How many times was each product added to a cart but not purchased (abandoned)?\r\n",
                "- How many times was each product purchased?"
            ],
            "metadata": {
                "azdata_cell_guid": "51677d7f-27f1-4fd9-b981-0414544fdd86"
            },
            "attachments": {}
        },
        {
            "cell_type": "code",
            "source": [
                "DROP TABLE IF EXISTS product_stats;\r\n",
                "\r\n",
                "WITH CTE AS (   \r\n",
                "    SELECT distinct visit_id\r\n",
                "    FROM events\r\n",
                "    WHERE event_type = 1\r\n",
                "),\r\n",
                "VIEW_CTE AS (   \r\n",
                "    SELECT \r\n",
                "        page_name,\r\n",
                "        product_category,\r\n",
                "        count(page_name) AS viewed\r\n",
                "    FROM events e\r\n",
                "    LEFT JOIN CTE c ON e.visit_id = c.visit_id \r\n",
                "    JOIN page_hierarchy p ON e.page_id = p.page_id\r\n",
                "    WHERE product_category IS NOT NULL AND event_type = 1\r\n",
                "    GROUP BY page_name, product_category\r\n",
                "),\r\n",
                "ADD_TO_CART_CTE AS (   \r\n",
                "    SELECT \r\n",
                "        page_name,\r\n",
                "        product_category,\r\n",
                "        count(page_name) AS added_to_cart\r\n",
                "    FROM events e\r\n",
                "    LEFT JOIN CTE c ON e.visit_id = c.visit_id \r\n",
                "    JOIN page_hierarchy p ON e.page_id = p.page_id\r\n",
                "    WHERE product_category IS NOT NULL AND event_type = 2\r\n",
                "    GROUP BY page_name, product_category\r\n",
                "),\r\n",
                "PURCHASE_CTE AS(\r\n",
                "    SELECT visit_id\r\n",
                "    FROM events\r\n",
                "    WHERE event_type = 3\r\n",
                "),\r\n",
                "PURCHASE_CTE_2 AS(\r\n",
                "    SELECT\r\n",
                "        page_name,\r\n",
                "        product_category,\r\n",
                "        COUNT(*) as purchased\r\n",
                "    FROM events e\r\n",
                "    JOIN PURCHASE_CTE pc ON pc.visit_id = e.visit_id\r\n",
                "    JOIN page_hierarchy p ON p.page_id = e.page_id\r\n",
                "    WHERE event_type = 2\r\n",
                "    GROUP BY page_name, product_category\r\n",
                ")\r\n",
                "SELECT\r\n",
                "    v.page_name,\r\n",
                "    v.product_category,\r\n",
                "    viewed,\r\n",
                "    added_to_cart,\r\n",
                "    purchased,\r\n",
                "    (added_to_cart - purchased) as abandoned\r\n",
                "INTO product_stats\r\n",
                "FROM VIEW_CTE v\r\n",
                "LEFT JOIN ADD_TO_CART_CTE A ON v.page_name = a.page_name\r\n",
                "LEFT JOIN PURCHASE_CTE_2 P ON v.page_name = p.page_name\r\n",
                "ORDER BY v.page_name\r\n",
                ""
            ],
            "metadata": {
                "azdata_cell_guid": "6ef7efb2-c1b3-492c-9f1e-96981ba661a3",
                "language": "sql"
            },
            "outputs": [
                {
                    "output_type": "display_data",
                    "data": {
                        "text/html": "(9 rows affected)"
                    },
                    "metadata": {}
                },
                {
                    "output_type": "display_data",
                    "data": {
                        "text/html": "Total execution time: 00:00:00.082"
                    },
                    "metadata": {}
                }
            ],
            "execution_count": 1
        },
        {
            "cell_type": "markdown",
            "source": [
                "Additionally, create another table which further aggregates the data for the above points but this time for each product category instead of individual products."
            ],
            "metadata": {
                "azdata_cell_guid": "cac18175-c9ed-4057-90a8-a4e6cf70cc0e"
            },
            "attachments": {}
        },
        {
            "cell_type": "code",
            "source": [
                "DROP TABLE IF EXISTS product_category_stats\r\n",
                "SELECT\r\n",
                "    product_category,\r\n",
                "    SUM(viewed) AS viewed,\r\n",
                "    SUM(added_to_cart) AS added_to_cart,\r\n",
                "    SUM(purchased) AS purchased,\r\n",
                "    SUM(abandoned) AS abandoned\r\n",
                "INTO product_category_stats\r\n",
                "FROM product_stats\r\n",
                "GROUP BY product_category"
            ],
            "metadata": {
                "azdata_cell_guid": "e1322ab7-55dd-44d0-af75-80f08e361d17",
                "language": "sql"
            },
            "outputs": [
                {
                    "output_type": "display_data",
                    "data": {
                        "text/html": "(3 rows affected)"
                    },
                    "metadata": {}
                },
                {
                    "output_type": "display_data",
                    "data": {
                        "text/html": "Total execution time: 00:00:00.009"
                    },
                    "metadata": {}
                }
            ],
            "execution_count": 2
        },
        {
            "cell_type": "markdown",
            "source": [
                "Use your 2 new output tables - answer the following questions:\n",
                "\n",
                "    1. Which product had the most views, cart adds and purchases?"
            ],
            "metadata": {
                "azdata_cell_guid": "69d537ad-dec0-4b49-aced-d61edcdac715"
            },
            "attachments": {}
        },
        {
            "cell_type": "code",
            "source": [
                "WITH tbl AS(\r\n",
                "    SELECT *,\r\n",
                "        RANK() OVER(ORDER BY viewed DESC) as rank_viewed,\r\n",
                "        RANK() OVER(ORDER BY added_to_cart DESC) as rank_added_to_cart,\r\n",
                "        RANK() OVER(ORDER BY purchased DESC) as rank_purchased\r\n",
                "    FROM product_stats\r\n",
                ")\r\n",
                "SELECT *\r\n",
                "FROM tbl\r\n",
                "WHERE rank_viewed = 1 OR rank_added_to_cart = 1 OR rank_purchased = 1"
            ],
            "metadata": {
                "azdata_cell_guid": "4823c44f-3962-4771-a4d4-982c24eac60d",
                "language": "sql"
            },
            "outputs": [
                {
                    "output_type": "display_data",
                    "data": {
                        "text/html": "(2 rows affected)"
                    },
                    "metadata": {}
                },
                {
                    "output_type": "display_data",
                    "data": {
                        "text/html": "Total execution time: 00:00:00.022"
                    },
                    "metadata": {}
                },
                {
                    "output_type": "execute_result",
                    "metadata": {},
                    "execution_count": 3,
                    "data": {
                        "application/vnd.dataresource+json": {
                            "schema": {
                                "fields": [
                                    {
                                        "name": "page_name"
                                    },
                                    {
                                        "name": "product_category"
                                    },
                                    {
                                        "name": "viewed"
                                    },
                                    {
                                        "name": "added_to_cart"
                                    },
                                    {
                                        "name": "purchased"
                                    },
                                    {
                                        "name": "abandoned"
                                    },
                                    {
                                        "name": "rank_viewed"
                                    },
                                    {
                                        "name": "rank_added_to_cart"
                                    },
                                    {
                                        "name": "rank_purchased"
                                    }
                                ]
                            },
                            "data": [
                                {
                                    "0": "Lobster",
                                    "1": "Shellfish",
                                    "2": "1547",
                                    "3": "968",
                                    "4": "754",
                                    "5": "214",
                                    "6": "6",
                                    "7": "1",
                                    "8": "1"
                                },
                                {
                                    "0": "Oyster",
                                    "1": "Shellfish",
                                    "2": "1568",
                                    "3": "943",
                                    "4": "726",
                                    "5": "217",
                                    "6": "1",
                                    "7": "4",
                                    "8": "2"
                                }
                            ]
                        },
                        "text/html": [
                            "<table>",
                            "<tr><th>page_name</th><th>product_category</th><th>viewed</th><th>added_to_cart</th><th>purchased</th><th>abandoned</th><th>rank_viewed</th><th>rank_added_to_cart</th><th>rank_purchased</th></tr>",
                            "<tr><td>Lobster</td><td>Shellfish</td><td>1547</td><td>968</td><td>754</td><td>214</td><td>6</td><td>1</td><td>1</td></tr>",
                            "<tr><td>Oyster</td><td>Shellfish</td><td>1568</td><td>943</td><td>726</td><td>217</td><td>1</td><td>4</td><td>2</td></tr>",
                            "</table>"
                        ]
                    }
                }
            ],
            "execution_count": 3
        },
        {
            "cell_type": "markdown",
            "source": [
                "    2. Which product was most likely to be abandoned?"
            ],
            "metadata": {
                "azdata_cell_guid": "3167b76a-5a54-475d-8dd1-267804437eee"
            },
            "attachments": {}
        },
        {
            "cell_type": "code",
            "source": [
                "SELECT TOP 1\r\n",
                "    page_name,\r\n",
                "    abandoned\r\n",
                "FROM product_stats\r\n",
                "ORDER BY abandoned DESC\r\n",
                ""
            ],
            "metadata": {
                "azdata_cell_guid": "901276ca-9877-4371-baa3-5867ee36611c",
                "language": "sql"
            },
            "outputs": [
                {
                    "output_type": "display_data",
                    "data": {
                        "text/html": "(1 row affected)"
                    },
                    "metadata": {}
                },
                {
                    "output_type": "display_data",
                    "data": {
                        "text/html": "Total execution time: 00:00:00.020"
                    },
                    "metadata": {}
                },
                {
                    "output_type": "execute_result",
                    "metadata": {},
                    "execution_count": 4,
                    "data": {
                        "application/vnd.dataresource+json": {
                            "schema": {
                                "fields": [
                                    {
                                        "name": "page_name"
                                    },
                                    {
                                        "name": "abandoned"
                                    }
                                ]
                            },
                            "data": [
                                {
                                    "0": "Russian Caviar",
                                    "1": "249"
                                }
                            ]
                        },
                        "text/html": [
                            "<table>",
                            "<tr><th>page_name</th><th>abandoned</th></tr>",
                            "<tr><td>Russian Caviar</td><td>249</td></tr>",
                            "</table>"
                        ]
                    }
                }
            ],
            "execution_count": 4
        },
        {
            "cell_type": "markdown",
            "source": [
                "    3.  Which product had the highest view to purchase percentage?"
            ],
            "metadata": {
                "azdata_cell_guid": "3babfac7-7772-4ce7-af88-b1a0e4dbdc97"
            },
            "attachments": {}
        },
        {
            "cell_type": "code",
            "source": [
                "SELECT TOP 1\r\n",
                "    page_name,\r\n",
                "    viewed,\r\n",
                "    purchased,\r\n",
                "    (100*CAST(purchased as float)/viewed) AS view_to_purchase_percentage\r\n",
                "FROM product_stats\r\n",
                "ORDER BY view_to_purchase_percentage DESC"
            ],
            "metadata": {
                "azdata_cell_guid": "bf4fd657-2127-49f2-bf53-7b8bd6cacea8",
                "language": "sql"
            },
            "outputs": [
                {
                    "output_type": "display_data",
                    "data": {
                        "text/html": "(1 row affected)"
                    },
                    "metadata": {}
                },
                {
                    "output_type": "display_data",
                    "data": {
                        "text/html": "Total execution time: 00:00:00.019"
                    },
                    "metadata": {}
                },
                {
                    "output_type": "execute_result",
                    "metadata": {},
                    "execution_count": 5,
                    "data": {
                        "application/vnd.dataresource+json": {
                            "schema": {
                                "fields": [
                                    {
                                        "name": "page_name"
                                    },
                                    {
                                        "name": "viewed"
                                    },
                                    {
                                        "name": "purchased"
                                    },
                                    {
                                        "name": "view_to_purchase_percentage"
                                    }
                                ]
                            },
                            "data": [
                                {
                                    "0": "Lobster",
                                    "1": "1547",
                                    "2": "754",
                                    "3": "48.739495798319325"
                                }
                            ]
                        },
                        "text/html": [
                            "<table>",
                            "<tr><th>page_name</th><th>viewed</th><th>purchased</th><th>view_to_purchase_percentage</th></tr>",
                            "<tr><td>Lobster</td><td>1547</td><td>754</td><td>48.739495798319325</td></tr>",
                            "</table>"
                        ]
                    }
                }
            ],
            "execution_count": 5
        },
        {
            "cell_type": "markdown",
            "source": [
                "    4. What is the average conversion rate from view to cart add?"
            ],
            "metadata": {
                "azdata_cell_guid": "975b9f7b-0d34-46c1-8d14-b4b6c4e55e28"
            },
            "attachments": {}
        },
        {
            "cell_type": "code",
            "source": [
                "SELECT\r\n",
                "    ROUND(AVG(100*CAST(added_to_cart as float)/viewed),2) AS avg_converstion_rate_from_view_to_cart_add\r\n",
                "FROM product_stats"
            ],
            "metadata": {
                "azdata_cell_guid": "07e47b3e-4339-456b-9b60-81c515d254f7",
                "language": "sql"
            },
            "outputs": [
                {
                    "output_type": "display_data",
                    "data": {
                        "text/html": "(1 row affected)"
                    },
                    "metadata": {}
                },
                {
                    "output_type": "display_data",
                    "data": {
                        "text/html": "Total execution time: 00:00:00.014"
                    },
                    "metadata": {}
                },
                {
                    "output_type": "execute_result",
                    "metadata": {},
                    "execution_count": 6,
                    "data": {
                        "application/vnd.dataresource+json": {
                            "schema": {
                                "fields": [
                                    {
                                        "name": "avg_converstion_rate_from_view_to_cart_add"
                                    }
                                ]
                            },
                            "data": [
                                {
                                    "0": "60.95"
                                }
                            ]
                        },
                        "text/html": [
                            "<table>",
                            "<tr><th>avg_converstion_rate_from_view_to_cart_add</th></tr>",
                            "<tr><td>60.95</td></tr>",
                            "</table>"
                        ]
                    }
                }
            ],
            "execution_count": 6
        },
        {
            "cell_type": "markdown",
            "source": [
                "    5. What is the average conversion rate from cart add to purchase?"
            ],
            "metadata": {
                "azdata_cell_guid": "4ce2bf5a-ea88-4f23-8357-e473b7914459"
            },
            "attachments": {}
        },
        {
            "cell_type": "code",
            "source": [
                "SELECT\r\n",
                "    ROUND(AVG(100*CAST(purchased as float)/added_to_cart),2) AS avg_converstion_rate_from_cart_add_to_purchase\r\n",
                "FROM product_stats"
            ],
            "metadata": {
                "azdata_cell_guid": "9af7837d-8530-41ef-ad37-59ed024c03f5",
                "language": "sql"
            },
            "outputs": [
                {
                    "output_type": "display_data",
                    "data": {
                        "text/html": "(1 row affected)"
                    },
                    "metadata": {}
                },
                {
                    "output_type": "display_data",
                    "data": {
                        "text/html": "Total execution time: 00:00:00.014"
                    },
                    "metadata": {}
                },
                {
                    "output_type": "execute_result",
                    "metadata": {},
                    "execution_count": 7,
                    "data": {
                        "application/vnd.dataresource+json": {
                            "schema": {
                                "fields": [
                                    {
                                        "name": "avg_converstion_rate_from_cart_add_to_purchase"
                                    }
                                ]
                            },
                            "data": [
                                {
                                    "0": "75.93"
                                }
                            ]
                        },
                        "text/html": [
                            "<table>",
                            "<tr><th>avg_converstion_rate_from_cart_add_to_purchase</th></tr>",
                            "<tr><td>75.93</td></tr>",
                            "</table>"
                        ]
                    }
                }
            ],
            "execution_count": 7
        }
    ]
}