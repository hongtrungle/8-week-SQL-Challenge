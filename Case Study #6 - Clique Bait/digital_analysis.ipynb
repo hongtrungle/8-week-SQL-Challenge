{
    "metadata": {
        "kernelspec": {
            "name": "SQL",
            "display_name": "SQL",
            "language": "sql"
        },
        "language_info": {
            "name": "sql",
            "version": ""
        }
    },
    "nbformat_minor": 2,
    "nbformat": 4,
    "cells": [
        {
            "cell_type": "markdown",
            "source": [
                "### 2. Digital Analysis\r\n",
                "---\r\n",
                "    1. How many users are there?"
            ],
            "metadata": {
                "azdata_cell_guid": "85a45f07-81f8-4ea6-bb06-788c574dd343"
            },
            "attachments": {}
        },
        {
            "cell_type": "code",
            "source": [
                "SELECT \r\n",
                "    COUNT(DISTINCT user_id) as num_users\r\n",
                "FROM users"
            ],
            "metadata": {
                "azdata_cell_guid": "d7bad500-9c76-4fd9-947b-cccf570c73ba",
                "language": "sql"
            },
            "outputs": [
                {
                    "output_type": "display_data",
                    "data": {
                        "text/html": "(1 row affected)"
                    },
                    "metadata": {}
                },
                {
                    "output_type": "display_data",
                    "data": {
                        "text/html": "Total execution time: 00:00:00.007"
                    },
                    "metadata": {}
                },
                {
                    "output_type": "execute_result",
                    "metadata": {},
                    "execution_count": 1,
                    "data": {
                        "application/vnd.dataresource+json": {
                            "schema": {
                                "fields": [
                                    {
                                        "name": "num_users"
                                    }
                                ]
                            },
                            "data": [
                                {
                                    "0": "500"
                                }
                            ]
                        },
                        "text/html": [
                            "<table>",
                            "<tr><th>num_users</th></tr>",
                            "<tr><td>500</td></tr>",
                            "</table>"
                        ]
                    }
                }
            ],
            "execution_count": 1
        },
        {
            "cell_type": "markdown",
            "source": [
                "    2. How many cookies does each user have on average?"
            ],
            "metadata": {
                "azdata_cell_guid": "572dde90-410e-41cf-977f-1560794ca089"
            },
            "attachments": {}
        },
        {
            "cell_type": "code",
            "source": [
                "SELECT\r\n",
                "    ROUND(CAST(COUNT(cookie_id)as float)/COUNT(DISTINCT user_id),2) AS avg_num_cookies_per_user\r\n",
                "FROM users"
            ],
            "metadata": {
                "azdata_cell_guid": "af253cc8-223f-4999-8185-4059f001a65a",
                "language": "sql"
            },
            "outputs": [
                {
                    "output_type": "display_data",
                    "data": {
                        "text/html": "(1 row affected)"
                    },
                    "metadata": {}
                },
                {
                    "output_type": "display_data",
                    "data": {
                        "text/html": "Total execution time: 00:00:00.016"
                    },
                    "metadata": {}
                },
                {
                    "output_type": "execute_result",
                    "metadata": {},
                    "execution_count": 2,
                    "data": {
                        "application/vnd.dataresource+json": {
                            "schema": {
                                "fields": [
                                    {
                                        "name": "avg_num_cookies_per_user"
                                    }
                                ]
                            },
                            "data": [
                                {
                                    "0": "3.56"
                                }
                            ]
                        },
                        "text/html": [
                            "<table>",
                            "<tr><th>avg_num_cookies_per_user</th></tr>",
                            "<tr><td>3.56</td></tr>",
                            "</table>"
                        ]
                    }
                }
            ],
            "execution_count": 2
        },
        {
            "cell_type": "markdown",
            "source": [
                "    3. What is the unique number of visits by all users per month?"
            ],
            "metadata": {
                "azdata_cell_guid": "63b3f5cd-642f-4b36-b37e-f3dae7060415"
            },
            "attachments": {}
        },
        {
            "cell_type": "code",
            "source": [
                "SELECT\r\n",
                "    MONTH(event_time) as month,\r\n",
                "    COUNT(DISTINCT visit_id) as num_visit\r\n",
                "FROM events\r\n",
                "GROUP BY MONTH(event_time)\r\n",
                "ORDER BY MONTH(event_time)"
            ],
            "metadata": {
                "azdata_cell_guid": "816c460b-fdd5-43a9-94e5-52d4fb5cc4ca",
                "language": "sql"
            },
            "outputs": [
                {
                    "output_type": "display_data",
                    "data": {
                        "text/html": "(5 rows affected)"
                    },
                    "metadata": {}
                },
                {
                    "output_type": "display_data",
                    "data": {
                        "text/html": "Total execution time: 00:00:00.101"
                    },
                    "metadata": {}
                },
                {
                    "output_type": "execute_result",
                    "metadata": {},
                    "execution_count": 3,
                    "data": {
                        "application/vnd.dataresource+json": {
                            "schema": {
                                "fields": [
                                    {
                                        "name": "month"
                                    },
                                    {
                                        "name": "num_visit"
                                    }
                                ]
                            },
                            "data": [
                                {
                                    "0": "1",
                                    "1": "876"
                                },
                                {
                                    "0": "2",
                                    "1": "1488"
                                },
                                {
                                    "0": "3",
                                    "1": "916"
                                },
                                {
                                    "0": "4",
                                    "1": "248"
                                },
                                {
                                    "0": "5",
                                    "1": "36"
                                }
                            ]
                        },
                        "text/html": [
                            "<table>",
                            "<tr><th>month</th><th>num_visit</th></tr>",
                            "<tr><td>1</td><td>876</td></tr>",
                            "<tr><td>2</td><td>1488</td></tr>",
                            "<tr><td>3</td><td>916</td></tr>",
                            "<tr><td>4</td><td>248</td></tr>",
                            "<tr><td>5</td><td>36</td></tr>",
                            "</table>"
                        ]
                    }
                }
            ],
            "execution_count": 3
        },
        {
            "cell_type": "markdown",
            "source": [
                "    4. What is the number of events for each event type?"
            ],
            "metadata": {
                "azdata_cell_guid": "833f4ef6-2a8e-4710-ab29-3160f2a24f9f"
            },
            "attachments": {}
        },
        {
            "cell_type": "code",
            "source": [
                "SELECT \r\n",
                "    e.event_type,\r\n",
                "    event_name,\r\n",
                "    COUNT(*)as num_events\r\n",
                "FROM events e\r\n",
                "JOIN event_identifier ei ON ei.event_type = e.event_type \r\n",
                "GROUP BY e.event_type, event_name\r\n",
                "ORDER BY e.event_type"
            ],
            "metadata": {
                "azdata_cell_guid": "3680f3d5-ef08-4e30-86c0-7bc4fa7e6735",
                "language": "sql"
            },
            "outputs": [
                {
                    "output_type": "display_data",
                    "data": {
                        "text/html": "(5 rows affected)"
                    },
                    "metadata": {}
                },
                {
                    "output_type": "display_data",
                    "data": {
                        "text/html": "Total execution time: 00:00:00.037"
                    },
                    "metadata": {}
                },
                {
                    "output_type": "execute_result",
                    "metadata": {},
                    "execution_count": 4,
                    "data": {
                        "application/vnd.dataresource+json": {
                            "schema": {
                                "fields": [
                                    {
                                        "name": "event_type"
                                    },
                                    {
                                        "name": "event_name"
                                    },
                                    {
                                        "name": "num_events"
                                    }
                                ]
                            },
                            "data": [
                                {
                                    "0": "1",
                                    "1": "Page View",
                                    "2": "20928"
                                },
                                {
                                    "0": "2",
                                    "1": "Add to Cart",
                                    "2": "8451"
                                },
                                {
                                    "0": "3",
                                    "1": "Purchase",
                                    "2": "1777"
                                },
                                {
                                    "0": "4",
                                    "1": "Ad Impression",
                                    "2": "876"
                                },
                                {
                                    "0": "5",
                                    "1": "Ad Click",
                                    "2": "702"
                                }
                            ]
                        },
                        "text/html": [
                            "<table>",
                            "<tr><th>event_type</th><th>event_name</th><th>num_events</th></tr>",
                            "<tr><td>1</td><td>Page View</td><td>20928</td></tr>",
                            "<tr><td>2</td><td>Add to Cart</td><td>8451</td></tr>",
                            "<tr><td>3</td><td>Purchase</td><td>1777</td></tr>",
                            "<tr><td>4</td><td>Ad Impression</td><td>876</td></tr>",
                            "<tr><td>5</td><td>Ad Click</td><td>702</td></tr>",
                            "</table>"
                        ]
                    }
                }
            ],
            "execution_count": 4
        },
        {
            "cell_type": "markdown",
            "source": [
                "    5. What is the percentage of visits which have a purchase event?"
            ],
            "metadata": {
                "azdata_cell_guid": "cdcccb18-8971-48df-b1d4-483fffe53427"
            },
            "attachments": {}
        },
        {
            "cell_type": "code",
            "source": [
                "SELECT \r\n",
                "    event_name,\r\n",
                "    COUNT(DISTINCT visit_id) AS num_visit_with_purchase,\r\n",
                "    ROUND(CAST(COUNT(DISTINCT visit_id) as float)*100/(SELECT COUNT(DISTINCT visit_id) FROM events),2) as perc_visit_with_purchase\r\n",
                "FROM events e \r\n",
                "JOIN event_identifier ei ON ei.event_type = e.event_type\r\n",
                "WHERE e.event_type = 3\r\n",
                "GROUP BY event_name"
            ],
            "metadata": {
                "azdata_cell_guid": "7d6afbce-80af-455b-8af6-1ff1876a29a8",
                "language": "sql"
            },
            "outputs": [
                {
                    "output_type": "display_data",
                    "data": {
                        "text/html": "(1 row affected)"
                    },
                    "metadata": {}
                },
                {
                    "output_type": "display_data",
                    "data": {
                        "text/html": "Total execution time: 00:00:00.138"
                    },
                    "metadata": {}
                },
                {
                    "output_type": "execute_result",
                    "metadata": {},
                    "execution_count": 5,
                    "data": {
                        "application/vnd.dataresource+json": {
                            "schema": {
                                "fields": [
                                    {
                                        "name": "event_name"
                                    },
                                    {
                                        "name": "num_visit_with_purchase"
                                    },
                                    {
                                        "name": "perc_visit_with_purchase"
                                    }
                                ]
                            },
                            "data": [
                                {
                                    "0": "Purchase",
                                    "1": "1777",
                                    "2": "49.86"
                                }
                            ]
                        },
                        "text/html": [
                            "<table>",
                            "<tr><th>event_name</th><th>num_visit_with_purchase</th><th>perc_visit_with_purchase</th></tr>",
                            "<tr><td>Purchase</td><td>1777</td><td>49.86</td></tr>",
                            "</table>"
                        ]
                    }
                }
            ],
            "execution_count": 5
        },
        {
            "cell_type": "markdown",
            "source": [
                "    6. What is the percentage of visits which view the checkout page but do not have a purchase event?"
            ],
            "metadata": {
                "azdata_cell_guid": "3ea601d7-e9a4-4d7f-a165-5c358df9fe7f"
            },
            "attachments": {}
        },
        {
            "cell_type": "code",
            "source": [
                "SELECT \r\n",
                "    100*(1 - CAST((SELECT COUNT(DISTINCT visit_id) FROM events WHERE event_type = 3) as float)/COUNT(DISTINCT visit_id)) \r\n",
                "    as percent_not_purchase\r\n",
                "FROM events \r\n",
                "WHERE page_id = 12 "
            ],
            "metadata": {
                "azdata_cell_guid": "a6bc6c7c-4208-457b-b6c8-cc4e420c0925",
                "language": "sql"
            },
            "outputs": [
                {
                    "output_type": "display_data",
                    "data": {
                        "text/html": "(1 row affected)"
                    },
                    "metadata": {}
                },
                {
                    "output_type": "display_data",
                    "data": {
                        "text/html": "Total execution time: 00:00:00.048"
                    },
                    "metadata": {}
                },
                {
                    "output_type": "execute_result",
                    "metadata": {},
                    "execution_count": 6,
                    "data": {
                        "application/vnd.dataresource+json": {
                            "schema": {
                                "fields": [
                                    {
                                        "name": "percent_not_purchase"
                                    }
                                ]
                            },
                            "data": [
                                {
                                    "0": "15.501664289110796"
                                }
                            ]
                        },
                        "text/html": [
                            "<table>",
                            "<tr><th>percent_not_purchase</th></tr>",
                            "<tr><td>15.501664289110796</td></tr>",
                            "</table>"
                        ]
                    }
                }
            ],
            "execution_count": 6
        },
        {
            "cell_type": "markdown",
            "source": [
                "    7. What are the top 3 pages by number of views?"
            ],
            "metadata": {
                "azdata_cell_guid": "f9a910ee-66d6-42cb-a8bd-9226c039d389"
            },
            "attachments": {}
        },
        {
            "cell_type": "code",
            "source": [
                "SELECT TOP 3\r\n",
                "    page_name,\r\n",
                "    COUNT(*) AS num_views\r\n",
                "FROM events e\r\n",
                "JOIN page_hierarchy p ON p.page_id = e.page_id \r\n",
                "WHERE event_type = 1\r\n",
                "GROUP BY page_name\r\n",
                "ORDER BY num_views DESC\r\n",
                ""
            ],
            "metadata": {
                "azdata_cell_guid": "8a9b906a-2f4a-4a1a-9967-b267c3bec9f1",
                "language": "sql"
            },
            "outputs": [
                {
                    "output_type": "display_data",
                    "data": {
                        "text/html": "(3 rows affected)"
                    },
                    "metadata": {}
                },
                {
                    "output_type": "display_data",
                    "data": {
                        "text/html": "Total execution time: 00:00:00.133"
                    },
                    "metadata": {}
                },
                {
                    "output_type": "execute_result",
                    "metadata": {},
                    "execution_count": 7,
                    "data": {
                        "application/vnd.dataresource+json": {
                            "schema": {
                                "fields": [
                                    {
                                        "name": "page_name"
                                    },
                                    {
                                        "name": "num_views"
                                    }
                                ]
                            },
                            "data": [
                                {
                                    "0": "All Products",
                                    "1": "3174"
                                },
                                {
                                    "0": "Checkout",
                                    "1": "2103"
                                },
                                {
                                    "0": "Home Page",
                                    "1": "1782"
                                }
                            ]
                        },
                        "text/html": [
                            "<table>",
                            "<tr><th>page_name</th><th>num_views</th></tr>",
                            "<tr><td>All Products</td><td>3174</td></tr>",
                            "<tr><td>Checkout</td><td>2103</td></tr>",
                            "<tr><td>Home Page</td><td>1782</td></tr>",
                            "</table>"
                        ]
                    }
                }
            ],
            "execution_count": 7
        },
        {
            "cell_type": "markdown",
            "source": [
                "    8. What is the number of views and cart adds for each product category?"
            ],
            "metadata": {
                "azdata_cell_guid": "5aa1a0ba-824f-4ecf-91cf-a1ac03629283"
            },
            "attachments": {}
        },
        {
            "cell_type": "code",
            "source": [
                "SELECT\r\n",
                "    product_category,\r\n",
                "    SUM(CASE WHEN e.event_type = 1 THEN 1 END) AS num_views,\r\n",
                "    SUM(CASE WHEN e.event_type = 2 THEN 1 END) AS num_cart_adds\r\n",
                "FROM events e \r\n",
                "JOIN page_hierarchy p ON p.page_id = e.page_id\r\n",
                "WHERE product_category is not NULL\r\n",
                "GROUP BY product_category"
            ],
            "metadata": {
                "azdata_cell_guid": "7e8dd977-53ed-400e-afef-dcf379b33ea2",
                "language": "sql"
            },
            "outputs": [
                {
                    "output_type": "display_data",
                    "data": {
                        "text/html": "Warning: Null value is eliminated by an aggregate or other SET operation."
                    },
                    "metadata": {}
                },
                {
                    "output_type": "display_data",
                    "data": {
                        "text/html": "(3 rows affected)"
                    },
                    "metadata": {}
                },
                {
                    "output_type": "display_data",
                    "data": {
                        "text/html": "Total execution time: 00:00:00.061"
                    },
                    "metadata": {}
                },
                {
                    "output_type": "execute_result",
                    "metadata": {},
                    "execution_count": 8,
                    "data": {
                        "application/vnd.dataresource+json": {
                            "schema": {
                                "fields": [
                                    {
                                        "name": "product_category"
                                    },
                                    {
                                        "name": "num_views"
                                    },
                                    {
                                        "name": "num_cart_adds"
                                    }
                                ]
                            },
                            "data": [
                                {
                                    "0": "Fish",
                                    "1": "4633",
                                    "2": "2789"
                                },
                                {
                                    "0": "Luxury",
                                    "1": "3032",
                                    "2": "1870"
                                },
                                {
                                    "0": "Shellfish",
                                    "1": "6204",
                                    "2": "3792"
                                }
                            ]
                        },
                        "text/html": [
                            "<table>",
                            "<tr><th>product_category</th><th>num_views</th><th>num_cart_adds</th></tr>",
                            "<tr><td>Fish</td><td>4633</td><td>2789</td></tr>",
                            "<tr><td>Luxury</td><td>3032</td><td>1870</td></tr>",
                            "<tr><td>Shellfish</td><td>6204</td><td>3792</td></tr>",
                            "</table>"
                        ]
                    }
                }
            ],
            "execution_count": 8
        },
        {
            "cell_type": "markdown",
            "source": [
                "    9. What are the top 3 products by purchases?"
            ],
            "metadata": {
                "azdata_cell_guid": "811b335b-d27f-400e-a36c-4b3deefe1d16"
            },
            "attachments": {}
        },
        {
            "cell_type": "code",
            "source": [
                "WITH tbl AS(\r\n",
                "    SELECT visit_id\r\n",
                "    FROM events\r\n",
                "    WHERE event_type = 3\r\n",
                ")\r\n",
                "SELECT TOP 3\r\n",
                "    page_name,\r\n",
                "    COUNT(*) as num_purchases\r\n",
                "FROM events e\r\n",
                "JOIN tbl ON tbl.visit_id = e.visit_id\r\n",
                "JOIN page_hierarchy p ON p.page_id = e.page_id\r\n",
                "WHERE event_type = 2\r\n",
                "GROUP BY page_name\r\n",
                "ORDER BY num_purchases DESC"
            ],
            "metadata": {
                "azdata_cell_guid": "90ac8167-edfa-438e-be0d-8ffa0baadf29",
                "language": "sql"
            },
            "outputs": [
                {
                    "output_type": "display_data",
                    "data": {
                        "text/html": "(3 rows affected)"
                    },
                    "metadata": {}
                },
                {
                    "output_type": "display_data",
                    "data": {
                        "text/html": "Total execution time: 00:00:00.051"
                    },
                    "metadata": {}
                },
                {
                    "output_type": "execute_result",
                    "metadata": {},
                    "execution_count": 9,
                    "data": {
                        "application/vnd.dataresource+json": {
                            "schema": {
                                "fields": [
                                    {
                                        "name": "page_name"
                                    },
                                    {
                                        "name": "num_purchases"
                                    }
                                ]
                            },
                            "data": [
                                {
                                    "0": "Lobster",
                                    "1": "754"
                                },
                                {
                                    "0": "Oyster",
                                    "1": "726"
                                },
                                {
                                    "0": "Crab",
                                    "1": "719"
                                }
                            ]
                        },
                        "text/html": [
                            "<table>",
                            "<tr><th>page_name</th><th>num_purchases</th></tr>",
                            "<tr><td>Lobster</td><td>754</td></tr>",
                            "<tr><td>Oyster</td><td>726</td></tr>",
                            "<tr><td>Crab</td><td>719</td></tr>",
                            "</table>"
                        ]
                    }
                }
            ],
            "execution_count": 9
        }
    ]
}