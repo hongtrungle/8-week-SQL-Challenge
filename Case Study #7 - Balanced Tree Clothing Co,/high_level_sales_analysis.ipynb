{
    "metadata": {
        "kernelspec": {
            "name": "SQL",
            "display_name": "SQL",
            "language": "sql"
        },
        "language_info": {
            "name": "sql",
            "version": ""
        }
    },
    "nbformat_minor": 2,
    "nbformat": 4,
    "cells": [
        {
            "cell_type": "markdown",
            "source": [
                "### High Level Sales Analysis\r\n",
                "---\r\n",
                "    1. What was the total quantity sold for all products?"
            ],
            "metadata": {
                "azdata_cell_guid": "c6bac2ed-aced-4c43-9fd7-42c3eb9841f4"
            },
            "attachments": {}
        },
        {
            "cell_type": "code",
            "source": [
                "SELECT\r\n",
                "    SUM(qty) AS total_sold_products\r\n",
                "FROM sales"
            ],
            "metadata": {
                "azdata_cell_guid": "78b433d2-02c1-4d1f-b2a7-633c86470cac",
                "language": "sql"
            },
            "outputs": [
                {
                    "output_type": "display_data",
                    "data": {
                        "text/html": "(1 row affected)"
                    },
                    "metadata": {}
                },
                {
                    "output_type": "display_data",
                    "data": {
                        "text/html": "Total execution time: 00:00:00.006"
                    },
                    "metadata": {}
                },
                {
                    "output_type": "execute_result",
                    "metadata": {},
                    "execution_count": 1,
                    "data": {
                        "application/vnd.dataresource+json": {
                            "schema": {
                                "fields": [
                                    {
                                        "name": "total_sold_products"
                                    }
                                ]
                            },
                            "data": [
                                {
                                    "0": "45216"
                                }
                            ]
                        },
                        "text/html": [
                            "<table>",
                            "<tr><th>total_sold_products</th></tr>",
                            "<tr><td>45216</td></tr>",
                            "</table>"
                        ]
                    }
                }
            ],
            "execution_count": 1
        },
        {
            "cell_type": "markdown",
            "source": [
                "    2. What is the total generated revenue for all products before discounts?"
            ],
            "metadata": {
                "azdata_cell_guid": "651088db-b21a-4763-bf65-26ed14ec8bf8"
            },
            "attachments": {}
        },
        {
            "cell_type": "code",
            "source": [
                "SELECT\r\n",
                "    SUM(qty*price) AS total_revenue\r\n",
                "FROM sales"
            ],
            "metadata": {
                "azdata_cell_guid": "88285a44-aee2-4d79-b192-78d50e3798cb",
                "language": "sql"
            },
            "outputs": [
                {
                    "output_type": "display_data",
                    "data": {
                        "text/html": "(1 row affected)"
                    },
                    "metadata": {}
                },
                {
                    "output_type": "display_data",
                    "data": {
                        "text/html": "Total execution time: 00:00:00.014"
                    },
                    "metadata": {}
                },
                {
                    "output_type": "execute_result",
                    "metadata": {},
                    "execution_count": 2,
                    "data": {
                        "application/vnd.dataresource+json": {
                            "schema": {
                                "fields": [
                                    {
                                        "name": "total_revenue"
                                    }
                                ]
                            },
                            "data": [
                                {
                                    "0": "1289453"
                                }
                            ]
                        },
                        "text/html": [
                            "<table>",
                            "<tr><th>total_revenue</th></tr>",
                            "<tr><td>1289453</td></tr>",
                            "</table>"
                        ]
                    }
                }
            ],
            "execution_count": 2
        },
        {
            "cell_type": "markdown",
            "source": [
                "    3. What was the total discount amount for all products?"
            ],
            "metadata": {
                "azdata_cell_guid": "ad32409d-e5bf-4408-867e-12ef103732c3"
            },
            "attachments": {}
        },
        {
            "cell_type": "code",
            "source": [
                "SELECT \r\n",
                "    SUM(discount) AS total_discount\r\n",
                "FROM sales"
            ],
            "metadata": {
                "azdata_cell_guid": "9c9125cd-3ae3-41b2-8fd6-90ce88e7eb60",
                "language": "sql"
            },
            "outputs": [
                {
                    "output_type": "display_data",
                    "data": {
                        "text/html": "(1 row affected)"
                    },
                    "metadata": {}
                },
                {
                    "output_type": "display_data",
                    "data": {
                        "text/html": "Total execution time: 00:00:00.014"
                    },
                    "metadata": {}
                },
                {
                    "output_type": "execute_result",
                    "metadata": {},
                    "execution_count": 3,
                    "data": {
                        "application/vnd.dataresource+json": {
                            "schema": {
                                "fields": [
                                    {
                                        "name": "total_discount"
                                    }
                                ]
                            },
                            "data": [
                                {
                                    "0": "182700"
                                }
                            ]
                        },
                        "text/html": [
                            "<table>",
                            "<tr><th>total_discount</th></tr>",
                            "<tr><td>182700</td></tr>",
                            "</table>"
                        ]
                    }
                }
            ],
            "execution_count": 3
        }
    ]
}