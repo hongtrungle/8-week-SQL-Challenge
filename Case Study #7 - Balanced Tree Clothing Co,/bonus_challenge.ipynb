{
    "metadata": {
        "kernelspec": {
            "name": "SQL",
            "display_name": "SQL",
            "language": "sql"
        },
        "language_info": {
            "name": "sql",
            "version": ""
        }
    },
    "nbformat_minor": 2,
    "nbformat": 4,
    "cells": [
        {
            "cell_type": "markdown",
            "source": [
                "### Bonus Challenge\r\n",
                "---\r\n",
                "Use a single SQL query to transform the `product_hierarchy` and `product_prices` datasets to the `product_details` table."
            ],
            "metadata": {
                "azdata_cell_guid": "cd7f1269-ae9b-4636-a994-fd9b1b88b9d5"
            },
            "attachments": {}
        },
        {
            "cell_type": "code",
            "source": [
                "SELECT\r\n",
                "    product_id,\r\n",
                "    price,\r\n",
                "    CONCAT(p.level_text, ' ', p1.level_text,' - ', p2.level_text),\r\n",
                "    p2.id AS category_id,\r\n",
                "    p1.id AS segment_id,\r\n",
                "    p.id AS style_id,\r\n",
                "    p2.level_text AS category_name,\r\n",
                "    p1.level_text AS segment_name,\r\n",
                "    p.level_text AS style_name \r\n",
                "FROM product_hierarchy p \r\n",
                "JOIN product_hierarchy p1 ON p.parent_id = p1.id\r\n",
                "JOIN product_hierarchy p2 ON p1.parent_id = p2.id\r\n",
                "JOIN product_prices AS pp on p.id = pp.id"
            ],
            "metadata": {
                "azdata_cell_guid": "b8c94b5e-b4b5-44c5-b7b4-c1a4b0ac7bb5",
                "language": "sql"
            },
            "outputs": [
                {
                    "output_type": "display_data",
                    "data": {
                        "text/html": "(12 rows affected)"
                    },
                    "metadata": {}
                },
                {
                    "output_type": "display_data",
                    "data": {
                        "text/html": "Total execution time: 00:00:00.017"
                    },
                    "metadata": {}
                },
                {
                    "output_type": "execute_result",
                    "metadata": {},
                    "execution_count": 1,
                    "data": {
                        "application/vnd.dataresource+json": {
                            "schema": {
                                "fields": [
                                    {
                                        "name": "product_id"
                                    },
                                    {
                                        "name": "price"
                                    },
                                    {
                                        "name": "(No column name)"
                                    },
                                    {
                                        "name": "category_id"
                                    },
                                    {
                                        "name": "segment_id"
                                    },
                                    {
                                        "name": "style_id"
                                    },
                                    {
                                        "name": "category_name"
                                    },
                                    {
                                        "name": "segment_name"
                                    },
                                    {
                                        "name": "style_name"
                                    }
                                ]
                            },
                            "data": [
                                {
                                    "0": "c4a632",
                                    "1": "13",
                                    "2": "Navy Oversized Jeans - Womens",
                                    "3": "1",
                                    "4": "3",
                                    "5": "7",
                                    "6": "Womens",
                                    "7": "Jeans",
                                    "8": "Navy Oversized"
                                },
                                {
                                    "0": "e83aa3",
                                    "1": "32",
                                    "2": "Black Straight Jeans - Womens",
                                    "3": "1",
                                    "4": "3",
                                    "5": "8",
                                    "6": "Womens",
                                    "7": "Jeans",
                                    "8": "Black Straight"
                                },
                                {
                                    "0": "e31d39",
                                    "1": "10",
                                    "2": "Cream Relaxed Jeans - Womens",
                                    "3": "1",
                                    "4": "3",
                                    "5": "9",
                                    "6": "Womens",
                                    "7": "Jeans",
                                    "8": "Cream Relaxed"
                                },
                                {
                                    "0": "d5e9a6",
                                    "1": "23",
                                    "2": "Khaki Suit Jacket - Womens",
                                    "3": "1",
                                    "4": "4",
                                    "5": "10",
                                    "6": "Womens",
                                    "7": "Jacket",
                                    "8": "Khaki Suit"
                                },
                                {
                                    "0": "72f5d4",
                                    "1": "19",
                                    "2": "Indigo Rain Jacket - Womens",
                                    "3": "1",
                                    "4": "4",
                                    "5": "11",
                                    "6": "Womens",
                                    "7": "Jacket",
                                    "8": "Indigo Rain"
                                },
                                {
                                    "0": "9ec847",
                                    "1": "54",
                                    "2": "Grey Fashion Jacket - Womens",
                                    "3": "1",
                                    "4": "4",
                                    "5": "12",
                                    "6": "Womens",
                                    "7": "Jacket",
                                    "8": "Grey Fashion"
                                },
                                {
                                    "0": "5d267b",
                                    "1": "40",
                                    "2": "White Tee Shirt - Mens",
                                    "3": "2",
                                    "4": "5",
                                    "5": "13",
                                    "6": "Mens",
                                    "7": "Shirt",
                                    "8": "White Tee"
                                },
                                {
                                    "0": "c8d436",
                                    "1": "10",
                                    "2": "Teal Button Up Shirt - Mens",
                                    "3": "2",
                                    "4": "5",
                                    "5": "14",
                                    "6": "Mens",
                                    "7": "Shirt",
                                    "8": "Teal Button Up"
                                },
                                {
                                    "0": "2a2353",
                                    "1": "57",
                                    "2": "Blue Polo Shirt - Mens",
                                    "3": "2",
                                    "4": "5",
                                    "5": "15",
                                    "6": "Mens",
                                    "7": "Shirt",
                                    "8": "Blue Polo"
                                },
                                {
                                    "0": "f084eb",
                                    "1": "36",
                                    "2": "Navy Solid Socks - Mens",
                                    "3": "2",
                                    "4": "6",
                                    "5": "16",
                                    "6": "Mens",
                                    "7": "Socks",
                                    "8": "Navy Solid"
                                },
                                {
                                    "0": "b9a74d",
                                    "1": "17",
                                    "2": "White Striped Socks - Mens",
                                    "3": "2",
                                    "4": "6",
                                    "5": "17",
                                    "6": "Mens",
                                    "7": "Socks",
                                    "8": "White Striped"
                                },
                                {
                                    "0": "2feb6b",
                                    "1": "29",
                                    "2": "Pink Fluro Polkadot Socks - Mens",
                                    "3": "2",
                                    "4": "6",
                                    "5": "18",
                                    "6": "Mens",
                                    "7": "Socks",
                                    "8": "Pink Fluro Polkadot"
                                }
                            ]
                        },
                        "text/html": [
                            "<table>",
                            "<tr><th>product_id</th><th>price</th><th>(No column name)</th><th>category_id</th><th>segment_id</th><th>style_id</th><th>category_name</th><th>segment_name</th><th>style_name</th></tr>",
                            "<tr><td>c4a632</td><td>13</td><td>Navy Oversized Jeans - Womens</td><td>1</td><td>3</td><td>7</td><td>Womens</td><td>Jeans</td><td>Navy Oversized</td></tr>",
                            "<tr><td>e83aa3</td><td>32</td><td>Black Straight Jeans - Womens</td><td>1</td><td>3</td><td>8</td><td>Womens</td><td>Jeans</td><td>Black Straight</td></tr>",
                            "<tr><td>e31d39</td><td>10</td><td>Cream Relaxed Jeans - Womens</td><td>1</td><td>3</td><td>9</td><td>Womens</td><td>Jeans</td><td>Cream Relaxed</td></tr>",
                            "<tr><td>d5e9a6</td><td>23</td><td>Khaki Suit Jacket - Womens</td><td>1</td><td>4</td><td>10</td><td>Womens</td><td>Jacket</td><td>Khaki Suit</td></tr>",
                            "<tr><td>72f5d4</td><td>19</td><td>Indigo Rain Jacket - Womens</td><td>1</td><td>4</td><td>11</td><td>Womens</td><td>Jacket</td><td>Indigo Rain</td></tr>",
                            "<tr><td>9ec847</td><td>54</td><td>Grey Fashion Jacket - Womens</td><td>1</td><td>4</td><td>12</td><td>Womens</td><td>Jacket</td><td>Grey Fashion</td></tr>",
                            "<tr><td>5d267b</td><td>40</td><td>White Tee Shirt - Mens</td><td>2</td><td>5</td><td>13</td><td>Mens</td><td>Shirt</td><td>White Tee</td></tr>",
                            "<tr><td>c8d436</td><td>10</td><td>Teal Button Up Shirt - Mens</td><td>2</td><td>5</td><td>14</td><td>Mens</td><td>Shirt</td><td>Teal Button Up</td></tr>",
                            "<tr><td>2a2353</td><td>57</td><td>Blue Polo Shirt - Mens</td><td>2</td><td>5</td><td>15</td><td>Mens</td><td>Shirt</td><td>Blue Polo</td></tr>",
                            "<tr><td>f084eb</td><td>36</td><td>Navy Solid Socks - Mens</td><td>2</td><td>6</td><td>16</td><td>Mens</td><td>Socks</td><td>Navy Solid</td></tr>",
                            "<tr><td>b9a74d</td><td>17</td><td>White Striped Socks - Mens</td><td>2</td><td>6</td><td>17</td><td>Mens</td><td>Socks</td><td>White Striped</td></tr>",
                            "<tr><td>2feb6b</td><td>29</td><td>Pink Fluro Polkadot Socks - Mens</td><td>2</td><td>6</td><td>18</td><td>Mens</td><td>Socks</td><td>Pink Fluro Polkadot</td></tr>",
                            "</table>"
                        ]
                    }
                }
            ],
            "execution_count": 1
        }
    ]
}