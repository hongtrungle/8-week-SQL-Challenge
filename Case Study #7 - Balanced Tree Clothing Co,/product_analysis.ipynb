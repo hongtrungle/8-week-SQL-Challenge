{
    "metadata": {
        "kernelspec": {
            "name": "SQL",
            "display_name": "SQL",
            "language": "sql"
        },
        "language_info": {
            "name": "sql",
            "version": ""
        }
    },
    "nbformat_minor": 2,
    "nbformat": 4,
    "cells": [
        {
            "cell_type": "markdown",
            "source": [
                "### Product Analysis\r\n",
                "---\r\n",
                "    1. What are the top 3 products by total revenue before discount?"
            ],
            "metadata": {
                "azdata_cell_guid": "b8a5fcd8-a6af-4c60-a0d0-2b0ccb9d044c"
            },
            "attachments": {}
        },
        {
            "cell_type": "code",
            "source": [
                "SELECT TOP 3\r\n",
                "    prod_id,\r\n",
                "    product_name,\r\n",
                "    SUM(qty*s.price) as revenue\r\n",
                "FROM sales s \r\n",
                "JOIN product_details p ON p.product_id = s.prod_id\r\n",
                "GROUP BY prod_id, product_name\r\n",
                "ORDER BY revenue DESC"
            ],
            "metadata": {
                "azdata_cell_guid": "3de66bd8-1b0f-4feb-91fe-3b5fb5d62fe6",
                "language": "sql"
            },
            "outputs": [
                {
                    "output_type": "display_data",
                    "data": {
                        "text/html": "(3 rows affected)"
                    },
                    "metadata": {}
                },
                {
                    "output_type": "display_data",
                    "data": {
                        "text/html": "Total execution time: 00:00:00.012"
                    },
                    "metadata": {}
                },
                {
                    "output_type": "execute_result",
                    "metadata": {},
                    "execution_count": 1,
                    "data": {
                        "application/vnd.dataresource+json": {
                            "schema": {
                                "fields": [
                                    {
                                        "name": "prod_id"
                                    },
                                    {
                                        "name": "product_name"
                                    },
                                    {
                                        "name": "revenue"
                                    }
                                ]
                            },
                            "data": [
                                {
                                    "0": "2a2353",
                                    "1": "Blue Polo Shirt - Mens",
                                    "2": "217683"
                                },
                                {
                                    "0": "9ec847",
                                    "1": "Grey Fashion Jacket - Womens",
                                    "2": "209304"
                                },
                                {
                                    "0": "5d267b",
                                    "1": "White Tee Shirt - Mens",
                                    "2": "152000"
                                }
                            ]
                        },
                        "text/html": [
                            "<table>",
                            "<tr><th>prod_id</th><th>product_name</th><th>revenue</th></tr>",
                            "<tr><td>2a2353</td><td>Blue Polo Shirt - Mens</td><td>217683</td></tr>",
                            "<tr><td>9ec847</td><td>Grey Fashion Jacket - Womens</td><td>209304</td></tr>",
                            "<tr><td>5d267b</td><td>White Tee Shirt - Mens</td><td>152000</td></tr>",
                            "</table>"
                        ]
                    }
                }
            ],
            "execution_count": 1
        },
        {
            "cell_type": "markdown",
            "source": [
                "    2. What is the total quantity, revenue and discount for each segment?"
            ],
            "metadata": {
                "azdata_cell_guid": "8ad6d8dc-2f08-4aa2-abd4-842ce261c2f1"
            },
            "attachments": {}
        },
        {
            "cell_type": "code",
            "source": [
                "SELECT\r\n",
                "    segment_name,\r\n",
                "    SUM(qty) AS quantity,\r\n",
                "    SUM(qty*s.price) AS revenue,\r\n",
                "    SUM(qty*s.price*discount)/100 AS discount\r\n",
                "FROM sales s \r\n",
                "JOIN product_details p ON p.product_id = s.prod_id\r\n",
                "GROUP BY segment_name"
            ],
            "metadata": {
                "azdata_cell_guid": "cdf94166-64be-4874-87bf-156dddd2834a",
                "language": "sql"
            },
            "outputs": [
                {
                    "output_type": "display_data",
                    "data": {
                        "text/html": "(4 rows affected)"
                    },
                    "metadata": {}
                },
                {
                    "output_type": "display_data",
                    "data": {
                        "text/html": "Total execution time: 00:00:00.019"
                    },
                    "metadata": {}
                },
                {
                    "output_type": "execute_result",
                    "metadata": {},
                    "execution_count": 2,
                    "data": {
                        "application/vnd.dataresource+json": {
                            "schema": {
                                "fields": [
                                    {
                                        "name": "segment_name"
                                    },
                                    {
                                        "name": "quantity"
                                    },
                                    {
                                        "name": "revenue"
                                    },
                                    {
                                        "name": "discount"
                                    }
                                ]
                            },
                            "data": [
                                {
                                    "0": "Jacket",
                                    "1": "11385",
                                    "2": "366983",
                                    "3": "44277"
                                },
                                {
                                    "0": "Jeans",
                                    "1": "11349",
                                    "2": "208350",
                                    "3": "25343"
                                },
                                {
                                    "0": "Shirt",
                                    "1": "11265",
                                    "2": "406143",
                                    "3": "49594"
                                },
                                {
                                    "0": "Socks",
                                    "1": "11217",
                                    "2": "307977",
                                    "3": "37013"
                                }
                            ]
                        },
                        "text/html": [
                            "<table>",
                            "<tr><th>segment_name</th><th>quantity</th><th>revenue</th><th>discount</th></tr>",
                            "<tr><td>Jacket</td><td>11385</td><td>366983</td><td>44277</td></tr>",
                            "<tr><td>Jeans</td><td>11349</td><td>208350</td><td>25343</td></tr>",
                            "<tr><td>Shirt</td><td>11265</td><td>406143</td><td>49594</td></tr>",
                            "<tr><td>Socks</td><td>11217</td><td>307977</td><td>37013</td></tr>",
                            "</table>"
                        ]
                    }
                }
            ],
            "execution_count": 2
        },
        {
            "cell_type": "markdown",
            "source": [
                "    3. What is the top selling product for each segment?"
            ],
            "metadata": {
                "azdata_cell_guid": "b12be662-8c70-4292-a8e0-cf8ce2bb93ec"
            },
            "attachments": {}
        },
        {
            "cell_type": "code",
            "source": [
                "WITH tbl AS(\r\n",
                "    SELECT\r\n",
                "        segment_name,\r\n",
                "        product_name,\r\n",
                "        SUM(qty) AS quantity,\r\n",
                "        SUM(qty*s.price) AS revenue,\r\n",
                "        RANK() OVER(PARTITION BY segment_name ORDER BY SUM(qty) DESC) AS rank_qty\r\n",
                "    FROM sales s \r\n",
                "    JOIN product_details p ON p.product_id = s.prod_id\r\n",
                "    GROUP BY segment_name, product_name\r\n",
                ")\r\n",
                "SELECT \r\n",
                "    segment_name,\r\n",
                "    product_name,\r\n",
                "    quantity,\r\n",
                "    revenue\r\n",
                "FROM tbl\r\n",
                "WHERE rank_qty = 1"
            ],
            "metadata": {
                "azdata_cell_guid": "a9dc1be4-70bc-4ede-ab29-653394f1f90e",
                "language": "sql"
            },
            "outputs": [
                {
                    "output_type": "display_data",
                    "data": {
                        "text/html": "(4 rows affected)"
                    },
                    "metadata": {}
                },
                {
                    "output_type": "display_data",
                    "data": {
                        "text/html": "Total execution time: 00:00:00.016"
                    },
                    "metadata": {}
                },
                {
                    "output_type": "execute_result",
                    "metadata": {},
                    "execution_count": 3,
                    "data": {
                        "application/vnd.dataresource+json": {
                            "schema": {
                                "fields": [
                                    {
                                        "name": "segment_name"
                                    },
                                    {
                                        "name": "product_name"
                                    },
                                    {
                                        "name": "quantity"
                                    },
                                    {
                                        "name": "revenue"
                                    }
                                ]
                            },
                            "data": [
                                {
                                    "0": "Jacket",
                                    "1": "Grey Fashion Jacket - Womens",
                                    "2": "3876",
                                    "3": "209304"
                                },
                                {
                                    "0": "Jeans",
                                    "1": "Navy Oversized Jeans - Womens",
                                    "2": "3856",
                                    "3": "50128"
                                },
                                {
                                    "0": "Shirt",
                                    "1": "Blue Polo Shirt - Mens",
                                    "2": "3819",
                                    "3": "217683"
                                },
                                {
                                    "0": "Socks",
                                    "1": "Navy Solid Socks - Mens",
                                    "2": "3792",
                                    "3": "136512"
                                }
                            ]
                        },
                        "text/html": [
                            "<table>",
                            "<tr><th>segment_name</th><th>product_name</th><th>quantity</th><th>revenue</th></tr>",
                            "<tr><td>Jacket</td><td>Grey Fashion Jacket - Womens</td><td>3876</td><td>209304</td></tr>",
                            "<tr><td>Jeans</td><td>Navy Oversized Jeans - Womens</td><td>3856</td><td>50128</td></tr>",
                            "<tr><td>Shirt</td><td>Blue Polo Shirt - Mens</td><td>3819</td><td>217683</td></tr>",
                            "<tr><td>Socks</td><td>Navy Solid Socks - Mens</td><td>3792</td><td>136512</td></tr>",
                            "</table>"
                        ]
                    }
                }
            ],
            "execution_count": 3
        },
        {
            "cell_type": "markdown",
            "source": [
                "    4. What is the total quantity, revenue and discount for each category?"
            ],
            "metadata": {
                "azdata_cell_guid": "6a80a75d-660e-430c-8f30-695c94d3b01a"
            },
            "attachments": {}
        },
        {
            "cell_type": "code",
            "source": [
                "SELECT\r\n",
                "    category_name,\r\n",
                "    SUM(qty) AS quantity,\r\n",
                "    SUM(qty*s.price) AS revenue,\r\n",
                "    SUM(qty*s.price*discount)/100 AS discount\r\n",
                "FROM sales s \r\n",
                "JOIN product_details p ON p.product_id = s.prod_id\r\n",
                "GROUP BY category_name"
            ],
            "metadata": {
                "azdata_cell_guid": "682ca9ad-27b4-4a03-93e2-91b2eedd95bb",
                "language": "sql"
            },
            "outputs": [
                {
                    "output_type": "display_data",
                    "data": {
                        "text/html": "(2 rows affected)"
                    },
                    "metadata": {}
                },
                {
                    "output_type": "display_data",
                    "data": {
                        "text/html": "Total execution time: 00:00:00.017"
                    },
                    "metadata": {}
                },
                {
                    "output_type": "execute_result",
                    "metadata": {},
                    "execution_count": 4,
                    "data": {
                        "application/vnd.dataresource+json": {
                            "schema": {
                                "fields": [
                                    {
                                        "name": "category_name"
                                    },
                                    {
                                        "name": "quantity"
                                    },
                                    {
                                        "name": "revenue"
                                    },
                                    {
                                        "name": "discount"
                                    }
                                ]
                            },
                            "data": [
                                {
                                    "0": "Mens",
                                    "1": "22482",
                                    "2": "714120",
                                    "3": "86607"
                                },
                                {
                                    "0": "Womens",
                                    "1": "22734",
                                    "2": "575333",
                                    "3": "69621"
                                }
                            ]
                        },
                        "text/html": [
                            "<table>",
                            "<tr><th>category_name</th><th>quantity</th><th>revenue</th><th>discount</th></tr>",
                            "<tr><td>Mens</td><td>22482</td><td>714120</td><td>86607</td></tr>",
                            "<tr><td>Womens</td><td>22734</td><td>575333</td><td>69621</td></tr>",
                            "</table>"
                        ]
                    }
                }
            ],
            "execution_count": 4
        },
        {
            "cell_type": "markdown",
            "source": [
                "    5. What is the top selling product for each category?"
            ],
            "metadata": {
                "azdata_cell_guid": "a3f97e1f-8fdd-42be-8e5e-799f0de450a9"
            },
            "attachments": {}
        },
        {
            "cell_type": "code",
            "source": [
                "WITH tbl AS(\r\n",
                "    SELECT\r\n",
                "        category_name,\r\n",
                "        product_name,\r\n",
                "        SUM(qty) AS quantity,\r\n",
                "        SUM(qty*s.price) AS revenue,\r\n",
                "        RANK() OVER(PARTITION BY category_name ORDER BY SUM(qty) DESC) AS rank_qty\r\n",
                "    FROM sales s \r\n",
                "    JOIN product_details p ON p.product_id = s.prod_id\r\n",
                "    GROUP BY category_name, product_name\r\n",
                ")\r\n",
                "SELECT\r\n",
                "    category_name,\r\n",
                "    product_name,\r\n",
                "    quantity,\r\n",
                "    revenue\r\n",
                "FROM tbl\r\n",
                "WHERE rank_qty = 1"
            ],
            "metadata": {
                "azdata_cell_guid": "897dfe3d-2493-4381-b63f-ed9f3d13cf73",
                "language": "sql"
            },
            "outputs": [
                {
                    "output_type": "display_data",
                    "data": {
                        "text/html": "(2 rows affected)"
                    },
                    "metadata": {}
                },
                {
                    "output_type": "display_data",
                    "data": {
                        "text/html": "Total execution time: 00:00:00.019"
                    },
                    "metadata": {}
                },
                {
                    "output_type": "execute_result",
                    "metadata": {},
                    "execution_count": 5,
                    "data": {
                        "application/vnd.dataresource+json": {
                            "schema": {
                                "fields": [
                                    {
                                        "name": "category_name"
                                    },
                                    {
                                        "name": "product_name"
                                    },
                                    {
                                        "name": "quantity"
                                    },
                                    {
                                        "name": "revenue"
                                    }
                                ]
                            },
                            "data": [
                                {
                                    "0": "Mens",
                                    "1": "Blue Polo Shirt - Mens",
                                    "2": "3819",
                                    "3": "217683"
                                },
                                {
                                    "0": "Womens",
                                    "1": "Grey Fashion Jacket - Womens",
                                    "2": "3876",
                                    "3": "209304"
                                }
                            ]
                        },
                        "text/html": [
                            "<table>",
                            "<tr><th>category_name</th><th>product_name</th><th>quantity</th><th>revenue</th></tr>",
                            "<tr><td>Mens</td><td>Blue Polo Shirt - Mens</td><td>3819</td><td>217683</td></tr>",
                            "<tr><td>Womens</td><td>Grey Fashion Jacket - Womens</td><td>3876</td><td>209304</td></tr>",
                            "</table>"
                        ]
                    }
                }
            ],
            "execution_count": 5
        },
        {
            "cell_type": "markdown",
            "source": [
                "    6. What is the percentage split of revenue by product for each segment?"
            ],
            "metadata": {
                "azdata_cell_guid": "d5e74053-d8bd-4ec7-b445-81d2f7dca882"
            },
            "attachments": {}
        },
        {
            "cell_type": "code",
            "source": [
                "WITH tbl AS(\r\n",
                "    SELECT DISTINCT \r\n",
                "        segment_name,\r\n",
                "        product_name,\r\n",
                "        SUM(qty*s.price) OVER(PARTITION BY segment_name, product_name) AS sum_per_product,\r\n",
                "        SUM(qty*s.price) OVER(PARTITION BY segment_name) AS sum_per_segment\r\n",
                "    FROM sales s \r\n",
                "    JOIN product_details p ON p.product_id = s.prod_id\r\n",
                ")\r\n",
                "SELECT *,\r\n",
                "    ROUND(100*CAST(sum_per_product as float)/sum_per_segment,2) AS percent_revenue_by_product_each_segment\r\n",
                "FROM tbl\r\n",
                "ORDER BY segment_name"
            ],
            "metadata": {
                "azdata_cell_guid": "b9cdd0e0-e2f8-4bd1-8ce9-7f7fe09adc9a",
                "language": "sql"
            },
            "outputs": [
                {
                    "output_type": "display_data",
                    "data": {
                        "text/html": "(12 rows affected)"
                    },
                    "metadata": {}
                },
                {
                    "output_type": "display_data",
                    "data": {
                        "text/html": "Total execution time: 00:00:00.143"
                    },
                    "metadata": {}
                },
                {
                    "output_type": "execute_result",
                    "metadata": {},
                    "execution_count": 6,
                    "data": {
                        "application/vnd.dataresource+json": {
                            "schema": {
                                "fields": [
                                    {
                                        "name": "segment_name"
                                    },
                                    {
                                        "name": "product_name"
                                    },
                                    {
                                        "name": "sum_per_product"
                                    },
                                    {
                                        "name": "sum_per_segment"
                                    },
                                    {
                                        "name": "percent_revenue_by_product_each_segment"
                                    }
                                ]
                            },
                            "data": [
                                {
                                    "0": "Jacket",
                                    "1": "Grey Fashion Jacket - Womens",
                                    "2": "209304",
                                    "3": "366983",
                                    "4": "57.03"
                                },
                                {
                                    "0": "Jacket",
                                    "1": "Indigo Rain Jacket - Womens",
                                    "2": "71383",
                                    "3": "366983",
                                    "4": "19.45"
                                },
                                {
                                    "0": "Jacket",
                                    "1": "Khaki Suit Jacket - Womens",
                                    "2": "86296",
                                    "3": "366983",
                                    "4": "23.51"
                                },
                                {
                                    "0": "Jeans",
                                    "1": "Black Straight Jeans - Womens",
                                    "2": "121152",
                                    "3": "208350",
                                    "4": "58.15"
                                },
                                {
                                    "0": "Jeans",
                                    "1": "Cream Relaxed Jeans - Womens",
                                    "2": "37070",
                                    "3": "208350",
                                    "4": "17.79"
                                },
                                {
                                    "0": "Jeans",
                                    "1": "Navy Oversized Jeans - Womens",
                                    "2": "50128",
                                    "3": "208350",
                                    "4": "24.06"
                                },
                                {
                                    "0": "Shirt",
                                    "1": "Blue Polo Shirt - Mens",
                                    "2": "217683",
                                    "3": "406143",
                                    "4": "53.6"
                                },
                                {
                                    "0": "Shirt",
                                    "1": "Teal Button Up Shirt - Mens",
                                    "2": "36460",
                                    "3": "406143",
                                    "4": "8.98"
                                },
                                {
                                    "0": "Shirt",
                                    "1": "White Tee Shirt - Mens",
                                    "2": "152000",
                                    "3": "406143",
                                    "4": "37.43"
                                },
                                {
                                    "0": "Socks",
                                    "1": "Navy Solid Socks - Mens",
                                    "2": "136512",
                                    "3": "307977",
                                    "4": "44.33"
                                },
                                {
                                    "0": "Socks",
                                    "1": "Pink Fluro Polkadot Socks - Mens",
                                    "2": "109330",
                                    "3": "307977",
                                    "4": "35.5"
                                },
                                {
                                    "0": "Socks",
                                    "1": "White Striped Socks - Mens",
                                    "2": "62135",
                                    "3": "307977",
                                    "4": "20.18"
                                }
                            ]
                        },
                        "text/html": [
                            "<table>",
                            "<tr><th>segment_name</th><th>product_name</th><th>sum_per_product</th><th>sum_per_segment</th><th>percent_revenue_by_product_each_segment</th></tr>",
                            "<tr><td>Jacket</td><td>Grey Fashion Jacket - Womens</td><td>209304</td><td>366983</td><td>57.03</td></tr>",
                            "<tr><td>Jacket</td><td>Indigo Rain Jacket - Womens</td><td>71383</td><td>366983</td><td>19.45</td></tr>",
                            "<tr><td>Jacket</td><td>Khaki Suit Jacket - Womens</td><td>86296</td><td>366983</td><td>23.51</td></tr>",
                            "<tr><td>Jeans</td><td>Black Straight Jeans - Womens</td><td>121152</td><td>208350</td><td>58.15</td></tr>",
                            "<tr><td>Jeans</td><td>Cream Relaxed Jeans - Womens</td><td>37070</td><td>208350</td><td>17.79</td></tr>",
                            "<tr><td>Jeans</td><td>Navy Oversized Jeans - Womens</td><td>50128</td><td>208350</td><td>24.06</td></tr>",
                            "<tr><td>Shirt</td><td>Blue Polo Shirt - Mens</td><td>217683</td><td>406143</td><td>53.6</td></tr>",
                            "<tr><td>Shirt</td><td>Teal Button Up Shirt - Mens</td><td>36460</td><td>406143</td><td>8.98</td></tr>",
                            "<tr><td>Shirt</td><td>White Tee Shirt - Mens</td><td>152000</td><td>406143</td><td>37.43</td></tr>",
                            "<tr><td>Socks</td><td>Navy Solid Socks - Mens</td><td>136512</td><td>307977</td><td>44.33</td></tr>",
                            "<tr><td>Socks</td><td>Pink Fluro Polkadot Socks - Mens</td><td>109330</td><td>307977</td><td>35.5</td></tr>",
                            "<tr><td>Socks</td><td>White Striped Socks - Mens</td><td>62135</td><td>307977</td><td>20.18</td></tr>",
                            "</table>"
                        ]
                    }
                }
            ],
            "execution_count": 6
        },
        {
            "cell_type": "markdown",
            "source": [
                "    7. What is the percentage split of revenue by segment for each category?"
            ],
            "metadata": {
                "azdata_cell_guid": "e9805b4a-335b-4143-8ea7-2a4f4bb190db"
            },
            "attachments": {}
        },
        {
            "cell_type": "code",
            "source": [
                "WITH tbl AS(\r\n",
                "    SELECT DISTINCT \r\n",
                "        category_name,\r\n",
                "        segment_name,\r\n",
                "        SUM(qty*s.price) OVER(PARTITION BY category_name, segment_name) AS sum_per_segment,\r\n",
                "        SUM(qty*s.price) OVER(PARTITION BY category_name) AS sum_per_category\r\n",
                "    FROM sales s \r\n",
                "    JOIN product_details p ON p.product_id = s.prod_id\r\n",
                ")\r\n",
                "SELECT *,\r\n",
                "    ROUND(100*CAST(sum_per_segment as float)/sum_per_category,2) AS percent_revenue_by_segment_each_category\r\n",
                "FROM tbl\r\n",
                "ORDER BY category_name"
            ],
            "metadata": {
                "azdata_cell_guid": "1b48ef7b-0317-4676-9e1f-5311df375a49",
                "language": "sql"
            },
            "outputs": [
                {
                    "output_type": "display_data",
                    "data": {
                        "text/html": "(4 rows affected)"
                    },
                    "metadata": {}
                },
                {
                    "output_type": "display_data",
                    "data": {
                        "text/html": "Total execution time: 00:00:00.146"
                    },
                    "metadata": {}
                },
                {
                    "output_type": "execute_result",
                    "metadata": {},
                    "execution_count": 7,
                    "data": {
                        "application/vnd.dataresource+json": {
                            "schema": {
                                "fields": [
                                    {
                                        "name": "category_name"
                                    },
                                    {
                                        "name": "segment_name"
                                    },
                                    {
                                        "name": "sum_per_segment"
                                    },
                                    {
                                        "name": "sum_per_category"
                                    },
                                    {
                                        "name": "percent_revenue_by_segment_each_category"
                                    }
                                ]
                            },
                            "data": [
                                {
                                    "0": "Mens",
                                    "1": "Shirt",
                                    "2": "406143",
                                    "3": "714120",
                                    "4": "56.87"
                                },
                                {
                                    "0": "Mens",
                                    "1": "Socks",
                                    "2": "307977",
                                    "3": "714120",
                                    "4": "43.13"
                                },
                                {
                                    "0": "Womens",
                                    "1": "Jacket",
                                    "2": "366983",
                                    "3": "575333",
                                    "4": "63.79"
                                },
                                {
                                    "0": "Womens",
                                    "1": "Jeans",
                                    "2": "208350",
                                    "3": "575333",
                                    "4": "36.21"
                                }
                            ]
                        },
                        "text/html": [
                            "<table>",
                            "<tr><th>category_name</th><th>segment_name</th><th>sum_per_segment</th><th>sum_per_category</th><th>percent_revenue_by_segment_each_category</th></tr>",
                            "<tr><td>Mens</td><td>Shirt</td><td>406143</td><td>714120</td><td>56.87</td></tr>",
                            "<tr><td>Mens</td><td>Socks</td><td>307977</td><td>714120</td><td>43.13</td></tr>",
                            "<tr><td>Womens</td><td>Jacket</td><td>366983</td><td>575333</td><td>63.79</td></tr>",
                            "<tr><td>Womens</td><td>Jeans</td><td>208350</td><td>575333</td><td>36.21</td></tr>",
                            "</table>"
                        ]
                    }
                }
            ],
            "execution_count": 7
        },
        {
            "cell_type": "markdown",
            "source": [
                "    8. What is the percentage split of total revenue by category?"
            ],
            "metadata": {
                "azdata_cell_guid": "02f0a3f6-82d5-4001-9c05-e67c50a3a60e"
            },
            "attachments": {}
        },
        {
            "cell_type": "code",
            "source": [
                "SELECT DISTINCT \r\n",
                "    category_name,\r\n",
                "    SUM(qty*s.price) OVER(PARTITION BY category_name) AS sum_per_category,\r\n",
                "    ROUND(100*CAST(SUM(qty*s.price) OVER(PARTITION BY category_name) as float)/(SELECT SUM(qty*price) FROM sales),2) \r\n",
                "    AS percentage_revenue_by_category\r\n",
                "FROM sales s \r\n",
                "JOIN product_details p ON p.product_id = s.prod_id\r\n",
                ""
            ],
            "metadata": {
                "azdata_cell_guid": "91190917-1fe6-46f9-9bff-273b42b8f8e2",
                "language": "sql"
            },
            "outputs": [
                {
                    "output_type": "display_data",
                    "data": {
                        "text/html": "(2 rows affected)"
                    },
                    "metadata": {}
                },
                {
                    "output_type": "display_data",
                    "data": {
                        "text/html": "Total execution time: 00:00:00.107"
                    },
                    "metadata": {}
                },
                {
                    "output_type": "execute_result",
                    "metadata": {},
                    "execution_count": 8,
                    "data": {
                        "application/vnd.dataresource+json": {
                            "schema": {
                                "fields": [
                                    {
                                        "name": "category_name"
                                    },
                                    {
                                        "name": "sum_per_category"
                                    },
                                    {
                                        "name": "percentage_revenue_by_category"
                                    }
                                ]
                            },
                            "data": [
                                {
                                    "0": "Womens",
                                    "1": "575333",
                                    "2": "44.62"
                                },
                                {
                                    "0": "Mens",
                                    "1": "714120",
                                    "2": "55.38"
                                }
                            ]
                        },
                        "text/html": [
                            "<table>",
                            "<tr><th>category_name</th><th>sum_per_category</th><th>percentage_revenue_by_category</th></tr>",
                            "<tr><td>Womens</td><td>575333</td><td>44.62</td></tr>",
                            "<tr><td>Mens</td><td>714120</td><td>55.38</td></tr>",
                            "</table>"
                        ]
                    }
                }
            ],
            "execution_count": 8
        },
        {
            "cell_type": "markdown",
            "source": [
                "    9. What is the total transaction “penetration” for each product? (hint: penetration = number of transactions where at least 1 quantity of a product was purchased divided by total number of transactions)"
            ],
            "metadata": {
                "azdata_cell_guid": "14d39436-8952-49b0-bcbe-39efa39eef68"
            },
            "attachments": {}
        },
        {
            "cell_type": "code",
            "source": [
                "SELECT\r\n",
                "    product_name,\r\n",
                "    100*CAST(COUNT(*) AS float)/(SELECT COUNT(DISTINCT txn_id) FROM sales) AS transaction_penetration\r\n",
                "FROM sales s \r\n",
                "JOIN product_details p ON p.product_id = s.prod_id\r\n",
                "GROUP BY product_name"
            ],
            "metadata": {
                "azdata_cell_guid": "26f07b34-913d-4258-8d5a-3bae78befb44",
                "language": "sql"
            },
            "outputs": [
                {
                    "output_type": "display_data",
                    "data": {
                        "text/html": "(12 rows affected)"
                    },
                    "metadata": {}
                },
                {
                    "output_type": "display_data",
                    "data": {
                        "text/html": "Total execution time: 00:00:00.031"
                    },
                    "metadata": {}
                },
                {
                    "output_type": "execute_result",
                    "metadata": {},
                    "execution_count": 9,
                    "data": {
                        "application/vnd.dataresource+json": {
                            "schema": {
                                "fields": [
                                    {
                                        "name": "product_name"
                                    },
                                    {
                                        "name": "transaction_penetration"
                                    }
                                ]
                            },
                            "data": [
                                {
                                    "0": "Black Straight Jeans - Womens",
                                    "1": "49.84"
                                },
                                {
                                    "0": "Blue Polo Shirt - Mens",
                                    "1": "50.72"
                                },
                                {
                                    "0": "Cream Relaxed Jeans - Womens",
                                    "1": "49.72"
                                },
                                {
                                    "0": "Grey Fashion Jacket - Womens",
                                    "1": "51"
                                },
                                {
                                    "0": "Indigo Rain Jacket - Womens",
                                    "1": "50"
                                },
                                {
                                    "0": "Khaki Suit Jacket - Womens",
                                    "1": "49.88"
                                },
                                {
                                    "0": "Navy Oversized Jeans - Womens",
                                    "1": "50.96"
                                },
                                {
                                    "0": "Navy Solid Socks - Mens",
                                    "1": "51.24"
                                },
                                {
                                    "0": "Pink Fluro Polkadot Socks - Mens",
                                    "1": "50.32"
                                },
                                {
                                    "0": "Teal Button Up Shirt - Mens",
                                    "1": "49.68"
                                },
                                {
                                    "0": "White Striped Socks - Mens",
                                    "1": "49.72"
                                },
                                {
                                    "0": "White Tee Shirt - Mens",
                                    "1": "50.72"
                                }
                            ]
                        },
                        "text/html": [
                            "<table>",
                            "<tr><th>product_name</th><th>transaction_penetration</th></tr>",
                            "<tr><td>Black Straight Jeans - Womens</td><td>49.84</td></tr>",
                            "<tr><td>Blue Polo Shirt - Mens</td><td>50.72</td></tr>",
                            "<tr><td>Cream Relaxed Jeans - Womens</td><td>49.72</td></tr>",
                            "<tr><td>Grey Fashion Jacket - Womens</td><td>51</td></tr>",
                            "<tr><td>Indigo Rain Jacket - Womens</td><td>50</td></tr>",
                            "<tr><td>Khaki Suit Jacket - Womens</td><td>49.88</td></tr>",
                            "<tr><td>Navy Oversized Jeans - Womens</td><td>50.96</td></tr>",
                            "<tr><td>Navy Solid Socks - Mens</td><td>51.24</td></tr>",
                            "<tr><td>Pink Fluro Polkadot Socks - Mens</td><td>50.32</td></tr>",
                            "<tr><td>Teal Button Up Shirt - Mens</td><td>49.68</td></tr>",
                            "<tr><td>White Striped Socks - Mens</td><td>49.72</td></tr>",
                            "<tr><td>White Tee Shirt - Mens</td><td>50.72</td></tr>",
                            "</table>"
                        ]
                    }
                }
            ],
            "execution_count": 9
        },
        {
            "cell_type": "markdown",
            "source": [
                "    10. What is the most common combination of at least 1 quantity of any 3 products in a 1 single transaction?"
            ],
            "metadata": {
                "azdata_cell_guid": "8fc04076-56da-4b0c-9792-6e5bd12fffc9"
            },
            "attachments": {}
        },
        {
            "cell_type": "code",
            "source": [
                "WITH tbl AS (   \r\n",
                "    SELECT  \r\n",
                "        txn_id, \r\n",
                "        p1.product_name\r\n",
                "    FROM sales s \r\n",
                "    LEFT JOIN product_details  p1 ON s.prod_id = p1.product_id\r\n",
                ")\r\n",
                "SELECT TOP 1\r\n",
                "    t1.product_name AS PRODUCT_1,\r\n",
                "    t2.product_name AS PRODUCT_2,\r\n",
                "    t3.product_name AS PRODUCT_3,\r\n",
                "    COUNT (*) AS time_trans\r\n",
                "FROM tbl t1 \r\n",
                "JOIN tbl t2 ON t1.txn_id = t2.txn_id AND t1.product_name < t2.product_name\r\n",
                "JOIN tbl t3 ON t1.txn_id = t3.txn_id AND t1.product_name < t3.product_name AND t2.product_name < t3.product_name\r\n",
                "GROUP BY t1.product_name, t2.product_name, t3.product_name\r\n",
                "ORDER BY time_trans DESC ;"
            ],
            "metadata": {
                "azdata_cell_guid": "a05265d6-493a-447a-b7ee-aa5b07305263",
                "language": "sql"
            },
            "outputs": [
                {
                    "output_type": "display_data",
                    "data": {
                        "text/html": "(1 row affected)"
                    },
                    "metadata": {}
                },
                {
                    "output_type": "display_data",
                    "data": {
                        "text/html": "Total execution time: 00:00:00.325"
                    },
                    "metadata": {}
                },
                {
                    "output_type": "execute_result",
                    "metadata": {},
                    "execution_count": 10,
                    "data": {
                        "application/vnd.dataresource+json": {
                            "schema": {
                                "fields": [
                                    {
                                        "name": "PRODUCT_1"
                                    },
                                    {
                                        "name": "PRODUCT_2"
                                    },
                                    {
                                        "name": "PRODUCT_3"
                                    },
                                    {
                                        "name": "time_trans"
                                    }
                                ]
                            },
                            "data": [
                                {
                                    "0": "Grey Fashion Jacket - Womens",
                                    "1": "Teal Button Up Shirt - Mens",
                                    "2": "White Tee Shirt - Mens",
                                    "3": "352"
                                }
                            ]
                        },
                        "text/html": [
                            "<table>",
                            "<tr><th>PRODUCT_1</th><th>PRODUCT_2</th><th>PRODUCT_3</th><th>time_trans</th></tr>",
                            "<tr><td>Grey Fashion Jacket - Womens</td><td>Teal Button Up Shirt - Mens</td><td>White Tee Shirt - Mens</td><td>352</td></tr>",
                            "</table>"
                        ]
                    }
                }
            ],
            "execution_count": 10
        }
    ]
}