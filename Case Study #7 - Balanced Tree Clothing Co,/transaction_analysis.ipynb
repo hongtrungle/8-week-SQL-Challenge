{
    "metadata": {
        "kernelspec": {
            "name": "SQL",
            "display_name": "SQL",
            "language": "sql"
        },
        "language_info": {
            "name": "sql",
            "version": ""
        }
    },
    "nbformat_minor": 2,
    "nbformat": 4,
    "cells": [
        {
            "cell_type": "markdown",
            "source": [
                "### Transaction Analysis\r\n",
                "---\r\n",
                "    1. How many unique transactions were there?"
            ],
            "metadata": {
                "azdata_cell_guid": "91ec48c5-5f47-4a56-913f-300616013e35"
            },
            "attachments": {}
        },
        {
            "cell_type": "code",
            "source": [
                "SELECT \r\n",
                "    COUNT(DISTINCT txn_id) as transactions\r\n",
                "FROM sales"
            ],
            "metadata": {
                "azdata_cell_guid": "0e61fd76-a839-4b2b-b85e-f8b0c1932cfc",
                "language": "sql"
            },
            "outputs": [
                {
                    "output_type": "display_data",
                    "data": {
                        "text/html": "(1 row affected)"
                    },
                    "metadata": {}
                },
                {
                    "output_type": "display_data",
                    "data": {
                        "text/html": "Total execution time: 00:00:00.056"
                    },
                    "metadata": {}
                },
                {
                    "output_type": "execute_result",
                    "metadata": {},
                    "execution_count": 1,
                    "data": {
                        "application/vnd.dataresource+json": {
                            "schema": {
                                "fields": [
                                    {
                                        "name": "transactions"
                                    }
                                ]
                            },
                            "data": [
                                {
                                    "0": "2500"
                                }
                            ]
                        },
                        "text/html": [
                            "<table>",
                            "<tr><th>transactions</th></tr>",
                            "<tr><td>2500</td></tr>",
                            "</table>"
                        ]
                    }
                }
            ],
            "execution_count": 1
        },
        {
            "cell_type": "markdown",
            "source": [
                "    2. What is the average unique products purchased in each transaction?"
            ],
            "metadata": {
                "azdata_cell_guid": "09d6ca72-f799-430e-a092-798b9488b114"
            },
            "attachments": {}
        },
        {
            "cell_type": "code",
            "source": [
                "SELECT\r\n",
                "    COUNT(*)/COUNT(DISTINCT txn_id) AS avg_unique_products_each_transition\r\n",
                "FROM sales "
            ],
            "metadata": {
                "azdata_cell_guid": "7e01ab31-4327-4ec5-9dca-f5b8175190da",
                "language": "sql"
            },
            "outputs": [
                {
                    "output_type": "display_data",
                    "data": {
                        "text/html": "(1 row affected)"
                    },
                    "metadata": {}
                },
                {
                    "output_type": "display_data",
                    "data": {
                        "text/html": "Total execution time: 00:00:00.015"
                    },
                    "metadata": {}
                },
                {
                    "output_type": "execute_result",
                    "metadata": {},
                    "execution_count": 2,
                    "data": {
                        "application/vnd.dataresource+json": {
                            "schema": {
                                "fields": [
                                    {
                                        "name": "avg_unique_products_each_transition"
                                    }
                                ]
                            },
                            "data": [
                                {
                                    "0": "6"
                                }
                            ]
                        },
                        "text/html": [
                            "<table>",
                            "<tr><th>avg_unique_products_each_transition</th></tr>",
                            "<tr><td>6</td></tr>",
                            "</table>"
                        ]
                    }
                }
            ],
            "execution_count": 2
        },
        {
            "cell_type": "markdown",
            "source": [
                "    3. What are the 25th, 50th and 75th percentile values for the revenue per transaction?"
            ],
            "metadata": {
                "azdata_cell_guid": "626fc08b-2bd5-44c5-8ec4-58dd2830b256"
            },
            "attachments": {}
        },
        {
            "cell_type": "code",
            "source": [
                "WITH tbl AS(\r\n",
                "    SELECT txn_id, SUM(qty*price) AS revenue\r\n",
                "    FROM sales\r\n",
                "    GROUP BY txn_id\r\n",
                ")\r\n",
                "SELECT DISTINCT \r\n",
                "    PERCENTILE_DISC(0.25) WITHIN GROUP(ORDER BY revenue) OVER() as #25th_percentile,\r\n",
                "    PERCENTILE_DISC(0.5) WITHIN GROUP(ORDER BY revenue) OVER() as #50th_percentile,\r\n",
                "    PERCENTILE_DISC(0.75) WITHIN GROUP(ORDER BY revenue) OVER() as #75th_percentile\r\n",
                "FROM tbl"
            ],
            "metadata": {
                "azdata_cell_guid": "f2e860bc-2480-4a3c-a9b1-7362a34d9333",
                "language": "sql"
            },
            "outputs": [
                {
                    "output_type": "display_data",
                    "data": {
                        "text/html": "(1 row affected)"
                    },
                    "metadata": {}
                },
                {
                    "output_type": "display_data",
                    "data": {
                        "text/html": "Total execution time: 00:00:00.075"
                    },
                    "metadata": {}
                },
                {
                    "output_type": "execute_result",
                    "metadata": {},
                    "execution_count": 3,
                    "data": {
                        "application/vnd.dataresource+json": {
                            "schema": {
                                "fields": [
                                    {
                                        "name": "#25th_percentile"
                                    },
                                    {
                                        "name": "#50th_percentile"
                                    },
                                    {
                                        "name": "#75th_percentile"
                                    }
                                ]
                            },
                            "data": [
                                {
                                    "0": "375",
                                    "1": "509",
                                    "2": "647"
                                }
                            ]
                        },
                        "text/html": [
                            "<table>",
                            "<tr><th>#25th_percentile</th><th>#50th_percentile</th><th>#75th_percentile</th></tr>",
                            "<tr><td>375</td><td>509</td><td>647</td></tr>",
                            "</table>"
                        ]
                    }
                }
            ],
            "execution_count": 3
        },
        {
            "cell_type": "markdown",
            "source": [
                "    4. What is the average discount value per transaction?"
            ],
            "metadata": {
                "azdata_cell_guid": "bce75d71-9743-4908-b5f7-e5874df86b4d"
            },
            "attachments": {}
        },
        {
            "cell_type": "code",
            "source": [
                "SELECT \r\n",
                "    SUM(qty * price * (cast(discount as decimal(10,2)) /100) ) / COUNT (distinct txn_id) AS average_discount \r\n",
                "FROM sales ;"
            ],
            "metadata": {
                "azdata_cell_guid": "2ccecc12-cb2a-4882-a7e4-7df73a605d5c",
                "language": "sql"
            },
            "outputs": [
                {
                    "output_type": "display_data",
                    "data": {
                        "text/html": "(1 row affected)"
                    },
                    "metadata": {}
                },
                {
                    "output_type": "display_data",
                    "data": {
                        "text/html": "Total execution time: 00:00:00.103"
                    },
                    "metadata": {}
                },
                {
                    "output_type": "execute_result",
                    "metadata": {},
                    "execution_count": 4,
                    "data": {
                        "application/vnd.dataresource+json": {
                            "schema": {
                                "fields": [
                                    {
                                        "name": "average_discount"
                                    }
                                ]
                            },
                            "data": [
                                {
                                    "0": "62.491656"
                                }
                            ]
                        },
                        "text/html": [
                            "<table>",
                            "<tr><th>average_discount</th></tr>",
                            "<tr><td>62.491656</td></tr>",
                            "</table>"
                        ]
                    }
                }
            ],
            "execution_count": 4
        },
        {
            "cell_type": "markdown",
            "source": [
                "    5. What is the percentage split of all transactions for members vs non-members?"
            ],
            "metadata": {
                "azdata_cell_guid": "bcfb13b5-94c0-4e21-a7c6-4283b9d72bd3"
            },
            "attachments": {}
        },
        {
            "cell_type": "code",
            "source": [
                "WITH tbl AS(\r\n",
                "    SELECT\r\n",
                "        txn_id,\r\n",
                "        member \r\n",
                "    FROM sales\r\n",
                "    GROUP BY txn_id, member \r\n",
                ")\r\n",
                "SELECT \r\n",
                "    100*cast(SUM(CASE WHEN member = 1 THEN 1 END) as float)/COUNT(*) AS perc_member,\r\n",
                "    100*cast(SUM(CASE WHEN member = 0 THEN 1 END) as float)/COUNT(*) AS perc_non_member\r\n",
                "FROM tbl"
            ],
            "metadata": {
                "azdata_cell_guid": "926e76f3-d1fb-4b5b-bb4f-ca201674d355",
                "language": "sql"
            },
            "outputs": [
                {
                    "output_type": "display_data",
                    "data": {
                        "text/html": "Warning: Null value is eliminated by an aggregate or other SET operation."
                    },
                    "metadata": {}
                },
                {
                    "output_type": "display_data",
                    "data": {
                        "text/html": "(1 row affected)"
                    },
                    "metadata": {}
                },
                {
                    "output_type": "display_data",
                    "data": {
                        "text/html": "Total execution time: 00:00:00.042"
                    },
                    "metadata": {}
                },
                {
                    "output_type": "execute_result",
                    "metadata": {},
                    "execution_count": 5,
                    "data": {
                        "application/vnd.dataresource+json": {
                            "schema": {
                                "fields": [
                                    {
                                        "name": "perc_member"
                                    },
                                    {
                                        "name": "perc_non_member"
                                    }
                                ]
                            },
                            "data": [
                                {
                                    "0": "60.2",
                                    "1": "39.8"
                                }
                            ]
                        },
                        "text/html": [
                            "<table>",
                            "<tr><th>perc_member</th><th>perc_non_member</th></tr>",
                            "<tr><td>60.2</td><td>39.8</td></tr>",
                            "</table>"
                        ]
                    }
                }
            ],
            "execution_count": 5
        },
        {
            "cell_type": "markdown",
            "source": [
                "    7. What is the average revenue for member transactions and non-member transactions?"
            ],
            "metadata": {
                "azdata_cell_guid": "deb8b238-5464-402b-9bea-f76241688323"
            },
            "attachments": {}
        },
        {
            "cell_type": "code",
            "source": [
                "WITH tbl AS(\r\n",
                "    SELECT\r\n",
                "        txn_id,\r\n",
                "        member,\r\n",
                "        SUM(qty*price) AS revenue\r\n",
                "    FROM sales\r\n",
                "    GROUP BY txn_id, member \r\n",
                ")\r\n",
                "SELECT \r\n",
                "    member,\r\n",
                "    AVG(revenue) as revenue\r\n",
                "FROM tbl\r\n",
                "GROUP BY member"
            ],
            "metadata": {
                "azdata_cell_guid": "23b06b8a-046f-40ca-ad50-e37b93141853",
                "language": "sql"
            },
            "outputs": [
                {
                    "output_type": "display_data",
                    "data": {
                        "text/html": "(2 rows affected)"
                    },
                    "metadata": {}
                },
                {
                    "output_type": "display_data",
                    "data": {
                        "text/html": "Total execution time: 00:00:00.029"
                    },
                    "metadata": {}
                },
                {
                    "output_type": "execute_result",
                    "metadata": {},
                    "execution_count": 6,
                    "data": {
                        "application/vnd.dataresource+json": {
                            "schema": {
                                "fields": [
                                    {
                                        "name": "member"
                                    },
                                    {
                                        "name": "revenue"
                                    }
                                ]
                            },
                            "data": [
                                {
                                    "0": "0",
                                    "1": "515"
                                },
                                {
                                    "0": "1",
                                    "1": "516"
                                }
                            ]
                        },
                        "text/html": [
                            "<table>",
                            "<tr><th>member</th><th>revenue</th></tr>",
                            "<tr><td>0</td><td>515</td></tr>",
                            "<tr><td>1</td><td>516</td></tr>",
                            "</table>"
                        ]
                    }
                }
            ],
            "execution_count": 6
        }
    ]
}