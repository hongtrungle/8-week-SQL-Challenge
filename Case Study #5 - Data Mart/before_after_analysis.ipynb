{
    "metadata": {
        "kernelspec": {
            "name": "SQL",
            "display_name": "SQL",
            "language": "sql"
        },
        "language_info": {
            "name": "sql",
            "version": ""
        }
    },
    "nbformat_minor": 2,
    "nbformat": 4,
    "cells": [
        {
            "cell_type": "markdown",
            "source": [
                "### 3. Before & After Analysis\r\n",
                "---\r\n",
                "This technique is usually used when we inspect an important event and want to inspect the impact before and after a certain point in time.\r\n",
                "\r\n",
                "Taking the week_date value of 2020-06-15 as the baseline week where the Data Mart sustainable packaging changes came into effect.\r\n",
                "\r\n",
                "We would include all week_date values for 2020-06-15 as the start of the period after the change and the previous week_date values would be before"
            ],
            "metadata": {
                "azdata_cell_guid": "6ebbffc3-cd10-46ee-94fd-5f9cc9916793"
            },
            "attachments": {}
        },
        {
            "cell_type": "markdown",
            "source": [
                "    1. What is the total sales for the 4 weeks before and after 2020-06-15? What is the growth or reduction rate in actual values and percentage of sales?"
            ],
            "metadata": {
                "azdata_cell_guid": "d2c6f0cd-8e8d-4a48-b8ef-d680f02d8fe1"
            },
            "attachments": {}
        },
        {
            "cell_type": "code",
            "source": [
                "WITH tbl AS(\r\n",
                "    SELECT \r\n",
                "        SUM(CASE WHEN DATEPART(WK, week_date) BETWEEN DATEPART(WK, '2020-06-15')-4 AND DATEPART(WK, '2020-06-15')-1 THEN sales ELSE 0 END) as sales_before_change,\r\n",
                "        SUM(CASE WHEN DATEPART(WK, week_date) BETWEEN DATEPART(WK, '2020-06-15') AND DATEPART(WK, '2020-06-15')+3 THEN sales ELSE 0 END) as sales_after_change\r\n",
                "    FROM clean_weekly_sales\r\n",
                "    WHERE calendar_year = '2020'\r\n",
                ")\r\n",
                "SELECT \r\n",
                "    *,\r\n",
                "    (sales_after_change - sales_before_change) AS sales_change,\r\n",
                "    100 * (cast(sales_after_change as float) - sales_before_change) / sales_before_change as rate_change\r\n",
                "FROM tbl\r\n",
                ""
            ],
            "metadata": {
                "azdata_cell_guid": "a0b86aca-9cea-4fbe-86a7-1a1f7d79fc38",
                "language": "sql"
            },
            "outputs": [
                {
                    "output_type": "display_data",
                    "data": {
                        "text/html": "(1 row affected)"
                    },
                    "metadata": {}
                },
                {
                    "output_type": "display_data",
                    "data": {
                        "text/html": "Total execution time: 00:00:00.014"
                    },
                    "metadata": {}
                },
                {
                    "output_type": "execute_result",
                    "metadata": {},
                    "execution_count": 1,
                    "data": {
                        "application/vnd.dataresource+json": {
                            "schema": {
                                "fields": [
                                    {
                                        "name": "sales_before_change"
                                    },
                                    {
                                        "name": "sales_after_change"
                                    },
                                    {
                                        "name": "sales_change"
                                    },
                                    {
                                        "name": "rate_change"
                                    }
                                ]
                            },
                            "data": [
                                {
                                    "0": "2345878357",
                                    "1": "2318994169",
                                    "2": "-26884188",
                                    "3": "-1.1460179902243754"
                                }
                            ]
                        },
                        "text/html": [
                            "<table>",
                            "<tr><th>sales_before_change</th><th>sales_after_change</th><th>sales_change</th><th>rate_change</th></tr>",
                            "<tr><td>2345878357</td><td>2318994169</td><td>-26884188</td><td>-1.1460179902243754</td></tr>",
                            "</table>"
                        ]
                    }
                }
            ],
            "execution_count": 1
        },
        {
            "cell_type": "markdown",
            "source": [
                "    2. What about the entire 12 weeks before and after?"
            ],
            "metadata": {
                "azdata_cell_guid": "bec7f160-84c7-4b58-aa34-5393d2af0db6"
            },
            "attachments": {}
        },
        {
            "cell_type": "code",
            "source": [
                "WITH tbl AS(\r\n",
                "    SELECT \r\n",
                "        SUM(CASE WHEN DATEPART(WK, week_date) BETWEEN DATEPART(WK, '2020-06-15')-12 AND DATEPART(WK, '2020-06-15')-1 THEN sales ELSE 0 END) as sales_before_change,\r\n",
                "        SUM(CASE WHEN DATEPART(WK, week_date) BETWEEN DATEPART(WK, '2020-06-15') AND DATEPART(WK, '2020-06-15')+11 THEN sales ELSE 0 END) as sales_after_change\r\n",
                "    FROM clean_weekly_sales\r\n",
                "    WHERE calendar_year = '2020'\r\n",
                ")\r\n",
                "SELECT \r\n",
                "    *,\r\n",
                "    (sales_after_change - sales_before_change) AS sales_change,\r\n",
                "    100 * (cast(sales_after_change as float) - sales_before_change) / sales_before_change as rate_change\r\n",
                "FROM tbl\r\n",
                ""
            ],
            "metadata": {
                "azdata_cell_guid": "e91a6550-85b1-429b-9a1a-106fd826415c",
                "language": "sql"
            },
            "outputs": [
                {
                    "output_type": "display_data",
                    "data": {
                        "text/html": "(1 row affected)"
                    },
                    "metadata": {}
                },
                {
                    "output_type": "display_data",
                    "data": {
                        "text/html": "Total execution time: 00:00:00.021"
                    },
                    "metadata": {}
                },
                {
                    "output_type": "execute_result",
                    "metadata": {},
                    "execution_count": 2,
                    "data": {
                        "application/vnd.dataresource+json": {
                            "schema": {
                                "fields": [
                                    {
                                        "name": "sales_before_change"
                                    },
                                    {
                                        "name": "sales_after_change"
                                    },
                                    {
                                        "name": "sales_change"
                                    },
                                    {
                                        "name": "rate_change"
                                    }
                                ]
                            },
                            "data": [
                                {
                                    "0": "7126273147",
                                    "1": "6973947753",
                                    "2": "-152325394",
                                    "3": "-2.1375183192932417"
                                }
                            ]
                        },
                        "text/html": [
                            "<table>",
                            "<tr><th>sales_before_change</th><th>sales_after_change</th><th>sales_change</th><th>rate_change</th></tr>",
                            "<tr><td>7126273147</td><td>6973947753</td><td>-152325394</td><td>-2.1375183192932417</td></tr>",
                            "</table>"
                        ]
                    }
                }
            ],
            "execution_count": 2
        },
        {
            "cell_type": "markdown",
            "source": [
                "    3. How do the sale metrics for these 2 periods before and after compare with the previous years in 2018 and 2019?"
            ],
            "metadata": {
                "azdata_cell_guid": "2810b0aa-e54a-485c-b9b1-23b600fc0ffb"
            },
            "attachments": {}
        },
        {
            "cell_type": "markdown",
            "source": [
                "\\- How do the sale metrics for 4 weeks before and after compare with the previous years in 2018 and 2019?"
            ],
            "metadata": {
                "azdata_cell_guid": "4916f1ba-31a5-4a0d-be8d-a122c8fdfd4a"
            },
            "attachments": {}
        },
        {
            "cell_type": "code",
            "source": [
                "WITH tbl AS(\r\n",
                "    SELECT \r\n",
                "        calendar_year,\r\n",
                "        SUM(CASE WHEN DATEPART(WK, week_date) BETWEEN DATEPART(WK, '2020-06-15')-4 AND DATEPART(WK, '2020-06-15')-1 THEN sales ELSE 0 END) as sales_before_change,\r\n",
                "        SUM(CASE WHEN DATEPART(WK, week_date) BETWEEN DATEPART(WK, '2020-06-15') AND DATEPART(WK, '2020-06-15')+3 THEN sales ELSE 0 END) as sales_after_change\r\n",
                "    FROM clean_weekly_sales\r\n",
                "    GROUP BY calendar_year\r\n",
                ")\r\n",
                "SELECT \r\n",
                "    *,\r\n",
                "    (sales_after_change - sales_before_change) AS sales_change,\r\n",
                "    100 * (cast(sales_after_change as float) - sales_before_change) / sales_before_change as rate_change\r\n",
                "FROM tbl\r\n",
                "ORDER BY calendar_year"
            ],
            "metadata": {
                "azdata_cell_guid": "baf32f18-4d9d-4a18-8def-e5cef6a7040d",
                "language": "sql"
            },
            "outputs": [
                {
                    "output_type": "display_data",
                    "data": {
                        "text/html": "(3 rows affected)"
                    },
                    "metadata": {}
                },
                {
                    "output_type": "display_data",
                    "data": {
                        "text/html": "Total execution time: 00:00:00.033"
                    },
                    "metadata": {}
                },
                {
                    "output_type": "execute_result",
                    "metadata": {},
                    "execution_count": 3,
                    "data": {
                        "application/vnd.dataresource+json": {
                            "schema": {
                                "fields": [
                                    {
                                        "name": "calendar_year"
                                    },
                                    {
                                        "name": "sales_before_change"
                                    },
                                    {
                                        "name": "sales_after_change"
                                    },
                                    {
                                        "name": "sales_change"
                                    },
                                    {
                                        "name": "rate_change"
                                    }
                                ]
                            },
                            "data": [
                                {
                                    "0": "2018",
                                    "1": "2125140809",
                                    "2": "2129242914",
                                    "3": "4102105",
                                    "4": "0.1930274447051946"
                                },
                                {
                                    "0": "2019",
                                    "1": "2249989796",
                                    "2": "2252326390",
                                    "3": "2336594",
                                    "4": "0.10384909318939863"
                                },
                                {
                                    "0": "2020",
                                    "1": "2345878357",
                                    "2": "2318994169",
                                    "3": "-26884188",
                                    "4": "-1.1460179902243754"
                                }
                            ]
                        },
                        "text/html": [
                            "<table>",
                            "<tr><th>calendar_year</th><th>sales_before_change</th><th>sales_after_change</th><th>sales_change</th><th>rate_change</th></tr>",
                            "<tr><td>2018</td><td>2125140809</td><td>2129242914</td><td>4102105</td><td>0.1930274447051946</td></tr>",
                            "<tr><td>2019</td><td>2249989796</td><td>2252326390</td><td>2336594</td><td>0.10384909318939863</td></tr>",
                            "<tr><td>2020</td><td>2345878357</td><td>2318994169</td><td>-26884188</td><td>-1.1460179902243754</td></tr>",
                            "</table>"
                        ]
                    }
                }
            ],
            "execution_count": 3
        },
        {
            "cell_type": "markdown",
            "source": [
                "\\- How do the sale metrics for 12 weeks before and after compare with the previous years in 2018 and 2019?"
            ],
            "metadata": {
                "azdata_cell_guid": "91c124e5-a7bb-41f9-b01a-397fc75c15dc"
            },
            "attachments": {}
        },
        {
            "cell_type": "code",
            "source": [
                "WITH tbl AS(\r\n",
                "    SELECT \r\n",
                "        calendar_year,\r\n",
                "        SUM(CASE WHEN DATEPART(WK, week_date) BETWEEN DATEPART(WK, '2020-06-15')-12 AND DATEPART(WK, '2020-06-15')-1 THEN sales ELSE 0 END) as sales_before_change,\r\n",
                "        SUM(CASE WHEN DATEPART(WK, week_date) BETWEEN DATEPART(WK, '2020-06-15') AND DATEPART(WK, '2020-06-15')+11 THEN sales ELSE 0 END) as sales_after_change\r\n",
                "    FROM clean_weekly_sales\r\n",
                "    GROUP BY calendar_year\r\n",
                ")\r\n",
                "SELECT \r\n",
                "    *,\r\n",
                "    (sales_after_change - sales_before_change) AS sales_change,\r\n",
                "    100 * (cast(sales_after_change as float) - sales_before_change) / sales_before_change as rate_change\r\n",
                "FROM tbl\r\n",
                "ORDER BY calendar_year"
            ],
            "metadata": {
                "azdata_cell_guid": "df6442cf-0889-4f5e-b161-967e3c4814c0",
                "language": "sql"
            },
            "outputs": [
                {
                    "output_type": "display_data",
                    "data": {
                        "text/html": "(3 rows affected)"
                    },
                    "metadata": {}
                },
                {
                    "output_type": "display_data",
                    "data": {
                        "text/html": "Total execution time: 00:00:00.064"
                    },
                    "metadata": {}
                },
                {
                    "output_type": "execute_result",
                    "metadata": {},
                    "execution_count": 4,
                    "data": {
                        "application/vnd.dataresource+json": {
                            "schema": {
                                "fields": [
                                    {
                                        "name": "calendar_year"
                                    },
                                    {
                                        "name": "sales_before_change"
                                    },
                                    {
                                        "name": "sales_after_change"
                                    },
                                    {
                                        "name": "sales_change"
                                    },
                                    {
                                        "name": "rate_change"
                                    }
                                ]
                            },
                            "data": [
                                {
                                    "0": "2018",
                                    "1": "6396562317",
                                    "2": "6500818510",
                                    "3": "104256193",
                                    "4": "1.6298784852438732"
                                },
                                {
                                    "0": "2019",
                                    "1": "6883386397",
                                    "2": "6862646103",
                                    "3": "-20740294",
                                    "4": "-0.30130945444293644"
                                },
                                {
                                    "0": "2020",
                                    "1": "7126273147",
                                    "2": "6973947753",
                                    "3": "-152325394",
                                    "4": "-2.1375183192932417"
                                }
                            ]
                        },
                        "text/html": [
                            "<table>",
                            "<tr><th>calendar_year</th><th>sales_before_change</th><th>sales_after_change</th><th>sales_change</th><th>rate_change</th></tr>",
                            "<tr><td>2018</td><td>6396562317</td><td>6500818510</td><td>104256193</td><td>1.6298784852438732</td></tr>",
                            "<tr><td>2019</td><td>6883386397</td><td>6862646103</td><td>-20740294</td><td>-0.30130945444293644</td></tr>",
                            "<tr><td>2020</td><td>7126273147</td><td>6973947753</td><td>-152325394</td><td>-2.1375183192932417</td></tr>",
                            "</table>"
                        ]
                    }
                }
            ],
            "execution_count": 4
        }
    ]
}