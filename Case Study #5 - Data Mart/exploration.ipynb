{
    "metadata": {
        "kernelspec": {
            "name": "SQL",
            "display_name": "SQL",
            "language": "sql"
        },
        "language_info": {
            "name": "sql",
            "version": ""
        }
    },
    "nbformat_minor": 2,
    "nbformat": 4,
    "cells": [
        {
            "cell_type": "markdown",
            "source": [
                "### 2. Data exploration\r\n",
                "---\r\n",
                "    1. What day of the week is used for each week_date value?"
            ],
            "metadata": {
                "azdata_cell_guid": "580e4771-0289-44a5-97ef-0e74529f93db"
            },
            "attachments": {}
        },
        {
            "cell_type": "code",
            "source": [
                "SELECT \r\n",
                "    DISTINCT DATENAME(WEEKDAY, week_date) as week_day\r\n",
                "FROM clean_weekly_sales"
            ],
            "metadata": {
                "azdata_cell_guid": "4b4f2ea9-297b-49bd-8b4e-78dcb97011f5",
                "language": "sql"
            },
            "outputs": [
                {
                    "output_type": "display_data",
                    "data": {
                        "text/html": "(1 row affected)"
                    },
                    "metadata": {}
                },
                {
                    "output_type": "display_data",
                    "data": {
                        "text/html": "Total execution time: 00:00:01.083"
                    },
                    "metadata": {}
                },
                {
                    "output_type": "execute_result",
                    "metadata": {},
                    "execution_count": 1,
                    "data": {
                        "application/vnd.dataresource+json": {
                            "schema": {
                                "fields": [
                                    {
                                        "name": "week_day"
                                    }
                                ]
                            },
                            "data": [
                                {
                                    "0": "Monday"
                                }
                            ]
                        },
                        "text/html": [
                            "<table>",
                            "<tr><th>week_day</th></tr>",
                            "<tr><td>Monday</td></tr>",
                            "</table>"
                        ]
                    }
                }
            ],
            "execution_count": 1
        },
        {
            "cell_type": "markdown",
            "source": [
                "    2.  What range of week numbers are missing from the dataset?"
            ],
            "metadata": {
                "language": "sql",
                "azdata_cell_guid": "c8bd65cd-7dc2-41e0-9416-53e5b440aef6"
            },
            "attachments": {}
        },
        {
            "cell_type": "code",
            "source": [
                "WITH numbers_week AS (\r\n",
                "    SELECT 52 as week_number_year\r\n",
                "    UNION all\r\n",
                "    SELECT week_number_year - 1\r\n",
                "    FROM numbers_week\r\n",
                "    WHERE week_number_year > 1\r\n",
                "),\r\n",
                "WEEK_data as (\r\n",
                "    SELECT DISTINCT week_number\r\n",
                "    FROM clean_weekly_sales\r\n",
                ")\r\n",
                "SELECT COUNT(*) AS missing_weeks\r\n",
                "FROM numbers_week w1 \r\n",
                "LEFT JOIN WEEK_data w2 ON w1.week_number_year = w2.week_number\r\n",
                "WHERE week_number is NULL;"
            ],
            "metadata": {
                "azdata_cell_guid": "bcb3c7bf-cc91-4a0d-893d-ab99d96aec95",
                "language": "sql"
            },
            "outputs": [
                {
                    "output_type": "display_data",
                    "data": {
                        "text/html": "(1 row affected)"
                    },
                    "metadata": {}
                },
                {
                    "output_type": "display_data",
                    "data": {
                        "text/html": "Total execution time: 00:00:00.369"
                    },
                    "metadata": {}
                },
                {
                    "output_type": "execute_result",
                    "metadata": {},
                    "execution_count": 2,
                    "data": {
                        "application/vnd.dataresource+json": {
                            "schema": {
                                "fields": [
                                    {
                                        "name": "missing_weeks"
                                    }
                                ]
                            },
                            "data": [
                                {
                                    "0": "28"
                                }
                            ]
                        },
                        "text/html": [
                            "<table>",
                            "<tr><th>missing_weeks</th></tr>",
                            "<tr><td>28</td></tr>",
                            "</table>"
                        ]
                    }
                }
            ],
            "execution_count": 2
        },
        {
            "cell_type": "markdown",
            "source": [
                "    3. How many total transactions were there for each year in the dataset?"
            ],
            "metadata": {
                "azdata_cell_guid": "9418e6fc-9240-474b-9a18-6b996683b287"
            },
            "attachments": {}
        },
        {
            "cell_type": "code",
            "source": [
                "SELECT\r\n",
                "    calendar_year,\r\n",
                "    SUM(transactions) as total_transactions\r\n",
                "FROM clean_weekly_sales\r\n",
                "GROUP BY calendar_year\r\n",
                "ORDER BY calendar_year"
            ],
            "metadata": {
                "azdata_cell_guid": "66509687-005e-4790-a338-cff3266dc467",
                "language": "sql"
            },
            "outputs": [
                {
                    "output_type": "display_data",
                    "data": {
                        "text/html": "(3 rows affected)"
                    },
                    "metadata": {}
                },
                {
                    "output_type": "display_data",
                    "data": {
                        "text/html": "Total execution time: 00:00:00.046"
                    },
                    "metadata": {}
                },
                {
                    "output_type": "execute_result",
                    "metadata": {},
                    "execution_count": 3,
                    "data": {
                        "application/vnd.dataresource+json": {
                            "schema": {
                                "fields": [
                                    {
                                        "name": "calendar_year"
                                    },
                                    {
                                        "name": "total_transactions"
                                    }
                                ]
                            },
                            "data": [
                                {
                                    "0": "2018",
                                    "1": "346406460"
                                },
                                {
                                    "0": "2019",
                                    "1": "365639285"
                                },
                                {
                                    "0": "2020",
                                    "1": "375813651"
                                }
                            ]
                        },
                        "text/html": [
                            "<table>",
                            "<tr><th>calendar_year</th><th>total_transactions</th></tr>",
                            "<tr><td>2018</td><td>346406460</td></tr>",
                            "<tr><td>2019</td><td>365639285</td></tr>",
                            "<tr><td>2020</td><td>375813651</td></tr>",
                            "</table>"
                        ]
                    }
                }
            ],
            "execution_count": 3
        },
        {
            "cell_type": "markdown",
            "source": [
                "    4. What is the total sales for each region for each month?"
            ],
            "metadata": {
                "azdata_cell_guid": "08071de8-0a46-488f-9420-e15baa0e25bd"
            },
            "attachments": {}
        },
        {
            "cell_type": "code",
            "source": [
                "ALTER TABLE clean_weekly_sales\r\n",
                "ALTER COLUMN sales BIGINT \r\n",
                "\r\n",
                "SELECT\r\n",
                "    region,\r\n",
                "    calendar_year,\r\n",
                "    month_number,\r\n",
                "    SUM(sales) as total_sales\r\n",
                "FROM clean_weekly_sales\r\n",
                "GROUP BY region, month_number, calendar_year\r\n",
                "ORDER BY region, month_number, calendar_year"
            ],
            "metadata": {
                "azdata_cell_guid": "543bc3d7-daf7-4988-895e-19982cfa4f22",
                "language": "sql"
            },
            "outputs": [
                {
                    "output_type": "display_data",
                    "data": {
                        "text/html": "(140 rows affected)"
                    },
                    "metadata": {}
                },
                {
                    "output_type": "display_data",
                    "data": {
                        "text/html": "Total execution time: 00:00:01.356"
                    },
                    "metadata": {}
                },
                {
                    "output_type": "execute_result",
                    "metadata": {},
                    "execution_count": 4,
                    "data": {
                        "application/vnd.dataresource+json": {
                            "schema": {
                                "fields": [
                                    {
                                        "name": "region"
                                    },
                                    {
                                        "name": "calendar_year"
                                    },
                                    {
                                        "name": "month_number"
                                    },
                                    {
                                        "name": "total_sales"
                                    }
                                ]
                            },
                            "data": [
                                {
                                    "0": "AFRICA",
                                    "1": "2018",
                                    "2": "3",
                                    "3": "130542213"
                                },
                                {
                                    "0": "AFRICA",
                                    "1": "2019",
                                    "2": "3",
                                    "3": "141619349"
                                },
                                {
                                    "0": "AFRICA",
                                    "1": "2020",
                                    "2": "3",
                                    "3": "295605918"
                                },
                                {
                                    "0": "AFRICA",
                                    "1": "2018",
                                    "2": "4",
                                    "3": "650194751"
                                },
                                {
                                    "0": "AFRICA",
                                    "1": "2019",
                                    "2": "4",
                                    "3": "700447301"
                                },
                                {
                                    "0": "AFRICA",
                                    "1": "2020",
                                    "2": "4",
                                    "3": "561141452"
                                },
                                {
                                    "0": "AFRICA",
                                    "1": "2018",
                                    "2": "5",
                                    "3": "522814997"
                                },
                                {
                                    "0": "AFRICA",
                                    "1": "2019",
                                    "2": "5",
                                    "3": "553828220"
                                },
                                {
                                    "0": "AFRICA",
                                    "1": "2020",
                                    "2": "5",
                                    "3": "570601521"
                                },
                                {
                                    "0": "AFRICA",
                                    "1": "2018",
                                    "2": "6",
                                    "3": "519127094"
                                },
                                {
                                    "0": "AFRICA",
                                    "1": "2019",
                                    "2": "6",
                                    "3": "546092640"
                                },
                                {
                                    "0": "AFRICA",
                                    "1": "2020",
                                    "2": "6",
                                    "3": "702340026"
                                },
                                {
                                    "0": "AFRICA",
                                    "1": "2018",
                                    "2": "7",
                                    "3": "674135866"
                                },
                                {
                                    "0": "AFRICA",
                                    "1": "2019",
                                    "2": "7",
                                    "3": "711867600"
                                },
                                {
                                    "0": "AFRICA",
                                    "1": "2020",
                                    "2": "7",
                                    "3": "574216244"
                                },
                                {
                                    "0": "AFRICA",
                                    "1": "2018",
                                    "2": "8",
                                    "3": "539077371"
                                },
                                {
                                    "0": "AFRICA",
                                    "1": "2019",
                                    "2": "8",
                                    "3": "564497281"
                                },
                                {
                                    "0": "AFRICA",
                                    "1": "2020",
                                    "2": "8",
                                    "3": "706022238"
                                },
                                {
                                    "0": "AFRICA",
                                    "1": "2018",
                                    "2": "9",
                                    "3": "135084533"
                                },
                                {
                                    "0": "AFRICA",
                                    "1": "2019",
                                    "2": "9",
                                    "3": "141236454"
                                },
                                {
                                    "0": "ASIA",
                                    "1": "2018",
                                    "2": "3",
                                    "3": "119180883"
                                },
                                {
                                    "0": "ASIA",
                                    "1": "2019",
                                    "2": "3",
                                    "3": "129174041"
                                },
                                {
                                    "0": "ASIA",
                                    "1": "2020",
                                    "2": "3",
                                    "3": "281415869"
                                },
                                {
                                    "0": "ASIA",
                                    "1": "2018",
                                    "2": "4",
                                    "3": "603716301"
                                },
                                {
                                    "0": "ASIA",
                                    "1": "2019",
                                    "2": "4",
                                    "3": "654973051"
                                },
                                {
                                    "0": "ASIA",
                                    "1": "2020",
                                    "2": "4",
                                    "3": "545939355"
                                },
                                {
                                    "0": "ASIA",
                                    "1": "2018",
                                    "2": "5",
                                    "3": "472634283"
                                },
                                {
                                    "0": "ASIA",
                                    "1": "2019",
                                    "2": "5",
                                    "3": "511773780"
                                },
                                {
                                    "0": "ASIA",
                                    "1": "2020",
                                    "2": "5",
                                    "3": "541877336"
                                },
                                {
                                    "0": "ASIA",
                                    "1": "2018",
                                    "2": "6",
                                    "3": "462233474"
                                },
                                {
                                    "0": "ASIA",
                                    "1": "2019",
                                    "2": "6",
                                    "3": "498386324"
                                },
                                {
                                    "0": "ASIA",
                                    "1": "2020",
                                    "2": "6",
                                    "3": "658863091"
                                },
                                {
                                    "0": "ASIA",
                                    "1": "2018",
                                    "2": "7",
                                    "3": "602910228"
                                },
                                {
                                    "0": "ASIA",
                                    "1": "2019",
                                    "2": "7",
                                    "3": "635366443"
                                },
                                {
                                    "0": "ASIA",
                                    "1": "2020",
                                    "2": "7",
                                    "3": "530568085"
                                },
                                {
                                    "0": "ASIA",
                                    "1": "2018",
                                    "2": "8",
                                    "3": "486137188"
                                },
                                {
                                    "0": "ASIA",
                                    "1": "2019",
                                    "2": "8",
                                    "3": "514795070"
                                },
                                {
                                    "0": "ASIA",
                                    "1": "2020",
                                    "2": "8",
                                    "3": "662388351"
                                },
                                {
                                    "0": "ASIA",
                                    "1": "2018",
                                    "2": "9",
                                    "3": "122529255"
                                },
                                {
                                    "0": "ASIA",
                                    "1": "2019",
                                    "2": "9",
                                    "3": "130307552"
                                },
                                {
                                    "0": "CANADA",
                                    "1": "2018",
                                    "2": "3",
                                    "3": "33815571"
                                },
                                {
                                    "0": "CANADA",
                                    "1": "2019",
                                    "2": "3",
                                    "3": "36087248"
                                },
                                {
                                    "0": "CANADA",
                                    "1": "2020",
                                    "2": "3",
                                    "3": "74731510"
                                },
                                {
                                    "0": "CANADA",
                                    "1": "2018",
                                    "2": "4",
                                    "3": "163479820"
                                },
                                {
                                    "0": "CANADA",
                                    "1": "2019",
                                    "2": "4",
                                    "3": "179830236"
                                },
                                {
                                    "0": "CANADA",
                                    "1": "2020",
                                    "2": "4",
                                    "3": "141242538"
                                },
                                {
                                    "0": "CANADA",
                                    "1": "2018",
                                    "2": "5",
                                    "3": "130367940"
                                },
                                {
                                    "0": "CANADA",
                                    "1": "2019",
                                    "2": "5",
                                    "3": "140979946"
                                },
                                {
                                    "0": "CANADA",
                                    "1": "2020",
                                    "2": "5",
                                    "3": "141030479"
                                },
                                {
                                    "0": "CANADA",
                                    "1": "2018",
                                    "2": "6",
                                    "3": "130410790"
                                },
                                {
                                    "0": "CANADA",
                                    "1": "2019",
                                    "2": "6",
                                    "3": "138690815"
                                },
                                {
                                    "0": "CANADA",
                                    "1": "2020",
                                    "2": "6",
                                    "3": "174745093"
                                },
                                {
                                    "0": "CANADA",
                                    "1": "2018",
                                    "2": "7",
                                    "3": "164198426"
                                },
                                {
                                    "0": "CANADA",
                                    "1": "2019",
                                    "2": "7",
                                    "3": "173991586"
                                },
                                {
                                    "0": "CANADA",
                                    "1": "2020",
                                    "2": "7",
                                    "3": "138944935"
                                },
                                {
                                    "0": "CANADA",
                                    "1": "2018",
                                    "2": "8",
                                    "3": "133635800"
                                },
                                {
                                    "0": "CANADA",
                                    "1": "2019",
                                    "2": "8",
                                    "3": "139428879"
                                },
                                {
                                    "0": "CANADA",
                                    "1": "2020",
                                    "2": "8",
                                    "3": "174008340"
                                },
                                {
                                    "0": "CANADA",
                                    "1": "2018",
                                    "2": "9",
                                    "3": "34042238"
                                },
                                {
                                    "0": "CANADA",
                                    "1": "2019",
                                    "2": "9",
                                    "3": "35025721"
                                },
                                {
                                    "0": "EUROPE",
                                    "1": "2018",
                                    "2": "3",
                                    "3": "8402183"
                                },
                                {
                                    "0": "EUROPE",
                                    "1": "2019",
                                    "2": "3",
                                    "3": "8989328"
                                },
                                {
                                    "0": "EUROPE",
                                    "1": "2020",
                                    "2": "3",
                                    "3": "17945582"
                                },
                                {
                                    "0": "EUROPE",
                                    "1": "2018",
                                    "2": "4",
                                    "3": "44549418"
                                },
                                {
                                    "0": "EUROPE",
                                    "1": "2019",
                                    "2": "4",
                                    "3": "46983044"
                                },
                                {
                                    "0": "EUROPE",
                                    "1": "2020",
                                    "2": "4",
                                    "3": "35801793"
                                },
                                {
                                    "0": "EUROPE",
                                    "1": "2018",
                                    "2": "5",
                                    "3": "36492553"
                                },
                                {
                                    "0": "EUROPE",
                                    "1": "2019",
                                    "2": "5",
                                    "3": "36446510"
                                },
                                {
                                    "0": "EUROPE",
                                    "1": "2020",
                                    "2": "5",
                                    "3": "36399326"
                                },
                                {
                                    "0": "EUROPE",
                                    "1": "2018",
                                    "2": "6",
                                    "3": "38998277"
                                },
                                {
                                    "0": "EUROPE",
                                    "1": "2019",
                                    "2": "6",
                                    "3": "36464369"
                                },
                                {
                                    "0": "EUROPE",
                                    "1": "2020",
                                    "2": "6",
                                    "3": "47351180"
                                },
                                {
                                    "0": "EUROPE",
                                    "1": "2018",
                                    "2": "7",
                                    "3": "50535910"
                                },
                                {
                                    "0": "EUROPE",
                                    "1": "2019",
                                    "2": "7",
                                    "3": "47154102"
                                },
                                {
                                    "0": "EUROPE",
                                    "1": "2020",
                                    "2": "7",
                                    "3": "39067454"
                                },
                                {
                                    "0": "EUROPE",
                                    "1": "2018",
                                    "2": "8",
                                    "3": "39104650"
                                },
                                {
                                    "0": "EUROPE",
                                    "1": "2019",
                                    "2": "8",
                                    "3": "36638154"
                                },
                                {
                                    "0": "EUROPE",
                                    "1": "2020",
                                    "2": "8",
                                    "3": "46360191"
                                },
                                {
                                    "0": "EUROPE",
                                    "1": "2018",
                                    "2": "9",
                                    "3": "9777575"
                                },
                                {
                                    "0": "EUROPE",
                                    "1": "2019",
                                    "2": "9",
                                    "3": "9099858"
                                },
                                {
                                    "0": "OCEANIA",
                                    "1": "2018",
                                    "2": "3",
                                    "3": "175777460"
                                },
                                {
                                    "0": "OCEANIA",
                                    "1": "2019",
                                    "2": "3",
                                    "3": "192331207"
                                },
                                {
                                    "0": "OCEANIA",
                                    "1": "2020",
                                    "2": "3",
                                    "3": "415174221"
                                },
                                {
                                    "0": "OCEANIA",
                                    "1": "2018",
                                    "2": "4",
                                    "3": "869324594"
                                },
                                {
                                    "0": "OCEANIA",
                                    "1": "2019",
                                    "2": "4",
                                    "3": "953735279"
                                },
                                {
                                    "0": "OCEANIA",
                                    "1": "2020",
                                    "2": "4",
                                    "3": "776707747"
                                },
                                {
                                    "0": "OCEANIA",
                                    "1": "2018",
                                    "2": "5",
                                    "3": "692610094"
                                },
                                {
                                    "0": "OCEANIA",
                                    "1": "2019",
                                    "2": "5",
                                    "3": "746580473"
                                },
                                {
                                    "0": "OCEANIA",
                                    "1": "2020",
                                    "2": "5",
                                    "3": "776466737"
                                },
                                {
                                    "0": "OCEANIA",
                                    "1": "2018",
                                    "2": "6",
                                    "3": "687546255"
                                },
                                {
                                    "0": "OCEANIA",
                                    "1": "2019",
                                    "2": "6",
                                    "3": "732354251"
                                },
                                {
                                    "0": "OCEANIA",
                                    "1": "2020",
                                    "2": "6",
                                    "3": "951984238"
                                },
                                {
                                    "0": "OCEANIA",
                                    "1": "2018",
                                    "2": "7",
                                    "3": "871333919"
                                },
                                {
                                    "0": "OCEANIA",
                                    "1": "2019",
                                    "2": "7",
                                    "3": "934476631"
                                },
                                {
                                    "0": "OCEANIA",
                                    "1": "2020",
                                    "2": "7",
                                    "3": "757648850"
                                },
                                {
                                    "0": "OCEANIA",
                                    "1": "2018",
                                    "2": "8",
                                    "3": "714036679"
                                },
                                {
                                    "0": "OCEANIA",
                                    "1": "2019",
                                    "2": "8",
                                    "3": "759346286"
                                },
                                {
                                    "0": "OCEANIA",
                                    "1": "2020",
                                    "2": "8",
                                    "3": "958930687"
                                },
                                {
                                    "0": "OCEANIA",
                                    "1": "2018",
                                    "2": "9",
                                    "3": "180310608"
                                },
                                {
                                    "0": "OCEANIA",
                                    "1": "2019",
                                    "2": "9",
                                    "3": "192154910"
                                },
                                {
                                    "0": "SOUTH AMERICA",
                                    "1": "2018",
                                    "2": "3",
                                    "3": "16302144"
                                },
                                {
                                    "0": "SOUTH AMERICA",
                                    "1": "2019",
                                    "2": "3",
                                    "3": "17351683"
                                },
                                {
                                    "0": "SOUTH AMERICA",
                                    "1": "2020",
                                    "2": "3",
                                    "3": "37369282"
                                },
                                {
                                    "0": "SOUTH AMERICA",
                                    "1": "2018",
                                    "2": "4",
                                    "3": "80814046"
                                },
                                {
                                    "0": "SOUTH AMERICA",
                                    "1": "2019",
                                    "2": "4",
                                    "3": "87069807"
                                },
                                {
                                    "0": "SOUTH AMERICA",
                                    "1": "2020",
                                    "2": "4",
                                    "3": "70567678"
                                },
                                {
                                    "0": "SOUTH AMERICA",
                                    "1": "2018",
                                    "2": "5",
                                    "3": "63685837"
                                },
                                {
                                    "0": "SOUTH AMERICA",
                                    "1": "2019",
                                    "2": "5",
                                    "3": "67552363"
                                },
                                {
                                    "0": "SOUTH AMERICA",
                                    "1": "2020",
                                    "2": "5",
                                    "3": "70153609"
                                },
                                {
                                    "0": "SOUTH AMERICA",
                                    "1": "2018",
                                    "2": "6",
                                    "3": "63764243"
                                },
                                {
                                    "0": "SOUTH AMERICA",
                                    "1": "2019",
                                    "2": "6",
                                    "3": "67122227"
                                },
                                {
                                    "0": "SOUTH AMERICA",
                                    "1": "2020",
                                    "2": "6",
                                    "3": "87360985"
                                },
                                {
                                    "0": "SOUTH AMERICA",
                                    "1": "2018",
                                    "2": "7",
                                    "3": "81690746"
                                },
                                {
                                    "0": "SOUTH AMERICA",
                                    "1": "2019",
                                    "2": "7",
                                    "3": "84577363"
                                },
                                {
                                    "0": "SOUTH AMERICA",
                                    "1": "2020",
                                    "2": "7",
                                    "3": "69314667"
                                },
                                {
                                    "0": "SOUTH AMERICA",
                                    "1": "2018",
                                    "2": "8",
                                    "3": "66079697"
                                },
                                {
                                    "0": "SOUTH AMERICA",
                                    "1": "2019",
                                    "2": "8",
                                    "3": "68364336"
                                },
                                {
                                    "0": "SOUTH AMERICA",
                                    "1": "2020",
                                    "2": "8",
                                    "3": "86722019"
                                },
                                {
                                    "0": "SOUTH AMERICA",
                                    "1": "2018",
                                    "2": "9",
                                    "3": "16932862"
                                },
                                {
                                    "0": "SOUTH AMERICA",
                                    "1": "2019",
                                    "2": "9",
                                    "3": "17242721"
                                },
                                {
                                    "0": "USA",
                                    "1": "2018",
                                    "2": "3",
                                    "3": "52734998"
                                },
                                {
                                    "0": "USA",
                                    "1": "2019",
                                    "2": "3",
                                    "3": "55764198"
                                },
                                {
                                    "0": "USA",
                                    "1": "2020",
                                    "2": "3",
                                    "3": "116853847"
                                },
                                {
                                    "0": "USA",
                                    "1": "2018",
                                    "2": "4",
                                    "3": "260725717"
                                },
                                {
                                    "0": "USA",
                                    "1": "2019",
                                    "2": "4",
                                    "3": "277108603"
                                },
                                {
                                    "0": "USA",
                                    "1": "2020",
                                    "2": "4",
                                    "3": "221952003"
                                },
                                {
                                    "0": "USA",
                                    "1": "2018",
                                    "2": "5",
                                    "3": "210050720"
                                },
                                {
                                    "0": "USA",
                                    "1": "2019",
                                    "2": "5",
                                    "3": "220370520"
                                },
                                {
                                    "0": "USA",
                                    "1": "2020",
                                    "2": "5",
                                    "3": "225545881"
                                },
                                {
                                    "0": "USA",
                                    "1": "2018",
                                    "2": "6",
                                    "3": "206372070"
                                },
                                {
                                    "0": "USA",
                                    "1": "2019",
                                    "2": "6",
                                    "3": "219743295"
                                },
                                {
                                    "0": "USA",
                                    "1": "2020",
                                    "2": "6",
                                    "3": "277763625"
                                },
                                {
                                    "0": "USA",
                                    "1": "2018",
                                    "2": "7",
                                    "3": "262393377"
                                },
                                {
                                    "0": "USA",
                                    "1": "2019",
                                    "2": "7",
                                    "3": "274203066"
                                },
                                {
                                    "0": "USA",
                                    "1": "2020",
                                    "2": "7",
                                    "3": "223735311"
                                },
                                {
                                    "0": "USA",
                                    "1": "2018",
                                    "2": "8",
                                    "3": "212470882"
                                },
                                {
                                    "0": "USA",
                                    "1": "2019",
                                    "2": "8",
                                    "3": "222170302"
                                },
                                {
                                    "0": "USA",
                                    "1": "2020",
                                    "2": "8",
                                    "3": "277361606"
                                },
                                {
                                    "0": "USA",
                                    "1": "2018",
                                    "2": "9",
                                    "3": "54294291"
                                },
                                {
                                    "0": "USA",
                                    "1": "2019",
                                    "2": "9",
                                    "3": "56238077"
                                }
                            ]
                        },
                        "text/html": [
                            "<table>",
                            "<tr><th>region</th><th>calendar_year</th><th>month_number</th><th>total_sales</th></tr>",
                            "<tr><td>AFRICA</td><td>2018</td><td>3</td><td>130542213</td></tr>",
                            "<tr><td>AFRICA</td><td>2019</td><td>3</td><td>141619349</td></tr>",
                            "<tr><td>AFRICA</td><td>2020</td><td>3</td><td>295605918</td></tr>",
                            "<tr><td>AFRICA</td><td>2018</td><td>4</td><td>650194751</td></tr>",
                            "<tr><td>AFRICA</td><td>2019</td><td>4</td><td>700447301</td></tr>",
                            "<tr><td>AFRICA</td><td>2020</td><td>4</td><td>561141452</td></tr>",
                            "<tr><td>AFRICA</td><td>2018</td><td>5</td><td>522814997</td></tr>",
                            "<tr><td>AFRICA</td><td>2019</td><td>5</td><td>553828220</td></tr>",
                            "<tr><td>AFRICA</td><td>2020</td><td>5</td><td>570601521</td></tr>",
                            "<tr><td>AFRICA</td><td>2018</td><td>6</td><td>519127094</td></tr>",
                            "<tr><td>AFRICA</td><td>2019</td><td>6</td><td>546092640</td></tr>",
                            "<tr><td>AFRICA</td><td>2020</td><td>6</td><td>702340026</td></tr>",
                            "<tr><td>AFRICA</td><td>2018</td><td>7</td><td>674135866</td></tr>",
                            "<tr><td>AFRICA</td><td>2019</td><td>7</td><td>711867600</td></tr>",
                            "<tr><td>AFRICA</td><td>2020</td><td>7</td><td>574216244</td></tr>",
                            "<tr><td>AFRICA</td><td>2018</td><td>8</td><td>539077371</td></tr>",
                            "<tr><td>AFRICA</td><td>2019</td><td>8</td><td>564497281</td></tr>",
                            "<tr><td>AFRICA</td><td>2020</td><td>8</td><td>706022238</td></tr>",
                            "<tr><td>AFRICA</td><td>2018</td><td>9</td><td>135084533</td></tr>",
                            "<tr><td>AFRICA</td><td>2019</td><td>9</td><td>141236454</td></tr>",
                            "<tr><td>ASIA</td><td>2018</td><td>3</td><td>119180883</td></tr>",
                            "<tr><td>ASIA</td><td>2019</td><td>3</td><td>129174041</td></tr>",
                            "<tr><td>ASIA</td><td>2020</td><td>3</td><td>281415869</td></tr>",
                            "<tr><td>ASIA</td><td>2018</td><td>4</td><td>603716301</td></tr>",
                            "<tr><td>ASIA</td><td>2019</td><td>4</td><td>654973051</td></tr>",
                            "<tr><td>ASIA</td><td>2020</td><td>4</td><td>545939355</td></tr>",
                            "<tr><td>ASIA</td><td>2018</td><td>5</td><td>472634283</td></tr>",
                            "<tr><td>ASIA</td><td>2019</td><td>5</td><td>511773780</td></tr>",
                            "<tr><td>ASIA</td><td>2020</td><td>5</td><td>541877336</td></tr>",
                            "<tr><td>ASIA</td><td>2018</td><td>6</td><td>462233474</td></tr>",
                            "<tr><td>ASIA</td><td>2019</td><td>6</td><td>498386324</td></tr>",
                            "<tr><td>ASIA</td><td>2020</td><td>6</td><td>658863091</td></tr>",
                            "<tr><td>ASIA</td><td>2018</td><td>7</td><td>602910228</td></tr>",
                            "<tr><td>ASIA</td><td>2019</td><td>7</td><td>635366443</td></tr>",
                            "<tr><td>ASIA</td><td>2020</td><td>7</td><td>530568085</td></tr>",
                            "<tr><td>ASIA</td><td>2018</td><td>8</td><td>486137188</td></tr>",
                            "<tr><td>ASIA</td><td>2019</td><td>8</td><td>514795070</td></tr>",
                            "<tr><td>ASIA</td><td>2020</td><td>8</td><td>662388351</td></tr>",
                            "<tr><td>ASIA</td><td>2018</td><td>9</td><td>122529255</td></tr>",
                            "<tr><td>ASIA</td><td>2019</td><td>9</td><td>130307552</td></tr>",
                            "<tr><td>CANADA</td><td>2018</td><td>3</td><td>33815571</td></tr>",
                            "<tr><td>CANADA</td><td>2019</td><td>3</td><td>36087248</td></tr>",
                            "<tr><td>CANADA</td><td>2020</td><td>3</td><td>74731510</td></tr>",
                            "<tr><td>CANADA</td><td>2018</td><td>4</td><td>163479820</td></tr>",
                            "<tr><td>CANADA</td><td>2019</td><td>4</td><td>179830236</td></tr>",
                            "<tr><td>CANADA</td><td>2020</td><td>4</td><td>141242538</td></tr>",
                            "<tr><td>CANADA</td><td>2018</td><td>5</td><td>130367940</td></tr>",
                            "<tr><td>CANADA</td><td>2019</td><td>5</td><td>140979946</td></tr>",
                            "<tr><td>CANADA</td><td>2020</td><td>5</td><td>141030479</td></tr>",
                            "<tr><td>CANADA</td><td>2018</td><td>6</td><td>130410790</td></tr>",
                            "<tr><td>CANADA</td><td>2019</td><td>6</td><td>138690815</td></tr>",
                            "<tr><td>CANADA</td><td>2020</td><td>6</td><td>174745093</td></tr>",
                            "<tr><td>CANADA</td><td>2018</td><td>7</td><td>164198426</td></tr>",
                            "<tr><td>CANADA</td><td>2019</td><td>7</td><td>173991586</td></tr>",
                            "<tr><td>CANADA</td><td>2020</td><td>7</td><td>138944935</td></tr>",
                            "<tr><td>CANADA</td><td>2018</td><td>8</td><td>133635800</td></tr>",
                            "<tr><td>CANADA</td><td>2019</td><td>8</td><td>139428879</td></tr>",
                            "<tr><td>CANADA</td><td>2020</td><td>8</td><td>174008340</td></tr>",
                            "<tr><td>CANADA</td><td>2018</td><td>9</td><td>34042238</td></tr>",
                            "<tr><td>CANADA</td><td>2019</td><td>9</td><td>35025721</td></tr>",
                            "<tr><td>EUROPE</td><td>2018</td><td>3</td><td>8402183</td></tr>",
                            "<tr><td>EUROPE</td><td>2019</td><td>3</td><td>8989328</td></tr>",
                            "<tr><td>EUROPE</td><td>2020</td><td>3</td><td>17945582</td></tr>",
                            "<tr><td>EUROPE</td><td>2018</td><td>4</td><td>44549418</td></tr>",
                            "<tr><td>EUROPE</td><td>2019</td><td>4</td><td>46983044</td></tr>",
                            "<tr><td>EUROPE</td><td>2020</td><td>4</td><td>35801793</td></tr>",
                            "<tr><td>EUROPE</td><td>2018</td><td>5</td><td>36492553</td></tr>",
                            "<tr><td>EUROPE</td><td>2019</td><td>5</td><td>36446510</td></tr>",
                            "<tr><td>EUROPE</td><td>2020</td><td>5</td><td>36399326</td></tr>",
                            "<tr><td>EUROPE</td><td>2018</td><td>6</td><td>38998277</td></tr>",
                            "<tr><td>EUROPE</td><td>2019</td><td>6</td><td>36464369</td></tr>",
                            "<tr><td>EUROPE</td><td>2020</td><td>6</td><td>47351180</td></tr>",
                            "<tr><td>EUROPE</td><td>2018</td><td>7</td><td>50535910</td></tr>",
                            "<tr><td>EUROPE</td><td>2019</td><td>7</td><td>47154102</td></tr>",
                            "<tr><td>EUROPE</td><td>2020</td><td>7</td><td>39067454</td></tr>",
                            "<tr><td>EUROPE</td><td>2018</td><td>8</td><td>39104650</td></tr>",
                            "<tr><td>EUROPE</td><td>2019</td><td>8</td><td>36638154</td></tr>",
                            "<tr><td>EUROPE</td><td>2020</td><td>8</td><td>46360191</td></tr>",
                            "<tr><td>EUROPE</td><td>2018</td><td>9</td><td>9777575</td></tr>",
                            "<tr><td>EUROPE</td><td>2019</td><td>9</td><td>9099858</td></tr>",
                            "<tr><td>OCEANIA</td><td>2018</td><td>3</td><td>175777460</td></tr>",
                            "<tr><td>OCEANIA</td><td>2019</td><td>3</td><td>192331207</td></tr>",
                            "<tr><td>OCEANIA</td><td>2020</td><td>3</td><td>415174221</td></tr>",
                            "<tr><td>OCEANIA</td><td>2018</td><td>4</td><td>869324594</td></tr>",
                            "<tr><td>OCEANIA</td><td>2019</td><td>4</td><td>953735279</td></tr>",
                            "<tr><td>OCEANIA</td><td>2020</td><td>4</td><td>776707747</td></tr>",
                            "<tr><td>OCEANIA</td><td>2018</td><td>5</td><td>692610094</td></tr>",
                            "<tr><td>OCEANIA</td><td>2019</td><td>5</td><td>746580473</td></tr>",
                            "<tr><td>OCEANIA</td><td>2020</td><td>5</td><td>776466737</td></tr>",
                            "<tr><td>OCEANIA</td><td>2018</td><td>6</td><td>687546255</td></tr>",
                            "<tr><td>OCEANIA</td><td>2019</td><td>6</td><td>732354251</td></tr>",
                            "<tr><td>OCEANIA</td><td>2020</td><td>6</td><td>951984238</td></tr>",
                            "<tr><td>OCEANIA</td><td>2018</td><td>7</td><td>871333919</td></tr>",
                            "<tr><td>OCEANIA</td><td>2019</td><td>7</td><td>934476631</td></tr>",
                            "<tr><td>OCEANIA</td><td>2020</td><td>7</td><td>757648850</td></tr>",
                            "<tr><td>OCEANIA</td><td>2018</td><td>8</td><td>714036679</td></tr>",
                            "<tr><td>OCEANIA</td><td>2019</td><td>8</td><td>759346286</td></tr>",
                            "<tr><td>OCEANIA</td><td>2020</td><td>8</td><td>958930687</td></tr>",
                            "<tr><td>OCEANIA</td><td>2018</td><td>9</td><td>180310608</td></tr>",
                            "<tr><td>OCEANIA</td><td>2019</td><td>9</td><td>192154910</td></tr>",
                            "<tr><td>SOUTH AMERICA</td><td>2018</td><td>3</td><td>16302144</td></tr>",
                            "<tr><td>SOUTH AMERICA</td><td>2019</td><td>3</td><td>17351683</td></tr>",
                            "<tr><td>SOUTH AMERICA</td><td>2020</td><td>3</td><td>37369282</td></tr>",
                            "<tr><td>SOUTH AMERICA</td><td>2018</td><td>4</td><td>80814046</td></tr>",
                            "<tr><td>SOUTH AMERICA</td><td>2019</td><td>4</td><td>87069807</td></tr>",
                            "<tr><td>SOUTH AMERICA</td><td>2020</td><td>4</td><td>70567678</td></tr>",
                            "<tr><td>SOUTH AMERICA</td><td>2018</td><td>5</td><td>63685837</td></tr>",
                            "<tr><td>SOUTH AMERICA</td><td>2019</td><td>5</td><td>67552363</td></tr>",
                            "<tr><td>SOUTH AMERICA</td><td>2020</td><td>5</td><td>70153609</td></tr>",
                            "<tr><td>SOUTH AMERICA</td><td>2018</td><td>6</td><td>63764243</td></tr>",
                            "<tr><td>SOUTH AMERICA</td><td>2019</td><td>6</td><td>67122227</td></tr>",
                            "<tr><td>SOUTH AMERICA</td><td>2020</td><td>6</td><td>87360985</td></tr>",
                            "<tr><td>SOUTH AMERICA</td><td>2018</td><td>7</td><td>81690746</td></tr>",
                            "<tr><td>SOUTH AMERICA</td><td>2019</td><td>7</td><td>84577363</td></tr>",
                            "<tr><td>SOUTH AMERICA</td><td>2020</td><td>7</td><td>69314667</td></tr>",
                            "<tr><td>SOUTH AMERICA</td><td>2018</td><td>8</td><td>66079697</td></tr>",
                            "<tr><td>SOUTH AMERICA</td><td>2019</td><td>8</td><td>68364336</td></tr>",
                            "<tr><td>SOUTH AMERICA</td><td>2020</td><td>8</td><td>86722019</td></tr>",
                            "<tr><td>SOUTH AMERICA</td><td>2018</td><td>9</td><td>16932862</td></tr>",
                            "<tr><td>SOUTH AMERICA</td><td>2019</td><td>9</td><td>17242721</td></tr>",
                            "<tr><td>USA</td><td>2018</td><td>3</td><td>52734998</td></tr>",
                            "<tr><td>USA</td><td>2019</td><td>3</td><td>55764198</td></tr>",
                            "<tr><td>USA</td><td>2020</td><td>3</td><td>116853847</td></tr>",
                            "<tr><td>USA</td><td>2018</td><td>4</td><td>260725717</td></tr>",
                            "<tr><td>USA</td><td>2019</td><td>4</td><td>277108603</td></tr>",
                            "<tr><td>USA</td><td>2020</td><td>4</td><td>221952003</td></tr>",
                            "<tr><td>USA</td><td>2018</td><td>5</td><td>210050720</td></tr>",
                            "<tr><td>USA</td><td>2019</td><td>5</td><td>220370520</td></tr>",
                            "<tr><td>USA</td><td>2020</td><td>5</td><td>225545881</td></tr>",
                            "<tr><td>USA</td><td>2018</td><td>6</td><td>206372070</td></tr>",
                            "<tr><td>USA</td><td>2019</td><td>6</td><td>219743295</td></tr>",
                            "<tr><td>USA</td><td>2020</td><td>6</td><td>277763625</td></tr>",
                            "<tr><td>USA</td><td>2018</td><td>7</td><td>262393377</td></tr>",
                            "<tr><td>USA</td><td>2019</td><td>7</td><td>274203066</td></tr>",
                            "<tr><td>USA</td><td>2020</td><td>7</td><td>223735311</td></tr>",
                            "<tr><td>USA</td><td>2018</td><td>8</td><td>212470882</td></tr>",
                            "<tr><td>USA</td><td>2019</td><td>8</td><td>222170302</td></tr>",
                            "<tr><td>USA</td><td>2020</td><td>8</td><td>277361606</td></tr>",
                            "<tr><td>USA</td><td>2018</td><td>9</td><td>54294291</td></tr>",
                            "<tr><td>USA</td><td>2019</td><td>9</td><td>56238077</td></tr>",
                            "</table>"
                        ]
                    }
                }
            ],
            "execution_count": 4
        },
        {
            "cell_type": "markdown",
            "source": [
                "    5.  What is the total count of transactions for each platform?"
            ],
            "metadata": {
                "azdata_cell_guid": "87fb18a1-a599-416d-9b80-233058fa70f8"
            },
            "attachments": {}
        },
        {
            "cell_type": "code",
            "source": [
                "SELECT \r\n",
                "    platform,\r\n",
                "    COUNT(*) as count_of_transactions\r\n",
                "FROM clean_weekly_sales\r\n",
                "GROUP BY platform"
            ],
            "metadata": {
                "azdata_cell_guid": "4f1c6f49-579a-4262-8c9f-c1588fe4f583",
                "language": "sql"
            },
            "outputs": [
                {
                    "output_type": "display_data",
                    "data": {
                        "text/html": "(2 rows affected)"
                    },
                    "metadata": {}
                },
                {
                    "output_type": "display_data",
                    "data": {
                        "text/html": "Total execution time: 00:00:00.655"
                    },
                    "metadata": {}
                },
                {
                    "output_type": "execute_result",
                    "metadata": {},
                    "execution_count": 5,
                    "data": {
                        "application/vnd.dataresource+json": {
                            "schema": {
                                "fields": [
                                    {
                                        "name": "platform"
                                    },
                                    {
                                        "name": "count_of_transactions"
                                    }
                                ]
                            },
                            "data": [
                                {
                                    "0": "Retail",
                                    "1": "8568"
                                },
                                {
                                    "0": "Shopify",
                                    "1": "8549"
                                }
                            ]
                        },
                        "text/html": [
                            "<table>",
                            "<tr><th>platform</th><th>count_of_transactions</th></tr>",
                            "<tr><td>Retail</td><td>8568</td></tr>",
                            "<tr><td>Shopify</td><td>8549</td></tr>",
                            "</table>"
                        ]
                    }
                }
            ],
            "execution_count": 5
        },
        {
            "cell_type": "markdown",
            "source": [
                "    6.  What is the percentage of sales for Retail vs Shopify for each month?"
            ],
            "metadata": {
                "azdata_cell_guid": "1116c76f-cbcf-4ba8-bdca-6b8ead3d21a6"
            },
            "attachments": {}
        },
        {
            "cell_type": "code",
            "source": [
                "SELECT DISTINCT\r\n",
                "    platform,\r\n",
                "    calendar_year,\r\n",
                "    month_number,\r\n",
                "    SUM(sales) OVER(PARTITION BY platform, calendar_year, month_number ORDER BY platform) as sale_monthly,\r\n",
                "    100 * CAST(SUM(sales) OVER (PARTITION BY month_number,calendar_year,platform order by platform  ) AS FLOAT)  \r\n",
                "            /  (SUM(sales) OVER (PARTITION BY calendar_year,platform order by platform  )) AS Percent_sales_monthly\r\n",
                "FROM clean_weekly_sales\r\n",
                "ORDER BY platform, calendar_year, month_number"
            ],
            "metadata": {
                "azdata_cell_guid": "213ee9c5-1884-4a60-951c-3a7bd961abbf",
                "language": "sql"
            },
            "outputs": [
                {
                    "output_type": "display_data",
                    "data": {
                        "text/html": "(40 rows affected)"
                    },
                    "metadata": {}
                },
                {
                    "output_type": "display_data",
                    "data": {
                        "text/html": "Total execution time: 00:00:00.488"
                    },
                    "metadata": {}
                },
                {
                    "output_type": "execute_result",
                    "metadata": {},
                    "execution_count": 6,
                    "data": {
                        "application/vnd.dataresource+json": {
                            "schema": {
                                "fields": [
                                    {
                                        "name": "platform"
                                    },
                                    {
                                        "name": "calendar_year"
                                    },
                                    {
                                        "name": "month_number"
                                    },
                                    {
                                        "name": "sale_monthly"
                                    },
                                    {
                                        "name": "Percent_sales_monthly"
                                    }
                                ]
                            },
                            "data": [
                                {
                                    "0": "Retail",
                                    "1": "2018",
                                    "2": "3",
                                    "3": "525583061",
                                    "4": "4.167599089307685"
                                },
                                {
                                    "0": "Retail",
                                    "1": "2018",
                                    "2": "4",
                                    "3": "2617369077",
                                    "4": "20.75436936824586"
                                },
                                {
                                    "0": "Retail",
                                    "1": "2018",
                                    "2": "5",
                                    "3": "2080290488",
                                    "4": "16.495616747595754"
                                },
                                {
                                    "0": "Retail",
                                    "1": "2018",
                                    "2": "6",
                                    "3": "2061128568",
                                    "4": "16.343672732905777"
                                },
                                {
                                    "0": "Retail",
                                    "1": "2018",
                                    "2": "7",
                                    "3": "2646368290",
                                    "4": "20.984317977052797"
                                },
                                {
                                    "0": "Retail",
                                    "1": "2018",
                                    "2": "8",
                                    "3": "2140297292",
                                    "4": "16.97143935349717"
                                },
                                {
                                    "0": "Retail",
                                    "1": "2018",
                                    "2": "9",
                                    "3": "540134542",
                                    "4": "4.282984731394956"
                                },
                                {
                                    "0": "Retail",
                                    "1": "2019",
                                    "2": "3",
                                    "3": "567984858",
                                    "4": "4.2393868606520915"
                                },
                                {
                                    "0": "Retail",
                                    "1": "2019",
                                    "2": "4",
                                    "3": "2836349313",
                                    "4": "21.170251002979708"
                                },
                                {
                                    "0": "Retail",
                                    "1": "2019",
                                    "2": "5",
                                    "3": "2221160706",
                                    "4": "16.578539691304805"
                                },
                                {
                                    "0": "Retail",
                                    "1": "2019",
                                    "2": "6",
                                    "3": "2181126868",
                                    "4": "16.279730798060196"
                                },
                                {
                                    "0": "Retail",
                                    "1": "2019",
                                    "2": "7",
                                    "3": "2785870177",
                                    "4": "20.79347936394515"
                                },
                                {
                                    "0": "Retail",
                                    "1": "2019",
                                    "2": "8",
                                    "3": "2240942490",
                                    "4": "16.72618911186358"
                                },
                                {
                                    "0": "Retail",
                                    "1": "2019",
                                    "2": "9",
                                    "3": "564372315",
                                    "4": "4.212423171194474"
                                },
                                {
                                    "0": "Retail",
                                    "1": "2020",
                                    "2": "3",
                                    "3": "1205620498",
                                    "4": "8.835207729869323"
                                },
                                {
                                    "0": "Retail",
                                    "1": "2020",
                                    "2": "4",
                                    "3": "2281873844",
                                    "4": "16.722367825149092"
                                },
                                {
                                    "0": "Retail",
                                    "1": "2020",
                                    "2": "5",
                                    "3": "2284387029",
                                    "4": "16.74078532184513"
                                },
                                {
                                    "0": "Retail",
                                    "1": "2020",
                                    "2": "6",
                                    "3": "2807693824",
                                    "4": "20.57576013186793"
                                },
                                {
                                    "0": "Retail",
                                    "1": "2020",
                                    "2": "7",
                                    "3": "2255852981",
                                    "4": "16.53167786068942"
                                },
                                {
                                    "0": "Retail",
                                    "1": "2020",
                                    "2": "8",
                                    "3": "2810210216",
                                    "4": "20.5942011305791"
                                },
                                {
                                    "0": "Shopify",
                                    "1": "2018",
                                    "2": "3",
                                    "3": "11172391",
                                    "4": "3.9035708628395014"
                                },
                                {
                                    "0": "Shopify",
                                    "1": "2018",
                                    "2": "4",
                                    "3": "55435570",
                                    "4": "19.368877782463894"
                                },
                                {
                                    "0": "Shopify",
                                    "1": "2018",
                                    "2": "5",
                                    "3": "48365936",
                                    "4": "16.898787244696333"
                                },
                                {
                                    "0": "Shopify",
                                    "1": "2018",
                                    "2": "6",
                                    "3": "47323635",
                                    "4": "16.534613110985074"
                                },
                                {
                                    "0": "Shopify",
                                    "1": "2018",
                                    "2": "7",
                                    "3": "60830182",
                                    "4": "21.253725011631253"
                                },
                                {
                                    "0": "Shopify",
                                    "1": "2018",
                                    "2": "8",
                                    "3": "50244975",
                                    "4": "17.555312950835607"
                                },
                                {
                                    "0": "Shopify",
                                    "1": "2018",
                                    "2": "9",
                                    "3": "12836820",
                                    "4": "4.485113036548342"
                                },
                                {
                                    "0": "Shopify",
                                    "1": "2019",
                                    "2": "3",
                                    "3": "13332196",
                                    "4": "3.82860690785228"
                                },
                                {
                                    "0": "Shopify",
                                    "1": "2019",
                                    "2": "4",
                                    "3": "63798008",
                                    "4": "18.320874830824195"
                                },
                                {
                                    "0": "Shopify",
                                    "1": "2019",
                                    "2": "5",
                                    "3": "56371106",
                                    "4": "16.18809128180182"
                                },
                                {
                                    "0": "Shopify",
                                    "1": "2019",
                                    "2": "6",
                                    "3": "57727053",
                                    "4": "16.577478600356212"
                                },
                                {
                                    "0": "Shopify",
                                    "1": "2019",
                                    "2": "7",
                                    "3": "75766614",
                                    "4": "21.757899579707445"
                                },
                                {
                                    "0": "Shopify",
                                    "1": "2019",
                                    "2": "8",
                                    "3": "64297818",
                                    "4": "18.464405275367138"
                                },
                                {
                                    "0": "Shopify",
                                    "1": "2019",
                                    "2": "9",
                                    "3": "16932978",
                                    "4": "4.862643524090906"
                                },
                                {
                                    "0": "Shopify",
                                    "1": "2020",
                                    "2": "3",
                                    "3": "33475731",
                                    "4": "7.364060519460199"
                                },
                                {
                                    "0": "Shopify",
                                    "1": "2020",
                                    "2": "4",
                                    "3": "71478722",
                                    "4": "15.724037054237028"
                                },
                                {
                                    "0": "Shopify",
                                    "1": "2020",
                                    "2": "5",
                                    "3": "77687860",
                                    "4": "17.089936069427466"
                                },
                                {
                                    "0": "Shopify",
                                    "1": "2020",
                                    "2": "6",
                                    "3": "92714414",
                                    "4": "20.395508487097352"
                                },
                                {
                                    "0": "Shopify",
                                    "1": "2020",
                                    "2": "7",
                                    "3": "77642565",
                                    "4": "17.079971981675985"
                                },
                                {
                                    "0": "Shopify",
                                    "1": "2020",
                                    "2": "8",
                                    "3": "101583216",
                                    "4": "22.346485888101967"
                                }
                            ]
                        },
                        "text/html": [
                            "<table>",
                            "<tr><th>platform</th><th>calendar_year</th><th>month_number</th><th>sale_monthly</th><th>Percent_sales_monthly</th></tr>",
                            "<tr><td>Retail</td><td>2018</td><td>3</td><td>525583061</td><td>4.167599089307685</td></tr>",
                            "<tr><td>Retail</td><td>2018</td><td>4</td><td>2617369077</td><td>20.75436936824586</td></tr>",
                            "<tr><td>Retail</td><td>2018</td><td>5</td><td>2080290488</td><td>16.495616747595754</td></tr>",
                            "<tr><td>Retail</td><td>2018</td><td>6</td><td>2061128568</td><td>16.343672732905777</td></tr>",
                            "<tr><td>Retail</td><td>2018</td><td>7</td><td>2646368290</td><td>20.984317977052797</td></tr>",
                            "<tr><td>Retail</td><td>2018</td><td>8</td><td>2140297292</td><td>16.97143935349717</td></tr>",
                            "<tr><td>Retail</td><td>2018</td><td>9</td><td>540134542</td><td>4.282984731394956</td></tr>",
                            "<tr><td>Retail</td><td>2019</td><td>3</td><td>567984858</td><td>4.2393868606520915</td></tr>",
                            "<tr><td>Retail</td><td>2019</td><td>4</td><td>2836349313</td><td>21.170251002979708</td></tr>",
                            "<tr><td>Retail</td><td>2019</td><td>5</td><td>2221160706</td><td>16.578539691304805</td></tr>",
                            "<tr><td>Retail</td><td>2019</td><td>6</td><td>2181126868</td><td>16.279730798060196</td></tr>",
                            "<tr><td>Retail</td><td>2019</td><td>7</td><td>2785870177</td><td>20.79347936394515</td></tr>",
                            "<tr><td>Retail</td><td>2019</td><td>8</td><td>2240942490</td><td>16.72618911186358</td></tr>",
                            "<tr><td>Retail</td><td>2019</td><td>9</td><td>564372315</td><td>4.212423171194474</td></tr>",
                            "<tr><td>Retail</td><td>2020</td><td>3</td><td>1205620498</td><td>8.835207729869323</td></tr>",
                            "<tr><td>Retail</td><td>2020</td><td>4</td><td>2281873844</td><td>16.722367825149092</td></tr>",
                            "<tr><td>Retail</td><td>2020</td><td>5</td><td>2284387029</td><td>16.74078532184513</td></tr>",
                            "<tr><td>Retail</td><td>2020</td><td>6</td><td>2807693824</td><td>20.57576013186793</td></tr>",
                            "<tr><td>Retail</td><td>2020</td><td>7</td><td>2255852981</td><td>16.53167786068942</td></tr>",
                            "<tr><td>Retail</td><td>2020</td><td>8</td><td>2810210216</td><td>20.5942011305791</td></tr>",
                            "<tr><td>Shopify</td><td>2018</td><td>3</td><td>11172391</td><td>3.9035708628395014</td></tr>",
                            "<tr><td>Shopify</td><td>2018</td><td>4</td><td>55435570</td><td>19.368877782463894</td></tr>",
                            "<tr><td>Shopify</td><td>2018</td><td>5</td><td>48365936</td><td>16.898787244696333</td></tr>",
                            "<tr><td>Shopify</td><td>2018</td><td>6</td><td>47323635</td><td>16.534613110985074</td></tr>",
                            "<tr><td>Shopify</td><td>2018</td><td>7</td><td>60830182</td><td>21.253725011631253</td></tr>",
                            "<tr><td>Shopify</td><td>2018</td><td>8</td><td>50244975</td><td>17.555312950835607</td></tr>",
                            "<tr><td>Shopify</td><td>2018</td><td>9</td><td>12836820</td><td>4.485113036548342</td></tr>",
                            "<tr><td>Shopify</td><td>2019</td><td>3</td><td>13332196</td><td>3.82860690785228</td></tr>",
                            "<tr><td>Shopify</td><td>2019</td><td>4</td><td>63798008</td><td>18.320874830824195</td></tr>",
                            "<tr><td>Shopify</td><td>2019</td><td>5</td><td>56371106</td><td>16.18809128180182</td></tr>",
                            "<tr><td>Shopify</td><td>2019</td><td>6</td><td>57727053</td><td>16.577478600356212</td></tr>",
                            "<tr><td>Shopify</td><td>2019</td><td>7</td><td>75766614</td><td>21.757899579707445</td></tr>",
                            "<tr><td>Shopify</td><td>2019</td><td>8</td><td>64297818</td><td>18.464405275367138</td></tr>",
                            "<tr><td>Shopify</td><td>2019</td><td>9</td><td>16932978</td><td>4.862643524090906</td></tr>",
                            "<tr><td>Shopify</td><td>2020</td><td>3</td><td>33475731</td><td>7.364060519460199</td></tr>",
                            "<tr><td>Shopify</td><td>2020</td><td>4</td><td>71478722</td><td>15.724037054237028</td></tr>",
                            "<tr><td>Shopify</td><td>2020</td><td>5</td><td>77687860</td><td>17.089936069427466</td></tr>",
                            "<tr><td>Shopify</td><td>2020</td><td>6</td><td>92714414</td><td>20.395508487097352</td></tr>",
                            "<tr><td>Shopify</td><td>2020</td><td>7</td><td>77642565</td><td>17.079971981675985</td></tr>",
                            "<tr><td>Shopify</td><td>2020</td><td>8</td><td>101583216</td><td>22.346485888101967</td></tr>",
                            "</table>"
                        ]
                    }
                }
            ],
            "execution_count": 6
        },
        {
            "cell_type": "markdown",
            "source": [
                "    7. What is the percentage of sales by demographic for each year in the dataset?"
            ],
            "metadata": {
                "azdata_cell_guid": "7d629102-ba57-40f7-b315-c1a0f07d25b4"
            },
            "attachments": {}
        },
        {
            "cell_type": "code",
            "source": [
                "ALTER TABLE clean_weekly_sales\r\n",
                "ALTER COLUMN sales BIGINT \r\n",
                "\r\n",
                "SELECT DISTINCT\r\n",
                "    demographic, \r\n",
                "    calendar_year,\r\n",
                "    100 * cast(SUM(sales) OVER(PARTITION BY demographic, calendar_year ORDER BY calendar_year) as FLOAT)\r\n",
                "    / cast(SUM(sales) OVER(PARTITION BY calendar_year ORDER BY calendar_year) as FLOAT) as perc_per_year\r\n",
                "FROM clean_weekly_sales\r\n",
                "ORDER BY calendar_year"
            ],
            "metadata": {
                "azdata_cell_guid": "58515576-6cb0-4bce-ab63-30c6077b3e89",
                "language": "sql"
            },
            "outputs": [
                {
                    "output_type": "display_data",
                    "data": {
                        "text/html": "(9 rows affected)"
                    },
                    "metadata": {}
                },
                {
                    "output_type": "display_data",
                    "data": {
                        "text/html": "Total execution time: 00:00:00.515"
                    },
                    "metadata": {}
                },
                {
                    "output_type": "execute_result",
                    "metadata": {},
                    "execution_count": 7,
                    "data": {
                        "application/vnd.dataresource+json": {
                            "schema": {
                                "fields": [
                                    {
                                        "name": "demographic"
                                    },
                                    {
                                        "name": "calendar_year"
                                    },
                                    {
                                        "name": "perc_per_year"
                                    }
                                ]
                            },
                            "data": [
                                {
                                    "0": "unknown",
                                    "1": "2018",
                                    "2": "41.63197301857883"
                                },
                                {
                                    "0": "Families",
                                    "1": "2018",
                                    "2": "31.987564671761554"
                                },
                                {
                                    "0": "Couples",
                                    "1": "2018",
                                    "2": "26.38046230965961"
                                },
                                {
                                    "0": "unknown",
                                    "1": "2019",
                                    "2": "40.250612102073816"
                                },
                                {
                                    "0": "Couples",
                                    "1": "2019",
                                    "2": "27.275156922552018"
                                },
                                {
                                    "0": "Families",
                                    "1": "2019",
                                    "2": "32.47423097537417"
                                },
                                {
                                    "0": "Families",
                                    "1": "2020",
                                    "2": "32.72528918323542"
                                },
                                {
                                    "0": "unknown",
                                    "1": "2020",
                                    "2": "38.5548279389013"
                                },
                                {
                                    "0": "Couples",
                                    "1": "2020",
                                    "2": "28.71988287786328"
                                }
                            ]
                        },
                        "text/html": [
                            "<table>",
                            "<tr><th>demographic</th><th>calendar_year</th><th>perc_per_year</th></tr>",
                            "<tr><td>unknown</td><td>2018</td><td>41.63197301857883</td></tr>",
                            "<tr><td>Families</td><td>2018</td><td>31.987564671761554</td></tr>",
                            "<tr><td>Couples</td><td>2018</td><td>26.38046230965961</td></tr>",
                            "<tr><td>unknown</td><td>2019</td><td>40.250612102073816</td></tr>",
                            "<tr><td>Couples</td><td>2019</td><td>27.275156922552018</td></tr>",
                            "<tr><td>Families</td><td>2019</td><td>32.47423097537417</td></tr>",
                            "<tr><td>Families</td><td>2020</td><td>32.72528918323542</td></tr>",
                            "<tr><td>unknown</td><td>2020</td><td>38.5548279389013</td></tr>",
                            "<tr><td>Couples</td><td>2020</td><td>28.71988287786328</td></tr>",
                            "</table>"
                        ]
                    }
                }
            ],
            "execution_count": 7
        },
        {
            "cell_type": "markdown",
            "source": [
                "    8. Which age band and demographic values contribute the most to Retail sales?"
            ],
            "metadata": {
                "azdata_cell_guid": "f536bba4-d55b-4342-a96d-40351a791c2c"
            },
            "attachments": {}
        },
        {
            "cell_type": "code",
            "source": [
                "SELECT DISTINCT\r\n",
                "    age_band,\r\n",
                "    demographic,\r\n",
                "    100 * cast(SUM(sales) OVER(PARTITION BY age_band, demographic ORDER BY age_band) as float)\r\n",
                "    / (select SUM(sales) from clean_weekly_sales WHERE platform = 'Retail') as percent_sale_in_retal\r\n",
                "FROM clean_weekly_sales\r\n",
                "WHERE platform = 'Retail'\r\n",
                "ORDER BY percent_sale_in_retal DESC"
            ],
            "metadata": {
                "azdata_cell_guid": "a09354d8-087d-43e4-80d0-356c789a0cf8",
                "language": "sql"
            },
            "outputs": [
                {
                    "output_type": "display_data",
                    "data": {
                        "text/html": "(7 rows affected)"
                    },
                    "metadata": {}
                },
                {
                    "output_type": "display_data",
                    "data": {
                        "text/html": "Total execution time: 00:00:00.588"
                    },
                    "metadata": {}
                },
                {
                    "output_type": "execute_result",
                    "metadata": {},
                    "execution_count": 8,
                    "data": {
                        "application/vnd.dataresource+json": {
                            "schema": {
                                "fields": [
                                    {
                                        "name": "age_band"
                                    },
                                    {
                                        "name": "demographic"
                                    },
                                    {
                                        "name": "percent_sale_in_retal"
                                    }
                                ]
                            },
                            "data": [
                                {
                                    "0": "unknown",
                                    "1": "unknown",
                                    "2": "40.518070723307545"
                                },
                                {
                                    "0": "Retirees",
                                    "1": "Families",
                                    "2": "16.73118419022069"
                                },
                                {
                                    "0": "Retirees",
                                    "1": "Couples",
                                    "2": "16.065166143066985"
                                },
                                {
                                    "0": "Middle Aged",
                                    "1": "Families",
                                    "2": "10.980036992458174"
                                },
                                {
                                    "0": "Young Adults",
                                    "1": "Couples",
                                    "2": "6.563984299621987"
                                },
                                {
                                    "0": "Middle Aged",
                                    "1": "Couples",
                                    "2": "4.675774213944895"
                                },
                                {
                                    "0": "Young Adults",
                                    "1": "Families",
                                    "2": "4.465783437379715"
                                }
                            ]
                        },
                        "text/html": [
                            "<table>",
                            "<tr><th>age_band</th><th>demographic</th><th>percent_sale_in_retal</th></tr>",
                            "<tr><td>unknown</td><td>unknown</td><td>40.518070723307545</td></tr>",
                            "<tr><td>Retirees</td><td>Families</td><td>16.73118419022069</td></tr>",
                            "<tr><td>Retirees</td><td>Couples</td><td>16.065166143066985</td></tr>",
                            "<tr><td>Middle Aged</td><td>Families</td><td>10.980036992458174</td></tr>",
                            "<tr><td>Young Adults</td><td>Couples</td><td>6.563984299621987</td></tr>",
                            "<tr><td>Middle Aged</td><td>Couples</td><td>4.675774213944895</td></tr>",
                            "<tr><td>Young Adults</td><td>Families</td><td>4.465783437379715</td></tr>",
                            "</table>"
                        ]
                    }
                }
            ],
            "execution_count": 8
        },
        {
            "cell_type": "markdown",
            "source": [
                "    9. Can we use the avg_transaction column to find the average transaction size for each year for Retail vs Shopify? If not - how would you calculate it instead?"
            ],
            "metadata": {
                "azdata_cell_guid": "d981c2ba-bbe8-4216-a735-3ba0e479f52c"
            },
            "attachments": {}
        },
        {
            "cell_type": "code",
            "source": [
                "SELECT \r\n",
                "    platform, \r\n",
                "    calendar_year, \r\n",
                "    AVG(avg_transaction) as avg_transaction_row,\r\n",
                "    SUM(sales) / sum(transactions) AS avg_transaction_group\r\n",
                "FROM clean_weekly_sales\r\n",
                "GROUP BY platform, calendar_year\r\n",
                "ORDER BY platform,calendar_year;"
            ],
            "metadata": {
                "azdata_cell_guid": "761bb4f6-82dd-414d-b20c-c2ba89263dee",
                "language": "sql"
            },
            "outputs": [
                {
                    "output_type": "display_data",
                    "data": {
                        "text/html": "(6 rows affected)"
                    },
                    "metadata": {}
                },
                {
                    "output_type": "display_data",
                    "data": {
                        "text/html": "Total execution time: 00:00:00.030"
                    },
                    "metadata": {}
                },
                {
                    "output_type": "execute_result",
                    "metadata": {},
                    "execution_count": 9,
                    "data": {
                        "application/vnd.dataresource+json": {
                            "schema": {
                                "fields": [
                                    {
                                        "name": "platform"
                                    },
                                    {
                                        "name": "calendar_year"
                                    },
                                    {
                                        "name": "avg_transaction_row"
                                    },
                                    {
                                        "name": "avg_transaction_group"
                                    }
                                ]
                            },
                            "data": [
                                {
                                    "0": "Retail",
                                    "1": "2018",
                                    "2": "42.90636554621841",
                                    "3": "36"
                                },
                                {
                                    "0": "Retail",
                                    "1": "2019",
                                    "2": "41.96807072829133",
                                    "3": "36"
                                },
                                {
                                    "0": "Retail",
                                    "1": "2020",
                                    "2": "40.64023109243703",
                                    "3": "36"
                                },
                                {
                                    "0": "Shopify",
                                    "1": "2018",
                                    "2": "188.27925756509512",
                                    "3": "192"
                                },
                                {
                                    "0": "Shopify",
                                    "1": "2019",
                                    "2": "177.55955119214593",
                                    "3": "183"
                                },
                                {
                                    "0": "Shopify",
                                    "1": "2020",
                                    "2": "174.8735516637479",
                                    "3": "179"
                                }
                            ]
                        },
                        "text/html": [
                            "<table>",
                            "<tr><th>platform</th><th>calendar_year</th><th>avg_transaction_row</th><th>avg_transaction_group</th></tr>",
                            "<tr><td>Retail</td><td>2018</td><td>42.90636554621841</td><td>36</td></tr>",
                            "<tr><td>Retail</td><td>2019</td><td>41.96807072829133</td><td>36</td></tr>",
                            "<tr><td>Retail</td><td>2020</td><td>40.64023109243703</td><td>36</td></tr>",
                            "<tr><td>Shopify</td><td>2018</td><td>188.27925756509512</td><td>192</td></tr>",
                            "<tr><td>Shopify</td><td>2019</td><td>177.55955119214593</td><td>183</td></tr>",
                            "<tr><td>Shopify</td><td>2020</td><td>174.8735516637479</td><td>179</td></tr>",
                            "</table>"
                        ]
                    }
                }
            ],
            "execution_count": 9
        },
        {
            "cell_type": "markdown",
            "source": [
                "We can't use the avg\\_transaction column to find the average transaction size for each year for Retail and Shopify. In order to do it, we have to calculate total sales divided by total transaction. The result is more accurate than taking averge of avg\\_transaction column."
            ],
            "metadata": {
                "azdata_cell_guid": "b3bc13b4-6550-4320-ac3b-30d1d8b9ddfb"
            },
            "attachments": {}
        }
    ]
}