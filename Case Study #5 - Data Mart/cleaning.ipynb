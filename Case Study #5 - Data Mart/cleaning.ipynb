{
    "metadata": {
        "kernelspec": {
            "name": "SQL",
            "display_name": "SQL",
            "language": "sql"
        },
        "language_info": {
            "name": "sql",
            "version": ""
        }
    },
    "nbformat_minor": 2,
    "nbformat": 4,
    "cells": [
        {
            "cell_type": "markdown",
            "source": [
                "### 1. Data Cleaning Steps\r\n",
                "---\r\n",
                "In a single query, perform the following operations and generate a new table in the data_mart schema named clean_weekly_sales:\r\n",
                "\r\n",
                "- Convert the week_date to a DATE format\r\n",
                "\r\n",
                "- Add a week_number as the second column for each week_date value, for example any value from the 1st of January to 7th of January will be 1, 8th to 14th will be 2 etc\r\n",
                "\r\n",
                "- Add a month_number with the calendar month for each week_date value as the 3rd column\r\n",
                "\r\n",
                "- Add a calendar_year column as the 4th column containing either 2018, 2019 or 2020 values\r\n",
                "\r\n",
                "- Add a new column called age_band after the original segment column using the following mapping on the number inside the segment value\r\n",
                "\r\n",
                "<div align=\"center\">\r\n",
                "\r\n",
                "|segment|age_band|\r\n",
                "|---|---|\r\n",
                "|1|\tYoung Adults|\r\n",
                "|2|\tMiddle Aged|\r\n",
                "|3 or 4|Retirees|\r\n",
                "\r\n",
                "</div>\r\n",
                "\r\n",
                "- Add a new demographic column using the following mapping for the first letter in the segment values:\r\n",
                "\r\n",
                "<div align=\"center\">\r\n",
                "\r\n",
                "|segment|demographic|\r\n",
                "|---|---|\r\n",
                "|C|Couples|\r\n",
                "|F|Families|\r\n",
                "\r\n",
                "</div>\r\n",
                "\r\n",
                "- Ensure all null string values with an \"unknown\" string value in the original segment column as well as the new age_band and demographic columns\r\n",
                "\r\n",
                "- Generate a new avg_transaction column as the sales value divided by transactions rounded to 2 decimal places for each record"
            ],
            "metadata": {
                "azdata_cell_guid": "ae3d6bd1-800d-4aff-bd56-9f80512df924"
            },
            "attachments": {}
        },
        {
            "cell_type": "code",
            "source": [
                "DROP TABLE IF EXISTS clean_weekly_sales\r\n",
                "SELECT \r\n",
                "    CONVERT(date, week_date, 3) as week_date,\r\n",
                "    DATEPART(WK, CONVERT(date, week_date, 3)) as week_number,\r\n",
                "    DATEPART(MONTH, CONVERT(date, week_date, 3)) as month_number,\r\n",
                "    DATEPART(YEAR, CONVERT(date, week_date, 3)) as calendar_year,\r\n",
                "    segment,\r\n",
                "    CASE \r\n",
                "        WHEN SUBSTRING(segment,2,1) = '1' THEN 'Young Adults'\r\n",
                "        WHEN SUBSTRING(segment,2,1) = '2' THEN 'Middle Aged'\r\n",
                "        WHEN SUBSTRING(segment,2,1) = '3' OR SUBSTRING(segment,2,1) = '4' THEN 'Retirees'\r\n",
                "        ELSE 'unknown'\r\n",
                "    END AS age_band,\r\n",
                "    CASE \r\n",
                "        WHEN SUBSTRING(segment,1,1) = 'C' THEN 'Couples'\r\n",
                "        WHEN SUBSTRING(segment,1,1) = 'F' THEN 'Families'\r\n",
                "        ELSE 'unknown'\r\n",
                "    END AS demographic,\r\n",
                "    region,\r\n",
                "    platform,\r\n",
                "    customer_type,\r\n",
                "    transactions,\r\n",
                "    sales,\r\n",
                "    ROUND(CAST(sales as float)/CAST(transactions as float),2) as avg_transaction\r\n",
                "INTO clean_weekly_sales\r\n",
                "FROM weekly_sales"
            ],
            "metadata": {
                "azdata_cell_guid": "141d8ba0-efda-4ba3-aea7-9d4a31fbd3ca",
                "language": "sql",
                "tags": []
            },
            "outputs": [
                {
                    "output_type": "display_data",
                    "data": {
                        "text/html": "(17117 rows affected)"
                    },
                    "metadata": {}
                },
                {
                    "output_type": "display_data",
                    "data": {
                        "text/html": "Total execution time: 00:00:01.795"
                    },
                    "metadata": {}
                }
            ],
            "execution_count": 1
        }
    ]
}