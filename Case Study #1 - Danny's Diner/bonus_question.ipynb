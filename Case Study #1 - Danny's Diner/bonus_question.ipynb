{
    "metadata": {
        "kernelspec": {
            "name": "SQL",
            "display_name": "SQL",
            "language": "sql"
        },
        "language_info": {
            "name": "sql",
            "version": ""
        }
    },
    "nbformat_minor": 2,
    "nbformat": 4,
    "cells": [
        {
            "cell_type": "markdown",
            "source": [
                "### Bonus Question\r\n",
                "---\r\n",
                "    Join all the things"
            ],
            "metadata": {
                "azdata_cell_guid": "6c63286f-505f-4b7a-bf0e-707b62454dda"
            },
            "attachments": {}
        },
        {
            "cell_type": "code",
            "source": [
                "SELECT\r\n",
                "  s.customer_id,\r\n",
                "  s.order_date,\r\n",
                "  mn.product_name,\r\n",
                "  mn.price,\r\n",
                "  CASE\r\n",
                "    WHEN s.order_date >= mb.join_date THEN 'Y'\r\n",
                "    ELSE 'N'\r\n",
                "  END as member\r\n",
                "FROM\r\n",
                "  sales s\r\n",
                "LEFT JOIN members mb on mb.customer_id = s.customer_id\r\n",
                "JOIN menu mn on mn.product_id = s.product_id"
            ],
            "metadata": {
                "azdata_cell_guid": "4c0a784f-a2b6-47a0-a39d-43a5e75a5bda",
                "language": "sql"
            },
            "outputs": [
                {
                    "output_type": "display_data",
                    "data": {
                        "text/html": "(15 rows affected)"
                    },
                    "metadata": {}
                },
                {
                    "output_type": "display_data",
                    "data": {
                        "text/html": "Total execution time: 00:00:00.010"
                    },
                    "metadata": {}
                },
                {
                    "output_type": "execute_result",
                    "execution_count": 1,
                    "data": {
                        "application/vnd.dataresource+json": {
                            "schema": {
                                "fields": [
                                    {
                                        "name": "customer_id"
                                    },
                                    {
                                        "name": "order_date"
                                    },
                                    {
                                        "name": "product_name"
                                    },
                                    {
                                        "name": "price"
                                    },
                                    {
                                        "name": "member"
                                    }
                                ]
                            },
                            "data": [
                                {
                                    "0": "A",
                                    "1": "2021-01-01",
                                    "2": "sushi",
                                    "3": "10",
                                    "4": "N"
                                },
                                {
                                    "0": "A",
                                    "1": "2021-01-01",
                                    "2": "curry",
                                    "3": "15",
                                    "4": "N"
                                },
                                {
                                    "0": "A",
                                    "1": "2021-01-07",
                                    "2": "curry",
                                    "3": "15",
                                    "4": "Y"
                                },
                                {
                                    "0": "A",
                                    "1": "2021-01-10",
                                    "2": "ramen",
                                    "3": "12",
                                    "4": "Y"
                                },
                                {
                                    "0": "A",
                                    "1": "2021-01-11",
                                    "2": "ramen",
                                    "3": "12",
                                    "4": "Y"
                                },
                                {
                                    "0": "A",
                                    "1": "2021-01-11",
                                    "2": "ramen",
                                    "3": "12",
                                    "4": "Y"
                                },
                                {
                                    "0": "B",
                                    "1": "2021-01-01",
                                    "2": "curry",
                                    "3": "15",
                                    "4": "N"
                                },
                                {
                                    "0": "B",
                                    "1": "2021-01-02",
                                    "2": "curry",
                                    "3": "15",
                                    "4": "N"
                                },
                                {
                                    "0": "B",
                                    "1": "2021-01-04",
                                    "2": "sushi",
                                    "3": "10",
                                    "4": "N"
                                },
                                {
                                    "0": "B",
                                    "1": "2021-01-11",
                                    "2": "sushi",
                                    "3": "10",
                                    "4": "Y"
                                },
                                {
                                    "0": "B",
                                    "1": "2021-01-16",
                                    "2": "ramen",
                                    "3": "12",
                                    "4": "Y"
                                },
                                {
                                    "0": "B",
                                    "1": "2021-02-01",
                                    "2": "ramen",
                                    "3": "12",
                                    "4": "Y"
                                },
                                {
                                    "0": "C",
                                    "1": "2021-01-01",
                                    "2": "ramen",
                                    "3": "12",
                                    "4": "N"
                                },
                                {
                                    "0": "C",
                                    "1": "2021-01-01",
                                    "2": "ramen",
                                    "3": "12",
                                    "4": "N"
                                },
                                {
                                    "0": "C",
                                    "1": "2021-01-07",
                                    "2": "ramen",
                                    "3": "12",
                                    "4": "N"
                                }
                            ]
                        },
                        "text/html": "<table><tr><th>customer_id</th><th>order_date</th><th>product_name</th><th>price</th><th>member</th></tr><tr><td>A</td><td>2021-01-01</td><td>sushi</td><td>10</td><td>N</td></tr><tr><td>A</td><td>2021-01-01</td><td>curry</td><td>15</td><td>N</td></tr><tr><td>A</td><td>2021-01-07</td><td>curry</td><td>15</td><td>Y</td></tr><tr><td>A</td><td>2021-01-10</td><td>ramen</td><td>12</td><td>Y</td></tr><tr><td>A</td><td>2021-01-11</td><td>ramen</td><td>12</td><td>Y</td></tr><tr><td>A</td><td>2021-01-11</td><td>ramen</td><td>12</td><td>Y</td></tr><tr><td>B</td><td>2021-01-01</td><td>curry</td><td>15</td><td>N</td></tr><tr><td>B</td><td>2021-01-02</td><td>curry</td><td>15</td><td>N</td></tr><tr><td>B</td><td>2021-01-04</td><td>sushi</td><td>10</td><td>N</td></tr><tr><td>B</td><td>2021-01-11</td><td>sushi</td><td>10</td><td>Y</td></tr><tr><td>B</td><td>2021-01-16</td><td>ramen</td><td>12</td><td>Y</td></tr><tr><td>B</td><td>2021-02-01</td><td>ramen</td><td>12</td><td>Y</td></tr><tr><td>C</td><td>2021-01-01</td><td>ramen</td><td>12</td><td>N</td></tr><tr><td>C</td><td>2021-01-01</td><td>ramen</td><td>12</td><td>N</td></tr><tr><td>C</td><td>2021-01-07</td><td>ramen</td><td>12</td><td>N</td></tr></table>"
                    },
                    "metadata": {}
                }
            ],
            "execution_count": 1
        },
        {
            "cell_type": "markdown",
            "source": [
                "    Rank all the things"
            ],
            "metadata": {
                "azdata_cell_guid": "2422968e-d136-4d4c-a90f-c24e81edaba0"
            },
            "attachments": {}
        },
        {
            "cell_type": "code",
            "source": [
                "WITH tbl as(\r\n",
                "  SELECT\r\n",
                "    s.customer_id,\r\n",
                "    s.order_date,\r\n",
                "    mb.join_date,\r\n",
                "    mn.product_name,\r\n",
                "    mn.price,\r\n",
                "    CASE\r\n",
                "      WHEN s.order_date >= mb.join_date THEN 'Y'\r\n",
                "      ELSE 'N'\r\n",
                "    END as member\r\n",
                "  FROM\r\n",
                "    sales s\r\n",
                "  LEFT JOIN members mb on mb.customer_id = s.customer_id\r\n",
                "  JOIN menu mn on mn.product_id = s.product_id\r\n",
                ")\r\n",
                "SELECT\r\n",
                "  *,\r\n",
                "  CASE\r\n",
                "    WHEN order_date >= join_date THEN RANK() OVER(PARTITION BY customer_id, member ORDER BY order_date ASC)\r\n",
                "    ELSE null\r\n",
                "  END as rank\r\n",
                "FROM tbl"
            ],
            "metadata": {
                "azdata_cell_guid": "3cf395cb-0395-446e-a1ac-4dc943ff2ef0",
                "language": "sql"
            },
            "outputs": [
                {
                    "output_type": "display_data",
                    "data": {
                        "text/html": "(15 rows affected)"
                    },
                    "metadata": {}
                },
                {
                    "output_type": "display_data",
                    "data": {
                        "text/html": "Total execution time: 00:00:00.012"
                    },
                    "metadata": {}
                },
                {
                    "output_type": "execute_result",
                    "execution_count": 2,
                    "data": {
                        "application/vnd.dataresource+json": {
                            "schema": {
                                "fields": [
                                    {
                                        "name": "customer_id"
                                    },
                                    {
                                        "name": "order_date"
                                    },
                                    {
                                        "name": "join_date"
                                    },
                                    {
                                        "name": "product_name"
                                    },
                                    {
                                        "name": "price"
                                    },
                                    {
                                        "name": "member"
                                    },
                                    {
                                        "name": "rank"
                                    }
                                ]
                            },
                            "data": [
                                {
                                    "0": "A",
                                    "1": "2021-01-01",
                                    "2": "2021-01-07",
                                    "3": "sushi",
                                    "4": "10",
                                    "5": "N",
                                    "6": "NULL"
                                },
                                {
                                    "0": "A",
                                    "1": "2021-01-01",
                                    "2": "2021-01-07",
                                    "3": "curry",
                                    "4": "15",
                                    "5": "N",
                                    "6": "NULL"
                                },
                                {
                                    "0": "A",
                                    "1": "2021-01-07",
                                    "2": "2021-01-07",
                                    "3": "curry",
                                    "4": "15",
                                    "5": "Y",
                                    "6": "1"
                                },
                                {
                                    "0": "A",
                                    "1": "2021-01-10",
                                    "2": "2021-01-07",
                                    "3": "ramen",
                                    "4": "12",
                                    "5": "Y",
                                    "6": "2"
                                },
                                {
                                    "0": "A",
                                    "1": "2021-01-11",
                                    "2": "2021-01-07",
                                    "3": "ramen",
                                    "4": "12",
                                    "5": "Y",
                                    "6": "3"
                                },
                                {
                                    "0": "A",
                                    "1": "2021-01-11",
                                    "2": "2021-01-07",
                                    "3": "ramen",
                                    "4": "12",
                                    "5": "Y",
                                    "6": "3"
                                },
                                {
                                    "0": "B",
                                    "1": "2021-01-01",
                                    "2": "2021-01-09",
                                    "3": "curry",
                                    "4": "15",
                                    "5": "N",
                                    "6": "NULL"
                                },
                                {
                                    "0": "B",
                                    "1": "2021-01-02",
                                    "2": "2021-01-09",
                                    "3": "curry",
                                    "4": "15",
                                    "5": "N",
                                    "6": "NULL"
                                },
                                {
                                    "0": "B",
                                    "1": "2021-01-04",
                                    "2": "2021-01-09",
                                    "3": "sushi",
                                    "4": "10",
                                    "5": "N",
                                    "6": "NULL"
                                },
                                {
                                    "0": "B",
                                    "1": "2021-01-11",
                                    "2": "2021-01-09",
                                    "3": "sushi",
                                    "4": "10",
                                    "5": "Y",
                                    "6": "1"
                                },
                                {
                                    "0": "B",
                                    "1": "2021-01-16",
                                    "2": "2021-01-09",
                                    "3": "ramen",
                                    "4": "12",
                                    "5": "Y",
                                    "6": "2"
                                },
                                {
                                    "0": "B",
                                    "1": "2021-02-01",
                                    "2": "2021-01-09",
                                    "3": "ramen",
                                    "4": "12",
                                    "5": "Y",
                                    "6": "3"
                                },
                                {
                                    "0": "C",
                                    "1": "2021-01-01",
                                    "2": "NULL",
                                    "3": "ramen",
                                    "4": "12",
                                    "5": "N",
                                    "6": "NULL"
                                },
                                {
                                    "0": "C",
                                    "1": "2021-01-01",
                                    "2": "NULL",
                                    "3": "ramen",
                                    "4": "12",
                                    "5": "N",
                                    "6": "NULL"
                                },
                                {
                                    "0": "C",
                                    "1": "2021-01-07",
                                    "2": "NULL",
                                    "3": "ramen",
                                    "4": "12",
                                    "5": "N",
                                    "6": "NULL"
                                }
                            ]
                        },
                        "text/html": "<table><tr><th>customer_id</th><th>order_date</th><th>join_date</th><th>product_name</th><th>price</th><th>member</th><th>rank</th></tr><tr><td>A</td><td>2021-01-01</td><td>2021-01-07</td><td>sushi</td><td>10</td><td>N</td><td>NULL</td></tr><tr><td>A</td><td>2021-01-01</td><td>2021-01-07</td><td>curry</td><td>15</td><td>N</td><td>NULL</td></tr><tr><td>A</td><td>2021-01-07</td><td>2021-01-07</td><td>curry</td><td>15</td><td>Y</td><td>1</td></tr><tr><td>A</td><td>2021-01-10</td><td>2021-01-07</td><td>ramen</td><td>12</td><td>Y</td><td>2</td></tr><tr><td>A</td><td>2021-01-11</td><td>2021-01-07</td><td>ramen</td><td>12</td><td>Y</td><td>3</td></tr><tr><td>A</td><td>2021-01-11</td><td>2021-01-07</td><td>ramen</td><td>12</td><td>Y</td><td>3</td></tr><tr><td>B</td><td>2021-01-01</td><td>2021-01-09</td><td>curry</td><td>15</td><td>N</td><td>NULL</td></tr><tr><td>B</td><td>2021-01-02</td><td>2021-01-09</td><td>curry</td><td>15</td><td>N</td><td>NULL</td></tr><tr><td>B</td><td>2021-01-04</td><td>2021-01-09</td><td>sushi</td><td>10</td><td>N</td><td>NULL</td></tr><tr><td>B</td><td>2021-01-11</td><td>2021-01-09</td><td>sushi</td><td>10</td><td>Y</td><td>1</td></tr><tr><td>B</td><td>2021-01-16</td><td>2021-01-09</td><td>ramen</td><td>12</td><td>Y</td><td>2</td></tr><tr><td>B</td><td>2021-02-01</td><td>2021-01-09</td><td>ramen</td><td>12</td><td>Y</td><td>3</td></tr><tr><td>C</td><td>2021-01-01</td><td>NULL</td><td>ramen</td><td>12</td><td>N</td><td>NULL</td></tr><tr><td>C</td><td>2021-01-01</td><td>NULL</td><td>ramen</td><td>12</td><td>N</td><td>NULL</td></tr><tr><td>C</td><td>2021-01-07</td><td>NULL</td><td>ramen</td><td>12</td><td>N</td><td>NULL</td></tr></table>"
                    },
                    "metadata": {}
                }
            ],
            "execution_count": 2
        }
    ]
}