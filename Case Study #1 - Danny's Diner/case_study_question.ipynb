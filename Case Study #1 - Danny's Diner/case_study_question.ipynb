{
    "metadata": {
        "kernelspec": {
            "name": "SQL",
            "display_name": "SQL",
            "language": "sql"
        },
        "language_info": {
            "name": "sql",
            "version": ""
        }
    },
    "nbformat_minor": 2,
    "nbformat": 4,
    "cells": [
        {
            "cell_type": "markdown",
            "source": [
                "### Case Study Question\r\n",
                "---\r\n",
                "    1. What is the total amount each customer spent at the restaurant?"
            ],
            "metadata": {
                "azdata_cell_guid": "affa6b13-a23a-472b-b3fa-e53c814d8804"
            },
            "attachments": {}
        },
        {
            "cell_type": "code",
            "source": [
                "SELECT\r\n",
                "  s.customer_id as customer, \r\n",
                "  SUM(mn.price) as total_amount\r\n",
                "FROM \r\n",
                "  sales s\r\n",
                "JOIN menu mn on mn.product_id = s.product_id\r\n",
                "GROUP BY s.customer_id"
            ],
            "metadata": {
                "azdata_cell_guid": "2428ae3c-0f80-4f1a-9d7c-29698193dc65",
                "language": "sql"
            },
            "outputs": [
                {
                    "output_type": "display_data",
                    "data": {
                        "text/html": "(3 rows affected)"
                    },
                    "metadata": {}
                },
                {
                    "output_type": "display_data",
                    "data": {
                        "text/html": "Total execution time: 00:00:00.022"
                    },
                    "metadata": {}
                },
                {
                    "output_type": "execute_result",
                    "metadata": {},
                    "execution_count": 1,
                    "data": {
                        "application/vnd.dataresource+json": {
                            "schema": {
                                "fields": [
                                    {
                                        "name": "customer"
                                    },
                                    {
                                        "name": "total_amount"
                                    }
                                ]
                            },
                            "data": [
                                {
                                    "0": "A",
                                    "1": "76"
                                },
                                {
                                    "0": "B",
                                    "1": "74"
                                },
                                {
                                    "0": "C",
                                    "1": "36"
                                }
                            ]
                        },
                        "text/html": [
                            "<table>",
                            "<tr><th>customer</th><th>total_amount</th></tr>",
                            "<tr><td>A</td><td>76</td></tr>",
                            "<tr><td>B</td><td>74</td></tr>",
                            "<tr><td>C</td><td>36</td></tr>",
                            "</table>"
                        ]
                    }
                }
            ],
            "execution_count": 1
        },
        {
            "cell_type": "markdown",
            "source": [
                "    2. How many days has each customer visited the restaurant?"
            ],
            "metadata": {
                "azdata_cell_guid": "702db654-94db-47bb-8a4c-11dfe354b7a8"
            },
            "attachments": {}
        },
        {
            "cell_type": "code",
            "source": [
                "SELECT\r\n",
                "  customer_id, \r\n",
                "  COUNT(DISTINCT order_date) as num_days\r\n",
                "FROM\r\n",
                "  sales\r\n",
                "GROUP BY customer_id;"
            ],
            "metadata": {
                "azdata_cell_guid": "79ba554b-5fe7-471b-8b61-ba325fd20319",
                "language": "sql"
            },
            "outputs": [
                {
                    "output_type": "display_data",
                    "data": {
                        "text/html": "(3 rows affected)"
                    },
                    "metadata": {}
                },
                {
                    "output_type": "display_data",
                    "data": {
                        "text/html": "Total execution time: 00:00:00.014"
                    },
                    "metadata": {}
                },
                {
                    "output_type": "execute_result",
                    "metadata": {},
                    "execution_count": 2,
                    "data": {
                        "application/vnd.dataresource+json": {
                            "schema": {
                                "fields": [
                                    {
                                        "name": "customer_id"
                                    },
                                    {
                                        "name": "num_days"
                                    }
                                ]
                            },
                            "data": [
                                {
                                    "0": "A",
                                    "1": "4"
                                },
                                {
                                    "0": "B",
                                    "1": "6"
                                },
                                {
                                    "0": "C",
                                    "1": "2"
                                }
                            ]
                        },
                        "text/html": [
                            "<table>",
                            "<tr><th>customer_id</th><th>num_days</th></tr>",
                            "<tr><td>A</td><td>4</td></tr>",
                            "<tr><td>B</td><td>6</td></tr>",
                            "<tr><td>C</td><td>2</td></tr>",
                            "</table>"
                        ]
                    }
                }
            ],
            "execution_count": 2
        },
        {
            "cell_type": "markdown",
            "source": [
                "    3. What was the first item from the menu purchased by each customer?"
            ],
            "metadata": {
                "language": "sql",
                "azdata_cell_guid": "20904bee-9bf0-4259-81b8-2aa1c14a0885"
            },
            "attachments": {}
        },
        {
            "cell_type": "code",
            "source": [
                "WITH temp AS (\r\n",
                "  SELECT\r\n",
                "    s.customer_id,\r\n",
                "    s.order_date,\r\n",
                "    mn.product_name,\r\n",
                "    DENSE_RANK() OVER(PARTITION BY s.customer_id ORDER BY s.order_date ASC) AS dense_rank\r\n",
                "  FROM\r\n",
                "    sales s\r\n",
                "  JOIN menu mn ON mn.product_id = s.product_id\r\n",
                ")\r\n",
                "SELECT customer_id as customer, order_date, product_name as first_item_purchased\r\n",
                "FROM\r\n",
                "  temp\r\n",
                "WHERE\r\n",
                "  dense_rank = 1\r\n",
                "GROUP BY\r\n",
                "  customer_id, order_date, product_name"
            ],
            "metadata": {
                "language": "sql",
                "azdata_cell_guid": "7f015a04-612f-42de-be55-2fac0ccd9b84"
            },
            "outputs": [
                {
                    "output_type": "display_data",
                    "data": {
                        "text/html": "(4 rows affected)"
                    },
                    "metadata": {}
                },
                {
                    "output_type": "display_data",
                    "data": {
                        "text/html": "Total execution time: 00:00:00.023"
                    },
                    "metadata": {}
                },
                {
                    "output_type": "execute_result",
                    "metadata": {},
                    "execution_count": 3,
                    "data": {
                        "application/vnd.dataresource+json": {
                            "schema": {
                                "fields": [
                                    {
                                        "name": "customer"
                                    },
                                    {
                                        "name": "order_date"
                                    },
                                    {
                                        "name": "first_item_purchased"
                                    }
                                ]
                            },
                            "data": [
                                {
                                    "0": "A",
                                    "1": "2021-01-01",
                                    "2": "curry"
                                },
                                {
                                    "0": "A",
                                    "1": "2021-01-01",
                                    "2": "sushi"
                                },
                                {
                                    "0": "B",
                                    "1": "2021-01-01",
                                    "2": "curry"
                                },
                                {
                                    "0": "C",
                                    "1": "2021-01-01",
                                    "2": "ramen"
                                }
                            ]
                        },
                        "text/html": [
                            "<table>",
                            "<tr><th>customer</th><th>order_date</th><th>first_item_purchased</th></tr>",
                            "<tr><td>A</td><td>2021-01-01</td><td>curry</td></tr>",
                            "<tr><td>A</td><td>2021-01-01</td><td>sushi</td></tr>",
                            "<tr><td>B</td><td>2021-01-01</td><td>curry</td></tr>",
                            "<tr><td>C</td><td>2021-01-01</td><td>ramen</td></tr>",
                            "</table>"
                        ]
                    }
                }
            ],
            "execution_count": 3
        },
        {
            "cell_type": "markdown",
            "source": [
                "    4. What is the most purchased item on the menu and how many times was it purchased by all customers?"
            ],
            "metadata": {
                "language": "sql",
                "azdata_cell_guid": "b783346e-7836-48c2-8d17-5301ec8a96c5"
            },
            "attachments": {}
        },
        {
            "cell_type": "code",
            "source": [
                "SELECT TOP 1\r\n",
                "  mn.product_name, COUNT(mn.price) as frequency, SUM(mn.price) as purchased\r\n",
                "FROM sales s\r\n",
                "JOIN menu mn on mn.product_id = s.product_id\r\n",
                "GROUP BY mn.product_name\r\n",
                "ORDER BY purchased DESC"
            ],
            "metadata": {
                "language": "sql",
                "azdata_cell_guid": "6f2c9cfa-6127-420e-a010-96fb408d499c"
            },
            "outputs": [
                {
                    "output_type": "display_data",
                    "data": {
                        "text/html": "(1 row affected)"
                    },
                    "metadata": {}
                },
                {
                    "output_type": "display_data",
                    "data": {
                        "text/html": "Total execution time: 00:00:00.033"
                    },
                    "metadata": {}
                },
                {
                    "output_type": "execute_result",
                    "metadata": {},
                    "execution_count": 4,
                    "data": {
                        "application/vnd.dataresource+json": {
                            "schema": {
                                "fields": [
                                    {
                                        "name": "product_name"
                                    },
                                    {
                                        "name": "frequency"
                                    },
                                    {
                                        "name": "purchased"
                                    }
                                ]
                            },
                            "data": [
                                {
                                    "0": "ramen",
                                    "1": "8",
                                    "2": "96"
                                }
                            ]
                        },
                        "text/html": [
                            "<table>",
                            "<tr><th>product_name</th><th>frequency</th><th>purchased</th></tr>",
                            "<tr><td>ramen</td><td>8</td><td>96</td></tr>",
                            "</table>"
                        ]
                    }
                }
            ],
            "execution_count": 4
        },
        {
            "cell_type": "markdown",
            "source": [
                "    5. Which item was the most popular for each customer?"
            ],
            "metadata": {
                "language": "sql",
                "azdata_cell_guid": "2f61cde8-e909-487e-94ad-94eb975f7661"
            },
            "attachments": {}
        },
        {
            "cell_type": "code",
            "source": [
                "WITH tbl1 as(\r\n",
                "  SELECT\r\n",
                "    s.customer_id, mn.product_name, COUNT(mn.product_id) as frequency\r\n",
                "  FROM\r\n",
                "    sales s\r\n",
                "  JOIN menu mn on mn.product_id = s.product_id\r\n",
                "  GROUP BY s.customer_id, mn.product_name\r\n",
                "),\r\n",
                "tbl2 as(\r\n",
                "  SELECT\r\n",
                "    tbl1.customer_id,\r\n",
                "    tbl1.product_name,\r\n",
                "    DENSE_RANK() OVER(PARTITION BY customer_id ORDER BY frequency DESC) AS dense_rank\r\n",
                "  FROM tbl1\r\n",
                ")\r\n",
                "SELECT\r\n",
                "  tbl2.customer_id,\r\n",
                "  tbl2.product_name\r\n",
                "FROM\r\n",
                "  tbl2\r\n",
                "WHERE\r\n",
                "  dense_rank = 1"
            ],
            "metadata": {
                "language": "sql",
                "azdata_cell_guid": "1b98e58f-6474-488b-b94e-0e6911cd7126"
            },
            "outputs": [
                {
                    "output_type": "display_data",
                    "data": {
                        "text/html": "(5 rows affected)"
                    },
                    "metadata": {}
                },
                {
                    "output_type": "display_data",
                    "data": {
                        "text/html": "Total execution time: 00:00:00.023"
                    },
                    "metadata": {}
                },
                {
                    "output_type": "execute_result",
                    "metadata": {},
                    "execution_count": 5,
                    "data": {
                        "application/vnd.dataresource+json": {
                            "schema": {
                                "fields": [
                                    {
                                        "name": "customer_id"
                                    },
                                    {
                                        "name": "product_name"
                                    }
                                ]
                            },
                            "data": [
                                {
                                    "0": "A",
                                    "1": "ramen"
                                },
                                {
                                    "0": "B",
                                    "1": "sushi"
                                },
                                {
                                    "0": "B",
                                    "1": "curry"
                                },
                                {
                                    "0": "B",
                                    "1": "ramen"
                                },
                                {
                                    "0": "C",
                                    "1": "ramen"
                                }
                            ]
                        },
                        "text/html": [
                            "<table>",
                            "<tr><th>customer_id</th><th>product_name</th></tr>",
                            "<tr><td>A</td><td>ramen</td></tr>",
                            "<tr><td>B</td><td>sushi</td></tr>",
                            "<tr><td>B</td><td>curry</td></tr>",
                            "<tr><td>B</td><td>ramen</td></tr>",
                            "<tr><td>C</td><td>ramen</td></tr>",
                            "</table>"
                        ]
                    }
                }
            ],
            "execution_count": 5
        },
        {
            "cell_type": "markdown",
            "source": [
                "    6. Which item was purchased first by the customer after they became a member?"
            ],
            "metadata": {
                "language": "sql",
                "azdata_cell_guid": "d17eb29c-66c3-43b0-9931-dbda80fd97f3"
            },
            "attachments": {}
        },
        {
            "cell_type": "code",
            "source": [
                "WITH tbl1 as(\r\n",
                "  SELECT\r\n",
                "    s.customer_id,\r\n",
                "    s.order_date,\r\n",
                "    mn.product_name\r\n",
                "  FROM sales s\r\n",
                "  JOIN members mb on mb.customer_id = s.customer_id\r\n",
                "  JOIN menu mn on mn.product_id = s.product_id  \r\n",
                "  WHERE s.order_date >= mb.join_date\r\n",
                "),\r\n",
                " tbl2 as(\r\n",
                "  SELECT\r\n",
                "    tbl1.customer_id,\r\n",
                "    tbl1.order_date,\r\n",
                "    tbl1.product_name,\r\n",
                "    DENSE_RANK() OVER(PARTITION BY customer_id ORDER BY order_date ASC) as dense_rank\r\n",
                "  FROM\r\n",
                "    tbl1\r\n",
                " )\r\n",
                " SELECT\r\n",
                "  tbl2.customer_id,\r\n",
                "  tbl2.order_date,\r\n",
                "  tbl2.product_name\r\n",
                "FROM tbl2\r\n",
                "WHERE\r\n",
                "  dense_rank = 1"
            ],
            "metadata": {
                "language": "sql",
                "azdata_cell_guid": "b20994b5-29ff-47dc-afc9-76d765e4ab72"
            },
            "outputs": [
                {
                    "output_type": "display_data",
                    "data": {
                        "text/html": "(2 rows affected)"
                    },
                    "metadata": {}
                },
                {
                    "output_type": "display_data",
                    "data": {
                        "text/html": "Total execution time: 00:00:00.020"
                    },
                    "metadata": {}
                },
                {
                    "output_type": "execute_result",
                    "metadata": {},
                    "execution_count": 6,
                    "data": {
                        "application/vnd.dataresource+json": {
                            "schema": {
                                "fields": [
                                    {
                                        "name": "customer_id"
                                    },
                                    {
                                        "name": "order_date"
                                    },
                                    {
                                        "name": "product_name"
                                    }
                                ]
                            },
                            "data": [
                                {
                                    "0": "A",
                                    "1": "2021-01-07",
                                    "2": "curry"
                                },
                                {
                                    "0": "B",
                                    "1": "2021-01-11",
                                    "2": "sushi"
                                }
                            ]
                        },
                        "text/html": [
                            "<table>",
                            "<tr><th>customer_id</th><th>order_date</th><th>product_name</th></tr>",
                            "<tr><td>A</td><td>2021-01-07</td><td>curry</td></tr>",
                            "<tr><td>B</td><td>2021-01-11</td><td>sushi</td></tr>",
                            "</table>"
                        ]
                    }
                }
            ],
            "execution_count": 6
        },
        {
            "cell_type": "markdown",
            "source": [
                "    7. Which item was purchased just before the customer became a member?"
            ],
            "metadata": {
                "language": "sql",
                "azdata_cell_guid": "ccec873e-5247-4297-b292-7851f5a87c67"
            },
            "attachments": {}
        },
        {
            "cell_type": "code",
            "source": [
                "WITH tbl1 as(\r\n",
                "  SELECT\r\n",
                "    s.customer_id,\r\n",
                "    s.order_date,\r\n",
                "    mn.product_name\r\n",
                "  FROM sales s\r\n",
                "  JOIN members mb on mb.customer_id = s.customer_id\r\n",
                "  JOIN menu mn on mn.product_id = s.product_id  \r\n",
                "  WHERE s.order_date < mb.join_date\r\n",
                "),\r\n",
                "tbl2 as(\r\n",
                "  SELECT\r\n",
                "    tbl1.customer_id,\r\n",
                "    tbl1.order_date,\r\n",
                "    tbl1.product_name,\r\n",
                "    DENSE_RANK() OVER(PARTITION BY customer_id ORDER BY order_date DESC) as dense_rank\r\n",
                "  FROM\r\n",
                "    tbl1\r\n",
                ")\r\n",
                "SELECT\r\n",
                "  tbl2.customer_id,\r\n",
                "  tbl2.order_date,\r\n",
                "  tbl2.product_name\r\n",
                "FROM tbl2\r\n",
                "WHERE\r\n",
                "  dense_rank = 1"
            ],
            "metadata": {
                "language": "sql",
                "azdata_cell_guid": "781edcad-dceb-479a-a4ae-1c7e1a9f8dae"
            },
            "outputs": [
                {
                    "output_type": "display_data",
                    "data": {
                        "text/html": "(3 rows affected)"
                    },
                    "metadata": {}
                },
                {
                    "output_type": "display_data",
                    "data": {
                        "text/html": "Total execution time: 00:00:00.019"
                    },
                    "metadata": {}
                },
                {
                    "output_type": "execute_result",
                    "metadata": {},
                    "execution_count": 7,
                    "data": {
                        "application/vnd.dataresource+json": {
                            "schema": {
                                "fields": [
                                    {
                                        "name": "customer_id"
                                    },
                                    {
                                        "name": "order_date"
                                    },
                                    {
                                        "name": "product_name"
                                    }
                                ]
                            },
                            "data": [
                                {
                                    "0": "A",
                                    "1": "2021-01-01",
                                    "2": "sushi"
                                },
                                {
                                    "0": "A",
                                    "1": "2021-01-01",
                                    "2": "curry"
                                },
                                {
                                    "0": "B",
                                    "1": "2021-01-04",
                                    "2": "sushi"
                                }
                            ]
                        },
                        "text/html": [
                            "<table>",
                            "<tr><th>customer_id</th><th>order_date</th><th>product_name</th></tr>",
                            "<tr><td>A</td><td>2021-01-01</td><td>sushi</td></tr>",
                            "<tr><td>A</td><td>2021-01-01</td><td>curry</td></tr>",
                            "<tr><td>B</td><td>2021-01-04</td><td>sushi</td></tr>",
                            "</table>"
                        ]
                    }
                }
            ],
            "execution_count": 7
        },
        {
            "cell_type": "markdown",
            "source": [
                "    8. What is the total items and amount spent for each member before they became a member?"
            ],
            "metadata": {
                "language": "sql",
                "azdata_cell_guid": "65122edc-f042-46cb-9052-fa5c19fd9926"
            },
            "attachments": {}
        },
        {
            "cell_type": "code",
            "source": [
                "SELECT\r\n",
                "  s.customer_id,\r\n",
                "  COUNT(s.product_id) as total_item,\r\n",
                "  SUM(mn.price) as total_amount_spent\r\n",
                "FROM sales s\r\n",
                "JOIN menu mn on mn.product_id = s.product_id\r\n",
                "JOIN members mb on mb.customer_id = s.customer_id\r\n",
                "WHERE s.order_date < mb.join_date\r\n",
                "GROUP BY s.customer_id;"
            ],
            "metadata": {
                "language": "sql",
                "azdata_cell_guid": "2f7fb66b-3122-40e1-8423-5bdbf826b20f"
            },
            "outputs": [
                {
                    "output_type": "display_data",
                    "data": {
                        "text/html": "(2 rows affected)"
                    },
                    "metadata": {}
                },
                {
                    "output_type": "display_data",
                    "data": {
                        "text/html": "Total execution time: 00:00:00.013"
                    },
                    "metadata": {}
                },
                {
                    "output_type": "execute_result",
                    "metadata": {},
                    "execution_count": 8,
                    "data": {
                        "application/vnd.dataresource+json": {
                            "schema": {
                                "fields": [
                                    {
                                        "name": "customer_id"
                                    },
                                    {
                                        "name": "total_item"
                                    },
                                    {
                                        "name": "total_amount_spent"
                                    }
                                ]
                            },
                            "data": [
                                {
                                    "0": "A",
                                    "1": "2",
                                    "2": "25"
                                },
                                {
                                    "0": "B",
                                    "1": "3",
                                    "2": "40"
                                }
                            ]
                        },
                        "text/html": [
                            "<table>",
                            "<tr><th>customer_id</th><th>total_item</th><th>total_amount_spent</th></tr>",
                            "<tr><td>A</td><td>2</td><td>25</td></tr>",
                            "<tr><td>B</td><td>3</td><td>40</td></tr>",
                            "</table>"
                        ]
                    }
                }
            ],
            "execution_count": 8
        },
        {
            "cell_type": "markdown",
            "source": [
                "    9.  If each $1 spent equates to 10 points and sushi has a 2x points multiplier - how many points would each customer have?"
            ],
            "metadata": {
                "language": "sql",
                "azdata_cell_guid": "b5329345-2e24-4fb4-9024-60dcfed0eb12"
            },
            "attachments": {}
        },
        {
            "cell_type": "code",
            "source": [
                "WITH tbl1 as(\r\n",
                "  SELECT\r\n",
                "    s.customer_id,\r\n",
                "    s.product_id,\r\n",
                "    COUNT(s.product_id) as quantity,\r\n",
                "    mn.price\r\n",
                "  FROM sales s\r\n",
                "  JOIN menu mn on mn.product_id = s.product_id\r\n",
                "  GROUP BY s.customer_id, s.product_id, mn.price\r\n",
                "),\r\n",
                "tbl2 as(\r\n",
                "  SELECT\r\n",
                "    customer_id,\r\n",
                "    CASE\r\n",
                "      WHEN product_id = 1 THEN price*quantity*20\r\n",
                "      ELSE price*quantity*10\r\n",
                "    END as point\r\n",
                "  FROM tbl1\r\n",
                ")\r\n",
                "SELECT\r\n",
                "  customer_id,\r\n",
                "  SUM(point) as points\r\n",
                "FROM tbl2\r\n",
                "GROUP BY customer_id;"
            ],
            "metadata": {
                "language": "sql",
                "azdata_cell_guid": "bb592b02-0639-4a5b-8616-fdba5635d50d"
            },
            "outputs": [
                {
                    "output_type": "display_data",
                    "data": {
                        "text/html": "(3 rows affected)"
                    },
                    "metadata": {}
                },
                {
                    "output_type": "display_data",
                    "data": {
                        "text/html": "Total execution time: 00:00:00.015"
                    },
                    "metadata": {}
                },
                {
                    "output_type": "execute_result",
                    "metadata": {},
                    "execution_count": 9,
                    "data": {
                        "application/vnd.dataresource+json": {
                            "schema": {
                                "fields": [
                                    {
                                        "name": "customer_id"
                                    },
                                    {
                                        "name": "points"
                                    }
                                ]
                            },
                            "data": [
                                {
                                    "0": "A",
                                    "1": "860"
                                },
                                {
                                    "0": "B",
                                    "1": "940"
                                },
                                {
                                    "0": "C",
                                    "1": "360"
                                }
                            ]
                        },
                        "text/html": [
                            "<table>",
                            "<tr><th>customer_id</th><th>points</th></tr>",
                            "<tr><td>A</td><td>860</td></tr>",
                            "<tr><td>B</td><td>940</td></tr>",
                            "<tr><td>C</td><td>360</td></tr>",
                            "</table>"
                        ]
                    }
                }
            ],
            "execution_count": 9
        },
        {
            "cell_type": "markdown",
            "source": [
                "10. In the first week after a customer joins the program (including their join date) they earn 2x points on all items, not just sushi - how many points do customer A and B have at the end of January?"
            ],
            "metadata": {
                "language": "sql",
                "azdata_cell_guid": "0782cea0-b691-48de-a560-a7c0397779a0"
            },
            "attachments": {}
        },
        {
            "cell_type": "code",
            "source": [
                "WITH tbl1 as(\r\n",
                "  SELECT\r\n",
                "    s.customer_id,\r\n",
                "    s.order_date,\r\n",
                "    mb.join_date,\r\n",
                "    s.product_id,\r\n",
                "    COUNT(s.product_id) as quantity,\r\n",
                "    mn.price\r\n",
                "  FROM sales s\r\n",
                "  JOIN members mb on mb.customer_id = s.customer_id\r\n",
                "  JOIN menu mn on mn.product_id = s.product_id\r\n",
                "  WHERE MONTH(s.order_date) = 1\r\n",
                "  GROUP BY s.customer_id, s.order_date, mb.join_date, s.product_id, mn.price\r\n",
                "),\r\n",
                "tbl2 as(\r\n",
                "  SELECT\r\n",
                "    customer_id,\r\n",
                "    product_id,\r\n",
                "    CASE\r\n",
                "      WHEN order_date <= DATEADD(DAY, 6 ,join_date) and order_date >= join_date THEN price*quantity*20\r\n",
                "      ELSE\r\n",
                "        CASE\r\n",
                "          WHEN product_id = 1 THEN price*quantity*20\r\n",
                "          ELSE price*quantity*10\r\n",
                "        END\r\n",
                "    END as point\r\n",
                "  FROM tbl1\r\n",
                ")\r\n",
                "SELECT\r\n",
                "  customer_id,\r\n",
                "  SUM(point) as point\r\n",
                "FROM tbl2\r\n",
                "GROUP BY customer_id;"
            ],
            "metadata": {
                "language": "sql",
                "azdata_cell_guid": "234a99b5-51a9-4a5e-a77a-a712ed622eca"
            },
            "outputs": [
                {
                    "output_type": "display_data",
                    "data": {
                        "text/html": "(2 rows affected)"
                    },
                    "metadata": {}
                },
                {
                    "output_type": "display_data",
                    "data": {
                        "text/html": "Total execution time: 00:00:00.014"
                    },
                    "metadata": {}
                },
                {
                    "output_type": "execute_result",
                    "metadata": {},
                    "execution_count": 10,
                    "data": {
                        "application/vnd.dataresource+json": {
                            "schema": {
                                "fields": [
                                    {
                                        "name": "customer_id"
                                    },
                                    {
                                        "name": "point"
                                    }
                                ]
                            },
                            "data": [
                                {
                                    "0": "A",
                                    "1": "1370"
                                },
                                {
                                    "0": "B",
                                    "1": "820"
                                }
                            ]
                        },
                        "text/html": [
                            "<table>",
                            "<tr><th>customer_id</th><th>point</th></tr>",
                            "<tr><td>A</td><td>1370</td></tr>",
                            "<tr><td>B</td><td>820</td></tr>",
                            "</table>"
                        ]
                    }
                }
            ],
            "execution_count": 10
        }
    ]
}