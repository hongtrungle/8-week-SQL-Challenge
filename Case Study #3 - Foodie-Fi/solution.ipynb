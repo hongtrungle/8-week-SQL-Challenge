{
    "metadata": {
        "kernelspec": {
            "name": "SQL",
            "display_name": "SQL",
            "language": "sql"
        },
        "language_info": {
            "name": "sql",
            "version": ""
        }
    },
    "nbformat_minor": 2,
    "nbformat": 4,
    "cells": [
        {
            "cell_type": "markdown",
            "source": [
                "### Data Analysis Questions\r\n",
                "---\r\n",
                "    1. How many customers has Foodie-Fi ever had?"
            ],
            "metadata": {
                "azdata_cell_guid": "cb721af7-63cb-48f5-b1c4-eb3ccadd8db5"
            },
            "attachments": {}
        },
        {
            "cell_type": "code",
            "source": [
                "SELECT COUNT(distinct customer_id) as number_of_customers\r\n",
                "FROM subscriptions"
            ],
            "metadata": {
                "azdata_cell_guid": "db6cfe7e-865f-424f-9027-0ffb1512b350",
                "language": "sql"
            },
            "outputs": [
                {
                    "output_type": "display_data",
                    "data": {
                        "text/html": "(1 row affected)"
                    },
                    "metadata": {}
                },
                {
                    "output_type": "display_data",
                    "data": {
                        "text/html": "Total execution time: 00:00:00.019"
                    },
                    "metadata": {}
                },
                {
                    "output_type": "execute_result",
                    "metadata": {},
                    "execution_count": 1,
                    "data": {
                        "application/vnd.dataresource+json": {
                            "schema": {
                                "fields": [
                                    {
                                        "name": "number_of_customers"
                                    }
                                ]
                            },
                            "data": [
                                {
                                    "0": "1000"
                                }
                            ]
                        },
                        "text/html": [
                            "<table>",
                            "<tr><th>number_of_customers</th></tr>",
                            "<tr><td>1000</td></tr>",
                            "</table>"
                        ]
                    }
                }
            ],
            "execution_count": 1
        },
        {
            "cell_type": "markdown",
            "source": [
                "    2. What is the monthly distribution of `trial` plan `start_date` values for our dataset - use the start of the month as the group by value"
            ],
            "metadata": {
                "azdata_cell_guid": "47d875c4-4e9c-4e5c-b8e0-51b0bd10194f"
            },
            "attachments": {}
        },
        {
            "cell_type": "code",
            "source": [
                "SELECT\r\n",
                "    MONTH(start_date) AS month,\r\n",
                "    YEAR(start_date) AS year,\r\n",
                "    COUNT(customer_id) as number_of_trial\r\n",
                "FROM subscriptions s\r\n",
                "JOIN plans p\r\n",
                "ON p.plan_id = s.plan_id\r\n",
                "WHERE p.plan_name = 'trial'\r\n",
                "GROUP BY\r\n",
                "    MONTH(start_date),\r\n",
                "    YEAR(start_date);"
            ],
            "metadata": {
                "azdata_cell_guid": "27ba050a-f4ed-48ed-b1be-569a581d6784",
                "language": "sql"
            },
            "outputs": [
                {
                    "output_type": "display_data",
                    "data": {
                        "text/html": "(12 rows affected)"
                    },
                    "metadata": {}
                },
                {
                    "output_type": "display_data",
                    "data": {
                        "text/html": "Total execution time: 00:00:00.026"
                    },
                    "metadata": {}
                },
                {
                    "output_type": "execute_result",
                    "metadata": {},
                    "execution_count": 2,
                    "data": {
                        "application/vnd.dataresource+json": {
                            "schema": {
                                "fields": [
                                    {
                                        "name": "month"
                                    },
                                    {
                                        "name": "year"
                                    },
                                    {
                                        "name": "number_of_trial"
                                    }
                                ]
                            },
                            "data": [
                                {
                                    "0": "1",
                                    "1": "2020",
                                    "2": "88"
                                },
                                {
                                    "0": "2",
                                    "1": "2020",
                                    "2": "68"
                                },
                                {
                                    "0": "3",
                                    "1": "2020",
                                    "2": "94"
                                },
                                {
                                    "0": "4",
                                    "1": "2020",
                                    "2": "81"
                                },
                                {
                                    "0": "5",
                                    "1": "2020",
                                    "2": "88"
                                },
                                {
                                    "0": "6",
                                    "1": "2020",
                                    "2": "79"
                                },
                                {
                                    "0": "7",
                                    "1": "2020",
                                    "2": "89"
                                },
                                {
                                    "0": "8",
                                    "1": "2020",
                                    "2": "88"
                                },
                                {
                                    "0": "9",
                                    "1": "2020",
                                    "2": "87"
                                },
                                {
                                    "0": "10",
                                    "1": "2020",
                                    "2": "79"
                                },
                                {
                                    "0": "11",
                                    "1": "2020",
                                    "2": "75"
                                },
                                {
                                    "0": "12",
                                    "1": "2020",
                                    "2": "84"
                                }
                            ]
                        },
                        "text/html": [
                            "<table>",
                            "<tr><th>month</th><th>year</th><th>number_of_trial</th></tr>",
                            "<tr><td>1</td><td>2020</td><td>88</td></tr>",
                            "<tr><td>2</td><td>2020</td><td>68</td></tr>",
                            "<tr><td>3</td><td>2020</td><td>94</td></tr>",
                            "<tr><td>4</td><td>2020</td><td>81</td></tr>",
                            "<tr><td>5</td><td>2020</td><td>88</td></tr>",
                            "<tr><td>6</td><td>2020</td><td>79</td></tr>",
                            "<tr><td>7</td><td>2020</td><td>89</td></tr>",
                            "<tr><td>8</td><td>2020</td><td>88</td></tr>",
                            "<tr><td>9</td><td>2020</td><td>87</td></tr>",
                            "<tr><td>10</td><td>2020</td><td>79</td></tr>",
                            "<tr><td>11</td><td>2020</td><td>75</td></tr>",
                            "<tr><td>12</td><td>2020</td><td>84</td></tr>",
                            "</table>"
                        ]
                    }
                }
            ],
            "execution_count": 2
        },
        {
            "cell_type": "markdown",
            "source": [
                "    3. What plan `start_date` values occur after the year 2020 for our dataset? Show the breakdown by count of events for each `plan_name`"
            ],
            "metadata": {
                "azdata_cell_guid": "a0bd6c18-0f97-4957-b875-072776b31be0"
            },
            "attachments": {}
        },
        {
            "cell_type": "code",
            "source": [
                "SELECT \r\n",
                "    s.plan_id,\r\n",
                "    p.plan_name,\r\n",
                "    COUNT(s.customer_id) as number_of_customers\r\n",
                "FROM subscriptions s\r\n",
                "JOIN plans p \r\n",
                "ON p.plan_id = s.plan_id\r\n",
                "WHERE YEAR(start_date) > 2020\r\n",
                "GROUP BY s.plan_id, p.plan_name"
            ],
            "metadata": {
                "azdata_cell_guid": "04f5e53f-1a51-4450-baf3-e4bd7ab37ccc",
                "language": "sql"
            },
            "outputs": [
                {
                    "output_type": "display_data",
                    "data": {
                        "text/html": "(4 rows affected)"
                    },
                    "metadata": {}
                },
                {
                    "output_type": "display_data",
                    "data": {
                        "text/html": "Total execution time: 00:00:00.024"
                    },
                    "metadata": {}
                },
                {
                    "output_type": "execute_result",
                    "metadata": {},
                    "execution_count": 3,
                    "data": {
                        "application/vnd.dataresource+json": {
                            "schema": {
                                "fields": [
                                    {
                                        "name": "plan_id"
                                    },
                                    {
                                        "name": "plan_name"
                                    },
                                    {
                                        "name": "number_of_customers"
                                    }
                                ]
                            },
                            "data": [
                                {
                                    "0": "1",
                                    "1": "basic monthly",
                                    "2": "8"
                                },
                                {
                                    "0": "4",
                                    "1": "churn",
                                    "2": "71"
                                },
                                {
                                    "0": "3",
                                    "1": "pro annual",
                                    "2": "63"
                                },
                                {
                                    "0": "2",
                                    "1": "pro monthly",
                                    "2": "60"
                                }
                            ]
                        },
                        "text/html": [
                            "<table>",
                            "<tr><th>plan_id</th><th>plan_name</th><th>number_of_customers</th></tr>",
                            "<tr><td>1</td><td>basic monthly</td><td>8</td></tr>",
                            "<tr><td>4</td><td>churn</td><td>71</td></tr>",
                            "<tr><td>3</td><td>pro annual</td><td>63</td></tr>",
                            "<tr><td>2</td><td>pro monthly</td><td>60</td></tr>",
                            "</table>"
                        ]
                    }
                }
            ],
            "execution_count": 3
        },
        {
            "cell_type": "markdown",
            "source": [
                "    4. What is the customer count and percentage of customers who have churned rounded to 1 decimal place?"
            ],
            "metadata": {
                "azdata_cell_guid": "1de480b4-26cc-4166-94e0-d88129f9228f"
            },
            "attachments": {}
        },
        {
            "cell_type": "code",
            "source": [
                "SELECT\r\n",
                "    COUNT(distinct customer_id) as total_customers,\r\n",
                "    SUM(case when plan_id = 4 then 1 else 0 END) as churned_customers,\r\n",
                "    ROUND(cast(SUM(case when plan_id = 4 then 1 else 0 END) as float)/cast(COUNT(distinct customer_id)as float)*100,1) as percentage_churn\r\n",
                "FROM subscriptions;"
            ],
            "metadata": {
                "azdata_cell_guid": "a9f75ec6-804f-43c0-ad35-73ea274cdba3",
                "language": "sql"
            },
            "outputs": [
                {
                    "output_type": "display_data",
                    "data": {
                        "text/html": "(1 row affected)"
                    },
                    "metadata": {}
                },
                {
                    "output_type": "display_data",
                    "data": {
                        "text/html": "Total execution time: 00:00:00.016"
                    },
                    "metadata": {}
                },
                {
                    "output_type": "execute_result",
                    "metadata": {},
                    "execution_count": 4,
                    "data": {
                        "application/vnd.dataresource+json": {
                            "schema": {
                                "fields": [
                                    {
                                        "name": "total_customers"
                                    },
                                    {
                                        "name": "churned_customers"
                                    },
                                    {
                                        "name": "percentage_churn"
                                    }
                                ]
                            },
                            "data": [
                                {
                                    "0": "1000",
                                    "1": "307",
                                    "2": "30.7"
                                }
                            ]
                        },
                        "text/html": [
                            "<table>",
                            "<tr><th>total_customers</th><th>churned_customers</th><th>percentage_churn</th></tr>",
                            "<tr><td>1000</td><td>307</td><td>30.7</td></tr>",
                            "</table>"
                        ]
                    }
                }
            ],
            "execution_count": 4
        },
        {
            "cell_type": "markdown",
            "source": [
                "    5. How many customers have churned straight after their initial free trial - what percentage is this rounded to the nearest whole number?"
            ],
            "metadata": {
                "azdata_cell_guid": "285f790b-7ba0-41be-a19c-93695f9fb928"
            },
            "attachments": {}
        },
        {
            "cell_type": "code",
            "source": [
                "WITH tbl as(\r\n",
                "    SELECT *,\r\n",
                "        LEAD(plan_id,1) OVER(partition by customer_id order by plan_id) as next_plan \r\n",
                "    FROM subscriptions\r\n",
                ")\r\n",
                "SELECT \r\n",
                "    COUNT(distinct customer_id) as total_customers,\r\n",
                "    SUM(case when (next_plan = 4 and plan_id = 0) then 1 else 0 END) as straigh_churn_after_free_trial,\r\n",
                "    ROUND(cast(SUM(case when (next_plan = 4 and plan_id = 0) then 1 else 0 END) as float)/cast(COUNT(distinct customer_id)as float)*100,1) as percentage_straight_churn_after_free_trial\r\n",
                "FROM tbl;"
            ],
            "metadata": {
                "azdata_cell_guid": "52256e9d-c226-4c40-baac-a36c66e42c96",
                "language": "sql"
            },
            "outputs": [
                {
                    "output_type": "display_data",
                    "data": {
                        "text/html": "(1 row affected)"
                    },
                    "metadata": {}
                },
                {
                    "output_type": "display_data",
                    "data": {
                        "text/html": "Total execution time: 00:00:00.062"
                    },
                    "metadata": {}
                },
                {
                    "output_type": "execute_result",
                    "metadata": {},
                    "execution_count": 5,
                    "data": {
                        "application/vnd.dataresource+json": {
                            "schema": {
                                "fields": [
                                    {
                                        "name": "total_customers"
                                    },
                                    {
                                        "name": "straigh_churn_after_free_trial"
                                    },
                                    {
                                        "name": "percentage_straight_churn_after_free_trial"
                                    }
                                ]
                            },
                            "data": [
                                {
                                    "0": "1000",
                                    "1": "92",
                                    "2": "9.2"
                                }
                            ]
                        },
                        "text/html": [
                            "<table>",
                            "<tr><th>total_customers</th><th>straigh_churn_after_free_trial</th><th>percentage_straight_churn_after_free_trial</th></tr>",
                            "<tr><td>1000</td><td>92</td><td>9.2</td></tr>",
                            "</table>"
                        ]
                    }
                }
            ],
            "execution_count": 5
        },
        {
            "cell_type": "markdown",
            "source": [
                "    6. What is the number and percentage of customer plans after their initial free trial?"
            ],
            "metadata": {
                "azdata_cell_guid": "979e0d7c-ac00-4ff6-8d89-889cddf67dc3"
            },
            "attachments": {}
        },
        {
            "cell_type": "code",
            "source": [
                "WITH tbl as(\r\n",
                "    SELECT *,\r\n",
                "        LEAD(plan_id,1) OVER(partition by customer_id order by plan_id) as next_plan \r\n",
                "    FROM subscriptions\r\n",
                ")\r\n",
                "SELECT \r\n",
                "    p.plan_name,\r\n",
                "    COUNT(*) as num_each_plans_after_trial,\r\n",
                "    ROUND(cast(COUNT(*) as float)/(select COUNT(distinct customer_id) from subscriptions)*100,1) as percentage_each_plans_after_trial\r\n",
                "FROM tbl\r\n",
                "JOIN plans p ON p.plan_id = tbl.next_plan\r\n",
                "WHERE tbl.plan_id = 0\r\n",
                "GROUP BY p.plan_name;"
            ],
            "metadata": {
                "azdata_cell_guid": "40278f43-38a5-4e10-a8b3-38a8da99a242",
                "language": "sql"
            },
            "outputs": [
                {
                    "output_type": "display_data",
                    "data": {
                        "text/html": "(4 rows affected)"
                    },
                    "metadata": {}
                },
                {
                    "output_type": "display_data",
                    "data": {
                        "text/html": "Total execution time: 00:00:00.024"
                    },
                    "metadata": {}
                },
                {
                    "output_type": "execute_result",
                    "metadata": {},
                    "execution_count": 6,
                    "data": {
                        "application/vnd.dataresource+json": {
                            "schema": {
                                "fields": [
                                    {
                                        "name": "plan_name"
                                    },
                                    {
                                        "name": "num_each_plans_after_trial"
                                    },
                                    {
                                        "name": "percentage_each_plans_after_trial"
                                    }
                                ]
                            },
                            "data": [
                                {
                                    "0": "basic monthly",
                                    "1": "546",
                                    "2": "54.6"
                                },
                                {
                                    "0": "churn",
                                    "1": "92",
                                    "2": "9.2"
                                },
                                {
                                    "0": "pro annual",
                                    "1": "37",
                                    "2": "3.7"
                                },
                                {
                                    "0": "pro monthly",
                                    "1": "325",
                                    "2": "32.5"
                                }
                            ]
                        },
                        "text/html": [
                            "<table>",
                            "<tr><th>plan_name</th><th>num_each_plans_after_trial</th><th>percentage_each_plans_after_trial</th></tr>",
                            "<tr><td>basic monthly</td><td>546</td><td>54.6</td></tr>",
                            "<tr><td>churn</td><td>92</td><td>9.2</td></tr>",
                            "<tr><td>pro annual</td><td>37</td><td>3.7</td></tr>",
                            "<tr><td>pro monthly</td><td>325</td><td>32.5</td></tr>",
                            "</table>"
                        ]
                    }
                }
            ],
            "execution_count": 6
        },
        {
            "cell_type": "markdown",
            "source": [
                "    7. What is the customer count and percentage breakdown of all 5 plan_name values at 2020-12-31?"
            ],
            "metadata": {
                "azdata_cell_guid": "3018509c-be1c-4fb2-91ed-ebcd0fc23973"
            },
            "attachments": {}
        },
        {
            "cell_type": "code",
            "source": [
                "WITH tbl AS(\r\n",
                "    SELECT *, \r\n",
                "        LEAD(start_date,1) OVER( PARTITION BY customer_id ORDER BY plan_id) As next_date\r\n",
                "    FROM subscriptions\r\n",
                "    WHERE start_date <= '2020-12-31'\r\n",
                ") \r\n",
                "SELECT\r\n",
                "    p.plan_id,\r\n",
                "    p.plan_name,\r\n",
                "    COUNT(*) as num_each_plans,\r\n",
                "    ROUND(cast(COUNT(*) as float)/(select COUNT(distinct customer_id) from subscriptions)*100,1) as percentage_each_plans\r\n",
                "FROM tbl\r\n",
                "JOIN plans p ON p.plan_id = tbl.plan_id\r\n",
                "WHERE next_date is null or next_date >'2020-12-31'\r\n",
                "GROUP BY p.plan_id, plan_name\r\n",
                "ORDER BY plan_id;"
            ],
            "metadata": {
                "azdata_cell_guid": "078c7966-dd29-4dc4-81d7-840dd51a4313",
                "language": "sql"
            },
            "outputs": [
                {
                    "output_type": "display_data",
                    "data": {
                        "text/html": "(5 rows affected)"
                    },
                    "metadata": {}
                },
                {
                    "output_type": "display_data",
                    "data": {
                        "text/html": "Total execution time: 00:00:00.028"
                    },
                    "metadata": {}
                },
                {
                    "output_type": "execute_result",
                    "metadata": {},
                    "execution_count": 7,
                    "data": {
                        "application/vnd.dataresource+json": {
                            "schema": {
                                "fields": [
                                    {
                                        "name": "plan_id"
                                    },
                                    {
                                        "name": "plan_name"
                                    },
                                    {
                                        "name": "num_each_plans"
                                    },
                                    {
                                        "name": "percentage_each_plans"
                                    }
                                ]
                            },
                            "data": [
                                {
                                    "0": "0",
                                    "1": "trial",
                                    "2": "19",
                                    "3": "1.9"
                                },
                                {
                                    "0": "1",
                                    "1": "basic monthly",
                                    "2": "224",
                                    "3": "22.4"
                                },
                                {
                                    "0": "2",
                                    "1": "pro monthly",
                                    "2": "326",
                                    "3": "32.6"
                                },
                                {
                                    "0": "3",
                                    "1": "pro annual",
                                    "2": "195",
                                    "3": "19.5"
                                },
                                {
                                    "0": "4",
                                    "1": "churn",
                                    "2": "236",
                                    "3": "23.6"
                                }
                            ]
                        },
                        "text/html": [
                            "<table>",
                            "<tr><th>plan_id</th><th>plan_name</th><th>num_each_plans</th><th>percentage_each_plans</th></tr>",
                            "<tr><td>0</td><td>trial</td><td>19</td><td>1.9</td></tr>",
                            "<tr><td>1</td><td>basic monthly</td><td>224</td><td>22.4</td></tr>",
                            "<tr><td>2</td><td>pro monthly</td><td>326</td><td>32.6</td></tr>",
                            "<tr><td>3</td><td>pro annual</td><td>195</td><td>19.5</td></tr>",
                            "<tr><td>4</td><td>churn</td><td>236</td><td>23.6</td></tr>",
                            "</table>"
                        ]
                    }
                }
            ],
            "execution_count": 7
        },
        {
            "cell_type": "markdown",
            "source": [
                "    8. How many customers have upgraded to an annual plan in 2020?"
            ],
            "metadata": {
                "azdata_cell_guid": "46014341-3419-4259-a192-6db96c7a6d00"
            },
            "attachments": {}
        },
        {
            "cell_type": "code",
            "source": [
                "SELECT \r\n",
                "    p.plan_name,\r\n",
                "    COUNT(*) as num_of_annual_plan\r\n",
                "FROM subscriptions s\r\n",
                "JOIN plans p ON p.plan_id = s.plan_id \r\n",
                "WHERE p.plan_id = 3 AND YEAR(start_date) = 2020\r\n",
                "GROUP BY p.plan_name;"
            ],
            "metadata": {
                "azdata_cell_guid": "a68e70b1-3ff4-4c55-8a05-6b4ce42b6a73",
                "language": "sql"
            },
            "outputs": [
                {
                    "output_type": "display_data",
                    "data": {
                        "text/html": "(1 row affected)"
                    },
                    "metadata": {}
                },
                {
                    "output_type": "display_data",
                    "data": {
                        "text/html": "Total execution time: 00:00:00.016"
                    },
                    "metadata": {}
                },
                {
                    "output_type": "execute_result",
                    "metadata": {},
                    "execution_count": 8,
                    "data": {
                        "application/vnd.dataresource+json": {
                            "schema": {
                                "fields": [
                                    {
                                        "name": "plan_name"
                                    },
                                    {
                                        "name": "num_of_annual_plan"
                                    }
                                ]
                            },
                            "data": [
                                {
                                    "0": "pro annual",
                                    "1": "195"
                                }
                            ]
                        },
                        "text/html": [
                            "<table>",
                            "<tr><th>plan_name</th><th>num_of_annual_plan</th></tr>",
                            "<tr><td>pro annual</td><td>195</td></tr>",
                            "</table>"
                        ]
                    }
                }
            ],
            "execution_count": 8
        },
        {
            "cell_type": "markdown",
            "source": [
                "    9. How many days on average does it take for a customer to an annual plan from the day they join Foodie-Fi?"
            ],
            "metadata": {
                "azdata_cell_guid": "32f3bdf3-829e-4680-a7ea-d592172fe38f"
            },
            "attachments": {}
        },
        {
            "cell_type": "code",
            "source": [
                "WITH START_CTE AS (\r\n",
                "    SELECT \r\n",
                "        customer_id,\r\n",
                "        start_date \r\n",
                "    FROM subscriptions s\r\n",
                "    INNER JOIN plans p ON s.plan_id = p.plan_id\r\n",
                "    WHERE plan_name = 'trial' \r\n",
                "),\r\n",
                "ANNUAL_CTE AS (\r\n",
                "    SELECT \r\n",
                "        customer_id,\r\n",
                "        start_date as start_annual\r\n",
                "    FROM subscriptions s\r\n",
                "    INNER JOIN plans p ON s.plan_id = p.plan_id\r\n",
                "    WHERE plan_name = 'pro annual' \r\n",
                ")\r\n",
                "SELECT \r\n",
                "    AVG(DATEDIFF(day, start_date, start_annual)) as average_day\r\n",
                "FROM START_CTE s\r\n",
                "JOIN ANNUAL_CTE a on a.customer_id = s.customer_id; "
            ],
            "metadata": {
                "azdata_cell_guid": "97e35877-5dbc-41ae-a9ba-c294cf5aac23",
                "language": "sql"
            },
            "outputs": [
                {
                    "output_type": "display_data",
                    "data": {
                        "text/html": "(1 row affected)"
                    },
                    "metadata": {}
                },
                {
                    "output_type": "display_data",
                    "data": {
                        "text/html": "Total execution time: 00:00:00.016"
                    },
                    "metadata": {}
                },
                {
                    "output_type": "execute_result",
                    "metadata": {},
                    "execution_count": 9,
                    "data": {
                        "application/vnd.dataresource+json": {
                            "schema": {
                                "fields": [
                                    {
                                        "name": "average_day"
                                    }
                                ]
                            },
                            "data": [
                                {
                                    "0": "104"
                                }
                            ]
                        },
                        "text/html": [
                            "<table>",
                            "<tr><th>average_day</th></tr>",
                            "<tr><td>104</td></tr>",
                            "</table>"
                        ]
                    }
                }
            ],
            "execution_count": 9
        },
        {
            "cell_type": "markdown",
            "source": [
                "    10. Can you further breakdown this average value into 30 day periods (i.e. 0-30 days, 31-60 days etc)"
            ],
            "metadata": {
                "azdata_cell_guid": "7e6cfc0f-2b2f-4629-a5f3-1a4eaf7e779f"
            },
            "attachments": {}
        },
        {
            "cell_type": "code",
            "source": [
                "WITH START_CTE AS (   \r\n",
                "                SELECT customer_id,\r\n",
                "                       start_date \r\n",
                "                FROM subscriptions s\r\n",
                "                INNER JOIN plans p ON s.plan_id = p.plan_id\r\n",
                "                WHERE plan_name = 'trial' ),\r\n",
                "\r\n",
                "ANNUAL_CTE AS ( SELECT customer_id,\r\n",
                "                       start_date as start_annual\r\n",
                "                FROM subscriptions s\r\n",
                "                INNER JOIN plans p ON s.plan_id = p.plan_id\r\n",
                "                WHERE plan_name = 'pro annual' ),\r\n",
                "\r\n",
                "DIFF_DAY_CTE AS (SELECT DATEDIFF(day,start_date,start_annual) as diff_day\r\n",
                "                FROM ANNUAL_CTE C2\r\n",
                "                LEFT JOIN START_CTE C1 ON C2.customer_id =C1.customer_id),\r\n",
                "\r\n",
                "GROUP_DAY_CTE AS (SELECT*, FLOOR(diff_day/30) as group_day\r\n",
                "                FROM DIFF_DAY_CTE)\r\n",
                "SELECT CONCAT((group_day *30) +1 , '-',(group_day +1)*30, ' days') as days,\r\n",
                "        COUNT(group_day) as number_of_customers\r\n",
                "FROM GROUP_DAY_CTE\r\n",
                "GROUP BY group_day;"
            ],
            "metadata": {
                "azdata_cell_guid": "c4d04e03-382e-4d99-9a88-27f0ae19f798",
                "language": "sql"
            },
            "outputs": [
                {
                    "output_type": "display_data",
                    "data": {
                        "text/html": "(12 rows affected)"
                    },
                    "metadata": {}
                },
                {
                    "output_type": "display_data",
                    "data": {
                        "text/html": "Total execution time: 00:00:00.025"
                    },
                    "metadata": {}
                },
                {
                    "output_type": "execute_result",
                    "metadata": {},
                    "execution_count": 10,
                    "data": {
                        "application/vnd.dataresource+json": {
                            "schema": {
                                "fields": [
                                    {
                                        "name": "days"
                                    },
                                    {
                                        "name": "number_of_customers"
                                    }
                                ]
                            },
                            "data": [
                                {
                                    "0": "1-30 days",
                                    "1": "48"
                                },
                                {
                                    "0": "31-60 days",
                                    "1": "25"
                                },
                                {
                                    "0": "61-90 days",
                                    "1": "33"
                                },
                                {
                                    "0": "91-120 days",
                                    "1": "35"
                                },
                                {
                                    "0": "121-150 days",
                                    "1": "43"
                                },
                                {
                                    "0": "151-180 days",
                                    "1": "35"
                                },
                                {
                                    "0": "181-210 days",
                                    "1": "27"
                                },
                                {
                                    "0": "211-240 days",
                                    "1": "4"
                                },
                                {
                                    "0": "241-270 days",
                                    "1": "5"
                                },
                                {
                                    "0": "271-300 days",
                                    "1": "1"
                                },
                                {
                                    "0": "301-330 days",
                                    "1": "1"
                                },
                                {
                                    "0": "331-360 days",
                                    "1": "1"
                                }
                            ]
                        },
                        "text/html": [
                            "<table>",
                            "<tr><th>days</th><th>number_of_customers</th></tr>",
                            "<tr><td>1-30 days</td><td>48</td></tr>",
                            "<tr><td>31-60 days</td><td>25</td></tr>",
                            "<tr><td>61-90 days</td><td>33</td></tr>",
                            "<tr><td>91-120 days</td><td>35</td></tr>",
                            "<tr><td>121-150 days</td><td>43</td></tr>",
                            "<tr><td>151-180 days</td><td>35</td></tr>",
                            "<tr><td>181-210 days</td><td>27</td></tr>",
                            "<tr><td>211-240 days</td><td>4</td></tr>",
                            "<tr><td>241-270 days</td><td>5</td></tr>",
                            "<tr><td>271-300 days</td><td>1</td></tr>",
                            "<tr><td>301-330 days</td><td>1</td></tr>",
                            "<tr><td>331-360 days</td><td>1</td></tr>",
                            "</table>"
                        ]
                    }
                }
            ],
            "execution_count": 10
        },
        {
            "cell_type": "markdown",
            "source": [
                "    11. How many customers downgraded from a pro monthly to a basic monthly plan in 2020?"
            ],
            "metadata": {
                "azdata_cell_guid": "94aa4c67-c0f0-40cc-9257-aa62e0c7b2ae"
            },
            "attachments": {}
        },
        {
            "cell_type": "code",
            "source": [
                "WITH tbl as(\r\n",
                "    SELECT *,\r\n",
                "        LEAD(plan_id,1) OVER(partition by customer_id order by plan_id) as next_plan,\r\n",
                "        LEAD(start_date,1) OVER( PARTITION BY customer_id ORDER BY plan_id) As next_date \r\n",
                "    FROM subscriptions\r\n",
                ")\r\n",
                "SELECT COUNT(*) as num_downgrade\r\n",
                "FROM tbl\r\n",
                "WHERE plan_id = 2 and next_plan = 1 and YEAR(next_date) = 2020"
            ],
            "metadata": {
                "azdata_cell_guid": "a28e7d93-5488-4c00-9337-37dcf398d64c",
                "language": "sql"
            },
            "outputs": [
                {
                    "output_type": "display_data",
                    "data": {
                        "text/html": "(1 row affected)"
                    },
                    "metadata": {}
                },
                {
                    "output_type": "display_data",
                    "data": {
                        "text/html": "Total execution time: 00:00:00.018"
                    },
                    "metadata": {}
                },
                {
                    "output_type": "execute_result",
                    "metadata": {},
                    "execution_count": 11,
                    "data": {
                        "application/vnd.dataresource+json": {
                            "schema": {
                                "fields": [
                                    {
                                        "name": "num_downgrade"
                                    }
                                ]
                            },
                            "data": [
                                {
                                    "0": "0"
                                }
                            ]
                        },
                        "text/html": [
                            "<table>",
                            "<tr><th>num_downgrade</th></tr>",
                            "<tr><td>0</td></tr>",
                            "</table>"
                        ]
                    }
                }
            ],
            "execution_count": 11
        }
    ]
}