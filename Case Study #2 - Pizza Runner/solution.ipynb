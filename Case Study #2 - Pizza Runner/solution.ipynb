{
    "metadata": {
        "kernelspec": {
            "name": "SQL",
            "display_name": "SQL",
            "language": "sql"
        },
        "language_info": {
            "name": "sql",
            "version": ""
        }
    },
    "nbformat_minor": 2,
    "nbformat": 4,
    "cells": [
        {
            "cell_type": "markdown",
            "source": [
                "### Data Cleaning\r\n",
                "---\r\n",
                "    1. Table `customer_order`"
            ],
            "metadata": {
                "azdata_cell_guid": "fee38b94-bc3a-406d-b776-4ddeea8162db"
            },
            "attachments": {}
        },
        {
            "cell_type": "code",
            "source": [
                "DROP TABLE IF EXISTS #customer_orders\r\n",
                "SELECT \r\n",
                "    order_id,\r\n",
                "    customer_id,\r\n",
                "    pizza_id,\r\n",
                "    CASE \r\n",
                "        WHEN exclusions = '' OR exclusions like 'null' THEN NULL\r\n",
                "        ELSE exclusions\r\n",
                "    END as exclusions,\r\n",
                "    CASE \r\n",
                "        WHEN extras = '' OR extras like 'null' THEN NULL\r\n",
                "        ELSE extras\r\n",
                "    END as extras,\r\n",
                "    order_time\r\n",
                "INTO #customer_orders\r\n",
                "FROM\r\n",
                "    customer_orders"
            ],
            "metadata": {
                "azdata_cell_guid": "0015a4f1-6239-4afb-93d3-6b45456dc9e6",
                "language": "sql"
            },
            "outputs": [
                {
                    "output_type": "display_data",
                    "data": {
                        "text/html": "(14 rows affected)"
                    },
                    "metadata": {}
                },
                {
                    "output_type": "display_data",
                    "data": {
                        "text/html": "Total execution time: 00:00:00.080"
                    },
                    "metadata": {}
                }
            ],
            "execution_count": 1
        },
        {
            "cell_type": "markdown",
            "source": [
                "    2. Table `runner_orders`"
            ],
            "metadata": {
                "azdata_cell_guid": "83a2cd94-784d-4fb7-bdd6-279b016f710c"
            },
            "attachments": {}
        },
        {
            "cell_type": "code",
            "source": [
                "DROP TABLE IF EXISTS #runner_orders\r\n",
                "SELECT \r\n",
                "    order_id,\r\n",
                "    runner_id,\r\n",
                "    CASE \r\n",
                "        WHEN pickup_time like 'null' THEN NULL\r\n",
                "        ELSE pickup_time\r\n",
                "    END as pickup_time,\r\n",
                "    CASE \r\n",
                "        WHEN distance like 'null' THEN NULL\r\n",
                "        WHEN distance like '%km' THEN TRIM('km' FROM distance)\r\n",
                "        ELSE distance\r\n",
                "    END as distance,\r\n",
                "    CASE \r\n",
                "        WHEN duration like 'null' THEN NULL\r\n",
                "        WHEN duration like '%minutes' THEN TRIM('minutes' FROM duration)\r\n",
                "        WHEN duration like '%mins' THEN TRIM('mins' FROM duration)\r\n",
                "        WHEN duration like '%minute' THEN TRIM('minute' FROM duration)\r\n",
                "        ELSE duration\r\n",
                "    END as duration,\r\n",
                "    CASE \r\n",
                "        WHEN cancellation like 'null' THEN NULL\r\n",
                "        WHEN cancellation ='' THEN NULL\r\n",
                "        ELSE cancellation\r\n",
                "    END as cancellation\r\n",
                "INTO #runner_orders\r\n",
                "FROM\r\n",
                "    runner_orders;"
            ],
            "metadata": {
                "azdata_cell_guid": "e4ad9ddf-371c-4ff2-84ce-386cb16569d0",
                "language": "sql"
            },
            "outputs": [
                {
                    "output_type": "display_data",
                    "data": {
                        "text/html": "(10 rows affected)"
                    },
                    "metadata": {}
                },
                {
                    "output_type": "display_data",
                    "data": {
                        "text/html": "Total execution time: 00:00:00.040"
                    },
                    "metadata": {}
                }
            ],
            "execution_count": 2
        },
        {
            "cell_type": "markdown",
            "source": [
                "    3. Changing data type"
            ],
            "metadata": {
                "azdata_cell_guid": "964d59dc-f808-41a4-8fda-adab46463896"
            },
            "attachments": {}
        },
        {
            "cell_type": "code",
            "source": [
                "ALTER TABLE #runner_orders\r\n",
                "ALTER COLUMN pickup_time DATETIME\r\n",
                "\r\n",
                "ALTER TABLE #runner_orders\r\n",
                "ALTER COLUMN distance FLOAT\r\n",
                "\r\n",
                "ALTER TABLE #runner_orders\r\n",
                "ALTER COLUMN duration INT\r\n",
                "\r\n",
                "ALTER TABLE pizza_names\r\n",
                "ALTER COLUMN pizza_name VARCHAR(50)\r\n",
                "\r\n",
                "ALTER TABLE pizza_recipes\r\n",
                "ALTER COLUMN toppings VARCHAR(50)\r\n",
                "\r\n",
                "ALTER TABLE pizza_toppings\r\n",
                "ALTER COLUMN topping_name VARCHAR(50)"
            ],
            "metadata": {
                "azdata_cell_guid": "9278162f-1a9f-4370-8e76-7449715c346f",
                "language": "sql"
            },
            "outputs": [
                {
                    "output_type": "display_data",
                    "data": {
                        "text/html": "Commands completed successfully."
                    },
                    "metadata": {}
                },
                {
                    "output_type": "display_data",
                    "data": {
                        "text/html": "Total execution time: 00:00:00.077"
                    },
                    "metadata": {}
                }
            ],
            "execution_count": 3
        },
        {
            "cell_type": "markdown",
            "source": [
                "### A. Pizza Metrics\r\n",
                "---\r\n",
                "    1. How many pizzas were ordered?\r\n",
                ""
            ],
            "metadata": {
                "azdata_cell_guid": "c7352ab7-612d-4d36-b47a-d4cff70b4fe7"
            },
            "attachments": {}
        },
        {
            "cell_type": "code",
            "source": [
                "SELECT \r\n",
                "    COUNT(*) as Number_pizzas_ordered\r\n",
                "FROM\r\n",
                "    #customer_orders"
            ],
            "metadata": {
                "azdata_cell_guid": "8b6e9951-54b5-4f34-84ee-4e6225af2c35",
                "language": "sql"
            },
            "outputs": [
                {
                    "output_type": "display_data",
                    "data": {
                        "text/html": "(1 row affected)"
                    },
                    "metadata": {}
                },
                {
                    "output_type": "display_data",
                    "data": {
                        "text/html": "Total execution time: 00:00:00.059"
                    },
                    "metadata": {}
                },
                {
                    "output_type": "execute_result",
                    "metadata": {},
                    "execution_count": 4,
                    "data": {
                        "application/vnd.dataresource+json": {
                            "schema": {
                                "fields": [
                                    {
                                        "name": "Number_pizzas_ordered"
                                    }
                                ]
                            },
                            "data": [
                                {
                                    "0": "14"
                                }
                            ]
                        },
                        "text/html": [
                            "<table>",
                            "<tr><th>Number_pizzas_ordered</th></tr>",
                            "<tr><td>14</td></tr>",
                            "</table>"
                        ]
                    }
                }
            ],
            "execution_count": 4
        },
        {
            "cell_type": "markdown",
            "source": [
                "    2. How many unique customer orders were made?"
            ],
            "metadata": {
                "azdata_cell_guid": "941e2ef3-57d7-471e-8cfa-f495ea91c8fe"
            },
            "attachments": {}
        },
        {
            "cell_type": "code",
            "source": [
                "SELECT\r\n",
                "    COUNT(DISTINCT order_id) as unique_customer_orders\r\n",
                "FROM\r\n",
                "    #customer_orders"
            ],
            "metadata": {
                "azdata_cell_guid": "e77f0665-9c5c-4b16-9786-74c5cd606614",
                "language": "sql"
            },
            "outputs": [
                {
                    "output_type": "display_data",
                    "data": {
                        "text/html": "(1 row affected)"
                    },
                    "metadata": {}
                },
                {
                    "output_type": "display_data",
                    "data": {
                        "text/html": "Total execution time: 00:00:00.026"
                    },
                    "metadata": {}
                },
                {
                    "output_type": "execute_result",
                    "metadata": {},
                    "execution_count": 5,
                    "data": {
                        "application/vnd.dataresource+json": {
                            "schema": {
                                "fields": [
                                    {
                                        "name": "unique_customer_orders"
                                    }
                                ]
                            },
                            "data": [
                                {
                                    "0": "10"
                                }
                            ]
                        },
                        "text/html": [
                            "<table>",
                            "<tr><th>unique_customer_orders</th></tr>",
                            "<tr><td>10</td></tr>",
                            "</table>"
                        ]
                    }
                }
            ],
            "execution_count": 5
        },
        {
            "cell_type": "markdown",
            "source": [
                "    3. How many successful orders were delivered by each runner?"
            ],
            "metadata": {
                "azdata_cell_guid": "88ed6b0b-9765-4e9d-8d84-537820ba621a"
            },
            "attachments": {}
        },
        {
            "cell_type": "code",
            "source": [
                "SELECT \r\n",
                "    runner_id,\r\n",
                "    COUNT(*) as successful_orders\r\n",
                "FROM\r\n",
                "    #runner_orders\r\n",
                "WHERE \r\n",
                "    distance != 0\r\n",
                "GROUP BY runner_id"
            ],
            "metadata": {
                "azdata_cell_guid": "927eff25-c889-4e61-9c81-355d2e897214",
                "language": "sql"
            },
            "outputs": [
                {
                    "output_type": "display_data",
                    "data": {
                        "text/html": "(3 rows affected)"
                    },
                    "metadata": {}
                },
                {
                    "output_type": "display_data",
                    "data": {
                        "text/html": "Total execution time: 00:00:00.065"
                    },
                    "metadata": {}
                },
                {
                    "output_type": "execute_result",
                    "metadata": {},
                    "execution_count": 6,
                    "data": {
                        "application/vnd.dataresource+json": {
                            "schema": {
                                "fields": [
                                    {
                                        "name": "runner_id"
                                    },
                                    {
                                        "name": "successful_orders"
                                    }
                                ]
                            },
                            "data": [
                                {
                                    "0": "1",
                                    "1": "4"
                                },
                                {
                                    "0": "2",
                                    "1": "3"
                                },
                                {
                                    "0": "3",
                                    "1": "1"
                                }
                            ]
                        },
                        "text/html": [
                            "<table>",
                            "<tr><th>runner_id</th><th>successful_orders</th></tr>",
                            "<tr><td>1</td><td>4</td></tr>",
                            "<tr><td>2</td><td>3</td></tr>",
                            "<tr><td>3</td><td>1</td></tr>",
                            "</table>"
                        ]
                    }
                }
            ],
            "execution_count": 6
        },
        {
            "cell_type": "markdown",
            "source": [
                "    4. How many of each type of pizza was delivered?"
            ],
            "metadata": {
                "azdata_cell_guid": "681543c4-7d2f-402f-a4ba-828ca7174003"
            },
            "attachments": {}
        },
        {
            "cell_type": "code",
            "source": [
                "SELECT \r\n",
                "    c.pizza_id,\r\n",
                "    COUNT(*) as type_of_pizza_delivered\r\n",
                "FROM\r\n",
                "    #customer_orders c \r\n",
                "JOIN #runner_orders r on r.order_id = c.order_id\r\n",
                "WHERE r.distance != 0\r\n",
                "GROUP BY c.pizza_id"
            ],
            "metadata": {
                "azdata_cell_guid": "a4b090c5-d3f7-461b-9349-f915abf0fdbe",
                "language": "sql"
            },
            "outputs": [
                {
                    "output_type": "display_data",
                    "data": {
                        "text/html": "(2 rows affected)"
                    },
                    "metadata": {}
                },
                {
                    "output_type": "display_data",
                    "data": {
                        "text/html": "Total execution time: 00:00:00.019"
                    },
                    "metadata": {}
                },
                {
                    "output_type": "execute_result",
                    "metadata": {},
                    "execution_count": 7,
                    "data": {
                        "application/vnd.dataresource+json": {
                            "schema": {
                                "fields": [
                                    {
                                        "name": "pizza_id"
                                    },
                                    {
                                        "name": "type_of_pizza_delivered"
                                    }
                                ]
                            },
                            "data": [
                                {
                                    "0": "1",
                                    "1": "9"
                                },
                                {
                                    "0": "2",
                                    "1": "3"
                                }
                            ]
                        },
                        "text/html": [
                            "<table>",
                            "<tr><th>pizza_id</th><th>type_of_pizza_delivered</th></tr>",
                            "<tr><td>1</td><td>9</td></tr>",
                            "<tr><td>2</td><td>3</td></tr>",
                            "</table>"
                        ]
                    }
                }
            ],
            "execution_count": 7
        },
        {
            "cell_type": "markdown",
            "source": [
                "    5. How many Vegetarian and Meatlovers were ordered by each customer?"
            ],
            "metadata": {
                "azdata_cell_guid": "e812e91c-9f80-444c-88be-2fa4ac003683"
            },
            "attachments": {}
        },
        {
            "cell_type": "code",
            "source": [
                "SELECT\r\n",
                "    c.customer_id,\r\n",
                "    p.pizza_name,\r\n",
                "    COUNT(*) as number_of_pizzas\r\n",
                "FROM \r\n",
                "    #customer_orders c \r\n",
                "JOIN pizza_names p on p.pizza_id = c.pizza_id\r\n",
                "GROUP BY c.customer_id, p.pizza_name\r\n",
                "ORDER BY c.customer_id"
            ],
            "metadata": {
                "azdata_cell_guid": "a0c1f232-9da5-4757-9624-b2419fa4fd62",
                "language": "sql"
            },
            "outputs": [
                {
                    "output_type": "display_data",
                    "data": {
                        "text/html": "(8 rows affected)"
                    },
                    "metadata": {}
                },
                {
                    "output_type": "display_data",
                    "data": {
                        "text/html": "Total execution time: 00:00:00.012"
                    },
                    "metadata": {}
                },
                {
                    "output_type": "execute_result",
                    "metadata": {},
                    "execution_count": 8,
                    "data": {
                        "application/vnd.dataresource+json": {
                            "schema": {
                                "fields": [
                                    {
                                        "name": "customer_id"
                                    },
                                    {
                                        "name": "pizza_name"
                                    },
                                    {
                                        "name": "number_of_pizzas"
                                    }
                                ]
                            },
                            "data": [
                                {
                                    "0": "101",
                                    "1": "Meatlovers",
                                    "2": "2"
                                },
                                {
                                    "0": "101",
                                    "1": "Vegetarian",
                                    "2": "1"
                                },
                                {
                                    "0": "102",
                                    "1": "Meatlovers",
                                    "2": "2"
                                },
                                {
                                    "0": "102",
                                    "1": "Vegetarian",
                                    "2": "1"
                                },
                                {
                                    "0": "103",
                                    "1": "Meatlovers",
                                    "2": "3"
                                },
                                {
                                    "0": "103",
                                    "1": "Vegetarian",
                                    "2": "1"
                                },
                                {
                                    "0": "104",
                                    "1": "Meatlovers",
                                    "2": "3"
                                },
                                {
                                    "0": "105",
                                    "1": "Vegetarian",
                                    "2": "1"
                                }
                            ]
                        },
                        "text/html": [
                            "<table>",
                            "<tr><th>customer_id</th><th>pizza_name</th><th>number_of_pizzas</th></tr>",
                            "<tr><td>101</td><td>Meatlovers</td><td>2</td></tr>",
                            "<tr><td>101</td><td>Vegetarian</td><td>1</td></tr>",
                            "<tr><td>102</td><td>Meatlovers</td><td>2</td></tr>",
                            "<tr><td>102</td><td>Vegetarian</td><td>1</td></tr>",
                            "<tr><td>103</td><td>Meatlovers</td><td>3</td></tr>",
                            "<tr><td>103</td><td>Vegetarian</td><td>1</td></tr>",
                            "<tr><td>104</td><td>Meatlovers</td><td>3</td></tr>",
                            "<tr><td>105</td><td>Vegetarian</td><td>1</td></tr>",
                            "</table>"
                        ]
                    }
                }
            ],
            "execution_count": 8
        },
        {
            "cell_type": "markdown",
            "source": [
                "    6. What was the maximum number of pizzas delivered in a single order?"
            ],
            "metadata": {
                "azdata_cell_guid": "8383631c-bb41-4377-8136-284507192cec"
            },
            "attachments": {}
        },
        {
            "cell_type": "code",
            "source": [
                "WITH tbl as(\r\n",
                "    SELECT\r\n",
                "        c.order_id,\r\n",
                "        COUNT(*) as number_of_pizzas\r\n",
                "    FROM \r\n",
                "        #customer_orders c \r\n",
                "    JOIN #runner_orders r on r.order_id = c.order_id\r\n",
                "    WHERE r.distance != 0\r\n",
                "    GROUP BY \r\n",
                "        c.order_id\r\n",
                ")\r\n",
                "SELECT \r\n",
                "    MAX(number_of_pizzas) as max_pizzas_delivered\r\n",
                "FROM\r\n",
                "    tbl"
            ],
            "metadata": {
                "azdata_cell_guid": "7a6fce53-2980-41d2-97df-d884dae3198b",
                "language": "sql"
            },
            "outputs": [
                {
                    "output_type": "display_data",
                    "data": {
                        "text/html": "(1 row affected)"
                    },
                    "metadata": {}
                },
                {
                    "output_type": "display_data",
                    "data": {
                        "text/html": "Total execution time: 00:00:00.006"
                    },
                    "metadata": {}
                },
                {
                    "output_type": "execute_result",
                    "metadata": {},
                    "execution_count": 9,
                    "data": {
                        "application/vnd.dataresource+json": {
                            "schema": {
                                "fields": [
                                    {
                                        "name": "max_pizzas_delivered"
                                    }
                                ]
                            },
                            "data": [
                                {
                                    "0": "3"
                                }
                            ]
                        },
                        "text/html": [
                            "<table>",
                            "<tr><th>max_pizzas_delivered</th></tr>",
                            "<tr><td>3</td></tr>",
                            "</table>"
                        ]
                    }
                }
            ],
            "execution_count": 9
        },
        {
            "cell_type": "markdown",
            "source": [
                "    7. For each customer, how many delivered pizzas had at least 1 change and how many had no changes?"
            ],
            "metadata": {
                "azdata_cell_guid": "e79f0cc0-2fbe-4d79-84ae-1dd77ea53e7a"
            },
            "attachments": {}
        },
        {
            "cell_type": "code",
            "source": [
                "SELECT\r\n",
                "    c.customer_id,\r\n",
                "    SUM(\r\n",
                "        CASE  \r\n",
                "            WHEN c.exclusions = '' and c.extras = '' THEN 1\r\n",
                "            ELSE 0\r\n",
                "        END\r\n",
                "    ) as no_change,\r\n",
                "    SUM(\r\n",
                "        CASE  \r\n",
                "            WHEN c.exclusions != '' OR c.extras != '' THEN 1\r\n",
                "            ELSE 0\r\n",
                "        END\r\n",
                "    ) as at_least_1_change\r\n",
                "FROM \r\n",
                "    #customer_orders c \r\n",
                "JOIN #runner_orders r on r.order_id = c.order_id\r\n",
                "WHERE r.distance != 0\r\n",
                "GROUP BY \r\n",
                "    c.customer_id"
            ],
            "metadata": {
                "azdata_cell_guid": "9e2fd961-ee4c-4c7e-a818-3a87451ca5cc",
                "language": "sql"
            },
            "outputs": [
                {
                    "output_type": "display_data",
                    "data": {
                        "text/html": "(5 rows affected)"
                    },
                    "metadata": {}
                },
                {
                    "output_type": "display_data",
                    "data": {
                        "text/html": "Total execution time: 00:00:00.006"
                    },
                    "metadata": {}
                },
                {
                    "output_type": "execute_result",
                    "metadata": {},
                    "execution_count": 10,
                    "data": {
                        "application/vnd.dataresource+json": {
                            "schema": {
                                "fields": [
                                    {
                                        "name": "customer_id"
                                    },
                                    {
                                        "name": "no_change"
                                    },
                                    {
                                        "name": "at_least_1_change"
                                    }
                                ]
                            },
                            "data": [
                                {
                                    "0": "101",
                                    "1": "0",
                                    "2": "0"
                                },
                                {
                                    "0": "102",
                                    "1": "0",
                                    "2": "0"
                                },
                                {
                                    "0": "103",
                                    "1": "0",
                                    "2": "3"
                                },
                                {
                                    "0": "104",
                                    "1": "0",
                                    "2": "2"
                                },
                                {
                                    "0": "105",
                                    "1": "0",
                                    "2": "1"
                                }
                            ]
                        },
                        "text/html": [
                            "<table>",
                            "<tr><th>customer_id</th><th>no_change</th><th>at_least_1_change</th></tr>",
                            "<tr><td>101</td><td>0</td><td>0</td></tr>",
                            "<tr><td>102</td><td>0</td><td>0</td></tr>",
                            "<tr><td>103</td><td>0</td><td>3</td></tr>",
                            "<tr><td>104</td><td>0</td><td>2</td></tr>",
                            "<tr><td>105</td><td>0</td><td>1</td></tr>",
                            "</table>"
                        ]
                    }
                }
            ],
            "execution_count": 10
        },
        {
            "cell_type": "markdown",
            "source": [
                "    8. How many pizzas were delivered that had both exclusions and extras?"
            ],
            "metadata": {
                "azdata_cell_guid": "864d23b3-0710-43e4-83cf-3a4ae899b9a2"
            },
            "attachments": {}
        },
        {
            "cell_type": "code",
            "source": [
                "SELECT\r\n",
                "    COUNT(*) as pizzas_had_both_exclusions_and_extras\r\n",
                "FROM \r\n",
                "    #customer_orders c \r\n",
                "JOIN #runner_orders r on r.order_id = c.order_id\r\n",
                "WHERE r.distance != 0 AND c.exclusions != '' AND c.extras != ''"
            ],
            "metadata": {
                "azdata_cell_guid": "90873c98-1861-4cea-9887-879b8692e794",
                "language": "sql"
            },
            "outputs": [
                {
                    "output_type": "display_data",
                    "data": {
                        "text/html": "(1 row affected)"
                    },
                    "metadata": {}
                },
                {
                    "output_type": "display_data",
                    "data": {
                        "text/html": "Total execution time: 00:00:00.020"
                    },
                    "metadata": {}
                },
                {
                    "output_type": "execute_result",
                    "metadata": {},
                    "execution_count": 11,
                    "data": {
                        "application/vnd.dataresource+json": {
                            "schema": {
                                "fields": [
                                    {
                                        "name": "pizzas_had_both_exclusions_and_extras"
                                    }
                                ]
                            },
                            "data": [
                                {
                                    "0": "1"
                                }
                            ]
                        },
                        "text/html": [
                            "<table>",
                            "<tr><th>pizzas_had_both_exclusions_and_extras</th></tr>",
                            "<tr><td>1</td></tr>",
                            "</table>"
                        ]
                    }
                }
            ],
            "execution_count": 11
        },
        {
            "cell_type": "markdown",
            "source": [
                "    9. What was the total volume of pizzas ordered for each hour of the day?"
            ],
            "metadata": {
                "azdata_cell_guid": "369aec83-78cd-487f-8b7f-8b537013b1c2"
            },
            "attachments": {}
        },
        {
            "cell_type": "code",
            "source": [
                "SELECT\r\n",
                "    DATEPART(HOUR, order_time) as hour_of_day,\r\n",
                "    COUNT(*) as number_of_pizzas\r\n",
                "FROM \r\n",
                "    #customer_orders c \r\n",
                "GROUP BY DATEPART(HOUR, order_time)"
            ],
            "metadata": {
                "azdata_cell_guid": "00885d4a-0876-440a-809c-6293832e354e",
                "language": "sql"
            },
            "outputs": [
                {
                    "output_type": "display_data",
                    "data": {
                        "text/html": "(6 rows affected)"
                    },
                    "metadata": {}
                },
                {
                    "output_type": "display_data",
                    "data": {
                        "text/html": "Total execution time: 00:00:00.014"
                    },
                    "metadata": {}
                },
                {
                    "output_type": "execute_result",
                    "metadata": {},
                    "execution_count": 12,
                    "data": {
                        "application/vnd.dataresource+json": {
                            "schema": {
                                "fields": [
                                    {
                                        "name": "hour_of_day"
                                    },
                                    {
                                        "name": "number_of_pizzas"
                                    }
                                ]
                            },
                            "data": [
                                {
                                    "0": "11",
                                    "1": "1"
                                },
                                {
                                    "0": "13",
                                    "1": "3"
                                },
                                {
                                    "0": "18",
                                    "1": "3"
                                },
                                {
                                    "0": "19",
                                    "1": "1"
                                },
                                {
                                    "0": "21",
                                    "1": "3"
                                },
                                {
                                    "0": "23",
                                    "1": "3"
                                }
                            ]
                        },
                        "text/html": [
                            "<table>",
                            "<tr><th>hour_of_day</th><th>number_of_pizzas</th></tr>",
                            "<tr><td>11</td><td>1</td></tr>",
                            "<tr><td>13</td><td>3</td></tr>",
                            "<tr><td>18</td><td>3</td></tr>",
                            "<tr><td>19</td><td>1</td></tr>",
                            "<tr><td>21</td><td>3</td></tr>",
                            "<tr><td>23</td><td>3</td></tr>",
                            "</table>"
                        ]
                    }
                }
            ],
            "execution_count": 12
        },
        {
            "cell_type": "markdown",
            "source": [
                "    10. What was the volume of orders for each day of the week?"
            ],
            "metadata": {
                "azdata_cell_guid": "7cd418af-fbe4-4a64-8b26-eed506ef40cc"
            },
            "attachments": {}
        },
        {
            "cell_type": "code",
            "source": [
                "SELECT\r\n",
                "  DATENAME(WEEKDAY, order_time) as day_of_week,\r\n",
                "  COUNT(*) as number_of_pizzas\r\n",
                "FROM\r\n",
                "  #customer_orders\r\n",
                "GROUP BY DATENAME(WEEKDAY, order_time)\r\n",
                "ORDER BY day_of_week"
            ],
            "metadata": {
                "azdata_cell_guid": "53b4871f-7def-4efa-bed0-2342c027c918",
                "language": "sql"
            },
            "outputs": [
                {
                    "output_type": "display_data",
                    "data": {
                        "text/html": "(4 rows affected)"
                    },
                    "metadata": {}
                },
                {
                    "output_type": "display_data",
                    "data": {
                        "text/html": "Total execution time: 00:00:00.012"
                    },
                    "metadata": {}
                },
                {
                    "output_type": "execute_result",
                    "metadata": {},
                    "execution_count": 13,
                    "data": {
                        "application/vnd.dataresource+json": {
                            "schema": {
                                "fields": [
                                    {
                                        "name": "day_of_week"
                                    },
                                    {
                                        "name": "number_of_pizzas"
                                    }
                                ]
                            },
                            "data": [
                                {
                                    "0": "Friday",
                                    "1": "1"
                                },
                                {
                                    "0": "Saturday",
                                    "1": "5"
                                },
                                {
                                    "0": "Thursday",
                                    "1": "3"
                                },
                                {
                                    "0": "Wednesday",
                                    "1": "5"
                                }
                            ]
                        },
                        "text/html": [
                            "<table>",
                            "<tr><th>day_of_week</th><th>number_of_pizzas</th></tr>",
                            "<tr><td>Friday</td><td>1</td></tr>",
                            "<tr><td>Saturday</td><td>5</td></tr>",
                            "<tr><td>Thursday</td><td>3</td></tr>",
                            "<tr><td>Wednesday</td><td>5</td></tr>",
                            "</table>"
                        ]
                    }
                }
            ],
            "execution_count": 13
        },
        {
            "cell_type": "markdown",
            "source": [
                "### B. Runner and Customer Experience\r\n",
                "---\r\n",
                "    1. How many runners signed up for each 1 week period? (i.e. week starts 2021-01-01)"
            ],
            "metadata": {
                "azdata_cell_guid": "4370c7dc-8ff3-4819-8b13-e9b0751f9a9d"
            },
            "attachments": {}
        },
        {
            "cell_type": "code",
            "source": [
                "SET DATEFIRST 1;\r\n",
                "SELECT\r\n",
                "  DATEPART(WEEK, registration_date) as week,\r\n",
                "  COUNT(*) as runners_signup\r\n",
                "FROM \r\n",
                "  runners\r\n",
                "GROUP BY DATEPART(WEEK, registration_date);"
            ],
            "metadata": {
                "azdata_cell_guid": "4c3e0b37-54c5-4051-a868-5679bd6a5ba8",
                "language": "sql"
            },
            "outputs": [
                {
                    "output_type": "display_data",
                    "data": {
                        "text/html": "(3 rows affected)"
                    },
                    "metadata": {}
                },
                {
                    "output_type": "display_data",
                    "data": {
                        "text/html": "Total execution time: 00:00:00.009"
                    },
                    "metadata": {}
                },
                {
                    "output_type": "execute_result",
                    "metadata": {},
                    "execution_count": 14,
                    "data": {
                        "application/vnd.dataresource+json": {
                            "schema": {
                                "fields": [
                                    {
                                        "name": "week"
                                    },
                                    {
                                        "name": "runners_signup"
                                    }
                                ]
                            },
                            "data": [
                                {
                                    "0": "1",
                                    "1": "2"
                                },
                                {
                                    "0": "2",
                                    "1": "1"
                                },
                                {
                                    "0": "3",
                                    "1": "1"
                                }
                            ]
                        },
                        "text/html": [
                            "<table>",
                            "<tr><th>week</th><th>runners_signup</th></tr>",
                            "<tr><td>1</td><td>2</td></tr>",
                            "<tr><td>2</td><td>1</td></tr>",
                            "<tr><td>3</td><td>1</td></tr>",
                            "</table>"
                        ]
                    }
                }
            ],
            "execution_count": 14
        },
        {
            "cell_type": "markdown",
            "source": [
                "    2. What was the average time in minutes it took for each runner to arrive at the Pizza Runner HQ to pickup the order?"
            ],
            "metadata": {
                "azdata_cell_guid": "48c126a7-5218-4138-84b0-1e56990b7cc6"
            },
            "attachments": {}
        },
        {
            "cell_type": "code",
            "source": [
                "WITH tbl as(\r\n",
                "  SELECT\r\n",
                "    r.runner_id,\r\n",
                "    c.order_id,\r\n",
                "    c.order_time,\r\n",
                "    r.pickup_time,\r\n",
                "    CAST(DATEDIFF( minute, order_time, pickup_time) AS FLOAT) as pickup_minutes\r\n",
                "  FROM \r\n",
                "    #runner_orders r\r\n",
                "  JOIN #customer_orders c on c.order_id = r.order_id\r\n",
                "  WHERE r.distance != 0\r\n",
                "  GROUP BY r.runner_id, c.order_id, c.order_time, r.pickup_time\r\n",
                ")\r\n",
                "SELECT \r\n",
                "  runner_id,\r\n",
                "  ROUND(AVG(pickup_minutes),2) as avg_pickup_minutes\r\n",
                "FROM\r\n",
                "  tbl\r\n",
                "GROUP BY runner_id;"
            ],
            "metadata": {
                "azdata_cell_guid": "c214c3cb-cc19-4d13-96e6-2cad0f1e6cf9",
                "language": "sql"
            },
            "outputs": [
                {
                    "output_type": "display_data",
                    "data": {
                        "text/html": "(3 rows affected)"
                    },
                    "metadata": {}
                },
                {
                    "output_type": "display_data",
                    "data": {
                        "text/html": "Total execution time: 00:00:00.088"
                    },
                    "metadata": {}
                },
                {
                    "output_type": "execute_result",
                    "metadata": {},
                    "execution_count": 15,
                    "data": {
                        "application/vnd.dataresource+json": {
                            "schema": {
                                "fields": [
                                    {
                                        "name": "runner_id"
                                    },
                                    {
                                        "name": "avg_pickup_minutes"
                                    }
                                ]
                            },
                            "data": [
                                {
                                    "0": "1",
                                    "1": "14.25"
                                },
                                {
                                    "0": "2",
                                    "1": "20.33"
                                },
                                {
                                    "0": "3",
                                    "1": "10"
                                }
                            ]
                        },
                        "text/html": [
                            "<table>",
                            "<tr><th>runner_id</th><th>avg_pickup_minutes</th></tr>",
                            "<tr><td>1</td><td>14.25</td></tr>",
                            "<tr><td>2</td><td>20.33</td></tr>",
                            "<tr><td>3</td><td>10</td></tr>",
                            "</table>"
                        ]
                    }
                }
            ],
            "execution_count": 15
        },
        {
            "cell_type": "markdown",
            "source": [
                "    3. Is there any relationship between the number of pizzas and how long the order takes to prepare?"
            ],
            "metadata": {
                "azdata_cell_guid": "38d77437-88f8-4917-8ed6-3ac7d647ad8d"
            },
            "attachments": {}
        },
        {
            "cell_type": "code",
            "source": [
                "WITH tbl as(\r\n",
                "  SELECT\r\n",
                "    c.order_id,\r\n",
                "    CAST(DATEDIFF(MINUTE, c.order_time, r.pickup_time) as float) as pickup_minutes,\r\n",
                "    COUNT(*) as number_of_pizzas_in_a_order\r\n",
                "  FROM \r\n",
                "    #customer_orders c\r\n",
                "  JOIN #runner_orders r on r.order_id = c.order_id\r\n",
                "  WHERE r.distance != 0\r\n",
                "  GROUP BY c.order_id, DATEDIFF(MINUTE, c.order_time, r.pickup_time)\r\n",
                ")\r\n",
                "SELECT\r\n",
                "  number_of_pizzas_in_a_order,\r\n",
                "  AVG(pickup_minutes) as avg_time_per_order,\r\n",
                "  (AVG(pickup_minutes)/ number_of_pizzas_in_a_order) AS avg_time_per_pizza\r\n",
                "FROM\r\n",
                "  tbl\r\n",
                "GROUP BY number_of_pizzas_in_a_order;"
            ],
            "metadata": {
                "azdata_cell_guid": "fe2747de-4156-4019-bc96-25c770c9bb4b",
                "language": "sql"
            },
            "outputs": [
                {
                    "output_type": "display_data",
                    "data": {
                        "text/html": "(3 rows affected)"
                    },
                    "metadata": {}
                },
                {
                    "output_type": "display_data",
                    "data": {
                        "text/html": "Total execution time: 00:00:01.013"
                    },
                    "metadata": {}
                },
                {
                    "output_type": "execute_result",
                    "metadata": {},
                    "execution_count": 16,
                    "data": {
                        "application/vnd.dataresource+json": {
                            "schema": {
                                "fields": [
                                    {
                                        "name": "number_of_pizzas_in_a_order"
                                    },
                                    {
                                        "name": "avg_time_per_order"
                                    },
                                    {
                                        "name": "avg_time_per_pizza"
                                    }
                                ]
                            },
                            "data": [
                                {
                                    "0": "1",
                                    "1": "12.2",
                                    "2": "12.2"
                                },
                                {
                                    "0": "2",
                                    "1": "18.5",
                                    "2": "9.25"
                                },
                                {
                                    "0": "3",
                                    "1": "30",
                                    "2": "10"
                                }
                            ]
                        },
                        "text/html": [
                            "<table>",
                            "<tr><th>number_of_pizzas_in_a_order</th><th>avg_time_per_order</th><th>avg_time_per_pizza</th></tr>",
                            "<tr><td>1</td><td>12.2</td><td>12.2</td></tr>",
                            "<tr><td>2</td><td>18.5</td><td>9.25</td></tr>",
                            "<tr><td>3</td><td>30</td><td>10</td></tr>",
                            "</table>"
                        ]
                    }
                }
            ],
            "execution_count": 16
        },
        {
            "cell_type": "markdown",
            "source": [
                "    4. What was the average distance travelled for each customer?"
            ],
            "metadata": {
                "azdata_cell_guid": "1dbe0718-852b-4249-a520-1abd7653ae30"
            },
            "attachments": {}
        },
        {
            "cell_type": "code",
            "source": [
                "WITH tbl AS(\r\n",
                "  SELECT \r\n",
                "    c.customer_id,\r\n",
                "    r.distance\r\n",
                "  FROM \r\n",
                "    #customer_orders c\r\n",
                "  JOIN #runner_orders r on r.order_id = c.order_id\r\n",
                "  WHERE r.distance != 0\r\n",
                "  GROUP BY c.customer_id, r.distance\r\n",
                ")\r\n",
                "SELECT\r\n",
                "  customer_id,\r\n",
                "  AVG(distance) as avg_distance_travelled\r\n",
                "FROM\r\n",
                "  tbl\r\n",
                "GROUP BY customer_id"
            ],
            "metadata": {
                "azdata_cell_guid": "b3b5b0e3-53cd-47f0-b708-c8aef88be1d5",
                "language": "sql"
            },
            "outputs": [
                {
                    "output_type": "display_data",
                    "data": {
                        "text/html": "(5 rows affected)"
                    },
                    "metadata": {}
                },
                {
                    "output_type": "display_data",
                    "data": {
                        "text/html": "Total execution time: 00:00:00.014"
                    },
                    "metadata": {}
                },
                {
                    "output_type": "execute_result",
                    "metadata": {},
                    "execution_count": 17,
                    "data": {
                        "application/vnd.dataresource+json": {
                            "schema": {
                                "fields": [
                                    {
                                        "name": "customer_id"
                                    },
                                    {
                                        "name": "avg_distance_travelled"
                                    }
                                ]
                            },
                            "data": [
                                {
                                    "0": "101",
                                    "1": "20"
                                },
                                {
                                    "0": "102",
                                    "1": "18.4"
                                },
                                {
                                    "0": "103",
                                    "1": "23.4"
                                },
                                {
                                    "0": "104",
                                    "1": "10"
                                },
                                {
                                    "0": "105",
                                    "1": "25"
                                }
                            ]
                        },
                        "text/html": [
                            "<table>",
                            "<tr><th>customer_id</th><th>avg_distance_travelled</th></tr>",
                            "<tr><td>101</td><td>20</td></tr>",
                            "<tr><td>102</td><td>18.4</td></tr>",
                            "<tr><td>103</td><td>23.4</td></tr>",
                            "<tr><td>104</td><td>10</td></tr>",
                            "<tr><td>105</td><td>25</td></tr>",
                            "</table>"
                        ]
                    }
                }
            ],
            "execution_count": 17
        },
        {
            "cell_type": "markdown",
            "source": [
                "    5. What was the difference between the longest and shortest delivery times for all orders?"
            ],
            "metadata": {
                "azdata_cell_guid": "509bcf87-caa2-431f-9213-0bc473907c83"
            },
            "attachments": {}
        },
        {
            "cell_type": "code",
            "source": [
                "SELECT\r\n",
                "  MAX(duration) - MIN(duration) as biggest_delivery_time_difference\r\n",
                "FROM \r\n",
                "  #runner_orders \r\n",
                "WHERE distance != 0"
            ],
            "metadata": {
                "azdata_cell_guid": "264587b3-613f-4344-85ea-bccff1ece2d4",
                "language": "sql"
            },
            "outputs": [
                {
                    "output_type": "display_data",
                    "data": {
                        "text/html": "(1 row affected)"
                    },
                    "metadata": {}
                },
                {
                    "output_type": "display_data",
                    "data": {
                        "text/html": "Total execution time: 00:00:00.008"
                    },
                    "metadata": {}
                },
                {
                    "output_type": "execute_result",
                    "metadata": {},
                    "execution_count": 18,
                    "data": {
                        "application/vnd.dataresource+json": {
                            "schema": {
                                "fields": [
                                    {
                                        "name": "biggest_delivery_time_difference"
                                    }
                                ]
                            },
                            "data": [
                                {
                                    "0": "30"
                                }
                            ]
                        },
                        "text/html": [
                            "<table>",
                            "<tr><th>biggest_delivery_time_difference</th></tr>",
                            "<tr><td>30</td></tr>",
                            "</table>"
                        ]
                    }
                }
            ],
            "execution_count": 18
        },
        {
            "cell_type": "markdown",
            "source": [
                "    6. What was the average speed for each runner for each delivery and do you notice any trend for these values?"
            ],
            "metadata": {
                "azdata_cell_guid": "08c92290-eaed-4b2d-9277-8d2a5a4cd503"
            },
            "attachments": {}
        },
        {
            "cell_type": "code",
            "source": [
                "SELECT\r\n",
                "  runner_id,\r\n",
                "  order_id,\r\n",
                "  ROUND(AVG(distance*60/duration),2) as average_speed_each_delivery\r\n",
                "FROM \r\n",
                "  #runner_orders r\r\n",
                "WHERE distance != 0\r\n",
                "GROUP BY runner_id, order_id\r\n",
                "ORDER BY runner_id"
            ],
            "metadata": {
                "azdata_cell_guid": "2b43eee0-2b9a-445b-86dc-becc7c37ff88",
                "language": "sql"
            },
            "outputs": [
                {
                    "output_type": "display_data",
                    "data": {
                        "text/html": "(8 rows affected)"
                    },
                    "metadata": {}
                },
                {
                    "output_type": "display_data",
                    "data": {
                        "text/html": "Total execution time: 00:00:00.020"
                    },
                    "metadata": {}
                },
                {
                    "output_type": "execute_result",
                    "metadata": {},
                    "execution_count": 19,
                    "data": {
                        "application/vnd.dataresource+json": {
                            "schema": {
                                "fields": [
                                    {
                                        "name": "runner_id"
                                    },
                                    {
                                        "name": "order_id"
                                    },
                                    {
                                        "name": "average_speed_each_delivery"
                                    }
                                ]
                            },
                            "data": [
                                {
                                    "0": "1",
                                    "1": "1",
                                    "2": "37.5"
                                },
                                {
                                    "0": "1",
                                    "1": "2",
                                    "2": "44.44"
                                },
                                {
                                    "0": "1",
                                    "1": "3",
                                    "2": "40.2"
                                },
                                {
                                    "0": "1",
                                    "1": "10",
                                    "2": "60"
                                },
                                {
                                    "0": "2",
                                    "1": "4",
                                    "2": "35.1"
                                },
                                {
                                    "0": "2",
                                    "1": "7",
                                    "2": "60"
                                },
                                {
                                    "0": "2",
                                    "1": "8",
                                    "2": "93.6"
                                },
                                {
                                    "0": "3",
                                    "1": "5",
                                    "2": "40"
                                }
                            ]
                        },
                        "text/html": [
                            "<table>",
                            "<tr><th>runner_id</th><th>order_id</th><th>average_speed_each_delivery</th></tr>",
                            "<tr><td>1</td><td>1</td><td>37.5</td></tr>",
                            "<tr><td>1</td><td>2</td><td>44.44</td></tr>",
                            "<tr><td>1</td><td>3</td><td>40.2</td></tr>",
                            "<tr><td>1</td><td>10</td><td>60</td></tr>",
                            "<tr><td>2</td><td>4</td><td>35.1</td></tr>",
                            "<tr><td>2</td><td>7</td><td>60</td></tr>",
                            "<tr><td>2</td><td>8</td><td>93.6</td></tr>",
                            "<tr><td>3</td><td>5</td><td>40</td></tr>",
                            "</table>"
                        ]
                    }
                }
            ],
            "execution_count": 19
        },
        {
            "cell_type": "markdown",
            "source": [
                "    7. What is the successful delivery percentage for each runner?"
            ],
            "metadata": {
                "azdata_cell_guid": "54e3c48c-d48d-4770-8479-84d8fccaa5eb"
            },
            "attachments": {}
        },
        {
            "cell_type": "code",
            "source": [
                "SELECT\r\n",
                "  runner_id,\r\n",
                "  100 * \r\n",
                "  SUM(\r\n",
                "    CASE\r\n",
                "      WHEN distance != 0 THEN 1\r\n",
                "      ELSE 0\r\n",
                "    END\r\n",
                "  ) / \r\n",
                "  COUNT(*) as successful_delivery_percentage\r\n",
                "FROM \r\n",
                "  #runner_orders \r\n",
                "GROUP BY runner_id;"
            ],
            "metadata": {
                "azdata_cell_guid": "c91c4454-90da-4521-9ac1-d2ee6a07d102",
                "language": "sql"
            },
            "outputs": [
                {
                    "output_type": "display_data",
                    "data": {
                        "text/html": "(3 rows affected)"
                    },
                    "metadata": {}
                },
                {
                    "output_type": "display_data",
                    "data": {
                        "text/html": "Total execution time: 00:00:00.016"
                    },
                    "metadata": {}
                },
                {
                    "output_type": "execute_result",
                    "metadata": {},
                    "execution_count": 20,
                    "data": {
                        "application/vnd.dataresource+json": {
                            "schema": {
                                "fields": [
                                    {
                                        "name": "runner_id"
                                    },
                                    {
                                        "name": "successful_delivery_percentage"
                                    }
                                ]
                            },
                            "data": [
                                {
                                    "0": "1",
                                    "1": "100"
                                },
                                {
                                    "0": "2",
                                    "1": "75"
                                },
                                {
                                    "0": "3",
                                    "1": "50"
                                }
                            ]
                        },
                        "text/html": [
                            "<table>",
                            "<tr><th>runner_id</th><th>successful_delivery_percentage</th></tr>",
                            "<tr><td>1</td><td>100</td></tr>",
                            "<tr><td>2</td><td>75</td></tr>",
                            "<tr><td>3</td><td>50</td></tr>",
                            "</table>"
                        ]
                    }
                }
            ],
            "execution_count": 20
        },
        {
            "cell_type": "markdown",
            "source": [
                "### C. Ingredient Optimization\r\n",
                "---\r\n",
                "### Data cleaning for this section\r\n",
                "    1. Table `pizza_recipes`"
            ],
            "metadata": {
                "azdata_cell_guid": "151c6fbd-feba-4092-a133-65c899d1efd1"
            },
            "attachments": {}
        },
        {
            "cell_type": "code",
            "source": [
                "DROP TABLE IF EXISTS #pizza_recipes;\r\n",
                "SELECT pizza_id, \r\n",
                "        TRIM(topping_id.value) as topping_id,\r\n",
                "        topping_name\r\n",
                "INTO #pizza_recipes\r\n",
                "FROM pizza_recipes p\r\n",
                "CROSS APPLY string_split(p.toppings, ',') as topping_id\r\n",
                "INNER JOIN pizza_toppings p2 ON TRIM(topping_id.value) = p2.topping_id"
            ],
            "metadata": {
                "azdata_cell_guid": "70f2afb5-73e5-430b-88ac-e77fdaaaa634",
                "language": "sql"
            },
            "outputs": [
                {
                    "output_type": "display_data",
                    "data": {
                        "text/html": "(14 rows affected)"
                    },
                    "metadata": {}
                },
                {
                    "output_type": "display_data",
                    "data": {
                        "text/html": "Total execution time: 00:00:00.007"
                    },
                    "metadata": {}
                }
            ],
            "execution_count": 21
        },
        {
            "cell_type": "markdown",
            "source": [
                "    2. Table `#customer_orders`"
            ],
            "metadata": {
                "azdata_cell_guid": "a01b843b-5ad5-4544-9aa6-11da472843e9"
            },
            "attachments": {}
        },
        {
            "cell_type": "code",
            "source": [
                "ALTER TABLE #customer_orders\r\n",
                "ADD record_id INT IDENTITY(1,1)"
            ],
            "metadata": {
                "azdata_cell_guid": "3bf01720-3228-49f2-abd2-b3ca54ca1aa7",
                "language": "sql"
            },
            "outputs": [
                {
                    "output_type": "display_data",
                    "data": {
                        "text/html": "Commands completed successfully."
                    },
                    "metadata": {}
                },
                {
                    "output_type": "display_data",
                    "data": {
                        "text/html": "Total execution time: 00:00:00.004"
                    },
                    "metadata": {}
                }
            ],
            "execution_count": 22
        },
        {
            "cell_type": "markdown",
            "source": [
                "    3. New tables `#extras` & `exclusions`"
            ],
            "metadata": {
                "azdata_cell_guid": "e4a43807-5d49-41a6-9c37-cfffd121fd19"
            },
            "attachments": {}
        },
        {
            "cell_type": "markdown",
            "source": [
                "Table `#extras`"
            ],
            "metadata": {
                "azdata_cell_guid": "446a903d-27ae-43a7-b820-1333499bd534"
            },
            "attachments": {}
        },
        {
            "cell_type": "code",
            "source": [
                "DROP TABLE IF EXISTS #extras\r\n",
                "SELECT\t\t\r\n",
                "      c.record_id,\r\n",
                "      TRIM(e.value) AS topping_id\r\n",
                "INTO #extras\r\n",
                "FROM #customer_orders as c\r\n",
                "\t    CROSS APPLY string_split(c.extras, ',') as e;"
            ],
            "metadata": {
                "azdata_cell_guid": "b58c855c-3e22-4594-8cf0-7d46efd7bbd9",
                "language": "sql"
            },
            "outputs": [
                {
                    "output_type": "display_data",
                    "data": {
                        "text/html": "(6 rows affected)"
                    },
                    "metadata": {}
                },
                {
                    "output_type": "display_data",
                    "data": {
                        "text/html": "Total execution time: 00:00:00.003"
                    },
                    "metadata": {}
                }
            ],
            "execution_count": 23
        },
        {
            "cell_type": "markdown",
            "source": [
                "Table `#exclusions`"
            ],
            "metadata": {
                "azdata_cell_guid": "f659f4e3-6ed9-4126-858f-4426c76652d5"
            },
            "attachments": {}
        },
        {
            "cell_type": "code",
            "source": [
                "DROP TABLE IF EXISTS #exclusions\r\n",
                "SELECT\tc.record_id,\r\n",
                "\t      TRIM(e.value) AS topping_id\r\n",
                "INTO #exclusions\r\n",
                "FROM #customer_orders as c\r\n",
                "\t    CROSS APPLY string_split(c.exclusions, ',') as e;"
            ],
            "metadata": {
                "azdata_cell_guid": "a5e9dee2-2759-4ba4-8f9b-a7bde42fdfde",
                "language": "sql"
            },
            "outputs": [
                {
                    "output_type": "display_data",
                    "data": {
                        "text/html": "(6 rows affected)"
                    },
                    "metadata": {}
                },
                {
                    "output_type": "display_data",
                    "data": {
                        "text/html": "Total execution time: 00:00:00.003"
                    },
                    "metadata": {}
                }
            ],
            "execution_count": 24
        },
        {
            "cell_type": "markdown",
            "source": [
                "### Question"
            ],
            "metadata": {
                "azdata_cell_guid": "aad3475d-e39d-4c44-832d-fd0130356cb2"
            },
            "attachments": {}
        },
        {
            "cell_type": "markdown",
            "source": [
                "    1. What are the standard ingredients for each pizza?"
            ],
            "metadata": {
                "azdata_cell_guid": "b9461152-210e-4ca4-9063-0837b92decd7"
            },
            "attachments": {}
        },
        {
            "cell_type": "code",
            "source": [
                "WITH tbl AS (\r\n",
                "              SELECT pizza_id, \r\n",
                "                      p1.topping_name\r\n",
                "              FROM #pizza_recipes p1\r\n",
                "              INNER JOIN pizza_toppings p2 \r\n",
                "              ON p1.topping_id = p2.topping_id\r\n",
                ")\r\n",
                "SELECT pizza_id, String_agg(topping_name,',') as Standard_toppings\r\n",
                "FROM tbl\r\n",
                "GROUP BY pizza_id;"
            ],
            "metadata": {
                "azdata_cell_guid": "4c23a11b-4697-43ab-b1c7-b1c237956eff",
                "language": "sql"
            },
            "outputs": [
                {
                    "output_type": "display_data",
                    "data": {
                        "text/html": "(2 rows affected)"
                    },
                    "metadata": {}
                },
                {
                    "output_type": "display_data",
                    "data": {
                        "text/html": "Total execution time: 00:00:00.020"
                    },
                    "metadata": {}
                },
                {
                    "output_type": "execute_result",
                    "metadata": {},
                    "execution_count": 25,
                    "data": {
                        "application/vnd.dataresource+json": {
                            "schema": {
                                "fields": [
                                    {
                                        "name": "pizza_id"
                                    },
                                    {
                                        "name": "Standard_toppings"
                                    }
                                ]
                            },
                            "data": [
                                {
                                    "0": "1",
                                    "1": "Bacon,BBQ Sauce,Beef,Cheese,Chicken,Mushrooms,Pepperoni,Salami"
                                },
                                {
                                    "0": "2",
                                    "1": "Cheese,Mushrooms,Onions,Peppers,Tomatoes,Tomato Sauce"
                                }
                            ]
                        },
                        "text/html": [
                            "<table>",
                            "<tr><th>pizza_id</th><th>Standard_toppings</th></tr>",
                            "<tr><td>1</td><td>Bacon,BBQ Sauce,Beef,Cheese,Chicken,Mushrooms,Pepperoni,Salami</td></tr>",
                            "<tr><td>2</td><td>Cheese,Mushrooms,Onions,Peppers,Tomatoes,Tomato Sauce</td></tr>",
                            "</table>"
                        ]
                    }
                }
            ],
            "execution_count": 25
        },
        {
            "cell_type": "markdown",
            "source": [
                "    2. What was the most commonly added extra?"
            ],
            "metadata": {
                "azdata_cell_guid": "8b8623cf-e6eb-4372-803b-31f1e79ca325"
            },
            "attachments": {}
        },
        {
            "cell_type": "code",
            "source": [
                "WITH CTE AS (\r\n",
                "    SELECT \r\n",
                "        pizza_id,\r\n",
                "        topping_type,\r\n",
                "        topping\r\n",
                "    FROM (\r\n",
                "        SELECT \r\n",
                "            pizza_id, \r\n",
                "            CAST(SUBSTRING(extras, 1,1) AS INT) AS topping_1, \r\n",
                "            CAST(SUBSTRING(extras,3,3) AS INT) as topping_2\r\n",
                "        FROM #customer_orders\r\n",
                "        WHERE extras is not null\r\n",
                "        ) p \r\n",
                "    UNPIVOT (topping for topping_type in (topping_1,topping_2)) as unpvt\r\n",
                ")\r\n",
                "SELECT \r\n",
                "    Topping, \r\n",
                "    topping_name, \r\n",
                "    COUNT(topping) AS Extra_Topping_Time\r\n",
                "FROM CTE c\r\n",
                "JOIN pizza_toppings p ON c.topping = p.topping_id\r\n",
                "WHERE topping != 0\r\n",
                "GROUP BY topping,topping_name;"
            ],
            "metadata": {
                "azdata_cell_guid": "a7b822a0-b75c-4c80-88c6-be7766421e2a",
                "language": "sql"
            },
            "outputs": [
                {
                    "output_type": "display_data",
                    "data": {
                        "text/html": "(3 rows affected)"
                    },
                    "metadata": {}
                },
                {
                    "output_type": "display_data",
                    "data": {
                        "text/html": "Total execution time: 00:00:26.046"
                    },
                    "metadata": {}
                },
                {
                    "output_type": "execute_result",
                    "metadata": {},
                    "execution_count": 26,
                    "data": {
                        "application/vnd.dataresource+json": {
                            "schema": {
                                "fields": [
                                    {
                                        "name": "Topping"
                                    },
                                    {
                                        "name": "topping_name"
                                    },
                                    {
                                        "name": "Extra_Topping_Time"
                                    }
                                ]
                            },
                            "data": [
                                {
                                    "0": "1",
                                    "1": "Bacon",
                                    "2": "4"
                                },
                                {
                                    "0": "4",
                                    "1": "Cheese",
                                    "2": "1"
                                },
                                {
                                    "0": "5",
                                    "1": "Chicken",
                                    "2": "1"
                                }
                            ]
                        },
                        "text/html": [
                            "<table>",
                            "<tr><th>Topping</th><th>topping_name</th><th>Extra_Topping_Time</th></tr>",
                            "<tr><td>1</td><td>Bacon</td><td>4</td></tr>",
                            "<tr><td>4</td><td>Cheese</td><td>1</td></tr>",
                            "<tr><td>5</td><td>Chicken</td><td>1</td></tr>",
                            "</table>"
                        ]
                    }
                }
            ],
            "execution_count": 26
        },
        {
            "cell_type": "markdown",
            "source": [
                "    3. What was the most common exclusion?"
            ],
            "metadata": {
                "azdata_cell_guid": "2fab1465-727a-4ebb-91ab-2174dbc42a6b"
            },
            "attachments": {}
        },
        {
            "cell_type": "code",
            "source": [
                "WITH CTE AS (\r\n",
                "    SELECT \r\n",
                "        pizza_id,\r\n",
                "        topping_type,\r\n",
                "        topping\r\n",
                "    FROM (\r\n",
                "        SELECT pizza_id, \r\n",
                "            CAST(SUBSTRING(exclusions, 1,1) AS INT) AS exclusions_1, \r\n",
                "            CAST(SUBSTRING(exclusions,3,3) AS INT) as exclusions_2\r\n",
                "        FROM #customer_orders\r\n",
                "        WHERE exclusions is not null\r\n",
                "    ) p \r\n",
                "    UNPIVOT (topping for topping_type in (exclusions_1,exclusions_2)) as unpvt\r\n",
                ")\r\n",
                "SELECT \r\n",
                "    Topping, \r\n",
                "    topping_name,\r\n",
                "    count(topping) AS exclusions_Topping_Time\r\n",
                "FROM CTE c\r\n",
                "JOIN pizza_toppings p ON c.topping = p.topping_id \r\n",
                "WHERE topping != 0\r\n",
                "GROUP BY topping,topping_name\r\n",
                "ORDER BY exclusions_Topping_Time DESC;"
            ],
            "metadata": {
                "azdata_cell_guid": "36d9d6f1-6218-45b0-9c0a-395d8b573bba",
                "language": "sql"
            },
            "outputs": [
                {
                    "output_type": "display_data",
                    "data": {
                        "text/html": "(3 rows affected)"
                    },
                    "metadata": {}
                },
                {
                    "output_type": "display_data",
                    "data": {
                        "text/html": "Total execution time: 00:00:00.033"
                    },
                    "metadata": {}
                },
                {
                    "output_type": "execute_result",
                    "metadata": {},
                    "execution_count": 27,
                    "data": {
                        "application/vnd.dataresource+json": {
                            "schema": {
                                "fields": [
                                    {
                                        "name": "Topping"
                                    },
                                    {
                                        "name": "topping_name"
                                    },
                                    {
                                        "name": "exclusions_Topping_Time"
                                    }
                                ]
                            },
                            "data": [
                                {
                                    "0": "4",
                                    "1": "Cheese",
                                    "2": "4"
                                },
                                {
                                    "0": "6",
                                    "1": "Mushrooms",
                                    "2": "1"
                                },
                                {
                                    "0": "2",
                                    "1": "BBQ Sauce",
                                    "2": "1"
                                }
                            ]
                        },
                        "text/html": [
                            "<table>",
                            "<tr><th>Topping</th><th>topping_name</th><th>exclusions_Topping_Time</th></tr>",
                            "<tr><td>4</td><td>Cheese</td><td>4</td></tr>",
                            "<tr><td>6</td><td>Mushrooms</td><td>1</td></tr>",
                            "<tr><td>2</td><td>BBQ Sauce</td><td>1</td></tr>",
                            "</table>"
                        ]
                    }
                }
            ],
            "execution_count": 27
        },
        {
            "cell_type": "markdown",
            "source": [
                "    4. Generate an order item for each record in the customers_orders table in the format of one of the following:\r\n",
                "    - Meat Lovers\r\n",
                "    - Meat Lovers - Exclude Beef\r\n",
                "    - Meat Lovers - Extra Bacon\r\n",
                "    - Meat Lovers - Exclude Cheese, Bacon - Extra Mushroom, Peppers"
            ],
            "metadata": {
                "azdata_cell_guid": "c2d57303-feb1-4a0e-9ca7-25fa32990421"
            },
            "attachments": {}
        },
        {
            "cell_type": "code",
            "source": [
                "WITH extras_cte AS (\r\n",
                "                    SELECT \r\n",
                "                      record_id,\r\n",
                "                      'Extra ' + STRING_AGG(t.topping_name, ', ') as record_options\r\n",
                "                    FROM #extras e,\r\n",
                "                         pizza_toppings t\r\n",
                "                    WHERE e.topping_id = t.topping_id\r\n",
                "                    GROUP BY record_id\r\n",
                "                    ),\r\n",
                "exclusions_cte AS   (\r\n",
                "                    SELECT \r\n",
                "                      record_id,\r\n",
                "                      'Exclude ' + STRING_AGG(t.topping_name, ', ') as record_options\r\n",
                "                    FROM #exclusions e,\r\n",
                "                         pizza_toppings t\r\n",
                "                    WHERE e.topping_id = t.topping_id\r\n",
                "                    GROUP BY record_id\r\n",
                "                  ),\r\n",
                "union_cte AS      (\r\n",
                "                    SELECT * FROM extras_cte\r\n",
                "                    UNION\r\n",
                "                    SELECT * FROM exclusions_cte\r\n",
                "                  )\r\n",
                "\r\n",
                "SELECT c.record_id, \r\n",
                "        c.order_id,\r\n",
                "        CONCAT_WS(' - ', p.pizza_name, STRING_AGG(cte.record_options, ' - ')) as pizza_and_topping\r\n",
                "FROM #customer_orders c\r\n",
                "JOIN pizza_names p ON c.pizza_id = p.pizza_id\r\n",
                "LEFT JOIN union_cte cte ON c.record_id = cte.record_id\r\n",
                "GROUP BY\r\n",
                "\tc.record_id,\r\n",
                "\tp.pizza_name,\r\n",
                "  c.order_id\r\n",
                "ORDER BY 1;"
            ],
            "metadata": {
                "azdata_cell_guid": "e200c1a2-71b3-48bf-9034-14a659c5fe3f",
                "language": "sql"
            },
            "outputs": [
                {
                    "output_type": "display_data",
                    "data": {
                        "text/html": "(14 rows affected)"
                    },
                    "metadata": {}
                },
                {
                    "output_type": "display_data",
                    "data": {
                        "text/html": "Total execution time: 00:00:00.762"
                    },
                    "metadata": {}
                },
                {
                    "output_type": "execute_result",
                    "metadata": {},
                    "execution_count": 28,
                    "data": {
                        "application/vnd.dataresource+json": {
                            "schema": {
                                "fields": [
                                    {
                                        "name": "record_id"
                                    },
                                    {
                                        "name": "order_id"
                                    },
                                    {
                                        "name": "pizza_and_topping"
                                    }
                                ]
                            },
                            "data": [
                                {
                                    "0": "1",
                                    "1": "1",
                                    "2": "Meatlovers"
                                },
                                {
                                    "0": "2",
                                    "1": "2",
                                    "2": "Meatlovers"
                                },
                                {
                                    "0": "3",
                                    "1": "3",
                                    "2": "Meatlovers"
                                },
                                {
                                    "0": "4",
                                    "1": "3",
                                    "2": "Vegetarian"
                                },
                                {
                                    "0": "5",
                                    "1": "4",
                                    "2": "Meatlovers - Exclude Cheese"
                                },
                                {
                                    "0": "6",
                                    "1": "4",
                                    "2": "Meatlovers - Exclude Cheese"
                                },
                                {
                                    "0": "7",
                                    "1": "4",
                                    "2": "Vegetarian - Exclude Cheese"
                                },
                                {
                                    "0": "8",
                                    "1": "5",
                                    "2": "Meatlovers - Extra Bacon"
                                },
                                {
                                    "0": "9",
                                    "1": "6",
                                    "2": "Vegetarian"
                                },
                                {
                                    "0": "10",
                                    "1": "7",
                                    "2": "Vegetarian - Extra Bacon"
                                },
                                {
                                    "0": "11",
                                    "1": "8",
                                    "2": "Meatlovers"
                                },
                                {
                                    "0": "12",
                                    "1": "9",
                                    "2": "Meatlovers - Exclude Cheese - Extra Bacon, Chicken"
                                },
                                {
                                    "0": "13",
                                    "1": "10",
                                    "2": "Meatlovers"
                                },
                                {
                                    "0": "14",
                                    "1": "10",
                                    "2": "Meatlovers - Exclude BBQ Sauce, Mushrooms - Extra Bacon, Cheese"
                                }
                            ]
                        },
                        "text/html": [
                            "<table>",
                            "<tr><th>record_id</th><th>order_id</th><th>pizza_and_topping</th></tr>",
                            "<tr><td>1</td><td>1</td><td>Meatlovers</td></tr>",
                            "<tr><td>2</td><td>2</td><td>Meatlovers</td></tr>",
                            "<tr><td>3</td><td>3</td><td>Meatlovers</td></tr>",
                            "<tr><td>4</td><td>3</td><td>Vegetarian</td></tr>",
                            "<tr><td>5</td><td>4</td><td>Meatlovers - Exclude Cheese</td></tr>",
                            "<tr><td>6</td><td>4</td><td>Meatlovers - Exclude Cheese</td></tr>",
                            "<tr><td>7</td><td>4</td><td>Vegetarian - Exclude Cheese</td></tr>",
                            "<tr><td>8</td><td>5</td><td>Meatlovers - Extra Bacon</td></tr>",
                            "<tr><td>9</td><td>6</td><td>Vegetarian</td></tr>",
                            "<tr><td>10</td><td>7</td><td>Vegetarian - Extra Bacon</td></tr>",
                            "<tr><td>11</td><td>8</td><td>Meatlovers</td></tr>",
                            "<tr><td>12</td><td>9</td><td>Meatlovers - Exclude Cheese - Extra Bacon, Chicken</td></tr>",
                            "<tr><td>13</td><td>10</td><td>Meatlovers</td></tr>",
                            "<tr><td>14</td><td>10</td><td>Meatlovers - Exclude BBQ Sauce, Mushrooms - Extra Bacon, Cheese</td></tr>",
                            "</table>"
                        ]
                    }
                }
            ],
            "execution_count": 28
        },
        {
            "cell_type": "markdown",
            "source": [
                "    5. Generate an alphabetically ordered comma separated ingredient list for each pizza order from the customer_orders table and add a 2x in front of any relevant ingredients\r\n",
                "    - For example: \"Meat Lovers: 2xBacon, Beef, ... , Salami\""
            ],
            "metadata": {
                "azdata_cell_guid": "5f5611ed-7493-48b5-a64b-7e6a6ec85eb9"
            },
            "attachments": {}
        },
        {
            "cell_type": "code",
            "source": [
                "WITH INGREDIENT_CTE AS (SELECT record_id,\r\n",
                "                                pizza_name,\r\n",
                "                                CASE WHEN p1.topping_id in (\r\n",
                "                                                  SELECT topping_id\r\n",
                "                                                  FROM #extras e\r\n",
                "                                                  WHERE C.record_id = e.record_id\r\n",
                "                                                 ) \r\n",
                "                                      THEN '2x' + p1.topping_name\r\n",
                "                                      ELSE p1.topping_name\r\n",
                "                                      END AS topping\r\n",
                "                        FROM #customer_orders c \r\n",
                "                        JOIN pizza_names p2 ON c.pizza_id = p2.pizza_id\r\n",
                "                        JOIN #pizza_recipes p1 ON c.pizza_id = p1.pizza_id\r\n",
                "                        WHERE p1.topping_id NOT IN (SELECT topping_id \r\n",
                "                                                 FROM #exclusions e \r\n",
                "                                                 WHERE e.record_id = c.record_id)\r\n",
                "                      )\r\n",
                "\r\n",
                "SELECT record_id, \r\n",
                "      CONCAT(pizza_name +':' ,STRING_AGG(topping, ',' ) WITHIN GROUP (ORDER BY topping ASC)) AS ingredient_list\r\n",
                "FROM INGREDIENT_CTE\r\n",
                "GROUP BY  record_id,pizza_name\r\n",
                "ORDER BY 1;"
            ],
            "metadata": {
                "azdata_cell_guid": "5f8b94e3-a888-4695-9137-fb7986da931f",
                "language": "sql"
            },
            "outputs": [
                {
                    "output_type": "display_data",
                    "data": {
                        "text/html": "(14 rows affected)"
                    },
                    "metadata": {}
                },
                {
                    "output_type": "display_data",
                    "data": {
                        "text/html": "Total execution time: 00:00:00.078"
                    },
                    "metadata": {}
                },
                {
                    "output_type": "execute_result",
                    "metadata": {},
                    "execution_count": 29,
                    "data": {
                        "application/vnd.dataresource+json": {
                            "schema": {
                                "fields": [
                                    {
                                        "name": "record_id"
                                    },
                                    {
                                        "name": "ingredient_list"
                                    }
                                ]
                            },
                            "data": [
                                {
                                    "0": "1",
                                    "1": "Meatlovers:Bacon,BBQ Sauce,Beef,Cheese,Chicken,Mushrooms,Pepperoni,Salami"
                                },
                                {
                                    "0": "2",
                                    "1": "Meatlovers:Bacon,BBQ Sauce,Beef,Cheese,Chicken,Mushrooms,Pepperoni,Salami"
                                },
                                {
                                    "0": "3",
                                    "1": "Meatlovers:Bacon,BBQ Sauce,Beef,Cheese,Chicken,Mushrooms,Pepperoni,Salami"
                                },
                                {
                                    "0": "4",
                                    "1": "Vegetarian:Cheese,Mushrooms,Onions,Peppers,Tomato Sauce,Tomatoes"
                                },
                                {
                                    "0": "5",
                                    "1": "Meatlovers:Bacon,BBQ Sauce,Beef,Chicken,Mushrooms,Pepperoni,Salami"
                                },
                                {
                                    "0": "6",
                                    "1": "Meatlovers:Bacon,BBQ Sauce,Beef,Chicken,Mushrooms,Pepperoni,Salami"
                                },
                                {
                                    "0": "7",
                                    "1": "Vegetarian:Mushrooms,Onions,Peppers,Tomato Sauce,Tomatoes"
                                },
                                {
                                    "0": "8",
                                    "1": "Meatlovers:2xBacon,BBQ Sauce,Beef,Cheese,Chicken,Mushrooms,Pepperoni,Salami"
                                },
                                {
                                    "0": "9",
                                    "1": "Vegetarian:Cheese,Mushrooms,Onions,Peppers,Tomato Sauce,Tomatoes"
                                },
                                {
                                    "0": "10",
                                    "1": "Vegetarian:Cheese,Mushrooms,Onions,Peppers,Tomato Sauce,Tomatoes"
                                },
                                {
                                    "0": "11",
                                    "1": "Meatlovers:Bacon,BBQ Sauce,Beef,Cheese,Chicken,Mushrooms,Pepperoni,Salami"
                                },
                                {
                                    "0": "12",
                                    "1": "Meatlovers:2xBacon,2xChicken,BBQ Sauce,Beef,Mushrooms,Pepperoni,Salami"
                                },
                                {
                                    "0": "13",
                                    "1": "Meatlovers:Bacon,BBQ Sauce,Beef,Cheese,Chicken,Mushrooms,Pepperoni,Salami"
                                },
                                {
                                    "0": "14",
                                    "1": "Meatlovers:2xBacon,2xCheese,Beef,Chicken,Pepperoni,Salami"
                                }
                            ]
                        },
                        "text/html": [
                            "<table>",
                            "<tr><th>record_id</th><th>ingredient_list</th></tr>",
                            "<tr><td>1</td><td>Meatlovers:Bacon,BBQ Sauce,Beef,Cheese,Chicken,Mushrooms,Pepperoni,Salami</td></tr>",
                            "<tr><td>2</td><td>Meatlovers:Bacon,BBQ Sauce,Beef,Cheese,Chicken,Mushrooms,Pepperoni,Salami</td></tr>",
                            "<tr><td>3</td><td>Meatlovers:Bacon,BBQ Sauce,Beef,Cheese,Chicken,Mushrooms,Pepperoni,Salami</td></tr>",
                            "<tr><td>4</td><td>Vegetarian:Cheese,Mushrooms,Onions,Peppers,Tomato Sauce,Tomatoes</td></tr>",
                            "<tr><td>5</td><td>Meatlovers:Bacon,BBQ Sauce,Beef,Chicken,Mushrooms,Pepperoni,Salami</td></tr>",
                            "<tr><td>6</td><td>Meatlovers:Bacon,BBQ Sauce,Beef,Chicken,Mushrooms,Pepperoni,Salami</td></tr>",
                            "<tr><td>7</td><td>Vegetarian:Mushrooms,Onions,Peppers,Tomato Sauce,Tomatoes</td></tr>",
                            "<tr><td>8</td><td>Meatlovers:2xBacon,BBQ Sauce,Beef,Cheese,Chicken,Mushrooms,Pepperoni,Salami</td></tr>",
                            "<tr><td>9</td><td>Vegetarian:Cheese,Mushrooms,Onions,Peppers,Tomato Sauce,Tomatoes</td></tr>",
                            "<tr><td>10</td><td>Vegetarian:Cheese,Mushrooms,Onions,Peppers,Tomato Sauce,Tomatoes</td></tr>",
                            "<tr><td>11</td><td>Meatlovers:Bacon,BBQ Sauce,Beef,Cheese,Chicken,Mushrooms,Pepperoni,Salami</td></tr>",
                            "<tr><td>12</td><td>Meatlovers:2xBacon,2xChicken,BBQ Sauce,Beef,Mushrooms,Pepperoni,Salami</td></tr>",
                            "<tr><td>13</td><td>Meatlovers:Bacon,BBQ Sauce,Beef,Cheese,Chicken,Mushrooms,Pepperoni,Salami</td></tr>",
                            "<tr><td>14</td><td>Meatlovers:2xBacon,2xCheese,Beef,Chicken,Pepperoni,Salami</td></tr>",
                            "</table>"
                        ]
                    }
                }
            ],
            "execution_count": 29
        },
        {
            "cell_type": "markdown",
            "source": [
                "    6. What is the total quantity of each ingredient used in all delivered pizzas sorted by most frequent first?"
            ],
            "metadata": {
                "azdata_cell_guid": "a1744d43-72e1-40d1-9d8a-065eb1dc3304"
            },
            "attachments": {}
        },
        {
            "cell_type": "code",
            "source": [
                "WITH INGREDIENT_CTE AS (SELECT record_id,\r\n",
                "                                pizza_name, \r\n",
                "                                topping_name,\r\n",
                "                                CASE WHEN p1.topping_id in (\r\n",
                "                                  SELECT topping_id\r\n",
                "                                  FROM #extras e\r\n",
                "                                  WHERE C.record_id = e.record_id\r\n",
                "                                ) THEN 2\r\n",
                "                                ELSE 1\r\n",
                "                                END AS times_used_topping\r\n",
                "                        FROM #customer_orders c \r\n",
                "                        JOIN pizza_names p2 ON c.pizza_id = p2.pizza_id\r\n",
                "                        JOIN #pizza_recipes p1 ON c.pizza_id = p1.pizza_id\r\n",
                "                        JOIN #runner_orders r ON c.order_id = r.order_id\r\n",
                "                        WHERE p1.topping_id NOT IN (SELECT topping_id \r\n",
                "                                                  FROM #exclusions e \r\n",
                "                                                  WHERE e.record_id = c.record_id) \r\n",
                "                                                  and r.cancellation is NULL\r\n",
                "                         )\r\n",
                "\r\n",
                "SELECT topping_name, \r\n",
                "        SUM(times_used_topping) AS times_used_topping\r\n",
                "from INGREDIENT_CTE\r\n",
                "GROUP BY topping_name\r\n",
                "order by times_used_topping desc;"
            ],
            "metadata": {
                "azdata_cell_guid": "b7ef67a3-f2ca-4b5e-a8b7-b04ebcbc270e",
                "language": "sql"
            },
            "outputs": [
                {
                    "output_type": "display_data",
                    "data": {
                        "text/html": "(12 rows affected)"
                    },
                    "metadata": {}
                },
                {
                    "output_type": "display_data",
                    "data": {
                        "text/html": "Total execution time: 00:00:00.783"
                    },
                    "metadata": {}
                },
                {
                    "output_type": "execute_result",
                    "metadata": {},
                    "execution_count": 30,
                    "data": {
                        "application/vnd.dataresource+json": {
                            "schema": {
                                "fields": [
                                    {
                                        "name": "topping_name"
                                    },
                                    {
                                        "name": "times_used_topping"
                                    }
                                ]
                            },
                            "data": [
                                {
                                    "0": "Bacon",
                                    "1": "11"
                                },
                                {
                                    "0": "Mushrooms",
                                    "1": "11"
                                },
                                {
                                    "0": "Cheese",
                                    "1": "10"
                                },
                                {
                                    "0": "Chicken",
                                    "1": "9"
                                },
                                {
                                    "0": "Pepperoni",
                                    "1": "9"
                                },
                                {
                                    "0": "Salami",
                                    "1": "9"
                                },
                                {
                                    "0": "Beef",
                                    "1": "9"
                                },
                                {
                                    "0": "BBQ Sauce",
                                    "1": "8"
                                },
                                {
                                    "0": "Peppers",
                                    "1": "3"
                                },
                                {
                                    "0": "Onions",
                                    "1": "3"
                                },
                                {
                                    "0": "Tomato Sauce",
                                    "1": "3"
                                },
                                {
                                    "0": "Tomatoes",
                                    "1": "3"
                                }
                            ]
                        },
                        "text/html": [
                            "<table>",
                            "<tr><th>topping_name</th><th>times_used_topping</th></tr>",
                            "<tr><td>Bacon</td><td>11</td></tr>",
                            "<tr><td>Mushrooms</td><td>11</td></tr>",
                            "<tr><td>Cheese</td><td>10</td></tr>",
                            "<tr><td>Chicken</td><td>9</td></tr>",
                            "<tr><td>Pepperoni</td><td>9</td></tr>",
                            "<tr><td>Salami</td><td>9</td></tr>",
                            "<tr><td>Beef</td><td>9</td></tr>",
                            "<tr><td>BBQ Sauce</td><td>8</td></tr>",
                            "<tr><td>Peppers</td><td>3</td></tr>",
                            "<tr><td>Onions</td><td>3</td></tr>",
                            "<tr><td>Tomato Sauce</td><td>3</td></tr>",
                            "<tr><td>Tomatoes</td><td>3</td></tr>",
                            "</table>"
                        ]
                    }
                }
            ],
            "execution_count": 30
        },
        {
            "cell_type": "markdown",
            "source": [
                "### D. Pricing and Ratings\r\n",
                "---\r\n",
                "    1. If a Meat Lovers pizza costs $12 and Vegetarian costs $10 and there were no charges for changes - how much money has Pizza Runner made so far if there are no delivery fees?"
            ],
            "metadata": {
                "azdata_cell_guid": "60430d21-1012-40ad-a560-c6cdad891cc3"
            },
            "attachments": {}
        },
        {
            "cell_type": "code",
            "source": [
                "WITH CTE AS (\r\n",
                "    SELECT \r\n",
                "        pizza_id, \r\n",
                "        pizza_name,\r\n",
                "        CASE WHEN pizza_name = 'Meatlovers' THEN 12 ELSE 10 END AS pizza_cost\r\n",
                "    FROM pizza_names\r\n",
                ") \r\n",
                "SELECT SUM(pizza_cost) as total_revenue\r\n",
                "FROM #customer_orders c \r\n",
                "JOIN #runner_orders r ON c.order_id = r.order_id\r\n",
                "JOIN CTE c2 ON c.pizza_id = c2.pizza_id\r\n",
                "WHERE r.cancellation IS NULL;"
            ],
            "metadata": {
                "azdata_cell_guid": "c04364cc-575f-428e-84e8-6dc1bdb0f326",
                "language": "sql"
            },
            "outputs": [
                {
                    "output_type": "display_data",
                    "data": {
                        "text/html": "(1 row affected)"
                    },
                    "metadata": {}
                },
                {
                    "output_type": "display_data",
                    "data": {
                        "text/html": "Total execution time: 00:00:00.073"
                    },
                    "metadata": {}
                },
                {
                    "output_type": "execute_result",
                    "metadata": {},
                    "execution_count": 31,
                    "data": {
                        "application/vnd.dataresource+json": {
                            "schema": {
                                "fields": [
                                    {
                                        "name": "total_revenue"
                                    }
                                ]
                            },
                            "data": [
                                {
                                    "0": "138"
                                }
                            ]
                        },
                        "text/html": [
                            "<table>",
                            "<tr><th>total_revenue</th></tr>",
                            "<tr><td>138</td></tr>",
                            "</table>"
                        ]
                    }
                }
            ],
            "execution_count": 31
        },
        {
            "cell_type": "markdown",
            "source": [
                "    2. What if there was an additional $1 charge for any pizza extras?\r\n",
                "    - Add cheese is $1 extra"
            ],
            "metadata": {
                "azdata_cell_guid": "a33fecbe-ef2a-4f13-8e90-dd359b1aa86a"
            },
            "attachments": {}
        },
        {
            "cell_type": "code",
            "source": [
                "WITH pizza_cte AS\r\n",
                "          (SELECT \r\n",
                "                  (CASE WHEN pizza_id=1 THEN 12\r\n",
                "                        WHEN pizza_id = 2 THEN 10\r\n",
                "                        END) AS pizza_cost, \r\n",
                "                  c.exclusions,\r\n",
                "                  c.extras\r\n",
                "          FROM #runner_orders r\r\n",
                "          JOIN #customer_orders c ON c.order_id = r.order_id\r\n",
                "          WHERE r.cancellation IS  NULL\r\n",
                "          )\r\n",
                "SELECT \r\n",
                "      SUM(CASE WHEN extras IS NULL THEN pizza_cost\r\n",
                "               WHEN DATALENGTH(extras) = 1 THEN pizza_cost + 1\r\n",
                "               ELSE pizza_cost + 2\r\n",
                "                END ) AS total_earn\r\n",
                "FROM pizza_cte;"
            ],
            "metadata": {
                "azdata_cell_guid": "b1c6b9dd-136f-4080-9346-b1344e3662c1",
                "language": "sql"
            },
            "outputs": [
                {
                    "output_type": "display_data",
                    "data": {
                        "text/html": "(1 row affected)"
                    },
                    "metadata": {}
                },
                {
                    "output_type": "display_data",
                    "data": {
                        "text/html": "Total execution time: 00:00:00.022"
                    },
                    "metadata": {}
                },
                {
                    "output_type": "execute_result",
                    "metadata": {},
                    "execution_count": 32,
                    "data": {
                        "application/vnd.dataresource+json": {
                            "schema": {
                                "fields": [
                                    {
                                        "name": "total_earn"
                                    }
                                ]
                            },
                            "data": [
                                {
                                    "0": "142"
                                }
                            ]
                        },
                        "text/html": [
                            "<table>",
                            "<tr><th>total_earn</th></tr>",
                            "<tr><td>142</td></tr>",
                            "</table>"
                        ]
                    }
                }
            ],
            "execution_count": 32
        },
        {
            "cell_type": "markdown",
            "source": [
                "    3. The Pizza Runner team now wants to add an additional ratings system that allows customers to rate their runner, how would you design an additional table for this new dataset - generate a schema for this new table and insert your own data for ratings for each successful customer order between 1 to 5."
            ],
            "metadata": {
                "azdata_cell_guid": "29e520be-8531-415e-b1d6-2cc6bfd7f1c2"
            },
            "attachments": {}
        },
        {
            "cell_type": "code",
            "source": [
                "DROP TABLE IF EXISTS ratings\r\n",
                "CREATE TABLE ratings \r\n",
                " (order_id INTEGER,\r\n",
                "    rating INTEGER);\r\n",
                "INSERT INTO ratings\r\n",
                " (order_id ,rating)\r\n",
                "VALUES \r\n",
                "(1,3),\r\n",
                "(2,4),\r\n",
                "(3,5),\r\n",
                "(4,2),\r\n",
                "(5,1),\r\n",
                "(6,3),\r\n",
                "(7,4),\r\n",
                "(8,1),\r\n",
                "(9,3),\r\n",
                "(10,5); \r\n",
                "\r\n",
                "SELECT * \r\n",
                "from ratings"
            ],
            "metadata": {
                "azdata_cell_guid": "db437fc8-051d-4cfd-b925-bdd0a02ea589",
                "language": "sql"
            },
            "outputs": [
                {
                    "output_type": "display_data",
                    "data": {
                        "text/html": "(10 rows affected)"
                    },
                    "metadata": {}
                },
                {
                    "output_type": "display_data",
                    "data": {
                        "text/html": "(10 rows affected)"
                    },
                    "metadata": {}
                },
                {
                    "output_type": "display_data",
                    "data": {
                        "text/html": "Total execution time: 00:00:00.044"
                    },
                    "metadata": {}
                },
                {
                    "output_type": "execute_result",
                    "metadata": {},
                    "execution_count": 33,
                    "data": {
                        "application/vnd.dataresource+json": {
                            "schema": {
                                "fields": [
                                    {
                                        "name": "order_id"
                                    },
                                    {
                                        "name": "rating"
                                    }
                                ]
                            },
                            "data": [
                                {
                                    "0": "1",
                                    "1": "3"
                                },
                                {
                                    "0": "2",
                                    "1": "4"
                                },
                                {
                                    "0": "3",
                                    "1": "5"
                                },
                                {
                                    "0": "4",
                                    "1": "2"
                                },
                                {
                                    "0": "5",
                                    "1": "1"
                                },
                                {
                                    "0": "6",
                                    "1": "3"
                                },
                                {
                                    "0": "7",
                                    "1": "4"
                                },
                                {
                                    "0": "8",
                                    "1": "1"
                                },
                                {
                                    "0": "9",
                                    "1": "3"
                                },
                                {
                                    "0": "10",
                                    "1": "5"
                                }
                            ]
                        },
                        "text/html": [
                            "<table>",
                            "<tr><th>order_id</th><th>rating</th></tr>",
                            "<tr><td>1</td><td>3</td></tr>",
                            "<tr><td>2</td><td>4</td></tr>",
                            "<tr><td>3</td><td>5</td></tr>",
                            "<tr><td>4</td><td>2</td></tr>",
                            "<tr><td>5</td><td>1</td></tr>",
                            "<tr><td>6</td><td>3</td></tr>",
                            "<tr><td>7</td><td>4</td></tr>",
                            "<tr><td>8</td><td>1</td></tr>",
                            "<tr><td>9</td><td>3</td></tr>",
                            "<tr><td>10</td><td>5</td></tr>",
                            "</table>"
                        ]
                    }
                }
            ],
            "execution_count": 33
        },
        {
            "cell_type": "markdown",
            "source": [
                "    4. Using your newly generated table - can you join all of the information together to form a table which has the following information for successful deliveries?\r\n",
                "    - customer_id\r\n",
                "    - order_id\r\n",
                "    - runner_id\r\n",
                "    - rating\r\n",
                "    - order_time\r\n",
                "    - pickup_time\r\n",
                "    - Time between order and pickup\r\n",
                "    - Delivery duration\r\n",
                "    - Average speed\r\n",
                "    - Total number of pizzas"
            ],
            "metadata": {
                "azdata_cell_guid": "eba178f8-10d6-410d-992e-ca6284827b84"
            },
            "attachments": {}
        },
        {
            "cell_type": "code",
            "source": [
                "SELECT customer_id , \r\n",
                "        c.order_id, \r\n",
                "        runner_id, \r\n",
                "        rating, \r\n",
                "        order_time, \r\n",
                "        pickup_time, \r\n",
                "        datepart( minute,pickup_time - order_time) as Time_order_pickup, \r\n",
                "        r.duration, \r\n",
                "        round(avg(distance/duration*60),2) as avg_Speed, \r\n",
                "        COUNT(pizza_id) AS Pizza_Count\r\n",
                "FROM #customer_orders c\r\n",
                "LEFT JOIN #runner_orders r ON c.order_id = r.order_id \r\n",
                "LEFT JOIN ratings r2 ON c.order_id = r2.order_id\r\n",
                "WHERE r.cancellation is NULL\r\n",
                "GROUP BY customer_id , c.order_id, runner_id, rating, order_time, pickup_time, datepart( minute,pickup_time - order_time) , r.duration\r\n",
                "ORDER BY c.customer_id;"
            ],
            "metadata": {
                "azdata_cell_guid": "7c31cf25-9031-4152-9e0c-b1c94fec1313",
                "language": "sql"
            },
            "outputs": [
                {
                    "output_type": "display_data",
                    "data": {
                        "text/html": "(8 rows affected)"
                    },
                    "metadata": {}
                },
                {
                    "output_type": "display_data",
                    "data": {
                        "text/html": "Total execution time: 00:00:00.069"
                    },
                    "metadata": {}
                },
                {
                    "output_type": "execute_result",
                    "metadata": {},
                    "execution_count": 34,
                    "data": {
                        "application/vnd.dataresource+json": {
                            "schema": {
                                "fields": [
                                    {
                                        "name": "customer_id"
                                    },
                                    {
                                        "name": "order_id"
                                    },
                                    {
                                        "name": "runner_id"
                                    },
                                    {
                                        "name": "rating"
                                    },
                                    {
                                        "name": "order_time"
                                    },
                                    {
                                        "name": "pickup_time"
                                    },
                                    {
                                        "name": "Time_order_pickup"
                                    },
                                    {
                                        "name": "duration"
                                    },
                                    {
                                        "name": "avg_Speed"
                                    },
                                    {
                                        "name": "Pizza_Count"
                                    }
                                ]
                            },
                            "data": [
                                {
                                    "0": "101",
                                    "1": "1",
                                    "2": "1",
                                    "3": "3",
                                    "4": "2020-01-01 18:05:02.000",
                                    "5": "2020-01-01 18:15:34.000",
                                    "6": "10",
                                    "7": "32",
                                    "8": "37.5",
                                    "9": "1"
                                },
                                {
                                    "0": "101",
                                    "1": "2",
                                    "2": "1",
                                    "3": "4",
                                    "4": "2020-01-01 19:00:52.000",
                                    "5": "2020-01-01 19:10:54.000",
                                    "6": "10",
                                    "7": "27",
                                    "8": "44.44",
                                    "9": "1"
                                },
                                {
                                    "0": "102",
                                    "1": "3",
                                    "2": "1",
                                    "3": "5",
                                    "4": "2020-01-02 23:51:23.000",
                                    "5": "2020-01-03 00:12:37.000",
                                    "6": "21",
                                    "7": "20",
                                    "8": "40.2",
                                    "9": "2"
                                },
                                {
                                    "0": "102",
                                    "1": "8",
                                    "2": "2",
                                    "3": "1",
                                    "4": "2020-01-09 23:54:33.000",
                                    "5": "2020-01-10 00:15:02.000",
                                    "6": "20",
                                    "7": "15",
                                    "8": "93.6",
                                    "9": "1"
                                },
                                {
                                    "0": "103",
                                    "1": "4",
                                    "2": "2",
                                    "3": "2",
                                    "4": "2020-01-04 13:23:46.000",
                                    "5": "2020-01-04 13:53:03.000",
                                    "6": "29",
                                    "7": "40",
                                    "8": "35.1",
                                    "9": "3"
                                },
                                {
                                    "0": "104",
                                    "1": "5",
                                    "2": "3",
                                    "3": "1",
                                    "4": "2020-01-08 21:00:29.000",
                                    "5": "2020-01-08 21:10:57.000",
                                    "6": "10",
                                    "7": "15",
                                    "8": "40",
                                    "9": "1"
                                },
                                {
                                    "0": "104",
                                    "1": "10",
                                    "2": "1",
                                    "3": "5",
                                    "4": "2020-01-11 18:34:49.000",
                                    "5": "2020-01-11 18:50:20.000",
                                    "6": "15",
                                    "7": "10",
                                    "8": "60",
                                    "9": "2"
                                },
                                {
                                    "0": "105",
                                    "1": "7",
                                    "2": "2",
                                    "3": "4",
                                    "4": "2020-01-08 21:20:29.000",
                                    "5": "2020-01-08 21:30:45.000",
                                    "6": "10",
                                    "7": "25",
                                    "8": "60",
                                    "9": "1"
                                }
                            ]
                        },
                        "text/html": [
                            "<table>",
                            "<tr><th>customer_id</th><th>order_id</th><th>runner_id</th><th>rating</th><th>order_time</th><th>pickup_time</th><th>Time_order_pickup</th><th>duration</th><th>avg_Speed</th><th>Pizza_Count</th></tr>",
                            "<tr><td>101</td><td>1</td><td>1</td><td>3</td><td>2020-01-01 18:05:02.000</td><td>2020-01-01 18:15:34.000</td><td>10</td><td>32</td><td>37.5</td><td>1</td></tr>",
                            "<tr><td>101</td><td>2</td><td>1</td><td>4</td><td>2020-01-01 19:00:52.000</td><td>2020-01-01 19:10:54.000</td><td>10</td><td>27</td><td>44.44</td><td>1</td></tr>",
                            "<tr><td>102</td><td>3</td><td>1</td><td>5</td><td>2020-01-02 23:51:23.000</td><td>2020-01-03 00:12:37.000</td><td>21</td><td>20</td><td>40.2</td><td>2</td></tr>",
                            "<tr><td>102</td><td>8</td><td>2</td><td>1</td><td>2020-01-09 23:54:33.000</td><td>2020-01-10 00:15:02.000</td><td>20</td><td>15</td><td>93.6</td><td>1</td></tr>",
                            "<tr><td>103</td><td>4</td><td>2</td><td>2</td><td>2020-01-04 13:23:46.000</td><td>2020-01-04 13:53:03.000</td><td>29</td><td>40</td><td>35.1</td><td>3</td></tr>",
                            "<tr><td>104</td><td>5</td><td>3</td><td>1</td><td>2020-01-08 21:00:29.000</td><td>2020-01-08 21:10:57.000</td><td>10</td><td>15</td><td>40</td><td>1</td></tr>",
                            "<tr><td>104</td><td>10</td><td>1</td><td>5</td><td>2020-01-11 18:34:49.000</td><td>2020-01-11 18:50:20.000</td><td>15</td><td>10</td><td>60</td><td>2</td></tr>",
                            "<tr><td>105</td><td>7</td><td>2</td><td>4</td><td>2020-01-08 21:20:29.000</td><td>2020-01-08 21:30:45.000</td><td>10</td><td>25</td><td>60</td><td>1</td></tr>",
                            "</table>"
                        ]
                    }
                }
            ],
            "execution_count": 34
        },
        {
            "cell_type": "markdown",
            "source": [
                "    5. If a Meat Lovers pizza was $12 and Vegetarian $10 fixed prices with no cost for extras and each runner is paid $0.30 per kilometre traveled - how much money does Pizza Runner have left over after these deliveries?"
            ],
            "metadata": {
                "azdata_cell_guid": "6c566493-80b9-4e72-be1a-08e29733dd9c"
            },
            "attachments": {}
        },
        {
            "cell_type": "code",
            "source": [
                "WITH CTE AS (SELECT c.order_id,\r\n",
                "                    SUM(CASE WHEN pizza_name = 'Meatlovers' THEN 12\r\n",
                "                          ELSE 10 END) AS pizza_cost\r\n",
                "             FROM pizza_names p\r\n",
                "             JOIN #customer_orders c ON p.pizza_id =c.pizza_id\r\n",
                "             GROUP BY c.order_id) \r\n",
                "\r\n",
                "SELECT SUM(pizza_cost) AS revenue, \r\n",
                "       SUM(distance) *0.3 as total_cost,\r\n",
                "       SUM(pizza_cost) - SUM(distance)*0.3 as profit\r\n",
                "FROM #runner_orders r \r\n",
                "JOIN CTE c ON R.order_id =C.order_id\r\n",
                "WHERE r.cancellation is NULL"
            ],
            "metadata": {
                "azdata_cell_guid": "565fe903-0e8d-4bfa-8cd2-6a7c7aea6f5e",
                "language": "sql"
            },
            "outputs": [
                {
                    "output_type": "display_data",
                    "data": {
                        "text/html": "(1 row affected)"
                    },
                    "metadata": {}
                },
                {
                    "output_type": "display_data",
                    "data": {
                        "text/html": "Total execution time: 00:00:00.018"
                    },
                    "metadata": {}
                },
                {
                    "output_type": "execute_result",
                    "metadata": {},
                    "execution_count": 35,
                    "data": {
                        "application/vnd.dataresource+json": {
                            "schema": {
                                "fields": [
                                    {
                                        "name": "revenue"
                                    },
                                    {
                                        "name": "total_cost"
                                    },
                                    {
                                        "name": "profit"
                                    }
                                ]
                            },
                            "data": [
                                {
                                    "0": "138",
                                    "1": "43.559999999999995",
                                    "2": "94.44"
                                }
                            ]
                        },
                        "text/html": [
                            "<table>",
                            "<tr><th>revenue</th><th>total_cost</th><th>profit</th></tr>",
                            "<tr><td>138</td><td>43.559999999999995</td><td>94.44</td></tr>",
                            "</table>"
                        ]
                    }
                }
            ],
            "execution_count": 35
        }
    ]
}